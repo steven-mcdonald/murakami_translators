{
 "cells": [
  {
   "cell_type": "markdown",
   "metadata": {},
   "source": [
    "# <span style=\"color:red\"> Logistic Regression: Re-run with new train/test split</span>\n",
    "\n",
    "* As the initial train/test split was performed on a random shuffle of all the chunks of text available there is the risk that the model is learning something of the style of the books themselves rather than the translator's. \n",
    "* The ideal solution would be to have the same text translated by each of the three translators. In the case of Haruki Murakami there is generally only one English language version of each of his novels available.  Fortunately one of his novels, 'Norwegian Wood' was first translated into English by Alfred Birnbaum for the Japanese market before being re-translated by Jay Rubin for the foreign market. I have the complete Rubin version and a few chapters of the Birnbaum version. Also the first chapter of 'A Wind-up Bird Chronicle' which was translated by Jay Rubin is also available as a short story in the collection 'The Elephant Vanishes', this time translated by Alfred Birnbaum.\n",
    "* This notebook will therefore use these texts, which have the same Japanese source and two different translators, as the test set and train the model on the remaining texts. If the model is successful at predicting the translator We should therefore generate a model which is only differentiating on the translators style and not the theme or content of the books which is identical. \n",
    "\n",
    "**Test set 'Norwegian Wood' and 'Wind Up Bird Chronicle Chapter 1'- both are translated by Jay Rubin and again by Alfred Birnbaum**"
   ]
  },
  {
   "cell_type": "code",
   "execution_count": 49,
   "metadata": {
    "ExecuteTime": {
     "end_time": "2020-06-11T09:00:40.752707Z",
     "start_time": "2020-06-11T09:00:40.726236Z"
    }
   },
   "outputs": [],
   "source": [
    "import pandas as pd\n",
    "import numpy as np\n",
    "import matplotlib.pyplot as plt\n",
    "import seaborn as sns\n",
    "import textacy\n",
    "import re\n",
    "import pickle\n",
    "import os\n",
    "\n",
    "from collections import Counter\n",
    "\n",
    "from sklearn.model_selection import train_test_split, cross_val_score, GridSearchCV\n",
    "from sklearn.preprocessing import StandardScaler\n",
    "from sklearn.linear_model import LogisticRegression, LogisticRegressionCV\n",
    "from sklearn.metrics import confusion_matrix, classification_report, average_precision_score, roc_auc_score\n",
    "from sklearn.feature_extraction import DictVectorizer\n",
    "from sklearn.preprocessing import label_binarize\n",
    "\n",
    "import scikitplot as skplt\n",
    "from matplotlib.colors import ListedColormap\n",
    "cmap = ListedColormap(sns.color_palette(\"husl\", 3))\n",
    "\n",
    "from vaderSentiment.vaderSentiment import SentimentIntensityAnalyzer\n",
    "\n",
    "# import class to run modelling steps\n",
    "from translator_modelling import Modelling\n",
    "\n",
    "plt.style.use('ggplot')\n",
    "\n",
    "%config InlineBackend.figure_format = 'retina'\n",
    "%matplotlib inline\n",
    "\n",
    "# extend limit of number of rows and columns to display in cell\n",
    "pd.options.display.max_rows = 100\n",
    "pd.options.display.max_columns = 100"
   ]
  },
  {
   "cell_type": "markdown",
   "metadata": {},
   "source": [
    "### Load the dataframe containing text chunks and related variables"
   ]
  },
  {
   "cell_type": "code",
   "execution_count": 50,
   "metadata": {
    "ExecuteTime": {
     "end_time": "2020-06-11T09:01:13.225791Z",
     "start_time": "2020-06-11T09:00:41.843778Z"
    }
   },
   "outputs": [],
   "source": [
    "in_full_path = '../../../../Documents/murakami/pkl3/df_all_v02.pkl'\n",
    "# read back pickle\n",
    "with open (in_full_path, 'rb') as fp:\n",
    "    df = pickle.load(fp)"
   ]
  },
  {
   "cell_type": "markdown",
   "metadata": {},
   "source": [
    "### Check the dataframe is as expected"
   ]
  },
  {
   "cell_type": "code",
   "execution_count": 51,
   "metadata": {
    "ExecuteTime": {
     "end_time": "2020-06-11T09:01:13.331854Z",
     "start_time": "2020-06-11T09:01:13.229213Z"
    }
   },
   "outputs": [
    {
     "data": {
      "text/html": [
       "<div>\n",
       "<style scoped>\n",
       "    .dataframe tbody tr th:only-of-type {\n",
       "        vertical-align: middle;\n",
       "    }\n",
       "\n",
       "    .dataframe tbody tr th {\n",
       "        vertical-align: top;\n",
       "    }\n",
       "\n",
       "    .dataframe thead th {\n",
       "        text-align: right;\n",
       "    }\n",
       "</style>\n",
       "<table border=\"1\" class=\"dataframe\">\n",
       "  <thead>\n",
       "    <tr style=\"text-align: right;\">\n",
       "      <th></th>\n",
       "      <th>book_chunk_no</th>\n",
       "      <th>number</th>\n",
       "      <th>title</th>\n",
       "      <th>text</th>\n",
       "      <th>fstop_indices</th>\n",
       "      <th>split_indices</th>\n",
       "      <th>chunks</th>\n",
       "      <th>translator</th>\n",
       "      <th>book_title</th>\n",
       "      <th>parsed</th>\n",
       "      <th>n_sents</th>\n",
       "      <th>n_words</th>\n",
       "      <th>n_chars</th>\n",
       "      <th>n_syllables</th>\n",
       "      <th>n_unique_words</th>\n",
       "      <th>n_long_words</th>\n",
       "      <th>n_monosyllable_words</th>\n",
       "      <th>n_polysyllable_words</th>\n",
       "      <th>trans_code</th>\n",
       "      <th>chunk_length</th>\n",
       "      <th>n_sents_norm</th>\n",
       "      <th>n_words_norm</th>\n",
       "      <th>n_chars_norm</th>\n",
       "      <th>n_syllables_norm</th>\n",
       "      <th>n_unique_words_norm</th>\n",
       "      <th>n_long_words_norm</th>\n",
       "      <th>n_monosyllable_words_norm</th>\n",
       "      <th>n_polysyllable_words_norm</th>\n",
       "      <th>vader_compound</th>\n",
       "      <th>vader_neg</th>\n",
       "      <th>vader_neu</th>\n",
       "      <th>vader_pos</th>\n",
       "      <th>pron_count</th>\n",
       "      <th>verb_count</th>\n",
       "      <th>det_count</th>\n",
       "      <th>adj_count</th>\n",
       "      <th>num_count</th>\n",
       "      <th>punct_count</th>\n",
       "      <th>noun_count</th>\n",
       "      <th>adp_count</th>\n",
       "      <th>cconj_count</th>\n",
       "      <th>sconj_count</th>\n",
       "      <th>adv_count</th>\n",
       "      <th>aux_count</th>\n",
       "      <th>part_count</th>\n",
       "      <th>propn_count</th>\n",
       "      <th>space_count</th>\n",
       "      <th>intj_count</th>\n",
       "      <th>sym_count</th>\n",
       "      <th>x_count</th>\n",
       "      <th>...</th>\n",
       "      <th>then_adv</th>\n",
       "      <th>more_adv</th>\n",
       "      <th>even_adv</th>\n",
       "      <th>why_adv</th>\n",
       "      <th>maybe_adv</th>\n",
       "      <th>again_adv</th>\n",
       "      <th>now_adv</th>\n",
       "      <th>just_adv</th>\n",
       "      <th>how_adv</th>\n",
       "      <th>where_adv</th>\n",
       "      <th>very_adv</th>\n",
       "      <th>only_adv</th>\n",
       "      <th>there_adv</th>\n",
       "      <th>still_adv</th>\n",
       "      <th>so_adv</th>\n",
       "      <th>too_adv</th>\n",
       "      <th>when_adv</th>\n",
       "      <th>all_adv</th>\n",
       "      <th>here_adv</th>\n",
       "      <th>never_adv</th>\n",
       "      <th>as_adv</th>\n",
       "      <th>new_adj</th>\n",
       "      <th>other_adj</th>\n",
       "      <th>more_adj</th>\n",
       "      <th>small_adj</th>\n",
       "      <th>deep_adj</th>\n",
       "      <th>whole_adj</th>\n",
       "      <th>first_adj</th>\n",
       "      <th>bad_adj</th>\n",
       "      <th>little_adj</th>\n",
       "      <th>next_adj</th>\n",
       "      <th>much_adj</th>\n",
       "      <th>own_adj</th>\n",
       "      <th>hard_adj</th>\n",
       "      <th>last_adj</th>\n",
       "      <th>only_adj</th>\n",
       "      <th>big_adj</th>\n",
       "      <th>right_adj</th>\n",
       "      <th>long_adj</th>\n",
       "      <th>old_adj</th>\n",
       "      <th>strange_adj</th>\n",
       "      <th>same_adj</th>\n",
       "      <th>young_adj</th>\n",
       "      <th>sure_adj</th>\n",
       "      <th>able_adj</th>\n",
       "      <th>real_adj</th>\n",
       "      <th>different_adj</th>\n",
       "      <th>good_adj</th>\n",
       "      <th>few_adj</th>\n",
       "      <th>vlong_words_count</th>\n",
       "    </tr>\n",
       "  </thead>\n",
       "  <tbody>\n",
       "    <tr>\n",
       "      <th>0</th>\n",
       "      <td>0</td>\n",
       "      <td>1</td>\n",
       "      <td>Wednesday Afternoon Picnic</td>\n",
       "      <td>IT WAS A  short one-paragraph item in the morn...</td>\n",
       "      <td>[57, 97, 115, 196, 318, 385, 420, 445, 504, 65...</td>\n",
       "      <td>[967, 1924, 2998, 3982, 4935, 5975, 6995, 7961...</td>\n",
       "      <td>IT WAS A short one-paragraph item in the morni...</td>\n",
       "      <td>Alfred Birnbaum</td>\n",
       "      <td>A Wild Sheep Chase</td>\n",
       "      <td>(IT, WAS, A, short, one, -, paragraph, item, i...</td>\n",
       "      <td>15</td>\n",
       "      <td>174</td>\n",
       "      <td>742</td>\n",
       "      <td>240</td>\n",
       "      <td>116</td>\n",
       "      <td>33</td>\n",
       "      <td>128</td>\n",
       "      <td>17</td>\n",
       "      <td>0</td>\n",
       "      <td>944</td>\n",
       "      <td>15.889831</td>\n",
       "      <td>184.322034</td>\n",
       "      <td>786.016949</td>\n",
       "      <td>254.237288</td>\n",
       "      <td>122.881356</td>\n",
       "      <td>34.957627</td>\n",
       "      <td>135.59322</td>\n",
       "      <td>18.008475</td>\n",
       "      <td>-0.4798</td>\n",
       "      <td>0.075</td>\n",
       "      <td>0.862</td>\n",
       "      <td>0.064</td>\n",
       "      <td>18.0</td>\n",
       "      <td>20.0</td>\n",
       "      <td>31.0</td>\n",
       "      <td>9.0</td>\n",
       "      <td>2.0</td>\n",
       "      <td>33.0</td>\n",
       "      <td>51.0</td>\n",
       "      <td>19.0</td>\n",
       "      <td>6.0</td>\n",
       "      <td>3.0</td>\n",
       "      <td>5.0</td>\n",
       "      <td>5.0</td>\n",
       "      <td>3.0</td>\n",
       "      <td>2.0</td>\n",
       "      <td>0.0</td>\n",
       "      <td>0.0</td>\n",
       "      <td>0.0</td>\n",
       "      <td>0.0</td>\n",
       "      <td>...</td>\n",
       "      <td>0</td>\n",
       "      <td>0</td>\n",
       "      <td>1</td>\n",
       "      <td>0</td>\n",
       "      <td>0</td>\n",
       "      <td>0</td>\n",
       "      <td>0</td>\n",
       "      <td>0</td>\n",
       "      <td>0</td>\n",
       "      <td>1</td>\n",
       "      <td>0</td>\n",
       "      <td>0</td>\n",
       "      <td>0</td>\n",
       "      <td>0</td>\n",
       "      <td>0</td>\n",
       "      <td>0</td>\n",
       "      <td>0</td>\n",
       "      <td>0</td>\n",
       "      <td>0</td>\n",
       "      <td>0</td>\n",
       "      <td>0</td>\n",
       "      <td>0</td>\n",
       "      <td>0</td>\n",
       "      <td>0</td>\n",
       "      <td>0</td>\n",
       "      <td>0</td>\n",
       "      <td>1</td>\n",
       "      <td>0</td>\n",
       "      <td>0</td>\n",
       "      <td>0</td>\n",
       "      <td>0</td>\n",
       "      <td>0</td>\n",
       "      <td>0</td>\n",
       "      <td>0</td>\n",
       "      <td>0</td>\n",
       "      <td>0</td>\n",
       "      <td>0</td>\n",
       "      <td>0</td>\n",
       "      <td>0</td>\n",
       "      <td>1</td>\n",
       "      <td>0</td>\n",
       "      <td>0</td>\n",
       "      <td>0</td>\n",
       "      <td>0</td>\n",
       "      <td>0</td>\n",
       "      <td>0</td>\n",
       "      <td>0</td>\n",
       "      <td>0</td>\n",
       "      <td>0</td>\n",
       "      <td>0</td>\n",
       "    </tr>\n",
       "  </tbody>\n",
       "</table>\n",
       "<p>1 rows × 142 columns</p>\n",
       "</div>"
      ],
      "text/plain": [
       "   book_chunk_no number                       title  \\\n",
       "0              0      1  Wednesday Afternoon Picnic   \n",
       "\n",
       "                                                text  \\\n",
       "0  IT WAS A  short one-paragraph item in the morn...   \n",
       "\n",
       "                                       fstop_indices  \\\n",
       "0  [57, 97, 115, 196, 318, 385, 420, 445, 504, 65...   \n",
       "\n",
       "                                       split_indices  \\\n",
       "0  [967, 1924, 2998, 3982, 4935, 5975, 6995, 7961...   \n",
       "\n",
       "                                              chunks       translator  \\\n",
       "0  IT WAS A short one-paragraph item in the morni...  Alfred Birnbaum   \n",
       "\n",
       "           book_title                                             parsed  \\\n",
       "0  A Wild Sheep Chase  (IT, WAS, A, short, one, -, paragraph, item, i...   \n",
       "\n",
       "   n_sents  n_words  n_chars  n_syllables  n_unique_words  n_long_words  \\\n",
       "0       15      174      742          240             116            33   \n",
       "\n",
       "   n_monosyllable_words  n_polysyllable_words  trans_code  chunk_length  \\\n",
       "0                   128                    17           0           944   \n",
       "\n",
       "   n_sents_norm  n_words_norm  n_chars_norm  n_syllables_norm  \\\n",
       "0     15.889831    184.322034    786.016949        254.237288   \n",
       "\n",
       "   n_unique_words_norm  n_long_words_norm  n_monosyllable_words_norm  \\\n",
       "0           122.881356          34.957627                  135.59322   \n",
       "\n",
       "   n_polysyllable_words_norm  vader_compound  vader_neg  vader_neu  vader_pos  \\\n",
       "0                  18.008475         -0.4798      0.075      0.862      0.064   \n",
       "\n",
       "   pron_count  verb_count  det_count  adj_count  num_count  punct_count  \\\n",
       "0        18.0        20.0       31.0        9.0        2.0         33.0   \n",
       "\n",
       "   noun_count  adp_count  cconj_count  sconj_count  adv_count  aux_count  \\\n",
       "0        51.0       19.0          6.0          3.0        5.0        5.0   \n",
       "\n",
       "   part_count  propn_count  space_count  intj_count  sym_count  x_count  ...  \\\n",
       "0         3.0          2.0          0.0         0.0        0.0      0.0  ...   \n",
       "\n",
       "   then_adv  more_adv  even_adv  why_adv  maybe_adv  again_adv  now_adv  \\\n",
       "0         0         0         1        0          0          0        0   \n",
       "\n",
       "   just_adv  how_adv  where_adv  very_adv  only_adv  there_adv  still_adv  \\\n",
       "0         0        0          1         0         0          0          0   \n",
       "\n",
       "   so_adv  too_adv  when_adv  all_adv  here_adv  never_adv  as_adv  new_adj  \\\n",
       "0       0        0         0        0         0          0       0        0   \n",
       "\n",
       "   other_adj  more_adj  small_adj  deep_adj  whole_adj  first_adj  bad_adj  \\\n",
       "0          0         0          0         0          1          0        0   \n",
       "\n",
       "   little_adj  next_adj  much_adj  own_adj  hard_adj  last_adj only_adj  \\\n",
       "0           0         0         0        0         0         0        0   \n",
       "\n",
       "  big_adj right_adj long_adj  old_adj  strange_adj  same_adj  young_adj  \\\n",
       "0       0         0        0        1            0         0          0   \n",
       "\n",
       "   sure_adj  able_adj  real_adj  different_adj  good_adj  few_adj  \\\n",
       "0         0         0         0              0         0        0   \n",
       "\n",
       "   vlong_words_count  \n",
       "0                  0  \n",
       "\n",
       "[1 rows x 142 columns]"
      ]
     },
     "execution_count": 51,
     "metadata": {},
     "output_type": "execute_result"
    }
   ],
   "source": [
    "df.head(1)"
   ]
  },
  {
   "cell_type": "code",
   "execution_count": 52,
   "metadata": {
    "ExecuteTime": {
     "end_time": "2020-06-11T09:01:13.360742Z",
     "start_time": "2020-06-11T09:01:13.335101Z"
    }
   },
   "outputs": [
    {
     "data": {
      "text/plain": [
       "(5212, 142)"
      ]
     },
     "execution_count": 52,
     "metadata": {},
     "output_type": "execute_result"
    }
   ],
   "source": [
    "df.shape"
   ]
  },
  {
   "cell_type": "markdown",
   "metadata": {},
   "source": [
    "## Choose predictor features - dropping the words 'had' and 'he'"
   ]
  },
  {
   "cell_type": "code",
   "execution_count": 53,
   "metadata": {
    "ExecuteTime": {
     "end_time": "2020-06-11T09:01:13.383692Z",
     "start_time": "2020-06-11T09:01:13.368192Z"
    }
   },
   "outputs": [],
   "source": [
    "# prepare modelling\n",
    "model = LogisticRegression(solver='liblinear', multi_class='ovr', max_iter=1000)\n",
    "lr = Modelling(df, model)\n",
    "\n",
    "# select feature groups for modelling\n",
    "predictor_cols = lr.feature_select(basic_counts=True, pos_counts=True, words=True, adj=True, adv=True)\n",
    "\n",
    "# drop some individual features eg. those potentially related to page formatting\n",
    "cols_to_drop = ['num_count_norm', 'punct_count_norm','space_count_norm', 'sym_count_norm', 'x_count_norm',\n",
    "                'he_w', 'had_w']\n",
    "predictor_cols = lr.drop_features(predictor_cols, cols_to_drop)"
   ]
  },
  {
   "cell_type": "markdown",
   "metadata": {},
   "source": [
    "### Set Target and Predictor variables"
   ]
  },
  {
   "cell_type": "code",
   "execution_count": 54,
   "metadata": {
    "ExecuteTime": {
     "end_time": "2020-06-11T09:01:13.403119Z",
     "start_time": "2020-06-11T09:01:13.387591Z"
    }
   },
   "outputs": [],
   "source": [
    "X = df[predictor_cols]\n",
    "y = df['trans_code']"
   ]
  },
  {
   "cell_type": "markdown",
   "metadata": {},
   "source": [
    "## Version 1 - 3 translators in training set, 2 translators in test set\n",
    "\n",
    "* Train Test Split with Test as both versions of Norwegian Wood and WUBC chapter 1\n",
    "* Training set still includes Philip Gabriel Books"
   ]
  },
  {
   "cell_type": "code",
   "execution_count": 55,
   "metadata": {
    "ExecuteTime": {
     "end_time": "2020-06-11T09:01:13.430946Z",
     "start_time": "2020-06-11T09:01:13.407514Z"
    }
   },
   "outputs": [
    {
     "data": {
      "text/plain": [
       "array(['A Wild Sheep Chase', 'Kafka On The Shore',\n",
       "       'Colorless Tsukuru Tazaki', 'The Elephant Vanishes',\n",
       "       'The Wind Up Bird Chronicle', 'Norwegian Wood',\n",
       "       'Dance Dance Dance'], dtype=object)"
      ]
     },
     "execution_count": 55,
     "metadata": {},
     "output_type": "execute_result"
    }
   ],
   "source": [
    "df['book_title'].unique()"
   ]
  },
  {
   "cell_type": "markdown",
   "metadata": {},
   "source": [
    "### Check first chunk of Birnbaum version of Norwegian Wood\n",
    "* Only a few later chapters of the Birnbaum version are available"
   ]
  },
  {
   "cell_type": "code",
   "execution_count": 56,
   "metadata": {
    "ExecuteTime": {
     "end_time": "2020-06-11T09:01:13.450911Z",
     "start_time": "2020-06-11T09:01:13.433727Z"
    }
   },
   "outputs": [
    {
     "data": {
      "text/plain": [
       "'The scene at dinner was pretty much the same as the evening before-same faces and talk and at\\xadmosphere. Only the menu had changed. The lab\\xadcoated man who had talked about stomach secretions under weightless conditions joined our table and told us about brain size in correlation to its abilities. He told us about the brain capacities of Napoleon and Bismarck while we ate something called soyburger steak. He pushed his plate aside and, pulling out a notepad, began to draw a diagram of the brain in ballpoint. \"No, that’s not quite right,\" he’d say, then start over. When he finally finished the drawing to his satisfaction, he returned the notepad to a pocket of his lab coat and slipped the pen into his breast pocket. That made three ballpoint pens, a pencil, and a ruler in his breast pocket. \"Winter’s great here, I tell you. You simply must come next winter,\" he said as he left, same as yesterday. \"Is he a doctor or a patient?\" was all I could think to ask Reiko.'"
      ]
     },
     "execution_count": 56,
     "metadata": {},
     "output_type": "execute_result"
    }
   ],
   "source": [
    "df[(df['book_title'] == 'Norwegian Wood') & (df['translator'] == 'Alfred Birnbaum')] \\\n",
    "            ['chunks'].iloc[0]"
   ]
  },
  {
   "cell_type": "markdown",
   "metadata": {},
   "source": [
    "### As the chapter numbers are not available for the Rubin version. We need to find the equivalent chunk\n",
    "* We can look for a chunk containing the word 'Napoleon' and translated by Rubin\n",
    "* Then use that chunk as the start of the selectiong for his translation"
   ]
  },
  {
   "cell_type": "code",
   "execution_count": 57,
   "metadata": {
    "ExecuteTime": {
     "end_time": "2020-06-11T09:01:13.476560Z",
     "start_time": "2020-06-11T09:01:13.459798Z"
    }
   },
   "outputs": [
    {
     "data": {
      "text/plain": [
       "'\"Tell me all about his, uh, you know, later.\" \"We didn’t do any of that,\" said Naoko, reddening. \"Really?\" Reiko asked me. \"Nothing?\" \"Nothing,\" I said. \"Bo-o-o-ring!\" she said with a bored look on her face. \"True,\" I said, sipping my coffee. The scene in the dining hall was the same as the day before - the mood, the voices, the faces. Only the menu had changed. The balding man in white, who yesterday had been talking about the secretion of gastric juices under weightless conditions, joined the three of us at our table and talked for a long time about the correlation of brain size to intelligence. As we ate our soybean burgers, we heard all about the volume of Bismarck’s brain and Napoleon’s. He pushed his plate aside and used a ballpoint pen and notepaper to draw sketches of brains. He would start to draw, declare \"No, that’s not quite it\", and begin a new one. This happened several times.'"
      ]
     },
     "execution_count": 57,
     "metadata": {},
     "output_type": "execute_result"
    }
   ],
   "source": [
    "def check_word(x):\n",
    "    if 'Napoleon' in x:\n",
    "        return x\n",
    "    \n",
    "df[(df['book_title'] == 'Norwegian Wood') & (df['translator'] == 'Jay Rubin')] \\\n",
    "            ['chunks'].apply(lambda x: check_word(x)).dropna().iloc[0]"
   ]
  },
  {
   "cell_type": "code",
   "execution_count": 58,
   "metadata": {
    "ExecuteTime": {
     "end_time": "2020-06-11T09:01:13.519858Z",
     "start_time": "2020-06-11T09:01:13.482797Z"
    }
   },
   "outputs": [],
   "source": [
    "def check_word_flag(x):\n",
    "    if 'Napoleon' in x:\n",
    "        return True\n",
    "    \n",
    "df_temp = df.copy()\n",
    "df_temp['napoleon'] = df[(df['book_title'] == 'Norwegian Wood') & (df['translator'] == 'Jay Rubin')] \\\n",
    "            ['chunks'].apply(lambda x: check_word_flag(x))"
   ]
  },
  {
   "cell_type": "code",
   "execution_count": 59,
   "metadata": {
    "ExecuteTime": {
     "end_time": "2020-06-11T09:01:13.599005Z",
     "start_time": "2020-06-11T09:01:13.522368Z"
    }
   },
   "outputs": [
    {
     "data": {
      "text/html": [
       "<div>\n",
       "<style scoped>\n",
       "    .dataframe tbody tr th:only-of-type {\n",
       "        vertical-align: middle;\n",
       "    }\n",
       "\n",
       "    .dataframe tbody tr th {\n",
       "        vertical-align: top;\n",
       "    }\n",
       "\n",
       "    .dataframe thead th {\n",
       "        text-align: right;\n",
       "    }\n",
       "</style>\n",
       "<table border=\"1\" class=\"dataframe\">\n",
       "  <thead>\n",
       "    <tr style=\"text-align: right;\">\n",
       "      <th></th>\n",
       "      <th>book_chunk_no</th>\n",
       "      <th>number</th>\n",
       "      <th>title</th>\n",
       "      <th>text</th>\n",
       "      <th>fstop_indices</th>\n",
       "      <th>split_indices</th>\n",
       "      <th>chunks</th>\n",
       "      <th>translator</th>\n",
       "      <th>book_title</th>\n",
       "      <th>parsed</th>\n",
       "      <th>n_sents</th>\n",
       "      <th>n_words</th>\n",
       "      <th>n_chars</th>\n",
       "      <th>n_syllables</th>\n",
       "      <th>n_unique_words</th>\n",
       "      <th>n_long_words</th>\n",
       "      <th>n_monosyllable_words</th>\n",
       "      <th>n_polysyllable_words</th>\n",
       "      <th>trans_code</th>\n",
       "      <th>chunk_length</th>\n",
       "      <th>n_sents_norm</th>\n",
       "      <th>n_words_norm</th>\n",
       "      <th>n_chars_norm</th>\n",
       "      <th>n_syllables_norm</th>\n",
       "      <th>n_unique_words_norm</th>\n",
       "      <th>n_long_words_norm</th>\n",
       "      <th>n_monosyllable_words_norm</th>\n",
       "      <th>n_polysyllable_words_norm</th>\n",
       "      <th>vader_compound</th>\n",
       "      <th>vader_neg</th>\n",
       "      <th>vader_neu</th>\n",
       "      <th>vader_pos</th>\n",
       "      <th>pron_count</th>\n",
       "      <th>verb_count</th>\n",
       "      <th>det_count</th>\n",
       "      <th>adj_count</th>\n",
       "      <th>num_count</th>\n",
       "      <th>punct_count</th>\n",
       "      <th>noun_count</th>\n",
       "      <th>adp_count</th>\n",
       "      <th>cconj_count</th>\n",
       "      <th>sconj_count</th>\n",
       "      <th>adv_count</th>\n",
       "      <th>aux_count</th>\n",
       "      <th>part_count</th>\n",
       "      <th>propn_count</th>\n",
       "      <th>space_count</th>\n",
       "      <th>intj_count</th>\n",
       "      <th>sym_count</th>\n",
       "      <th>x_count</th>\n",
       "      <th>...</th>\n",
       "      <th>more_adv</th>\n",
       "      <th>even_adv</th>\n",
       "      <th>why_adv</th>\n",
       "      <th>maybe_adv</th>\n",
       "      <th>again_adv</th>\n",
       "      <th>now_adv</th>\n",
       "      <th>just_adv</th>\n",
       "      <th>how_adv</th>\n",
       "      <th>where_adv</th>\n",
       "      <th>very_adv</th>\n",
       "      <th>only_adv</th>\n",
       "      <th>there_adv</th>\n",
       "      <th>still_adv</th>\n",
       "      <th>so_adv</th>\n",
       "      <th>too_adv</th>\n",
       "      <th>when_adv</th>\n",
       "      <th>all_adv</th>\n",
       "      <th>here_adv</th>\n",
       "      <th>never_adv</th>\n",
       "      <th>as_adv</th>\n",
       "      <th>new_adj</th>\n",
       "      <th>other_adj</th>\n",
       "      <th>more_adj</th>\n",
       "      <th>small_adj</th>\n",
       "      <th>deep_adj</th>\n",
       "      <th>whole_adj</th>\n",
       "      <th>first_adj</th>\n",
       "      <th>bad_adj</th>\n",
       "      <th>little_adj</th>\n",
       "      <th>next_adj</th>\n",
       "      <th>much_adj</th>\n",
       "      <th>own_adj</th>\n",
       "      <th>hard_adj</th>\n",
       "      <th>last_adj</th>\n",
       "      <th>only_adj</th>\n",
       "      <th>big_adj</th>\n",
       "      <th>right_adj</th>\n",
       "      <th>long_adj</th>\n",
       "      <th>old_adj</th>\n",
       "      <th>strange_adj</th>\n",
       "      <th>same_adj</th>\n",
       "      <th>young_adj</th>\n",
       "      <th>sure_adj</th>\n",
       "      <th>able_adj</th>\n",
       "      <th>real_adj</th>\n",
       "      <th>different_adj</th>\n",
       "      <th>good_adj</th>\n",
       "      <th>few_adj</th>\n",
       "      <th>vlong_words_count</th>\n",
       "      <th>napoleon</th>\n",
       "    </tr>\n",
       "  </thead>\n",
       "  <tbody>\n",
       "    <tr>\n",
       "      <th>3996</th>\n",
       "      <td>321</td>\n",
       "      <td>2</td>\n",
       "      <td>Book 2</td>\n",
       "      <td>m\\n \\nsf Thanks for your letter,\\n wrote Naoko...</td>\n",
       "      <td>[43, 88, 213, 296, 343, 376, 480, 632, 695, 74...</td>\n",
       "      <td>[924, 1926, 2925, 3997, 4861, 5754, 6924, 7914...</td>\n",
       "      <td>\"Tell me all about his, uh, you know, later.\" ...</td>\n",
       "      <td>Jay Rubin</td>\n",
       "      <td>Norwegian Wood</td>\n",
       "      <td>(\", Tell, me, all, about, his, ,, uh, ,, you, ...</td>\n",
       "      <td>18</td>\n",
       "      <td>168</td>\n",
       "      <td>690</td>\n",
       "      <td>212</td>\n",
       "      <td>118</td>\n",
       "      <td>24</td>\n",
       "      <td>135</td>\n",
       "      <td>9</td>\n",
       "      <td>1</td>\n",
       "      <td>903</td>\n",
       "      <td>19.933555</td>\n",
       "      <td>186.046512</td>\n",
       "      <td>764.119601</td>\n",
       "      <td>234.772979</td>\n",
       "      <td>130.675526</td>\n",
       "      <td>26.578073</td>\n",
       "      <td>149.501661</td>\n",
       "      <td>9.966777</td>\n",
       "      <td>0.6654</td>\n",
       "      <td>0.013</td>\n",
       "      <td>0.948</td>\n",
       "      <td>0.039</td>\n",
       "      <td>16.0</td>\n",
       "      <td>25.0</td>\n",
       "      <td>28.0</td>\n",
       "      <td>9.0</td>\n",
       "      <td>2.0</td>\n",
       "      <td>53.0</td>\n",
       "      <td>36.0</td>\n",
       "      <td>20.0</td>\n",
       "      <td>5.0</td>\n",
       "      <td>2.0</td>\n",
       "      <td>6.0</td>\n",
       "      <td>6.0</td>\n",
       "      <td>5.0</td>\n",
       "      <td>5.0</td>\n",
       "      <td>0.0</td>\n",
       "      <td>2.0</td>\n",
       "      <td>0.0</td>\n",
       "      <td>0.0</td>\n",
       "      <td>...</td>\n",
       "      <td>0</td>\n",
       "      <td>0</td>\n",
       "      <td>0</td>\n",
       "      <td>0</td>\n",
       "      <td>0</td>\n",
       "      <td>0</td>\n",
       "      <td>0</td>\n",
       "      <td>0</td>\n",
       "      <td>0</td>\n",
       "      <td>0</td>\n",
       "      <td>1</td>\n",
       "      <td>0</td>\n",
       "      <td>0</td>\n",
       "      <td>0</td>\n",
       "      <td>0</td>\n",
       "      <td>0</td>\n",
       "      <td>1</td>\n",
       "      <td>0</td>\n",
       "      <td>0</td>\n",
       "      <td>0</td>\n",
       "      <td>1</td>\n",
       "      <td>0</td>\n",
       "      <td>0</td>\n",
       "      <td>0</td>\n",
       "      <td>0</td>\n",
       "      <td>0</td>\n",
       "      <td>0</td>\n",
       "      <td>0</td>\n",
       "      <td>0</td>\n",
       "      <td>0</td>\n",
       "      <td>0</td>\n",
       "      <td>0</td>\n",
       "      <td>0</td>\n",
       "      <td>0</td>\n",
       "      <td>0</td>\n",
       "      <td>0</td>\n",
       "      <td>0</td>\n",
       "      <td>1</td>\n",
       "      <td>0</td>\n",
       "      <td>0</td>\n",
       "      <td>1</td>\n",
       "      <td>0</td>\n",
       "      <td>0</td>\n",
       "      <td>0</td>\n",
       "      <td>0</td>\n",
       "      <td>0</td>\n",
       "      <td>0</td>\n",
       "      <td>0</td>\n",
       "      <td>0</td>\n",
       "      <td>True</td>\n",
       "    </tr>\n",
       "  </tbody>\n",
       "</table>\n",
       "<p>1 rows × 143 columns</p>\n",
       "</div>"
      ],
      "text/plain": [
       "      book_chunk_no number   title  \\\n",
       "3996            321      2  Book 2   \n",
       "\n",
       "                                                   text  \\\n",
       "3996  m\\n \\nsf Thanks for your letter,\\n wrote Naoko...   \n",
       "\n",
       "                                          fstop_indices  \\\n",
       "3996  [43, 88, 213, 296, 343, 376, 480, 632, 695, 74...   \n",
       "\n",
       "                                          split_indices  \\\n",
       "3996  [924, 1926, 2925, 3997, 4861, 5754, 6924, 7914...   \n",
       "\n",
       "                                                 chunks translator  \\\n",
       "3996  \"Tell me all about his, uh, you know, later.\" ...  Jay Rubin   \n",
       "\n",
       "          book_title                                             parsed  \\\n",
       "3996  Norwegian Wood  (\", Tell, me, all, about, his, ,, uh, ,, you, ...   \n",
       "\n",
       "      n_sents  n_words  n_chars  n_syllables  n_unique_words  n_long_words  \\\n",
       "3996       18      168      690          212             118            24   \n",
       "\n",
       "      n_monosyllable_words  n_polysyllable_words  trans_code  chunk_length  \\\n",
       "3996                   135                     9           1           903   \n",
       "\n",
       "      n_sents_norm  n_words_norm  n_chars_norm  n_syllables_norm  \\\n",
       "3996     19.933555    186.046512    764.119601        234.772979   \n",
       "\n",
       "      n_unique_words_norm  n_long_words_norm  n_monosyllable_words_norm  \\\n",
       "3996           130.675526          26.578073                 149.501661   \n",
       "\n",
       "      n_polysyllable_words_norm  vader_compound  vader_neg  vader_neu  \\\n",
       "3996                   9.966777          0.6654      0.013      0.948   \n",
       "\n",
       "      vader_pos  pron_count  verb_count  det_count  adj_count  num_count  \\\n",
       "3996      0.039        16.0        25.0       28.0        9.0        2.0   \n",
       "\n",
       "      punct_count  noun_count  adp_count  cconj_count  sconj_count  adv_count  \\\n",
       "3996         53.0        36.0       20.0          5.0          2.0        6.0   \n",
       "\n",
       "      aux_count  part_count  propn_count  space_count  intj_count  sym_count  \\\n",
       "3996        6.0         5.0          5.0          0.0         2.0        0.0   \n",
       "\n",
       "      x_count  ...  more_adv  even_adv  why_adv  maybe_adv  again_adv  \\\n",
       "3996      0.0  ...         0         0        0          0          0   \n",
       "\n",
       "      now_adv  just_adv  how_adv  where_adv  very_adv  only_adv  there_adv  \\\n",
       "3996        0         0        0          0         0         1          0   \n",
       "\n",
       "      still_adv  so_adv  too_adv  when_adv  all_adv  here_adv  never_adv  \\\n",
       "3996          0       0        0         0        1         0          0   \n",
       "\n",
       "      as_adv  new_adj  other_adj  more_adj  small_adj  deep_adj  whole_adj  \\\n",
       "3996       0        1          0         0          0         0          0   \n",
       "\n",
       "      first_adj  bad_adj  little_adj  next_adj  much_adj  own_adj  hard_adj  \\\n",
       "3996          0        0           0         0         0        0         0   \n",
       "\n",
       "      last_adj  only_adj big_adj right_adj long_adj old_adj  strange_adj  \\\n",
       "3996         0         0       0         0        1       0            0   \n",
       "\n",
       "      same_adj  young_adj  sure_adj  able_adj  real_adj  different_adj  \\\n",
       "3996         1          0         0         0         0              0   \n",
       "\n",
       "      good_adj  few_adj  vlong_words_count  napoleon  \n",
       "3996         0        0                  0      True  \n",
       "\n",
       "[1 rows x 143 columns]"
      ]
     },
     "execution_count": 59,
     "metadata": {},
     "output_type": "execute_result"
    }
   ],
   "source": [
    "df_temp[df_temp['napoleon'] == True]"
   ]
  },
  {
   "cell_type": "markdown",
   "metadata": {},
   "source": [
    "### set column to flag chunks to use as test dataset"
   ]
  },
  {
   "cell_type": "code",
   "execution_count": 60,
   "metadata": {
    "ExecuteTime": {
     "end_time": "2020-06-11T09:01:13.609295Z",
     "start_time": "2020-06-11T09:01:13.601722Z"
    }
   },
   "outputs": [],
   "source": [
    "df['test_flag'] = 0"
   ]
  },
  {
   "cell_type": "code",
   "execution_count": 61,
   "metadata": {
    "ExecuteTime": {
     "end_time": "2020-06-11T09:01:13.901577Z",
     "start_time": "2020-06-11T09:01:13.612694Z"
    }
   },
   "outputs": [],
   "source": [
    "df['test_flag'] = df.apply(\n",
    "    lambda row: 1 if row['book_title'] == 'Norwegian Wood' \n",
    "                    and row['translator'] == 'Jay Rubin' \n",
    "                    and row['book_chunk_no'] >= 321 \n",
    "                    else row['test_flag'],\n",
    "    axis=1\n",
    ")"
   ]
  },
  {
   "cell_type": "code",
   "execution_count": 62,
   "metadata": {
    "ExecuteTime": {
     "end_time": "2020-06-11T09:01:14.191879Z",
     "start_time": "2020-06-11T09:01:13.905766Z"
    }
   },
   "outputs": [],
   "source": [
    "df['test_flag'] = df.apply(\n",
    "    lambda row: 1 if row['book_title'] == 'Norwegian Wood' \n",
    "                    and row['translator'] == 'Alfred Birnbaum' \n",
    "                    else row['test_flag'],\n",
    "    axis=1\n",
    ")"
   ]
  },
  {
   "cell_type": "code",
   "execution_count": 63,
   "metadata": {
    "ExecuteTime": {
     "end_time": "2020-06-11T09:01:14.419744Z",
     "start_time": "2020-06-11T09:01:14.195632Z"
    }
   },
   "outputs": [],
   "source": [
    "df['test_flag'] = df.apply(\n",
    "    lambda row: 1 if row['book_title'] == 'The Wind Up Bird Chronicle' \n",
    "                    and row['number'] == '1' \n",
    "                    and row['book_chunk_no'] < 60\n",
    "                    else row['test_flag'],\n",
    "    axis=1\n",
    ")"
   ]
  },
  {
   "cell_type": "markdown",
   "metadata": {},
   "source": [
    "### The first story of 'The Elephant Vanishes' short story collection is the same original text as 'The Wind-Up Bird Chronicle' chapter 1 but translated by Birnbaum"
   ]
  },
  {
   "cell_type": "code",
   "execution_count": 64,
   "metadata": {
    "ExecuteTime": {
     "end_time": "2020-06-11T09:01:14.775822Z",
     "start_time": "2020-06-11T09:01:14.422409Z"
    }
   },
   "outputs": [],
   "source": [
    "df['test_flag'] = df.apply(\n",
    "    lambda row: 1 if row['book_title'] == 'The Elephant Vanishes' \n",
    "                    and row['number'] == 1 \n",
    "                    else row['test_flag'],\n",
    "    axis=1\n",
    ")"
   ]
  },
  {
   "cell_type": "code",
   "execution_count": 65,
   "metadata": {
    "ExecuteTime": {
     "end_time": "2020-06-11T09:01:14.787100Z",
     "start_time": "2020-06-11T09:01:14.778024Z"
    }
   },
   "outputs": [
    {
     "data": {
      "text/plain": [
       "700"
      ]
     },
     "execution_count": 65,
     "metadata": {},
     "output_type": "execute_result"
    }
   ],
   "source": [
    "df['test_flag'].sum()"
   ]
  },
  {
   "cell_type": "code",
   "execution_count": 66,
   "metadata": {
    "ExecuteTime": {
     "end_time": "2020-06-11T09:01:14.805232Z",
     "start_time": "2020-06-11T09:01:14.794620Z"
    }
   },
   "outputs": [],
   "source": [
    "indices = list(df.index)"
   ]
  },
  {
   "cell_type": "code",
   "execution_count": 67,
   "metadata": {
    "ExecuteTime": {
     "end_time": "2020-06-11T09:01:14.844984Z",
     "start_time": "2020-06-11T09:01:14.816130Z"
    }
   },
   "outputs": [],
   "source": [
    "X_train = X[df['test_flag'] == 0]\n",
    "y_train = y[df['test_flag'] == 0]\n",
    "X_test = X[df['test_flag'] == 1]\n",
    "y_test = y[df['test_flag'] == 1]\n",
    "indices_train = [x for x, y in zip(indices, df['test_flag'] == 0) if y]\n",
    "indices_test = [x for x, y in zip(indices, df['test_flag'] == 1) if y]"
   ]
  },
  {
   "cell_type": "code",
   "execution_count": 68,
   "metadata": {
    "ExecuteTime": {
     "end_time": "2020-06-11T09:01:14.865719Z",
     "start_time": "2020-06-11T09:01:14.847958Z"
    }
   },
   "outputs": [
    {
     "data": {
      "text/plain": [
       "0.5042857142857143"
      ]
     },
     "execution_count": 68,
     "metadata": {},
     "output_type": "execute_result"
    }
   ],
   "source": [
    "baseline_acc = y_test.value_counts(normalize=True).max()\n",
    "baseline_acc"
   ]
  },
  {
   "cell_type": "code",
   "execution_count": 69,
   "metadata": {
    "ExecuteTime": {
     "end_time": "2020-06-11T09:01:14.963015Z",
     "start_time": "2020-06-11T09:01:14.871325Z"
    }
   },
   "outputs": [
    {
     "data": {
      "text/html": [
       "<div>\n",
       "<style scoped>\n",
       "    .dataframe tbody tr th:only-of-type {\n",
       "        vertical-align: middle;\n",
       "    }\n",
       "\n",
       "    .dataframe tbody tr th {\n",
       "        vertical-align: top;\n",
       "    }\n",
       "\n",
       "    .dataframe thead th {\n",
       "        text-align: right;\n",
       "    }\n",
       "</style>\n",
       "<table border=\"1\" class=\"dataframe\">\n",
       "  <thead>\n",
       "    <tr style=\"text-align: right;\">\n",
       "      <th></th>\n",
       "      <th>n_sents_norm</th>\n",
       "      <th>n_words_norm</th>\n",
       "      <th>n_chars_norm</th>\n",
       "      <th>n_syllables_norm</th>\n",
       "      <th>n_unique_words_norm</th>\n",
       "      <th>n_long_words_norm</th>\n",
       "      <th>n_monosyllable_words_norm</th>\n",
       "      <th>n_polysyllable_words_norm</th>\n",
       "      <th>pron_count_norm</th>\n",
       "      <th>verb_count_norm</th>\n",
       "      <th>det_count_norm</th>\n",
       "      <th>adj_count_norm</th>\n",
       "      <th>noun_count_norm</th>\n",
       "      <th>adp_count_norm</th>\n",
       "      <th>cconj_count_norm</th>\n",
       "      <th>sconj_count_norm</th>\n",
       "      <th>adv_count_norm</th>\n",
       "      <th>aux_count_norm</th>\n",
       "      <th>part_count_norm</th>\n",
       "      <th>propn_count_norm</th>\n",
       "      <th>intj_count_norm</th>\n",
       "      <th>the_w</th>\n",
       "      <th>to_w</th>\n",
       "      <th>and_w</th>\n",
       "      <th>of_w</th>\n",
       "      <th>you_w</th>\n",
       "      <th>was_w</th>\n",
       "      <th>she_w</th>\n",
       "      <th>said_w</th>\n",
       "      <th>like_w</th>\n",
       "      <th>just_w</th>\n",
       "      <th>time_w</th>\n",
       "      <th>know_w</th>\n",
       "      <th>think_w</th>\n",
       "      <th>got_w</th>\n",
       "      <th>right_w</th>\n",
       "      <th>new_adj</th>\n",
       "      <th>other_adj</th>\n",
       "      <th>more_adj</th>\n",
       "      <th>small_adj</th>\n",
       "      <th>deep_adj</th>\n",
       "      <th>whole_adj</th>\n",
       "      <th>first_adj</th>\n",
       "      <th>bad_adj</th>\n",
       "      <th>little_adj</th>\n",
       "      <th>next_adj</th>\n",
       "      <th>much_adj</th>\n",
       "      <th>own_adj</th>\n",
       "      <th>hard_adj</th>\n",
       "      <th>last_adj</th>\n",
       "      <th>only_adj</th>\n",
       "      <th>big_adj</th>\n",
       "      <th>right_adj</th>\n",
       "      <th>long_adj</th>\n",
       "      <th>old_adj</th>\n",
       "      <th>strange_adj</th>\n",
       "      <th>same_adj</th>\n",
       "      <th>young_adj</th>\n",
       "      <th>sure_adj</th>\n",
       "      <th>able_adj</th>\n",
       "      <th>real_adj</th>\n",
       "      <th>different_adj</th>\n",
       "      <th>good_adj</th>\n",
       "      <th>few_adj</th>\n",
       "      <th>really_adv</th>\n",
       "      <th>back_adv</th>\n",
       "      <th>always_adv</th>\n",
       "      <th>then_adv</th>\n",
       "      <th>more_adv</th>\n",
       "      <th>even_adv</th>\n",
       "      <th>why_adv</th>\n",
       "      <th>maybe_adv</th>\n",
       "      <th>again_adv</th>\n",
       "      <th>now_adv</th>\n",
       "      <th>just_adv</th>\n",
       "      <th>how_adv</th>\n",
       "      <th>where_adv</th>\n",
       "      <th>very_adv</th>\n",
       "      <th>only_adv</th>\n",
       "      <th>there_adv</th>\n",
       "      <th>still_adv</th>\n",
       "      <th>so_adv</th>\n",
       "      <th>too_adv</th>\n",
       "      <th>when_adv</th>\n",
       "      <th>all_adv</th>\n",
       "      <th>here_adv</th>\n",
       "      <th>never_adv</th>\n",
       "      <th>as_adv</th>\n",
       "    </tr>\n",
       "  </thead>\n",
       "  <tbody>\n",
       "    <tr>\n",
       "      <th>5248</th>\n",
       "      <td>19.269777</td>\n",
       "      <td>196.754564</td>\n",
       "      <td>758.620690</td>\n",
       "      <td>240.365112</td>\n",
       "      <td>117.647059</td>\n",
       "      <td>25.354970</td>\n",
       "      <td>161.257606</td>\n",
       "      <td>7.099391</td>\n",
       "      <td>25.354970</td>\n",
       "      <td>36.511156</td>\n",
       "      <td>30.425963</td>\n",
       "      <td>10.141988</td>\n",
       "      <td>31.440162</td>\n",
       "      <td>19.269777</td>\n",
       "      <td>5.070994</td>\n",
       "      <td>4.056795</td>\n",
       "      <td>15.212982</td>\n",
       "      <td>5.070994</td>\n",
       "      <td>3.042596</td>\n",
       "      <td>6.085193</td>\n",
       "      <td>2.028398</td>\n",
       "      <td>2</td>\n",
       "      <td>3</td>\n",
       "      <td>4</td>\n",
       "      <td>3</td>\n",
       "      <td>3</td>\n",
       "      <td>1</td>\n",
       "      <td>1</td>\n",
       "      <td>2</td>\n",
       "      <td>4</td>\n",
       "      <td>2</td>\n",
       "      <td>1</td>\n",
       "      <td>0</td>\n",
       "      <td>0</td>\n",
       "      <td>0</td>\n",
       "      <td>1</td>\n",
       "      <td>0</td>\n",
       "      <td>0</td>\n",
       "      <td>0</td>\n",
       "      <td>0</td>\n",
       "      <td>0</td>\n",
       "      <td>0</td>\n",
       "      <td>0</td>\n",
       "      <td>0</td>\n",
       "      <td>0</td>\n",
       "      <td>0</td>\n",
       "      <td>0</td>\n",
       "      <td>0</td>\n",
       "      <td>0</td>\n",
       "      <td>0</td>\n",
       "      <td>0</td>\n",
       "      <td>0</td>\n",
       "      <td>0</td>\n",
       "      <td>0</td>\n",
       "      <td>2</td>\n",
       "      <td>0</td>\n",
       "      <td>0</td>\n",
       "      <td>0</td>\n",
       "      <td>0</td>\n",
       "      <td>0</td>\n",
       "      <td>0</td>\n",
       "      <td>0</td>\n",
       "      <td>0</td>\n",
       "      <td>0</td>\n",
       "      <td>0</td>\n",
       "      <td>0</td>\n",
       "      <td>0</td>\n",
       "      <td>2</td>\n",
       "      <td>0</td>\n",
       "      <td>0</td>\n",
       "      <td>0</td>\n",
       "      <td>0</td>\n",
       "      <td>0</td>\n",
       "      <td>0</td>\n",
       "      <td>2</td>\n",
       "      <td>0</td>\n",
       "      <td>0</td>\n",
       "      <td>0</td>\n",
       "      <td>0</td>\n",
       "      <td>1</td>\n",
       "      <td>0</td>\n",
       "      <td>1</td>\n",
       "      <td>0</td>\n",
       "      <td>0</td>\n",
       "      <td>2</td>\n",
       "      <td>0</td>\n",
       "      <td>0</td>\n",
       "      <td>0</td>\n",
       "    </tr>\n",
       "    <tr>\n",
       "      <th>5249</th>\n",
       "      <td>32.289628</td>\n",
       "      <td>195.694716</td>\n",
       "      <td>746.575342</td>\n",
       "      <td>234.833659</td>\n",
       "      <td>110.567515</td>\n",
       "      <td>20.547945</td>\n",
       "      <td>163.405088</td>\n",
       "      <td>4.892368</td>\n",
       "      <td>40.117417</td>\n",
       "      <td>46.966732</td>\n",
       "      <td>13.698630</td>\n",
       "      <td>7.827789</td>\n",
       "      <td>14.677104</td>\n",
       "      <td>21.526419</td>\n",
       "      <td>2.935421</td>\n",
       "      <td>1.956947</td>\n",
       "      <td>20.547945</td>\n",
       "      <td>8.806262</td>\n",
       "      <td>6.849315</td>\n",
       "      <td>5.870841</td>\n",
       "      <td>2.935421</td>\n",
       "      <td>2</td>\n",
       "      <td>3</td>\n",
       "      <td>3</td>\n",
       "      <td>1</td>\n",
       "      <td>6</td>\n",
       "      <td>3</td>\n",
       "      <td>1</td>\n",
       "      <td>5</td>\n",
       "      <td>0</td>\n",
       "      <td>0</td>\n",
       "      <td>0</td>\n",
       "      <td>0</td>\n",
       "      <td>4</td>\n",
       "      <td>1</td>\n",
       "      <td>0</td>\n",
       "      <td>0</td>\n",
       "      <td>0</td>\n",
       "      <td>0</td>\n",
       "      <td>0</td>\n",
       "      <td>0</td>\n",
       "      <td>0</td>\n",
       "      <td>0</td>\n",
       "      <td>0</td>\n",
       "      <td>0</td>\n",
       "      <td>0</td>\n",
       "      <td>0</td>\n",
       "      <td>0</td>\n",
       "      <td>0</td>\n",
       "      <td>0</td>\n",
       "      <td>0</td>\n",
       "      <td>0</td>\n",
       "      <td>0</td>\n",
       "      <td>0</td>\n",
       "      <td>0</td>\n",
       "      <td>0</td>\n",
       "      <td>0</td>\n",
       "      <td>0</td>\n",
       "      <td>0</td>\n",
       "      <td>0</td>\n",
       "      <td>0</td>\n",
       "      <td>0</td>\n",
       "      <td>1</td>\n",
       "      <td>0</td>\n",
       "      <td>0</td>\n",
       "      <td>0</td>\n",
       "      <td>1</td>\n",
       "      <td>1</td>\n",
       "      <td>0</td>\n",
       "      <td>0</td>\n",
       "      <td>2</td>\n",
       "      <td>0</td>\n",
       "      <td>4</td>\n",
       "      <td>0</td>\n",
       "      <td>0</td>\n",
       "      <td>1</td>\n",
       "      <td>0</td>\n",
       "      <td>0</td>\n",
       "      <td>0</td>\n",
       "      <td>0</td>\n",
       "      <td>1</td>\n",
       "      <td>1</td>\n",
       "      <td>1</td>\n",
       "      <td>2</td>\n",
       "      <td>0</td>\n",
       "      <td>0</td>\n",
       "      <td>0</td>\n",
       "      <td>0</td>\n",
       "    </tr>\n",
       "    <tr>\n",
       "      <th>5250</th>\n",
       "      <td>21.671827</td>\n",
       "      <td>191.950464</td>\n",
       "      <td>769.865841</td>\n",
       "      <td>234.262126</td>\n",
       "      <td>127.966976</td>\n",
       "      <td>21.671827</td>\n",
       "      <td>157.894737</td>\n",
       "      <td>8.255934</td>\n",
       "      <td>27.863777</td>\n",
       "      <td>41.279670</td>\n",
       "      <td>18.575851</td>\n",
       "      <td>11.351909</td>\n",
       "      <td>24.767802</td>\n",
       "      <td>21.671827</td>\n",
       "      <td>7.223942</td>\n",
       "      <td>7.223942</td>\n",
       "      <td>16.511868</td>\n",
       "      <td>3.095975</td>\n",
       "      <td>2.063983</td>\n",
       "      <td>5.159959</td>\n",
       "      <td>1.031992</td>\n",
       "      <td>2</td>\n",
       "      <td>2</td>\n",
       "      <td>6</td>\n",
       "      <td>2</td>\n",
       "      <td>1</td>\n",
       "      <td>1</td>\n",
       "      <td>3</td>\n",
       "      <td>4</td>\n",
       "      <td>1</td>\n",
       "      <td>0</td>\n",
       "      <td>1</td>\n",
       "      <td>0</td>\n",
       "      <td>0</td>\n",
       "      <td>0</td>\n",
       "      <td>0</td>\n",
       "      <td>0</td>\n",
       "      <td>0</td>\n",
       "      <td>1</td>\n",
       "      <td>0</td>\n",
       "      <td>0</td>\n",
       "      <td>1</td>\n",
       "      <td>0</td>\n",
       "      <td>1</td>\n",
       "      <td>0</td>\n",
       "      <td>0</td>\n",
       "      <td>0</td>\n",
       "      <td>0</td>\n",
       "      <td>0</td>\n",
       "      <td>0</td>\n",
       "      <td>0</td>\n",
       "      <td>0</td>\n",
       "      <td>0</td>\n",
       "      <td>1</td>\n",
       "      <td>0</td>\n",
       "      <td>0</td>\n",
       "      <td>0</td>\n",
       "      <td>0</td>\n",
       "      <td>0</td>\n",
       "      <td>0</td>\n",
       "      <td>0</td>\n",
       "      <td>0</td>\n",
       "      <td>1</td>\n",
       "      <td>0</td>\n",
       "      <td>0</td>\n",
       "      <td>0</td>\n",
       "      <td>0</td>\n",
       "      <td>0</td>\n",
       "      <td>0</td>\n",
       "      <td>0</td>\n",
       "      <td>0</td>\n",
       "      <td>0</td>\n",
       "      <td>0</td>\n",
       "      <td>0</td>\n",
       "      <td>0</td>\n",
       "      <td>0</td>\n",
       "      <td>0</td>\n",
       "      <td>0</td>\n",
       "      <td>0</td>\n",
       "      <td>1</td>\n",
       "      <td>0</td>\n",
       "      <td>1</td>\n",
       "      <td>0</td>\n",
       "      <td>1</td>\n",
       "      <td>0</td>\n",
       "      <td>1</td>\n",
       "      <td>0</td>\n",
       "      <td>1</td>\n",
       "    </tr>\n",
       "    <tr>\n",
       "      <th>5251</th>\n",
       "      <td>26.418787</td>\n",
       "      <td>196.673190</td>\n",
       "      <td>763.209393</td>\n",
       "      <td>239.726027</td>\n",
       "      <td>121.330724</td>\n",
       "      <td>22.504892</td>\n",
       "      <td>158.512720</td>\n",
       "      <td>3.913894</td>\n",
       "      <td>36.203523</td>\n",
       "      <td>47.945205</td>\n",
       "      <td>17.612524</td>\n",
       "      <td>8.806262</td>\n",
       "      <td>21.526419</td>\n",
       "      <td>8.806262</td>\n",
       "      <td>5.870841</td>\n",
       "      <td>2.935421</td>\n",
       "      <td>16.634051</td>\n",
       "      <td>8.806262</td>\n",
       "      <td>7.827789</td>\n",
       "      <td>10.763209</td>\n",
       "      <td>1.956947</td>\n",
       "      <td>6</td>\n",
       "      <td>9</td>\n",
       "      <td>5</td>\n",
       "      <td>1</td>\n",
       "      <td>7</td>\n",
       "      <td>0</td>\n",
       "      <td>4</td>\n",
       "      <td>3</td>\n",
       "      <td>3</td>\n",
       "      <td>0</td>\n",
       "      <td>0</td>\n",
       "      <td>0</td>\n",
       "      <td>2</td>\n",
       "      <td>0</td>\n",
       "      <td>0</td>\n",
       "      <td>0</td>\n",
       "      <td>0</td>\n",
       "      <td>0</td>\n",
       "      <td>0</td>\n",
       "      <td>0</td>\n",
       "      <td>0</td>\n",
       "      <td>0</td>\n",
       "      <td>1</td>\n",
       "      <td>0</td>\n",
       "      <td>0</td>\n",
       "      <td>0</td>\n",
       "      <td>0</td>\n",
       "      <td>0</td>\n",
       "      <td>0</td>\n",
       "      <td>0</td>\n",
       "      <td>0</td>\n",
       "      <td>0</td>\n",
       "      <td>0</td>\n",
       "      <td>0</td>\n",
       "      <td>0</td>\n",
       "      <td>1</td>\n",
       "      <td>0</td>\n",
       "      <td>0</td>\n",
       "      <td>0</td>\n",
       "      <td>0</td>\n",
       "      <td>0</td>\n",
       "      <td>1</td>\n",
       "      <td>0</td>\n",
       "      <td>1</td>\n",
       "      <td>0</td>\n",
       "      <td>1</td>\n",
       "      <td>0</td>\n",
       "      <td>0</td>\n",
       "      <td>0</td>\n",
       "      <td>0</td>\n",
       "      <td>0</td>\n",
       "      <td>0</td>\n",
       "      <td>0</td>\n",
       "      <td>0</td>\n",
       "      <td>0</td>\n",
       "      <td>0</td>\n",
       "      <td>0</td>\n",
       "      <td>1</td>\n",
       "      <td>2</td>\n",
       "      <td>2</td>\n",
       "      <td>3</td>\n",
       "      <td>1</td>\n",
       "      <td>2</td>\n",
       "      <td>0</td>\n",
       "      <td>0</td>\n",
       "      <td>0</td>\n",
       "      <td>1</td>\n",
       "    </tr>\n",
       "    <tr>\n",
       "      <th>5252</th>\n",
       "      <td>29.682702</td>\n",
       "      <td>206.755374</td>\n",
       "      <td>746.161720</td>\n",
       "      <td>242.579324</td>\n",
       "      <td>119.754350</td>\n",
       "      <td>16.376663</td>\n",
       "      <td>176.049130</td>\n",
       "      <td>5.117707</td>\n",
       "      <td>48.106448</td>\n",
       "      <td>40.941658</td>\n",
       "      <td>13.306039</td>\n",
       "      <td>7.164790</td>\n",
       "      <td>16.376663</td>\n",
       "      <td>19.447288</td>\n",
       "      <td>11.258956</td>\n",
       "      <td>2.047083</td>\n",
       "      <td>11.258956</td>\n",
       "      <td>16.376663</td>\n",
       "      <td>9.211873</td>\n",
       "      <td>9.211873</td>\n",
       "      <td>0.000000</td>\n",
       "      <td>6</td>\n",
       "      <td>8</td>\n",
       "      <td>7</td>\n",
       "      <td>4</td>\n",
       "      <td>5</td>\n",
       "      <td>2</td>\n",
       "      <td>2</td>\n",
       "      <td>4</td>\n",
       "      <td>0</td>\n",
       "      <td>1</td>\n",
       "      <td>0</td>\n",
       "      <td>1</td>\n",
       "      <td>0</td>\n",
       "      <td>0</td>\n",
       "      <td>0</td>\n",
       "      <td>0</td>\n",
       "      <td>1</td>\n",
       "      <td>1</td>\n",
       "      <td>0</td>\n",
       "      <td>0</td>\n",
       "      <td>1</td>\n",
       "      <td>0</td>\n",
       "      <td>0</td>\n",
       "      <td>0</td>\n",
       "      <td>0</td>\n",
       "      <td>0</td>\n",
       "      <td>0</td>\n",
       "      <td>0</td>\n",
       "      <td>0</td>\n",
       "      <td>0</td>\n",
       "      <td>0</td>\n",
       "      <td>0</td>\n",
       "      <td>0</td>\n",
       "      <td>0</td>\n",
       "      <td>0</td>\n",
       "      <td>0</td>\n",
       "      <td>0</td>\n",
       "      <td>0</td>\n",
       "      <td>0</td>\n",
       "      <td>0</td>\n",
       "      <td>0</td>\n",
       "      <td>0</td>\n",
       "      <td>0</td>\n",
       "      <td>0</td>\n",
       "      <td>0</td>\n",
       "      <td>1</td>\n",
       "      <td>0</td>\n",
       "      <td>0</td>\n",
       "      <td>0</td>\n",
       "      <td>0</td>\n",
       "      <td>0</td>\n",
       "      <td>1</td>\n",
       "      <td>0</td>\n",
       "      <td>1</td>\n",
       "      <td>0</td>\n",
       "      <td>0</td>\n",
       "      <td>0</td>\n",
       "      <td>1</td>\n",
       "      <td>0</td>\n",
       "      <td>0</td>\n",
       "      <td>0</td>\n",
       "      <td>2</td>\n",
       "      <td>0</td>\n",
       "      <td>0</td>\n",
       "      <td>0</td>\n",
       "      <td>1</td>\n",
       "      <td>0</td>\n",
       "    </tr>\n",
       "  </tbody>\n",
       "</table>\n",
       "</div>"
      ],
      "text/plain": [
       "      n_sents_norm  n_words_norm  n_chars_norm  n_syllables_norm  \\\n",
       "5248     19.269777    196.754564    758.620690        240.365112   \n",
       "5249     32.289628    195.694716    746.575342        234.833659   \n",
       "5250     21.671827    191.950464    769.865841        234.262126   \n",
       "5251     26.418787    196.673190    763.209393        239.726027   \n",
       "5252     29.682702    206.755374    746.161720        242.579324   \n",
       "\n",
       "      n_unique_words_norm  n_long_words_norm  n_monosyllable_words_norm  \\\n",
       "5248           117.647059          25.354970                 161.257606   \n",
       "5249           110.567515          20.547945                 163.405088   \n",
       "5250           127.966976          21.671827                 157.894737   \n",
       "5251           121.330724          22.504892                 158.512720   \n",
       "5252           119.754350          16.376663                 176.049130   \n",
       "\n",
       "      n_polysyllable_words_norm  pron_count_norm  verb_count_norm  \\\n",
       "5248                   7.099391        25.354970        36.511156   \n",
       "5249                   4.892368        40.117417        46.966732   \n",
       "5250                   8.255934        27.863777        41.279670   \n",
       "5251                   3.913894        36.203523        47.945205   \n",
       "5252                   5.117707        48.106448        40.941658   \n",
       "\n",
       "      det_count_norm  adj_count_norm  noun_count_norm  adp_count_norm  \\\n",
       "5248       30.425963       10.141988        31.440162       19.269777   \n",
       "5249       13.698630        7.827789        14.677104       21.526419   \n",
       "5250       18.575851       11.351909        24.767802       21.671827   \n",
       "5251       17.612524        8.806262        21.526419        8.806262   \n",
       "5252       13.306039        7.164790        16.376663       19.447288   \n",
       "\n",
       "      cconj_count_norm  sconj_count_norm  adv_count_norm  aux_count_norm  \\\n",
       "5248          5.070994          4.056795       15.212982        5.070994   \n",
       "5249          2.935421          1.956947       20.547945        8.806262   \n",
       "5250          7.223942          7.223942       16.511868        3.095975   \n",
       "5251          5.870841          2.935421       16.634051        8.806262   \n",
       "5252         11.258956          2.047083       11.258956       16.376663   \n",
       "\n",
       "      part_count_norm  propn_count_norm  intj_count_norm  the_w  to_w  and_w  \\\n",
       "5248         3.042596          6.085193         2.028398      2     3      4   \n",
       "5249         6.849315          5.870841         2.935421      2     3      3   \n",
       "5250         2.063983          5.159959         1.031992      2     2      6   \n",
       "5251         7.827789         10.763209         1.956947      6     9      5   \n",
       "5252         9.211873          9.211873         0.000000      6     8      7   \n",
       "\n",
       "      of_w  you_w  was_w  she_w  said_w  like_w  just_w  time_w  know_w  \\\n",
       "5248     3      3      1      1       2       4       2       1       0   \n",
       "5249     1      6      3      1       5       0       0       0       0   \n",
       "5250     2      1      1      3       4       1       0       1       0   \n",
       "5251     1      7      0      4       3       3       0       0       0   \n",
       "5252     4      5      2      2       4       0       1       0       1   \n",
       "\n",
       "      think_w  got_w  right_w  new_adj  other_adj  more_adj  small_adj  \\\n",
       "5248        0      0        1        0          0         0          0   \n",
       "5249        4      1        0        0          0         0          0   \n",
       "5250        0      0        0        0          0         1          0   \n",
       "5251        2      0        0        0          0         0          0   \n",
       "5252        0      0        0        0          1         1          0   \n",
       "\n",
       "      deep_adj  whole_adj  first_adj  bad_adj  little_adj  next_adj  much_adj  \\\n",
       "5248         0          0          0        0           0         0         0   \n",
       "5249         0          0          0        0           0         0         0   \n",
       "5250         0          1          0        1           0         0         0   \n",
       "5251         0          0          0        1           0         0         0   \n",
       "5252         0          1          0        0           0         0         0   \n",
       "\n",
       "      own_adj  hard_adj  last_adj  only_adj  big_adj  right_adj  long_adj  \\\n",
       "5248        0         0         0         0        0          0         0   \n",
       "5249        0         0         0         0        0          0         0   \n",
       "5250        0         0         0         0        0          0         1   \n",
       "5251        0         0         0         0        0          0         0   \n",
       "5252        0         0         0         0        0          0         0   \n",
       "\n",
       "      old_adj  strange_adj  same_adj  young_adj  sure_adj  able_adj  real_adj  \\\n",
       "5248        2            0         0          0         0         0         0   \n",
       "5249        0            0         0          0         0         0         0   \n",
       "5250        0            0         0          0         0         0         0   \n",
       "5251        0            0         1          0         0         0         0   \n",
       "5252        0            0         0          0         0         0         0   \n",
       "\n",
       "      different_adj  good_adj  few_adj  really_adv  back_adv  always_adv  \\\n",
       "5248              0         0        0           0         0           0   \n",
       "5249              0         1        0           0         0           1   \n",
       "5250              0         1        0           0         0           0   \n",
       "5251              0         1        0           1         0           1   \n",
       "5252              0         0        0           0         0           1   \n",
       "\n",
       "      then_adv  more_adv  even_adv  why_adv  maybe_adv  again_adv  now_adv  \\\n",
       "5248         2         0         0        0          0          0        0   \n",
       "5249         1         0         0        2          0          4        0   \n",
       "5250         0         0         0        0          0          0        0   \n",
       "5251         0         0         0        0          0          0        0   \n",
       "5252         0         0         0        0          0          1        0   \n",
       "\n",
       "      just_adv  how_adv  where_adv  very_adv  only_adv  there_adv  still_adv  \\\n",
       "5248         2        0          0         0         0          1          0   \n",
       "5249         0        1          0         0         0          0          1   \n",
       "5250         0        0          0         0         0          1          0   \n",
       "5251         0        0          0         0         1          2          2   \n",
       "5252         1        0          0         0         1          0          0   \n",
       "\n",
       "      so_adv  too_adv  when_adv  all_adv  here_adv  never_adv  as_adv  \n",
       "5248       1        0         0        2         0          0       0  \n",
       "5249       1        1         2        0         0          0       0  \n",
       "5250       1        0         1        0         1          0       1  \n",
       "5251       3        1         2        0         0          0       1  \n",
       "5252       0        2         0        0         0          1       0  "
      ]
     },
     "execution_count": 69,
     "metadata": {},
     "output_type": "execute_result"
    }
   ],
   "source": [
    "X_test.tail()"
   ]
  },
  {
   "cell_type": "code",
   "execution_count": 70,
   "metadata": {
    "ExecuteTime": {
     "end_time": "2020-06-11T09:01:14.985774Z",
     "start_time": "2020-06-11T09:01:14.969160Z"
    }
   },
   "outputs": [
    {
     "data": {
      "text/plain": [
       "5248    0\n",
       "5249    0\n",
       "5250    0\n",
       "5251    0\n",
       "5252    0\n",
       "Name: trans_code, dtype: int64"
      ]
     },
     "execution_count": 70,
     "metadata": {},
     "output_type": "execute_result"
    }
   ],
   "source": [
    "y_test.tail()"
   ]
  },
  {
   "cell_type": "code",
   "execution_count": 328,
   "metadata": {
    "ExecuteTime": {
     "end_time": "2020-05-31T09:11:10.564405Z",
     "start_time": "2020-05-31T09:11:10.561352Z"
    }
   },
   "outputs": [],
   "source": [
    "# X_train = X_train.sample(frac=1, random_state=1)\n",
    "# y_train = y_train.sample(frac=1, random_state=1)"
   ]
  },
  {
   "cell_type": "markdown",
   "metadata": {},
   "source": [
    "### Standardise the predictor variables"
   ]
  },
  {
   "cell_type": "code",
   "execution_count": 71,
   "metadata": {
    "ExecuteTime": {
     "end_time": "2020-06-11T09:01:34.107286Z",
     "start_time": "2020-06-11T09:01:34.084820Z"
    }
   },
   "outputs": [],
   "source": [
    "scaler = StandardScaler()\n",
    "X_train = pd.DataFrame(scaler.fit_transform(X_train), columns=X.columns)\n",
    "X_test = pd.DataFrame(scaler.transform(X_test), columns=X.columns)"
   ]
  },
  {
   "cell_type": "markdown",
   "metadata": {},
   "source": [
    "###  Gridsearch Logistic Regression "
   ]
  },
  {
   "cell_type": "code",
   "execution_count": 73,
   "metadata": {
    "ExecuteTime": {
     "end_time": "2020-06-11T09:04:17.988777Z",
     "start_time": "2020-06-11T09:03:44.889307Z"
    }
   },
   "outputs": [
    {
     "name": "stdout",
     "output_type": "stream",
     "text": [
      "Fitting 5 folds for each of 10 candidates, totalling 50 fits\n"
     ]
    },
    {
     "name": "stderr",
     "output_type": "stream",
     "text": [
      "[Parallel(n_jobs=2)]: Using backend LokyBackend with 2 concurrent workers.\n",
      "[Parallel(n_jobs=2)]: Done  50 out of  50 | elapsed:   32.6s finished\n"
     ]
    },
    {
     "data": {
      "text/plain": [
       "GridSearchCV(cv=5, error_score=nan,\n",
       "             estimator=LogisticRegression(C=1.0, class_weight=None, dual=False,\n",
       "                                          fit_intercept=True,\n",
       "                                          intercept_scaling=1, l1_ratio=None,\n",
       "                                          max_iter=1000, multi_class='ovr',\n",
       "                                          n_jobs=None, penalty='l2',\n",
       "                                          random_state=None, solver='liblinear',\n",
       "                                          tol=0.0001, verbose=0,\n",
       "                                          warm_start=False),\n",
       "             iid='deprecated', n_jobs=2,\n",
       "             param_grid={'C': [0.01, 0.1, 1, 10, 100], 'penalty': ['l1', 'l2']},\n",
       "             pre_dispatch='2*n_jobs', refit=True, return_train_score=True,\n",
       "             scoring='accuracy', verbose=1)"
      ]
     },
     "execution_count": 73,
     "metadata": {},
     "output_type": "execute_result"
    }
   ],
   "source": [
    "# gridsearch model parameters, score fitted model\n",
    "params = {'C': [0.01, 0.1, 1, 10, 100],\n",
    "          'penalty': ['l1', 'l2']}\n",
    "# lreg_gs_01 = lr.gridsearch(model, params, X_train, y_train)\n",
    "lr.gridsearch(params, X_train, y_train)"
   ]
  },
  {
   "cell_type": "code",
   "execution_count": 74,
   "metadata": {
    "ExecuteTime": {
     "end_time": "2020-06-11T09:04:21.875393Z",
     "start_time": "2020-06-11T09:04:21.869277Z"
    }
   },
   "outputs": [],
   "source": [
    "# save fitted model\n",
    "out_path = '../../../../Documents/murakami/pkl_models/'\n",
    "out_name = 'lreg_gs_final_rerun'\n",
    "out_full_path = out_path + out_name + '.pkl'\n",
    "lr.save_model(out_full_path)"
   ]
  },
  {
   "cell_type": "code",
   "execution_count": 81,
   "metadata": {
    "ExecuteTime": {
     "end_time": "2020-06-11T09:34:56.354648Z",
     "start_time": "2020-06-11T09:34:56.347811Z"
    }
   },
   "outputs": [],
   "source": [
    "def gridsearch_score(model, X_train, y_train, X_test, y_test):\n",
    "    # print the grid search results and store as a dictionary\n",
    "    results_dict = {}\n",
    "    results_dict['Best_Parameters'] = model.model_gs.best_params_\n",
    "    results_dict['Best_CV_Score'] = model.model_gs.best_score_\n",
    "    results_dict['Best_Train_Score'] = model.model_gs.score(X_train, y_train)\n",
    "    results_dict['Best_Test_Score'] = model.model_gs.score(X_test, y_test)\n",
    "\n",
    "    print('Best Parameters:')\n",
    "    print(results_dict['Best_Parameters'])\n",
    "    print('Best estimator mean cross validated training score:')\n",
    "    print(results_dict['Best_CV_Score'])\n",
    "    print('Best estimator score on the full training set:')\n",
    "    print(results_dict['Best_Train_Score'])\n",
    "    print('Best estimator score on the test set:')\n",
    "    print(results_dict['Best_Test_Score'])\n",
    "    predictions = model.model_gs.predict(X_test)\n",
    "    results_dict['conmat'] = confusion_matrix(\n",
    "        y_test, predictions, labels=[0, 1, 2])\n",
    "\n",
    "    return results_dict"
   ]
  },
  {
   "cell_type": "code",
   "execution_count": 82,
   "metadata": {
    "ExecuteTime": {
     "end_time": "2020-06-11T09:34:57.198802Z",
     "start_time": "2020-06-11T09:34:57.176082Z"
    }
   },
   "outputs": [
    {
     "name": "stdout",
     "output_type": "stream",
     "text": [
      "Best Parameters:\n",
      "{'C': 0.1, 'penalty': 'l2'}\n",
      "Best estimator mean cross validated training score:\n",
      "0.6321033853648714\n",
      "Best estimator score on the full training set:\n",
      "0.6890514184397163\n",
      "Best estimator score on the test set:\n",
      "0.5457142857142857\n"
     ]
    },
    {
     "data": {
      "text/plain": [
       "{'Best_Parameters': {'C': 0.1, 'penalty': 'l2'},\n",
       " 'Best_CV_Score': 0.6321033853648714,\n",
       " 'Best_Train_Score': 0.6890514184397163,\n",
       " 'Best_Test_Score': 0.5457142857142857,\n",
       " 'conmat': array([[183,  78,  86],\n",
       "        [ 98, 199,  56],\n",
       "        [  0,   0,   0]])}"
      ]
     },
     "execution_count": 82,
     "metadata": {},
     "output_type": "execute_result"
    }
   ],
   "source": [
    "lreg_gs_01_results = gridsearch_score(lr, X_train, y_train, X_test, y_test)\n",
    "lreg_gs_01_results"
   ]
  },
  {
   "cell_type": "markdown",
   "metadata": {},
   "source": [
    "## Confusion Matrix"
   ]
  },
  {
   "cell_type": "code",
   "execution_count": 144,
   "metadata": {
    "ExecuteTime": {
     "end_time": "2020-06-11T14:18:32.081234Z",
     "start_time": "2020-06-11T14:18:32.069109Z"
    }
   },
   "outputs": [
    {
     "name": "stdout",
     "output_type": "stream",
     "text": [
      "                 predicted birnbaum  predicted rubin  predicted gabriel\n",
      "actual birnbaum                 183               78                 86\n",
      "actual rubin                     98              199                 56\n",
      "actual gabriel                    0                0                  0\n"
     ]
    }
   ],
   "source": [
    "print(pd.DataFrame(lreg_gs_01_results['conmat'], index=['actual birnbaum', 'actual rubin', 'actual gabriel'],\n",
    "                             columns=['predicted birnbaum', 'predicted rubin', 'predicted gabriel']))"
   ]
  },
  {
   "cell_type": "markdown",
   "metadata": {},
   "source": [
    "## Classification Report"
   ]
  },
  {
   "cell_type": "code",
   "execution_count": 145,
   "metadata": {
    "ExecuteTime": {
     "end_time": "2020-06-11T14:19:47.491778Z",
     "start_time": "2020-06-11T14:19:47.468842Z"
    }
   },
   "outputs": [
    {
     "name": "stdout",
     "output_type": "stream",
     "text": [
      "              precision    recall  f1-score   support\n",
      "\n",
      "           0       0.64      0.45      0.53       347\n",
      "           1       0.75      0.49      0.59       353\n",
      "           2       0.00      0.00      0.00         0\n",
      "\n",
      "    accuracy                           0.47       700\n",
      "   macro avg       0.47      0.31      0.37       700\n",
      "weighted avg       0.70      0.47      0.56       700\n",
      "\n"
     ]
    },
    {
     "name": "stderr",
     "output_type": "stream",
     "text": [
      "/Users/Steven/opt/anaconda3/envs/textacy/lib/python3.8/site-packages/sklearn/metrics/_classification.py:1272: UndefinedMetricWarning: Recall and F-score are ill-defined and being set to 0.0 in labels with no true samples. Use `zero_division` parameter to control this behavior.\n",
      "  _warn_prf(average, modifier, msg_start, len(result))\n"
     ]
    }
   ],
   "source": [
    "print(classification_report(y_test, lr.model_gs.predict(X_test)))"
   ]
  },
  {
   "cell_type": "markdown",
   "metadata": {},
   "source": [
    "### Plot the most important features for predicting each translator"
   ]
  },
  {
   "cell_type": "code",
   "execution_count": 106,
   "metadata": {
    "ExecuteTime": {
     "end_time": "2020-06-11T12:48:25.681333Z",
     "start_time": "2020-06-11T12:48:25.674008Z"
    }
   },
   "outputs": [],
   "source": [
    "# collect the model coefficients in a dataframe\n",
    "df_coef = pd.DataFrame(lr.model_gs.best_estimator_.coef_, columns=predictor_cols,\n",
    "                       index=['coefs_0', 'coefs_1', 'coefs_2'])\n",
    "# remove n_ and _norm to make plots easier to read\n",
    "df_coef.columns = [col.replace('_norm', '') for col in df_coef.columns ]\n",
    "df_coef.columns = [col[2:] if col[:2] == 'n_' else col for col in df_coef.columns ]\n",
    "# transpose to have columns as indices\n",
    "df_coef = df_coef.T"
   ]
  },
  {
   "cell_type": "code",
   "execution_count": 107,
   "metadata": {
    "ExecuteTime": {
     "end_time": "2020-06-11T12:48:57.794200Z",
     "start_time": "2020-06-11T12:48:56.121829Z"
    }
   },
   "outputs": [
    {
     "data": {
      "image/png": "[encoded data removed]",
      "text/plain": [
       "<Figure size 1440x720 with 6 Axes>"
      ]
     },
     "metadata": {
      "image/png": {
       "height": 687,
       "width": 1432
      }
     },
     "output_type": "display_data"
    }
   ],
   "source": [
    "plt.style.use('ggplot')\n",
    "\n",
    "fig, ax = plt.subplots(nrows=2, ncols=len(df_coef.columns), figsize=(20, 10))\n",
    "fig.suptitle('Feature Importance', fontsize=32)\n",
    "\n",
    "\n",
    "for i, col in enumerate(df_coef.columns):\n",
    "    df_coef[col].sort_values(ascending=True).tail(5).plot(kind='barh', ax=ax[0,i])\n",
    "    ax[0,i].set_title(str(col), fontsize=18)\n",
    "    ax[0,i].set_xlim(-1.5, 1.5)\n",
    "    ax[0,i].tick_params(axis='y', labelsize=16)\n",
    "\n",
    "\n",
    "    df_coef[col].sort_values(ascending=True).head(5).plot(kind='barh', ax=ax[1,i], color='darkred')\n",
    "    ax[1,i].set_xlim(-1.5, 1.5)\n",
    "    ax[1,i].tick_params(axis='y', labelsize=16)\n",
    "\n",
    "#     ax[1,i].xticks(fontsize=14)\n",
    "\n",
    "ax[0,0].set_title('Birnbaum', fontsize=16)\n",
    "ax[0,1].set_title('Rubin', fontsize=16)\n",
    "ax[0,2].set_title('Gabriel', size=16)\n",
    "fig.tight_layout(rect=[0, 0.03, 1, 0.92])\n",
    "# plt.tight_layout()\n",
    "\n",
    "\n",
    "# fig.suptitle('Largest Coefficient per Translator', fontsize=32, y=1.05)\n",
    "\n",
    "plt.savefig('../../../../Documents/murakami/plots/top_lreg_coeffs_rerun_01.png')\n",
    "\n",
    "plt.show()"
   ]
  },
  {
   "cell_type": "markdown",
   "metadata": {},
   "source": [
    "## Review most confidently predicted texts per translator"
   ]
  },
  {
   "cell_type": "code",
   "execution_count": 84,
   "metadata": {
    "ExecuteTime": {
     "end_time": "2020-06-11T12:43:36.502215Z",
     "start_time": "2020-06-11T12:43:36.481670Z"
    }
   },
   "outputs": [
    {
     "data": {
      "text/html": [
       "<div>\n",
       "<style scoped>\n",
       "    .dataframe tbody tr th:only-of-type {\n",
       "        vertical-align: middle;\n",
       "    }\n",
       "\n",
       "    .dataframe tbody tr th {\n",
       "        vertical-align: top;\n",
       "    }\n",
       "\n",
       "    .dataframe thead th {\n",
       "        text-align: right;\n",
       "    }\n",
       "</style>\n",
       "<table border=\"1\" class=\"dataframe\">\n",
       "  <thead>\n",
       "    <tr style=\"text-align: right;\">\n",
       "      <th></th>\n",
       "      <th>trans_0_pp</th>\n",
       "      <th>trans_1_pp</th>\n",
       "      <th>trans_2_pp</th>\n",
       "      <th>original_index</th>\n",
       "    </tr>\n",
       "  </thead>\n",
       "  <tbody>\n",
       "    <tr>\n",
       "      <th>0</th>\n",
       "      <td>0.068931</td>\n",
       "      <td>0.238973</td>\n",
       "      <td>0.692096</td>\n",
       "      <td>1878</td>\n",
       "    </tr>\n",
       "    <tr>\n",
       "      <th>1</th>\n",
       "      <td>0.271783</td>\n",
       "      <td>0.232344</td>\n",
       "      <td>0.495873</td>\n",
       "      <td>1879</td>\n",
       "    </tr>\n",
       "    <tr>\n",
       "      <th>2</th>\n",
       "      <td>0.492409</td>\n",
       "      <td>0.142716</td>\n",
       "      <td>0.364875</td>\n",
       "      <td>1880</td>\n",
       "    </tr>\n",
       "    <tr>\n",
       "      <th>3</th>\n",
       "      <td>0.718951</td>\n",
       "      <td>0.266874</td>\n",
       "      <td>0.014175</td>\n",
       "      <td>1881</td>\n",
       "    </tr>\n",
       "    <tr>\n",
       "      <th>4</th>\n",
       "      <td>0.394721</td>\n",
       "      <td>0.497260</td>\n",
       "      <td>0.108019</td>\n",
       "      <td>1882</td>\n",
       "    </tr>\n",
       "  </tbody>\n",
       "</table>\n",
       "</div>"
      ],
      "text/plain": [
       "   trans_0_pp  trans_1_pp  trans_2_pp  original_index\n",
       "0    0.068931    0.238973    0.692096            1878\n",
       "1    0.271783    0.232344    0.495873            1879\n",
       "2    0.492409    0.142716    0.364875            1880\n",
       "3    0.718951    0.266874    0.014175            1881\n",
       "4    0.394721    0.497260    0.108019            1882"
      ]
     },
     "execution_count": 84,
     "metadata": {},
     "output_type": "execute_result"
    }
   ],
   "source": [
    "# Get the predicted probabilities and explicitly name the columns:\n",
    "Y_pp = pd.DataFrame(lr.model_gs.predict_proba(X_test), \n",
    "             columns=['trans_0_pp', 'trans_1_pp', 'trans_2_pp'])\n",
    "# add the original indices from before the train test shuffle\n",
    "Y_pp['original_index'] = indices_test\n",
    "Y_pp.head()"
   ]
  },
  {
   "cell_type": "code",
   "execution_count": 229,
   "metadata": {
    "ExecuteTime": {
     "end_time": "2020-05-31T08:51:39.707528Z",
     "start_time": "2020-05-31T08:51:39.697205Z"
    }
   },
   "outputs": [],
   "source": [
    "# Y_pp_merged = Y_pp.join(df, how='left')"
   ]
  },
  {
   "cell_type": "code",
   "execution_count": 85,
   "metadata": {
    "ExecuteTime": {
     "end_time": "2020-06-11T12:43:46.281515Z",
     "start_time": "2020-06-11T12:43:46.262337Z"
    }
   },
   "outputs": [],
   "source": [
    "Y_pp_merged = Y_pp.merge(df, how='left', left_on='original_index', right_index=True)\n",
    "# Y_pp_merged = Y_pp.merge(df, how='left', left_index=True, right_index=True)"
   ]
  },
  {
   "cell_type": "code",
   "execution_count": 86,
   "metadata": {
    "ExecuteTime": {
     "end_time": "2020-06-11T12:43:49.346347Z",
     "start_time": "2020-06-11T12:43:49.338005Z"
    }
   },
   "outputs": [
    {
     "data": {
      "text/plain": [
       "700"
      ]
     },
     "execution_count": 86,
     "metadata": {},
     "output_type": "execute_result"
    }
   ],
   "source": [
    "len(Y_pp_merged)"
   ]
  },
  {
   "cell_type": "code",
   "execution_count": 87,
   "metadata": {
    "ExecuteTime": {
     "end_time": "2020-06-11T12:43:54.374641Z",
     "start_time": "2020-06-11T12:43:54.273601Z"
    }
   },
   "outputs": [
    {
     "data": {
      "text/html": [
       "<div>\n",
       "<style scoped>\n",
       "    .dataframe tbody tr th:only-of-type {\n",
       "        vertical-align: middle;\n",
       "    }\n",
       "\n",
       "    .dataframe tbody tr th {\n",
       "        vertical-align: top;\n",
       "    }\n",
       "\n",
       "    .dataframe thead th {\n",
       "        text-align: right;\n",
       "    }\n",
       "</style>\n",
       "<table border=\"1\" class=\"dataframe\">\n",
       "  <thead>\n",
       "    <tr style=\"text-align: right;\">\n",
       "      <th></th>\n",
       "      <th>trans_0_pp</th>\n",
       "      <th>trans_1_pp</th>\n",
       "      <th>trans_2_pp</th>\n",
       "      <th>original_index</th>\n",
       "      <th>book_chunk_no</th>\n",
       "      <th>number</th>\n",
       "      <th>title</th>\n",
       "      <th>text</th>\n",
       "      <th>fstop_indices</th>\n",
       "      <th>split_indices</th>\n",
       "      <th>chunks</th>\n",
       "      <th>translator</th>\n",
       "      <th>book_title</th>\n",
       "      <th>parsed</th>\n",
       "      <th>n_sents</th>\n",
       "      <th>n_words</th>\n",
       "      <th>n_chars</th>\n",
       "      <th>n_syllables</th>\n",
       "      <th>n_unique_words</th>\n",
       "      <th>n_long_words</th>\n",
       "      <th>n_monosyllable_words</th>\n",
       "      <th>n_polysyllable_words</th>\n",
       "      <th>trans_code</th>\n",
       "      <th>chunk_length</th>\n",
       "      <th>n_sents_norm</th>\n",
       "      <th>n_words_norm</th>\n",
       "      <th>n_chars_norm</th>\n",
       "      <th>n_syllables_norm</th>\n",
       "      <th>n_unique_words_norm</th>\n",
       "      <th>n_long_words_norm</th>\n",
       "      <th>n_monosyllable_words_norm</th>\n",
       "      <th>n_polysyllable_words_norm</th>\n",
       "      <th>vader_compound</th>\n",
       "      <th>vader_neg</th>\n",
       "      <th>vader_neu</th>\n",
       "      <th>vader_pos</th>\n",
       "      <th>pron_count</th>\n",
       "      <th>verb_count</th>\n",
       "      <th>det_count</th>\n",
       "      <th>adj_count</th>\n",
       "      <th>num_count</th>\n",
       "      <th>punct_count</th>\n",
       "      <th>noun_count</th>\n",
       "      <th>adp_count</th>\n",
       "      <th>cconj_count</th>\n",
       "      <th>sconj_count</th>\n",
       "      <th>adv_count</th>\n",
       "      <th>aux_count</th>\n",
       "      <th>part_count</th>\n",
       "      <th>propn_count</th>\n",
       "      <th>...</th>\n",
       "      <th>more_adv</th>\n",
       "      <th>even_adv</th>\n",
       "      <th>why_adv</th>\n",
       "      <th>maybe_adv</th>\n",
       "      <th>again_adv</th>\n",
       "      <th>now_adv</th>\n",
       "      <th>just_adv</th>\n",
       "      <th>how_adv</th>\n",
       "      <th>where_adv</th>\n",
       "      <th>very_adv</th>\n",
       "      <th>only_adv</th>\n",
       "      <th>there_adv</th>\n",
       "      <th>still_adv</th>\n",
       "      <th>so_adv</th>\n",
       "      <th>too_adv</th>\n",
       "      <th>when_adv</th>\n",
       "      <th>all_adv</th>\n",
       "      <th>here_adv</th>\n",
       "      <th>never_adv</th>\n",
       "      <th>as_adv</th>\n",
       "      <th>new_adj</th>\n",
       "      <th>other_adj</th>\n",
       "      <th>more_adj</th>\n",
       "      <th>small_adj</th>\n",
       "      <th>deep_adj</th>\n",
       "      <th>whole_adj</th>\n",
       "      <th>first_adj</th>\n",
       "      <th>bad_adj</th>\n",
       "      <th>little_adj</th>\n",
       "      <th>next_adj</th>\n",
       "      <th>much_adj</th>\n",
       "      <th>own_adj</th>\n",
       "      <th>hard_adj</th>\n",
       "      <th>last_adj</th>\n",
       "      <th>only_adj</th>\n",
       "      <th>big_adj</th>\n",
       "      <th>right_adj</th>\n",
       "      <th>long_adj</th>\n",
       "      <th>old_adj</th>\n",
       "      <th>strange_adj</th>\n",
       "      <th>same_adj</th>\n",
       "      <th>young_adj</th>\n",
       "      <th>sure_adj</th>\n",
       "      <th>able_adj</th>\n",
       "      <th>real_adj</th>\n",
       "      <th>different_adj</th>\n",
       "      <th>good_adj</th>\n",
       "      <th>few_adj</th>\n",
       "      <th>vlong_words_count</th>\n",
       "      <th>test_flag</th>\n",
       "    </tr>\n",
       "  </thead>\n",
       "  <tbody>\n",
       "    <tr>\n",
       "      <th>0</th>\n",
       "      <td>0.068931</td>\n",
       "      <td>0.238973</td>\n",
       "      <td>0.692096</td>\n",
       "      <td>1878</td>\n",
       "      <td>0</td>\n",
       "      <td>1</td>\n",
       "      <td>1</td>\n",
       "      <td>I’M IN THE kitchen cooking spaghetti when the ...</td>\n",
       "      <td>[57, 188, 221, 275, 309, 416, 571, 643, 717, 7...</td>\n",
       "      <td>[932, 1991, 2929, 3948, 4981, 5988, 6998, 7953...</td>\n",
       "      <td>I’M IN THEkitchen cooking spaghetti when the w...</td>\n",
       "      <td>Alfred Birnbaum</td>\n",
       "      <td>The Elephant Vanishes</td>\n",
       "      <td>(I’M, IN, THEkitchen, cooking, spaghetti, when...</td>\n",
       "      <td>14</td>\n",
       "      <td>166</td>\n",
       "      <td>731</td>\n",
       "      <td>230</td>\n",
       "      <td>109</td>\n",
       "      <td>33</td>\n",
       "      <td>112</td>\n",
       "      <td>8</td>\n",
       "      <td>0</td>\n",
       "      <td>929</td>\n",
       "      <td>15.069968</td>\n",
       "      <td>178.686760</td>\n",
       "      <td>786.867600</td>\n",
       "      <td>247.578041</td>\n",
       "      <td>117.330463</td>\n",
       "      <td>35.522067</td>\n",
       "      <td>120.559742</td>\n",
       "      <td>8.611410</td>\n",
       "      <td>0.8903</td>\n",
       "      <td>0.037</td>\n",
       "      <td>0.862</td>\n",
       "      <td>0.102</td>\n",
       "      <td>16.0</td>\n",
       "      <td>32.0</td>\n",
       "      <td>24.0</td>\n",
       "      <td>3.0</td>\n",
       "      <td>2.0</td>\n",
       "      <td>38.0</td>\n",
       "      <td>34.0</td>\n",
       "      <td>18.0</td>\n",
       "      <td>4.0</td>\n",
       "      <td>1.0</td>\n",
       "      <td>15.0</td>\n",
       "      <td>5.0</td>\n",
       "      <td>2.0</td>\n",
       "      <td>10.0</td>\n",
       "      <td>...</td>\n",
       "      <td>0</td>\n",
       "      <td>0</td>\n",
       "      <td>0</td>\n",
       "      <td>0</td>\n",
       "      <td>1</td>\n",
       "      <td>0</td>\n",
       "      <td>1</td>\n",
       "      <td>1</td>\n",
       "      <td>0</td>\n",
       "      <td>0</td>\n",
       "      <td>0</td>\n",
       "      <td>1</td>\n",
       "      <td>1</td>\n",
       "      <td>0</td>\n",
       "      <td>0</td>\n",
       "      <td>1</td>\n",
       "      <td>0</td>\n",
       "      <td>0</td>\n",
       "      <td>0</td>\n",
       "      <td>1</td>\n",
       "      <td>1</td>\n",
       "      <td>0</td>\n",
       "      <td>0</td>\n",
       "      <td>0</td>\n",
       "      <td>0</td>\n",
       "      <td>0</td>\n",
       "      <td>0</td>\n",
       "      <td>0</td>\n",
       "      <td>0</td>\n",
       "      <td>0</td>\n",
       "      <td>0</td>\n",
       "      <td>0</td>\n",
       "      <td>0</td>\n",
       "      <td>0</td>\n",
       "      <td>0</td>\n",
       "      <td>0</td>\n",
       "      <td>0</td>\n",
       "      <td>0</td>\n",
       "      <td>0</td>\n",
       "      <td>0</td>\n",
       "      <td>0</td>\n",
       "      <td>0</td>\n",
       "      <td>0</td>\n",
       "      <td>0</td>\n",
       "      <td>0</td>\n",
       "      <td>0</td>\n",
       "      <td>0</td>\n",
       "      <td>0</td>\n",
       "      <td>1</td>\n",
       "      <td>1</td>\n",
       "    </tr>\n",
       "    <tr>\n",
       "      <th>1</th>\n",
       "      <td>0.271783</td>\n",
       "      <td>0.232344</td>\n",
       "      <td>0.495873</td>\n",
       "      <td>1879</td>\n",
       "      <td>1</td>\n",
       "      <td>1</td>\n",
       "      <td>1</td>\n",
       "      <td>I’M IN THE kitchen cooking spaghetti when the ...</td>\n",
       "      <td>[57, 188, 221, 275, 309, 416, 571, 643, 717, 7...</td>\n",
       "      <td>[932, 1991, 2929, 3948, 4981, 5988, 6998, 7953...</td>\n",
       "      <td>And I pride myself on a near-perfect ear for v...</td>\n",
       "      <td>Alfred Birnbaum</td>\n",
       "      <td>The Elephant Vanishes</td>\n",
       "      <td>(And, I, pride, myself, on, a, near, -, perfec...</td>\n",
       "      <td>25</td>\n",
       "      <td>206</td>\n",
       "      <td>814</td>\n",
       "      <td>262</td>\n",
       "      <td>123</td>\n",
       "      <td>30</td>\n",
       "      <td>161</td>\n",
       "      <td>9</td>\n",
       "      <td>0</td>\n",
       "      <td>1057</td>\n",
       "      <td>23.651845</td>\n",
       "      <td>194.891202</td>\n",
       "      <td>770.104068</td>\n",
       "      <td>247.871334</td>\n",
       "      <td>116.367077</td>\n",
       "      <td>28.382214</td>\n",
       "      <td>152.317881</td>\n",
       "      <td>8.514664</td>\n",
       "      <td>0.7800</td>\n",
       "      <td>0.040</td>\n",
       "      <td>0.872</td>\n",
       "      <td>0.088</td>\n",
       "      <td>27.0</td>\n",
       "      <td>36.0</td>\n",
       "      <td>25.0</td>\n",
       "      <td>14.0</td>\n",
       "      <td>7.0</td>\n",
       "      <td>53.0</td>\n",
       "      <td>35.0</td>\n",
       "      <td>22.0</td>\n",
       "      <td>7.0</td>\n",
       "      <td>2.0</td>\n",
       "      <td>13.0</td>\n",
       "      <td>11.0</td>\n",
       "      <td>6.0</td>\n",
       "      <td>1.0</td>\n",
       "      <td>...</td>\n",
       "      <td>0</td>\n",
       "      <td>0</td>\n",
       "      <td>0</td>\n",
       "      <td>0</td>\n",
       "      <td>0</td>\n",
       "      <td>1</td>\n",
       "      <td>0</td>\n",
       "      <td>0</td>\n",
       "      <td>0</td>\n",
       "      <td>0</td>\n",
       "      <td>1</td>\n",
       "      <td>0</td>\n",
       "      <td>1</td>\n",
       "      <td>1</td>\n",
       "      <td>0</td>\n",
       "      <td>0</td>\n",
       "      <td>1</td>\n",
       "      <td>0</td>\n",
       "      <td>0</td>\n",
       "      <td>0</td>\n",
       "      <td>0</td>\n",
       "      <td>0</td>\n",
       "      <td>0</td>\n",
       "      <td>0</td>\n",
       "      <td>0</td>\n",
       "      <td>0</td>\n",
       "      <td>0</td>\n",
       "      <td>0</td>\n",
       "      <td>0</td>\n",
       "      <td>0</td>\n",
       "      <td>0</td>\n",
       "      <td>0</td>\n",
       "      <td>0</td>\n",
       "      <td>0</td>\n",
       "      <td>0</td>\n",
       "      <td>0</td>\n",
       "      <td>1</td>\n",
       "      <td>0</td>\n",
       "      <td>0</td>\n",
       "      <td>2</td>\n",
       "      <td>0</td>\n",
       "      <td>0</td>\n",
       "      <td>1</td>\n",
       "      <td>0</td>\n",
       "      <td>0</td>\n",
       "      <td>0</td>\n",
       "      <td>0</td>\n",
       "      <td>0</td>\n",
       "      <td>0</td>\n",
       "      <td>1</td>\n",
       "    </tr>\n",
       "    <tr>\n",
       "      <th>2</th>\n",
       "      <td>0.492409</td>\n",
       "      <td>0.142716</td>\n",
       "      <td>0.364875</td>\n",
       "      <td>1880</td>\n",
       "      <td>2</td>\n",
       "      <td>1</td>\n",
       "      <td>1</td>\n",
       "      <td>I’M IN THE kitchen cooking spaghetti when the ...</td>\n",
       "      <td>[57, 188, 221, 275, 309, 416, 571, 643, 717, 7...</td>\n",
       "      <td>[932, 1991, 2929, 3948, 4981, 5988, 6998, 7953...</td>\n",
       "      <td>“I hardly had any breakfast, so I was getting ...</td>\n",
       "      <td>Alfred Birnbaum</td>\n",
       "      <td>The Elephant Vanishes</td>\n",
       "      <td>(“, I, hardly, had, any, breakfast, ,, so, I, ...</td>\n",
       "      <td>20</td>\n",
       "      <td>178</td>\n",
       "      <td>711</td>\n",
       "      <td>224</td>\n",
       "      <td>117</td>\n",
       "      <td>29</td>\n",
       "      <td>142</td>\n",
       "      <td>10</td>\n",
       "      <td>0</td>\n",
       "      <td>936</td>\n",
       "      <td>21.367521</td>\n",
       "      <td>190.170940</td>\n",
       "      <td>759.615385</td>\n",
       "      <td>239.316239</td>\n",
       "      <td>125.000000</td>\n",
       "      <td>30.982906</td>\n",
       "      <td>151.709402</td>\n",
       "      <td>10.683761</td>\n",
       "      <td>-0.8738</td>\n",
       "      <td>0.073</td>\n",
       "      <td>0.909</td>\n",
       "      <td>0.018</td>\n",
       "      <td>28.0</td>\n",
       "      <td>36.0</td>\n",
       "      <td>22.0</td>\n",
       "      <td>11.0</td>\n",
       "      <td>1.0</td>\n",
       "      <td>56.0</td>\n",
       "      <td>20.0</td>\n",
       "      <td>15.0</td>\n",
       "      <td>5.0</td>\n",
       "      <td>3.0</td>\n",
       "      <td>20.0</td>\n",
       "      <td>9.0</td>\n",
       "      <td>5.0</td>\n",
       "      <td>0.0</td>\n",
       "      <td>...</td>\n",
       "      <td>0</td>\n",
       "      <td>0</td>\n",
       "      <td>0</td>\n",
       "      <td>0</td>\n",
       "      <td>0</td>\n",
       "      <td>3</td>\n",
       "      <td>1</td>\n",
       "      <td>0</td>\n",
       "      <td>0</td>\n",
       "      <td>0</td>\n",
       "      <td>0</td>\n",
       "      <td>0</td>\n",
       "      <td>0</td>\n",
       "      <td>3</td>\n",
       "      <td>1</td>\n",
       "      <td>2</td>\n",
       "      <td>0</td>\n",
       "      <td>0</td>\n",
       "      <td>0</td>\n",
       "      <td>1</td>\n",
       "      <td>0</td>\n",
       "      <td>0</td>\n",
       "      <td>0</td>\n",
       "      <td>0</td>\n",
       "      <td>0</td>\n",
       "      <td>0</td>\n",
       "      <td>0</td>\n",
       "      <td>0</td>\n",
       "      <td>0</td>\n",
       "      <td>0</td>\n",
       "      <td>0</td>\n",
       "      <td>1</td>\n",
       "      <td>0</td>\n",
       "      <td>0</td>\n",
       "      <td>0</td>\n",
       "      <td>0</td>\n",
       "      <td>0</td>\n",
       "      <td>0</td>\n",
       "      <td>0</td>\n",
       "      <td>0</td>\n",
       "      <td>0</td>\n",
       "      <td>0</td>\n",
       "      <td>0</td>\n",
       "      <td>0</td>\n",
       "      <td>0</td>\n",
       "      <td>0</td>\n",
       "      <td>0</td>\n",
       "      <td>0</td>\n",
       "      <td>0</td>\n",
       "      <td>1</td>\n",
       "    </tr>\n",
       "    <tr>\n",
       "      <th>3</th>\n",
       "      <td>0.718951</td>\n",
       "      <td>0.266874</td>\n",
       "      <td>0.014175</td>\n",
       "      <td>1881</td>\n",
       "      <td>3</td>\n",
       "      <td>1</td>\n",
       "      <td>1</td>\n",
       "      <td>I’M IN THE kitchen cooking spaghetti when the ...</td>\n",
       "      <td>[57, 188, 221, 275, 309, 416, 571, 643, 717, 7...</td>\n",
       "      <td>[932, 1991, 2929, 3948, 4981, 5988, 6998, 7953...</td>\n",
       "      <td>I stare blankly at the receiver in my hand and...</td>\n",
       "      <td>Alfred Birnbaum</td>\n",
       "      <td>The Elephant Vanishes</td>\n",
       "      <td>(I, stare, blankly, at, the, receiver, in, my,...</td>\n",
       "      <td>13</td>\n",
       "      <td>197</td>\n",
       "      <td>803</td>\n",
       "      <td>254</td>\n",
       "      <td>129</td>\n",
       "      <td>30</td>\n",
       "      <td>149</td>\n",
       "      <td>7</td>\n",
       "      <td>0</td>\n",
       "      <td>1018</td>\n",
       "      <td>12.770138</td>\n",
       "      <td>193.516699</td>\n",
       "      <td>788.801572</td>\n",
       "      <td>249.508841</td>\n",
       "      <td>126.719057</td>\n",
       "      <td>29.469548</td>\n",
       "      <td>146.365422</td>\n",
       "      <td>6.876228</td>\n",
       "      <td>0.9094</td>\n",
       "      <td>0.014</td>\n",
       "      <td>0.909</td>\n",
       "      <td>0.077</td>\n",
       "      <td>22.0</td>\n",
       "      <td>33.0</td>\n",
       "      <td>27.0</td>\n",
       "      <td>6.0</td>\n",
       "      <td>3.0</td>\n",
       "      <td>26.0</td>\n",
       "      <td>45.0</td>\n",
       "      <td>28.0</td>\n",
       "      <td>7.0</td>\n",
       "      <td>4.0</td>\n",
       "      <td>12.0</td>\n",
       "      <td>7.0</td>\n",
       "      <td>3.0</td>\n",
       "      <td>0.0</td>\n",
       "      <td>...</td>\n",
       "      <td>0</td>\n",
       "      <td>0</td>\n",
       "      <td>0</td>\n",
       "      <td>0</td>\n",
       "      <td>0</td>\n",
       "      <td>0</td>\n",
       "      <td>0</td>\n",
       "      <td>0</td>\n",
       "      <td>0</td>\n",
       "      <td>0</td>\n",
       "      <td>1</td>\n",
       "      <td>0</td>\n",
       "      <td>0</td>\n",
       "      <td>1</td>\n",
       "      <td>1</td>\n",
       "      <td>0</td>\n",
       "      <td>0</td>\n",
       "      <td>0</td>\n",
       "      <td>0</td>\n",
       "      <td>0</td>\n",
       "      <td>0</td>\n",
       "      <td>0</td>\n",
       "      <td>0</td>\n",
       "      <td>0</td>\n",
       "      <td>0</td>\n",
       "      <td>1</td>\n",
       "      <td>0</td>\n",
       "      <td>0</td>\n",
       "      <td>0</td>\n",
       "      <td>0</td>\n",
       "      <td>0</td>\n",
       "      <td>0</td>\n",
       "      <td>0</td>\n",
       "      <td>1</td>\n",
       "      <td>0</td>\n",
       "      <td>0</td>\n",
       "      <td>0</td>\n",
       "      <td>0</td>\n",
       "      <td>0</td>\n",
       "      <td>0</td>\n",
       "      <td>0</td>\n",
       "      <td>0</td>\n",
       "      <td>0</td>\n",
       "      <td>0</td>\n",
       "      <td>0</td>\n",
       "      <td>0</td>\n",
       "      <td>0</td>\n",
       "      <td>0</td>\n",
       "      <td>0</td>\n",
       "      <td>1</td>\n",
       "    </tr>\n",
       "    <tr>\n",
       "      <th>4</th>\n",
       "      <td>0.394721</td>\n",
       "      <td>0.497260</td>\n",
       "      <td>0.108019</td>\n",
       "      <td>1882</td>\n",
       "      <td>4</td>\n",
       "      <td>1</td>\n",
       "      <td>1</td>\n",
       "      <td>I’M IN THE kitchen cooking spaghetti when the ...</td>\n",
       "      <td>[57, 188, 221, 275, 309, 416, 571, 643, 717, 7...</td>\n",
       "      <td>[932, 1991, 2929, 3948, 4981, 5988, 6998, 7953...</td>\n",
       "      <td>What the hell, I tell myself, what do I care a...</td>\n",
       "      <td>Alfred Birnbaum</td>\n",
       "      <td>The Elephant Vanishes</td>\n",
       "      <td>(What, the, hell, ,, I, tell, myself, ,, what,...</td>\n",
       "      <td>15</td>\n",
       "      <td>193</td>\n",
       "      <td>812</td>\n",
       "      <td>250</td>\n",
       "      <td>123</td>\n",
       "      <td>28</td>\n",
       "      <td>152</td>\n",
       "      <td>11</td>\n",
       "      <td>0</td>\n",
       "      <td>1028</td>\n",
       "      <td>14.591440</td>\n",
       "      <td>187.743191</td>\n",
       "      <td>789.883268</td>\n",
       "      <td>243.190661</td>\n",
       "      <td>119.649805</td>\n",
       "      <td>27.237354</td>\n",
       "      <td>147.859922</td>\n",
       "      <td>10.700389</td>\n",
       "      <td>0.7617</td>\n",
       "      <td>0.044</td>\n",
       "      <td>0.872</td>\n",
       "      <td>0.085</td>\n",
       "      <td>19.0</td>\n",
       "      <td>28.0</td>\n",
       "      <td>27.0</td>\n",
       "      <td>11.0</td>\n",
       "      <td>6.0</td>\n",
       "      <td>25.0</td>\n",
       "      <td>37.0</td>\n",
       "      <td>22.0</td>\n",
       "      <td>2.0</td>\n",
       "      <td>7.0</td>\n",
       "      <td>17.0</td>\n",
       "      <td>7.0</td>\n",
       "      <td>5.0</td>\n",
       "      <td>5.0</td>\n",
       "      <td>...</td>\n",
       "      <td>0</td>\n",
       "      <td>1</td>\n",
       "      <td>0</td>\n",
       "      <td>1</td>\n",
       "      <td>0</td>\n",
       "      <td>1</td>\n",
       "      <td>2</td>\n",
       "      <td>0</td>\n",
       "      <td>0</td>\n",
       "      <td>0</td>\n",
       "      <td>0</td>\n",
       "      <td>0</td>\n",
       "      <td>0</td>\n",
       "      <td>1</td>\n",
       "      <td>2</td>\n",
       "      <td>0</td>\n",
       "      <td>0</td>\n",
       "      <td>0</td>\n",
       "      <td>0</td>\n",
       "      <td>0</td>\n",
       "      <td>1</td>\n",
       "      <td>0</td>\n",
       "      <td>0</td>\n",
       "      <td>0</td>\n",
       "      <td>0</td>\n",
       "      <td>0</td>\n",
       "      <td>0</td>\n",
       "      <td>0</td>\n",
       "      <td>0</td>\n",
       "      <td>0</td>\n",
       "      <td>0</td>\n",
       "      <td>0</td>\n",
       "      <td>0</td>\n",
       "      <td>0</td>\n",
       "      <td>0</td>\n",
       "      <td>0</td>\n",
       "      <td>1</td>\n",
       "      <td>0</td>\n",
       "      <td>0</td>\n",
       "      <td>1</td>\n",
       "      <td>0</td>\n",
       "      <td>0</td>\n",
       "      <td>0</td>\n",
       "      <td>0</td>\n",
       "      <td>0</td>\n",
       "      <td>0</td>\n",
       "      <td>1</td>\n",
       "      <td>1</td>\n",
       "      <td>2</td>\n",
       "      <td>1</td>\n",
       "    </tr>\n",
       "  </tbody>\n",
       "</table>\n",
       "<p>5 rows × 147 columns</p>\n",
       "</div>"
      ],
      "text/plain": [
       "   trans_0_pp  trans_1_pp  trans_2_pp  original_index  book_chunk_no number  \\\n",
       "0    0.068931    0.238973    0.692096            1878              0      1   \n",
       "1    0.271783    0.232344    0.495873            1879              1      1   \n",
       "2    0.492409    0.142716    0.364875            1880              2      1   \n",
       "3    0.718951    0.266874    0.014175            1881              3      1   \n",
       "4    0.394721    0.497260    0.108019            1882              4      1   \n",
       "\n",
       "  title                                               text  \\\n",
       "0     1  I’M IN THE kitchen cooking spaghetti when the ...   \n",
       "1     1  I’M IN THE kitchen cooking spaghetti when the ...   \n",
       "2     1  I’M IN THE kitchen cooking spaghetti when the ...   \n",
       "3     1  I’M IN THE kitchen cooking spaghetti when the ...   \n",
       "4     1  I’M IN THE kitchen cooking spaghetti when the ...   \n",
       "\n",
       "                                       fstop_indices  \\\n",
       "0  [57, 188, 221, 275, 309, 416, 571, 643, 717, 7...   \n",
       "1  [57, 188, 221, 275, 309, 416, 571, 643, 717, 7...   \n",
       "2  [57, 188, 221, 275, 309, 416, 571, 643, 717, 7...   \n",
       "3  [57, 188, 221, 275, 309, 416, 571, 643, 717, 7...   \n",
       "4  [57, 188, 221, 275, 309, 416, 571, 643, 717, 7...   \n",
       "\n",
       "                                       split_indices  \\\n",
       "0  [932, 1991, 2929, 3948, 4981, 5988, 6998, 7953...   \n",
       "1  [932, 1991, 2929, 3948, 4981, 5988, 6998, 7953...   \n",
       "2  [932, 1991, 2929, 3948, 4981, 5988, 6998, 7953...   \n",
       "3  [932, 1991, 2929, 3948, 4981, 5988, 6998, 7953...   \n",
       "4  [932, 1991, 2929, 3948, 4981, 5988, 6998, 7953...   \n",
       "\n",
       "                                              chunks       translator  \\\n",
       "0  I’M IN THEkitchen cooking spaghetti when the w...  Alfred Birnbaum   \n",
       "1  And I pride myself on a near-perfect ear for v...  Alfred Birnbaum   \n",
       "2  “I hardly had any breakfast, so I was getting ...  Alfred Birnbaum   \n",
       "3  I stare blankly at the receiver in my hand and...  Alfred Birnbaum   \n",
       "4  What the hell, I tell myself, what do I care a...  Alfred Birnbaum   \n",
       "\n",
       "              book_title                                             parsed  \\\n",
       "0  The Elephant Vanishes  (I’M, IN, THEkitchen, cooking, spaghetti, when...   \n",
       "1  The Elephant Vanishes  (And, I, pride, myself, on, a, near, -, perfec...   \n",
       "2  The Elephant Vanishes  (“, I, hardly, had, any, breakfast, ,, so, I, ...   \n",
       "3  The Elephant Vanishes  (I, stare, blankly, at, the, receiver, in, my,...   \n",
       "4  The Elephant Vanishes  (What, the, hell, ,, I, tell, myself, ,, what,...   \n",
       "\n",
       "   n_sents  n_words  n_chars  n_syllables  n_unique_words  n_long_words  \\\n",
       "0       14      166      731          230             109            33   \n",
       "1       25      206      814          262             123            30   \n",
       "2       20      178      711          224             117            29   \n",
       "3       13      197      803          254             129            30   \n",
       "4       15      193      812          250             123            28   \n",
       "\n",
       "   n_monosyllable_words  n_polysyllable_words  trans_code  chunk_length  \\\n",
       "0                   112                     8           0           929   \n",
       "1                   161                     9           0          1057   \n",
       "2                   142                    10           0           936   \n",
       "3                   149                     7           0          1018   \n",
       "4                   152                    11           0          1028   \n",
       "\n",
       "   n_sents_norm  n_words_norm  n_chars_norm  n_syllables_norm  \\\n",
       "0     15.069968    178.686760    786.867600        247.578041   \n",
       "1     23.651845    194.891202    770.104068        247.871334   \n",
       "2     21.367521    190.170940    759.615385        239.316239   \n",
       "3     12.770138    193.516699    788.801572        249.508841   \n",
       "4     14.591440    187.743191    789.883268        243.190661   \n",
       "\n",
       "   n_unique_words_norm  n_long_words_norm  n_monosyllable_words_norm  \\\n",
       "0           117.330463          35.522067                 120.559742   \n",
       "1           116.367077          28.382214                 152.317881   \n",
       "2           125.000000          30.982906                 151.709402   \n",
       "3           126.719057          29.469548                 146.365422   \n",
       "4           119.649805          27.237354                 147.859922   \n",
       "\n",
       "   n_polysyllable_words_norm  vader_compound  vader_neg  vader_neu  vader_pos  \\\n",
       "0                   8.611410          0.8903      0.037      0.862      0.102   \n",
       "1                   8.514664          0.7800      0.040      0.872      0.088   \n",
       "2                  10.683761         -0.8738      0.073      0.909      0.018   \n",
       "3                   6.876228          0.9094      0.014      0.909      0.077   \n",
       "4                  10.700389          0.7617      0.044      0.872      0.085   \n",
       "\n",
       "   pron_count  verb_count  det_count  adj_count  num_count  punct_count  \\\n",
       "0        16.0        32.0       24.0        3.0        2.0         38.0   \n",
       "1        27.0        36.0       25.0       14.0        7.0         53.0   \n",
       "2        28.0        36.0       22.0       11.0        1.0         56.0   \n",
       "3        22.0        33.0       27.0        6.0        3.0         26.0   \n",
       "4        19.0        28.0       27.0       11.0        6.0         25.0   \n",
       "\n",
       "   noun_count  adp_count  cconj_count  sconj_count  adv_count  aux_count  \\\n",
       "0        34.0       18.0          4.0          1.0       15.0        5.0   \n",
       "1        35.0       22.0          7.0          2.0       13.0       11.0   \n",
       "2        20.0       15.0          5.0          3.0       20.0        9.0   \n",
       "3        45.0       28.0          7.0          4.0       12.0        7.0   \n",
       "4        37.0       22.0          2.0          7.0       17.0        7.0   \n",
       "\n",
       "   part_count  propn_count  ...  more_adv  even_adv  why_adv  maybe_adv  \\\n",
       "0         2.0         10.0  ...         0         0        0          0   \n",
       "1         6.0          1.0  ...         0         0        0          0   \n",
       "2         5.0          0.0  ...         0         0        0          0   \n",
       "3         3.0          0.0  ...         0         0        0          0   \n",
       "4         5.0          5.0  ...         0         1        0          1   \n",
       "\n",
       "   again_adv  now_adv  just_adv  how_adv  where_adv  very_adv  only_adv  \\\n",
       "0          1        0         1        1          0         0         0   \n",
       "1          0        1         0        0          0         0         1   \n",
       "2          0        3         1        0          0         0         0   \n",
       "3          0        0         0        0          0         0         1   \n",
       "4          0        1         2        0          0         0         0   \n",
       "\n",
       "   there_adv  still_adv  so_adv  too_adv  when_adv  all_adv  here_adv  \\\n",
       "0          1          1       0        0         1        0         0   \n",
       "1          0          1       1        0         0        1         0   \n",
       "2          0          0       3        1         2        0         0   \n",
       "3          0          0       1        1         0        0         0   \n",
       "4          0          0       1        2         0        0         0   \n",
       "\n",
       "   never_adv  as_adv  new_adj  other_adj  more_adj  small_adj  deep_adj  \\\n",
       "0          0       1        1          0         0          0         0   \n",
       "1          0       0        0          0         0          0         0   \n",
       "2          0       1        0          0         0          0         0   \n",
       "3          0       0        0          0         0          0         0   \n",
       "4          0       0        1          0         0          0         0   \n",
       "\n",
       "   whole_adj  first_adj  bad_adj  little_adj  next_adj  much_adj  own_adj  \\\n",
       "0          0          0        0           0         0         0        0   \n",
       "1          0          0        0           0         0         0        0   \n",
       "2          0          0        0           0         0         0        1   \n",
       "3          1          0        0           0         0         0        0   \n",
       "4          0          0        0           0         0         0        0   \n",
       "\n",
       "   hard_adj  last_adj  only_adj  big_adj  right_adj  long_adj  old_adj  \\\n",
       "0         0         0         0        0          0         0        0   \n",
       "1         0         0         0        0          1         0        0   \n",
       "2         0         0         0        0          0         0        0   \n",
       "3         0         1         0        0          0         0        0   \n",
       "4         0         0         0        0          1         0        0   \n",
       "\n",
       "  strange_adj same_adj young_adj sure_adj  able_adj  real_adj  different_adj  \\\n",
       "0           0        0         0        0         0         0              0   \n",
       "1           2        0         0        1         0         0              0   \n",
       "2           0        0         0        0         0         0              0   \n",
       "3           0        0         0        0         0         0              0   \n",
       "4           1        0         0        0         0         0              0   \n",
       "\n",
       "   good_adj  few_adj  vlong_words_count  test_flag  \n",
       "0         0        0                  1          1  \n",
       "1         0        0                  0          1  \n",
       "2         0        0                  0          1  \n",
       "3         0        0                  0          1  \n",
       "4         1        1                  2          1  \n",
       "\n",
       "[5 rows x 147 columns]"
      ]
     },
     "execution_count": 87,
     "metadata": {},
     "output_type": "execute_result"
    }
   ],
   "source": [
    "Y_pp_merged.head()"
   ]
  },
  {
   "cell_type": "code",
   "execution_count": 88,
   "metadata": {
    "ExecuteTime": {
     "end_time": "2020-06-11T12:44:01.914174Z",
     "start_time": "2020-06-11T12:44:01.891952Z"
    }
   },
   "outputs": [
    {
     "data": {
      "text/html": [
       "<div>\n",
       "<style scoped>\n",
       "    .dataframe tbody tr th:only-of-type {\n",
       "        vertical-align: middle;\n",
       "    }\n",
       "\n",
       "    .dataframe tbody tr th {\n",
       "        vertical-align: top;\n",
       "    }\n",
       "\n",
       "    .dataframe thead th {\n",
       "        text-align: right;\n",
       "    }\n",
       "</style>\n",
       "<table border=\"1\" class=\"dataframe\">\n",
       "  <thead>\n",
       "    <tr style=\"text-align: right;\">\n",
       "      <th></th>\n",
       "      <th>trans_0_pp</th>\n",
       "      <th>trans_1_pp</th>\n",
       "      <th>trans_2_pp</th>\n",
       "      <th>chunks</th>\n",
       "      <th>translator</th>\n",
       "      <th>book_title</th>\n",
       "      <th>book_chunk_no</th>\n",
       "      <th>number</th>\n",
       "    </tr>\n",
       "  </thead>\n",
       "  <tbody>\n",
       "    <tr>\n",
       "      <th>555</th>\n",
       "      <td>0.906325</td>\n",
       "      <td>0.075669</td>\n",
       "      <td>0.018005</td>\n",
       "      <td>They buy the sake, order the sushi, do the con...</td>\n",
       "      <td>Alfred Birnbaum</td>\n",
       "      <td>Norwegian Wood</td>\n",
       "      <td>151</td>\n",
       "      <td>9</td>\n",
       "    </tr>\n",
       "    <tr>\n",
       "      <th>255</th>\n",
       "      <td>0.889699</td>\n",
       "      <td>0.069218</td>\n",
       "      <td>0.041083</td>\n",
       "      <td>Same as ever,\" I said, but then I recalled my ...</td>\n",
       "      <td>Jay Rubin</td>\n",
       "      <td>Norwegian Wood</td>\n",
       "      <td>482</td>\n",
       "      <td>2</td>\n",
       "    </tr>\n",
       "    <tr>\n",
       "      <th>210</th>\n",
       "      <td>0.885361</td>\n",
       "      <td>0.071775</td>\n",
       "      <td>0.042863</td>\n",
       "      <td>I’ll give it to you - the TV, the thermos flas...</td>\n",
       "      <td>Jay Rubin</td>\n",
       "      <td>Norwegian Wood</td>\n",
       "      <td>437</td>\n",
       "      <td>2</td>\n",
       "    </tr>\n",
       "    <tr>\n",
       "      <th>79</th>\n",
       "      <td>0.883448</td>\n",
       "      <td>0.105965</td>\n",
       "      <td>0.010587</td>\n",
       "      <td>The yard of this house was very large. It had...</td>\n",
       "      <td>Jay Rubin</td>\n",
       "      <td>The Wind Up Bird Chronicle</td>\n",
       "      <td>27</td>\n",
       "      <td>1</td>\n",
       "    </tr>\n",
       "    <tr>\n",
       "      <th>463</th>\n",
       "      <td>0.882756</td>\n",
       "      <td>0.068277</td>\n",
       "      <td>0.048967</td>\n",
       "      <td>I’ve never done it under such controlled condi...</td>\n",
       "      <td>Alfred Birnbaum</td>\n",
       "      <td>Norwegian Wood</td>\n",
       "      <td>58</td>\n",
       "      <td>7</td>\n",
       "    </tr>\n",
       "  </tbody>\n",
       "</table>\n",
       "</div>"
      ],
      "text/plain": [
       "     trans_0_pp  trans_1_pp  trans_2_pp  \\\n",
       "555    0.906325    0.075669    0.018005   \n",
       "255    0.889699    0.069218    0.041083   \n",
       "210    0.885361    0.071775    0.042863   \n",
       "79     0.883448    0.105965    0.010587   \n",
       "463    0.882756    0.068277    0.048967   \n",
       "\n",
       "                                                chunks       translator  \\\n",
       "555  They buy the sake, order the sushi, do the con...  Alfred Birnbaum   \n",
       "255  Same as ever,\" I said, but then I recalled my ...        Jay Rubin   \n",
       "210  I’ll give it to you - the TV, the thermos flas...        Jay Rubin   \n",
       "79    The yard of this house was very large. It had...        Jay Rubin   \n",
       "463  I’ve never done it under such controlled condi...  Alfred Birnbaum   \n",
       "\n",
       "                     book_title  book_chunk_no number  \n",
       "555              Norwegian Wood            151      9  \n",
       "255              Norwegian Wood            482      2  \n",
       "210              Norwegian Wood            437      2  \n",
       "79   The Wind Up Bird Chronicle             27      1  \n",
       "463              Norwegian Wood             58      7  "
      ]
     },
     "execution_count": 88,
     "metadata": {},
     "output_type": "execute_result"
    }
   ],
   "source": [
    "Y_pp_merged[['trans_0_pp', 'trans_1_pp', 'trans_2_pp', 'chunks', 'translator', 'book_title', 'book_chunk_no', 'number']] \\\n",
    "                                  .sort_values('trans_0_pp', ascending=False).head(5)"
   ]
  },
  {
   "cell_type": "code",
   "execution_count": 89,
   "metadata": {
    "ExecuteTime": {
     "end_time": "2020-06-11T12:44:23.979354Z",
     "start_time": "2020-06-11T12:44:23.959446Z"
    }
   },
   "outputs": [
    {
     "data": {
      "text/html": [
       "<div>\n",
       "<style scoped>\n",
       "    .dataframe tbody tr th:only-of-type {\n",
       "        vertical-align: middle;\n",
       "    }\n",
       "\n",
       "    .dataframe tbody tr th {\n",
       "        vertical-align: top;\n",
       "    }\n",
       "\n",
       "    .dataframe thead th {\n",
       "        text-align: right;\n",
       "    }\n",
       "</style>\n",
       "<table border=\"1\" class=\"dataframe\">\n",
       "  <thead>\n",
       "    <tr style=\"text-align: right;\">\n",
       "      <th></th>\n",
       "      <th>trans_0_pp</th>\n",
       "      <th>trans_1_pp</th>\n",
       "      <th>trans_2_pp</th>\n",
       "      <th>chunks</th>\n",
       "      <th>translator</th>\n",
       "      <th>book_title</th>\n",
       "      <th>book_chunk_no</th>\n",
       "      <th>number</th>\n",
       "    </tr>\n",
       "  </thead>\n",
       "  <tbody>\n",
       "    <tr>\n",
       "      <th>349</th>\n",
       "      <td>0.020338</td>\n",
       "      <td>0.966363</td>\n",
       "      <td>0.013299</td>\n",
       "      <td>After saying goodbye to Midori, I bought a new...</td>\n",
       "      <td>Jay Rubin</td>\n",
       "      <td>Norwegian Wood</td>\n",
       "      <td>576</td>\n",
       "      <td>2</td>\n",
       "    </tr>\n",
       "    <tr>\n",
       "      <th>373</th>\n",
       "      <td>0.020789</td>\n",
       "      <td>0.958256</td>\n",
       "      <td>0.020956</td>\n",
       "      <td>\"No problem,\" I said. \"I have a big closet I ...</td>\n",
       "      <td>Jay Rubin</td>\n",
       "      <td>Norwegian Wood</td>\n",
       "      <td>600</td>\n",
       "      <td>2</td>\n",
       "    </tr>\n",
       "    <tr>\n",
       "      <th>121</th>\n",
       "      <td>0.034235</td>\n",
       "      <td>0.947123</td>\n",
       "      <td>0.018641</td>\n",
       "      <td>They said that I had snipped the clothes off m...</td>\n",
       "      <td>Jay Rubin</td>\n",
       "      <td>Norwegian Wood</td>\n",
       "      <td>348</td>\n",
       "      <td>2</td>\n",
       "    </tr>\n",
       "    <tr>\n",
       "      <th>107</th>\n",
       "      <td>0.057227</td>\n",
       "      <td>0.925386</td>\n",
       "      <td>0.017388</td>\n",
       "      <td>She asked me hundreds of questions - she was d...</td>\n",
       "      <td>Jay Rubin</td>\n",
       "      <td>Norwegian Wood</td>\n",
       "      <td>334</td>\n",
       "      <td>2</td>\n",
       "    </tr>\n",
       "    <tr>\n",
       "      <th>125</th>\n",
       "      <td>0.062161</td>\n",
       "      <td>0.919644</td>\n",
       "      <td>0.018195</td>\n",
       "      <td>So he suggested that I leave first, go somewhe...</td>\n",
       "      <td>Jay Rubin</td>\n",
       "      <td>Norwegian Wood</td>\n",
       "      <td>352</td>\n",
       "      <td>2</td>\n",
       "    </tr>\n",
       "  </tbody>\n",
       "</table>\n",
       "</div>"
      ],
      "text/plain": [
       "     trans_0_pp  trans_1_pp  trans_2_pp  \\\n",
       "349    0.020338    0.966363    0.013299   \n",
       "373    0.020789    0.958256    0.020956   \n",
       "121    0.034235    0.947123    0.018641   \n",
       "107    0.057227    0.925386    0.017388   \n",
       "125    0.062161    0.919644    0.018195   \n",
       "\n",
       "                                                chunks translator  \\\n",
       "349  After saying goodbye to Midori, I bought a new...  Jay Rubin   \n",
       "373   \"No problem,\" I said. \"I have a big closet I ...  Jay Rubin   \n",
       "121  They said that I had snipped the clothes off m...  Jay Rubin   \n",
       "107  She asked me hundreds of questions - she was d...  Jay Rubin   \n",
       "125  So he suggested that I leave first, go somewhe...  Jay Rubin   \n",
       "\n",
       "         book_title  book_chunk_no number  \n",
       "349  Norwegian Wood            576      2  \n",
       "373  Norwegian Wood            600      2  \n",
       "121  Norwegian Wood            348      2  \n",
       "107  Norwegian Wood            334      2  \n",
       "125  Norwegian Wood            352      2  "
      ]
     },
     "execution_count": 89,
     "metadata": {},
     "output_type": "execute_result"
    }
   ],
   "source": [
    "Y_pp_merged[['trans_0_pp', 'trans_1_pp', 'trans_2_pp', 'chunks', 'translator', 'book_title', 'book_chunk_no', 'number']] \\\n",
    "                                  .sort_values('trans_1_pp', ascending=False).head(5)"
   ]
  },
  {
   "cell_type": "code",
   "execution_count": 90,
   "metadata": {
    "ExecuteTime": {
     "end_time": "2020-06-11T12:44:33.617199Z",
     "start_time": "2020-06-11T12:44:33.597044Z"
    }
   },
   "outputs": [
    {
     "data": {
      "text/html": [
       "<div>\n",
       "<style scoped>\n",
       "    .dataframe tbody tr th:only-of-type {\n",
       "        vertical-align: middle;\n",
       "    }\n",
       "\n",
       "    .dataframe tbody tr th {\n",
       "        vertical-align: top;\n",
       "    }\n",
       "\n",
       "    .dataframe thead th {\n",
       "        text-align: right;\n",
       "    }\n",
       "</style>\n",
       "<table border=\"1\" class=\"dataframe\">\n",
       "  <thead>\n",
       "    <tr style=\"text-align: right;\">\n",
       "      <th></th>\n",
       "      <th>trans_0_pp</th>\n",
       "      <th>trans_1_pp</th>\n",
       "      <th>trans_2_pp</th>\n",
       "      <th>chunks</th>\n",
       "      <th>translator</th>\n",
       "      <th>book_title</th>\n",
       "      <th>book_chunk_no</th>\n",
       "      <th>number</th>\n",
       "    </tr>\n",
       "  </thead>\n",
       "  <tbody>\n",
       "    <tr>\n",
       "      <th>520</th>\n",
       "      <td>0.055229</td>\n",
       "      <td>0.024142</td>\n",
       "      <td>0.920629</td>\n",
       "      <td>How come these simpletons don’t make an effort...</td>\n",
       "      <td>Alfred Birnbaum</td>\n",
       "      <td>Norwegian Wood</td>\n",
       "      <td>115</td>\n",
       "      <td>8</td>\n",
       "    </tr>\n",
       "    <tr>\n",
       "      <th>689</th>\n",
       "      <td>0.034747</td>\n",
       "      <td>0.061124</td>\n",
       "      <td>0.904129</td>\n",
       "      <td>After all, you’d already made your decision be...</td>\n",
       "      <td>Alfred Birnbaum</td>\n",
       "      <td>Norwegian Wood</td>\n",
       "      <td>285</td>\n",
       "      <td>11</td>\n",
       "    </tr>\n",
       "    <tr>\n",
       "      <th>575</th>\n",
       "      <td>0.062731</td>\n",
       "      <td>0.048439</td>\n",
       "      <td>0.888830</td>\n",
       "      <td>Midori burrowed her nose into my chest, her ha...</td>\n",
       "      <td>Alfred Birnbaum</td>\n",
       "      <td>Norwegian Wood</td>\n",
       "      <td>171</td>\n",
       "      <td>9</td>\n",
       "    </tr>\n",
       "    <tr>\n",
       "      <th>338</th>\n",
       "      <td>0.039494</td>\n",
       "      <td>0.090183</td>\n",
       "      <td>0.870323</td>\n",
       "      <td>\"How can you be such an idiot? Of course I wa...</td>\n",
       "      <td>Jay Rubin</td>\n",
       "      <td>Norwegian Wood</td>\n",
       "      <td>565</td>\n",
       "      <td>2</td>\n",
       "    </tr>\n",
       "    <tr>\n",
       "      <th>213</th>\n",
       "      <td>0.115853</td>\n",
       "      <td>0.025316</td>\n",
       "      <td>0.858831</td>\n",
       "      <td>They’re working their fingers to the bone. Or ...</td>\n",
       "      <td>Jay Rubin</td>\n",
       "      <td>Norwegian Wood</td>\n",
       "      <td>440</td>\n",
       "      <td>2</td>\n",
       "    </tr>\n",
       "  </tbody>\n",
       "</table>\n",
       "</div>"
      ],
      "text/plain": [
       "     trans_0_pp  trans_1_pp  trans_2_pp  \\\n",
       "520    0.055229    0.024142    0.920629   \n",
       "689    0.034747    0.061124    0.904129   \n",
       "575    0.062731    0.048439    0.888830   \n",
       "338    0.039494    0.090183    0.870323   \n",
       "213    0.115853    0.025316    0.858831   \n",
       "\n",
       "                                                chunks       translator  \\\n",
       "520  How come these simpletons don’t make an effort...  Alfred Birnbaum   \n",
       "689  After all, you’d already made your decision be...  Alfred Birnbaum   \n",
       "575  Midori burrowed her nose into my chest, her ha...  Alfred Birnbaum   \n",
       "338   \"How can you be such an idiot? Of course I wa...        Jay Rubin   \n",
       "213  They’re working their fingers to the bone. Or ...        Jay Rubin   \n",
       "\n",
       "         book_title  book_chunk_no number  \n",
       "520  Norwegian Wood            115      8  \n",
       "689  Norwegian Wood            285     11  \n",
       "575  Norwegian Wood            171      9  \n",
       "338  Norwegian Wood            565      2  \n",
       "213  Norwegian Wood            440      2  "
      ]
     },
     "execution_count": 90,
     "metadata": {},
     "output_type": "execute_result"
    }
   ],
   "source": [
    "Y_pp_merged[['trans_0_pp', 'trans_1_pp', 'trans_2_pp', 'chunks', 'translator', 'book_title', 'book_chunk_no', 'number']] \\\n",
    "                                  .sort_values('trans_2_pp', ascending=False).head(5)"
   ]
  },
  {
   "cell_type": "markdown",
   "metadata": {},
   "source": [
    "## Most confident for translator 0: \n",
    "* better now without 'A wild sheep chase' with the strange dialogue!"
   ]
  },
  {
   "cell_type": "code",
   "execution_count": 91,
   "metadata": {
    "ExecuteTime": {
     "end_time": "2020-06-11T12:44:39.444710Z",
     "start_time": "2020-06-11T12:44:39.433804Z"
    }
   },
   "outputs": [
    {
     "data": {
      "text/plain": [
       "'They buy the sake, order the sushi, do the consoling and the crying, raise a fuss, divvy up the keepsakes. It’s easy. A picnic compared to visiting the hospital day in and day out, a real picnic. We were so exhausted, my sister and me, no tears would even come. Honest. It was enough to make others see us as cold. Still, we refused to cry, out of spite almost. Sure, we could have cried false tears, but no way were we about to put on a show for anyone. Everyone expecting us to cry only made us want to do the opposite. My sister and I are alike in that way, though otherwise we’re totally different.\" Midori’s bracelets rattled as she summoned a waiter to order another Tom Collins and pis\\xadtachios. \"Once everyone had gone home, we stayed up drinking sake until dawn, a whole big bottle of it. We bad-mouthed the lot of them, the funeral crowd. So-and-so was a real idiot, this guy a jerk. Mangy dogs, pigs, hypocrites, common crooks. The whole night through. We got it out of our systems and felt loads better for it.\" \"I bet.'"
      ]
     },
     "execution_count": 91,
     "metadata": {},
     "output_type": "execute_result"
    }
   ],
   "source": [
    "Y_pp_merged[['trans_0_pp', 'trans_1_pp', 'trans_2_pp', 'chunks', 'translator', 'book_title']] \\\n",
    "                                  .sort_values('trans_0_pp', ascending=False).iloc[0,3]"
   ]
  },
  {
   "cell_type": "markdown",
   "metadata": {},
   "source": [
    "## Most confident for translator 1"
   ]
  },
  {
   "cell_type": "code",
   "execution_count": 94,
   "metadata": {
    "ExecuteTime": {
     "end_time": "2020-06-11T12:44:50.471042Z",
     "start_time": "2020-06-11T12:44:50.461059Z"
    }
   },
   "outputs": [
    {
     "data": {
      "text/plain": [
       "'After saying goodbye to Midori, I bought a newspaper at the station, but when I opened it on the train, I realized I had absolutely no desire to read a paper and in fact couldn’t understand what it said. All I could do was glare at the incomprehensible page of print and wonder what was going to happen to me from now on, and how the things around me would be changing. I felt as if the world was pulsating every now and then. I sighed deeply and closed my eyes. As regards what I had done that day, I felt not the slightest regret; I knew for certain that if I had to do it all over again, I would live this day in exactly the same way. I would hold Midori tight on the roof in the rain; I would get soaking wet with her; and I would let her fingers bring me to climax in her bed. I had no doubts about those things. I loved Midori, and I was happy that she had come back to me. The two of us could make it, that was certain. As Midori herself had said, she was a real, live girl with blood in her veins, and she was putting her warm body in my arms.'"
      ]
     },
     "execution_count": 94,
     "metadata": {},
     "output_type": "execute_result"
    }
   ],
   "source": [
    "Y_pp_merged[['trans_0_pp', 'trans_1_pp', 'trans_2_pp', 'chunks', 'translator', 'book_title']] \\\n",
    "                                  .sort_values('trans_1_pp', ascending=False).iloc[0,3]"
   ]
  },
  {
   "cell_type": "markdown",
   "metadata": {
    "ExecuteTime": {
     "end_time": "2020-05-15T14:04:56.367145Z",
     "start_time": "2020-05-15T14:04:56.364061Z"
    }
   },
   "source": [
    "## Most confident for translator 2"
   ]
  },
  {
   "cell_type": "code",
   "execution_count": 97,
   "metadata": {
    "ExecuteTime": {
     "end_time": "2020-06-11T12:45:07.817413Z",
     "start_time": "2020-06-11T12:45:07.808096Z"
    }
   },
   "outputs": [
    {
     "data": {
      "text/plain": [
       "'How come these simpletons don’t make an effort? They don’t make an effort and they complain that things are unfair!\" I shot Nagasawa a surprised look. \"Correct me if I’m wrong, but from where I sit I sure get the impres\\xadsion that people are grinding away like mad. Am I wrong?\" \"That’s not effort, that’s just labor,\" Nagasawa spat out. \"Not the effort I’m talking about. The ef\\xadfort I’m talking about is to go about things with will and purpose.\" \"Like taking up Spanish once you’ve landed a job, when everybody else would just lie back?\" \"Precisely. I’m going to master Spanish by spring. To add to my English and German and French, plus passable Italian. Can you get this far without making an effort?\" He took a drag on his cigarette and I thought of 103 Midori’s father. I don’t think he would even think of studying Spanish from TV. A difference between effort and labor? He’d probably been too busy to even consider that. Busy with work, busy bringing his daughter back from Fukushima.'"
      ]
     },
     "execution_count": 97,
     "metadata": {},
     "output_type": "execute_result"
    }
   ],
   "source": [
    "Y_pp_merged[['trans_0_pp', 'trans_1_pp', 'trans_2_pp', 'chunks', 'translator', 'book_title']] \\\n",
    "                                  .sort_values('trans_2_pp', ascending=False).iloc[0,3]"
   ]
  },
  {
   "cell_type": "markdown",
   "metadata": {},
   "source": [
    "## Version 2 - 2 translators in training set, 2 translators in test set\n",
    "\n",
    "* Train Test Split with Test as both versions of Norwegian Wood and WUBC chapter 1\n",
    "* Training only includes Birnbaum and Rubin"
   ]
  },
  {
   "cell_type": "code",
   "execution_count": 113,
   "metadata": {
    "ExecuteTime": {
     "end_time": "2020-06-11T13:23:22.716163Z",
     "start_time": "2020-06-11T13:23:22.702805Z"
    }
   },
   "outputs": [
    {
     "data": {
      "text/plain": [
       "array(['A Wild Sheep Chase', 'The Elephant Vanishes',\n",
       "       'The Wind Up Bird Chronicle', 'Norwegian Wood',\n",
       "       'Dance Dance Dance'], dtype=object)"
      ]
     },
     "execution_count": 113,
     "metadata": {},
     "output_type": "execute_result"
    }
   ],
   "source": [
    "df_2 = df[df.translator != 'Philip Gabriel']\n",
    "df_2['book_title'].unique()"
   ]
  },
  {
   "cell_type": "markdown",
   "metadata": {},
   "source": [
    "### Set Target and Predictor variables"
   ]
  },
  {
   "cell_type": "code",
   "execution_count": 114,
   "metadata": {
    "ExecuteTime": {
     "end_time": "2020-06-11T13:23:23.818781Z",
     "start_time": "2020-06-11T13:23:23.809636Z"
    }
   },
   "outputs": [],
   "source": [
    "X = df_2[predictor_cols]\n",
    "y = df_2['trans_code']"
   ]
  },
  {
   "cell_type": "markdown",
   "metadata": {},
   "source": [
    "### Set column to flag chunks to use as test dataset"
   ]
  },
  {
   "cell_type": "code",
   "execution_count": 115,
   "metadata": {
    "ExecuteTime": {
     "end_time": "2020-06-11T13:23:25.881137Z",
     "start_time": "2020-06-11T13:23:25.298403Z"
    }
   },
   "outputs": [
    {
     "name": "stderr",
     "output_type": "stream",
     "text": [
      "<ipython-input-115-7db1f285c1ab>:1: SettingWithCopyWarning: \n",
      "A value is trying to be set on a copy of a slice from a DataFrame.\n",
      "Try using .loc[row_indexer,col_indexer] = value instead\n",
      "\n",
      "See the caveats in the documentation: https://pandas.pydata.org/pandas-docs/stable/user_guide/indexing.html#returning-a-view-versus-a-copy\n",
      "  df_2['test_flag'] = 0\n",
      "<ipython-input-115-7db1f285c1ab>:3: SettingWithCopyWarning: \n",
      "A value is trying to be set on a copy of a slice from a DataFrame.\n",
      "Try using .loc[row_indexer,col_indexer] = value instead\n",
      "\n",
      "See the caveats in the documentation: https://pandas.pydata.org/pandas-docs/stable/user_guide/indexing.html#returning-a-view-versus-a-copy\n",
      "  df_2['test_flag'] = df_2.apply(\n",
      "<ipython-input-115-7db1f285c1ab>:11: SettingWithCopyWarning: \n",
      "A value is trying to be set on a copy of a slice from a DataFrame.\n",
      "Try using .loc[row_indexer,col_indexer] = value instead\n",
      "\n",
      "See the caveats in the documentation: https://pandas.pydata.org/pandas-docs/stable/user_guide/indexing.html#returning-a-view-versus-a-copy\n",
      "  df_2['test_flag'] = df_2.apply(\n",
      "<ipython-input-115-7db1f285c1ab>:18: SettingWithCopyWarning: \n",
      "A value is trying to be set on a copy of a slice from a DataFrame.\n",
      "Try using .loc[row_indexer,col_indexer] = value instead\n",
      "\n",
      "See the caveats in the documentation: https://pandas.pydata.org/pandas-docs/stable/user_guide/indexing.html#returning-a-view-versus-a-copy\n",
      "  df_2['test_flag'] = df_2.apply(\n",
      "<ipython-input-115-7db1f285c1ab>:26: SettingWithCopyWarning: \n",
      "A value is trying to be set on a copy of a slice from a DataFrame.\n",
      "Try using .loc[row_indexer,col_indexer] = value instead\n",
      "\n",
      "See the caveats in the documentation: https://pandas.pydata.org/pandas-docs/stable/user_guide/indexing.html#returning-a-view-versus-a-copy\n",
      "  df_2['test_flag'] = df_2.apply(\n"
     ]
    }
   ],
   "source": [
    "df_2['test_flag'] = 0\n",
    "\n",
    "df_2['test_flag'] = df_2.apply(\n",
    "    lambda row: 1 if row['book_title'] == 'Norwegian Wood' \n",
    "                    and row['translator'] == 'Jay Rubin' \n",
    "                    and row['book_chunk_no'] >= 321 \n",
    "                    else row['test_flag'],\n",
    "    axis=1\n",
    ")\n",
    "\n",
    "df_2['test_flag'] = df_2.apply(\n",
    "    lambda row: 1 if row['book_title'] == 'Norwegian Wood' \n",
    "                    and row['translator'] == 'Alfred Birnbaum' \n",
    "                    else row['test_flag'],\n",
    "    axis=1\n",
    ")\n",
    "\n",
    "df_2['test_flag'] = df_2.apply(\n",
    "    lambda row: 1 if row['book_title'] == 'The Wind Up Bird Chronicle' \n",
    "                    and row['number'] == '1' \n",
    "                    and row['book_chunk_no'] < 60\n",
    "                    else row['test_flag'],\n",
    "    axis=1\n",
    ")\n",
    "\n",
    "df_2['test_flag'] = df_2.apply(\n",
    "    lambda row: 1 if row['book_title'] == 'The Elephant Vanishes' \n",
    "                    and row['number'] == 1 \n",
    "                    else row['test_flag'],\n",
    "    axis=1\n",
    ")"
   ]
  },
  {
   "cell_type": "code",
   "execution_count": 116,
   "metadata": {
    "ExecuteTime": {
     "end_time": "2020-06-11T13:23:30.329351Z",
     "start_time": "2020-06-11T13:23:30.322829Z"
    }
   },
   "outputs": [
    {
     "data": {
      "text/plain": [
       "700"
      ]
     },
     "execution_count": 116,
     "metadata": {},
     "output_type": "execute_result"
    }
   ],
   "source": [
    "df_2['test_flag'].sum()"
   ]
  },
  {
   "cell_type": "code",
   "execution_count": 117,
   "metadata": {
    "ExecuteTime": {
     "end_time": "2020-06-11T13:23:31.097102Z",
     "start_time": "2020-06-11T13:23:31.092415Z"
    }
   },
   "outputs": [],
   "source": [
    "indices = list(df_2.index)"
   ]
  },
  {
   "cell_type": "code",
   "execution_count": 118,
   "metadata": {
    "ExecuteTime": {
     "end_time": "2020-06-11T13:23:31.767209Z",
     "start_time": "2020-06-11T13:23:31.751886Z"
    }
   },
   "outputs": [],
   "source": [
    "X_train = X[df_2['test_flag'] == 0]\n",
    "y_train = y[df_2['test_flag'] == 0]\n",
    "X_test = X[df_2['test_flag'] == 1]\n",
    "y_test = y[df_2['test_flag'] == 1]\n",
    "indices_train = [x for x, y in zip(indices, df_2['test_flag'] == 0) if y]\n",
    "indices_test = [x for x, y in zip(indices, df_2['test_flag'] == 1) if y]"
   ]
  },
  {
   "cell_type": "code",
   "execution_count": 119,
   "metadata": {
    "ExecuteTime": {
     "end_time": "2020-06-11T13:23:52.730417Z",
     "start_time": "2020-06-11T13:23:52.722195Z"
    }
   },
   "outputs": [
    {
     "data": {
      "text/plain": [
       "0.5042857142857143"
      ]
     },
     "execution_count": 119,
     "metadata": {},
     "output_type": "execute_result"
    }
   ],
   "source": [
    "baseline_acc = y_test.value_counts(normalize=True).max()\n",
    "baseline_acc"
   ]
  },
  {
   "cell_type": "markdown",
   "metadata": {},
   "source": [
    "### Standardise the predictor variables"
   ]
  },
  {
   "cell_type": "code",
   "execution_count": 120,
   "metadata": {
    "ExecuteTime": {
     "end_time": "2020-06-11T13:24:47.536810Z",
     "start_time": "2020-06-11T13:24:47.517418Z"
    }
   },
   "outputs": [],
   "source": [
    "scaler = StandardScaler()\n",
    "X_train = pd.DataFrame(scaler.fit_transform(X_train), columns=X.columns)\n",
    "X_test = pd.DataFrame(scaler.transform(X_test), columns=X.columns)"
   ]
  },
  {
   "cell_type": "markdown",
   "metadata": {},
   "source": [
    "###  Gridsearch Logistic Regression "
   ]
  },
  {
   "cell_type": "code",
   "execution_count": 121,
   "metadata": {
    "ExecuteTime": {
     "end_time": "2020-06-11T13:26:16.975072Z",
     "start_time": "2020-06-11T13:26:16.970776Z"
    }
   },
   "outputs": [],
   "source": [
    "# prepare modelling\n",
    "model = LogisticRegression(solver='liblinear', multi_class='ovr', max_iter=1000)\n",
    "lr_2 = Modelling(df_2, model)"
   ]
  },
  {
   "cell_type": "code",
   "execution_count": 122,
   "metadata": {
    "ExecuteTime": {
     "end_time": "2020-06-11T13:26:27.895785Z",
     "start_time": "2020-06-11T13:26:17.853552Z"
    }
   },
   "outputs": [
    {
     "name": "stdout",
     "output_type": "stream",
     "text": [
      "Fitting 5 folds for each of 10 candidates, totalling 50 fits\n"
     ]
    },
    {
     "name": "stderr",
     "output_type": "stream",
     "text": [
      "[Parallel(n_jobs=2)]: Using backend LokyBackend with 2 concurrent workers.\n",
      "[Parallel(n_jobs=2)]: Done  46 tasks      | elapsed:    9.5s\n",
      "[Parallel(n_jobs=2)]: Done  50 out of  50 | elapsed:    9.9s finished\n"
     ]
    },
    {
     "data": {
      "text/plain": [
       "GridSearchCV(cv=5, error_score=nan,\n",
       "             estimator=LogisticRegression(C=1.0, class_weight=None, dual=False,\n",
       "                                          fit_intercept=True,\n",
       "                                          intercept_scaling=1, l1_ratio=None,\n",
       "                                          max_iter=1000, multi_class='ovr',\n",
       "                                          n_jobs=None, penalty='l2',\n",
       "                                          random_state=None, solver='liblinear',\n",
       "                                          tol=0.0001, verbose=0,\n",
       "                                          warm_start=False),\n",
       "             iid='deprecated', n_jobs=2,\n",
       "             param_grid={'C': [0.01, 0.1, 1, 10, 100], 'penalty': ['l1', 'l2']},\n",
       "             pre_dispatch='2*n_jobs', refit=True, return_train_score=True,\n",
       "             scoring='accuracy', verbose=1)"
      ]
     },
     "execution_count": 122,
     "metadata": {},
     "output_type": "execute_result"
    }
   ],
   "source": [
    "# gridsearch model parameters, score fitted model\n",
    "params = {'C': [0.01, 0.1, 1, 10, 100],\n",
    "          'penalty': ['l1', 'l2']}\n",
    "lr_2.gridsearch(params, X_train, y_train)"
   ]
  },
  {
   "cell_type": "code",
   "execution_count": 124,
   "metadata": {
    "ExecuteTime": {
     "end_time": "2020-06-11T13:28:19.609488Z",
     "start_time": "2020-06-11T13:28:19.600431Z"
    }
   },
   "outputs": [],
   "source": [
    "# save fitted model\n",
    "out_path = '../../../../Documents/murakami/pkl_models/'\n",
    "out_name = 'lreg_gs_final_rerun_2'\n",
    "out_full_path = out_path + out_name + '.pkl'\n",
    "lr_2.save_model(out_full_path)"
   ]
  },
  {
   "cell_type": "code",
   "execution_count": 125,
   "metadata": {
    "ExecuteTime": {
     "end_time": "2020-06-11T13:30:00.159019Z",
     "start_time": "2020-06-11T13:30:00.144805Z"
    }
   },
   "outputs": [],
   "source": [
    "def gridsearch_score_2(model, X_train, y_train, X_test, y_test):\n",
    "    # print the grid search results and store as a dictionary\n",
    "    results_dict = {}\n",
    "    results_dict['Best_Parameters'] = model.model_gs.best_params_\n",
    "    results_dict['Best_CV_Score'] = model.model_gs.best_score_\n",
    "    results_dict['Best_Train_Score'] = model.model_gs.score(X_train, y_train)\n",
    "    results_dict['Best_Test_Score'] = model.model_gs.score(X_test, y_test)\n",
    "\n",
    "    print('Best Parameters:')\n",
    "    print(results_dict['Best_Parameters'])\n",
    "    print('Best estimator mean cross validated training score:')\n",
    "    print(results_dict['Best_CV_Score'])\n",
    "    print('Best estimator score on the full training set:')\n",
    "    print(results_dict['Best_Train_Score'])\n",
    "    print('Best estimator score on the test set:')\n",
    "    print(results_dict['Best_Test_Score'])\n",
    "    predictions = model.model_gs.predict(X_test)\n",
    "    results_dict['conmat'] = confusion_matrix(\n",
    "        y_test, predictions, labels=[0, 1])\n",
    "\n",
    "    return results_dict"
   ]
  },
  {
   "cell_type": "code",
   "execution_count": 126,
   "metadata": {
    "ExecuteTime": {
     "end_time": "2020-06-11T13:30:00.898167Z",
     "start_time": "2020-06-11T13:30:00.877387Z"
    }
   },
   "outputs": [
    {
     "name": "stdout",
     "output_type": "stream",
     "text": [
      "Best Parameters:\n",
      "{'C': 0.1, 'penalty': 'l1'}\n",
      "Best estimator mean cross validated training score:\n",
      "0.7703703703703704\n",
      "Best estimator score on the full training set:\n",
      "0.8206119162640901\n",
      "Best estimator score on the test set:\n",
      "0.6671428571428571\n"
     ]
    },
    {
     "data": {
      "text/plain": [
       "{'Best_Parameters': {'C': 0.1, 'penalty': 'l1'},\n",
       " 'Best_CV_Score': 0.7703703703703704,\n",
       " 'Best_Train_Score': 0.8206119162640901,\n",
       " 'Best_Test_Score': 0.6671428571428571,\n",
       " 'conmat': array([[232, 115],\n",
       "        [118, 235]])}"
      ]
     },
     "execution_count": 126,
     "metadata": {},
     "output_type": "execute_result"
    }
   ],
   "source": [
    "lreg_gs_02_results = gridsearch_score_2(lr_2, X_train, y_train, X_test, y_test)\n",
    "lreg_gs_02_results"
   ]
  },
  {
   "cell_type": "markdown",
   "metadata": {},
   "source": [
    "## Confusion Matrix"
   ]
  },
  {
   "cell_type": "code",
   "execution_count": 146,
   "metadata": {
    "ExecuteTime": {
     "end_time": "2020-06-11T14:27:06.564964Z",
     "start_time": "2020-06-11T14:27:06.558471Z"
    }
   },
   "outputs": [
    {
     "name": "stdout",
     "output_type": "stream",
     "text": [
      "                 predicted birnbaum  predicted rubin\n",
      "actual birnbaum                 232              115\n",
      "actual rubin                    118              235\n"
     ]
    }
   ],
   "source": [
    "print(pd.DataFrame(lreg_gs_02_results['conmat'], index=['actual birnbaum', 'actual rubin'],\n",
    "                             columns=['predicted birnbaum', 'predicted rubin']))"
   ]
  },
  {
   "cell_type": "markdown",
   "metadata": {},
   "source": [
    "## Classification Report"
   ]
  },
  {
   "cell_type": "code",
   "execution_count": 147,
   "metadata": {
    "ExecuteTime": {
     "end_time": "2020-06-11T14:27:09.902223Z",
     "start_time": "2020-06-11T14:27:09.887475Z"
    }
   },
   "outputs": [
    {
     "name": "stdout",
     "output_type": "stream",
     "text": [
      "              precision    recall  f1-score   support\n",
      "\n",
      "           0       0.66      0.67      0.67       347\n",
      "           1       0.67      0.67      0.67       353\n",
      "\n",
      "    accuracy                           0.67       700\n",
      "   macro avg       0.67      0.67      0.67       700\n",
      "weighted avg       0.67      0.67      0.67       700\n",
      "\n"
     ]
    }
   ],
   "source": [
    "print(classification_report(y_test, lr_2.model_gs.predict(X_test)))"
   ]
  },
  {
   "cell_type": "markdown",
   "metadata": {},
   "source": [
    "### Plot the most important features for predicting each translator"
   ]
  },
  {
   "cell_type": "code",
   "execution_count": 130,
   "metadata": {
    "ExecuteTime": {
     "end_time": "2020-06-11T13:38:40.063394Z",
     "start_time": "2020-06-11T13:38:40.055746Z"
    }
   },
   "outputs": [],
   "source": [
    "# collect the model coefficients in a dataframe\n",
    "df_2_coef = pd.DataFrame(lr_2.model_gs.best_estimator_.coef_, columns=predictor_cols,\n",
    "                       index=['coefs_0'])\n",
    "# remove n_ and _norm to make plots easier to read\n",
    "df_2_coef.columns = [col.replace('_norm', '') for col in df_2_coef.columns ]\n",
    "df_2_coef.columns = [col[2:] if col[:2] == 'n_' else col for col in df_2_coef.columns ]\n",
    "# transpose to have columns as indices\n",
    "df_2_coef = df_2_coef.T"
   ]
  },
  {
   "cell_type": "code",
   "execution_count": 137,
   "metadata": {
    "ExecuteTime": {
     "end_time": "2020-06-11T13:48:08.904182Z",
     "start_time": "2020-06-11T13:48:08.035902Z"
    }
   },
   "outputs": [
    {
     "data": {
      "image/png": "[encoded data removed]",
      "text/plain": [
       "<Figure size 1440x720 with 2 Axes>"
      ]
     },
     "metadata": {
      "image/png": {
       "height": 687,
       "width": 1431
      }
     },
     "output_type": "display_data"
    }
   ],
   "source": [
    "plt.style.use('ggplot')\n",
    "\n",
    "fig, ax = plt.subplots(nrows=2, figsize=(20, 10))\n",
    "fig.suptitle('Feature Importance', fontsize=32)\n",
    "\n",
    "\n",
    "# df_2_coef[col].sort_values(ascending=True).tail(5).plot(kind='barh', ax=ax[0], width=0.8)\n",
    "df_2_coef[col].sort_values(ascending=True).tail(5).plot(kind='barh', ax=ax[0])\n",
    "ax[0].set_title(str(col), fontsize=18)\n",
    "ax[0].set_xlim(-1.5, 1.5)\n",
    "ax[0].tick_params(axis='y', labelsize=16)\n",
    "\n",
    "\n",
    "df_2_coef[col].sort_values(ascending=True).head(5).plot(kind='barh', ax=ax[1], color='darkred')\n",
    "ax[1].set_xlim(-1.5, 1.5)\n",
    "ax[1].tick_params(axis='y', labelsize=16)\n",
    "\n",
    "#     ax[1,i].xticks(fontsize=14)\n",
    "\n",
    "ax[0].set_title('Rubin', fontsize=16)\n",
    "# ax[0,1].set_title('Rubin', fontsize=16)\n",
    "# ax[0,2].set_title('Gabriel', size=16)\n",
    "fig.tight_layout(rect=[0, 0.03, 1, 0.92])\n",
    "# plt.tight_layout()\n",
    "\n",
    "\n",
    "# fig.suptitle('Largest Coefficient per Translator', fontsize=32, y=1.05)\n",
    "\n",
    "plt.savefig('../../../../Documents/murakami/plots/top_lreg_coeffs_rerun_02.png')\n",
    "\n",
    "plt.show()"
   ]
  },
  {
   "cell_type": "markdown",
   "metadata": {},
   "source": [
    "## Review most confidently predicted texts per translator"
   ]
  },
  {
   "cell_type": "code",
   "execution_count": 135,
   "metadata": {
    "ExecuteTime": {
     "end_time": "2020-06-11T13:44:53.736437Z",
     "start_time": "2020-06-11T13:44:53.718492Z"
    }
   },
   "outputs": [
    {
     "data": {
      "text/html": [
       "<div>\n",
       "<style scoped>\n",
       "    .dataframe tbody tr th:only-of-type {\n",
       "        vertical-align: middle;\n",
       "    }\n",
       "\n",
       "    .dataframe tbody tr th {\n",
       "        vertical-align: top;\n",
       "    }\n",
       "\n",
       "    .dataframe thead th {\n",
       "        text-align: right;\n",
       "    }\n",
       "</style>\n",
       "<table border=\"1\" class=\"dataframe\">\n",
       "  <thead>\n",
       "    <tr style=\"text-align: right;\">\n",
       "      <th></th>\n",
       "      <th>trans_0_pp</th>\n",
       "      <th>trans_1_pp</th>\n",
       "      <th>original_index</th>\n",
       "    </tr>\n",
       "  </thead>\n",
       "  <tbody>\n",
       "    <tr>\n",
       "      <th>0</th>\n",
       "      <td>0.381548</td>\n",
       "      <td>0.618452</td>\n",
       "      <td>1878</td>\n",
       "    </tr>\n",
       "    <tr>\n",
       "      <th>1</th>\n",
       "      <td>0.626148</td>\n",
       "      <td>0.373852</td>\n",
       "      <td>1879</td>\n",
       "    </tr>\n",
       "    <tr>\n",
       "      <th>2</th>\n",
       "      <td>0.783229</td>\n",
       "      <td>0.216771</td>\n",
       "      <td>1880</td>\n",
       "    </tr>\n",
       "    <tr>\n",
       "      <th>3</th>\n",
       "      <td>0.816445</td>\n",
       "      <td>0.183555</td>\n",
       "      <td>1881</td>\n",
       "    </tr>\n",
       "    <tr>\n",
       "      <th>4</th>\n",
       "      <td>0.516272</td>\n",
       "      <td>0.483728</td>\n",
       "      <td>1882</td>\n",
       "    </tr>\n",
       "  </tbody>\n",
       "</table>\n",
       "</div>"
      ],
      "text/plain": [
       "   trans_0_pp  trans_1_pp  original_index\n",
       "0    0.381548    0.618452            1878\n",
       "1    0.626148    0.373852            1879\n",
       "2    0.783229    0.216771            1880\n",
       "3    0.816445    0.183555            1881\n",
       "4    0.516272    0.483728            1882"
      ]
     },
     "execution_count": 135,
     "metadata": {},
     "output_type": "execute_result"
    }
   ],
   "source": [
    "# Get the predicted probabilities and explicitly name the columns:\n",
    "Y_pp = pd.DataFrame(lr_2.model_gs.predict_proba(X_test), \n",
    "             columns=['trans_0_pp', 'trans_1_pp'])\n",
    "# add the original indices from before the train test shuffle\n",
    "Y_pp['original_index'] = indices_test\n",
    "Y_pp.head()"
   ]
  },
  {
   "cell_type": "code",
   "execution_count": 138,
   "metadata": {
    "ExecuteTime": {
     "end_time": "2020-06-11T13:49:14.822966Z",
     "start_time": "2020-06-11T13:49:14.808595Z"
    }
   },
   "outputs": [],
   "source": [
    "Y_pp_merged = Y_pp.merge(df_2, how='left', left_on='original_index', right_index=True)"
   ]
  },
  {
   "cell_type": "code",
   "execution_count": 139,
   "metadata": {
    "ExecuteTime": {
     "end_time": "2020-06-11T13:49:41.701394Z",
     "start_time": "2020-06-11T13:49:41.677024Z"
    }
   },
   "outputs": [
    {
     "data": {
      "text/html": [
       "<div>\n",
       "<style scoped>\n",
       "    .dataframe tbody tr th:only-of-type {\n",
       "        vertical-align: middle;\n",
       "    }\n",
       "\n",
       "    .dataframe tbody tr th {\n",
       "        vertical-align: top;\n",
       "    }\n",
       "\n",
       "    .dataframe thead th {\n",
       "        text-align: right;\n",
       "    }\n",
       "</style>\n",
       "<table border=\"1\" class=\"dataframe\">\n",
       "  <thead>\n",
       "    <tr style=\"text-align: right;\">\n",
       "      <th></th>\n",
       "      <th>trans_0_pp</th>\n",
       "      <th>trans_1_pp</th>\n",
       "      <th>chunks</th>\n",
       "      <th>translator</th>\n",
       "      <th>book_title</th>\n",
       "      <th>book_chunk_no</th>\n",
       "      <th>number</th>\n",
       "    </tr>\n",
       "  </thead>\n",
       "  <tbody>\n",
       "    <tr>\n",
       "      <th>65</th>\n",
       "      <td>0.998080</td>\n",
       "      <td>0.001920</td>\n",
       "      <td>“Or would you prefer me with something on? So...</td>\n",
       "      <td>Jay Rubin</td>\n",
       "      <td>The Wind Up Bird Chronicle</td>\n",
       "      <td>13</td>\n",
       "      <td>1</td>\n",
       "    </tr>\n",
       "    <tr>\n",
       "      <th>553</th>\n",
       "      <td>0.994236</td>\n",
       "      <td>0.005764</td>\n",
       "      <td>\"Too good for the likes of me.\" * A buzzer ann...</td>\n",
       "      <td>Alfred Birnbaum</td>\n",
       "      <td>Norwegian Wood</td>\n",
       "      <td>149</td>\n",
       "      <td>9</td>\n",
       "    </tr>\n",
       "    <tr>\n",
       "      <th>612</th>\n",
       "      <td>0.990259</td>\n",
       "      <td>0.009741</td>\n",
       "      <td>No more of this want­ing to stay seventeen or ...</td>\n",
       "      <td>Alfred Birnbaum</td>\n",
       "      <td>Norwegian Wood</td>\n",
       "      <td>208</td>\n",
       "      <td>10</td>\n",
       "    </tr>\n",
       "  </tbody>\n",
       "</table>\n",
       "</div>"
      ],
      "text/plain": [
       "     trans_0_pp  trans_1_pp  \\\n",
       "65     0.998080    0.001920   \n",
       "553    0.994236    0.005764   \n",
       "612    0.990259    0.009741   \n",
       "\n",
       "                                                chunks       translator  \\\n",
       "65    “Or would you prefer me with something on? So...        Jay Rubin   \n",
       "553  \"Too good for the likes of me.\" * A buzzer ann...  Alfred Birnbaum   \n",
       "612  No more of this want­ing to stay seventeen or ...  Alfred Birnbaum   \n",
       "\n",
       "                     book_title  book_chunk_no number  \n",
       "65   The Wind Up Bird Chronicle             13      1  \n",
       "553              Norwegian Wood            149      9  \n",
       "612              Norwegian Wood            208     10  "
      ]
     },
     "execution_count": 139,
     "metadata": {},
     "output_type": "execute_result"
    }
   ],
   "source": [
    "Y_pp_merged[['trans_0_pp', 'trans_1_pp', 'chunks', 'translator', 'book_title', 'book_chunk_no', 'number']] \\\n",
    "                                  .sort_values('trans_0_pp', ascending=False).head(3)"
   ]
  },
  {
   "cell_type": "code",
   "execution_count": 140,
   "metadata": {
    "ExecuteTime": {
     "end_time": "2020-06-11T13:50:12.918109Z",
     "start_time": "2020-06-11T13:50:12.902857Z"
    }
   },
   "outputs": [
    {
     "data": {
      "text/html": [
       "<div>\n",
       "<style scoped>\n",
       "    .dataframe tbody tr th:only-of-type {\n",
       "        vertical-align: middle;\n",
       "    }\n",
       "\n",
       "    .dataframe tbody tr th {\n",
       "        vertical-align: top;\n",
       "    }\n",
       "\n",
       "    .dataframe thead th {\n",
       "        text-align: right;\n",
       "    }\n",
       "</style>\n",
       "<table border=\"1\" class=\"dataframe\">\n",
       "  <thead>\n",
       "    <tr style=\"text-align: right;\">\n",
       "      <th></th>\n",
       "      <th>trans_0_pp</th>\n",
       "      <th>trans_1_pp</th>\n",
       "      <th>chunks</th>\n",
       "      <th>translator</th>\n",
       "      <th>book_title</th>\n",
       "      <th>book_chunk_no</th>\n",
       "      <th>number</th>\n",
       "    </tr>\n",
       "  </thead>\n",
       "  <tbody>\n",
       "    <tr>\n",
       "      <th>181</th>\n",
       "      <td>0.000484</td>\n",
       "      <td>0.999516</td>\n",
       "      <td>Back in the room, Midori told her father she h...</td>\n",
       "      <td>Jay Rubin</td>\n",
       "      <td>Norwegian Wood</td>\n",
       "      <td>408</td>\n",
       "      <td>2</td>\n",
       "    </tr>\n",
       "    <tr>\n",
       "      <th>350</th>\n",
       "      <td>0.001004</td>\n",
       "      <td>0.998996</td>\n",
       "      <td>It had been all I could do to suppress the int...</td>\n",
       "      <td>Jay Rubin</td>\n",
       "      <td>Norwegian Wood</td>\n",
       "      <td>577</td>\n",
       "      <td>2</td>\n",
       "    </tr>\n",
       "    <tr>\n",
       "      <th>385</th>\n",
       "      <td>0.002000</td>\n",
       "      <td>0.998000</td>\n",
       "      <td>Oh, Reiko, it was so wonderful! Now it felt as...</td>\n",
       "      <td>Jay Rubin</td>\n",
       "      <td>Norwegian Wood</td>\n",
       "      <td>612</td>\n",
       "      <td>2</td>\n",
       "    </tr>\n",
       "  </tbody>\n",
       "</table>\n",
       "</div>"
      ],
      "text/plain": [
       "     trans_0_pp  trans_1_pp  \\\n",
       "181    0.000484    0.999516   \n",
       "350    0.001004    0.998996   \n",
       "385    0.002000    0.998000   \n",
       "\n",
       "                                                chunks translator  \\\n",
       "181  Back in the room, Midori told her father she h...  Jay Rubin   \n",
       "350  It had been all I could do to suppress the int...  Jay Rubin   \n",
       "385  Oh, Reiko, it was so wonderful! Now it felt as...  Jay Rubin   \n",
       "\n",
       "         book_title  book_chunk_no number  \n",
       "181  Norwegian Wood            408      2  \n",
       "350  Norwegian Wood            577      2  \n",
       "385  Norwegian Wood            612      2  "
      ]
     },
     "execution_count": 140,
     "metadata": {},
     "output_type": "execute_result"
    }
   ],
   "source": [
    "Y_pp_merged[['trans_0_pp', 'trans_1_pp', 'chunks', 'translator', 'book_title', 'book_chunk_no', 'number']] \\\n",
    "                                  .sort_values('trans_1_pp', ascending=False).head(3)"
   ]
  },
  {
   "cell_type": "markdown",
   "metadata": {},
   "source": [
    "## Most confident for translator 0:  second most actually!"
   ]
  },
  {
   "cell_type": "code",
   "execution_count": 142,
   "metadata": {
    "ExecuteTime": {
     "end_time": "2020-06-11T14:04:19.479673Z",
     "start_time": "2020-06-11T14:04:19.469587Z"
    }
   },
   "outputs": [
    {
     "data": {
      "text/plain": [
       "'\"Too good for the likes of me.\" * A buzzer announcing a telephone call broke into my sleep. There I’d been, dead to the world, plung\\xading toward the inner reaches of dreamland. My head was swimming, my brain waterlogged. I didn’t know what was what. The clock read six-fifteen. A.M. or P.M.? Which day of the week? What date? The flag wasn’t atop the pole outside, so I figured it must be six-fifteen in the evening. So the flag\\xadraising has some use after all. \"Hey, Watanabe, you free?\" Midori was asking. \"What day is it?\" \"Friday.\" \"Evening?\" \"Aren’t you the sharp one. What a thing to ask! Always an oddball, aren’t you? lt’s .. .let’s see ... six\\xadeighteen P.M.\" Evening, eh? I must have fallen asleep while reading on my bed. Friday. No part-time job Friday 133 nights. \"I guess I’m free. Where are you now?\" \"Ueno Station. Can you meet me in Shinjuku?\" We fixed when and where to meet and then hung up. By the time I arrived at \"Jazz and Booze\" Dug, Midori was already seated at the end of the counter, drink in hand.'"
      ]
     },
     "execution_count": 142,
     "metadata": {},
     "output_type": "execute_result"
    }
   ],
   "source": [
    "Y_pp_merged[['trans_0_pp', 'trans_1_pp', 'chunks', 'translator', 'book_title']] \\\n",
    "                                  .sort_values('trans_0_pp', ascending=False).iloc[1,2]"
   ]
  },
  {
   "cell_type": "code",
   "execution_count": 143,
   "metadata": {
    "ExecuteTime": {
     "end_time": "2020-06-11T14:05:10.358113Z",
     "start_time": "2020-06-11T14:05:10.347301Z"
    }
   },
   "outputs": [
    {
     "data": {
      "text/plain": [
       "'Back in the room, Midori told her father she had some business to take care of and that I would be watching him while she was out. He seemed to have nothing to say to this. It might have meant nothing to him. He just lay there on his back, staring at the ceiling. If he hadn’t been blinking every once in a while, he could have passed for dead. His eyes were bloodshot as if he had been drinking, and each time he took a deep breath his nostrils flared a little. Other than that, he didn’t move a muscle, and made no effort to reply to Midori. I couldn’t begin to grasp what he might be thinking or feeling in the murky depths of his consciousness. After Midori left, I thought I might try speaking to her father, but I had no idea what to say to him or how to say it, so I just kept quiet. Before long, he closed his eyes and went to sleep. I sat on the stool by the head of the bed and studied the occasional twitching of his nose, hoping all the while that he wouldn’t die now. How strange it would be, I thought, if this man were to breathe his last with me by his side.'"
      ]
     },
     "execution_count": 143,
     "metadata": {},
     "output_type": "execute_result"
    }
   ],
   "source": [
    "Y_pp_merged[['trans_0_pp', 'trans_1_pp', 'chunks', 'translator', 'book_title']] \\\n",
    "                                  .sort_values('trans_1_pp', ascending=False).iloc[0,2]"
   ]
  },
  {
   "cell_type": "code",
   "execution_count": null,
   "metadata": {},
   "outputs": [],
   "source": []
  }
 ],
 "metadata": {
  "kernelspec": {
   "display_name": "textacy",
   "language": "python",
   "name": "textacy"
  },
  "language_info": {
   "codemirror_mode": {
    "name": "ipython",
    "version": 3
   },
   "file_extension": ".py",
   "mimetype": "text/x-python",
   "name": "python",
   "nbconvert_exporter": "python",
   "pygments_lexer": "ipython3",
   "version": "3.8.2"
  }
 },
 "nbformat": 4,
 "nbformat_minor": 2
}
