{
 "cells": [
  {
   "cell_type": "markdown",
   "metadata": {},
   "source": [
    "# Main Modelling - Ensemble Methods\n",
    "* read in pickle of main dataframe v02\n",
    "* final selected features based on initial analysis with logistic regression\n",
    "* test Random Forest, Bagging and a few types of Boosting with grid search and initial analysis"
   ]
  },
  {
   "cell_type": "code",
   "execution_count": 27,
   "metadata": {
    "ExecuteTime": {
     "end_time": "2020-06-15T20:08:16.256357Z",
     "start_time": "2020-06-15T20:08:16.220003Z"
    }
   },
   "outputs": [],
   "source": [
    "import pandas as pd\n",
    "import numpy as np\n",
    "import matplotlib.pyplot as plt\n",
    "import seaborn as sns\n",
    "import textacy\n",
    "import re\n",
    "import pickle\n",
    "import os\n",
    "\n",
    "from collections import Counter\n",
    "\n",
    "from sklearn.model_selection import train_test_split, cross_val_score, GridSearchCV\n",
    "from sklearn.preprocessing import StandardScaler\n",
    "from sklearn.linear_model import LogisticRegression, LogisticRegressionCV\n",
    "from sklearn.metrics import confusion_matrix, classification_report, average_precision_score, roc_auc_score\n",
    "from sklearn.feature_extraction import DictVectorizer\n",
    "from sklearn.neighbors import KNeighborsClassifier\n",
    "from sklearn.tree import DecisionTreeClassifier\n",
    "from sklearn.ensemble import RandomForestClassifier\n",
    "from sklearn.ensemble import BaggingClassifier\n",
    "from sklearn.ensemble import AdaBoostClassifier\n",
    "from sklearn.preprocessing import label_binarize\n",
    "\n",
    "from sklearn.ensemble import AdaBoostClassifier, AdaBoostRegressor\n",
    "from sklearn.ensemble import GradientBoostingClassifier, GradientBoostingRegressor\n",
    "from sklearn import datasets\n",
    "\n",
    "from xgboost import XGBClassifier\n",
    "from xgboost import plot_importance\n",
    "\n",
    "from vaderSentiment.vaderSentiment import SentimentIntensityAnalyzer\n",
    "\n",
    "# import class to run modelling steps\n",
    "from translator_modelling import Modelling\n",
    "\n",
    "plt.style.use('ggplot')\n",
    "\n",
    "%config InlineBackend.figure_format = 'retina'\n",
    "%matplotlib inline\n",
    "\n",
    "# extend limit of number of rows and columns to display in cell\n",
    "pd.options.display.max_rows = 100\n",
    "pd.options.display.max_columns = 100"
   ]
  },
  {
   "cell_type": "markdown",
   "metadata": {},
   "source": [
    "### Load the dataframe containing text chunks and related variables"
   ]
  },
  {
   "cell_type": "code",
   "execution_count": 2,
   "metadata": {
    "ExecuteTime": {
     "end_time": "2020-06-15T17:06:46.316017Z",
     "start_time": "2020-06-15T17:06:18.444329Z"
    }
   },
   "outputs": [],
   "source": [
    "in_full_path = '../../../../Documents/murakami/pkl3/df_all_v02.pkl'\n",
    "# read back pickle\n",
    "with open (in_full_path, 'rb') as fp:\n",
    "    df = pickle.load(fp)"
   ]
  },
  {
   "cell_type": "markdown",
   "metadata": {},
   "source": [
    "### Check the dataframe is as expected"
   ]
  },
  {
   "cell_type": "code",
   "execution_count": 3,
   "metadata": {
    "ExecuteTime": {
     "end_time": "2020-06-15T17:06:46.419094Z",
     "start_time": "2020-06-15T17:06:46.319362Z"
    }
   },
   "outputs": [
    {
     "data": {
      "text/html": [
       "<div>\n",
       "<style scoped>\n",
       "    .dataframe tbody tr th:only-of-type {\n",
       "        vertical-align: middle;\n",
       "    }\n",
       "\n",
       "    .dataframe tbody tr th {\n",
       "        vertical-align: top;\n",
       "    }\n",
       "\n",
       "    .dataframe thead th {\n",
       "        text-align: right;\n",
       "    }\n",
       "</style>\n",
       "<table border=\"1\" class=\"dataframe\">\n",
       "  <thead>\n",
       "    <tr style=\"text-align: right;\">\n",
       "      <th></th>\n",
       "      <th>book_chunk_no</th>\n",
       "      <th>number</th>\n",
       "      <th>title</th>\n",
       "      <th>text</th>\n",
       "      <th>fstop_indices</th>\n",
       "      <th>split_indices</th>\n",
       "      <th>chunks</th>\n",
       "      <th>translator</th>\n",
       "      <th>book_title</th>\n",
       "      <th>parsed</th>\n",
       "      <th>n_sents</th>\n",
       "      <th>n_words</th>\n",
       "      <th>n_chars</th>\n",
       "      <th>n_syllables</th>\n",
       "      <th>n_unique_words</th>\n",
       "      <th>n_long_words</th>\n",
       "      <th>n_monosyllable_words</th>\n",
       "      <th>n_polysyllable_words</th>\n",
       "      <th>trans_code</th>\n",
       "      <th>chunk_length</th>\n",
       "      <th>n_sents_norm</th>\n",
       "      <th>n_words_norm</th>\n",
       "      <th>n_chars_norm</th>\n",
       "      <th>n_syllables_norm</th>\n",
       "      <th>n_unique_words_norm</th>\n",
       "      <th>n_long_words_norm</th>\n",
       "      <th>n_monosyllable_words_norm</th>\n",
       "      <th>n_polysyllable_words_norm</th>\n",
       "      <th>vader_compound</th>\n",
       "      <th>vader_neg</th>\n",
       "      <th>vader_neu</th>\n",
       "      <th>vader_pos</th>\n",
       "      <th>pron_count</th>\n",
       "      <th>verb_count</th>\n",
       "      <th>det_count</th>\n",
       "      <th>adj_count</th>\n",
       "      <th>num_count</th>\n",
       "      <th>punct_count</th>\n",
       "      <th>noun_count</th>\n",
       "      <th>adp_count</th>\n",
       "      <th>cconj_count</th>\n",
       "      <th>sconj_count</th>\n",
       "      <th>adv_count</th>\n",
       "      <th>aux_count</th>\n",
       "      <th>part_count</th>\n",
       "      <th>propn_count</th>\n",
       "      <th>space_count</th>\n",
       "      <th>intj_count</th>\n",
       "      <th>sym_count</th>\n",
       "      <th>x_count</th>\n",
       "      <th>...</th>\n",
       "      <th>then_adv</th>\n",
       "      <th>more_adv</th>\n",
       "      <th>even_adv</th>\n",
       "      <th>why_adv</th>\n",
       "      <th>maybe_adv</th>\n",
       "      <th>again_adv</th>\n",
       "      <th>now_adv</th>\n",
       "      <th>just_adv</th>\n",
       "      <th>how_adv</th>\n",
       "      <th>where_adv</th>\n",
       "      <th>very_adv</th>\n",
       "      <th>only_adv</th>\n",
       "      <th>there_adv</th>\n",
       "      <th>still_adv</th>\n",
       "      <th>so_adv</th>\n",
       "      <th>too_adv</th>\n",
       "      <th>when_adv</th>\n",
       "      <th>all_adv</th>\n",
       "      <th>here_adv</th>\n",
       "      <th>never_adv</th>\n",
       "      <th>as_adv</th>\n",
       "      <th>new_adj</th>\n",
       "      <th>other_adj</th>\n",
       "      <th>more_adj</th>\n",
       "      <th>small_adj</th>\n",
       "      <th>deep_adj</th>\n",
       "      <th>whole_adj</th>\n",
       "      <th>first_adj</th>\n",
       "      <th>bad_adj</th>\n",
       "      <th>little_adj</th>\n",
       "      <th>next_adj</th>\n",
       "      <th>much_adj</th>\n",
       "      <th>own_adj</th>\n",
       "      <th>hard_adj</th>\n",
       "      <th>last_adj</th>\n",
       "      <th>only_adj</th>\n",
       "      <th>big_adj</th>\n",
       "      <th>right_adj</th>\n",
       "      <th>long_adj</th>\n",
       "      <th>old_adj</th>\n",
       "      <th>strange_adj</th>\n",
       "      <th>same_adj</th>\n",
       "      <th>young_adj</th>\n",
       "      <th>sure_adj</th>\n",
       "      <th>able_adj</th>\n",
       "      <th>real_adj</th>\n",
       "      <th>different_adj</th>\n",
       "      <th>good_adj</th>\n",
       "      <th>few_adj</th>\n",
       "      <th>vlong_words_count</th>\n",
       "    </tr>\n",
       "  </thead>\n",
       "  <tbody>\n",
       "    <tr>\n",
       "      <th>0</th>\n",
       "      <td>0</td>\n",
       "      <td>1</td>\n",
       "      <td>Wednesday Afternoon Picnic</td>\n",
       "      <td>IT WAS A  short one-paragraph item in the morn...</td>\n",
       "      <td>[57, 97, 115, 196, 318, 385, 420, 445, 504, 65...</td>\n",
       "      <td>[967, 1924, 2998, 3982, 4935, 5975, 6995, 7961...</td>\n",
       "      <td>IT WAS A short one-paragraph item in the morni...</td>\n",
       "      <td>Alfred Birnbaum</td>\n",
       "      <td>A Wild Sheep Chase</td>\n",
       "      <td>(IT, WAS, A, short, one, -, paragraph, item, i...</td>\n",
       "      <td>15</td>\n",
       "      <td>174</td>\n",
       "      <td>742</td>\n",
       "      <td>240</td>\n",
       "      <td>116</td>\n",
       "      <td>33</td>\n",
       "      <td>128</td>\n",
       "      <td>17</td>\n",
       "      <td>0</td>\n",
       "      <td>944</td>\n",
       "      <td>15.889831</td>\n",
       "      <td>184.322034</td>\n",
       "      <td>786.016949</td>\n",
       "      <td>254.237288</td>\n",
       "      <td>122.881356</td>\n",
       "      <td>34.957627</td>\n",
       "      <td>135.59322</td>\n",
       "      <td>18.008475</td>\n",
       "      <td>-0.4798</td>\n",
       "      <td>0.075</td>\n",
       "      <td>0.862</td>\n",
       "      <td>0.064</td>\n",
       "      <td>18.0</td>\n",
       "      <td>20.0</td>\n",
       "      <td>31.0</td>\n",
       "      <td>9.0</td>\n",
       "      <td>2.0</td>\n",
       "      <td>33.0</td>\n",
       "      <td>51.0</td>\n",
       "      <td>19.0</td>\n",
       "      <td>6.0</td>\n",
       "      <td>3.0</td>\n",
       "      <td>5.0</td>\n",
       "      <td>5.0</td>\n",
       "      <td>3.0</td>\n",
       "      <td>2.0</td>\n",
       "      <td>0.0</td>\n",
       "      <td>0.0</td>\n",
       "      <td>0.0</td>\n",
       "      <td>0.0</td>\n",
       "      <td>...</td>\n",
       "      <td>0</td>\n",
       "      <td>0</td>\n",
       "      <td>1</td>\n",
       "      <td>0</td>\n",
       "      <td>0</td>\n",
       "      <td>0</td>\n",
       "      <td>0</td>\n",
       "      <td>0</td>\n",
       "      <td>0</td>\n",
       "      <td>1</td>\n",
       "      <td>0</td>\n",
       "      <td>0</td>\n",
       "      <td>0</td>\n",
       "      <td>0</td>\n",
       "      <td>0</td>\n",
       "      <td>0</td>\n",
       "      <td>0</td>\n",
       "      <td>0</td>\n",
       "      <td>0</td>\n",
       "      <td>0</td>\n",
       "      <td>0</td>\n",
       "      <td>0</td>\n",
       "      <td>0</td>\n",
       "      <td>0</td>\n",
       "      <td>0</td>\n",
       "      <td>0</td>\n",
       "      <td>1</td>\n",
       "      <td>0</td>\n",
       "      <td>0</td>\n",
       "      <td>0</td>\n",
       "      <td>0</td>\n",
       "      <td>0</td>\n",
       "      <td>0</td>\n",
       "      <td>0</td>\n",
       "      <td>0</td>\n",
       "      <td>0</td>\n",
       "      <td>0</td>\n",
       "      <td>0</td>\n",
       "      <td>0</td>\n",
       "      <td>1</td>\n",
       "      <td>0</td>\n",
       "      <td>0</td>\n",
       "      <td>0</td>\n",
       "      <td>0</td>\n",
       "      <td>0</td>\n",
       "      <td>0</td>\n",
       "      <td>0</td>\n",
       "      <td>0</td>\n",
       "      <td>0</td>\n",
       "      <td>0</td>\n",
       "    </tr>\n",
       "  </tbody>\n",
       "</table>\n",
       "<p>1 rows × 142 columns</p>\n",
       "</div>"
      ],
      "text/plain": [
       "   book_chunk_no number                       title  \\\n",
       "0              0      1  Wednesday Afternoon Picnic   \n",
       "\n",
       "                                                text  \\\n",
       "0  IT WAS A  short one-paragraph item in the morn...   \n",
       "\n",
       "                                       fstop_indices  \\\n",
       "0  [57, 97, 115, 196, 318, 385, 420, 445, 504, 65...   \n",
       "\n",
       "                                       split_indices  \\\n",
       "0  [967, 1924, 2998, 3982, 4935, 5975, 6995, 7961...   \n",
       "\n",
       "                                              chunks       translator  \\\n",
       "0  IT WAS A short one-paragraph item in the morni...  Alfred Birnbaum   \n",
       "\n",
       "           book_title                                             parsed  \\\n",
       "0  A Wild Sheep Chase  (IT, WAS, A, short, one, -, paragraph, item, i...   \n",
       "\n",
       "   n_sents  n_words  n_chars  n_syllables  n_unique_words  n_long_words  \\\n",
       "0       15      174      742          240             116            33   \n",
       "\n",
       "   n_monosyllable_words  n_polysyllable_words  trans_code  chunk_length  \\\n",
       "0                   128                    17           0           944   \n",
       "\n",
       "   n_sents_norm  n_words_norm  n_chars_norm  n_syllables_norm  \\\n",
       "0     15.889831    184.322034    786.016949        254.237288   \n",
       "\n",
       "   n_unique_words_norm  n_long_words_norm  n_monosyllable_words_norm  \\\n",
       "0           122.881356          34.957627                  135.59322   \n",
       "\n",
       "   n_polysyllable_words_norm  vader_compound  vader_neg  vader_neu  vader_pos  \\\n",
       "0                  18.008475         -0.4798      0.075      0.862      0.064   \n",
       "\n",
       "   pron_count  verb_count  det_count  adj_count  num_count  punct_count  \\\n",
       "0        18.0        20.0       31.0        9.0        2.0         33.0   \n",
       "\n",
       "   noun_count  adp_count  cconj_count  sconj_count  adv_count  aux_count  \\\n",
       "0        51.0       19.0          6.0          3.0        5.0        5.0   \n",
       "\n",
       "   part_count  propn_count  space_count  intj_count  sym_count  x_count  ...  \\\n",
       "0         3.0          2.0          0.0         0.0        0.0      0.0  ...   \n",
       "\n",
       "   then_adv  more_adv  even_adv  why_adv  maybe_adv  again_adv  now_adv  \\\n",
       "0         0         0         1        0          0          0        0   \n",
       "\n",
       "   just_adv  how_adv  where_adv  very_adv  only_adv  there_adv  still_adv  \\\n",
       "0         0        0          1         0         0          0          0   \n",
       "\n",
       "   so_adv  too_adv  when_adv  all_adv  here_adv  never_adv  as_adv  new_adj  \\\n",
       "0       0        0         0        0         0          0       0        0   \n",
       "\n",
       "   other_adj  more_adj  small_adj  deep_adj  whole_adj  first_adj  bad_adj  \\\n",
       "0          0         0          0         0          1          0        0   \n",
       "\n",
       "   little_adj  next_adj  much_adj  own_adj  hard_adj  last_adj only_adj  \\\n",
       "0           0         0         0        0         0         0        0   \n",
       "\n",
       "  big_adj right_adj long_adj  old_adj  strange_adj  same_adj  young_adj  \\\n",
       "0       0         0        0        1            0         0          0   \n",
       "\n",
       "   sure_adj  able_adj  real_adj  different_adj  good_adj  few_adj  \\\n",
       "0         0         0         0              0         0        0   \n",
       "\n",
       "   vlong_words_count  \n",
       "0                  0  \n",
       "\n",
       "[1 rows x 142 columns]"
      ]
     },
     "execution_count": 3,
     "metadata": {},
     "output_type": "execute_result"
    }
   ],
   "source": [
    "df.head(1)"
   ]
  },
  {
   "cell_type": "code",
   "execution_count": 4,
   "metadata": {
    "ExecuteTime": {
     "end_time": "2020-06-15T17:06:46.444175Z",
     "start_time": "2020-06-15T17:06:46.434031Z"
    }
   },
   "outputs": [
    {
     "data": {
      "text/plain": [
       "(5212, 142)"
      ]
     },
     "execution_count": 4,
     "metadata": {},
     "output_type": "execute_result"
    }
   ],
   "source": [
    "df.shape"
   ]
  },
  {
   "cell_type": "markdown",
   "metadata": {},
   "source": [
    "### Check the baseline"
   ]
  },
  {
   "cell_type": "code",
   "execution_count": 5,
   "metadata": {
    "ExecuteTime": {
     "end_time": "2020-06-15T17:06:46.469556Z",
     "start_time": "2020-06-15T17:06:46.448388Z"
    }
   },
   "outputs": [
    {
     "data": {
      "text/plain": [
       "0.39927091327705294"
      ]
     },
     "execution_count": 5,
     "metadata": {},
     "output_type": "execute_result"
    }
   ],
   "source": [
    "baseline_acc = df['trans_code'].value_counts(normalize=True).max()\n",
    "baseline_acc"
   ]
  },
  {
   "cell_type": "markdown",
   "metadata": {},
   "source": [
    "## Random Forest classification with grid search"
   ]
  },
  {
   "cell_type": "code",
   "execution_count": 6,
   "metadata": {
    "ExecuteTime": {
     "end_time": "2020-06-15T17:18:12.712281Z",
     "start_time": "2020-06-15T17:06:46.476424Z"
    }
   },
   "outputs": [
    {
     "name": "stdout",
     "output_type": "stream",
     "text": [
      "Fitting 5 folds for each of 360 candidates, totalling 1800 fits\n"
     ]
    },
    {
     "name": "stderr",
     "output_type": "stream",
     "text": [
      "[Parallel(n_jobs=2)]: Using backend LokyBackend with 2 concurrent workers.\n",
      "[Parallel(n_jobs=2)]: Done  46 tasks      | elapsed:   11.2s\n",
      "[Parallel(n_jobs=2)]: Done 196 tasks      | elapsed:   45.6s\n",
      "[Parallel(n_jobs=2)]: Done 446 tasks      | elapsed:  1.8min\n",
      "[Parallel(n_jobs=2)]: Done 796 tasks      | elapsed:  3.5min\n",
      "[Parallel(n_jobs=2)]: Done 1246 tasks      | elapsed:  6.9min\n",
      "[Parallel(n_jobs=2)]: Done 1796 tasks      | elapsed: 11.3min\n",
      "[Parallel(n_jobs=2)]: Done 1800 out of 1800 | elapsed: 11.4min finished\n"
     ]
    },
    {
     "name": "stdout",
     "output_type": "stream",
     "text": [
      "Best Parameters:\n",
      "{'max_depth': 11, 'min_samples_leaf': 2, 'min_samples_split': 10, 'n_estimators': 300}\n",
      "Best estimator mean cross validated training score:\n",
      "0.6524347868643859\n",
      "Best estimator score on the full training set:\n",
      "0.9589829695370592\n",
      "Best estimator score on the test set:\n",
      "0.663470757430489\n",
      "ROC-AUC score on the test set:\n",
      "Class 0: 0.81\n",
      "Class 1: 0.85\n",
      "Class 2: 0.87\n"
     ]
    }
   ],
   "source": [
    "# prepare modelling\n",
    "model = RandomForestClassifier(max_depth=2)\n",
    "rfc = Modelling(df, model)\n",
    "\n",
    "# select feature groups for modelling\n",
    "predictor_cols = rfc.feature_select(basic_counts=True, vader=False, pos_counts=True, \n",
    "                   words=True, adv=True, adj=True)\n",
    "\n",
    "# drop some individual features eg. those potentially related to page formatting\n",
    "cols_to_drop = ['num_count_norm', 'punct_count_norm','space_count_norm', 'sym_count_norm', 'x_count_norm']\n",
    "predictor_cols = rfc.drop_features(predictor_cols, cols_to_drop)\n",
    "\n",
    "# prep data i.e. set X and y, train/test split, normalise predictor variables\n",
    "X_train, X_test, y_train, y_test, idx_train, idx_test = rfc.modelling_prep(predictor_cols, 'trans_code')\n",
    "\n",
    "# gridsearch model parameters, score fitted model\n",
    "params = {\n",
    "            'max_depth': [2,3,5,7,9,11],\n",
    "            'n_estimators': [20, 50, 100, 200, 300],\n",
    "            'min_samples_split' : [2, 5, 10],\n",
    "            'min_samples_leaf' : [1, 2, 5, 10]\n",
    "            }\n",
    "\n",
    "# lreg_gs_01 = lr.gridsearch(model, params, X_train, y_train)\n",
    "rfc.gridsearch(params, X_train, y_train)\n",
    "\n",
    "# score the fitted model\n",
    "rfc_gs_01_results = rfc.gridsearch_score(X_train, y_train, X_test, y_test)\n",
    "\n",
    "# save fitted model\n",
    "out_path = '../../../../Documents/murakami/pkl_models/'\n",
    "out_name = 'rfc_gs_01'\n",
    "out_full_path = out_path + out_name + '.pkl'\n",
    "rfc.save_model(out_full_path)"
   ]
  },
  {
   "cell_type": "markdown",
   "metadata": {},
   "source": [
    "#### RF does not do as well as logistic regression in terms of accuracy"
   ]
  },
  {
   "cell_type": "markdown",
   "metadata": {},
   "source": [
    "### Confusion Matrix"
   ]
  },
  {
   "cell_type": "code",
   "execution_count": 9,
   "metadata": {
    "ExecuteTime": {
     "end_time": "2020-06-15T17:40:48.359514Z",
     "start_time": "2020-06-15T17:40:48.351759Z"
    }
   },
   "outputs": [
    {
     "name": "stdout",
     "output_type": "stream",
     "text": [
      "                 predicted birnbaum  predicted rubin  predicted gabriel\n",
      "actual birnbaum                 237               86                 22\n",
      "actual rubin                     69              328                 19\n",
      "actual gabriel                   86               69                127\n"
     ]
    }
   ],
   "source": [
    "print(pd.DataFrame(rfc_gs_01_results['conmat'], index=['actual birnbaum', 'actual rubin', 'actual gabriel'],\n",
    "                             columns=['predicted birnbaum', 'predicted rubin', 'predicted gabriel']))"
   ]
  },
  {
   "cell_type": "markdown",
   "metadata": {},
   "source": [
    "### Classification Report"
   ]
  },
  {
   "cell_type": "code",
   "execution_count": 10,
   "metadata": {
    "ExecuteTime": {
     "end_time": "2020-06-15T17:40:52.940700Z",
     "start_time": "2020-06-15T17:40:52.825424Z"
    }
   },
   "outputs": [
    {
     "name": "stdout",
     "output_type": "stream",
     "text": [
      "              precision    recall  f1-score   support\n",
      "\n",
      "           0       0.60      0.69      0.64       345\n",
      "           1       0.68      0.79      0.73       416\n",
      "           2       0.76      0.45      0.56       282\n",
      "\n",
      "    accuracy                           0.66      1043\n",
      "   macro avg       0.68      0.64      0.65      1043\n",
      "weighted avg       0.68      0.66      0.66      1043\n",
      "\n"
     ]
    }
   ],
   "source": [
    "predictions = rfc.model_gs.predict(X_test)\n",
    "print(classification_report(y_test, predictions))"
   ]
  },
  {
   "cell_type": "code",
   "execution_count": 11,
   "metadata": {
    "ExecuteTime": {
     "end_time": "2020-06-15T17:40:55.615388Z",
     "start_time": "2020-06-15T17:40:55.573656Z"
    }
   },
   "outputs": [
    {
     "data": {
      "text/plain": [
       "array([0.06813288, 0.02520984, 0.02712714, 0.0208447 , 0.04408784,\n",
       "       0.02327351, 0.02441459, 0.02121304, 0.0277103 , 0.02536054,\n",
       "       0.02347781, 0.02114846, 0.03145077, 0.022599  , 0.02659815,\n",
       "       0.02152079, 0.03775875, 0.03571916, 0.01892157, 0.0343158 ,\n",
       "       0.02291462, 0.01473121, 0.01476979, 0.01193558, 0.01025735,\n",
       "       0.01454863, 0.02033342, 0.03906715, 0.0128561 , 0.0576481 ,\n",
       "       0.01721593, 0.00892548, 0.00387299, 0.0048573 , 0.0036548 ,\n",
       "       0.00285358, 0.00903821, 0.00588381, 0.00135904, 0.00256638,\n",
       "       0.00189735, 0.00179186, 0.00212421, 0.00358357, 0.00159423,\n",
       "       0.00219968, 0.0046756 , 0.00129235, 0.0018727 , 0.0015951 ,\n",
       "       0.00172669, 0.00111757, 0.00120208, 0.00175493, 0.00380961,\n",
       "       0.00278893, 0.00273412, 0.00151221, 0.00258703, 0.00190507,\n",
       "       0.00217101, 0.00232418, 0.00140765, 0.00165834, 0.00256668,\n",
       "       0.00165418, 0.00271686, 0.00470808, 0.00259058, 0.00639776,\n",
       "       0.00195638, 0.00347585, 0.00246033, 0.00397078, 0.0022421 ,\n",
       "       0.00319588, 0.00427196, 0.00335008, 0.00249669, 0.00307129,\n",
       "       0.00551799, 0.00296179, 0.00315332, 0.00532937, 0.00283029,\n",
       "       0.00359875, 0.00259768, 0.00386265, 0.00501905, 0.00250348])"
      ]
     },
     "execution_count": 11,
     "metadata": {},
     "output_type": "execute_result"
    }
   ],
   "source": [
    "rfc.model_gs.best_estimator_.feature_importances_"
   ]
  },
  {
   "cell_type": "code",
   "execution_count": 12,
   "metadata": {
    "ExecuteTime": {
     "end_time": "2020-06-15T17:40:56.791226Z",
     "start_time": "2020-06-15T17:40:56.465461Z"
    }
   },
   "outputs": [
    {
     "data": {
      "image/png": "[encoded data removed]",
      "text/plain": [
       "<Figure size 432x432 with 1 Axes>"
      ]
     },
     "metadata": {
      "image/png": {
       "height": 357,
       "width": 488
      },
      "needs_background": "light"
     },
     "output_type": "display_data"
    }
   ],
   "source": [
    "pd.DataFrame(list(zip(X_train.columns,rfc.model_gs.best_estimator_.feature_importances_))) \\\n",
    "                    .sort_values(by=1,ascending=True).tail(10).plot(kind='barh', x=0,y=1,figsize=(6,6))\n",
    "plt.show()"
   ]
  },
  {
   "cell_type": "markdown",
   "metadata": {},
   "source": [
    "### Bagging with Decision Tree and gridsearch"
   ]
  },
  {
   "cell_type": "code",
   "execution_count": 13,
   "metadata": {
    "ExecuteTime": {
     "end_time": "2020-06-15T17:46:16.109107Z",
     "start_time": "2020-06-15T17:42:21.906581Z"
    }
   },
   "outputs": [
    {
     "name": "stdout",
     "output_type": "stream",
     "text": [
      "Fitting 5 folds for each of 12 candidates, totalling 60 fits\n"
     ]
    },
    {
     "name": "stderr",
     "output_type": "stream",
     "text": [
      "[Parallel(n_jobs=2)]: Using backend LokyBackend with 2 concurrent workers.\n",
      "[Parallel(n_jobs=2)]: Done  46 tasks      | elapsed:  2.6min\n",
      "[Parallel(n_jobs=2)]: Done  60 out of  60 | elapsed:  3.7min finished\n"
     ]
    },
    {
     "name": "stdout",
     "output_type": "stream",
     "text": [
      "Best Parameters:\n",
      "{'max_features': 0.8, 'max_samples': 0.8, 'n_estimators': 200}\n",
      "Best estimator mean cross validated training score:\n",
      "0.6615460572718296\n",
      "Best estimator score on the full training set:\n",
      "1.0\n",
      "Best estimator score on the test set:\n",
      "0.6903163950143816\n",
      "ROC-AUC score on the test set:\n",
      "Class 0: 0.81\n",
      "Class 1: 0.85\n",
      "Class 2: 0.88\n"
     ]
    }
   ],
   "source": [
    "# prepare modelling\n",
    "model = BaggingClassifier(base_estimator=DecisionTreeClassifier(max_depth=None), n_estimators=300)\n",
    "bg_dt = Modelling(df, model)\n",
    "\n",
    "# select feature groups for modelling\n",
    "predictor_cols = bg_dt.feature_select(basic_counts=True, vader=False, pos_counts=True, \n",
    "                   words=True, adv=True, adj=True)\n",
    "\n",
    "# drop some individual features eg. those potentially related to page formatting\n",
    "cols_to_drop = ['num_count_norm', 'punct_count_norm','space_count_norm', 'sym_count_norm', 'x_count_norm']\n",
    "predictor_cols = bg_dt.drop_features(predictor_cols, cols_to_drop)\n",
    "\n",
    "# prep data i.e. set X and y, train/test split, normalise predictor variables\n",
    "X_train, X_test, y_train, y_test, idx_train, idx_test = bg_dt.modelling_prep(predictor_cols, 'trans_code')\n",
    "\n",
    "# gridsearch model parameters, score fitted model\n",
    "params = {'n_estimators': [100, 200, 300],\n",
    "          'max_samples': [0.5, 0.8],\n",
    "          'max_features': [0.5, 0.8]}\n",
    "\n",
    "bg_dt.gridsearch(params, X_train, y_train)\n",
    "\n",
    "# score the fitted model\n",
    "bg_dt_gs_01_results = bg_dt.gridsearch_score(X_train, y_train, X_test, y_test)\n",
    "\n",
    "# save fitted model\n",
    "out_path = '../../../../Documents/murakami/pkl_models/'\n",
    "out_name = 'bg_dt_gs_01'\n",
    "out_full_path = out_path + out_name + '.pkl'\n",
    "bg_dt.save_model(out_full_path)"
   ]
  },
  {
   "cell_type": "markdown",
   "metadata": {},
   "source": [
    "### Confusion Matrix"
   ]
  },
  {
   "cell_type": "code",
   "execution_count": 14,
   "metadata": {
    "ExecuteTime": {
     "end_time": "2020-06-15T18:26:49.475596Z",
     "start_time": "2020-06-15T18:26:49.467243Z"
    }
   },
   "outputs": [
    {
     "name": "stdout",
     "output_type": "stream",
     "text": [
      "                 predicted birnbaum  predicted rubin  predicted gabriel\n",
      "actual birnbaum                 233               86                 26\n",
      "actual rubin                     68              321                 27\n",
      "actual gabriel                   61               55                166\n"
     ]
    }
   ],
   "source": [
    "print(pd.DataFrame(bg_dt_gs_01_results['conmat'], index=['actual birnbaum', 'actual rubin', 'actual gabriel'],\n",
    "                             columns=['predicted birnbaum', 'predicted rubin', 'predicted gabriel']))"
   ]
  },
  {
   "cell_type": "markdown",
   "metadata": {},
   "source": [
    "### Classification Report"
   ]
  },
  {
   "cell_type": "code",
   "execution_count": null,
   "metadata": {},
   "outputs": [],
   "source": [
    "predictions = bg_dt.model_gs.predict(X_test)\n",
    "print(classification_report(y_test, predictions))"
   ]
  },
  {
   "cell_type": "markdown",
   "metadata": {},
   "source": [
    "#### Slight improvement for bagging with dt "
   ]
  },
  {
   "cell_type": "markdown",
   "metadata": {},
   "source": [
    "### Bagging with KNN"
   ]
  },
  {
   "cell_type": "code",
   "execution_count": 13,
   "metadata": {
    "ExecuteTime": {
     "end_time": "2020-06-04T21:44:20.757433Z",
     "start_time": "2020-06-04T20:24:02.621034Z"
    }
   },
   "outputs": [
    {
     "name": "stdout",
     "output_type": "stream",
     "text": [
      "Fitting 5 folds for each of 12 candidates, totalling 60 fits\n"
     ]
    },
    {
     "name": "stderr",
     "output_type": "stream",
     "text": [
      "[Parallel(n_jobs=2)]: Using backend LokyBackend with 2 concurrent workers.\n",
      "[Parallel(n_jobs=2)]: Done  46 tasks      | elapsed: 43.9min\n",
      "[Parallel(n_jobs=2)]: Done  60 out of  60 | elapsed: 72.4min finished\n"
     ]
    },
    {
     "name": "stdout",
     "output_type": "stream",
     "text": [
      "Best Parameters:\n",
      "{'max_features': 0.5, 'max_samples': 0.5, 'n_estimators': 300}\n",
      "Best estimator mean cross validated training score:\n",
      "0.5725550651915443\n",
      "Best estimator score on the full training set:\n",
      "0.7977932357879587\n",
      "Best estimator score on the test set:\n",
      "0.6116970278044104\n",
      "ROC-AUC score on the test set:\n",
      "Class 0: 0.79\n",
      "Class 1: 0.82\n",
      "Class 2: 0.83\n"
     ]
    }
   ],
   "source": [
    "# prepare modelling\n",
    "model = BaggingClassifier(base_estimator=KNeighborsClassifier(), n_estimators=300)\n",
    "bg_knn = Modelling(df, model)\n",
    "\n",
    "# select feature groups for modelling\n",
    "predictor_cols = bg_knn.feature_select(basic_counts=True, vader=False, pos_counts=True, \n",
    "                   words=True, adv=True, adj=True)\n",
    "\n",
    "# drop some individual features eg. those potentially related to page formatting\n",
    "cols_to_drop = ['num_count_norm', 'punct_count_norm','space_count_norm', 'sym_count_norm', 'x_count_norm']\n",
    "predictor_cols = bg_knn.drop_features(predictor_cols, cols_to_drop)\n",
    "\n",
    "# prep data i.e. set X and y, train/test split, normalise predictor variables\n",
    "X_train, X_test, y_train, y_test, idx_train, idx_test = bg_knn.modelling_prep(predictor_cols, 'trans_code')\n",
    "\n",
    "# gridsearch model parameters, score fitted model\n",
    "params = {'n_estimators': [100, 200, 300],\n",
    "          'max_samples': [0.5, 0.8],\n",
    "          'max_features': [0.5, 0.8]}\n",
    "\n",
    "bg_knn.gridsearch(params, X_train, y_train)\n",
    "\n",
    "# score the fitted model\n",
    "bg_knn_gs_01_results = bg_knn.gridsearch_score(X_train, y_train, X_test, y_test)\n",
    "\n",
    "# save fitted model\n",
    "out_path = '../../../../Documents/murakami/pkl_models/'\n",
    "out_name = 'bg_knn_gs_01'\n",
    "out_full_path = out_path + out_name + '.pkl'\n",
    "bg_knn.save_model(out_full_path)"
   ]
  },
  {
   "cell_type": "markdown",
   "metadata": {},
   "source": [
    "### Confusion Matrix"
   ]
  },
  {
   "cell_type": "code",
   "execution_count": 14,
   "metadata": {
    "ExecuteTime": {
     "end_time": "2020-06-05T06:54:19.839258Z",
     "start_time": "2020-06-05T06:54:19.805170Z"
    }
   },
   "outputs": [
    {
     "name": "stdout",
     "output_type": "stream",
     "text": [
      "                 predicted birnbaum  predicted rubin  predicted gabriel\n",
      "actual birnbaum                 210              119                 16\n",
      "actual rubin                     67              340                  9\n",
      "actual gabriel                   78              116                 88\n"
     ]
    }
   ],
   "source": [
    "print(pd.DataFrame(bg_knn_gs_01_results['conmat'], index=['actual birnbaum', 'actual rubin', 'actual gabriel'],\n",
    "                             columns=['predicted birnbaum', 'predicted rubin', 'predicted gabriel']))"
   ]
  },
  {
   "cell_type": "markdown",
   "metadata": {},
   "source": [
    "### Classification Report"
   ]
  },
  {
   "cell_type": "code",
   "execution_count": 15,
   "metadata": {
    "ExecuteTime": {
     "end_time": "2020-06-05T06:55:27.926587Z",
     "start_time": "2020-06-05T06:55:27.921660Z"
    }
   },
   "outputs": [],
   "source": [
    "predictions = bg_knn.model_gs.predict(X_test)\n",
    "print(classification_report(y_test, predictions))"
   ]
  },
  {
   "cell_type": "markdown",
   "metadata": {},
   "source": [
    "#### Bagging with KNN is worse than with Decision Tree as base estimator"
   ]
  },
  {
   "cell_type": "markdown",
   "metadata": {},
   "source": [
    "### Adaboosting classification with cross validation"
   ]
  },
  {
   "cell_type": "code",
   "execution_count": 15,
   "metadata": {
    "ExecuteTime": {
     "end_time": "2020-06-15T18:34:36.548324Z",
     "start_time": "2020-06-15T18:30:11.497694Z"
    }
   },
   "outputs": [
    {
     "name": "stdout",
     "output_type": "stream",
     "text": [
      "Fitting 5 folds for each of 48 candidates, totalling 240 fits\n"
     ]
    },
    {
     "name": "stderr",
     "output_type": "stream",
     "text": [
      "[Parallel(n_jobs=2)]: Using backend LokyBackend with 2 concurrent workers.\n",
      "[Parallel(n_jobs=2)]: Done  46 tasks      | elapsed:   44.8s\n",
      "[Parallel(n_jobs=2)]: Done 196 tasks      | elapsed:  3.5min\n",
      "[Parallel(n_jobs=2)]: Done 240 out of 240 | elapsed:  4.4min finished\n"
     ]
    },
    {
     "name": "stdout",
     "output_type": "stream",
     "text": [
      "Best Parameters:\n",
      "{'base_estimator__max_depth': 2, 'learning_rate': 0.1, 'n_estimators': 300}\n",
      "Best estimator mean cross validated training score:\n",
      "0.6476377601400272\n",
      "Best estimator score on the full training set:\n",
      "0.7335092348284961\n",
      "Best estimator score on the test set:\n",
      "0.663470757430489\n",
      "ROC-AUC score on the test set:\n",
      "Class 0: 0.8\n",
      "Class 1: 0.83\n",
      "Class 2: 0.8\n"
     ]
    }
   ],
   "source": [
    "# prepare modelling\n",
    "dt = DecisionTreeClassifier(max_depth=3, max_features = \"auto\")\n",
    "model = AdaBoostClassifier(base_estimator=dt, n_estimators=100, random_state=1)\n",
    "bs_dt = Modelling(df, model)\n",
    "\n",
    "# select feature groups for modelling\n",
    "predictor_cols = bs_dt.feature_select(basic_counts=True, vader=False, pos_counts=True, \n",
    "                   words=True, adv=True, adj=True)\n",
    "\n",
    "# drop some individual features eg. those potentially related to page formatting\n",
    "cols_to_drop = ['num_count_norm', 'punct_count_norm','space_count_norm', 'sym_count_norm', 'x_count_norm']\n",
    "predictor_cols = bs_dt.drop_features(predictor_cols, cols_to_drop)\n",
    "\n",
    "# prep data i.e. set X and y, train/test split, normalise predictor variables\n",
    "X_train, X_test, y_train, y_test, idx_train, idx_test = bs_dt.modelling_prep(predictor_cols, 'trans_code')\n",
    "\n",
    "# gridsearch model parameters, score fitted model\n",
    "params = {'n_estimators': [100, 200, 300],\n",
    "          'learning_rate': [0.001, 0.01, 0.1, 1],\n",
    "          'base_estimator__max_depth' : [2,3,4,5]}\n",
    "\n",
    "bs_dt.gridsearch(params, X_train, y_train)\n",
    "\n",
    "# score the fitted model\n",
    "bs_dt_gs_01_results = bs_dt.gridsearch_score(X_train, y_train, X_test, y_test)\n",
    "\n",
    "# save fitted model\n",
    "out_path = '../../../../Documents/murakami/pkl_models/'\n",
    "out_name = 'bs_dt_gs_01'\n",
    "out_full_path = out_path + out_name + '.pkl'\n",
    "bs_dt.save_model(out_full_path)"
   ]
  },
  {
   "cell_type": "markdown",
   "metadata": {},
   "source": [
    "#### ada boost with decision tree again does not beat Logistic Regression"
   ]
  },
  {
   "cell_type": "markdown",
   "metadata": {},
   "source": [
    "### Confusion Matrix"
   ]
  },
  {
   "cell_type": "code",
   "execution_count": 16,
   "metadata": {
    "ExecuteTime": {
     "end_time": "2020-06-15T18:58:59.549598Z",
     "start_time": "2020-06-15T18:58:59.516050Z"
    }
   },
   "outputs": [
    {
     "name": "stdout",
     "output_type": "stream",
     "text": [
      "                 predicted birnbaum  predicted rubin  predicted gabriel\n",
      "actual birnbaum                 238               70                 37\n",
      "actual rubin                     62              313                 41\n",
      "actual gabriel                   75               66                141\n"
     ]
    }
   ],
   "source": [
    "print(pd.DataFrame(bs_dt_gs_01_results['conmat'], index=['actual birnbaum', 'actual rubin', 'actual gabriel'],\n",
    "                             columns=['predicted birnbaum', 'predicted rubin', 'predicted gabriel']))"
   ]
  },
  {
   "cell_type": "markdown",
   "metadata": {},
   "source": [
    "#### OK results "
   ]
  },
  {
   "cell_type": "markdown",
   "metadata": {},
   "source": [
    "### Classification Report"
   ]
  },
  {
   "cell_type": "code",
   "execution_count": 17,
   "metadata": {
    "ExecuteTime": {
     "end_time": "2020-06-15T18:59:02.194078Z",
     "start_time": "2020-06-15T18:59:02.015345Z"
    }
   },
   "outputs": [
    {
     "name": "stdout",
     "output_type": "stream",
     "text": [
      "              precision    recall  f1-score   support\n",
      "\n",
      "           0       0.63      0.69      0.66       345\n",
      "           1       0.70      0.75      0.72       416\n",
      "           2       0.64      0.50      0.56       282\n",
      "\n",
      "    accuracy                           0.66      1043\n",
      "   macro avg       0.66      0.65      0.65      1043\n",
      "weighted avg       0.66      0.66      0.66      1043\n",
      "\n"
     ]
    }
   ],
   "source": [
    "print(classification_report(y_test, bs_dt.model_gs.predict(X_test)))"
   ]
  },
  {
   "cell_type": "markdown",
   "metadata": {},
   "source": [
    "### Try Gradient Boost with Gridsearch"
   ]
  },
  {
   "cell_type": "code",
   "execution_count": 18,
   "metadata": {
    "ExecuteTime": {
     "end_time": "2020-06-15T19:53:13.990630Z",
     "start_time": "2020-06-15T19:35:01.546342Z"
    }
   },
   "outputs": [
    {
     "name": "stdout",
     "output_type": "stream",
     "text": [
      "Fitting 5 folds for each of 36 candidates, totalling 180 fits\n"
     ]
    },
    {
     "name": "stderr",
     "output_type": "stream",
     "text": [
      "[Parallel(n_jobs=2)]: Using backend LokyBackend with 2 concurrent workers.\n",
      "[Parallel(n_jobs=2)]: Done  46 tasks      | elapsed:  3.7min\n",
      "[Parallel(n_jobs=2)]: Done 180 out of 180 | elapsed: 17.8min finished\n"
     ]
    },
    {
     "name": "stdout",
     "output_type": "stream",
     "text": [
      "Best Parameters:\n",
      "{'learning_rate': 0.1, 'loss': 'deviance', 'max_depth': 5, 'n_estimators': 200, 'subsample': 0.75}\n",
      "Best estimator mean cross validated training score:\n",
      "0.6872109995077167\n",
      "Best estimator score on the full training set:\n",
      "0.9990405372991125\n",
      "Best estimator score on the test set:\n",
      "0.697986577181208\n",
      "ROC-AUC score on the test set:\n",
      "Class 0: 0.85\n",
      "Class 1: 0.87\n",
      "Class 2: 0.9\n"
     ]
    }
   ],
   "source": [
    "# prepare modelling\n",
    "model = GradientBoostingClassifier(criterion='mse', random_state=1)\n",
    "gb = Modelling(df, model)\n",
    "\n",
    "# select feature groups for modelling\n",
    "predictor_cols = gb.feature_select(basic_counts=True, vader=False, pos_counts=True, \n",
    "                   words=True, adv=True, adj=True)\n",
    "\n",
    "# drop some individual features eg. those potentially related to page formatting\n",
    "cols_to_drop = ['num_count_norm', 'punct_count_norm','space_count_norm', 'sym_count_norm', 'x_count_norm']\n",
    "predictor_cols = gb.drop_features(predictor_cols, cols_to_drop)\n",
    "\n",
    "# prep data i.e. set X and y, train/test split, normalise predictor variables\n",
    "X_train, X_test, y_train, y_test, idx_train, idx_test = gb.modelling_prep(predictor_cols, 'trans_code')\n",
    "\n",
    "# gridsearch model parameters, score fitted model\n",
    "\n",
    "params = {\n",
    "    \"loss\":[\"deviance\"],\n",
    "    \"learning_rate\": [0.01, 0.1, 0.2],\n",
    "#     \"min_samples_split\": [0.1, 0.25, 0.5],\n",
    "#     \"min_samples_leaf\": [0.1, 0.25, 0.5],\n",
    "    \"max_depth\":[3,5],\n",
    "#     \"max_features\":[\"log2\",\"sqrt\"],\n",
    "#     \"criterion\": [\"friedman_mse\",  \"mae\"],\n",
    "    \"subsample\":[0.5, 0.75, 1.0],\n",
    "    \"n_estimators\":[100, 200]\n",
    "    }\n",
    "\n",
    "gb.gridsearch(params, X_train, y_train)\n",
    "\n",
    "# score the fitted model\n",
    "gb_gs_01_results = gb.gridsearch_score(X_train, y_train, X_test, y_test)\n",
    "\n",
    "# save fitted model\n",
    "out_path = '../../../../Documents/murakami/pkl_models/'\n",
    "out_name = 'gb_gs_01'\n",
    "out_full_path = out_path + out_name + '.pkl'\n",
    "gb.save_model(out_full_path)"
   ]
  },
  {
   "cell_type": "markdown",
   "metadata": {
    "ExecuteTime": {
     "end_time": "2020-06-03T13:21:54.066439Z",
     "start_time": "2020-06-03T13:21:54.062709Z"
    }
   },
   "source": [
    "### Confusion Matrix"
   ]
  },
  {
   "cell_type": "code",
   "execution_count": 19,
   "metadata": {
    "ExecuteTime": {
     "end_time": "2020-06-15T19:54:33.514206Z",
     "start_time": "2020-06-15T19:54:33.504120Z"
    }
   },
   "outputs": [
    {
     "name": "stdout",
     "output_type": "stream",
     "text": [
      "                 predicted birnbaum  predicted rubin  predicted gabriel\n",
      "actual birnbaum                 232               78                 35\n",
      "actual rubin                     69              315                 32\n",
      "actual gabriel                   54               47                181\n"
     ]
    }
   ],
   "source": [
    "print(pd.DataFrame(gb_gs_01_results['conmat'], index=['actual birnbaum', 'actual rubin', 'actual gabriel'],\n",
    "                             columns=['predicted birnbaum', 'predicted rubin', 'predicted gabriel']))"
   ]
  },
  {
   "cell_type": "code",
   "execution_count": 20,
   "metadata": {
    "ExecuteTime": {
     "end_time": "2020-06-15T19:54:34.685266Z",
     "start_time": "2020-06-15T19:54:34.677111Z"
    }
   },
   "outputs": [
    {
     "data": {
      "text/plain": [
       "{'learning_rate': 0.1,\n",
       " 'loss': 'deviance',\n",
       " 'max_depth': 5,\n",
       " 'n_estimators': 200,\n",
       " 'subsample': 0.75}"
      ]
     },
     "execution_count": 20,
     "metadata": {},
     "output_type": "execute_result"
    }
   ],
   "source": [
    "gb.model_gs.best_params_"
   ]
  },
  {
   "cell_type": "markdown",
   "metadata": {},
   "source": [
    "### Classification Report"
   ]
  },
  {
   "cell_type": "code",
   "execution_count": 21,
   "metadata": {
    "ExecuteTime": {
     "end_time": "2020-06-15T19:54:39.068010Z",
     "start_time": "2020-06-15T19:54:39.027656Z"
    }
   },
   "outputs": [
    {
     "name": "stdout",
     "output_type": "stream",
     "text": [
      "              precision    recall  f1-score   support\n",
      "\n",
      "           0       0.65      0.67      0.66       345\n",
      "           1       0.72      0.76      0.74       416\n",
      "           2       0.73      0.64      0.68       282\n",
      "\n",
      "    accuracy                           0.70      1043\n",
      "   macro avg       0.70      0.69      0.69      1043\n",
      "weighted avg       0.70      0.70      0.70      1043\n",
      "\n"
     ]
    }
   ],
   "source": [
    "print(classification_report(y_test, gb.model_gs.predict(X_test)))"
   ]
  },
  {
   "cell_type": "markdown",
   "metadata": {},
   "source": [
    "#### Gradient Boosting has greater accuracy than Logistic Regression. Feature importance can also be extracted."
   ]
  },
  {
   "cell_type": "code",
   "execution_count": 22,
   "metadata": {
    "ExecuteTime": {
     "end_time": "2020-06-15T19:54:51.979398Z",
     "start_time": "2020-06-15T19:54:51.947114Z"
    }
   },
   "outputs": [],
   "source": [
    "# feature importances\n",
    "feature_importances = gb.model_gs.best_estimator_.feature_importances_\n",
    "df_feat_imp = pd.DataFrame(list(zip(X_test.columns, gb.model_gs.best_estimator_.feature_importances_)), \n",
    "             columns=['Feature', 'Importance']\n",
    "            ).sort_values(by='Importance', ascending=False)"
   ]
  },
  {
   "cell_type": "code",
   "execution_count": 23,
   "metadata": {
    "ExecuteTime": {
     "end_time": "2020-06-15T19:55:07.074861Z",
     "start_time": "2020-06-15T19:55:06.801626Z"
    }
   },
   "outputs": [
    {
     "data": {
      "image/png": "[encoded data removed]",
      "text/plain": [
       "<Figure size 432x432 with 1 Axes>"
      ]
     },
     "metadata": {
      "image/png": {
       "height": 357,
       "width": 484
      },
      "needs_background": "light"
     },
     "output_type": "display_data"
    }
   ],
   "source": [
    "df_feat_imp.set_index('Feature')['Importance'].sort_values(ascending=True).tail(10) \\\n",
    "                .plot(kind='barh', figsize=(6,6))\n",
    "plt.show()"
   ]
  },
  {
   "cell_type": "markdown",
   "metadata": {},
   "source": [
    "### XG boosting classification with grid search"
   ]
  },
  {
   "cell_type": "code",
   "execution_count": 24,
   "metadata": {
    "ExecuteTime": {
     "end_time": "2020-06-15T20:06:54.303564Z",
     "start_time": "2020-06-15T19:56:03.874798Z"
    }
   },
   "outputs": [
    {
     "name": "stdout",
     "output_type": "stream",
     "text": [
      "Fitting 5 folds for each of 36 candidates, totalling 180 fits\n"
     ]
    },
    {
     "name": "stderr",
     "output_type": "stream",
     "text": [
      "[Parallel(n_jobs=2)]: Using backend LokyBackend with 2 concurrent workers.\n",
      "[Parallel(n_jobs=2)]: Done  46 tasks      | elapsed:  2.4min\n",
      "[Parallel(n_jobs=2)]: Done 180 out of 180 | elapsed: 10.7min finished\n"
     ]
    },
    {
     "name": "stdout",
     "output_type": "stream",
     "text": [
      "Best Parameters:\n",
      "{'learning_rate': 0.1, 'loss': 'deviance', 'max_depth': 5, 'n_estimators': 200, 'subsample': 0.5}\n",
      "Best estimator mean cross validated training score:\n",
      "0.6908115764291328\n",
      "Best estimator score on the full training set:\n",
      "0.9836891340849124\n",
      "Best estimator score on the test set:\n",
      "0.7085330776605945\n",
      "ROC-AUC score on the test set:\n",
      "Class 0: 0.86\n",
      "Class 1: 0.88\n",
      "Class 2: 0.9\n"
     ]
    }
   ],
   "source": [
    "# prepare modelling\n",
    "model = XGBClassifier()\n",
    "xgb = Modelling(df, model)\n",
    "\n",
    "# select feature groups for modelling\n",
    "predictor_cols = xgb.feature_select(basic_counts=True, vader=False, pos_counts=True, \n",
    "                   words=True, adv=True, adj=True)\n",
    "\n",
    "# drop some individual features eg. those potentially related to page formatting\n",
    "cols_to_drop = ['num_count_norm', 'punct_count_norm','space_count_norm', 'sym_count_norm', 'x_count_norm']\n",
    "predictor_cols = xgb.drop_features(predictor_cols, cols_to_drop)\n",
    "\n",
    "# prep data i.e. set X and y, train/test split, normalise predictor variables\n",
    "X_train, X_test, y_train, y_test, idx_train, idx_test = xgb.modelling_prep(predictor_cols, 'trans_code')\n",
    "\n",
    "# gridsearch model parameters, score fitted model\n",
    "parameters = {'nthread':[4], #when use hyperthread, xgboost may become slower\n",
    "              'objective':['multi:softmax','binary:logistic'],\n",
    "              'learning_rate': [0.01, 0.05, 0.1], #so called `eta` value\n",
    "              'max_depth': [5,6,7],\n",
    "              'min_child_weight': [11],\n",
    "              'silent': [1],\n",
    "              'subsample': [0.8],\n",
    "              'colsample_bytree': [0.7],\n",
    "              'n_estimators': [1000], #number of trees, change it to 1000 for better results\n",
    "              'missing':[-999],\n",
    "              'seed': [1337]}\n",
    "\n",
    "xgb.gridsearch(params, X_train, y_train)\n",
    "\n",
    "# score the fitted model\n",
    "xgb_gs_01_results = xgb.gridsearch_score(X_train, y_train, X_test, y_test)\n",
    "\n",
    "# save fitted model\n",
    "out_path = '../../../../Documents/murakami/pkl_models/'\n",
    "out_name = 'xgb_gs_01'\n",
    "out_full_path = out_path + out_name + '.pkl'\n",
    "xgb.save_model(out_full_path)"
   ]
  },
  {
   "cell_type": "markdown",
   "metadata": {},
   "source": [
    "### Confusion Matrix"
   ]
  },
  {
   "cell_type": "code",
   "execution_count": 25,
   "metadata": {
    "ExecuteTime": {
     "end_time": "2020-06-15T20:08:02.740847Z",
     "start_time": "2020-06-15T20:08:02.733045Z"
    }
   },
   "outputs": [
    {
     "name": "stdout",
     "output_type": "stream",
     "text": [
      "                 predicted birnbaum  predicted rubin  predicted gabriel\n",
      "actual birnbaum                 239               74                 32\n",
      "actual rubin                     64              315                 37\n",
      "actual gabriel                   49               48                185\n"
     ]
    }
   ],
   "source": [
    "print(pd.DataFrame(xgb_gs_01_results['conmat'], index=['actual birnbaum', 'actual rubin', 'actual gabriel'],\n",
    "                             columns=['predicted birnbaum', 'predicted rubin', 'predicted gabriel']))"
   ]
  },
  {
   "cell_type": "markdown",
   "metadata": {},
   "source": [
    "* OK results"
   ]
  },
  {
   "cell_type": "markdown",
   "metadata": {},
   "source": [
    "### Classification Report"
   ]
  },
  {
   "cell_type": "code",
   "execution_count": 26,
   "metadata": {
    "ExecuteTime": {
     "end_time": "2020-06-15T20:08:05.926607Z",
     "start_time": "2020-06-15T20:08:05.869513Z"
    }
   },
   "outputs": [
    {
     "name": "stdout",
     "output_type": "stream",
     "text": [
      "              precision    recall  f1-score   support\n",
      "\n",
      "           0       0.68      0.69      0.69       345\n",
      "           1       0.72      0.76      0.74       416\n",
      "           2       0.73      0.66      0.69       282\n",
      "\n",
      "    accuracy                           0.71      1043\n",
      "   macro avg       0.71      0.70      0.70      1043\n",
      "weighted avg       0.71      0.71      0.71      1043\n",
      "\n"
     ]
    }
   ],
   "source": [
    "print(classification_report(y_test, xgb.model_gs.predict(X_test)))"
   ]
  },
  {
   "cell_type": "code",
   "execution_count": 30,
   "metadata": {
    "ExecuteTime": {
     "end_time": "2020-06-15T20:09:38.229294Z",
     "start_time": "2020-06-15T20:09:37.760053Z"
    }
   },
   "outputs": [
    {
     "data": {
      "image/png": "[encoded data removed]",
      "text/plain": [
       "<Figure size 432x288 with 1 Axes>"
      ]
     },
     "metadata": {
      "image/png": {
       "height": 281,
       "width": 516
      },
      "needs_background": "light"
     },
     "output_type": "display_data"
    }
   ],
   "source": [
    "plot_importance(xgb.model_gs.best_estimator_, max_num_features=20)\n",
    "plt.show()"
   ]
  },
  {
   "cell_type": "markdown",
   "metadata": {},
   "source": [
    "#### XGBoosting provides the best 5-fold crossvalidation accuracy so far. \n",
    "* It is relatively heavy to run compared to Logistic Regression\n",
    "* We see similar features but it is more challenging to see which ones relate to each translator"
   ]
  },
  {
   "cell_type": "code",
   "execution_count": null,
   "metadata": {},
   "outputs": [],
   "source": []
  }
 ],
 "metadata": {
  "kernelspec": {
   "display_name": "textacy",
   "language": "python",
   "name": "textacy"
  },
  "language_info": {
   "codemirror_mode": {
    "name": "ipython",
    "version": 3
   },
   "file_extension": ".py",
   "mimetype": "text/x-python",
   "name": "python",
   "nbconvert_exporter": "python",
   "pygments_lexer": "ipython3",
   "version": "3.8.3"
  }
 },
 "nbformat": 4,
 "nbformat_minor": 2
}
