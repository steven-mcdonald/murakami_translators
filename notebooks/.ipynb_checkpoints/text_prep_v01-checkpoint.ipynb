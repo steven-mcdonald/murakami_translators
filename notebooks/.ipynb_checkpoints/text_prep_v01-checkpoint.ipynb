{
 "cells": [
  {
   "cell_type": "code",
   "execution_count": 1,
   "metadata": {
    "ExecuteTime": {
     "end_time": "2020-05-18T19:43:53.895811Z",
     "start_time": "2020-05-18T19:43:49.664565Z"
    }
   },
   "outputs": [
    {
     "name": "stderr",
     "output_type": "stream",
     "text": [
      "\n",
      "Bad key \"text.kerning_factor\" on line 4 in\n",
      "/Users/Steven/opt/anaconda3/envs/textacy/lib/python3.8/site-packages/matplotlib/mpl-data/stylelib/_classic_test_patch.mplstyle.\n",
      "You probably need to get an updated matplotlibrc file from\n",
      "https://github.com/matplotlib/matplotlib/blob/v3.1.3/matplotlibrc.template\n",
      "or from the matplotlib source distribution\n"
     ]
    }
   ],
   "source": [
    "import pandas as pd\n",
    "import numpy as np\n",
    "import matplotlib.pyplot as plt\n",
    "import seaborn as sns\n",
    "sns.set(font_scale=1.5)\n",
    "\n",
    "%config InlineBackend.figure_format = 'retina'\n",
    "%matplotlib inline\n",
    "\n",
    "import textacy"
   ]
  },
  {
   "cell_type": "code",
   "execution_count": 2,
   "metadata": {
    "ExecuteTime": {
     "end_time": "2020-05-18T19:43:53.912097Z",
     "start_time": "2020-05-18T19:43:53.899564Z"
    }
   },
   "outputs": [],
   "source": [
    "import pickle"
   ]
  },
  {
   "cell_type": "code",
   "execution_count": 3,
   "metadata": {
    "ExecuteTime": {
     "end_time": "2020-05-18T19:43:55.794171Z",
     "start_time": "2020-05-18T19:43:55.788208Z"
    }
   },
   "outputs": [],
   "source": [
    "in_path = '../../../../Documents/murakami/pkl/'\n",
    "in_name = 'wubc_ch1_rubin_v01'\n",
    "in_full_path = in_path + in_name + '.pkl'"
   ]
  },
  {
   "cell_type": "code",
   "execution_count": 4,
   "metadata": {},
   "outputs": [],
   "source": [
    "# read back pickle\n",
    "with open (in_full_path, 'rb') as fp:\n",
    "    wubc_ch1 = pickle.load(fp)"
   ]
  },
  {
   "cell_type": "code",
   "execution_count": 5,
   "metadata": {},
   "outputs": [],
   "source": [
    "wubc_ch1 = wubc_ch1[64:]"
   ]
  },
  {
   "cell_type": "code",
   "execution_count": 6,
   "metadata": {},
   "outputs": [
    {
     "data": {
      "text/plain": [
       "'WHEN THE PHONE  rang I was in the kitchen, boiling a potful of spaghetti and whistling along to an FM broadcast of the overture to Rossini’s  The Thieving Magpie , which has to be the perfect music for cooking pasta. \\n I wanted to ignore the phone, not only because the spaghetti was nearly done but because Claudio Abbado was bringing the London Symphony to its musical climax.  Finally, though, I had to give in.  It could have been someone with news of a job.  I turned down the gas, went to the living room, and picked up the receiver. \\n “Ten minutes, please,” said a woman on the other end. \\n I’m good at recognizing people’s voices, but this was not one I knew. \\n “Excuse me?  To whom did you wish to speak?” \\n “To  you , of course.  Ten minutes, please.  That’s all we need to understand each other.”  Her voice was low and soft but otherwise nondescript. \\n “Understand each other?” \\n “Each other’s feelings.” \\n I leaned over and peeked through the kitchen door.  The spaghetti pot was steaming nicely, and Claudio Abbado was still conducting  The Thieving Magpie . \\n “Sorry, but you caught me in the middle of cooking spaghetti.  Could you call back later?” \\n “Spaghetti!?  What are you doing cooking spaghetti at 10.30 in the morning?” \\n “That’s none of your business,” I said.  “ I  decide what I eat and when I eat it.” \\n “Fair enough.  I’ll call back,” she said, her voice now flat and expressionless.  A slight change in mood can do amazing things to the tone of a person’s voice. \\n “Hold on a minute,” I said before she could hang up.  “If this is some new sales gimmick, you can forget it.  I’m out of work.  I’m not in the market for anything.” \\n “Don’t worry.  I know.” \\n “You know?  You know what?” \\n “That you’re out of work.  I know about that.  So, go and cook your precious spaghetti.” \\n “Who the hell –” \\n She rang off. \\n Deprived of outlet for my feelings, I stared at the phone in my hand until I remembered the spaghetti.  Back in the kitchen, I turned off the gas and poured the contents of the pot into a colander.  Thanks to the phone call, the spaghetti was a little softer than  al dente , but it had not been dealt a mortal blow.  I started eating – and thinking. \\n Understand each other?  Understand each other’s feelings in ten minutes?  What was she talking about?  Maybe it was just a hoax call.  Or some new sales pitch.  In any case, it had nothing to do with me. \\n After lunch, I went back to my library book on the living room sofa, glancing every now and then at the telephone.  What were we supposed to understand about each other in ten minutes?  What  can  two people understand about each other in ten minutes?  Come to think of it, she seemed awfully sure about those ten minutes: it was the first thing she came out with.  As if nine minutes would be too short or eleven minutes too long.  Like cooking spaghetti  al dente . \\n I couldn’t read any more.  I decided to iron shirts instead.  Which is what I always do when I’m upset.  It’s an old habit.  I divide the job into twelve distinct stages, beginning with the collar (outer surface) and ending with the left-hand cuff.  The order is invariable, and I count off each stage to myself.  Otherwise, it won’t come out right. \\n I ironed three shirts, checking them for wrinkles and putting them on hangers.  Once I had switched off the iron and put it away with the ironing board in the hall cupboard, my mind felt a good deal clearer. \\n I was on my way to the kitchen for a glass of water when the phone  rang  again.  I hesitated for a second, but decided to answer it.  If it was the same woman, I’d tell her I was ironing and hang up. \\n This time it was Kumiko.  The wall clock said 11.30.  “How are you?”  she asked. \\n “Fine,” I said, relieved to hear my wife’s voice. \\n “What are you doing?” \\n “Just finished ironing.” \\n “What’s wrong?”  There was a note of tension in her voice.  She knew what it meant for me to be ironing. \\n “Nothing.  I was just ironing some shirts.”  I sat down and shifted the receiver from my left hand to my right.  “What’s up?” \\n “Can you write poetry?”  she asked. \\n “Poetry!?”  Poetry?  Did she mean … poetry? \\n “I know the publisher of a story magazine for girls.  They’re looking for somebody to pick and revise poems submitted by readers.  And they want the person to write a short poem every month for an opener.  Pay’s not bad for an easy job.  It’s part-time of course.  But they might add some editorial work if the person –” \\n “Easy work?”  I broke in.  “Hang on a minute.  I’m looking for something in law, not poetry.” \\n “I thought you did some writing in high school.” \\n “Oh yes, sure, for the school newspaper: which team won the football championship or how the physics teacher fell down the stairs and ended up in the hospital – that kind of stuff.  Not poetry.  I can’t write poetry.” \\n “Sure, but I’m not talking about great poetry, just something for school girls.  It doesn’t have to earn a place in literary history.  You could do it with your eyes shut.  Don’t you see?” \\n “Look, I just can’t write poetry – eyes open or closed.  I’ve never done it, and I’m not going to start now.” \\n “All right,” said Kumiko, a little sadly.  “But it’s hard to find legal work.” \\n “I know.  That’s why I’ve got so many feelers out.  I should be hearing something this week.  If it’s no go, I’ll think about doing something else.” \\n “Well, I suppose that’s that.  By the way, what’s today?  What day of the week?” \\n I thought a moment and said, “Tuesday.” \\n “Then will you go to the bank and pay the gas and telephone bills?” \\n “Sure.  I was just about to go shopping for dinner anyway.” \\n “What are you planning?” \\n “I don’t know yet.  I’ll decide when I’m shopping.” \\n She paused.  “Come to think of it,” she said, with a new seriousness, “there’s no great hurry about your finding a job.” \\n This caught me off guard.  “Why’s that?”  I asked.  Had the women of the world chosen today to surprise me on the telephone?  “My benefit’s going to run out sooner or later.  I can’t keep hanging around forever.” \\n “True, but with my raise and occasional jobs on the side and our savings, we can get by OK if we’re careful.  There’s no real emergency.  Do you hate staying at home like this and doing housework?  I mean, is this life so wrong for you?” \\n “I don’t know,” I answered honestly.  I really didn’t know. \\n “Well, take your time and have a think,” she said.  “Anyhow, has the cat come back?” \\n The cat.  I hadn’t thought about the cat all morning.  “No,” I said.  “Not yet.” \\n “Can you please have a look around the neighbourhood?  It’s been gone over a week now.” \\n I gave a noncommittal grunt and shifted the receiver back to my left hand.  She went on: \\n “I’m almost certain it’s hanging around the empty house at the other end of the alley.  The one with the bird statue in the yard.  I have often seen it there.” \\n “The alley?  Since when have you been going to the alley?  You’ve never said anything –” \\n “Oops!  Got to run.  Lots of work to do.  Don’t forget about the cat.” \\n She hung up.  I found myself staring at the receiver again.  Then I set it down in its cradle. \\n I wondered what had taken Kumiko to the alley.  To get there from our house, you had to climb over the breeze-block wall.  And once you’d made the effort, there was no point in being there. \\n I went to the kitchen for a glass of water, then out to the veranda to look at the cat’s dish.  The mound of sardines was untouched from last night.  No, the cat had not come back.  I stood there looking at our small garden, with the early summer sunshine streaming into it.  Not that ours was the kind of garden that gives you spiritual solace to look at.  The sun managed to find its way in there for the smallest fraction of each day, so the earth was always black and moist, and all we had by way of garden plants were a few dusty hydrangeas in one corner – and I don’t like hydrangeas.  There was a small stand of trees nearby, and from it you could  hear  the mechanical cry of a bird that sounded as if it were winding a spring.  We called it the wind-up bird.  Kumiko gave it the name.  We didn’t know what it was really called or what it looked like, but that didn’t bother the wind-up bird.  Every day it would come to the stand of trees in our neighbourhood and wind the spring of our quiet little world. \\n So now I had to go cat hunting.  I had always liked cats.  And I liked this particular cat.  But cats have their own way of living.  They’re not stupid.  If a cat stopped living where you happened to be, that meant it had decided to go somewhere else.  If it got tired and hungry, it would come back.  Finally, though, to keep Kumiko happy, I would have to go looking for our cat.  I had nothing better to do. \\n • \\n I had left my job at the beginning of April – the law job I had had since graduation.  Not that I had left for any special reason.  I didn’t dislike the work.  It wasn’t thrilling, but the pay was all right and the office atmosphere was friendly. \\n My role at the firm was – not to put too fine a point on it – that of office dogsbody.  And I was good at it.  I might say I have a real talent for the execution of practical duties.  I’m a quick learner, efficient, I never complain, and I’m realistic.  Which is why, when I said I wanted to leave, the senior partner (the father in this father-and-son law firm) went so far as to offer me a small raise. \\n But I left anyway.  Not that leaving would help me realize any particular hopes or prospects.  The last thing I wanted to do, for example, was shut myself up in the house and study for the bar exam.  I was surer than ever that I didn’t want to become a lawyer.  I knew, too, that I didn’t want to stay where I was and continue with the job I had.  If I was going to get out, now was the time to do it.  If I stayed with the firm any longer, I’d be there for the rest of my life.  I was thirty years old, after all. \\n I had told Kumiko at the dinner table that I was thinking of resigning my job.  Her only response had been, “I see.”  I didn’t know what she meant by that, but for a while she said nothing more. \\n I kept silent too, until she added, “If you want to leave, you should leave.  It’s your life, and you should live it the way you want to.”  Having said this much, she then became involved in picking out fish bones with her chopsticks and moving them to the edge of her plate. \\n Kumiko earned pretty good pay as an editor on a health food magazine, and she would occasionally take on illustration commissions from editor friends at other magazines to earn a substantial additional income.  (She  had  studied design in college and had hoped to be a freelance illustrator.) In addition, if I left my job I would have my own income for a while from unemployment insurance.  Which meant that even if I stayed home and took care of the house, we would still have enough for extras such as eating out and paying the cleaning bill, and our lifestyle would hardly change. \\n And so I had left. \\n • \\n I was loading groceries into the refrigerator when the phone rang.  The ringing seemed to have an impatient edge to it this time.  I had just ripped open a plastic pack of tofu, which I set down carefully on the kitchen table to keep the water from spilling out.  I went to the living room and picked up the phone. \\n “You must have finished your spaghetti by now,” said the woman. \\n “You’re right.  But now I have to go and look for the cat.” \\n “That can wait for ten minutes, I’m sure.  It’s not like cooking spaghetti.” \\n For some reason, I couldn’t just hang up on her.  There was something about her voice that demanded my attention.  “OK, but no more than ten minutes.” \\n “Now we’ll be able to understand each other,” she said with quiet certainty.  I sensed her settling comfortably into a chair and crossing her legs. \\n “I wonder,” I said.  “What can you understand in ten minutes?” \\n “Ten minutes may be longer than you think,” she said. \\n “Are you sure you know me?” \\n “Of course I do.  We’ve met hundreds of times.” \\n “Where?  When?” \\n “Somewhere, sometime,” she said.  “But if I went into that, ten minutes would never be enough.  What’s important is the time we have now.  The present.  Don’t you agree?” \\n “Maybe.  But I’d like some proof that you know me.” \\n “What kind of proof?” \\n “My age, say?” \\n “Thirty,” she answered at once.  “Thirty and two months.  Good enough?” \\n That shut me up.  Obviously she did know me, but her voice meant nothing to me at all. \\n “Now it’s your turn,” she said, her voice seductive.  “Try picturing me.  From my voice.  Imagine what I’m like.  My age.  Where I am.  How I’m dressed.  Go ahead.” \\n “I have no idea,” I said. \\n “Oh, come on,” she said.  “Try.” \\n I looked at my watch.  Only a minute and five seconds gone.  “I have no idea,” I said again. \\n “Then let me help you,” she said.  “I’m in bed.  I’ve just come out of the shower, and I’m not wearing a thing.” \\n Oh, great.  Telephone sex. \\n “Or would you prefer me with something on?  Something lacy.  Or stockings.  Would that work better for you?” \\n “I don’t give a damn.  Do what you like,” I said.  “Put something on if you want to.  Stay naked if you want to.  Sorry, but I’m not interested in telephone games like this.  I’ve got a lot of things I have to –” \\n “Ten minutes,” she said.  “Ten minutes won’t kill you.  It won’t make a hole in your life.  Just answer my question.  Do you want me naked or with something on?  I’ve got all kinds of things I could put on.  Black lace panties …” \\n “Naked is fine.” \\n “Well, good.  You want me naked.” \\n “Yes.  Naked.  Good.” \\n Four minutes. \\n “My pubic hair is still wet,” she said.  “I didn’t dry myself very well.  Oh, I’m so wet!  Warm and moist.  And soft.  Wonderfully soft and black.  Touch me.” \\n “Look, I’m sorry, but –” \\n “And down below too.  All the way down.  It’s so warm down there, like butter.  So warm.  Mmm.  And my legs.  What position do you think my legs are in?  My right knee is up, and my left leg is open just enough.  Say, five past ten on the clock.” \\n I could tell from her voice that she was not faking it.  She really did have her legs open at five past ten, her sex warm and moist. \\n “Touch the lips,” she said.  “Slooowly.  Now open them.  That’s it.  Slowly, slowly.  Let your fingers caress them.  Oh so slowly.  Now, with your other hand, touch my left breast.  Play with it.  Caress it.  Upward.  And give the nipple a little squeeze.  Do it again.  And again.  And again.  Until I’m just about to come.” \\n Without a word, I put the receiver down.  Stretching out on the sofa, I stared at the clock and released a long, deep sigh.  We had been talking for close to six minutes. \\n The phone rang again ten minutes later, but I left it on the hook.  It rang fifteen times.  And when it stopped, a deep, cold silence descended on the room. \\n • \\n Just before 2, I climbed over the breeze-block wall and down into the alley – or what we called the alley.  It was not an “alley” in the proper sense, but then, there was probably no word for what it was.  It wasn’t a “road” or a “path” or even a “way”.  Properly speaking, a “way” should be a pathway or channel with an entrance and an exit, which takes you somewhere if you follow it.  But our “alley” had neither entrance nor exit.  You couldn’t call it a cul-de-sac either: a cul-de-sac has at least one open end.  The alley had not one dead end but two.  The people in the neighbourhood called it “the alley” as an expedient.  It was some two hundred yards in length and threaded its way between the back gardens of the houses that lined either side.  It was barely over three feet in width, and at several points you had to edge through sideways because of fences sticking out into the path or things that people had left in the way. \\n About this alley, the story was – the story I heard from my uncle, who rented us our house for next to nothing – that it used to have both an entrance and an exit and served the purpose of providing a shortcut between two streets.  But with the rapid economic growth of the mid-fifties, rows of new houses came to fill the empty lots on either side of the road, squeezing it until it was little more than a narrow path.  People didn’t like strangers passing so close to their houses and yards, so before long one end of the path was blocked off – or, rather, screened off – with an unassertive fence.  Then one local citizen decided to enlarge his yard and sealed off his end of the alley with a breeze-block wall.  As if in response, a barbed-wire fence went up at the other end, preventing even dogs from getting through.  None of the neighbours complained, because none of them used the alley as a passageway, and they were just as happy to have this extra protection against crime.  As a result, the alley remained as a kind of abandoned canal, unused, serving as little more than a buffer zone between two rows of houses.  Spiders wove their sticky webs in the overgrowth. \\n Why had Kumiko been frequenting such a place?  I myself had walked down that “alley” no more than twice, and Kumiko was afraid of spiders at the best of times.  Oh, what the hell – if Kumiko said I should go to the alley and look for the cat, I’d go to the alley and look for the cat.  What came later I could think about later.  Walking outside like this was far better than sitting in the house waiting for the phone to ring. \\n The sharp sunshine of early summer dappled the surface of the alley with the hard shadows of the branches that stretched overhead.  Without wind to move the branches, the shadows looked like permanent stains,  destined  to remain imprinted on the pavement for ever.  No sounds of any kind seemed to penetrate this place.  I could almost hear the blades of grass breathing in the sunlight.  A few small clouds floated in the sky, their shapes clear and precise, like the clouds in medieval engravings.  I saw everything with such terrific clarity that my own body felt vague and boundless and flowing … and hot! \\n I wore a T-shirt, thin cotton trousers and tennis shoes, but walking in the summer sun, I could feel a light film of sweat forming under my arms and in the hollow of my chest.  The T-shirt and trousers had been packed away in a box crammed with summer clothing until I pulled them out that morning, the sharp smell of mothballs penetrating my nostrils. \\n The houses that lined the alley fell into two distinct categories: older ones and those built more recently.  The newer ones were smaller, with smaller yards to match.  Their clothes-drying poles often protruded into the alley, making it necessary for me to thread my way through the occasional screen of towels and sheets and undershirts.  Over some back walls came the sound of television sets and flushing toilets, and the smell of curry cooking. \\n The older houses, by contrast, gave hardly any sense of life.  These were screened off by well-placed shrubs and hedges, between which I caught glimpses of manicured gardens. \\n An old, brown, withered Christmas tree stood in the corner of one garden.  Another had become the dumping ground for every toy known to man, the apparent refuse of several childhoods.  There were tricycles and hoops and plastic swords and rubber balls and tortoise dolls and little baseball bats.  One garden had a basketball ring, and another had fine lawn chairs surrounding a ceramic table.  The white chairs were caked in dirt, as if they had not been used for some months or even years.  The tabletop was coated with lavender magnolia petals, beaten down by the rain. \\n I had a clear view of one living room through an aluminium storm door.  It had a matching leather sofa and chairs, a large TV, a sideboard (on top of which sat a tropical-fish tank and two trophies of some kind), and a decorative floor lamp.  The room looked like the set of a TV drama.  A huge kennel occupied a large part of another garden, but there was no sign of the dog, and the house door stood open.  The screen of the kennel door bulged outward, as if someone had been leaning against it for months at a time. \\n The vacant house that Kumiko had told me about lay just beyond the place with the huge kennel.  One glance was all I needed to see that it was empty – and had been for some time.  It was a newish two-story  house , yet its wooden storm shutters showed signs of severe aging, and the railings outside the second-story windows were caked with rust.  The house had a cozy little garden, in which, sure enough, a stone statue of a bird stood.  The statue rested on a base that came to chest height and was surrounded by a thick growth of weeds.  Tall fronds of goldenrod were almost touching the bird’s feet.  The bird – I had no idea what kind of bird it was supposed to be – had its wings open as if it wanted to escape from this unpleasant place as soon as possible.  Apart from the statue, the garden had no decorative features.  A pile of aging plastic lawn chairs stood against the house, and beside them an azalea bush displayed its bright-red blossoms, their colour strange and unreal.  The rest was weeds. \\n I leaned against the chest-high chain-link fence for a while, contemplating the garden.  It should have been a paradise for cats, but there was no sign of cats here now.  Perched on the roof’s TV aerial, a single pigeon lent its monotonous cries to the scene.  The stone bird’s shadow fell on the surrounding undergrowth, fragmenting. \\n I took a lemon drop from my pocket, unwrapped it, and popped it into my mouth.  I had regarded my resignation from the firm as an opportunity to give up smoking, but now I was never without a pack of lemon drops.  Kumiko said I was addicted to them and warned me that I’d soon have a mouthful of cavities, but I had to have my lemon drops.  While I stood there looking at the garden, the pigeon on the TV aerial kept up its regular cooing, like a clerk stamping numbers on a sheaf of papers.  I don’t know how long I stayed there, leaning against the fence, but I remember spitting my lemon drop on the ground when, half melted, it had filled my mouth with its sticky sweetness.  I had just shifted my gaze to the shadow of the stone bird when I sensed that someone was calling to me from behind. \\n I turned to see a girl standing in the garden on the other side of the alley.  She was small and had her hair in a ponytail.  She wore dark sunglasses with amber frames and a light-blue sleeveless T-shirt.  The rainy season had barely ended, and yet she had already managed to give her slender arms a nice, smooth tan.  She had one hand jammed into the pocket of her shorts.  The other rested on a waist-high bamboo gate, which could not have been providing much support.  Only three feet – maybe four – separated us. \\n “Hot,” she said to me. \\n “Yeah, right,” I answered. \\n After this brief exchange of views, she stood there looking at me.  Then  she took a box of Hope regulars from her pocket, drew out a cigarette, and put it between her lips.  She had a small mouth, the upper lip turned slightly upward.  She struck a match and lit her cigarette.  When she inclined her head to one side, her hair swung away to reveal a beautifully shaped ear, smooth as if just made, its edge aglow with a downy fringe. \\n She flicked her match away and exhaled smoke through pursed lips.  Then she looked up at me as if she had forgotten that I was there.  I couldn’t see her eyes through the dark, reflective lenses of her sunglasses. \\n “You live around here?”  she asked. \\n “Uh-huh.”  I wanted to motion towards our house, but I had turned so many odd angles to get here that I no longer knew just where it was.  I ended up pointing at random. \\n “I’m looking for my cat,” I explained, wiping a sweaty palm on my trousers.  “It’s been gone for a week.  Somebody saw it around here somewhere.” \\n “What kind of cat?” \\n “A big tom.  Brown stripes.  Tip of the tail a little bent.” \\n “Name?” \\n “Noboru.  Noboru Wataya.” \\n “No, not  your  name.  The cat’s.” \\n “That  is  my cat’s name.” \\n “Oh!  Very impressive!” \\n “Well, actually, it’s my brother-in-law’s name.  The cat reminds us of him.  We gave the cat his name, just for fun.” \\n “How does the cat remind you of him?” \\n “I don’t know.  Just in general.  The way it walks.  And it has this blank stare.” \\n She smiled now for the first time, which made her look a lot more childlike than she had seemed at first.  She couldn’t have been more than fifteen or sixteen.  With its slight curl, her upper lip pointed up at a strange angle.  I seemed to hear a voice saying “Touch me” – the voice of the woman on the phone.  I wiped the sweat from my forehead with the back of my hand. \\n “A brown-striped cat with a bent tail,” said the girl.  “Hmm.  Does it have a collar or anything?” \\n “A black flea collar.” \\n She stood there thinking for ten or fifteen seconds, her hand still  resting  on the gate.  Then she dropped what was left of her cigarette and crushed it under her sandal. \\n “Maybe I did see a cat like that,” she said.  “I don’t know about the bent tail, but it was a brown tiger cat, big, and I think it had a collar.” \\n “When did you see it?” \\n “When  did  I see it?  Hmm.  No more than three or four days ago.  Our yard is a kind of thoroughfare for the neighbourhood cats.  They all cut across here from the Takitanis’ to the Miyawakis’.” \\n She pointed towards the vacant house, where the stone bird still spread its wings, the tall goldenrod still caught the early summer sun, and the pigeon went on with its monotonous cooing on top of the TV aerial. \\n “I’ve got an idea,” she said.  “Why don’t you wait here?  All the cats eventually pass through our place on their way to the Miyawakis’.  And somebody’s bound to call the police if they see you hanging around like that.  It wouldn’t be the first time.” \\n I hesitated. \\n “Don’t worry,” she said.  “I’m the only one here.  The two of us can sit in the sun and wait for the cat to show up.  I’ll help.  I’ve got twenty-twenty vision.” \\n I looked at my watch.  Two twenty-six.  All I had to do today before it got dark was take in the laundry and make the dinner. \\n I went in through the gate and followed the girl across the lawn.  She dragged her right leg slightly.  She took a few steps, stopped, and turned to face me. \\n “I got thrown from the back of a motorcycle,” she said, as if it hardly mattered. \\n A large oak tree stood at the point where the yard’s lawn gave out.  Under the tree sat two canvas deck chairs, one draped with a blue beach towel.  Scattered on the other were a new box of Hope regulars, an ashtray and lighter, a magazine, and an oversize music machine.  The music machine was playing hard-rock music at low volume.  She turned the music off and took all the stuff out of the chair for me, dropping it on the grass.  From the chair, I could see into the yard of the vacant house – the stone bird, the goldenrod, the chain-link fence.  Chances were the girl had been watching me the whole time I was there. \\n The yard of this house was very large.  It had a broad, sloping lawn dotted with clumps of trees.  To the left of the deck chairs was a rather large concrete-lined pond, its empty bottom exposed to the sun.  Judging by its greenish tinge, it had been without water for some time.  We sat with our backs to the house, which was visible through a screen of trees.  The  house was neither large nor lavish in its construction.  Only the yard gave an impression of largeness, and it was well manicured. \\n “What a big yard,” I said, looking around.  “It must be a pain to take care of.” \\n “Must be.” \\n “I used to work for a lawn-mowing company when I was a kid.” \\n “Oh?”  She was obviously not interested in lawns. \\n “Are you always here alone?”  I asked. \\n “Yeah.  Always.  Except for a maid who comes mornings and evenings.  During the day it’s just me.  Alone.  Want a cold drink?  We’ve got beer.” \\n “No, thanks.” \\n “Really?  Don’t be shy.” \\n I shook my head.  “Don’t you go to school?” \\n “Don’t you go to work?” \\n “No work to go to.” \\n “Lost your job?” \\n “Sort of.  I resigned a few weeks ago.” \\n “What kind of job?” \\n “I was a lawyer’s assistant.  I’d go to different government offices to pick up documents, put materials in order, check on legal precedents, handle court procedures – that kind of stuff.” \\n “But you resigned.” \\n “Yes.” \\n “Does your wife have a job?” \\n “She does.” \\n The pigeon across the way must have stopped its cooing and gone off somewhere.  I realized just then that a deep silence lay all around me. \\n “Right over there is where the cats go through,” she said, pointing towards the far side of the lawn.  “See the incinerator in the Takitanis’ yard?  They come under the fence at that point, cut across the grass, and go out under the gate to the yard across the way.  They always follow exactly the same route.” \\n She perched her sunglasses on her forehead, squinted at the yard, and lowered her glasses again, exhaling a cloud of smoke.  In the interval, I saw that she had a two-inch cut next to her left eye – the kind of cut that would probably leave a scar the rest of her life.  The dark sunglasses may have been meant to hide the wound.  The girl’s face was not a particularly beautiful one, but there was something attractive about it, probably the lively eyes or the unusual shape of the lips. \\n “Do you know about the Miyawakis?”  she asked. \\n “Not a thing,” I said. \\n “They’re the ones who lived in the vacant house.  A very proper family.  They had two daughters, both in a private girls’ school.  Mr Miyawaki owned a few restaurants.” \\n “Why did they leave?” \\n “Maybe he was in debt.  They ran away – just cleared out one night.  About a year ago, I think.  Left the place to rot and breed cats.  My mother’s always complaining.” \\n “Are there so many cats in there?” \\n Cigarette in her lips, the girl looked up at the sky. \\n “All kinds of cats.  Some losing their fur, some with one eye … and where the other eye used to be, a lump of raw flesh.  Yuck!” \\n I nodded. \\n “I’ve got a relative with six fingers on each hand.  She’s just a little older than me.  Next to her little finger she’s got this extra finger, like a baby’s finger.  She knows how to keep it tucked in so most people don’t notice.  She’s very pretty.” \\n I nodded again. \\n “You think it’s in the family?  What do you call it … part of the bloodline?” \\n “I don’t know much about heredity.” \\n She stopped talking.  I sucked on my lemon drop and looked hard at the cat path.  Not one cat had shown itself so far. \\n “Sure you don’t want something to drink?”  she asked.  “I’m going to have a Coke.” \\n I said I didn’t need a drink. \\n She left her deck chair and disappeared through the trees, dragging her bad leg.  I picked up her magazine from the grass and leafed through it.  Much to my surprise, it turned out to be a men’s magazine, one of the glossy monthlies.  The woman in the foldout wore thin panties that showed her slit and pubic hair.  She sat on a stool with her legs spread at weird angles.  With a sigh, I put the magazine back, folded my hands on my chest, and focused on the cat path again. \\n • \\n A very long time went by before the girl came back with a Coke in her hand.  The heat was getting to me.  Sitting in the sun, I felt my brain fogging over.  The last thing I wanted to do was think. \\n “Tell me,” she said, picking up her earlier conversation.  “If you were in love with a girl and she turned out to have six fingers, what would you do?” \\n “Sell her to the circus,” I answered. \\n “Really?” \\n “No, of course not,” I said.  “I’m kidding.  I don’t think it would bother me.” \\n “Even if your kids might inherit it?” \\n I took a moment to think about that. \\n “No, I honestly don’t think it would bother me.  What harm would an extra finger do?” \\n “What if she had four breasts?” \\n I thought about that too. \\n “I don’t know.” \\n Four breasts?  This kind of thing could go on for ever.  I decided to change the subject. \\n “How old are you?”  I asked. \\n “Sixteen,” she said.  “Just had my birthday.  First year in secondary school.” \\n “Have you been off school long?” \\n “My leg hurts if I walk too much.  And I’ve got this scar near my eye.  My school’s very strict.  They’d probably start hassling me if they found out I hurt myself falling off a motorcycle.  So I’m off sick.  I could take a year off.  I’m not in any hurry to move up a grade.” \\n “No, I guess not,” I said. \\n “Anyhow, what you were saying before, that you wouldn’t mind marrying a girl with six fingers but not four breasts …” \\n “I didn’t say that.  I said I didn’t know.” \\n “Why don’t you know?” \\n “I don’t know – it’s hard to imagine such a thing.” \\n “Can you imagine someone with six fingers?” \\n “Yes, I guess so.” \\n “So why not four breasts?  What’s the difference?” \\n I took another moment to think it over, but I couldn’t find an answer. \\n “Do I ask too many questions?” \\n “Do people tell you that?” \\n “Yes, sometimes.” \\n I turned towards the cat path again.  What the hell was I doing here?  Not one cat had showed itself the whole time.  Hands still folded on my chest, I closed my eyes for maybe thirty seconds.  I could feel the sweat forming on different parts of my body.  The sun poured into me with a strange heaviness.  Whenever the girl moved her glass, the ice clinked inside it like a cowbell. \\n “Go to sleep if you want,” she whispered.  “I’ll wake you if a cat shows up.” \\n Eyes closed, I nodded in silence. \\n The air was still.  There were no sounds of any kind.  The pigeon had long since disappeared.  I kept thinking about the woman on the telephone.  Did I really know her?  There had been nothing familiar about her voice or her manner of speaking.  But she definitely knew me.  I could have been looking at a De Chirico scene: the woman’s long shadow cutting across an empty street and stretching towards me, but she herself in a place far removed from the limits of my consciousness.  A bell went on ringing and ringing next to my ear. \\n “Are you asleep?”  the girl asked, in a voice so tiny I could not be sure I was hearing it. \\n “No, I’m not sleeping,” I said. \\n “Can I get closer?  It’ll be … easier if I keep my voice low.” \\n “Fine with me,” I said, eyes still closed. \\n She moved her chair until it struck mine with a dry, wooden clack. \\n Strange, the girl’s voice sounded quite different, depending on whether my eyes were open or closed. \\n “Can I talk?  I’ll keep very quiet, and you won’t have to answer.  You can even fall asleep.  I don’t mind.” \\n “OK,” I said. \\n “When people die, it’s so cool.” \\n Her mouth was next to my ear now, so the words worked their way inside me along with her warm, moist breath. \\n “Why’s that?”  I asked. \\n She put a finger on my lips as if to seal them. \\n “No questions,” she said.  “And don’t open your eyes.  OK?” \\n My nod was as small as her voice. \\n She took her finger from my lips and placed it on my wrist. \\n “I wish I had a scalpel.  I’d cut it open and look inside.  Not the corpse … the lump of death.  I’m sure there must be something like that.  Something round and squishy, like a Softball, with a hard little core of dead nerves.  I want to take it out of a dead person and cut it open and look inside.  I’ve always wondered what it’s like.  Maybe it’s all hard, like toothpaste dried up inside the tube.  That’s it, don’t you think?  No, don’t answer.  It’s squishy on the outside, and the deeper you go inside, the harder it gets.  I want to cut open the skin and take out the squishy stuff, use a scalpel and some kind of spatula to get through it, and the closer you get to the centre, the harder the squishy stuff gets, until you reach this tiny  core .  It’s sooo tiny, like a tiny ball bearing, and really hard.  It must be like that, don’t you think?” \\n She cleared her throat a few times. \\n “That’s all I think about these days.  Must be because I have so much time to kill every day.  When you don’t have anything to do, your thoughts get really, really far out – so far out you can’t follow them all the way to the end.” \\n She took the finger from my wrist and drank down the rest of her cola.  I knew the glass was empty from the sound of the ice. \\n “Don’t worry about the cat – I’m watching for it.  I’ll let you know if Noboru Wataya shows up.  Keep your eyes closed.  I’m sure Noboru Wataya is walking around here somewhere.  He’ll be here any minute now.  He’s coming.  I know he’s coming – through the grass, under the fence, stopping to sniff the flowers along the way, little by little Noboru Wataya is coming closer.  Picture him that way, get his image in mind.” \\n I tried to conjure up the image of the cat, but the best I could do was a blurry, backlit photo.  The sunlight penetrating my eyelids destabilized and diffused my inner darkness, making it impossible for me to arrive at a precise image of the cat.  Instead, what I imagined was a failed portrait, a strange, distorted picture, certain distinguishing features bearing some resemblance to the original but the most important parts missing.  I couldn’t even recall how the cat looked when it walked. \\n The girl put her finger on my wrist again, using the tip to draw an odd diagram of uncertain shape.  As if in response, a new kind of darkness – different in quality from the darkness I had been experiencing until that moment – began to burrow into my consciousness.  I was probably falling asleep.  I didn’t want this to happen, but there was no way I could resist it.  My body felt like a corpse – someone else’s corpse – sinking into the canvas deck chair. \\n In the darkness, I saw the four legs of Noboru Wataya, four silent brown legs above four soft paws with swelling, rubberlike pads, legs that were treading the earth somewhere without a sound. \\n But where? \\n “Ten minutes is all it will take,” said the woman on the phone.  No, she had to be wrong.  Sometimes ten minutes is not ten minutes.  It can stretch and shrink.  That was something I did know for sure. \\n • \\n When I woke up, I was alone.  The girl had disappeared from the deck chair, which was still touching mine.  The towel and cigarettes and magazine were there, but not the glass or the music machine. \\n The sun had begun to sink in the west, and the shadow of an oak branch had crept across my knees.  My watch said it was 4.15.  I sat up and looked around.  Broad lawn, dry pond, fence, stone bird, goldenrod, TV aerial.  Still no sign of the cat.  Or of the girl. \\n I glanced at the cat path and waited for the girl to come back.  Ten minutes went by, and neither cat nor girl showed up.  Nothing moved.  I felt as if I had aged tremendously while I slept. \\n I stood and glanced towards the house, where there was no sign of a human presence.  The bay window reflected the glare of the western sun.  I gave up waiting and crossed the lawn to the alley, returning home.  I hadn’t found the cat, but I had tried my best. \\n • \\n At home, I took in the washing and prepared a simple dinner.  The phone rang for twelve rings at 5.30, but I didn’t answer it.  Even after the ringing stopped, the sound of the bell lingered in the indoor evening gloom like dust floating in the air.  With the tips of its hard claws, the table clock tapped at a transparent board floating in space. \\n Why not write a poem about the wind-up bird?  The idea struck me, but the first line would not come.  How could school girls possibly enjoy a poem about a wind-up bird? \\n • \\n Kumiko came home at 7.30.  She had been arriving later and later over the past month.  It was not unusual for her to return after 8, and sometimes even after 10.  Now that I was at home preparing dinner, she no longer had to hurry back.  They were understaffed, in any case, and lately one of her colleagues had been off sick. \\n “Sorry,” she said.  “The work just went on and on, and that part-time girl is useless.” \\n I went to the kitchen and cooked: fish sautéed in butter, salad, and miso soup.  Kumiko sat at the kitchen table and vegged out. \\n “Where were you at 5.30?”  she asked.  “I tried to call to say I’d be late.” \\n “The butter ran out.  I went to the store,” I lied. \\n “Did you go to the bank?” \\n “Yes.” \\n “And the cat?” \\n “Couldn’t find it.  I went to the vacant house, like you said, but there was no trace of it.  I bet it went farther away than that.” \\n She said nothing. \\n When I finished bathing after dinner, Kumiko was sitting in the living room with the lights out.  Hunched in the dark with her grey shirt on, she looked like a piece of luggage that had been left in the wrong place. \\n Drying my hair with a bath towel, I sat on the sofa opposite Kumiko. \\n In a voice I could barely catch, she said, “I’m sure the cat’s dead.” \\n “Don’t be silly,” I replied.  “I’m sure it’s having a grand old time somewhere.  It’ll get hungry and come home soon.  The same thing happened once before, remember?  When we lived in Koenji …” \\n “This time’s different,” she said.  “This time you’re wrong.  I know it.  The cat’s dead.  It’s rotting in a patch of grass.  Did you look in the grass around the vacant house?” \\n “No, I didn’t.  The house may be vacant, but it does belong to somebody.  I can’t just go barging in there.” \\n “Then where  did  you look for the cat?  I bet you didn’t even try.  That’s why you didn’t find it.” \\n I sighed and wiped my hair again with the towel.  I started to speak but gave up when I realized that Kumiko was crying.  It was understandable: Kumiko loved the cat.  It had been with us since just after our wedding.  I threw my towel in the bathroom hamper and went to the kitchen for a cold beer.  What a stupid day it had been: a stupid day of a stupid month of a stupid year. \\n Noboru Wataya, where are you?  Did the wind-up bird forget to wind your spring? \\n The words came to me like lines of poetry. \\n \\n Noboru Wataya, \\n Where are you? \\n Did the wind-up bird \\n Forget to wind your spring? \\n \\n When I was halfway through my beer, the phone started to ring. \\n “Get it, will you?”  I shouted into the darkness of the living room. \\n “Not me,” she said.  “You get it.” \\n “I don’t want to.” \\n The phone kept on ringing, stirring up the dust that floated in the darkness.  Neither of us said a word.  I drank my beer, and Kumiko went on crying soundlessly.  I counted twenty rings and gave up.  There was no point in counting for ever. \\n '"
      ]
     },
     "execution_count": 6,
     "metadata": {},
     "output_type": "execute_result"
    }
   ],
   "source": [
    "wubc_ch1"
   ]
  },
  {
   "cell_type": "code",
   "execution_count": 8,
   "metadata": {},
   "outputs": [],
   "source": [
    "# generate list of indices of all full stops in the text\n",
    "fs_indices = [i for i, char in enumerate(wubc_ch1) if char == \".\"]\n",
    "\n",
    "# starting at 1000 loop through steps of 1000 until the length of the text\n",
    "n = 1000\n",
    "split_indices = []\n",
    "for j in range(1000, len(wubc_ch1), n):\n",
    "    i = 0\n",
    "#     keep going through the indices while less than the 1000 step\n",
    "    while fs_indices[i] < j:\n",
    "        i += 1\n",
    "# append list with the index of the full stop before the 1000 step\n",
    "    split_indices.append(fs_indices[i-1])"
   ]
  },
  {
   "cell_type": "code",
   "execution_count": 9,
   "metadata": {},
   "outputs": [],
   "source": [
    "# split the full text into chunks with full sentences of around 1000 char \n",
    "wubc_ch1_texts = []\n",
    "for i, idx in enumerate(split_indices):\n",
    "#     if first split start at index 0 and keep up to the full stop index (including the full stop)\n",
    "    if i == 0:\n",
    "        wubc_ch1_texts.append(wubc_ch1[0:idx+1])\n",
    "#         else start from the end of the previous chunk after the full stop until the next\n",
    "    else:\n",
    "        wubc_ch1_texts.append(wubc_ch1[split_indices[i-1]+3:idx+1])"
   ]
  },
  {
   "cell_type": "code",
   "execution_count": 42,
   "metadata": {},
   "outputs": [
    {
     "data": {
      "text/plain": [
       "'I divide the job into twelve distinct stages, beginning with the collar (outer surface) and ending with the left-hand cuff.  The order is invariable, and I count off each stage to myself.  Otherwise, it won’t come out right. \\n I ironed three shirts, checking them for wrinkles and putting them on hangers.  Once I had switched off the iron and put it away with the ironing board in the hall cupboard, my mind felt a good deal clearer. \\n I was on my way to the kitchen for a glass of water when the phone  rang  again.  I hesitated for a second, but decided to answer it.  If it was the same woman, I’d tell her I was ironing and hang up. \\n This time it was Kumiko.  The wall clock said 11.30.  “How are you?”  she asked. \\n “Fine,” I said, relieved to hear my wife’s voice. \\n “What are you doing?” \\n “Just finished ironing.” \\n “What’s wrong?”  There was a note of tension in her voice.  She knew what it meant for me to be ironing. \\n “Nothing.  I was just ironing some shirts.'"
      ]
     },
     "execution_count": 42,
     "metadata": {},
     "output_type": "execute_result"
    }
   ],
   "source": [
    "wubc_ch1_texts[3]"
   ]
  },
  {
   "cell_type": "code",
   "execution_count": 11,
   "metadata": {},
   "outputs": [],
   "source": [
    "lens = []\n",
    "for text in wubc_ch1_texts:\n",
    "    lens.append(len(text))"
   ]
  },
  {
   "cell_type": "code",
   "execution_count": 12,
   "metadata": {},
   "outputs": [
    {
     "data": {
      "text/plain": [
       "18"
      ]
     },
     "execution_count": 12,
     "metadata": {},
     "output_type": "execute_result"
    }
   ],
   "source": [
    "wubc_ch1_texts[3].count(\".\")"
   ]
  },
  {
   "cell_type": "code",
   "execution_count": 13,
   "metadata": {},
   "outputs": [],
   "source": [
    "en_nlp = textacy.load_spacy_lang('en_core_web_sm')"
   ]
  },
  {
   "cell_type": "code",
   "execution_count": 14,
   "metadata": {},
   "outputs": [],
   "source": [
    "text3_parsed = en_nlp(wubc_ch1_texts[3])"
   ]
  },
  {
   "cell_type": "code",
   "execution_count": 15,
   "metadata": {},
   "outputs": [
    {
     "data": {
      "text/plain": [
       "{'n_sents': 20,\n",
       " 'n_words': 184,\n",
       " 'n_chars': 725,\n",
       " 'n_syllables': 224,\n",
       " 'n_unique_words': 117,\n",
       " 'n_long_words': 24,\n",
       " 'n_monosyllable_words': 150,\n",
       " 'n_polysyllable_words': 5}"
      ]
     },
     "execution_count": 15,
     "metadata": {},
     "output_type": "execute_result"
    }
   ],
   "source": [
    "ts = textacy.TextStats(text3_parsed)\n",
    "ts.basic_counts"
   ]
  },
  {
   "cell_type": "code",
   "execution_count": 16,
   "metadata": {},
   "outputs": [],
   "source": [
    "in_path = '../../../Documents/murakami/pkl/'\n",
    "in_name = 'wubc_ch1_birnbaum_v01'\n",
    "in_full_path = in_path + in_name + '.pkl'"
   ]
  },
  {
   "cell_type": "code",
   "execution_count": 17,
   "metadata": {},
   "outputs": [],
   "source": [
    "# read back pickle\n",
    "with open (in_full_path, 'rb') as fp:\n",
    "    wubc_ch1_b = pickle.load(fp)"
   ]
  },
  {
   "cell_type": "code",
   "execution_count": 19,
   "metadata": {},
   "outputs": [],
   "source": [
    "# wubc_ch1_b"
   ]
  },
  {
   "cell_type": "code",
   "execution_count": 21,
   "metadata": {},
   "outputs": [],
   "source": [
    "# generate list of indices of all full stops in the text\n",
    "fs_indices = [i for i, char in enumerate(wubc_ch1_b) if char == \".\"]\n",
    "\n",
    "# starting at 1000 loop through steps of 1000 until the length of the text\n",
    "n = 1000\n",
    "split_indices = []\n",
    "for j in range(1000, len(wubc_ch1_b), n):\n",
    "    i = 0\n",
    "#     keep going through the indices while less than the 1000 step\n",
    "    while fs_indices[i] < j:\n",
    "        i += 1\n",
    "# append list with the index of the full stop before the 1000 step\n",
    "    split_indices.append(fs_indices[i-1])"
   ]
  },
  {
   "cell_type": "code",
   "execution_count": 27,
   "metadata": {},
   "outputs": [],
   "source": [
    "# split the full text into chunks with full sentences of around 1000 char \n",
    "wubc_ch1_b_texts = []\n",
    "for i, idx in enumerate(split_indices):\n",
    "#     if first split start at index 0 and keep up to the full stop index (including the full stop)\n",
    "    if i == 0:\n",
    "        wubc_ch1_b_texts.append(wubc_ch1_b[0:idx+1])\n",
    "#         else start from the end of the previous chunk after the full stop until the next\n",
    "    else:\n",
    "        wubc_ch1_b_texts.append(wubc_ch1_b[split_indices[i-1]+2:idx+1])"
   ]
  },
  {
   "cell_type": "code",
   "execution_count": 43,
   "metadata": {},
   "outputs": [
    {
     "data": {
      "text/plain": [
       "'A habit of long standing with me.\\nI divide the shirt-ironing process into twelve steps total: from (1) Collar <Front>, to (12) Cuff <Left Sleeve>. Absolutely no deviation from that order. One by one, I count off the steps. The ironing doesn’t go right if I don’t.\\nSo there I am, ironing my third shirt, enjoying the hiss of the steam iron and the distinctive smell of hot cotton, checking for wrinkles before hanging up each shirt in the wardrobe. I switch off the iron and put it away in the closet with the ironing board.\\nI’m getting thirsty by now and am heading to the kitchen for some water when once more the telephone rings. Here we go again, I think. And for a moment I wonder whether I shouldn’t just ignore it and keep on going into the kitchen. But you never know, so I retrace my steps back to the living room and pick up the receiver. If it’s that woman again, I’ll say I’m in the middle of ironing and hang up.\\nThe call, however, is from my wife. By the clock atop the TV, it’s eleven-thirty.'"
      ]
     },
     "execution_count": 43,
     "metadata": {},
     "output_type": "execute_result"
    }
   ],
   "source": [
    "wubc_ch1_b_texts[5]"
   ]
  },
  {
   "cell_type": "code",
   "execution_count": 44,
   "metadata": {},
   "outputs": [],
   "source": [
    "text5_parsed_b = en_nlp(wubc_ch1_b_texts[5])"
   ]
  },
  {
   "cell_type": "code",
   "execution_count": 45,
   "metadata": {},
   "outputs": [
    {
     "data": {
      "text/plain": [
       "{'n_sents': 16,\n",
       " 'n_words': 205,\n",
       " 'n_chars': 784,\n",
       " 'n_syllables': 251,\n",
       " 'n_unique_words': 123,\n",
       " 'n_long_words': 25,\n",
       " 'n_monosyllable_words': 167,\n",
       " 'n_polysyllable_words': 6}"
      ]
     },
     "execution_count": 45,
     "metadata": {},
     "output_type": "execute_result"
    }
   ],
   "source": [
    "ts_b = textacy.TextStats(text5_parsed_b)\n",
    "ts_b.basic_counts"
   ]
  },
  {
   "cell_type": "markdown",
   "metadata": {},
   "source": [
    "NOTE: need to normalize the values above based on a standard length of 1000 char eg if only 800 char then scale up by 1000/800 or if 1500 scale by 1000/1500"
   ]
  },
  {
   "cell_type": "code",
   "execution_count": null,
   "metadata": {},
   "outputs": [],
   "source": []
  }
 ],
 "metadata": {
  "kernelspec": {
   "display_name": "textacy",
   "language": "python",
   "name": "textacy"
  },
  "language_info": {
   "codemirror_mode": {
    "name": "ipython",
    "version": 3
   },
   "file_extension": ".py",
   "mimetype": "text/x-python",
   "name": "python",
   "nbconvert_exporter": "python",
   "pygments_lexer": "ipython3",
   "version": "3.8.2"
  }
 },
 "nbformat": 4,
 "nbformat_minor": 2
}
