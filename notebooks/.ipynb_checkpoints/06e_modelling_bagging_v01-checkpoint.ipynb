{
 "cells": [
  {
   "cell_type": "markdown",
   "metadata": {},
   "source": [
    "# <span style=\"color:red\"> Main Modelling - Bagging - Gridsearch </span>\n",
    "* read in pickle\n",
    "* keep 3 translators\n",
    "* final selected features based on initial analysis with logistic regression\n",
    "* drop 'A Wild Sheep Chase' due to unique text\n",
    "* run bagging grid search with dt and knn"
   ]
  },
  {
   "cell_type": "code",
   "execution_count": 1,
   "metadata": {
    "ExecuteTime": {
     "end_time": "2020-05-16T19:59:03.434238Z",
     "start_time": "2020-05-16T19:58:57.611037Z"
    }
   },
   "outputs": [
    {
     "name": "stderr",
     "output_type": "stream",
     "text": [
      "\n",
      "Bad key \"text.kerning_factor\" on line 4 in\n",
      "/Users/Steven/opt/anaconda3/envs/textacy/lib/python3.8/site-packages/matplotlib/mpl-data/stylelib/_classic_test_patch.mplstyle.\n",
      "You probably need to get an updated matplotlibrc file from\n",
      "https://github.com/matplotlib/matplotlib/blob/v3.1.3/matplotlibrc.template\n",
      "or from the matplotlib source distribution\n"
     ]
    }
   ],
   "source": [
    "import pandas as pd\n",
    "import numpy as np\n",
    "import matplotlib.pyplot as plt\n",
    "import seaborn as sns\n",
    "import textacy\n",
    "import re\n",
    "import pickle\n",
    "import os\n",
    "\n",
    "from collections import Counter\n",
    "\n",
    "from sklearn.model_selection import train_test_split, cross_val_score, GridSearchCV\n",
    "from sklearn.preprocessing import StandardScaler\n",
    "from sklearn.linear_model import LogisticRegression, LogisticRegressionCV\n",
    "from sklearn.metrics import confusion_matrix, classification_report, average_precision_score, roc_auc_score\n",
    "from sklearn.feature_extraction import DictVectorizer\n",
    "from sklearn.neighbors import KNeighborsClassifier\n",
    "from sklearn.tree import DecisionTreeClassifier\n",
    "from sklearn.ensemble import RandomForestClassifier\n",
    "from sklearn.ensemble import BaggingClassifier\n",
    "from sklearn.tree import DecisionTreeClassifier\n",
    "from sklearn.preprocessing import label_binarize\n",
    "\n",
    "from vaderSentiment.vaderSentiment import SentimentIntensityAnalyzer\n",
    "\n",
    "plt.style.use('ggplot')\n",
    "\n",
    "%config InlineBackend.figure_format = 'retina'\n",
    "%matplotlib inline\n",
    "\n",
    "# extend limit of number of rows and columns to display in cell\n",
    "pd.options.display.max_rows = 100\n",
    "pd.options.display.max_columns = 100"
   ]
  },
  {
   "cell_type": "markdown",
   "metadata": {},
   "source": [
    "### Load the dataframe containing text chunks and related variables"
   ]
  },
  {
   "cell_type": "code",
   "execution_count": 2,
   "metadata": {
    "ExecuteTime": {
     "end_time": "2020-05-16T19:59:29.536448Z",
     "start_time": "2020-05-16T19:59:03.436501Z"
    }
   },
   "outputs": [],
   "source": [
    "in_full_path = '../../../Documents/murakami/pkl3/df_all_v02.pkl'\n",
    "# read back pickle\n",
    "with open (in_full_path, 'rb') as fp:\n",
    "    df = pickle.load(fp)"
   ]
  },
  {
   "cell_type": "markdown",
   "metadata": {},
   "source": [
    "### Check the dataframe is as expected"
   ]
  },
  {
   "cell_type": "code",
   "execution_count": 3,
   "metadata": {
    "ExecuteTime": {
     "end_time": "2020-05-16T19:59:29.605472Z",
     "start_time": "2020-05-16T19:59:29.538966Z"
    }
   },
   "outputs": [
    {
     "data": {
      "text/html": [
       "<div>\n",
       "<style scoped>\n",
       "    .dataframe tbody tr th:only-of-type {\n",
       "        vertical-align: middle;\n",
       "    }\n",
       "\n",
       "    .dataframe tbody tr th {\n",
       "        vertical-align: top;\n",
       "    }\n",
       "\n",
       "    .dataframe thead th {\n",
       "        text-align: right;\n",
       "    }\n",
       "</style>\n",
       "<table border=\"1\" class=\"dataframe\">\n",
       "  <thead>\n",
       "    <tr style=\"text-align: right;\">\n",
       "      <th></th>\n",
       "      <th>book_chunk_no</th>\n",
       "      <th>number</th>\n",
       "      <th>title</th>\n",
       "      <th>text</th>\n",
       "      <th>fstop_indices</th>\n",
       "      <th>split_indices</th>\n",
       "      <th>chunks</th>\n",
       "      <th>translator</th>\n",
       "      <th>book_title</th>\n",
       "      <th>parsed</th>\n",
       "      <th>n_sents</th>\n",
       "      <th>n_words</th>\n",
       "      <th>n_chars</th>\n",
       "      <th>n_syllables</th>\n",
       "      <th>n_unique_words</th>\n",
       "      <th>n_long_words</th>\n",
       "      <th>n_monosyllable_words</th>\n",
       "      <th>n_polysyllable_words</th>\n",
       "      <th>trans_code</th>\n",
       "      <th>chunk_length</th>\n",
       "      <th>n_sents_norm</th>\n",
       "      <th>n_words_norm</th>\n",
       "      <th>n_chars_norm</th>\n",
       "      <th>n_syllables_norm</th>\n",
       "      <th>n_unique_words_norm</th>\n",
       "      <th>n_long_words_norm</th>\n",
       "      <th>n_monosyllable_words_norm</th>\n",
       "      <th>n_polysyllable_words_norm</th>\n",
       "      <th>vader_compound</th>\n",
       "      <th>vader_neg</th>\n",
       "      <th>vader_neu</th>\n",
       "      <th>vader_pos</th>\n",
       "      <th>pron_count</th>\n",
       "      <th>verb_count</th>\n",
       "      <th>det_count</th>\n",
       "      <th>adj_count</th>\n",
       "      <th>num_count</th>\n",
       "      <th>punct_count</th>\n",
       "      <th>noun_count</th>\n",
       "      <th>adp_count</th>\n",
       "      <th>cconj_count</th>\n",
       "      <th>sconj_count</th>\n",
       "      <th>adv_count</th>\n",
       "      <th>aux_count</th>\n",
       "      <th>part_count</th>\n",
       "      <th>propn_count</th>\n",
       "      <th>space_count</th>\n",
       "      <th>intj_count</th>\n",
       "      <th>sym_count</th>\n",
       "      <th>x_count</th>\n",
       "      <th>...</th>\n",
       "      <th>where_adv</th>\n",
       "      <th>too_adv</th>\n",
       "      <th>now_adv</th>\n",
       "      <th>all_adv</th>\n",
       "      <th>then_adv</th>\n",
       "      <th>just_adv</th>\n",
       "      <th>really_adv</th>\n",
       "      <th>there_adv</th>\n",
       "      <th>only_adv</th>\n",
       "      <th>even_adv</th>\n",
       "      <th>as_adv</th>\n",
       "      <th>always_adv</th>\n",
       "      <th>when_adv</th>\n",
       "      <th>again_adv</th>\n",
       "      <th>here_adv</th>\n",
       "      <th>maybe_adv</th>\n",
       "      <th>still_adv</th>\n",
       "      <th>back_adv</th>\n",
       "      <th>why_adv</th>\n",
       "      <th>very_adv</th>\n",
       "      <th>never_adv</th>\n",
       "      <th>how_adv</th>\n",
       "      <th>whole_adj</th>\n",
       "      <th>small_adj</th>\n",
       "      <th>long_adj</th>\n",
       "      <th>able_adj</th>\n",
       "      <th>more_adj</th>\n",
       "      <th>sure_adj</th>\n",
       "      <th>big_adj</th>\n",
       "      <th>last_adj</th>\n",
       "      <th>bad_adj</th>\n",
       "      <th>old_adj</th>\n",
       "      <th>same_adj</th>\n",
       "      <th>good_adj</th>\n",
       "      <th>new_adj</th>\n",
       "      <th>only_adj</th>\n",
       "      <th>different_adj</th>\n",
       "      <th>other_adj</th>\n",
       "      <th>next_adj</th>\n",
       "      <th>few_adj</th>\n",
       "      <th>much_adj</th>\n",
       "      <th>hard_adj</th>\n",
       "      <th>real_adj</th>\n",
       "      <th>young_adj</th>\n",
       "      <th>own_adj</th>\n",
       "      <th>first_adj</th>\n",
       "      <th>deep_adj</th>\n",
       "      <th>strange_adj</th>\n",
       "      <th>little_adj</th>\n",
       "      <th>right_adj</th>\n",
       "    </tr>\n",
       "  </thead>\n",
       "  <tbody>\n",
       "    <tr>\n",
       "      <th>0</th>\n",
       "      <td>0</td>\n",
       "      <td>1</td>\n",
       "      <td>Wednesday Afternoon Picnic</td>\n",
       "      <td>IT WAS A  short one-paragraph item in the morn...</td>\n",
       "      <td>[57, 97, 115, 196, 318, 385, 420, 445, 504, 65...</td>\n",
       "      <td>[967, 1924, 2998, 3982, 4935, 5975, 6995, 7961...</td>\n",
       "      <td>IT WAS A short one-paragraph item in the morni...</td>\n",
       "      <td>Alfred Birnbaum</td>\n",
       "      <td>A Wild Sheep Chase</td>\n",
       "      <td>(IT, WAS, A, short, one, -, paragraph, item, i...</td>\n",
       "      <td>15</td>\n",
       "      <td>174</td>\n",
       "      <td>742</td>\n",
       "      <td>240</td>\n",
       "      <td>116</td>\n",
       "      <td>33</td>\n",
       "      <td>128</td>\n",
       "      <td>17</td>\n",
       "      <td>0</td>\n",
       "      <td>944</td>\n",
       "      <td>15.889831</td>\n",
       "      <td>184.322034</td>\n",
       "      <td>786.016949</td>\n",
       "      <td>254.237288</td>\n",
       "      <td>122.881356</td>\n",
       "      <td>34.957627</td>\n",
       "      <td>135.59322</td>\n",
       "      <td>18.008475</td>\n",
       "      <td>-0.4798</td>\n",
       "      <td>0.075</td>\n",
       "      <td>0.862</td>\n",
       "      <td>0.064</td>\n",
       "      <td>18.0</td>\n",
       "      <td>20.0</td>\n",
       "      <td>31.0</td>\n",
       "      <td>9.0</td>\n",
       "      <td>2.0</td>\n",
       "      <td>33.0</td>\n",
       "      <td>51.0</td>\n",
       "      <td>19.0</td>\n",
       "      <td>6.0</td>\n",
       "      <td>3.0</td>\n",
       "      <td>5.0</td>\n",
       "      <td>5.0</td>\n",
       "      <td>3.0</td>\n",
       "      <td>2.0</td>\n",
       "      <td>0.0</td>\n",
       "      <td>0.0</td>\n",
       "      <td>0.0</td>\n",
       "      <td>0.0</td>\n",
       "      <td>...</td>\n",
       "      <td>1</td>\n",
       "      <td>0</td>\n",
       "      <td>0</td>\n",
       "      <td>0</td>\n",
       "      <td>0</td>\n",
       "      <td>0</td>\n",
       "      <td>0</td>\n",
       "      <td>0</td>\n",
       "      <td>0</td>\n",
       "      <td>1</td>\n",
       "      <td>0</td>\n",
       "      <td>0</td>\n",
       "      <td>0</td>\n",
       "      <td>0</td>\n",
       "      <td>0</td>\n",
       "      <td>0</td>\n",
       "      <td>0</td>\n",
       "      <td>0</td>\n",
       "      <td>0</td>\n",
       "      <td>0</td>\n",
       "      <td>0</td>\n",
       "      <td>0</td>\n",
       "      <td>1</td>\n",
       "      <td>0</td>\n",
       "      <td>0</td>\n",
       "      <td>0</td>\n",
       "      <td>0</td>\n",
       "      <td>0</td>\n",
       "      <td>0</td>\n",
       "      <td>0</td>\n",
       "      <td>0</td>\n",
       "      <td>1</td>\n",
       "      <td>0</td>\n",
       "      <td>0</td>\n",
       "      <td>0</td>\n",
       "      <td>0</td>\n",
       "      <td>0</td>\n",
       "      <td>0</td>\n",
       "      <td>0</td>\n",
       "      <td>0</td>\n",
       "      <td>0</td>\n",
       "      <td>0</td>\n",
       "      <td>0</td>\n",
       "      <td>0</td>\n",
       "      <td>0</td>\n",
       "      <td>0</td>\n",
       "      <td>0</td>\n",
       "      <td>0</td>\n",
       "      <td>0</td>\n",
       "      <td>0</td>\n",
       "    </tr>\n",
       "  </tbody>\n",
       "</table>\n",
       "<p>1 rows × 141 columns</p>\n",
       "</div>"
      ],
      "text/plain": [
       "   book_chunk_no number                       title  \\\n",
       "0              0      1  Wednesday Afternoon Picnic   \n",
       "\n",
       "                                                text  \\\n",
       "0  IT WAS A  short one-paragraph item in the morn...   \n",
       "\n",
       "                                       fstop_indices  \\\n",
       "0  [57, 97, 115, 196, 318, 385, 420, 445, 504, 65...   \n",
       "\n",
       "                                       split_indices  \\\n",
       "0  [967, 1924, 2998, 3982, 4935, 5975, 6995, 7961...   \n",
       "\n",
       "                                              chunks       translator  \\\n",
       "0  IT WAS A short one-paragraph item in the morni...  Alfred Birnbaum   \n",
       "\n",
       "           book_title                                             parsed  \\\n",
       "0  A Wild Sheep Chase  (IT, WAS, A, short, one, -, paragraph, item, i...   \n",
       "\n",
       "   n_sents  n_words  n_chars  n_syllables  n_unique_words  n_long_words  \\\n",
       "0       15      174      742          240             116            33   \n",
       "\n",
       "   n_monosyllable_words  n_polysyllable_words  trans_code  chunk_length  \\\n",
       "0                   128                    17           0           944   \n",
       "\n",
       "   n_sents_norm  n_words_norm  n_chars_norm  n_syllables_norm  \\\n",
       "0     15.889831    184.322034    786.016949        254.237288   \n",
       "\n",
       "   n_unique_words_norm  n_long_words_norm  n_monosyllable_words_norm  \\\n",
       "0           122.881356          34.957627                  135.59322   \n",
       "\n",
       "   n_polysyllable_words_norm  vader_compound  vader_neg  vader_neu  vader_pos  \\\n",
       "0                  18.008475         -0.4798      0.075      0.862      0.064   \n",
       "\n",
       "   pron_count  verb_count  det_count  adj_count  num_count  punct_count  \\\n",
       "0        18.0        20.0       31.0        9.0        2.0         33.0   \n",
       "\n",
       "   noun_count  adp_count  cconj_count  sconj_count  adv_count  aux_count  \\\n",
       "0        51.0       19.0          6.0          3.0        5.0        5.0   \n",
       "\n",
       "   part_count  propn_count  space_count  intj_count  sym_count  x_count  ...  \\\n",
       "0         3.0          2.0          0.0         0.0        0.0      0.0  ...   \n",
       "\n",
       "   where_adv  too_adv  now_adv  all_adv  then_adv  just_adv  really_adv  \\\n",
       "0          1        0        0        0         0         0           0   \n",
       "\n",
       "   there_adv  only_adv  even_adv  as_adv  always_adv  when_adv  again_adv  \\\n",
       "0          0         0         1       0           0         0          0   \n",
       "\n",
       "   here_adv  maybe_adv  still_adv  back_adv  why_adv  very_adv  never_adv  \\\n",
       "0         0          0          0         0        0         0          0   \n",
       "\n",
       "   how_adv  whole_adj  small_adj  long_adj  able_adj  more_adj  sure_adj  \\\n",
       "0        0          1          0         0         0         0         0   \n",
       "\n",
       "   big_adj  last_adj  bad_adj  old_adj  same_adj  good_adj  new_adj only_adj  \\\n",
       "0        0         0        0        1         0         0        0        0   \n",
       "\n",
       "  different_adj other_adj next_adj  few_adj  much_adj  hard_adj  real_adj  \\\n",
       "0             0         0        0        0         0         0         0   \n",
       "\n",
       "   young_adj  own_adj  first_adj  deep_adj  strange_adj  little_adj  right_adj  \n",
       "0          0        0          0         0            0           0          0  \n",
       "\n",
       "[1 rows x 141 columns]"
      ]
     },
     "execution_count": 3,
     "metadata": {},
     "output_type": "execute_result"
    }
   ],
   "source": [
    "df.head(1)"
   ]
  },
  {
   "cell_type": "code",
   "execution_count": 4,
   "metadata": {
    "ExecuteTime": {
     "end_time": "2020-05-16T19:59:29.620782Z",
     "start_time": "2020-05-16T19:59:29.608920Z"
    }
   },
   "outputs": [
    {
     "data": {
      "text/plain": [
       "(5253, 141)"
      ]
     },
     "execution_count": 4,
     "metadata": {},
     "output_type": "execute_result"
    }
   ],
   "source": [
    "df.shape"
   ]
  },
  {
   "cell_type": "code",
   "execution_count": 5,
   "metadata": {
    "ExecuteTime": {
     "end_time": "2020-05-16T19:59:29.629361Z",
     "start_time": "2020-05-16T19:59:29.624971Z"
    }
   },
   "outputs": [],
   "source": [
    "# df.columns"
   ]
  },
  {
   "cell_type": "markdown",
   "metadata": {},
   "source": [
    "### Drop 'A Wild Sheep Chase' "
   ]
  },
  {
   "cell_type": "code",
   "execution_count": 6,
   "metadata": {
    "ExecuteTime": {
     "end_time": "2020-05-16T19:59:29.675319Z",
     "start_time": "2020-05-16T19:59:29.633429Z"
    }
   },
   "outputs": [],
   "source": [
    "df = df[df['book_title'] != 'A Wild Sheep Chase']"
   ]
  },
  {
   "cell_type": "markdown",
   "metadata": {},
   "source": [
    "### Check the baseline"
   ]
  },
  {
   "cell_type": "code",
   "execution_count": 7,
   "metadata": {
    "ExecuteTime": {
     "end_time": "2020-05-16T19:59:29.696009Z",
     "start_time": "2020-05-16T19:59:29.681979Z"
    }
   },
   "outputs": [
    {
     "data": {
      "text/plain": [
       "0.4364282726892514"
      ]
     },
     "execution_count": 7,
     "metadata": {},
     "output_type": "execute_result"
    }
   ],
   "source": [
    "baseline_acc = df['trans_code'].value_counts(normalize=True).max()\n",
    "baseline_acc"
   ]
  },
  {
   "cell_type": "markdown",
   "metadata": {},
   "source": [
    "### Select Predictor Variables"
   ]
  },
  {
   "cell_type": "code",
   "execution_count": 8,
   "metadata": {
    "ExecuteTime": {
     "end_time": "2020-05-16T19:59:29.719257Z",
     "start_time": "2020-05-16T19:59:29.700603Z"
    }
   },
   "outputs": [],
   "source": [
    "def feature_select(basic_counts=True, vader=False, pos_counts=False, \n",
    "                   words=False, adv=False, adj=False):\n",
    "    '''create column list depending on features to include in the modelling'''\n",
    "    columns = []\n",
    "    if basic_counts:\n",
    "        columns += [i for i in df.columns if i.startswith('n_') & i.endswith('_norm')]\n",
    "    if vader:\n",
    "        columns += [i for i in df.columns if i.startswith('vader_')]\n",
    "    if pos_counts:\n",
    "        columns += [i for i in df.columns if i.endswith('_count_norm')]\n",
    "    if words:\n",
    "        columns += [i for i in df.columns if i.endswith('_w')]\n",
    "    if adj:\n",
    "        columns += [i for i in df.columns if i.endswith('_adj')]\n",
    "    if adv:\n",
    "        columns += [i for i in df.columns if i.endswith('_adv')]\n",
    "    return columns"
   ]
  },
  {
   "cell_type": "code",
   "execution_count": 9,
   "metadata": {
    "ExecuteTime": {
     "end_time": "2020-05-16T19:59:29.732628Z",
     "start_time": "2020-05-16T19:59:29.724142Z"
    }
   },
   "outputs": [],
   "source": [
    "cols_to_drop = ['num_count_norm', 'punct_count_norm','space_count_norm', 'sym_count_norm', 'x_count_norm']\n",
    "predictor_cols = feature_select(basic_counts=True, pos_counts=True, vader=False, words=True, adj=True, adv=True)\n",
    "predictor_cols = [x for x in predictor_cols if x not in cols_to_drop]"
   ]
  },
  {
   "cell_type": "markdown",
   "metadata": {},
   "source": [
    "### Set Target and Predictor variables"
   ]
  },
  {
   "cell_type": "code",
   "execution_count": 10,
   "metadata": {
    "ExecuteTime": {
     "end_time": "2020-05-16T19:59:29.757919Z",
     "start_time": "2020-05-16T19:59:29.742084Z"
    }
   },
   "outputs": [],
   "source": [
    "X = df[predictor_cols]\n",
    "y = df['trans_code']"
   ]
  },
  {
   "cell_type": "markdown",
   "metadata": {},
   "source": [
    "### Make Train Test Split with stratify on y"
   ]
  },
  {
   "cell_type": "code",
   "execution_count": 11,
   "metadata": {
    "ExecuteTime": {
     "end_time": "2020-05-16T19:59:29.792150Z",
     "start_time": "2020-05-16T19:59:29.768244Z"
    }
   },
   "outputs": [],
   "source": [
    "# stratify based on your target variable\n",
    "X_train, X_test, y_train, y_test = train_test_split(\n",
    "    X, y, test_size=0.2, stratify=y, random_state=1)"
   ]
  },
  {
   "cell_type": "markdown",
   "metadata": {},
   "source": [
    "### Standardise the predictor variables"
   ]
  },
  {
   "cell_type": "code",
   "execution_count": 12,
   "metadata": {
    "ExecuteTime": {
     "end_time": "2020-05-16T19:59:29.829944Z",
     "start_time": "2020-05-16T19:59:29.795891Z"
    }
   },
   "outputs": [],
   "source": [
    "scaler = StandardScaler()\n",
    "X_train = pd.DataFrame(scaler.fit_transform(X_train), columns=X.columns)\n",
    "X_test = pd.DataFrame(scaler.transform(X_test), columns=X.columns)"
   ]
  },
  {
   "cell_type": "markdown",
   "metadata": {},
   "source": [
    "### Bagging classification with cross validation"
   ]
  },
  {
   "cell_type": "code",
   "execution_count": 13,
   "metadata": {
    "ExecuteTime": {
     "end_time": "2020-05-16T19:59:29.839430Z",
     "start_time": "2020-05-16T19:59:29.832979Z"
    }
   },
   "outputs": [],
   "source": [
    "dt = DecisionTreeClassifier(max_depth=None)"
   ]
  },
  {
   "cell_type": "code",
   "execution_count": 14,
   "metadata": {
    "ExecuteTime": {
     "end_time": "2020-05-16T19:59:29.856729Z",
     "start_time": "2020-05-16T19:59:29.845315Z"
    }
   },
   "outputs": [],
   "source": [
    "bg_dt_01 = BaggingClassifier(base_estimator=dt, n_estimators=300)"
   ]
  },
  {
   "cell_type": "code",
   "execution_count": 15,
   "metadata": {
    "ExecuteTime": {
     "end_time": "2020-05-16T19:59:52.300612Z",
     "start_time": "2020-05-16T19:59:29.865827Z"
    }
   },
   "outputs": [
    {
     "data": {
      "text/plain": [
       "BaggingClassifier(base_estimator=DecisionTreeClassifier(ccp_alpha=0.0,\n",
       "                                                        class_weight=None,\n",
       "                                                        criterion='gini',\n",
       "                                                        max_depth=None,\n",
       "                                                        max_features=None,\n",
       "                                                        max_leaf_nodes=None,\n",
       "                                                        min_impurity_decrease=0.0,\n",
       "                                                        min_impurity_split=None,\n",
       "                                                        min_samples_leaf=1,\n",
       "                                                        min_samples_split=2,\n",
       "                                                        min_weight_fraction_leaf=0.0,\n",
       "                                                        presort='deprecated',\n",
       "                                                        random_state=None,\n",
       "                                                        splitter='best'),\n",
       "                  bootstrap=True, bootstrap_features=False, max_features=1.0,\n",
       "                  max_samples=1.0, n_estimators=300, n_jobs=None,\n",
       "                  oob_score=False, random_state=None, verbose=0,\n",
       "                  warm_start=False)"
      ]
     },
     "execution_count": 15,
     "metadata": {},
     "output_type": "execute_result"
    }
   ],
   "source": [
    "bg_dt_01.fit(X_train, y_train)"
   ]
  },
  {
   "cell_type": "code",
   "execution_count": 16,
   "metadata": {
    "ExecuteTime": {
     "end_time": "2020-05-16T20:02:35.861417Z",
     "start_time": "2020-05-16T20:01:09.042438Z"
    }
   },
   "outputs": [
    {
     "name": "stdout",
     "output_type": "stream",
     "text": [
      "train score: 1.0\n",
      "CV score: 0.6596078431372548\n",
      "test score: 0.6854754440961337\n"
     ]
    }
   ],
   "source": [
    "# check the score on the train data\n",
    "print('train score:', bg_dt_01.score(X_train, y_train))\n",
    "print('CV score:', cross_val_score(bg_dt_01, X_train, y_train, cv=5).mean())\n",
    "# check the score on the test data\n",
    "print('test score:', bg_dt_01.score(X_test, y_test))"
   ]
  },
  {
   "cell_type": "markdown",
   "metadata": {},
   "source": [
    "#### bg with dt does better than KNN, rf or  DT on its own for the moment. It is not as good as logistic regression though"
   ]
  },
  {
   "cell_type": "markdown",
   "metadata": {},
   "source": [
    "### Confusion Matrix"
   ]
  },
  {
   "cell_type": "code",
   "execution_count": 17,
   "metadata": {
    "ExecuteTime": {
     "end_time": "2020-05-16T20:03:48.385100Z",
     "start_time": "2020-05-16T20:03:48.217588Z"
    }
   },
   "outputs": [],
   "source": [
    "predictions = bg_dt_01.predict(X_test)"
   ]
  },
  {
   "cell_type": "code",
   "execution_count": 18,
   "metadata": {
    "ExecuteTime": {
     "end_time": "2020-05-16T20:03:48.800297Z",
     "start_time": "2020-05-16T20:03:48.784924Z"
    }
   },
   "outputs": [
    {
     "data": {
      "text/html": [
       "<div>\n",
       "<style scoped>\n",
       "    .dataframe tbody tr th:only-of-type {\n",
       "        vertical-align: middle;\n",
       "    }\n",
       "\n",
       "    .dataframe tbody tr th {\n",
       "        vertical-align: top;\n",
       "    }\n",
       "\n",
       "    .dataframe thead th {\n",
       "        text-align: right;\n",
       "    }\n",
       "</style>\n",
       "<table border=\"1\" class=\"dataframe\">\n",
       "  <thead>\n",
       "    <tr style=\"text-align: right;\">\n",
       "      <th></th>\n",
       "      <th>predicted birnbaum</th>\n",
       "      <th>predicted rubin</th>\n",
       "      <th>predicted gabriel</th>\n",
       "    </tr>\n",
       "  </thead>\n",
       "  <tbody>\n",
       "    <tr>\n",
       "      <th>actual birnbaum</th>\n",
       "      <td>126</td>\n",
       "      <td>70</td>\n",
       "      <td>62</td>\n",
       "    </tr>\n",
       "    <tr>\n",
       "      <th>actual rubin</th>\n",
       "      <td>36</td>\n",
       "      <td>342</td>\n",
       "      <td>40</td>\n",
       "    </tr>\n",
       "    <tr>\n",
       "      <th>actual gabriel</th>\n",
       "      <td>32</td>\n",
       "      <td>61</td>\n",
       "      <td>188</td>\n",
       "    </tr>\n",
       "  </tbody>\n",
       "</table>\n",
       "</div>"
      ],
      "text/plain": [
       "                 predicted birnbaum  predicted rubin  predicted gabriel\n",
       "actual birnbaum                 126               70                 62\n",
       "actual rubin                     36              342                 40\n",
       "actual gabriel                   32               61                188"
      ]
     },
     "execution_count": 18,
     "metadata": {},
     "output_type": "execute_result"
    }
   ],
   "source": [
    "conmat = confusion_matrix(\n",
    "    y_test, predictions, labels=[0, 1, 2])\n",
    "\n",
    "confusion = pd.DataFrame(conmat, index=['actual birnbaum', 'actual rubin', 'actual gabriel'],\n",
    "                         columns=['predicted birnbaum', 'predicted rubin', 'predicted gabriel'])\n",
    "confusion"
   ]
  },
  {
   "cell_type": "markdown",
   "metadata": {},
   "source": [
    "* Similar to lr but not quite as good "
   ]
  },
  {
   "cell_type": "markdown",
   "metadata": {},
   "source": [
    "### Classification Report"
   ]
  },
  {
   "cell_type": "code",
   "execution_count": 19,
   "metadata": {
    "ExecuteTime": {
     "end_time": "2020-05-16T20:03:51.597320Z",
     "start_time": "2020-05-16T20:03:51.579410Z"
    }
   },
   "outputs": [
    {
     "name": "stdout",
     "output_type": "stream",
     "text": [
      "              precision    recall  f1-score   support\n",
      "\n",
      "           0       0.65      0.49      0.56       258\n",
      "           1       0.72      0.82      0.77       418\n",
      "           2       0.65      0.67      0.66       281\n",
      "\n",
      "    accuracy                           0.69       957\n",
      "   macro avg       0.67      0.66      0.66       957\n",
      "weighted avg       0.68      0.69      0.68       957\n",
      "\n"
     ]
    }
   ],
   "source": [
    "print(classification_report(y_test, predictions))"
   ]
  },
  {
   "cell_type": "markdown",
   "metadata": {},
   "source": [
    "### Bagging with DT and gridsearch"
   ]
  },
  {
   "cell_type": "code",
   "execution_count": 20,
   "metadata": {
    "ExecuteTime": {
     "end_time": "2020-05-16T20:12:35.989401Z",
     "start_time": "2020-05-16T20:08:56.710850Z"
    }
   },
   "outputs": [
    {
     "name": "stdout",
     "output_type": "stream",
     "text": [
      "Fitting 5 folds for each of 12 candidates, totalling 60 fits\n"
     ]
    },
    {
     "name": "stderr",
     "output_type": "stream",
     "text": [
      "[Parallel(n_jobs=2)]: Using backend LokyBackend with 2 concurrent workers.\n",
      "[Parallel(n_jobs=2)]: Done  46 tasks      | elapsed:  2.2min\n",
      "[Parallel(n_jobs=2)]: Done  60 out of  60 | elapsed:  3.4min finished\n"
     ]
    },
    {
     "data": {
      "text/plain": [
       "GridSearchCV(cv=5, error_score=nan,\n",
       "             estimator=BaggingClassifier(base_estimator=DecisionTreeClassifier(ccp_alpha=0.0,\n",
       "                                                                               class_weight=None,\n",
       "                                                                               criterion='gini',\n",
       "                                                                               max_depth=None,\n",
       "                                                                               max_features=None,\n",
       "                                                                               max_leaf_nodes=None,\n",
       "                                                                               min_impurity_decrease=0.0,\n",
       "                                                                               min_impurity_split=None,\n",
       "                                                                               min_samples_leaf=1,\n",
       "                                                                               min_samples_split=2,\n",
       "                                                                               min_weight_fraction_leaf=0.0,\n",
       "                                                                               presort='deprecated',\n",
       "                                                                               random_st...\n",
       "                                         bootstrap=True,\n",
       "                                         bootstrap_features=False,\n",
       "                                         max_features=1.0, max_samples=1.0,\n",
       "                                         n_estimators=100, n_jobs=None,\n",
       "                                         oob_score=False, random_state=None,\n",
       "                                         verbose=0, warm_start=False),\n",
       "             iid='deprecated', n_jobs=2,\n",
       "             param_grid={'max_features': [0.5, 0.8], 'max_samples': [0.5, 0.8],\n",
       "                         'n_estimators': [100, 200, 300]},\n",
       "             pre_dispatch='2*n_jobs', refit=True, return_train_score=False,\n",
       "             scoring=None, verbose=1)"
      ]
     },
     "execution_count": 20,
     "metadata": {},
     "output_type": "execute_result"
    }
   ],
   "source": [
    "model = BaggingClassifier(base_estimator=dt, n_estimators=100)\n",
    "# params = {'max_samples': np.linspace(0.8, 1.0, 3),\n",
    "#           'max_features': range(int(3/4.*X.shape[1]), X.shape[1]+1)}\n",
    "params = {'n_estimators': [100, 200, 300],\n",
    "          'max_samples': [0.5, 0.8],\n",
    "          'max_features': [0.5, 0.8]}\n",
    "\n",
    "\n",
    "\n",
    "bg_dt_gs_01 = GridSearchCV(model, \n",
    "                           param_grid=params, \n",
    "                           cv=5, \n",
    "                           n_jobs=2,\n",
    "                           verbose=1)\n",
    "bg_dt_gs_01.fit(X_train, y_train)"
   ]
  },
  {
   "cell_type": "code",
   "execution_count": 21,
   "metadata": {
    "ExecuteTime": {
     "end_time": "2020-05-16T20:26:36.198274Z",
     "start_time": "2020-05-16T20:26:36.183420Z"
    }
   },
   "outputs": [],
   "source": [
    "def model_gridsearch_score(model, X_train, y_train, X_test, y_test):\n",
    "    \n",
    "    # print the grid search results\n",
    "    results_dict = {}\n",
    "    print('Best Parameters:')\n",
    "    print(model.best_params_)\n",
    "    print('Best estimator mean cross validated training score:')\n",
    "    print(model.best_score_)\n",
    "    print('Best estimator score on the full training set:')\n",
    "    print(model.score(X_train, y_train))\n",
    "    print('Best estimator score on the test set:')\n",
    "    print(model.score(X_test, y_test))\n",
    "    print('ROC-AUC score on the test set:')\n",
    "    \n",
    "    # store the grid search results as a dictionary\n",
    "    y_bin = label_binarize(y_test, model.classes_)\n",
    "    for i, class_ in enumerate(model.classes_):\n",
    "        print('Class {}:'.format(class_), round(roc_auc_score(y_bin[:,i],model.predict_proba(X_test)[:,i]),2))\n",
    "    results_dict['Best_Parameters'] = model.best_params_\n",
    "    results_dict['Best_CV_Score'] = model.best_score_\n",
    "    results_dict['Best_Train_Score'] = model.score(X_train, y_train)\n",
    "    results_dict['Best_Test_Score'] = model.score(X_test, y_test)\n",
    "    results_dict['AUC_Class_0'] = roc_auc_score(y_bin[:,0],model.predict_proba(X_test)[:,0])\n",
    "    results_dict['AUC_Class_1'] = roc_auc_score(y_bin[:,1],model.predict_proba(X_test)[:,1])\n",
    "    results_dict['AUC_Class_2'] = roc_auc_score(y_bin[:,2],model.predict_proba(X_test)[:,2])\n",
    "    predictions = model.predict(X_test)\n",
    "    results_dict['conmat'] = confusion_matrix(\n",
    "        y_test, predictions, labels=[0, 1, 2])\n",
    "\n",
    "    return results_dict"
   ]
  },
  {
   "cell_type": "code",
   "execution_count": 24,
   "metadata": {
    "ExecuteTime": {
     "end_time": "2020-05-16T20:27:00.664088Z",
     "start_time": "2020-05-16T20:26:58.606551Z"
    }
   },
   "outputs": [
    {
     "name": "stdout",
     "output_type": "stream",
     "text": [
      "Best Parameters:\n",
      "{'max_features': 0.8, 'max_samples': 0.5, 'n_estimators': 300}\n",
      "Best estimator mean cross validated training score:\n",
      "0.6687581699346404\n",
      "Best estimator score on the full training set:\n",
      "0.9947712418300654\n",
      "Best estimator score on the test set:\n",
      "0.670846394984326\n",
      "ROC-AUC score on the test set:\n",
      "Class 0: 0.8\n",
      "Class 1: 0.86\n",
      "Class 2: 0.85\n"
     ]
    }
   ],
   "source": [
    "bg_dt_gs_01_results = model_gridsearch_score(bg_dt_gs_01, X_train, y_train, X_test, y_test)"
   ]
  },
  {
   "cell_type": "markdown",
   "metadata": {},
   "source": [
    "### Save the model"
   ]
  },
  {
   "cell_type": "code",
   "execution_count": 25,
   "metadata": {
    "ExecuteTime": {
     "end_time": "2020-05-16T20:28:20.567507Z",
     "start_time": "2020-05-16T20:28:20.500489Z"
    }
   },
   "outputs": [],
   "source": [
    "# set the output path and name\n",
    "out_path = '../../../Documents/murakami/pkl_models/'\n",
    "out_name = 'bg_dt_gs_01_ns'\n",
    "out_full_path = out_path + out_name + '.pkl'\n",
    "\n",
    "# save pickle\n",
    "with open(out_full_path, 'wb') as fp:\n",
    "    pickle.dump(bg_dt_gs_01, fp)"
   ]
  },
  {
   "cell_type": "markdown",
   "metadata": {},
   "source": [
    "### Confusion Matrix"
   ]
  },
  {
   "cell_type": "code",
   "execution_count": 26,
   "metadata": {
    "ExecuteTime": {
     "end_time": "2020-05-16T20:30:45.254354Z",
     "start_time": "2020-05-16T20:30:45.119856Z"
    }
   },
   "outputs": [],
   "source": [
    "predictions = bg_dt_gs_01.predict(X_test)"
   ]
  },
  {
   "cell_type": "code",
   "execution_count": 27,
   "metadata": {
    "ExecuteTime": {
     "end_time": "2020-05-16T20:31:02.743592Z",
     "start_time": "2020-05-16T20:31:02.724726Z"
    }
   },
   "outputs": [
    {
     "data": {
      "text/html": [
       "<div>\n",
       "<style scoped>\n",
       "    .dataframe tbody tr th:only-of-type {\n",
       "        vertical-align: middle;\n",
       "    }\n",
       "\n",
       "    .dataframe tbody tr th {\n",
       "        vertical-align: top;\n",
       "    }\n",
       "\n",
       "    .dataframe thead th {\n",
       "        text-align: right;\n",
       "    }\n",
       "</style>\n",
       "<table border=\"1\" class=\"dataframe\">\n",
       "  <thead>\n",
       "    <tr style=\"text-align: right;\">\n",
       "      <th></th>\n",
       "      <th>predicted birnbaum</th>\n",
       "      <th>predicted rubin</th>\n",
       "      <th>predicted gabriel</th>\n",
       "    </tr>\n",
       "  </thead>\n",
       "  <tbody>\n",
       "    <tr>\n",
       "      <th>actual birnbaum</th>\n",
       "      <td>127</td>\n",
       "      <td>80</td>\n",
       "      <td>51</td>\n",
       "    </tr>\n",
       "    <tr>\n",
       "      <th>actual rubin</th>\n",
       "      <td>39</td>\n",
       "      <td>348</td>\n",
       "      <td>31</td>\n",
       "    </tr>\n",
       "    <tr>\n",
       "      <th>actual gabriel</th>\n",
       "      <td>32</td>\n",
       "      <td>82</td>\n",
       "      <td>167</td>\n",
       "    </tr>\n",
       "  </tbody>\n",
       "</table>\n",
       "</div>"
      ],
      "text/plain": [
       "                 predicted birnbaum  predicted rubin  predicted gabriel\n",
       "actual birnbaum                 127               80                 51\n",
       "actual rubin                     39              348                 31\n",
       "actual gabriel                   32               82                167"
      ]
     },
     "execution_count": 27,
     "metadata": {},
     "output_type": "execute_result"
    }
   ],
   "source": [
    "conmat = confusion_matrix(\n",
    "    y_test, predictions, labels=[0, 1, 2])\n",
    "\n",
    "confusion = pd.DataFrame(conmat, index=['actual birnbaum', 'actual rubin', 'actual gabriel'],\n",
    "                         columns=['predicted birnbaum', 'predicted rubin', 'predicted gabriel'])\n",
    "confusion"
   ]
  },
  {
   "cell_type": "markdown",
   "metadata": {},
   "source": [
    "Very slight improvement for bagging with dt and with gridsearch not not significant "
   ]
  },
  {
   "cell_type": "markdown",
   "metadata": {},
   "source": [
    "### Bagging with KNN"
   ]
  },
  {
   "cell_type": "code",
   "execution_count": 28,
   "metadata": {
    "ExecuteTime": {
     "end_time": "2020-05-16T20:48:41.741733Z",
     "start_time": "2020-05-16T20:32:37.295682Z"
    }
   },
   "outputs": [
    {
     "name": "stdout",
     "output_type": "stream",
     "text": [
      "Fitting 5 folds for each of 12 candidates, totalling 60 fits\n"
     ]
    },
    {
     "name": "stderr",
     "output_type": "stream",
     "text": [
      "[Parallel(n_jobs=2)]: Using backend LokyBackend with 2 concurrent workers.\n",
      "[Parallel(n_jobs=2)]: Done  46 tasks      | elapsed:  9.9min\n",
      "[Parallel(n_jobs=2)]: Done  60 out of  60 | elapsed: 16.0min finished\n"
     ]
    },
    {
     "data": {
      "text/plain": [
       "GridSearchCV(cv=5, error_score=nan,\n",
       "             estimator=BaggingClassifier(base_estimator=KNeighborsClassifier(algorithm='auto',\n",
       "                                                                             leaf_size=30,\n",
       "                                                                             metric='minkowski',\n",
       "                                                                             metric_params=None,\n",
       "                                                                             n_jobs=None,\n",
       "                                                                             n_neighbors=5,\n",
       "                                                                             p=2,\n",
       "                                                                             weights='uniform'),\n",
       "                                         bootstrap=True,\n",
       "                                         bootstrap_features=False,\n",
       "                                         max_features=1.0, max_samples=1.0,\n",
       "                                         n_estimators=10, n_jobs=None,\n",
       "                                         oob_score=False, random_state=None,\n",
       "                                         verbose=0, warm_start=False),\n",
       "             iid='deprecated', n_jobs=2,\n",
       "             param_grid={'max_features': [0.5, 0.8], 'max_samples': [0.5, 0.8],\n",
       "                         'n_estimators': [100, 200, 300]},\n",
       "             pre_dispatch='2*n_jobs', refit=True, return_train_score=False,\n",
       "             scoring=None, verbose=1)"
      ]
     },
     "execution_count": 28,
     "metadata": {},
     "output_type": "execute_result"
    }
   ],
   "source": [
    "knn = KNeighborsClassifier()\n",
    "model = BaggingClassifier(base_estimator=knn)\n",
    "params = {'n_estimators': [100, 200, 300],\n",
    "          'max_samples': [0.5, 0.8],\n",
    "          'max_features': [0.5, 0.8]}\n",
    "\n",
    "\n",
    "\n",
    "bg_knn_gs_01 = GridSearchCV(model, \n",
    "                            param_grid=params, \n",
    "                            cv=5, \n",
    "                            n_jobs=2,\n",
    "                            verbose=1)\n",
    "bg_knn_gs_01.fit(X_train, y_train)"
   ]
  },
  {
   "cell_type": "code",
   "execution_count": 30,
   "metadata": {
    "ExecuteTime": {
     "end_time": "2020-05-16T21:06:15.499389Z",
     "start_time": "2020-05-16T20:56:34.478416Z"
    }
   },
   "outputs": [
    {
     "name": "stdout",
     "output_type": "stream",
     "text": [
      "Best Parameters:\n",
      "{'max_features': 0.5, 'max_samples': 0.8, 'n_estimators': 200}\n",
      "Best estimator mean cross validated training score:\n",
      "0.5790849673202614\n",
      "Best estimator score on the full training set:\n",
      "0.8682352941176471\n",
      "Best estimator score on the test set:\n",
      "0.5768025078369906\n",
      "ROC-AUC score on the test set:\n",
      "Class 0: 0.76\n",
      "Class 1: 0.8\n",
      "Class 2: 0.81\n"
     ]
    }
   ],
   "source": [
    "bg_knn_gs_01_results = model_gridsearch_score(bg_knn_gs_01, X_train, y_train, X_test, y_test)"
   ]
  },
  {
   "cell_type": "markdown",
   "metadata": {},
   "source": [
    "### Save the model"
   ]
  },
  {
   "cell_type": "code",
   "execution_count": 32,
   "metadata": {
    "ExecuteTime": {
     "end_time": "2020-05-16T21:11:37.481726Z",
     "start_time": "2020-05-16T21:11:36.531311Z"
    }
   },
   "outputs": [],
   "source": [
    "# set the output path and name\n",
    "out_path = '../../../Documents/murakami/pkl_models/'\n",
    "out_name = 'bg_knn_gs_01_ns'\n",
    "out_full_path = out_path + out_name + '.pkl'\n",
    "\n",
    "# save pickle\n",
    "with open(out_full_path, 'wb') as fp:\n",
    "    pickle.dump(bg_knn_gs_01, fp)"
   ]
  },
  {
   "cell_type": "markdown",
   "metadata": {},
   "source": [
    "### Confusion Matrix"
   ]
  },
  {
   "cell_type": "code",
   "execution_count": 33,
   "metadata": {
    "ExecuteTime": {
     "end_time": "2020-05-16T21:12:12.032821Z",
     "start_time": "2020-05-16T21:11:39.746890Z"
    }
   },
   "outputs": [],
   "source": [
    "predictions = bg_knn_gs_01.predict(X_test)"
   ]
  },
  {
   "cell_type": "code",
   "execution_count": 34,
   "metadata": {
    "ExecuteTime": {
     "end_time": "2020-05-16T21:12:15.711469Z",
     "start_time": "2020-05-16T21:12:15.698879Z"
    }
   },
   "outputs": [
    {
     "data": {
      "text/html": [
       "<div>\n",
       "<style scoped>\n",
       "    .dataframe tbody tr th:only-of-type {\n",
       "        vertical-align: middle;\n",
       "    }\n",
       "\n",
       "    .dataframe tbody tr th {\n",
       "        vertical-align: top;\n",
       "    }\n",
       "\n",
       "    .dataframe thead th {\n",
       "        text-align: right;\n",
       "    }\n",
       "</style>\n",
       "<table border=\"1\" class=\"dataframe\">\n",
       "  <thead>\n",
       "    <tr style=\"text-align: right;\">\n",
       "      <th></th>\n",
       "      <th>predicted birnbaum</th>\n",
       "      <th>predicted rubin</th>\n",
       "      <th>predicted gabriel</th>\n",
       "    </tr>\n",
       "  </thead>\n",
       "  <tbody>\n",
       "    <tr>\n",
       "      <th>actual birnbaum</th>\n",
       "      <td>92</td>\n",
       "      <td>134</td>\n",
       "      <td>32</td>\n",
       "    </tr>\n",
       "    <tr>\n",
       "      <th>actual rubin</th>\n",
       "      <td>37</td>\n",
       "      <td>359</td>\n",
       "      <td>22</td>\n",
       "    </tr>\n",
       "    <tr>\n",
       "      <th>actual gabriel</th>\n",
       "      <td>39</td>\n",
       "      <td>141</td>\n",
       "      <td>101</td>\n",
       "    </tr>\n",
       "  </tbody>\n",
       "</table>\n",
       "</div>"
      ],
      "text/plain": [
       "                 predicted birnbaum  predicted rubin  predicted gabriel\n",
       "actual birnbaum                  92              134                 32\n",
       "actual rubin                     37              359                 22\n",
       "actual gabriel                   39              141                101"
      ]
     },
     "execution_count": 34,
     "metadata": {},
     "output_type": "execute_result"
    }
   ],
   "source": [
    "conmat = confusion_matrix(\n",
    "    y_test, predictions, labels=[0, 1, 2])\n",
    "\n",
    "confusion = pd.DataFrame(conmat, index=['actual birnbaum', 'actual rubin', 'actual gabriel'],\n",
    "                         columns=['predicted birnbaum', 'predicted rubin', 'predicted gabriel'])\n",
    "confusion"
   ]
  },
  {
   "cell_type": "markdown",
   "metadata": {},
   "source": [
    "### Classification Report"
   ]
  },
  {
   "cell_type": "code",
   "execution_count": null,
   "metadata": {
    "ExecuteTime": {
     "end_time": "2020-05-16T20:56:28.649495Z",
     "start_time": "2020-05-16T20:52:54.964Z"
    }
   },
   "outputs": [],
   "source": [
    "print(classification_report(y_test, predictions))"
   ]
  },
  {
   "cell_type": "code",
   "execution_count": null,
   "metadata": {},
   "outputs": [],
   "source": []
  }
 ],
 "metadata": {
  "kernelspec": {
   "display_name": "textacy",
   "language": "python",
   "name": "textacy"
  },
  "language_info": {
   "codemirror_mode": {
    "name": "ipython",
    "version": 3
   },
   "file_extension": ".py",
   "mimetype": "text/x-python",
   "name": "python",
   "nbconvert_exporter": "python",
   "pygments_lexer": "ipython3",
   "version": "3.8.2"
  }
 },
 "nbformat": 4,
 "nbformat_minor": 2
}
