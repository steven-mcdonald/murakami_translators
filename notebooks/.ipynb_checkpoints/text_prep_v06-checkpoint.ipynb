{
 "cells": [
  {
   "cell_type": "markdown",
   "metadata": {},
   "source": [
    "NW Birnbaum - initial data prep\n",
    "* read in pickle\n",
    "* split into chapters\n",
    "* run several functions to chunk the text\n",
    "* all in dataframes this time compared to lists in tex_prep_v02"
   ]
  },
  {
   "cell_type": "code",
   "execution_count": 41,
   "metadata": {},
   "outputs": [],
   "source": [
    "import pandas as pd\n",
    "import numpy as np\n",
    "import matplotlib.pyplot as plt\n",
    "import seaborn as sns\n",
    "sns.set(font_scale=1.5)\n",
    "\n",
    "%config InlineBackend.figure_format = 'retina'\n",
    "%matplotlib inline\n",
    "\n",
    "import textacy\n",
    "import re\n",
    "\n",
    "from sklearn.model_selection import train_test_split, cross_val_score\n",
    "from sklearn.preprocessing import StandardScaler\n",
    "from sklearn.linear_model import LogisticRegression\n",
    "from sklearn.metrics import confusion_matrix\n",
    "from vaderSentiment.vaderSentiment import SentimentIntensityAnalyzer"
   ]
  },
  {
   "cell_type": "code",
   "execution_count": 42,
   "metadata": {},
   "outputs": [],
   "source": [
    "import pickle"
   ]
  },
  {
   "cell_type": "code",
   "execution_count": 43,
   "metadata": {},
   "outputs": [],
   "source": [
    "book_dict = {'The Elephant Vanishes': 'ev_birnbaum_rubin_v01', \n",
    "             'Norwegian Wood 1': 'nw_birnbaum_v01', \n",
    "             'Norwegian Wood 2': 'nw_rubin_v01',\n",
    "             'Wild Sheep Chase': 'wsc_birnbaum_v01', \n",
    "             'Wind Up Bird Chronicle': 'wubc_all_rubin_v01', \n",
    "             'Sputnik Sweetheart': 'ss_gabriel_v01',\n",
    "             'Kafka on the Shore': 'kots_gabriel_v01'}"
   ]
  },
  {
   "cell_type": "code",
   "execution_count": 44,
   "metadata": {},
   "outputs": [
    {
     "data": {
      "text/html": [
       "<div>\n",
       "<style scoped>\n",
       "    .dataframe tbody tr th:only-of-type {\n",
       "        vertical-align: middle;\n",
       "    }\n",
       "\n",
       "    .dataframe tbody tr th {\n",
       "        vertical-align: top;\n",
       "    }\n",
       "\n",
       "    .dataframe thead th {\n",
       "        text-align: right;\n",
       "    }\n",
       "</style>\n",
       "<table border=\"1\" class=\"dataframe\">\n",
       "  <thead>\n",
       "    <tr style=\"text-align: right;\">\n",
       "      <th></th>\n",
       "      <th>Title</th>\n",
       "      <th>Pickle</th>\n",
       "    </tr>\n",
       "  </thead>\n",
       "  <tbody>\n",
       "    <tr>\n",
       "      <th>0</th>\n",
       "      <td>The Elephant Vanishes</td>\n",
       "      <td>ev_birnbaum_rubin_v01</td>\n",
       "    </tr>\n",
       "    <tr>\n",
       "      <th>1</th>\n",
       "      <td>Norwegian Wood 1</td>\n",
       "      <td>nw_birnbaum_v01</td>\n",
       "    </tr>\n",
       "    <tr>\n",
       "      <th>2</th>\n",
       "      <td>Norwegian Wood 2</td>\n",
       "      <td>nw_rubin_v01</td>\n",
       "    </tr>\n",
       "    <tr>\n",
       "      <th>3</th>\n",
       "      <td>Wild Sheep Chase</td>\n",
       "      <td>wsc_birnbaum_v01</td>\n",
       "    </tr>\n",
       "    <tr>\n",
       "      <th>4</th>\n",
       "      <td>Wind Up Bird Chronicle</td>\n",
       "      <td>wubc_all_rubin_v01</td>\n",
       "    </tr>\n",
       "    <tr>\n",
       "      <th>5</th>\n",
       "      <td>Sputnik Sweetheart</td>\n",
       "      <td>ss_gabriel_v01</td>\n",
       "    </tr>\n",
       "    <tr>\n",
       "      <th>6</th>\n",
       "      <td>Kafka on the Shore</td>\n",
       "      <td>kots_gabriel_v01</td>\n",
       "    </tr>\n",
       "  </tbody>\n",
       "</table>\n",
       "</div>"
      ],
      "text/plain": [
       "                    Title                 Pickle\n",
       "0   The Elephant Vanishes  ev_birnbaum_rubin_v01\n",
       "1        Norwegian Wood 1        nw_birnbaum_v01\n",
       "2        Norwegian Wood 2           nw_rubin_v01\n",
       "3        Wild Sheep Chase       wsc_birnbaum_v01\n",
       "4  Wind Up Bird Chronicle     wubc_all_rubin_v01\n",
       "5      Sputnik Sweetheart         ss_gabriel_v01\n",
       "6      Kafka on the Shore       kots_gabriel_v01"
      ]
     },
     "execution_count": 44,
     "metadata": {},
     "output_type": "execute_result"
    }
   ],
   "source": [
    "books = pd.DataFrame.from_dict(book_dict, orient='index').reset_index()\n",
    "books.columns = ['Title', 'Pickle']\n",
    "books"
   ]
  },
  {
   "cell_type": "code",
   "execution_count": 45,
   "metadata": {},
   "outputs": [],
   "source": [
    "def load_pickle(filename):\n",
    "    in_path = '../../../../Documents/murakami/pkl/' + filename + '.pkl'\n",
    "    with open (in_path, 'rb') as fp:\n",
    "        return pickle.load(fp)"
   ]
  },
  {
   "cell_type": "code",
   "execution_count": 46,
   "metadata": {},
   "outputs": [],
   "source": [
    "books['full_text'] = books['Pickle'].apply(load_pickle)"
   ]
  },
  {
   "cell_type": "code",
   "execution_count": 47,
   "metadata": {},
   "outputs": [
    {
     "data": {
      "text/html": [
       "<div>\n",
       "<style scoped>\n",
       "    .dataframe tbody tr th:only-of-type {\n",
       "        vertical-align: middle;\n",
       "    }\n",
       "\n",
       "    .dataframe tbody tr th {\n",
       "        vertical-align: top;\n",
       "    }\n",
       "\n",
       "    .dataframe thead th {\n",
       "        text-align: right;\n",
       "    }\n",
       "</style>\n",
       "<table border=\"1\" class=\"dataframe\">\n",
       "  <thead>\n",
       "    <tr style=\"text-align: right;\">\n",
       "      <th></th>\n",
       "      <th>Title</th>\n",
       "      <th>Pickle</th>\n",
       "      <th>full_text</th>\n",
       "    </tr>\n",
       "  </thead>\n",
       "  <tbody>\n",
       "    <tr>\n",
       "      <th>0</th>\n",
       "      <td>The Elephant Vanishes</td>\n",
       "      <td>ev_birnbaum_rubin_v01</td>\n",
       "      <td>I’M IN THE kitchen cooking spaghetti when the ...</td>\n",
       "    </tr>\n",
       "    <tr>\n",
       "      <th>1</th>\n",
       "      <td>Norwegian Wood 1</td>\n",
       "      <td>nw_birnbaum_v01</td>\n",
       "      <td>C H II P T E R 6 (rontinutd) The scene at dinn...</td>\n",
       "    </tr>\n",
       "    <tr>\n",
       "      <th>2</th>\n",
       "      <td>Norwegian Wood 2</td>\n",
       "      <td>nw_rubin_v01</td>\n",
       "      <td>[Haruki Murakami Norwegian Wood This book was ...</td>\n",
       "    </tr>\n",
       "    <tr>\n",
       "      <th>3</th>\n",
       "      <td>Wild Sheep Chase</td>\n",
       "      <td>wsc_birnbaum_v01</td>\n",
       "      <td>[\\n , \\n \\n \\n , Contents \\n Cover \\n About th...</td>\n",
       "    </tr>\n",
       "    <tr>\n",
       "      <th>4</th>\n",
       "      <td>Wind Up Bird Chronicle</td>\n",
       "      <td>wubc_all_rubin_v01</td>\n",
       "      <td>[1 \\n Tuesday’s Wind-up Bird \\n ♦ \\n Six Finge...</td>\n",
       "    </tr>\n",
       "    <tr>\n",
       "      <th>5</th>\n",
       "      <td>Sputnik Sweetheart</td>\n",
       "      <td>ss_gabriel_v01</td>\n",
       "      <td>[Haruki Murakami None This book was produced i...</td>\n",
       "    </tr>\n",
       "    <tr>\n",
       "      <th>6</th>\n",
       "      <td>Kafka on the Shore</td>\n",
       "      <td>kots_gabriel_v01</td>\n",
       "      <td>[Kafka on the Shore \\n Haruki Murakami \\n \\n \\...</td>\n",
       "    </tr>\n",
       "  </tbody>\n",
       "</table>\n",
       "</div>"
      ],
      "text/plain": [
       "                    Title                 Pickle  \\\n",
       "0   The Elephant Vanishes  ev_birnbaum_rubin_v01   \n",
       "1        Norwegian Wood 1        nw_birnbaum_v01   \n",
       "2        Norwegian Wood 2           nw_rubin_v01   \n",
       "3        Wild Sheep Chase       wsc_birnbaum_v01   \n",
       "4  Wind Up Bird Chronicle     wubc_all_rubin_v01   \n",
       "5      Sputnik Sweetheart         ss_gabriel_v01   \n",
       "6      Kafka on the Shore       kots_gabriel_v01   \n",
       "\n",
       "                                           full_text  \n",
       "0  I’M IN THE kitchen cooking spaghetti when the ...  \n",
       "1  C H II P T E R 6 (rontinutd) The scene at dinn...  \n",
       "2  [Haruki Murakami Norwegian Wood This book was ...  \n",
       "3  [\\n , \\n \\n \\n , Contents \\n Cover \\n About th...  \n",
       "4  [1 \\n Tuesday’s Wind-up Bird \\n ♦ \\n Six Finge...  \n",
       "5  [Haruki Murakami None This book was produced i...  \n",
       "6  [Kafka on the Shore \\n Haruki Murakami \\n \\n \\...  "
      ]
     },
     "execution_count": 47,
     "metadata": {},
     "output_type": "execute_result"
    }
   ],
   "source": [
    "books"
   ]
  },
  {
   "cell_type": "code",
   "execution_count": 48,
   "metadata": {},
   "outputs": [],
   "source": [
    "# books.iloc[0,2]"
   ]
  },
  {
   "cell_type": "code",
   "execution_count": 49,
   "metadata": {},
   "outputs": [],
   "source": [
    "nw_b = books['full_text'].iloc[1]"
   ]
  },
  {
   "cell_type": "code",
   "execution_count": 50,
   "metadata": {},
   "outputs": [
    {
     "data": {
      "text/plain": [
       "298558"
      ]
     },
     "execution_count": 50,
     "metadata": {},
     "output_type": "execute_result"
    }
   ],
   "source": [
    "# nwb is read from a pdf and is a long string\n",
    "len(nw_b)"
   ]
  },
  {
   "cell_type": "code",
   "execution_count": 70,
   "metadata": {},
   "outputs": [],
   "source": [
    "chaps = nw_b.split('CHAPTER ')"
   ]
  },
  {
   "cell_type": "code",
   "execution_count": 72,
   "metadata": {},
   "outputs": [
    {
     "data": {
      "text/plain": [
       "6"
      ]
     },
     "execution_count": 72,
     "metadata": {},
     "output_type": "execute_result"
    }
   ],
   "source": [
    "len(chaps)"
   ]
  },
  {
   "cell_type": "code",
   "execution_count": 73,
   "metadata": {},
   "outputs": [
    {
     "data": {
      "text/plain": [
       "'10 1969 was one hopeless swamp of a year. I felt sure my feet were going to pull right out of my shoes with the least step, so deep was I into the sticky thick of it. But there I was, treading my darnedest through the mire. I couldn\\'t see a thing before me or behind. Only that dark slime as far as the eye could see. Even time slowed to spurts, glued to my pace, step by step. Other people went on ahead at a nor\\xadmal clip, leaving me to my pathetic crawl through the mud. The world around me changed dramatical\\xadly. John Coltrane and who knows who else died. People were calling for reforms, and it seemed cer\\xadtain that reforms were going to come sweeping through. But ultimately it all turned out to be mean\\xadingless background to what was really going on. I hardly looked up from one day to the next. Before my eyes all was sludge and mire without end. I\\'d put my right foot down, pick up my left, put down my left, and up with my right. I had no real idea 160 where I was, no confidence I was even heading in the right direction. All I knew was I had to go on, one step at a time. I turned twenty and autumn turned to winter, but there was no appreciable change in my life. I at\\xadtended university, went to my part-time job three times a week, reread Gatsby from time to time, and on Sundays I did the laundry and wrote long letters to Naoko. Occasionally I\\'d see Midori and we\\'d eat out or go to the zoo or take in a movie. Prospects for selling off the Kobayashi Book Shop were look\\xading good, so she and her sister moved into a two-bedroom apartment near Myogadani Station, though as soon as her sister got married Midori said she\\'d find another place of her own. She once had me over for lunch. The rooms were nice and sunlit, much more comfortable than above the Kobayashi Book Shop. Nagasawa invited me to go out with him several times, but I always turned him down, saying I had things to do. I simply couldn\\'t be bothered. Not that I didn\\'t want to sleep with girls, mind you. It was just that the thought of going out on the town, drinking, targeting some girl, and striking up a con\\xadversation only to do the hotel scene, that whole pro\\xadcess depressed me. I had to hand it to a guy like Nagasawa being able to carry on that way so tireless\\xadly. Perhaps it was due to what Hatsumi had said, 161 but I was much happier thinking about Naoko than sleeping around with girls whose names I didn\\'t even know. The thought of Naoko\\'s fingers getting me off in the middle of the fields, that touch came to mind more vividly than anything. At the beginning of December I wrote Naoko to ask if I might visit her over my winter break. And Reiko replied, saying they\\'d love to have me come. She was writing for Naoko who wasn\\'t up to writing at the moment. Not that I should worry that she was ill. It was just one of those cycles. Winter break rolled around and I packed my knapsack, donned my snow boots, and headed for Kyoto. As that crazy doctor had said, the moun\\xadtains were truly impressive covered in snow. Just like before, I stayed at Naoko and Reiko\\'s place. And just like before, I was there for three days. Every night, when the sun went down, Reiko would play the guitar and the three of us would talk. In the daytime, instead of picnics we\\'d go cross-country skiing. One hour in boots and skiis and I\\'d be sweating and out of breath. In spare moments I\\'d help shovel snow. Miyata, that weird doctor, once more joined our table to tell us, \"why the middle digit is longer than the first on the hand but shorter . on the foot.\" And Omura the gatekeeper raved on about Tokyo pork again. Reiko was delighted with the records I brought her 162 and had soon scored a few songs for the guitar. Naoko, however, seemed more reserved than when I\\'d visited in the autumn. When the three of us were together, she\\'d hardly say a word and just sit there on the sofa, smiling. Reiko, meanwhile, took up the slack and talked for both of them. \"Don\\'t mind me,\" Naoko would say. \"It\\'s just a phase. I\\'d rather listen to you.\" As so�n as Reiko concocted some reason to disap\\xadpear somewhere, Naoko and I bedded down together. I kissed her neck and shoulders and breasts, and she did me by hand, same as before. When I came, I embraced her and told her how mucl1 I\\'d remembered her touch these past two months. That I\\'d fantasized about her from memory when I masturbated. \"You didn\\'t sleep with anyone else?\" Naoko asked. \"Not once,\" I said. \"Well, then, remember this, too,\" she said as she slid down to kiss my penis, envelop its heat in her lips, and slide her tongue along its length. Naoko\\'s long, straight hair spilled over my abdomen and swayed to her mouthed rhythms. And I came again. \"Think you can remember that?\" teased Naoko. \"I believe that\\'ll do me for a while,\" I said. I drew Naoko close to me and reached my fingers inside 163 her panties, but she wasn\\'t a bit moist. Naoko shook her head and I removed my hand. We em\\xadbraced for a while without saying anything. \"After this school year I\\'m thinking of leaving the dorm and finding a place of my own,\" I said. \"Dorm life is starting to get to me, and, besides, I can make ends meet with my part-time job. Who knows? Maybe we could live together? Like we talked about before.\" \"I can\\'t tell you how happy that makes me,\" said Naoko. \"Not that it\\'s such a bad little place here. It\\'s peaceful enough. No complaints about the surround\\xadings, either. And Reiko\\'s so wonderful. But it\\'s no place to stay for too long. It\\'s a little too special a place for that. After a while you\\'d never want to leave.\" Naoko said nothing but simply turned her eyes toward the window and the scenery outside. Snow clouds swept in low across the snow-covered ground, leaving only the narrowest gap between. \"Take your time, think it over,\" I said. \"But in any case I\\'ll be moving by March. So I\\'ll be ready for you if and when you want.\" Naoko nodded. I took her in my arms as delicate\\xadly as if I was holding a piece of fine glassware. She put her arms around my neck, I naked, she in her 164 white scanties. Her body was so beautiful I just couldn\\'t get over it. \"Why am I not wet,\" Naoko half-asked herself. \"It\\'s really only happened to me once. On my twen\\xadtieth birthday back in April. That night you had me. What could be wrong with me?\" \"It\\'s all in your head, so just give it time. There\\'s no rush. Everything\\'ll turn out just fine.\" \"All my problems are in my head,\" said Naoko. \"What if I never get moist, what if I can never have sex in my whole life? Would you still want me then? You\\'re going to tell me you�d put up with hand\\xad�nd blowjobs the rest of your days? Or would you get your sex from another woman?\" \"I\\'m basically an optimist,\" I offered. Naoko sat up in bed, pulled a T-shirt over her head, and donned a flannel shirt and jeans. Hint\\xading that I should get dressed, too. \"Give me some time to think about it,\" said Naoko. \"And you, too, you take some time and think about it.\" \"I\\'ll think about it,\" I said. \"Meanwhile, your fellatio was quite a number.\" Naoko blushed, then smiled. \"Kizuki always said so.\" \"He and I usually did agree on things,\" I said with a laugh. 165 Afterwards we sat around the kitchen table, drinking coffee and reminiscing. She\\'d finally come around to being able to talk about Kizuki, albeit a little at a time, with carefully chosen words. The snowfall was stop and go, continually, and it never once cleared up the three days I was there. I told her I thought I\\'d make it up again in March, then we embraced through our heavy coats and kissed. Goodbye, Naoko told me. * The year 1970 arrived, striking the closing note of my teens. A whole new sound to my ears, the seventies. And I found myself setting foot in a whole new quagmire. Final exams I passed with relative ease. Having gone to school nearly every day for the lack of much else to do, I didn\\'t really have to study in order to pass. We had our share of problems on campus. One faction of activists hid an arsenal of helmets and steel pipes in the dormitory, which instigated something of a run-in with the resident jocks, and in the fracas two students were wounded and six ex\\xadpelled from the dorm. The whole affair dragged on for what seemed like ages, with some little flare up practically every day. A heaviness loomed over the whole place, putting everyone on edge. With all that loose energy in the air, even I seemed headed 166 for some dose scrapes with the gym crew, were it not for Nagasawa\\'s intervention on my behalf. Whatever, the time was ripe for me to leave the dorm. Once through with the worst of my exams, I began seriously to look for an apartment. After one week I managed to find an affordable place in the suburbs near Kichijoji. The commute was a little in\\xadconvenient, but the great thing was that it was an actual house. A real find. It was situated in one cor\\xadner of a large residential lot, like a guest house or gardener\\'s shed, with the main house located beyond the scruffy remains of a garden. The landlord used the main entrance and I the back, so there was privacy aplenty. I had a couple of rooms with a small kitchen and toilet, not to mention a ridiculous amount of closet space. The side facing the garden even had a traditional Japanese veran\\xadda. I leased it on the condition that I\\'d give it up should the landlord\\'s grandson move to Tokyo the next year, hence the low price. The couple who owned it were getting on in years. Very nice, easy\\xadgoing people who allowed me a fairly free hand with the place. Nagasawa helped me move. He borrowed a small truck from somewhere, and threw in the promised refrigerator and TV and big thermos. All highly ap\\xadpreciated items. Two days later he, too, was slated 167 to move out of the dorm to an apartment in Mita. \"Well, I doubt we\\'ll be seeing much of each other for a while, so take care,\" he said on parting. \"But like I said, some chance something somewhere down the line is going to throw us back together. I just know it.\" \"I\\'ll look forward to that,\" I said. \"By the way, just for the record, that time we changed girls, I liked the one that wasn\\'t pretty.\" \"Same here,\" I said. \"But whatever you do, Naga\\xadsawa, take good care of Hatsumi. You\\'ll never find another like her and she\\'s more fragile than she looks.\" \"I know that,\" he admitted. \"That\\'s why, if you want to know the truth, after me I think you ought to take her under your wing. You and Hatsumi\\'d hit it off for sure.\" \"This is no joking matter,\" I said, startled. \"Only kidding,\" said Nagasawa. \"In any case, you be happy. A lot of shit is bound to come your way, but\" if you stick with it as stubbornly as me, you\\'ll always come out on top. Just one word of warn\\xading, though, if I might.\" \"Ready and waiting.\" \"Never sympathize with yourself,\" he said. \"It\\'s the scum of the earth who feel sorry for them\\xadselves.\" 168 Then he shook my hand and we parted, he for a new world, I back to my quagmire. \"I\\'ll bear that in mind,\" I said. * On the third day after my move I wrote to Naoko. I described my new quarters and how hap\\xadpy I was to be out of that squalid dorm, free of all those nobodies with their nothing ideas. Here I could make a fresh start in fresh surroundings. \"Outside my window is a large yard which the neighborhood cats use for a meeting place. At noon\\xadtime I spy the cats taking a snooze on the veranda. I have no idea how many of them there are, but anyway there are more than I can count, all of them lolling about in the sun. They seem none too pleased that I\\'ve moved in here, although a number came running when I put out some week-old cheese and ate it cautiously. Given time, perhaps we\\'ll be on friendly terms. One tom has a half-chewed-off ear and bears an amazing resemblance to my old dormitory\\'s supervisor. I half-expect him to raise the flag any moment now. \"School is a longer commute now, but once I\\'m through with my general ed curriculum, my morn\\xading class load will go down, so it won\\'t be such a problem. In fact, it should mean I\\'ll be able to 169 spend more time reading on the train. All that re\\xadmains is to sniff out a bit of part-time work, three or four days a week in the Kichijoji area. Then I can get back to winding my mainspring. \"I don\\'t want to rush you into a decision, but see\\xading that spring is a time for new starts, maybe April would be the right time for us to start living together. If all went well, you could go back to university. Or if living together presented prob\\xadlems, you could find an apartment of your own in the neighborhood. The important thing is that we be near each other. Of course, there\\'s no special reason it has to be spring. If summer is better for you, no problem. So tell me what you think, okay? \"I\\'m thinking about doing a good stint of work, mostly to pay for the cost of moving. It takes a lot of money to set up on your own. Pots and pans, plates and dishes, the whole works. Still, come· March I\\'m going to have a break and I\\'m really dy\\xading to come see you. Please tell me when might be convenient. I\\'m dying to see you, so answer as soon as you can.\" For the next two or three days I went about Kichi\\xadjoji rounding up household effects and began cook\\xading simple meals at home. I bought wood at the local lumber yard, had it cut to size, and built a 170 desk to study on. I also ate my meals on it for the time being. I even built shelves and laid in a stock of spices. A female cat barely six months old took up with me and soon I was feeding her indoors. \"Birdy ,\" I called her. So much for the home front. I found myself a job with a painter and worked as his assistant for two weeks solid. The pay was good, but it was hard work, and I felt faint from paint thinner. After work, I\\'d eat in a cheap supper place and drink a beer, then go home to play with the cat and fall dead asleep. Two weeks passed and still no reply from Naoko. One day, while I was painting, I happened to remember Midori. Come to think of it, I hadn\\'t been in touch with.her in over three weeks. I hadn\\'t even told her I\\'d moved. I\\'d gone as far as to tell her I was thinking about moving, which had elicited an \"Oh?\" from her, and that was it. I went to a phone booth and dialed Midori\\'s apartment. On the line came an older-sister voice who, once I\\'d announced my name, told me to wait just a second. Yet after what seemed like ages, there was still no Midori. \"Listen, Midori\\'s very mad and doesn\\'t want to talk to you,\" said the supposed sister. \"You didn\\'t tell her a thing when you moved, right? No forward-171 ing address, no nothing. You just blipped off the screen, right? She\\'s furious. And once you get her out of shape, she stays mad. She\\'s like an animal.\" \"I\\'ll explain everything, just put her on.\" \"She says she doesn\\'t want to hear your explana-tions.\" \"Well, then, let me explain to you and maybe you can tell Midori.\" \"Not me,\" declared the disembodied sister. \"You explain that for yourself. You\\'re a man, aren\\'t you? Take some responsibility, will you?\" I had no choice but to hang up. I couldn\\'t actual\\xadly say I blamed Midori for being angry. What with the move and all that work for money to get settled in, Midori had completely slipped my mind. Hell, I\\'d all but forgotten about Naoko. An insidious trait of mine-get absorbed in one thing and I lose sight of everything else. I tried to put myself in Midori\\'s place. I\\'d feel hurt for sure. Badly, too. We weren\\'t lovers, but on one level we were even more intimate. Admitting that, however, only made things worse. Hurting · someone-and someone important to me at that\\xadthe very idea was abhorrent to me. When I returned from the day\\'s work to my new desk, I wrote Midori a letter. I set down my thoughts directly and honestly, no excuses or ex\\xadplanations. I apologized for my �houghtlessness and 172 insensitivity. I told her how much I wanted to see her, how much I wanted her to see my new place, how much I wanted a reply of some sort. Then I posted it special delivery. But wait as I might, no answer came. A strange spring it was shaping up to be. All spring vacation I waited for word. I took no trips, made no visit home, couldn\\'t even work. No telling when a letter from Naoko might arrive saying, \"Come quick.\" Days I\\'d go see double features in Kichijoji, hang around in jazz coffee shops, read books. I saw no one, hardly talked to a soul. And once a week without fail I wrote to Naoko. By now, in these letters, I left off pressing for a reply. I didn\\'t want to rush her. Instead, I wrote about my paint\\xading work, about Birdy, about the peach blossoms in the yard, about local characters, the kindly lady selling bean curd and the nasty delicatessen lady, all everyday stuff. Still no reply came. When I tired of reading books and listening to records, I tried my hand at gardening. I borrowed a yard broom and rake and clippers from my landlord, then did some weeding and trimming among the numerous plants. With very little effort I had the place looking fairly presentable. And when the landlord saw my handiwork, he invited me for tea. We sat on his veranda, the two of us, and made polite conversation over tea and rice crackers. It 173 turns out he\\'d had a post-retirement position with an insurance company for a while, but quit even that two years ago and was now simply taking it easy. The house and land were his from a long time back, and his children had all gone off on their own, so now he and his wife were always taking trips. \"Lucky you,\" I said. \"No, siree,\" he countered. \"Traveling doesn\\'t in\\xadterest me a bit. Working\\'s more in my line.\" The reason the yard was �o run down, he ex\\xadplained, was that there were.n\\'t any decent gar\\xaddeners in the area. Really he ought to have done the work himself, little by little, but recently an allergy of his had taken a turn for the worse, so put\\xadtering about in the garden was out of the question. Sorry to hear that, I told him. After ·tea he showed me his shed and said that, while he couldn\\'t do much in the way of thanks, he could offer me the use of anything I found there. Inside was a lot of junk, everything from a bathtub to a kiddy pool to a baseball bat. I found myself an old bicycle and a smallish dinette set with two chairs, a mirror, and a guitar, and asked if I might borrow them. It\\'s all at your disposal, he told me. I spent one whole day cleaning the rust off the bicycle, oiling it, putting air in the tires, adjusting the gears, then had the clutch wire replaced at a 174 bicycle shop. It looked like a whole new bike. I gave the dinette table a good dean and a coat of varnish. The guitar I furnished with new strings, plus a dab or two of glue where the wood facing looked ready to pull away. I also removed the rust from the neck screws with a wire brush so I could tune it. Not the best-sounding guitar, but playable. Now that I thought about it, this was the first time I\\'d touched a guitar since high school. I sat on the veranda and slowly picked out the Drifters\\' \"Up on the Roof\" from memory. Strange how I could still remember the basic chords. With leftover boards I built a mailbox, which I painted red, inscribed with my name, and put up by my door. But by April3 all I had to show for it was a forwarded high school alumni dub announce\\xadment. Why that and only that, of all things? The class Kizuki and I had been in. Yet another reminder. I threw it straight into the trash. On the afternoon of April 4 there was a letter from Reiko in the mailbox. I cut open the envelope with scissors and sat down on the veranda to read it. Before I even began I had the feeling it wasn\\'t go\\xading to be good ·news, and was I ever right. First thing, Reiko apologized for not writing sooner. Naoko had made a brave struggle to write a reply, but just never could get it written. Reiko had offered any number of times to help her get it done, 175 but Naoko kept saying it was too personal, she had to write herself. So it\\'d come to this late date. Apologies. The letter was dated March 31. _ \"It may have been hard on you not hearing any word in over a month, but believe me it\\'s been one grueling month for Naoko. Ple�s� u?derstand. Frankly speaking, her present condmon 1s none too good. She tried to make a stand, on he� own two legs, but without much suc�ess, I � afr_atd. \"The more I think about 1t, the first stgn was that she couldn\\'t write letters. Not since the end of November or the beginning of December. Then she began hearing things. Whenever she started to write a letter, all sorts of voices would ta.Ik to �er and interfere. They\\'d prevent her from choosmg her words. Up through your second visit here, such symptoms were relatively minor and, to be. honest, I didn\\'t take much notice of them. Each of us has certain symptoms that appear in cycles, after .all. Once you\\'d gone home, however, these symptoms took a turn for the worse. Now it even taxes her to hold a conversation. She\\'s confused and fright\\xadened. And the voices in her head are getting worse. \"Every day we have a session with a spe�ialist. Naoko the doctor, and I talk things out, trymg to get to \\'the root of her problems by pinpointing fragmented elements of her psyche. I suggested that 176 you should join in the sessions and the doctor agreed, but Naoko refused. To use her words, she said that when the time comes she wants to meet you with her \\'body all beautiful.\\' I tried my darnedest to tell her that that was not as important as her getting recovered as soon as possible, but she wouldn\\'t change her mind. .\"As I believe I explained to you once before, this is not a specialized institution. Of course, we do have specialists here who do give effective treatments, but in-depth treatment is difficult. The purpose of this facility is to provide a therapeutic en\\xadvironment conducive to self-help, but strictly speak\\xading this does not include medical treatment. So that if Naoko\\'s condition gets any worse, we may have no choice but to transfer her to another hospital or clinic. It\\'d be tough for me, but we may have no alternative. Of course, even if it came to that, she\\'d be \\'on leave\\' from here and could return any time. Or perhaps she\\'d be cured and c:ould just go home. Either way, we\\'re doing all we can and Naoko\\'s really pulling, too. Please pray for her recovery. And keep writing letters like you\\'ve been doing. \"Reiko Ishii.\" After reading the letter through, I sat on the veranda and looked at the garden in full spring 171 bloom. There was an old cherry tree almost at the peak of its blossom. The breeze was gentle, and the light came in strangely unfocused hues. Before long Birdy happened by to sharpen her claws on the veranda, then stretched out beside me for a lazy snooze. I knew I should be immersed in thought, but for the life of me I couldn\\'t come up with any idea what I should be thinking about. To be perfectly honest, I didn\\'t want to think at all. Maybe sooner or later a thought would just pop into my head, at which point I could think it over. At the very least, I didn\\'t want to think about anything for now. I leaned against a post of the veranda and petted Birdy and passed the whole day gazing at the garden. I felt as if all the energy had been drained from my body. The afternoon progressed and dusk came on, enveloping the garden in blue twilight. Birdy had wandered off somewhere, but I still hadn\\'t gotten my fill of the cherry tree. The cherry blossoms looked like sores bursting through the skin ·of the spring evening. The whole garden reeked sweet and thick with the rotten flesh of so many blossoms. I thought about Naoko\\'s body. Naoko\\'s beautiful body lying in the dark, countless plants sprouting from her sl<in, all trembling green in some unseen breeze. Why did such a beautiful 178 body have t<;> be taken ill? Why couldn\\'t they leave Naoko in peace? I went indoors and drew the curtains, but still the room was filled with the springtime fragrance. It permeated everything, but all it brought to mind was the stench of decay. Shut off there in my room, I railed furiously at spring. I hated everything that spring hurled my way. I felt swollen with disgust to the pit of my gut. It was the most I\\'d ever resented anything in my entire life. The next three days I felt I was walking the ocean floor. Strange days they were. If someone talked to me, I couldn\\'t hear what they were saying. It was as if my whole body were enveloped in some clinging membrane, preventing me from contact with the world outside. But, at the same time, neither could they touch me. I was powerless, as long as I was in this state, and they, too, were powerless to affect me. I leaned up against the wall and gazed unfocused up at the ceiling, shoveling whatever edibles I had on hand into my mouth, drinking water, then switching to whiskey when I got to feeling bad, and finally falling asleep. I didn\\'t bathe, didn\\'t shave, for three days. On April 6 a letter came from Midori, saying that she had to register for classes on the tenth, so 179 why didn\\'t we meet in the courtyard and have lunch together. She said she\\'d intentionally delayed replying until she felt we were even, so now it was time to make up. After all, wrote Midori, she\\'d been lonely without my company. I read her letter four times and still didn\\'t get what she was try\\xading to say. What was this letter supposed to mean, anyway? I just couldn\\'t follow the connection bet\\xadween one sentence and the next. What did meeting on registration day have to do with being even with her. What made her so eager to \"have lunch together\"? I must be going crazy, I thought. My con\\xadsciousne�s was flabby, feeble as the roots of a plant raised in total darkness. Somewhere in the back of my mind I was thinking I had to pull myself together. I couldn\\'t stay like this forever. I had to take some kind of action. Suddenly I remembered Nagasawa\\'s words: \"Don\\'t sympathize with your\\xadself. It\\'s the scum of the earth who feel sorry for themselves.\" Well, well, Mr. Nagasawa, you are a gentleman and a scholar after all. I heaved a sigh and stood up. For the first time in ages I did my laundry, bathed and shaved at the public bath, cleaned my room, went shopping and cooked myself a decent meal, fed Birdy, kept myself to beer-drinking, and did thirty minutes of exercises. One look in the mir\\xadror at my newly shaved face told me I was down to 180 skin and bone. My eyes boggled, and I looked like someone else. The following morning I took a long spin on my bike, returning for lunch, whereupon I reread Reiko\\'s letter. Then I put my ass in gear trying to see what I should do. The main reason I\\'d been so shocked on first reading, I realized, was that my op\\xadtimism about Naoko\\'s condition had been rudely upset. Naoko herself had said that her ailment was deep-seated, and even Reiko had told me she didn\\'t know what to expect. Still, I\\'d visited Naoko twice and I\\'d thought she\\'d been getting better, so the only problem I\\'d foreseen was her reluctance tore\\xadturn to society. If only she had the will, we two could make a go of it by our combined strength. But Reiko\\'s letter had toppled that castle of dreams in no time flat. All that was left was a senseless expanse of nothingness. Somehow I had to right myself. Naoko\\'s going to take a long time to recover, I allowed. But even should she recover, she\\'s going to be a lot more debili.tated and unsure of herself than before. I had to adjust to these new circumstances. Naturally, I understood that my becoming stronger as a person was not the end-all solution, but still it was the sum of what I could do. That and wait patiently for her recovery. Hey, Kizuki, I thought, unlike you I\\'ve decided to live. And not just live, I\\'ve decided to make a go of 181 it. I\\'m sure you had it hard, but I swear I\\'ve had a tough time, too. This is all because you had to up and die on Naoko. But me, I\\'m not going to turn my back on her. Never. Because I\\'m fond of her and I\\'m stronger than she is. And I\\'m going to be much stronger than I am now for her. I\\'m going to mature. I\\'ve got to grow up. No more of this want\\xading to stay seventeen or eighteen forever. I\\'m no teenager. I\\'ve got responsibilities. I\\'m no longer the guy you knew. I\\'m twenty now. I\\'ve got to pay my dues to keep on living. \"Hey, Watanabe, what\\'s with you?\" asked Mi\\xaddori. \"You\\'re so thin!\" \"Oh, really?\" I said. \"Been overdoing it with that housewife lady friend of yours?\" I shook my head and laughed. \"I haven\\'t slept with a woman since the beginning of last October. Not once.\" Midori whistled cynically. \"You\\'re telling me you haven\\'t had any in six months? Really?\" \"That\\'s right.\" \"Then why\\'d you lose so much weight?\" \"Because I became an adult,\" I replied. Midori put her hands on my shoulders and looked me in the eyes. Then she broke into a 182 smile. \"Well I\\'ll be damned. I guess you really have changed a little. Compared to before.\" \"I\\'ve grown up a little.\" \"You\\'re great, you know that? Being able to think that way!\" said Midori admiringly. \"Let\\'s go eat. I\\'m starving.\" We decided to go to a little restaurant behind the Lit Department. I ordered the daily special and she settled for the same. \"Tell me, Watanabe, are you still angry?\" asked Midori. \"About what?\" \"About my paying you back by not writing· a rep\\xadly to you all this time. Do you think that was wrong? Even if I\\'ve come to apologize?\" \"I\\'m the one to blame,\" I said. \"Sis tells me that it\\'s not right. That it\\'s too in\\xadtolerant and childish.\" \"Still, you got it out of your system, didn\\'t you? Paying me back in kind.\" \"Mmm.\" \"Well, then, so much the better, right?\" \"You sure are tolerant,\" said Midori. \"But tell me, Watanabe, are you trying to tell me that you honestly haven\\'t had sex in six months?\" \"I honestly haven\\'t,\" I said. \"Which would mean that when you tucked me in-183 to bed the other night, you probably wanted to do it.\" \"Yeah, probably.\" \"But you didn\\'t, right?\" \"Right now, you\\'re my most important friend, someone I can\\'t afford to lose,\" I said. \"Still, if you\\'d come onto me then, I doubt I could\\'ve refused you. I was so washed up at the time.\" \"Nah, I would have been too big and hard for ou.\" ,Y She broke into a smile and brushed my .wrist . with her hand. \"You know, since a little while ago I\\'ve decided to trust you. One hundred percent. That\\'s how I could sleep so soundly then. I was with you, so I was all right. I really fell sound asleep, didn\\'t I?\" \"Sure did,\" I said. \"If, though, you\\'d turned to me and said, \\'Hey, Midori. Let\\'s fuck. It\\'ll make everything all right,\\' I probably would have gone ahead and done it. But don\\'t get the wrong idea just because I\\'m telling you this. I\\'m not trying to seduce you or get you excited or anything. I\\'m simply telling it like it is with me.\" \"I understand,\" I said. We ate lunch and showed each other our registra\\xadtion cards, discovering that we\\'d both signed up for two of the same courses, so we\\'d be seeing each 1&4 other at least twice a week. Then the conversation turned to her home life. It seems her sister and she hadn\\'t taken to apartment living at first, the reason being that everything was so much easier than the way they\\'d lived up to then. There was no one to visit in the hospital, no store to mind, no busy everyday routine. It took some getting used to. \"But lately I\\'ve come around to thinking this is really quite okay,\" said Midori. \"This is really liv\\xading as it was meant to be for us, so what\\'s to stop us from spreading out and doing as we please? Still, it\\'s been a little unsettling. It\\'s like we\\'re floating an inch off the ground, unreal. How could life be this good? We\\'re both on edge, just waiting for the whole thing to come tumbling down any second now.\" \"The Hard-Time Sisters,\" I said with a laugh. \"It\\'s been all too hard up to now,\" admitted Midori. \"But that\\'s neither here nor there. It only makes us all the more determined to get what we\\'re owed in full.\" \"You\\'ll survive, if I know you,\" I said. \"What\\'s your sister doing with her time?\" \"A friend of hers recently opened a jewelry shop near Omote-Sando, and she helps out there three times a week. Other than that, she\\'s studying cook\\xading, having dates with her fiance, going to the movies, spacing out, whatever. Life on easy street.\" ISS She asked me about my new circumstances, and I told her about the house and garden I was renting, Birdy, and my landlord. \"Having fun?\" \"Not bad,\" I said. \"You sure don\\'t seem so up,\" said Midori. \"And it\\'s spring, too,\" I said. \"And you\\'re wearing that wonderful sweater your girlfriend knitted for you, too!\" I started and looked down at my own burgundy sweater. \"How did you know that?\" \"You\\'re so straight. It was a shot in the dark!\" said Midori, astonished. \"But, really, you do seem kind of down.\" \"I\\'m trying to pick myself up, though.\" \"Just think of life as your own private cookie . , Jar. I shook my head a couple of times, then gave Midori ·a look. \"Maybe I\\'m just slow in the head, but sometimes I don\\'t have the foggiest idea what you\\'re talking about.\" \"The cookie jar\\'s packed full of all different kinds of cookies, so all you have to do is pick the ones you want, right? And if you eat the ones you like first, that leaves the ones you don\\'t like so much. I think of that whenever something bad happens. Like, if I just get this out of the way, then there\\'ll be 186 good things to come. That\\'s the cookie jar of life.\" \"A philosophy of sorts, I guess.\" \"But it\\'s true. I\\'ve learned that from experience,\" said Midori. While we sat there drinking our coffee, two of Midori\\'s classmates came in, and the three of them compared registration cards, asked about last term\\'s German grades, gossiped, admired one another\\'s shoes, on and on. I wasn\\'t exactly listen\\xading, for it all sounded like echoes from the far side of the globe. I just sipped my coffee and gazed out · the window. Your perennial college campus in spring. Misty sky, cherry trees in bloom, freshmen toting new books and strolling along the paths. I began to feel a little light-headed. I thought about Naoko missing another year of school. By the win\\xaddow was a small glass with some anemones in it. The girls said their bye-byes and found a table of their own, prompting Midori and me to head out for a walk. We went to a few used book stores and bought some books, then went into another coffee shop, followed by a pinball arcade, and finally sat down on a park bench to talk. Midori did most of the talking while I just made assenting noises. Midori said she was thirsty, so I went to buy two cokes at a nearby shop. When I came back she was 187 scribbling away on a pad with a ballpoint pen. I asked what she was writing, but all she would say was that it was none of roy beeswax. Three-thirty rolled around and she said she had to be going, she was supposed to meet her sister in Ginza. I walked her to the subway and we split up. As she was leaving, she stuffed a folded sheet of paper into the pocket of roy coat and told me to read it when I got home. I read it on the train. \"Dear T oru, \"I\\'m writing this while you\\'re off buying cokes. This is the first time I\\'ve ever written a letter to someone sitting next to roe on a bench. But short of this, I doubt I can get across to y.ou what I\\'m trying to say. I mean you hardly even listen to what I say. Don\\'t tell roe you do. \"I bet you don\\'t even know how inconsiderate you were to me today, do you? You didn\\'t even notice I\\'d changed roy hairstyle, did you? Here P.ve been, trying roy darnedest to grow roy hair, and I finally managed to get a halfway feminine hairstyle. And you didn\\'t even notice! After all roy trying to surprise you with roy first \\'cute look\\' in ages ·and you couldn\\'t even be bothered to notice, you brickhead! No doubt you never remember what out· fits I wear, either. Well, in case it slipped your atten· tion, I\\'m a girl. Sure you\\'ve got things on your mind, but you could at least look at roe. You could 188 have said, \\'Cute hairstyle\\' or something, then gone on thinking, and I\\'d have forgiven you. \"For this reason, I\\'m going to lie to you. I\\'m go\\xading to tell you I have an appointment with roy sister in Ginza. I was planning on spending the night at your place, so I brought my pajamas with roe. That\\'s right, in roy bag along with roy toothbrush. Ha, ha, ha, like a real idiot. You didn\\'t even think to invite me over. Well, so what? Since you seem so dead-set on leaving me alone, I\\'ll leave you alone. Why don\\'t you just give it all a good long think? \"Still, don\\'t think I\\'m furious at you. I\\'m really only lonely. And depressed. I mean you\\'ve been so kind to roe over and over again and I haven\\'t done anything for you. You\\'re always in your own little world. I knock and knock, but no sooner do you look up than you retreat inside again. \"Well, I see you\\'ve come back with the cokes. Walking along, lost in thought. I hope you trip up! But you don\\'t. You sit down next to me and guzzle your coke. I should have known better than to ex\\xadpect that you\\'d return with the drinks and say, \\'Hey, you\\'ve changed your hair.\\' If you had, I\\'.d have torn up this letter and said, \\'Let\\'s go to your place. I\\'ll make us a nice dinner and we can slip into something more comfortable.\\' But no, you\\'re as thick as iron! \"P .S. Don\\'t talk to me if we meet up in class.\\'\\' 189 L I tried calling Midori\\'s apartment from Kichijoji Station, but there was no answer. I didn\\'t have anything special to do, so !looked for job openings o� my route to school. I wasn\\'t having much luck finding work to meet my schedule-Monday, Wednesday, and Thursday evenings afrer five, plus weekends. I gave up and headed home, bought stuff for dinner, and tried Midori again. Her sister came to the phone and said she hadn\\'t come home yet, nor had she any idea when she would. I thanked her and hung up. After dinner I tried writing Midori a letter but gave up after several failures and wrote toN aoko in\\xadstead. I wrote about the beginning of the new school year, how sad I was at not being able to see her, how !longed to see her no matter when or how, how I wanted to talk to her. But come what may, I\\'d made up my mind to become strong. That there was no other path to take. \"Also, I realize it\\'s my own business and prob\\xadably of no real concern to you, but I\\'m not sleeping with anyone. I can\\'t forget how you touched me. It\\'s far more important to me than you could im\\xadagine. I\\'m always thinking about that rime.\" I put the letter in an envelope, put a stamp on it, and just sat there at my desk looking at it. A much 190 shorter letter than usual, but so much the more con\\xadvincing, I hoped. I poured an inch of whiskey in a glass, downed it in two goes, then went to bed. * The following day I found a Saturday-Sunday job near Kichijoji Station as a waiter in a smallish Italian restaurant. The pay wasn\\'t all that great, but I got lunch and transport\\'ation expenses thrown in. And they were agreeable to my coming in whenever the waiter on the Monday, Wednes\\xadday, or Thursday late shift took off, which was often, so it worked out okay for me. I\\'d get a raise after three months, so could I come in from this Saturday? The manager seemed a lot more on the up and up than that jerk at the Shinjuku record shop. When I called Midori\\'s apartment, her sister said that she still hadn\\'t returned since yesterday and she herself would like to know what had become of her. Did I have any clues? She sounded worn out but all I could tell her was that Midori had pajama� and a toothbrush in her bag. It was at Wednesday\\'s class when I caught up with Midori. She was wearing a moss green sweater and her dark sunglasses from the summer before. 191 She sat all the way at the back talking with the short girl with glasses I\\'d seen once before. I went up to them and told Midori I\\'d like to talk to her later. First the girl with the glasses gave me a look, then Midori gave me a look. Sure enough, Midori was sporting a very feminine hairstyle. Plus it made her look a little more grown-up. \"I\\'ve got an appointment,\" said Midori with an abrupt shake of .her head. \"It won\\'t take long. Five minutes at the most,\" I said. Midori took off her sunglasses and squinted as if she were looking at the ruins of a building a hun\\xaddred yards distant. \"I don\\'t want to talk. Sorry.\" The girl with the glasses gave me a she-doesn\\'t\\xadwant-to-talk-sorry look. I took a seat in the front row to the far right and listened to an exposition on \"The Plays of Ten\\xadnessee Williams and His Place in American Literature,\" then, after it was over, counted to three before turning around. Midori was nowhere in sight. April was the cruelest month to spend on my lonesome. April had everyone around me looking so happy, doffing their winter coats, chatting in the bright sun, playing catch, falling in love. But there I was, all alone. No Naoko, no Midori, no Naga\\xadsawa, nobody to tell me \"Good morning\" or \"Good !92 nig�t.\" I even missed Kamikaze. Some spring. I tned repeatedly to talk to Midori, but her reply was always the same. She didn\\'t want to talk, not now, and I could tell she meant it. Usually she was with the girl with the glasses. Either that or with a tall, short-haired guy with incredibly long legs and white basketball shoes. April came and went, May arrived and was w?rse st�ll. �ore and more spring brought unset\\xadtlmg feelmgs m me, a shiver that ran through me at dusk. The scent of magnolias wafting through the gloom filled me with vacillation and pain. It was all I could do to shut my eyes tight and grit my teeth and wait for the feeling to pass. When at last it did a dull ache would remain lodged inside me. \\' At times like that I\\'d write to Naoko. In my let\\xadters to her everything was beautiful and carefree. I\\'d write about the. smell of the grass and warm spring breezes, moonhght and movies I\\'d seen, favorite tunes and memorable books. Reading my own let\\xadters was enough to comfort me. What a wonderful world I lived in! I wrote a good number of letters like that. Still no answer came, either from Naoko or from Reiko. . I got to be on speaking terms with a fellow part\\xadttmer my age named Ito at the restaurant, a broody sort of guy studying oil painting in art school. It took a long time to break the ice, but soon we got 193 to going to a place nearby for a beer and a talk after work. He was also into books and music, which is what we generally talked about. Ito was skinny but handsome, sported short hair for an art student in those days, and had a general clean-cut ap\\xadpearance. He had clear likes and dislikes, but never made much of an issue of them. A fan of French literature, he read Georges Bataille and Boris Vian, while his musical tastes ran to Mozart and Ravel. And like me, he\\'d been looking for a friend -..yith whom to discuss his interests. Once he invited me to his apartment, a strange little one-story affair around the back of Inokashira Park, the whole place chock-full of paints and can\\xadvases. I asked to see some of his paintings, but he told me he didn\\'t have anything worth showing yet. We drank Chivas Regal he\\'d lifted from his father, ate smelts we grilled over a tiny charcoal brazier, and listened to a Mozart piano concerto played by Robert Casadesus. He was from Nagasaki originally and had come toT okyo, leaving a girlfriend behind. He slept with her whenever he went home, but lately he admitted to wandering thoughts. \"Some things you can just tell about girls,\" he said. \"All of a sudden between the ages of twenty and twenty-one they start thinking concretely about all sorts of things. They becqme such realists. 19-\\\\ And there you are, watching everything you\\'d loved in them erode away month by month. Each time she sees me, usually after we\\'ve made love, she has to ask me what I plan to do after university.\" \"Well, what are you going to do?\" I asked likewise. He crunched on a smelt and shook his head. \"What am I going to do? What is there for me to do? An art student in oils. Nobody\\'d ever study oils if they were thinking about that. I mean who eats straight out of art school? So then she tells me to go back to Nagasaki and teach art, \\'cause she is plan\\xadning on teaching English. Fine and dandy.\" \"You\\'re not so crazy about her any more, I take it., \"It would seem not,\" Ito admitted. \"But more than that, who wants to be an art teacher? I don\\'t want to spend the rest of my days like some monkey trying to keep unruly junior high-schoolers in line.\" \"That aside, though, wouldn\\'t it be better to break up? For the both of you,\" I said. \"I\\'m getting to think so. But I just can\\'t bring myself to tell her. It\\'d kill her. I mean she still wants to be with me. I can\\'t just say, \\'Sorry I don\\'t feel anything for you any more.\\' \" We drank our Chivas straight, and when the smelts gave out, we switched to cucumbers and 19S celery sticks with bean paste. As I popped cukes in, to my mouth, I thought of Midori\\'s father. I felt totally empty with Midori gone from my life. Unknown to me, she\\'d taken on a big presence in my world. \"You got a girl?\" asked Ito. I did, I told him after taking a breath. But there were circumstances that kept her far away. \"But you\\'re on the same wavelength?\" \"I\\'d like to think so. There\\'s no hope ifl don\\'t,\" I half, joked. He spoke quietly about the greatness of Mozart. He was as intimately acquainted with the ins and outs of Mozart\\'s music as with each turn of a moun, tain path back at his ·home in the country. His father, it seems, was something of a Mozart devotee and had played him concertos since he was three. I really wasn\\'t that much of a classic buff, but just to hear him point out the intricacies of certain passages-\"Now, here, listen to how it ... ,\" or, \"You won\\'t believe this part ... \"-1 felt more at ease than I had in ages. We gazed out at a crescent moon over the woods of Inokashira Park as we polished off the last of the Chivas. Ito invited me to stay over, but I said I had something to do. I thanked him for the whiskey and left before nine. On the way home !.tried call, 196 ing Midori from a phone booth. Unexpectedly, she came to the phone. \"I\\'m sorry, I don\\'t want to talk with you now,\" said Midori. \"I know that very well. I\\'ve heard it before. But I don\\'t want things between us to end like this. You\\'re really one of the few friends I\\'ve got and I feel terrible not being able to see you. At this rate, when will you ever feel like talking? Just tell me that much.\" · \"When I\\'m ready to talk, we\\'ll talk.\" \"So are you well?\" \"I guess,\" she said, then hung up. In mid,May a letter came from Reiko. \"Thanks for your regular letters. Naoko reads them with pleasure. I also take the liberty of reading them. I hope you don\\'t mind. \"Please excuse the long delay in replying. To be perfectly honest, I\\'m kind of worn,out and there\\'s not much good news. Naoko\\'s condition is none too good. Her mother came up from Kobe the other day and we had a session with a specialist. The four of us agreed she should be transferred to a special, ized clinic for intensive therapy for a while and we\\'d see the results, although Naoko said she\\'d prefer to stay on and get better at the lodge. If I had 197 my way, I would have her stay here. I even worry for myself without her. But the truth is she\\'s getting out of control. Normally she shows no outward signs, but occasionally she\\'ll become so unstable I can\\'t let her out of my sight. You never know what might happen. She hears so many things, she might just withdraw into herself irretrievably. \"I guess this means she\\'d be better off getting treatment in a bona fide clinic for a while. Sorry to have to say so, but that\\'s the way it goes. Like I told you before, these things take time. You can\\'t give up. You\\'ve just got to untangle the threads one by one. No matter how hopeless it all may seem, there\\'s always a way. When it\\'s pitch black all around, you\\'ve just got to stay still until you get used to the dark. \"By the time you receive this letter, Naoko should already be at the clinic. I apologize for not telling you before now, but everything got decided at the last minute. Rest assured that the clinic is good and the doctors there really know their stuff. I enclose the address so you can write her there. When and if I have any news about her, I\\'ll let you know. I hope I\\'ll get to write good news. I\\'rri sure this is hard on you, too, but hang in there. Please drop me an occasional line, whether Naoko\\'s here or not.\" 198 * That spring I wrote a hell of a lot of letters. Week-ly letters to Naoko, letters to Reiko, letters to Midori. I wrote letters in the classroom, at home with Birdy on my lap, at the Italifln restaurant dur\\xading my break. The only tenuous continuity to the crumbling shambles of my life was letters. I wrote Midori how lonely my April and May had been without her. The hardest spring of my life. I\\'d rather have three extra Februaries in a row. At this late date it was probably worse than nothing, but I complimented her on her new hairstyle. I told her I was working in an Italian restaurant now, learning to make pasta. Make her a meal sometime. Every day I went to university, three times a week I worked at the restaurant, sometimes I discussed music and books with Ito, borrowed Boris Vian novels to read, wrote letters, played with Bir\\xaddy, made spaghetti, gardened, thought about Naoko and masturbated, saw endless movies. It was near the middle of June before Midori deemed to speak to me. We hadn\\'t talked in two months at that point. After class she came over and sat down next to me, propped up her chin and said nothing at first. It was raining outside. Your 199 straight-down windless rainy season rain, making everything miserably damp. Midori stayed like that even after all the other students had left the classroom. Then she pulled a pack of Marlboros from the pocket of her jeans jacket, put one to her lips, and passed me some matches. I gave her the re\\xadquisite light, whereupon she pursed her lips and slowly blew smoke in my face. \"Like my hairstyle?\" \"Very much.\" \"How much?\" \"Enough to topple all the forests of the world,\" I said. \"Oh, really?\" \"Yes, really.\" She stared me in the face a while longer, then ex\\xadtended her right hand. I reached over to hold it. She seemed even more relieved than I. Midori tapped her cigarette ash onto the floor and stood up. \"Let\\'s go get something to eat. I\\'m starved,\" said Midori. \"Where to?\" \"The cafeteria at Takashimaya Department Store in Nihonbashi.\" 200 \"Why go all the way across town?\" \"I go there from time to time.\" So we boarded the subway for Nihonbashi. It had been pouring all day so there was hardly a soul in the department store. The whole store had a rainy day smell, and all the employees seemed somehow at a loss for something to do. We went to the cafeteria in the basement and did a thorough check of the menu samples in the window before set\\xadtling for the box lunch. The place was empty, despite it\\'s being noontime. \"It\\'s been forever since I ate in a department store cafeteria,\" I said, eyeing my glossy white teacup, the kind you virtually never see except in department store cafeterias. \"Me, I like them,\" said Midori. \"I always feel it\\'s something special. Childhood memories, no doubt. I only got taken to department stores on rare occa\\xadsions.\" \"I seem to remember going all the time. I guess because my mother liked to shop.\" \"How nice for you.\" \"Nothing of the kind. What\\'s so nice about going to department stores?\" \"Not that. I mean getting such attention as a kid.\" \"Well, I was an only child,\" I said. \"When I was a kid, I always thought that when I grew up, I\\'d come to department store cafeterias by myself. Then I\\'d eat anything I felt like, and as much of it as possible!\" said Midori. \"But what a 201 disappointment it turned out to be. Eati�g all alone is no fun at all, especially since the food\\'s not that great. Cafeterias are just big and crowded and poor\\xadly ventilated.\" \"These two months have been no fun at all, either.\" I changed the subject. \"So I read in your letters,\" said Midori, but without any emotion. \"What say we just eat? I don\\'t want to think about anything else just now.\" We polished off our box lunches, sipped our broth, drank our tea. Midori smoked a cigarette. When she\\'d finished smoking, she stood up without a word and grabbed her umbrella. I followed. \"Where do we go from here?\" I asked. \"Where else? We\\'ve come to a department store and eaten in the cafeteria. Next we go to the roof,\" said Midori. No one was up on the roof in the rain. There wasn\\'t any sales clerk at the pet counter, and the shutters were down on the snack stalls and ticket booths for the rooftop amusement park. We put up the umbrella and wandered among the wet rides and deck chairs. A wasteland smack in the heart of Tokyo! Midori said she wanted to look through the telescope, so I put in a coin and held the umbrella for her while she looked. There was a game center of sorts off in one cor\\xadner, with a line-up ofkiddy games. We sat ourselves 202 down side by side on a box and watched the rain falling. \"Talk to me,\" commanded Midori. \"You do have something you want to tell me, I believe.\" \"I don\\'t feel like making excuses. I\\'m so out of it. You really threw me for a loop. I just couldn\\'t think straight,\" I said. \"But one thing I did learn by not being able to see you. That is, it\\'s your being there that\\'s gotten me through. With you gone, nothing goes right.\" \"You probably don\\'t know this, Toru, but these two months without you have been hard on me, too.\" \"No, I had no idea,\" I said, rather surprised. \"I thought you were so fed up with me you never wanted to see me again.\" \"How can you be so blind? Of course I wanted to see you. I told you I care for you, didn\\'t I? I don\\'t switch off and on just like that, you know. I didn\\'t stop liking you. Didn\\'t that even register?\" \"Well, sure, I...\" \"Okay, I blew my top. I felt like kicking you a hundred times. I mean I hadn\\'t seen you in how long? But you were light-years away thinking about some other girl and not even looking in my direc\\xadtion. Of course I was furious. But even aside from that, I thought maybe I ought to put some distance between us. Just to set things straight.\" 203 \"Things?\" \"Things between you and me. Our relationship. Being with you is getting interesting, more in\\xadteresting than being with him. Which is as awk\\xadward as it is unnatural. Of course, I still like him and all, even if he is kind of a selfish, narrow\\xadminded fascist. He does have his good points, which is why I took an honest liking to him in the first place. But there\\'s something special about you, to me at least. Everything just falls into place when we\\'re together. I know I can trust you. I like you a lot. I don\\'t want to let you go. In other words, I\\'m all mixed up. That\\'s why I went to him and had a serious talk with him. Like, what should I do? Well, he told me not to see you again. That if I saw you again, it\\'d be over between us.\" \"So what did you do?\" \"We broke up nice and clean,\" said Midori, Marlboro in mouth, hand cupped around· a match flame, a puff of smoke on the way. \"But why?\" \"Why?\" Midori shouted back. \"What\\'s wrong with you? You understand the English subjunctive, you can handle number series, you\\'ve read your Marx, how can you be so thick? Why do you have to ask? Is there something that makes you need to have a girl come out and tell you? I like you better than him. What could possibly be clearer? I\\'d 204 rather have fallen for more of a hunk, you know, but too late now. I\\'m gone on you.\" I tried to say something, but the words caught in my throat. \" Midori �ossed her cigarette butt into a puddle. Hey, don t look so destroyed. You\\'re bringing me down with that face of yours. It\\'s okay. I know you\\'ve got someone else so I\\'m not making any demands. But you could at least give me a hug or two. These two months have really been the pits.\" So we embraced, umbrella held up, right there in the back of the game center. We held each other tight, our lips seeking each other. The scent of the rain was in her hair, in her collar. Her body so soft and warm. Through her jeans jacket I could feel her breasts against my chest. How long had it been since I\\'d held another human being? \"The last time I saw you, that very night I went to him and talked. And we broke up \" said Midori \"Y k I • ou now I\\'m crazy about you,\" I said. \"I mean it, from the bottom of my heart. I don\\'t want to be without you again. But it\\'s no good. I\\'m stuck and I can\\'t move.\" \"Because of her?\" I nodded. ::Hey, tell me this, have you ever slept with her?\" Just once, a year ago.\" \"And you haven\\'t seen her since?\" \"Twice. But we didn\\'t do anything,\" I said. \"And why not? Didn\\'t she like you any more?\" \"That\\'s not for me to say,\" I said. \"The whole situation\\'s pretty involved. With all sorts of prob\\xadlems jumbled into the works. And it\\'s been going on like this for a long time now, so there\\'s no telling what\\'s what. Not from my side or hers. All I can tell is that I have some kind of responsibility as a human being. It\\'s not something I can just cast aside. At least, that\\'s how I feel about it. Even if she didn\\'t love me.\" \"Hey, I\\'m a real live girl, you know,\" said Midori, pressing her cheek against my neck. \"What\\'s more, you\\'re holding me while I\\'m confessing my love for you. And if you told me how you wanted me to be, you know I\\'d make the effort. I may have my screwy aspects, but I\\'m a good kid. Honest, hard\\xadworking, thrifty, brave. I\\'m cute enough, got nice tits, can cook up a storm, and I\\'ve got Father\\'s in\\xadheritance and savings to boot. I\\'m a real bargain if you ask me! Offer good for a limited time only. If you don\\'t take me soon, I\\'ll disappear who knows where.\" · \"I need time,\" I said. \"Time to think, to sort things out, to decide. It\\'s awful of me, but for now that\\'s all I can say.\" \"But you are crazy about me, from the bottom of 206 your heart, right? You don\\'t want to let me go, et cetera.\" \"That\\'s right.\" Midori pulled away, then smiled at me. \"Okay, I\\'ll wait it out. Because I believe you,\" she said. \"But when you come for me, make sure it\\'s just me. And when you have me, make sure it\\'s just me you\\'re thinking abou-t. Am I getting through?\" \"Loud and clear.\" \"Also, I don\\'t care what you do with me, just don\\'t hurt me. I\\'ve bad enough hurt for one life already. So no more, please. I want to be happy.\" I drew her to me and kissed her. \"C\\'mon, put down that stupid umbrella so you can give me a decent hug with both arms,\" said Midori. \"We\\'ll get drenched.\" \"Fine by me. I just want to be held and not have to think about anything. I\\'ve put up with it for two months now.\" I put the umbrella at my feet and gave Midori · one rainy embrace. The dull drone of speeding automobile tires on the highway surrounded us like a dense fog. The rain fell steadily, noiselessly, soak\\xading through our hair, running like tears down our cheeks, darkening her jeans jacket and my yellow nylon windbreaker. 207 \"Isn\\'t it about time we headed somewhere under cover?\" I suggested. \"Come on over to my place. There\\'s nobody there. We\\'ll catch our death of cold like this.\" \"You said it.\" . \"We look like we just swam across a river or something,\" laughed Midori. \"And boy, I feel great!\" We bought a towel at the toiletries counter, then took turns going to the restrooms to dry our hair. Then we caught the subway to Myogadani and her apartment. Midori made me take a shower im\\xadmediately, then took one herself. I borrowed a bathrobe while my clothes dried and she changed into a polo shirt and skirt. Then we sat at the kitch-en table over coffee. . \"Tell me about yourself,\" commanded Midori. \"What about myself?\" \"Oh, I don\\'t know ... how about your dislikes?\" \"Well, I dislike chicken anq venereal disease and talkative barbers.\" \"What else?\" \"I dislike lonely April nights and lace doilies on telephones.\" \"What else?\" I shook my head. \"I can\\'t think of anything else.\" \"My boyfriend:-my ex-boyfriend-he disliked all sorts of things. My wearing short skirts and smok-208 ing and getting roaring drunk and talking dirty and insulting his friends. So you can tell me if there\\'s something you don\\'t like about me. A�d if it\\'s something I can change, I\\'ll change it.\" \"Can\\'t think of anything,\" I said with a shake of my head after a moment\\'s thought. \"Really.\" \"Really?\" \"I like all the things you wear, all the things you do and say, and how you get drunk-! like it all.\" \"You mean you\\'ll take me as I am?\" \"I can\\'t really think of anything to change, so as\\xadyou-are is fine.\" \"How much do you like me?\" Midori labored the question. \"Enough to melt all the tigers in all the jungles of the world into butter,\" said I. \"Uh-huh,\" said a partly satisfied Midori. \"Give me another hug.\" We embraced on Midori\\'s bed. Under the covers, we. listened to the sound of the rain and talked about everything imaginable, from the way the world came about to how we liked our eggs. \"I wonder what on earth ants do on rainy days,\" quizzed Midori. 11Don\\'t know,\" I said. \"Probably clean their ant holes and do stock-taking. They\\'re so industrious.\" \"If they\\'re so industrious, why are they still ants and haven\\'t evolved?\" 209 \"Don\\'t know that, either. But I guess it\\'s because their bodies are not made for evolving. I mean com\\xadpared to, say, apes.\" \"You really don\\'t know much, do you?\" said Midori. \"And I thought you were Mr. Know-It\\xadAll.\" \"There\\'s a whole lot out there to know.\" \"Mountains high, oceans deep,\" said Midori. Then she reached a hand inside my bathrobe to grab my erection. Then she took a breath. \"Sorry to have to say this, T oru, but no joke. This is just too big and hard. It\\'ll never fit. I refuse.\" \"Some joke,\" I said with a sigh. \"A good joke,\" giggled Midori. \"But it\\'s okay. Don\\'t worry. This size, it\\'ll fit just nicely. Can I see you close up?\" \"As you like,\" said I. Midori dove under the covers and played with my penis a while, pulling at it, weighing my balls in the palm of her hand. Then she popped her head out and sighed. \"I must say I do like your thing, though, and I\\'m not just saying that.\" \"Thanks,\" I said frankly enough. \"Still, I bet you don\\'t want to do it with me. Not until you set things straight for yourself.\" \"It\\'s not that I don\\'t want to,\" I pleaded. \"I want to so much I\\'m going out of my mind. It\\'s just that it wouldn\\'t be right.\" 210 \"Stubborn, aren\\'t you. I\\'d do it if I were you. Then maybe I\\'d think about it afterwards.\" \"Really?\" \"Just kidding,\" whispered Midori. \"I probably wouldn\\'t. If I were you, I\\'d do the \\'right thing,\\' which is really what I like about you. Really and tru-· ly.\" \"How much do you like me?\" I turned the tables on her, but she didn\\'t answer. Instead sh� moved her body up against mine, put her lips to my nipple and began to jerk me, nice and slow. The first thing that came to mind was how different her hand mo\\xadtions were from Naoko\\'s. Both were wonderful in their own way, but something was different, enough to make the experience entirely new. \"Say, Watanabe, you weren\\'t thinking of. an-other woman, were you?\" \"Not me,\" I lied. \"Honest?\" \"Honest.\" \"When we\\'re like this, there\\'s to be no thinking about other women.\" \"Wouldn\\'t dream of it,\" I said. \"Want to touch my breasts or you-know-where?\" \"I sure do, but I probably shouldn\\'t, not yet.· Do too much at once and the stimulation would be too strong.\" Midori nodded, then reached under the covers 211 to worm out of her panties and wrapped them around the tip of my penis. \"Here, come into these.\" \"But I\\'ll get them dirty.\" \"Say one more dumb thing and you\\'ll have me crying,\" said Midori on the edge of tears. \"I can wash them. Don\\'t hold back, just have a good come. And if it bothers you, buy me new ones. Or , · u e7\" is it that you can t come wtt�J m . \"Give me a break!\" \"Well, then, come. It\\'s okay.\" I ejaculated and she did a spot-check. \"Quite a lot!\" she said admiringly. \"Too much?\" · \"Not at all. Really! You can just fire away,\" she laughed and kissed me. Come evening, she went out to do some shop\\xadping in the neighborhood, then made dinner. Tem\\xadpura and rice with string beans. And beer. \"Eat well and make lots of sperm,\" said Midori. \"And I\\'ll shoot it off for you.\" \"Thanks,\" I said. \"I know lots of ways. I studied my women\\'s magazines when I minded the bookstore. Like for pregnant women who can\\'t do it the regular way, there are ways to do their husbands so they don\\'t 212 get any other ideas. There was a whole feature sec\\xadtion. Really all kinds of ways. Curious?\" \"Next time,\" I said. I left Midori\\'s and bought a newspaper at the sta\\xadtion to read on the train home. But when it came down to it, I didn\\'t really want to read and I didn\\'t understand when I tried to. I stared blankly at that incomprehensible spread, but I kept thinking about what lay ahead and how the situation might change around me. Occasionally, I\\'d feel the pulse of the world. I heaved a sigh and shut my eyes. I didn\\'t have one regret about the events of the day, and I felt sure that if I had to do everything all over again, I\\'d do it exactly the same. I\\'d embrace Midori on a rainswept roof, get dripping wet, have her do me by hand in her bed. That much I had no doubt of. I liked Midori and was overjoyed to have her back beside me. The two of us ought to make a go of it, I thought. And, as she herself had said, here was a real live girl, a warm-blooded body to hold in my arms. It was all I could do to hold back the yearn\\xading to get her naked and plunge inside that warmth. There was no way I could have stopped once those fingers of hers took me in hand, slowly, surely. That\\'s what I wanted, that\\'s what she wanted. We were already in love. Who was going to stop us? So I was in love with Midori. I should have 213 known before. I\\'d just been avoiding the obvious conclusion. The problem was how to explain these new developments to Naoko. Forget about it until so�e other time. There was no way I could tell Naoko m her present condition that I\\'d fallen for another girl. And, anyway, I did love Naoko. No matter how strange or twisted that love, there was no mistake. I did love her, and I still kept a large space untouched in my heart for Naoko. All I could do was write everything openly and honestly to Reiko. On returning home, I sat on the veranda looking out on the dark rainy night garden as I lined up the words in my head. Then I went .to my desk to write. \"It pains me to have to wnte this,\" I began my letter to Reiko, and I went into a lengthy description of Midori and me thus far, ex\\xadplaining everything that had gone on that day. \"I came to love N aoko and I love her still. Yet what exists between Midori and me is in some sense definitive. It\\'s nothing I can resist, a relentless power I know will drive us further and further. What I feel for Naoko is so very quiet and gentle and pure, but what I feel for Midori is an emotion of a whole other kind. It has a life of its own. It stands up and walks and breathes. Its heartbeat makes me tremble. I don\\'t mean to make excuses, but I\\'ve tried in my own way to live sincerely and 214 have not lied to anyone. I\\'ve taken pains to try not to hurt anyone. So why have I been cast into this maze? I have no idea. What am I to do? I have no one to talk to but you.\" I affixed special delivery postage and mailed it that very night. Reiko\\'s reply, dated June 17, came five days later. \"Regards. \"First, the good news. \"Naoko\\'s getting better sooner than we expected. I talked to her once on the telephone and her speech was very lucid. At this rate she might even be able to return here before long. \"Next, about you. \"I think it\\'s wrong for you to take everything so seriously. It\\'s a wonderful thing to love someone, and if that love is sincere it won\\'t cast you into a maze. Have confidence in yourself. \"My warning to you is thus quite simple. First of all, if you\\'re strongly attracted to this Midori, then naturally you\\'ll fall in love with her. It might go well, it might not. But that\\'s the nature of love. It\\'s entirely natural that if you fall in love, you give yourself over to it completely. Or so I believe. It is but another form of sincerity. \"Second, this question of whether or not you 215 have sex with this Midori is no business of mine. You should talk things over with her and reach some suitable decision. \"Third, please say nothing of this to Naoko. If it comes time to have to tell her, then let us both think of a good plan of action. But for the time be\\xading, mum\\'s the word. Please believe me. \"Fourth, you\\'ve been a great strength to Naoko up to now, so that even if you cease to want her as a lover, there\\'s still lots you can do for her. So don\\'t take each and every thing so seriously. We (both the sane and the not-so-sane, that is) are imperfect people living in an imperfect world. We don\\'t live our lives by rulers or protractors or bank accounts, do we? \"If I might state my own feeling, I think this Midori is probably one amazing girl. I can tell that just reading your letter. And I also understand how you can be attracted to Naoko at the same time. It\\'s no crime. It happens all the time in this big, wide world. You set sail on a lovely lake on a beautiful day, and you\\'re bound to say how nice the sky and the water look. So stop torturing yourself. Let things take their natural course. Do your best and still somebody gets hurt. That\\'s life. I don\\'t want to sound like I\\'m lecturing you, but it\\'s time you learned that lesson. Sometimes you try too hard to make life conform to you. If you don\\'t want to wind 216 up in an institution, you should open up a little more and give yourself over to living. Even a weak\\xadwilled imperfect woman such as I sometimes has to marvel at the sheer wonder of living. Really! So you have every reason to be even happier. Make an ef\\xadfort to be happy. \"Of course I\\'m sorry no happy ending awaits you and Naoko. But, in the end, who\\'s to say what is or isn\\'t for the best? Therefore, don\\'t hold back on anyone\\'s account. Take advantage of every oppor\\xadtunity you have to be happy. In my humble ex\\xadperience, such opportunities come but two or three times in a lifetime. Let them slip by and you\\'ll regret it your whole life. · \"I play the guitar every day with no one around to hear. What a bore! I hate rainy nights. Someday I hope to play guitar for both you and Naoko while eating grapes in the room here. \"All for now, \"Reiko Ishida.\" 217 '"
      ]
     },
     "execution_count": 73,
     "metadata": {},
     "output_type": "execute_result"
    }
   ],
   "source": [
    "chaps[4]"
   ]
  },
  {
   "cell_type": "code",
   "execution_count": 75,
   "metadata": {},
   "outputs": [],
   "source": [
    "# pattern = re.compile(r'(\\d+) ([\\w\\W]+)')\n",
    "# temp = re.findall(pattern, chaps[0])"
   ]
  },
  {
   "cell_type": "code",
   "execution_count": 78,
   "metadata": {},
   "outputs": [],
   "source": [
    "texts = chaps"
   ]
  },
  {
   "cell_type": "code",
   "execution_count": 80,
   "metadata": {},
   "outputs": [],
   "source": [
    "# pattern1 = re.compile(r'(\\d+) \\n ([\\d\\w\\W\\n]+ \\n ♦ \\n [^\\n]+) \\n ([\\w\\W]+)')\n",
    "#  second pattern for some irregular chapters - useful finding first few all capitals\n",
    "# pattern2 = re.compile(r'(\\d+) \\n ([\\d\\w\\W]+) \\n ([A-Z]{1,}\\s[A-Z]{2,}[\\d\\w\\W]+)')\n",
    "pattern = re.compile(r'(\\d+) ([\\w\\W]+)')\n",
    "\n",
    "ch_nos = []\n",
    "# ch_titles = []\n",
    "ch_texts = []\n",
    "\n",
    "for t in range(0,len(texts)):\n",
    "#     print(t)\n",
    "    out = re.findall(pattern, texts[t])\n",
    "    if len(out) > 0:\n",
    "        ch_nos.append(out[0][0])\n",
    "#         ch_titles.append(out[0][1])\n",
    "        ch_texts.append(out[0][1])\n",
    "    else:\n",
    "        ch_nos.append(None)\n",
    "#         ch_titles.append(None)\n",
    "        ch_texts.append(None)"
   ]
  },
  {
   "cell_type": "code",
   "execution_count": 102,
   "metadata": {},
   "outputs": [
    {
     "data": {
      "text/html": [
       "<div>\n",
       "<style scoped>\n",
       "    .dataframe tbody tr th:only-of-type {\n",
       "        vertical-align: middle;\n",
       "    }\n",
       "\n",
       "    .dataframe tbody tr th {\n",
       "        vertical-align: top;\n",
       "    }\n",
       "\n",
       "    .dataframe thead th {\n",
       "        text-align: right;\n",
       "    }\n",
       "</style>\n",
       "<table border=\"1\" class=\"dataframe\">\n",
       "  <thead>\n",
       "    <tr style=\"text-align: right;\">\n",
       "      <th></th>\n",
       "      <th>number</th>\n",
       "      <th>title</th>\n",
       "      <th>text</th>\n",
       "    </tr>\n",
       "  </thead>\n",
       "  <tbody>\n",
       "    <tr>\n",
       "      <th>0</th>\n",
       "      <td>6</td>\n",
       "      <td>6</td>\n",
       "      <td>(rontinutd) The scene at dinner was pretty muc...</td>\n",
       "    </tr>\n",
       "    <tr>\n",
       "      <th>1</th>\n",
       "      <td>7</td>\n",
       "      <td>7</td>\n",
       "      <td>The next day I had my Thursday morning gym cla...</td>\n",
       "    </tr>\n",
       "    <tr>\n",
       "      <th>2</th>\n",
       "      <td>8</td>\n",
       "      <td>8</td>\n",
       "      <td>In the middle of the week I cut my hand badly ...</td>\n",
       "    </tr>\n",
       "    <tr>\n",
       "      <th>3</th>\n",
       "      <td>9</td>\n",
       "      <td>9</td>\n",
       "      <td>Midori didn't show for up the following Monday...</td>\n",
       "    </tr>\n",
       "    <tr>\n",
       "      <th>4</th>\n",
       "      <td>10</td>\n",
       "      <td>10</td>\n",
       "      <td>1969 was one hopeless swamp of a year. I felt ...</td>\n",
       "    </tr>\n",
       "    <tr>\n",
       "      <th>5</th>\n",
       "      <td>11</td>\n",
       "      <td>11</td>\n",
       "      <td>Even after Naoko died, Reiko continued to writ...</td>\n",
       "    </tr>\n",
       "  </tbody>\n",
       "</table>\n",
       "</div>"
      ],
      "text/plain": [
       "  number title                                               text\n",
       "0      6     6  (rontinutd) The scene at dinner was pretty muc...\n",
       "1      7     7  The next day I had my Thursday morning gym cla...\n",
       "2      8     8  In the middle of the week I cut my hand badly ...\n",
       "3      9     9  Midori didn't show for up the following Monday...\n",
       "4     10    10  1969 was one hopeless swamp of a year. I felt ...\n",
       "5     11    11  Even after Naoko died, Reiko continued to writ..."
      ]
     },
     "execution_count": 102,
     "metadata": {},
     "output_type": "execute_result"
    }
   ],
   "source": [
    "chapters = pd.DataFrame({'number': ch_nos, 'title': ch_nos, 'text': ch_texts})\n",
    "chapters.head(10)"
   ]
  },
  {
   "cell_type": "code",
   "execution_count": 104,
   "metadata": {},
   "outputs": [],
   "source": [
    "chapters.iloc[0,2] = chapters.iloc[0,2].split('(rontinutd) ')[1]"
   ]
  },
  {
   "cell_type": "code",
   "execution_count": 105,
   "metadata": {},
   "outputs": [
    {
     "data": {
      "text/html": [
       "<div>\n",
       "<style scoped>\n",
       "    .dataframe tbody tr th:only-of-type {\n",
       "        vertical-align: middle;\n",
       "    }\n",
       "\n",
       "    .dataframe tbody tr th {\n",
       "        vertical-align: top;\n",
       "    }\n",
       "\n",
       "    .dataframe thead th {\n",
       "        text-align: right;\n",
       "    }\n",
       "</style>\n",
       "<table border=\"1\" class=\"dataframe\">\n",
       "  <thead>\n",
       "    <tr style=\"text-align: right;\">\n",
       "      <th></th>\n",
       "      <th>number</th>\n",
       "      <th>title</th>\n",
       "      <th>text</th>\n",
       "    </tr>\n",
       "  </thead>\n",
       "  <tbody>\n",
       "    <tr>\n",
       "      <th>0</th>\n",
       "      <td>6</td>\n",
       "      <td>6</td>\n",
       "      <td>The scene at dinner was pretty much the same a...</td>\n",
       "    </tr>\n",
       "    <tr>\n",
       "      <th>1</th>\n",
       "      <td>7</td>\n",
       "      <td>7</td>\n",
       "      <td>The next day I had my Thursday morning gym cla...</td>\n",
       "    </tr>\n",
       "    <tr>\n",
       "      <th>2</th>\n",
       "      <td>8</td>\n",
       "      <td>8</td>\n",
       "      <td>In the middle of the week I cut my hand badly ...</td>\n",
       "    </tr>\n",
       "    <tr>\n",
       "      <th>3</th>\n",
       "      <td>9</td>\n",
       "      <td>9</td>\n",
       "      <td>Midori didn't show for up the following Monday...</td>\n",
       "    </tr>\n",
       "    <tr>\n",
       "      <th>4</th>\n",
       "      <td>10</td>\n",
       "      <td>10</td>\n",
       "      <td>1969 was one hopeless swamp of a year. I felt ...</td>\n",
       "    </tr>\n",
       "    <tr>\n",
       "      <th>5</th>\n",
       "      <td>11</td>\n",
       "      <td>11</td>\n",
       "      <td>Even after Naoko died, Reiko continued to writ...</td>\n",
       "    </tr>\n",
       "  </tbody>\n",
       "</table>\n",
       "</div>"
      ],
      "text/plain": [
       "  number title                                               text\n",
       "0      6     6  The scene at dinner was pretty much the same a...\n",
       "1      7     7  The next day I had my Thursday morning gym cla...\n",
       "2      8     8  In the middle of the week I cut my hand badly ...\n",
       "3      9     9  Midori didn't show for up the following Monday...\n",
       "4     10    10  1969 was one hopeless swamp of a year. I felt ...\n",
       "5     11    11  Even after Naoko died, Reiko continued to writ..."
      ]
     },
     "execution_count": 105,
     "metadata": {},
     "output_type": "execute_result"
    }
   ],
   "source": [
    "chapters.head(10)"
   ]
  },
  {
   "cell_type": "code",
   "execution_count": 106,
   "metadata": {},
   "outputs": [],
   "source": [
    "# function to find indices of full stops in a text\n",
    "def fs_indexer(x):\n",
    "    return [i for i, char in enumerate(x) if char == \".\"]"
   ]
  },
  {
   "cell_type": "code",
   "execution_count": 107,
   "metadata": {},
   "outputs": [],
   "source": [
    "chapters['fstop_indices'] = chapters['text'].apply(lambda x: fs_indexer(x))"
   ]
  },
  {
   "cell_type": "code",
   "execution_count": 108,
   "metadata": {},
   "outputs": [
    {
     "data": {
      "text/html": [
       "<div>\n",
       "<style scoped>\n",
       "    .dataframe tbody tr th:only-of-type {\n",
       "        vertical-align: middle;\n",
       "    }\n",
       "\n",
       "    .dataframe tbody tr th {\n",
       "        vertical-align: top;\n",
       "    }\n",
       "\n",
       "    .dataframe thead th {\n",
       "        text-align: right;\n",
       "    }\n",
       "</style>\n",
       "<table border=\"1\" class=\"dataframe\">\n",
       "  <thead>\n",
       "    <tr style=\"text-align: right;\">\n",
       "      <th></th>\n",
       "      <th>number</th>\n",
       "      <th>title</th>\n",
       "      <th>text</th>\n",
       "      <th>fstop_indices</th>\n",
       "    </tr>\n",
       "  </thead>\n",
       "  <tbody>\n",
       "    <tr>\n",
       "      <th>0</th>\n",
       "      <td>6</td>\n",
       "      <td>6</td>\n",
       "      <td>The scene at dinner was pretty much the same a...</td>\n",
       "      <td>[102, 129, 295, 405, 510, 567, 721, 797, 831, ...</td>\n",
       "    </tr>\n",
       "    <tr>\n",
       "      <th>1</th>\n",
       "      <td>7</td>\n",
       "      <td>7</td>\n",
       "      <td>The next day I had my Thursday morning gym cla...</td>\n",
       "      <td>[48, 131, 161, 336, 437, 472, 496, 498, 535, 5...</td>\n",
       "    </tr>\n",
       "    <tr>\n",
       "      <th>2</th>\n",
       "      <td>8</td>\n",
       "      <td>8</td>\n",
       "      <td>In the middle of the week I cut my hand badly ...</td>\n",
       "      <td>[124, 225, 360, 466, 511, 607, 672, 742, 880, ...</td>\n",
       "    </tr>\n",
       "    <tr>\n",
       "      <th>3</th>\n",
       "      <td>9</td>\n",
       "      <td>9</td>\n",
       "      <td>Midori didn't show for up the following Monday...</td>\n",
       "      <td>[56, 139, 224, 281, 360, 373, 409, 478, 503, 5...</td>\n",
       "    </tr>\n",
       "    <tr>\n",
       "      <th>4</th>\n",
       "      <td>10</td>\n",
       "      <td>10</td>\n",
       "      <td>1969 was one hopeless swamp of a year. I felt ...</td>\n",
       "      <td>[37, 162, 219, 263, 313, 373, 468, 511, 554, 6...</td>\n",
       "    </tr>\n",
       "    <tr>\n",
       "      <th>5</th>\n",
       "      <td>11</td>\n",
       "      <td>11</td>\n",
       "      <td>Even after Naoko died, Reiko continued to writ...</td>\n",
       "      <td>[166, 206, 347, 523, 574, 663, 767, 933, 993, ...</td>\n",
       "    </tr>\n",
       "  </tbody>\n",
       "</table>\n",
       "</div>"
      ],
      "text/plain": [
       "  number title                                               text  \\\n",
       "0      6     6  The scene at dinner was pretty much the same a...   \n",
       "1      7     7  The next day I had my Thursday morning gym cla...   \n",
       "2      8     8  In the middle of the week I cut my hand badly ...   \n",
       "3      9     9  Midori didn't show for up the following Monday...   \n",
       "4     10    10  1969 was one hopeless swamp of a year. I felt ...   \n",
       "5     11    11  Even after Naoko died, Reiko continued to writ...   \n",
       "\n",
       "                                       fstop_indices  \n",
       "0  [102, 129, 295, 405, 510, 567, 721, 797, 831, ...  \n",
       "1  [48, 131, 161, 336, 437, 472, 496, 498, 535, 5...  \n",
       "2  [124, 225, 360, 466, 511, 607, 672, 742, 880, ...  \n",
       "3  [56, 139, 224, 281, 360, 373, 409, 478, 503, 5...  \n",
       "4  [37, 162, 219, 263, 313, 373, 468, 511, 554, 6...  \n",
       "5  [166, 206, 347, 523, 574, 663, 767, 933, 993, ...  "
      ]
     },
     "execution_count": 108,
     "metadata": {},
     "output_type": "execute_result"
    }
   ],
   "source": [
    "chapters.dropna(inplace=True)\n",
    "chapters.tail(30)"
   ]
  },
  {
   "cell_type": "code",
   "execution_count": 109,
   "metadata": {},
   "outputs": [],
   "source": [
    "# function to find indices of full stops in a text\n",
    "def split_indexer(text, n=1000):\n",
    "    fstop_indices = fs_indexer(text)\n",
    "    split_indices = []\n",
    "    try:\n",
    "        for j in range(n, len(text), n):\n",
    "            i = 0\n",
    "    # keep going through the indices while less than the 1000 step\n",
    "            while fstop_indices[i] < j:\n",
    "                i += 1\n",
    "    # append list with the index of the full stop before the 1000 step\n",
    "            split_indices.append(fstop_indices[i-1])\n",
    "    except:\n",
    "        split_indices = np.NaN\n",
    "\n",
    "\n",
    "    return split_indices"
   ]
  },
  {
   "cell_type": "code",
   "execution_count": 110,
   "metadata": {},
   "outputs": [],
   "source": [
    "chapters['split_indices'] = chapters['text'].apply(lambda x: split_indexer(x))"
   ]
  },
  {
   "cell_type": "code",
   "execution_count": 111,
   "metadata": {},
   "outputs": [
    {
     "data": {
      "text/html": [
       "<div>\n",
       "<style scoped>\n",
       "    .dataframe tbody tr th:only-of-type {\n",
       "        vertical-align: middle;\n",
       "    }\n",
       "\n",
       "    .dataframe tbody tr th {\n",
       "        vertical-align: top;\n",
       "    }\n",
       "\n",
       "    .dataframe thead th {\n",
       "        text-align: right;\n",
       "    }\n",
       "</style>\n",
       "<table border=\"1\" class=\"dataframe\">\n",
       "  <thead>\n",
       "    <tr style=\"text-align: right;\">\n",
       "      <th></th>\n",
       "      <th>number</th>\n",
       "      <th>title</th>\n",
       "      <th>text</th>\n",
       "      <th>fstop_indices</th>\n",
       "      <th>split_indices</th>\n",
       "    </tr>\n",
       "  </thead>\n",
       "  <tbody>\n",
       "    <tr>\n",
       "      <th>0</th>\n",
       "      <td>6</td>\n",
       "      <td>6</td>\n",
       "      <td>The scene at dinner was pretty much the same a...</td>\n",
       "      <td>[102, 129, 295, 405, 510, 567, 721, 797, 831, ...</td>\n",
       "      <td>[972, 1932, 2907, 3973, 4815, 5932, 6960, 7985...</td>\n",
       "    </tr>\n",
       "    <tr>\n",
       "      <th>1</th>\n",
       "      <td>7</td>\n",
       "      <td>7</td>\n",
       "      <td>The next day I had my Thursday morning gym cla...</td>\n",
       "      <td>[48, 131, 161, 336, 437, 472, 496, 498, 535, 5...</td>\n",
       "      <td>[995, 1948, 2985, 3990, 4982, 5932, 6917, 7947...</td>\n",
       "    </tr>\n",
       "    <tr>\n",
       "      <th>2</th>\n",
       "      <td>8</td>\n",
       "      <td>8</td>\n",
       "      <td>In the middle of the week I cut my hand badly ...</td>\n",
       "      <td>[124, 225, 360, 466, 511, 607, 672, 742, 880, ...</td>\n",
       "      <td>[909, 1995, 2824, 3948, 4974, 5963, 6956, 7959...</td>\n",
       "    </tr>\n",
       "    <tr>\n",
       "      <th>3</th>\n",
       "      <td>9</td>\n",
       "      <td>9</td>\n",
       "      <td>Midori didn't show for up the following Monday...</td>\n",
       "      <td>[56, 139, 224, 281, 360, 373, 409, 478, 503, 5...</td>\n",
       "      <td>[976, 1999, 2948, 3979, 4981, 5972, 6978, 7962...</td>\n",
       "    </tr>\n",
       "    <tr>\n",
       "      <th>4</th>\n",
       "      <td>10</td>\n",
       "      <td>10</td>\n",
       "      <td>1969 was one hopeless swamp of a year. I felt ...</td>\n",
       "      <td>[37, 162, 219, 263, 313, 373, 468, 511, 554, 6...</td>\n",
       "      <td>[934, 1980, 2918, 3984, 4963, 5963, 6958, 7914...</td>\n",
       "    </tr>\n",
       "    <tr>\n",
       "      <th>5</th>\n",
       "      <td>11</td>\n",
       "      <td>11</td>\n",
       "      <td>Even after Naoko died, Reiko continued to writ...</td>\n",
       "      <td>[166, 206, 347, 523, 574, 663, 767, 933, 993, ...</td>\n",
       "      <td>[993, 1988, 2945, 3960, 4950, 5948, 6958, 7938...</td>\n",
       "    </tr>\n",
       "  </tbody>\n",
       "</table>\n",
       "</div>"
      ],
      "text/plain": [
       "  number title                                               text  \\\n",
       "0      6     6  The scene at dinner was pretty much the same a...   \n",
       "1      7     7  The next day I had my Thursday morning gym cla...   \n",
       "2      8     8  In the middle of the week I cut my hand badly ...   \n",
       "3      9     9  Midori didn't show for up the following Monday...   \n",
       "4     10    10  1969 was one hopeless swamp of a year. I felt ...   \n",
       "5     11    11  Even after Naoko died, Reiko continued to writ...   \n",
       "\n",
       "                                       fstop_indices  \\\n",
       "0  [102, 129, 295, 405, 510, 567, 721, 797, 831, ...   \n",
       "1  [48, 131, 161, 336, 437, 472, 496, 498, 535, 5...   \n",
       "2  [124, 225, 360, 466, 511, 607, 672, 742, 880, ...   \n",
       "3  [56, 139, 224, 281, 360, 373, 409, 478, 503, 5...   \n",
       "4  [37, 162, 219, 263, 313, 373, 468, 511, 554, 6...   \n",
       "5  [166, 206, 347, 523, 574, 663, 767, 933, 993, ...   \n",
       "\n",
       "                                       split_indices  \n",
       "0  [972, 1932, 2907, 3973, 4815, 5932, 6960, 7985...  \n",
       "1  [995, 1948, 2985, 3990, 4982, 5932, 6917, 7947...  \n",
       "2  [909, 1995, 2824, 3948, 4974, 5963, 6956, 7959...  \n",
       "3  [976, 1999, 2948, 3979, 4981, 5972, 6978, 7962...  \n",
       "4  [934, 1980, 2918, 3984, 4963, 5963, 6958, 7914...  \n",
       "5  [993, 1988, 2945, 3960, 4950, 5948, 6958, 7938...  "
      ]
     },
     "execution_count": 111,
     "metadata": {},
     "output_type": "execute_result"
    }
   ],
   "source": [
    "chapters.tail(20)"
   ]
  },
  {
   "cell_type": "code",
   "execution_count": 112,
   "metadata": {},
   "outputs": [],
   "source": [
    "chapters.dropna(inplace=True)"
   ]
  },
  {
   "cell_type": "code",
   "execution_count": 113,
   "metadata": {},
   "outputs": [],
   "source": [
    "# function to chunk a text\n",
    "def text_chunker(text):\n",
    "    split_indices = split_indexer(text)\n",
    "    chunks = []\n",
    "    for i, idx in enumerate(split_indices):\n",
    "# if first split then start at index 0 and keep up to the full stop index (including the full stop)\n",
    "        if i == 0:\n",
    "            chunks.append(text[0:idx+1])\n",
    "# else start from the end of the previous chunk after the full stop until the next\n",
    "        else:\n",
    "            chunks.append(text[split_indices[i-1]+2:idx+1])\n",
    "    return chunks"
   ]
  },
  {
   "cell_type": "code",
   "execution_count": 114,
   "metadata": {},
   "outputs": [],
   "source": [
    "chapters['chunks'] = chapters['text'].apply(lambda x: text_chunker(x))"
   ]
  },
  {
   "cell_type": "code",
   "execution_count": 115,
   "metadata": {},
   "outputs": [
    {
     "data": {
      "text/html": [
       "<div>\n",
       "<style scoped>\n",
       "    .dataframe tbody tr th:only-of-type {\n",
       "        vertical-align: middle;\n",
       "    }\n",
       "\n",
       "    .dataframe tbody tr th {\n",
       "        vertical-align: top;\n",
       "    }\n",
       "\n",
       "    .dataframe thead th {\n",
       "        text-align: right;\n",
       "    }\n",
       "</style>\n",
       "<table border=\"1\" class=\"dataframe\">\n",
       "  <thead>\n",
       "    <tr style=\"text-align: right;\">\n",
       "      <th></th>\n",
       "      <th>number</th>\n",
       "      <th>title</th>\n",
       "      <th>text</th>\n",
       "      <th>fstop_indices</th>\n",
       "      <th>split_indices</th>\n",
       "      <th>chunks</th>\n",
       "    </tr>\n",
       "  </thead>\n",
       "  <tbody>\n",
       "    <tr>\n",
       "      <th>0</th>\n",
       "      <td>6</td>\n",
       "      <td>6</td>\n",
       "      <td>The scene at dinner was pretty much the same a...</td>\n",
       "      <td>[102, 129, 295, 405, 510, 567, 721, 797, 831, ...</td>\n",
       "      <td>[972, 1932, 2907, 3973, 4815, 5932, 6960, 7985...</td>\n",
       "      <td>[The scene at dinner was pretty much the same ...</td>\n",
       "    </tr>\n",
       "    <tr>\n",
       "      <th>1</th>\n",
       "      <td>7</td>\n",
       "      <td>7</td>\n",
       "      <td>The next day I had my Thursday morning gym cla...</td>\n",
       "      <td>[48, 131, 161, 336, 437, 472, 496, 498, 535, 5...</td>\n",
       "      <td>[995, 1948, 2985, 3990, 4982, 5932, 6917, 7947...</td>\n",
       "      <td>[The next day I had my Thursday morning gym cl...</td>\n",
       "    </tr>\n",
       "    <tr>\n",
       "      <th>2</th>\n",
       "      <td>8</td>\n",
       "      <td>8</td>\n",
       "      <td>In the middle of the week I cut my hand badly ...</td>\n",
       "      <td>[124, 225, 360, 466, 511, 607, 672, 742, 880, ...</td>\n",
       "      <td>[909, 1995, 2824, 3948, 4974, 5963, 6956, 7959...</td>\n",
       "      <td>[In the middle of the week I cut my hand badly...</td>\n",
       "    </tr>\n",
       "    <tr>\n",
       "      <th>3</th>\n",
       "      <td>9</td>\n",
       "      <td>9</td>\n",
       "      <td>Midori didn't show for up the following Monday...</td>\n",
       "      <td>[56, 139, 224, 281, 360, 373, 409, 478, 503, 5...</td>\n",
       "      <td>[976, 1999, 2948, 3979, 4981, 5972, 6978, 7962...</td>\n",
       "      <td>[Midori didn't show for up the following Monda...</td>\n",
       "    </tr>\n",
       "    <tr>\n",
       "      <th>4</th>\n",
       "      <td>10</td>\n",
       "      <td>10</td>\n",
       "      <td>1969 was one hopeless swamp of a year. I felt ...</td>\n",
       "      <td>[37, 162, 219, 263, 313, 373, 468, 511, 554, 6...</td>\n",
       "      <td>[934, 1980, 2918, 3984, 4963, 5963, 6958, 7914...</td>\n",
       "      <td>[1969 was one hopeless swamp of a year. I felt...</td>\n",
       "    </tr>\n",
       "  </tbody>\n",
       "</table>\n",
       "</div>"
      ],
      "text/plain": [
       "  number title                                               text  \\\n",
       "0      6     6  The scene at dinner was pretty much the same a...   \n",
       "1      7     7  The next day I had my Thursday morning gym cla...   \n",
       "2      8     8  In the middle of the week I cut my hand badly ...   \n",
       "3      9     9  Midori didn't show for up the following Monday...   \n",
       "4     10    10  1969 was one hopeless swamp of a year. I felt ...   \n",
       "\n",
       "                                       fstop_indices  \\\n",
       "0  [102, 129, 295, 405, 510, 567, 721, 797, 831, ...   \n",
       "1  [48, 131, 161, 336, 437, 472, 496, 498, 535, 5...   \n",
       "2  [124, 225, 360, 466, 511, 607, 672, 742, 880, ...   \n",
       "3  [56, 139, 224, 281, 360, 373, 409, 478, 503, 5...   \n",
       "4  [37, 162, 219, 263, 313, 373, 468, 511, 554, 6...   \n",
       "\n",
       "                                       split_indices  \\\n",
       "0  [972, 1932, 2907, 3973, 4815, 5932, 6960, 7985...   \n",
       "1  [995, 1948, 2985, 3990, 4982, 5932, 6917, 7947...   \n",
       "2  [909, 1995, 2824, 3948, 4974, 5963, 6956, 7959...   \n",
       "3  [976, 1999, 2948, 3979, 4981, 5972, 6978, 7962...   \n",
       "4  [934, 1980, 2918, 3984, 4963, 5963, 6958, 7914...   \n",
       "\n",
       "                                              chunks  \n",
       "0  [The scene at dinner was pretty much the same ...  \n",
       "1  [The next day I had my Thursday morning gym cl...  \n",
       "2  [In the middle of the week I cut my hand badly...  \n",
       "3  [Midori didn't show for up the following Monda...  \n",
       "4  [1969 was one hopeless swamp of a year. I felt...  "
      ]
     },
     "execution_count": 115,
     "metadata": {},
     "output_type": "execute_result"
    }
   ],
   "source": [
    "chapters.head()"
   ]
  },
  {
   "cell_type": "code",
   "execution_count": 116,
   "metadata": {},
   "outputs": [
    {
     "data": {
      "image/png": "[encoded data removed]",
      "text/plain": [
       "<Figure size 432x288 with 1 Axes>"
      ]
     },
     "metadata": {
      "image/png": {
       "height": 256,
       "width": 377
      },
      "needs_background": "light"
     },
     "output_type": "display_data"
    }
   ],
   "source": [
    "lengths = []\n",
    "for chapter in chapters['chunks']:\n",
    "    for chunk in chapter:\n",
    "        lengths.append(len(chunk))\n",
    "plt.hist(lengths, bins=20);"
   ]
  },
  {
   "cell_type": "code",
   "execution_count": 117,
   "metadata": {},
   "outputs": [
    {
     "data": {
      "text/plain": [
       "296"
      ]
     },
     "execution_count": 117,
     "metadata": {},
     "output_type": "execute_result"
    }
   ],
   "source": [
    "len(lengths)"
   ]
  },
  {
   "cell_type": "code",
   "execution_count": 118,
   "metadata": {},
   "outputs": [],
   "source": [
    "chapters['translator'] = 'Alfred Birnbaum'"
   ]
  },
  {
   "cell_type": "code",
   "execution_count": 119,
   "metadata": {},
   "outputs": [],
   "source": [
    "chapters['book_title'] = 'Norwegian Wood'"
   ]
  },
  {
   "cell_type": "code",
   "execution_count": 120,
   "metadata": {},
   "outputs": [
    {
     "data": {
      "text/html": [
       "<div>\n",
       "<style scoped>\n",
       "    .dataframe tbody tr th:only-of-type {\n",
       "        vertical-align: middle;\n",
       "    }\n",
       "\n",
       "    .dataframe tbody tr th {\n",
       "        vertical-align: top;\n",
       "    }\n",
       "\n",
       "    .dataframe thead th {\n",
       "        text-align: right;\n",
       "    }\n",
       "</style>\n",
       "<table border=\"1\" class=\"dataframe\">\n",
       "  <thead>\n",
       "    <tr style=\"text-align: right;\">\n",
       "      <th></th>\n",
       "      <th>number</th>\n",
       "      <th>title</th>\n",
       "      <th>text</th>\n",
       "      <th>fstop_indices</th>\n",
       "      <th>split_indices</th>\n",
       "      <th>chunks</th>\n",
       "      <th>translator</th>\n",
       "      <th>book_title</th>\n",
       "    </tr>\n",
       "  </thead>\n",
       "  <tbody>\n",
       "    <tr>\n",
       "      <th>0</th>\n",
       "      <td>6</td>\n",
       "      <td>6</td>\n",
       "      <td>The scene at dinner was pretty much the same a...</td>\n",
       "      <td>[102, 129, 295, 405, 510, 567, 721, 797, 831, ...</td>\n",
       "      <td>[972, 1932, 2907, 3973, 4815, 5932, 6960, 7985...</td>\n",
       "      <td>[The scene at dinner was pretty much the same ...</td>\n",
       "      <td>Alfred Birnbaum</td>\n",
       "      <td>Norwegian Wood</td>\n",
       "    </tr>\n",
       "    <tr>\n",
       "      <th>1</th>\n",
       "      <td>7</td>\n",
       "      <td>7</td>\n",
       "      <td>The next day I had my Thursday morning gym cla...</td>\n",
       "      <td>[48, 131, 161, 336, 437, 472, 496, 498, 535, 5...</td>\n",
       "      <td>[995, 1948, 2985, 3990, 4982, 5932, 6917, 7947...</td>\n",
       "      <td>[The next day I had my Thursday morning gym cl...</td>\n",
       "      <td>Alfred Birnbaum</td>\n",
       "      <td>Norwegian Wood</td>\n",
       "    </tr>\n",
       "    <tr>\n",
       "      <th>2</th>\n",
       "      <td>8</td>\n",
       "      <td>8</td>\n",
       "      <td>In the middle of the week I cut my hand badly ...</td>\n",
       "      <td>[124, 225, 360, 466, 511, 607, 672, 742, 880, ...</td>\n",
       "      <td>[909, 1995, 2824, 3948, 4974, 5963, 6956, 7959...</td>\n",
       "      <td>[In the middle of the week I cut my hand badly...</td>\n",
       "      <td>Alfred Birnbaum</td>\n",
       "      <td>Norwegian Wood</td>\n",
       "    </tr>\n",
       "    <tr>\n",
       "      <th>3</th>\n",
       "      <td>9</td>\n",
       "      <td>9</td>\n",
       "      <td>Midori didn't show for up the following Monday...</td>\n",
       "      <td>[56, 139, 224, 281, 360, 373, 409, 478, 503, 5...</td>\n",
       "      <td>[976, 1999, 2948, 3979, 4981, 5972, 6978, 7962...</td>\n",
       "      <td>[Midori didn't show for up the following Monda...</td>\n",
       "      <td>Alfred Birnbaum</td>\n",
       "      <td>Norwegian Wood</td>\n",
       "    </tr>\n",
       "    <tr>\n",
       "      <th>4</th>\n",
       "      <td>10</td>\n",
       "      <td>10</td>\n",
       "      <td>1969 was one hopeless swamp of a year. I felt ...</td>\n",
       "      <td>[37, 162, 219, 263, 313, 373, 468, 511, 554, 6...</td>\n",
       "      <td>[934, 1980, 2918, 3984, 4963, 5963, 6958, 7914...</td>\n",
       "      <td>[1969 was one hopeless swamp of a year. I felt...</td>\n",
       "      <td>Alfred Birnbaum</td>\n",
       "      <td>Norwegian Wood</td>\n",
       "    </tr>\n",
       "  </tbody>\n",
       "</table>\n",
       "</div>"
      ],
      "text/plain": [
       "  number title                                               text  \\\n",
       "0      6     6  The scene at dinner was pretty much the same a...   \n",
       "1      7     7  The next day I had my Thursday morning gym cla...   \n",
       "2      8     8  In the middle of the week I cut my hand badly ...   \n",
       "3      9     9  Midori didn't show for up the following Monday...   \n",
       "4     10    10  1969 was one hopeless swamp of a year. I felt ...   \n",
       "\n",
       "                                       fstop_indices  \\\n",
       "0  [102, 129, 295, 405, 510, 567, 721, 797, 831, ...   \n",
       "1  [48, 131, 161, 336, 437, 472, 496, 498, 535, 5...   \n",
       "2  [124, 225, 360, 466, 511, 607, 672, 742, 880, ...   \n",
       "3  [56, 139, 224, 281, 360, 373, 409, 478, 503, 5...   \n",
       "4  [37, 162, 219, 263, 313, 373, 468, 511, 554, 6...   \n",
       "\n",
       "                                       split_indices  \\\n",
       "0  [972, 1932, 2907, 3973, 4815, 5932, 6960, 7985...   \n",
       "1  [995, 1948, 2985, 3990, 4982, 5932, 6917, 7947...   \n",
       "2  [909, 1995, 2824, 3948, 4974, 5963, 6956, 7959...   \n",
       "3  [976, 1999, 2948, 3979, 4981, 5972, 6978, 7962...   \n",
       "4  [934, 1980, 2918, 3984, 4963, 5963, 6958, 7914...   \n",
       "\n",
       "                                              chunks       translator  \\\n",
       "0  [The scene at dinner was pretty much the same ...  Alfred Birnbaum   \n",
       "1  [The next day I had my Thursday morning gym cl...  Alfred Birnbaum   \n",
       "2  [In the middle of the week I cut my hand badly...  Alfred Birnbaum   \n",
       "3  [Midori didn't show for up the following Monda...  Alfred Birnbaum   \n",
       "4  [1969 was one hopeless swamp of a year. I felt...  Alfred Birnbaum   \n",
       "\n",
       "       book_title  \n",
       "0  Norwegian Wood  \n",
       "1  Norwegian Wood  \n",
       "2  Norwegian Wood  \n",
       "3  Norwegian Wood  \n",
       "4  Norwegian Wood  "
      ]
     },
     "execution_count": 120,
     "metadata": {},
     "output_type": "execute_result"
    }
   ],
   "source": [
    "chapters.head()"
   ]
  },
  {
   "cell_type": "code",
   "execution_count": 121,
   "metadata": {},
   "outputs": [],
   "source": [
    "out_path = '../../../../Documents/murakami/pkl2/'\n",
    "out_name = 'nw_birnbaum_v01'\n",
    "out_full_path = out_path + out_name + '.pkl'"
   ]
  },
  {
   "cell_type": "code",
   "execution_count": 122,
   "metadata": {},
   "outputs": [],
   "source": [
    "# save pickle\n",
    "with open(out_full_path, 'wb') as fp:\n",
    "    pickle.dump(chapters, fp)\n",
    "\n",
    "\n",
    "# read back pickle\n",
    "with open (out_full_path, 'rb') as fp:\n",
    "    read_nw = pickle.load(fp)"
   ]
  },
  {
   "cell_type": "code",
   "execution_count": 123,
   "metadata": {},
   "outputs": [
    {
     "data": {
      "text/html": [
       "<div>\n",
       "<style scoped>\n",
       "    .dataframe tbody tr th:only-of-type {\n",
       "        vertical-align: middle;\n",
       "    }\n",
       "\n",
       "    .dataframe tbody tr th {\n",
       "        vertical-align: top;\n",
       "    }\n",
       "\n",
       "    .dataframe thead th {\n",
       "        text-align: right;\n",
       "    }\n",
       "</style>\n",
       "<table border=\"1\" class=\"dataframe\">\n",
       "  <thead>\n",
       "    <tr style=\"text-align: right;\">\n",
       "      <th></th>\n",
       "      <th>number</th>\n",
       "      <th>title</th>\n",
       "      <th>text</th>\n",
       "      <th>fstop_indices</th>\n",
       "      <th>split_indices</th>\n",
       "      <th>chunks</th>\n",
       "      <th>translator</th>\n",
       "      <th>book_title</th>\n",
       "    </tr>\n",
       "  </thead>\n",
       "  <tbody>\n",
       "    <tr>\n",
       "      <th>0</th>\n",
       "      <td>6</td>\n",
       "      <td>6</td>\n",
       "      <td>The scene at dinner was pretty much the same a...</td>\n",
       "      <td>[102, 129, 295, 405, 510, 567, 721, 797, 831, ...</td>\n",
       "      <td>[972, 1932, 2907, 3973, 4815, 5932, 6960, 7985...</td>\n",
       "      <td>[The scene at dinner was pretty much the same ...</td>\n",
       "      <td>Alfred Birnbaum</td>\n",
       "      <td>Norwegian Wood</td>\n",
       "    </tr>\n",
       "    <tr>\n",
       "      <th>1</th>\n",
       "      <td>7</td>\n",
       "      <td>7</td>\n",
       "      <td>The next day I had my Thursday morning gym cla...</td>\n",
       "      <td>[48, 131, 161, 336, 437, 472, 496, 498, 535, 5...</td>\n",
       "      <td>[995, 1948, 2985, 3990, 4982, 5932, 6917, 7947...</td>\n",
       "      <td>[The next day I had my Thursday morning gym cl...</td>\n",
       "      <td>Alfred Birnbaum</td>\n",
       "      <td>Norwegian Wood</td>\n",
       "    </tr>\n",
       "    <tr>\n",
       "      <th>2</th>\n",
       "      <td>8</td>\n",
       "      <td>8</td>\n",
       "      <td>In the middle of the week I cut my hand badly ...</td>\n",
       "      <td>[124, 225, 360, 466, 511, 607, 672, 742, 880, ...</td>\n",
       "      <td>[909, 1995, 2824, 3948, 4974, 5963, 6956, 7959...</td>\n",
       "      <td>[In the middle of the week I cut my hand badly...</td>\n",
       "      <td>Alfred Birnbaum</td>\n",
       "      <td>Norwegian Wood</td>\n",
       "    </tr>\n",
       "    <tr>\n",
       "      <th>3</th>\n",
       "      <td>9</td>\n",
       "      <td>9</td>\n",
       "      <td>Midori didn't show for up the following Monday...</td>\n",
       "      <td>[56, 139, 224, 281, 360, 373, 409, 478, 503, 5...</td>\n",
       "      <td>[976, 1999, 2948, 3979, 4981, 5972, 6978, 7962...</td>\n",
       "      <td>[Midori didn't show for up the following Monda...</td>\n",
       "      <td>Alfred Birnbaum</td>\n",
       "      <td>Norwegian Wood</td>\n",
       "    </tr>\n",
       "    <tr>\n",
       "      <th>4</th>\n",
       "      <td>10</td>\n",
       "      <td>10</td>\n",
       "      <td>1969 was one hopeless swamp of a year. I felt ...</td>\n",
       "      <td>[37, 162, 219, 263, 313, 373, 468, 511, 554, 6...</td>\n",
       "      <td>[934, 1980, 2918, 3984, 4963, 5963, 6958, 7914...</td>\n",
       "      <td>[1969 was one hopeless swamp of a year. I felt...</td>\n",
       "      <td>Alfred Birnbaum</td>\n",
       "      <td>Norwegian Wood</td>\n",
       "    </tr>\n",
       "    <tr>\n",
       "      <th>5</th>\n",
       "      <td>11</td>\n",
       "      <td>11</td>\n",
       "      <td>Even after Naoko died, Reiko continued to writ...</td>\n",
       "      <td>[166, 206, 347, 523, 574, 663, 767, 933, 993, ...</td>\n",
       "      <td>[993, 1988, 2945, 3960, 4950, 5948, 6958, 7938...</td>\n",
       "      <td>[Even after Naoko died, Reiko continued to wri...</td>\n",
       "      <td>Alfred Birnbaum</td>\n",
       "      <td>Norwegian Wood</td>\n",
       "    </tr>\n",
       "  </tbody>\n",
       "</table>\n",
       "</div>"
      ],
      "text/plain": [
       "  number title                                               text  \\\n",
       "0      6     6  The scene at dinner was pretty much the same a...   \n",
       "1      7     7  The next day I had my Thursday morning gym cla...   \n",
       "2      8     8  In the middle of the week I cut my hand badly ...   \n",
       "3      9     9  Midori didn't show for up the following Monday...   \n",
       "4     10    10  1969 was one hopeless swamp of a year. I felt ...   \n",
       "5     11    11  Even after Naoko died, Reiko continued to writ...   \n",
       "\n",
       "                                       fstop_indices  \\\n",
       "0  [102, 129, 295, 405, 510, 567, 721, 797, 831, ...   \n",
       "1  [48, 131, 161, 336, 437, 472, 496, 498, 535, 5...   \n",
       "2  [124, 225, 360, 466, 511, 607, 672, 742, 880, ...   \n",
       "3  [56, 139, 224, 281, 360, 373, 409, 478, 503, 5...   \n",
       "4  [37, 162, 219, 263, 313, 373, 468, 511, 554, 6...   \n",
       "5  [166, 206, 347, 523, 574, 663, 767, 933, 993, ...   \n",
       "\n",
       "                                       split_indices  \\\n",
       "0  [972, 1932, 2907, 3973, 4815, 5932, 6960, 7985...   \n",
       "1  [995, 1948, 2985, 3990, 4982, 5932, 6917, 7947...   \n",
       "2  [909, 1995, 2824, 3948, 4974, 5963, 6956, 7959...   \n",
       "3  [976, 1999, 2948, 3979, 4981, 5972, 6978, 7962...   \n",
       "4  [934, 1980, 2918, 3984, 4963, 5963, 6958, 7914...   \n",
       "5  [993, 1988, 2945, 3960, 4950, 5948, 6958, 7938...   \n",
       "\n",
       "                                              chunks       translator  \\\n",
       "0  [The scene at dinner was pretty much the same ...  Alfred Birnbaum   \n",
       "1  [The next day I had my Thursday morning gym cl...  Alfred Birnbaum   \n",
       "2  [In the middle of the week I cut my hand badly...  Alfred Birnbaum   \n",
       "3  [Midori didn't show for up the following Monda...  Alfred Birnbaum   \n",
       "4  [1969 was one hopeless swamp of a year. I felt...  Alfred Birnbaum   \n",
       "5  [Even after Naoko died, Reiko continued to wri...  Alfred Birnbaum   \n",
       "\n",
       "       book_title  \n",
       "0  Norwegian Wood  \n",
       "1  Norwegian Wood  \n",
       "2  Norwegian Wood  \n",
       "3  Norwegian Wood  \n",
       "4  Norwegian Wood  \n",
       "5  Norwegian Wood  "
      ]
     },
     "execution_count": 123,
     "metadata": {},
     "output_type": "execute_result"
    }
   ],
   "source": [
    "read_nw"
   ]
  },
  {
   "cell_type": "code",
   "execution_count": null,
   "metadata": {},
   "outputs": [],
   "source": []
  }
 ],
 "metadata": {
  "kernelspec": {
   "display_name": "textacy",
   "language": "python",
   "name": "textacy"
  },
  "language_info": {
   "codemirror_mode": {
    "name": "ipython",
    "version": 3
   },
   "file_extension": ".py",
   "mimetype": "text/x-python",
   "name": "python",
   "nbconvert_exporter": "python",
   "pygments_lexer": "ipython3",
   "version": "3.8.2"
  }
 },
 "nbformat": 4,
 "nbformat_minor": 2
}
