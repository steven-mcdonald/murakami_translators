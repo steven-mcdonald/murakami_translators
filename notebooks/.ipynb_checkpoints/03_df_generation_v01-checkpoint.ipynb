{
 "cells": [
  {
   "cell_type": "markdown",
   "metadata": {},
   "source": [
    "# Generate Main Dataframe\n",
    "* read in pickles of individual book dataframes\n",
    "* merge dataframes\n",
    "* generate useful features\n",
    "* export to a pickle"
   ]
  },
  {
   "cell_type": "code",
   "execution_count": 2,
   "metadata": {
    "ExecuteTime": {
     "end_time": "2020-06-15T15:37:23.925736Z",
     "start_time": "2020-06-15T15:37:23.905950Z"
    }
   },
   "outputs": [],
   "source": [
    "import pandas as pd\n",
    "import numpy as np\n",
    "import matplotlib.pyplot as plt\n",
    "import seaborn as sns\n",
    "# sns.set(font_scale=1.5)\n",
    "\n",
    "import pickle\n",
    "import os\n",
    "\n",
    "%config InlineBackend.figure_format = 'retina'\n",
    "%matplotlib inline\n",
    "\n",
    "import textacy\n",
    "import re\n",
    "\n",
    "from sklearn.model_selection import train_test_split, cross_val_score\n",
    "from sklearn.preprocessing import StandardScaler\n",
    "from sklearn.linear_model import LogisticRegression\n",
    "from sklearn.metrics import confusion_matrix\n",
    "from vaderSentiment.vaderSentiment import SentimentIntensityAnalyzer\n",
    "\n",
    "from sklearn.feature_extraction import DictVectorizer\n",
    "\n",
    "from collections import Counter\n",
    "\n",
    "# extend limit of number of rows and columns to display in cell\n",
    "pd.options.display.max_rows = 100\n",
    "pd.options.display.max_columns = 100"
   ]
  },
  {
   "cell_type": "code",
   "execution_count": 2,
   "metadata": {
    "ExecuteTime": {
     "end_time": "2020-06-13T14:22:10.982403Z",
     "start_time": "2020-06-13T14:22:10.970132Z"
    }
   },
   "outputs": [
    {
     "data": {
      "text/plain": [
       "['wsc_birnbaum_v01.pkl',\n",
       " 'kots_gabriel_v01.pkl',\n",
       " 'ctt_gabriel_v01.pkl',\n",
       " 'ev_birnbaum_rubin_v01.pkl',\n",
       " 'wubc_rubin_v01.pkl',\n",
       " 'nw_rubin_v01.pkl',\n",
       " 'ddd_birnbaum_v01.pkl',\n",
       " 'nw_birnbaum_v01.pkl']"
      ]
     },
     "execution_count": 2,
     "metadata": {},
     "output_type": "execute_result"
    }
   ],
   "source": [
    "pkl_list = os.listdir('../../../../Documents/murakami/pkl2/')\n",
    "pkl_list"
   ]
  },
  {
   "cell_type": "code",
   "execution_count": 3,
   "metadata": {
    "ExecuteTime": {
     "end_time": "2020-06-13T14:22:10.998414Z",
     "start_time": "2020-06-13T14:22:10.989000Z"
    }
   },
   "outputs": [],
   "source": [
    "def load_pickle(filename):\n",
    "    in_path = '../../../../Documents/murakami/pkl2/' + filename\n",
    "    with open (in_path, 'rb') as fp:\n",
    "        return pickle.load(fp)"
   ]
  },
  {
   "cell_type": "code",
   "execution_count": 4,
   "metadata": {
    "ExecuteTime": {
     "end_time": "2020-06-13T14:22:11.157712Z",
     "start_time": "2020-06-13T14:22:11.005258Z"
    }
   },
   "outputs": [],
   "source": [
    "appended_data = []\n",
    "for i, pk in enumerate(pkl_list):\n",
    "    data = load_pickle(pk).explode('chunks')\n",
    "    data.reset_index(drop=True, inplace=True)\n",
    "    appended_data.append(data)\n",
    "df = pd.concat(appended_data)"
   ]
  },
  {
   "cell_type": "code",
   "execution_count": 5,
   "metadata": {
    "ExecuteTime": {
     "end_time": "2020-06-13T14:22:11.199912Z",
     "start_time": "2020-06-13T14:22:11.159789Z"
    }
   },
   "outputs": [
    {
     "data": {
      "text/html": [
       "<div>\n",
       "<style scoped>\n",
       "    .dataframe tbody tr th:only-of-type {\n",
       "        vertical-align: middle;\n",
       "    }\n",
       "\n",
       "    .dataframe tbody tr th {\n",
       "        vertical-align: top;\n",
       "    }\n",
       "\n",
       "    .dataframe thead th {\n",
       "        text-align: right;\n",
       "    }\n",
       "</style>\n",
       "<table border=\"1\" class=\"dataframe\">\n",
       "  <thead>\n",
       "    <tr style=\"text-align: right;\">\n",
       "      <th></th>\n",
       "      <th>number</th>\n",
       "      <th>title</th>\n",
       "      <th>text</th>\n",
       "      <th>fstop_indices</th>\n",
       "      <th>split_indices</th>\n",
       "      <th>chunks</th>\n",
       "      <th>translator</th>\n",
       "      <th>book_title</th>\n",
       "    </tr>\n",
       "  </thead>\n",
       "  <tbody>\n",
       "    <tr>\n",
       "      <th>0</th>\n",
       "      <td>1</td>\n",
       "      <td>Wednesday Afternoon Picnic</td>\n",
       "      <td>IT WAS A  short one-paragraph item in the morn...</td>\n",
       "      <td>[57, 97, 115, 196, 318, 385, 420, 445, 504, 65...</td>\n",
       "      <td>[967, 1924, 2998, 3982, 4935, 5975, 6995, 7961...</td>\n",
       "      <td>IT WAS A  short one-paragraph item in the morn...</td>\n",
       "      <td>Alfred Birnbaum</td>\n",
       "      <td>A Wild Sheep Chase</td>\n",
       "    </tr>\n",
       "    <tr>\n",
       "      <th>1</th>\n",
       "      <td>1</td>\n",
       "      <td>Wednesday Afternoon Picnic</td>\n",
       "      <td>IT WAS A  short one-paragraph item in the morn...</td>\n",
       "      <td>[57, 97, 115, 196, 318, 385, 420, 445, 504, 65...</td>\n",
       "      <td>[967, 1924, 2998, 3982, 4935, 5975, 6995, 7961...</td>\n",
       "      <td>I got off near the end of the line.  The map ...</td>\n",
       "      <td>Alfred Birnbaum</td>\n",
       "      <td>A Wild Sheep Chase</td>\n",
       "    </tr>\n",
       "    <tr>\n",
       "      <th>2</th>\n",
       "      <td>1</td>\n",
       "      <td>Wednesday Afternoon Picnic</td>\n",
       "      <td>IT WAS A  short one-paragraph item in the morn...</td>\n",
       "      <td>[57, 97, 115, 196, 318, 385, 420, 445, 504, 65...</td>\n",
       "      <td>[967, 1924, 2998, 3982, 4935, 5975, 6995, 7961...</td>\n",
       "      <td>\\n There was a small coffee shop near the univ...</td>\n",
       "      <td>Alfred Birnbaum</td>\n",
       "      <td>A Wild Sheep Chase</td>\n",
       "    </tr>\n",
       "    <tr>\n",
       "      <th>3</th>\n",
       "      <td>1</td>\n",
       "      <td>Wednesday Afternoon Picnic</td>\n",
       "      <td>IT WAS A  short one-paragraph item in the morn...</td>\n",
       "      <td>[57, 97, 115, 196, 318, 385, 420, 445, 504, 65...</td>\n",
       "      <td>[967, 1924, 2998, 3982, 4935, 5975, 6995, 7961...</td>\n",
       "      <td>\\n She and I would trade books, talk endlessly...</td>\n",
       "      <td>Alfred Birnbaum</td>\n",
       "      <td>A Wild Sheep Chase</td>\n",
       "    </tr>\n",
       "    <tr>\n",
       "      <th>4</th>\n",
       "      <td>1</td>\n",
       "      <td>Wednesday Afternoon Picnic</td>\n",
       "      <td>IT WAS A  short one-paragraph item in the morn...</td>\n",
       "      <td>[57, 97, 115, 196, 318, 385, 420, 445, 504, 65...</td>\n",
       "      <td>[967, 1924, 2998, 3982, 4935, 5975, 6995, 7961...</td>\n",
       "      <td>\\n Once, and only once, I asked her about thes...</td>\n",
       "      <td>Alfred Birnbaum</td>\n",
       "      <td>A Wild Sheep Chase</td>\n",
       "    </tr>\n",
       "  </tbody>\n",
       "</table>\n",
       "</div>"
      ],
      "text/plain": [
       "  number                       title  \\\n",
       "0      1  Wednesday Afternoon Picnic   \n",
       "1      1  Wednesday Afternoon Picnic   \n",
       "2      1  Wednesday Afternoon Picnic   \n",
       "3      1  Wednesday Afternoon Picnic   \n",
       "4      1  Wednesday Afternoon Picnic   \n",
       "\n",
       "                                                text  \\\n",
       "0  IT WAS A  short one-paragraph item in the morn...   \n",
       "1  IT WAS A  short one-paragraph item in the morn...   \n",
       "2  IT WAS A  short one-paragraph item in the morn...   \n",
       "3  IT WAS A  short one-paragraph item in the morn...   \n",
       "4  IT WAS A  short one-paragraph item in the morn...   \n",
       "\n",
       "                                       fstop_indices  \\\n",
       "0  [57, 97, 115, 196, 318, 385, 420, 445, 504, 65...   \n",
       "1  [57, 97, 115, 196, 318, 385, 420, 445, 504, 65...   \n",
       "2  [57, 97, 115, 196, 318, 385, 420, 445, 504, 65...   \n",
       "3  [57, 97, 115, 196, 318, 385, 420, 445, 504, 65...   \n",
       "4  [57, 97, 115, 196, 318, 385, 420, 445, 504, 65...   \n",
       "\n",
       "                                       split_indices  \\\n",
       "0  [967, 1924, 2998, 3982, 4935, 5975, 6995, 7961...   \n",
       "1  [967, 1924, 2998, 3982, 4935, 5975, 6995, 7961...   \n",
       "2  [967, 1924, 2998, 3982, 4935, 5975, 6995, 7961...   \n",
       "3  [967, 1924, 2998, 3982, 4935, 5975, 6995, 7961...   \n",
       "4  [967, 1924, 2998, 3982, 4935, 5975, 6995, 7961...   \n",
       "\n",
       "                                              chunks       translator  \\\n",
       "0  IT WAS A  short one-paragraph item in the morn...  Alfred Birnbaum   \n",
       "1   I got off near the end of the line.  The map ...  Alfred Birnbaum   \n",
       "2  \\n There was a small coffee shop near the univ...  Alfred Birnbaum   \n",
       "3  \\n She and I would trade books, talk endlessly...  Alfred Birnbaum   \n",
       "4  \\n Once, and only once, I asked her about thes...  Alfred Birnbaum   \n",
       "\n",
       "           book_title  \n",
       "0  A Wild Sheep Chase  \n",
       "1  A Wild Sheep Chase  \n",
       "2  A Wild Sheep Chase  \n",
       "3  A Wild Sheep Chase  \n",
       "4  A Wild Sheep Chase  "
      ]
     },
     "execution_count": 5,
     "metadata": {},
     "output_type": "execute_result"
    }
   ],
   "source": [
    "df.head()"
   ]
  },
  {
   "cell_type": "code",
   "execution_count": 6,
   "metadata": {
    "ExecuteTime": {
     "end_time": "2020-06-13T14:22:11.219645Z",
     "start_time": "2020-06-13T14:22:11.204491Z"
    }
   },
   "outputs": [
    {
     "data": {
      "text/plain": [
       "(5253, 8)"
      ]
     },
     "execution_count": 6,
     "metadata": {},
     "output_type": "execute_result"
    }
   ],
   "source": [
    "df.shape"
   ]
  },
  {
   "cell_type": "code",
   "execution_count": 7,
   "metadata": {
    "ExecuteTime": {
     "end_time": "2020-06-13T14:22:11.480686Z",
     "start_time": "2020-06-13T14:22:11.224016Z"
    }
   },
   "outputs": [
    {
     "data": {
      "image/png": "[encoded data removed]",
      "text/plain": [
       "<Figure size 432x288 with 1 Axes>"
      ]
     },
     "metadata": {
      "image/png": {
       "height": 248,
       "width": 381
      },
      "needs_background": "light"
     },
     "output_type": "display_data"
    }
   ],
   "source": [
    "lengths = []\n",
    "for chunk in df['chunks']:\n",
    "    lengths.append(len(chunk))\n",
    "plt.hist(lengths, bins=20);"
   ]
  },
  {
   "cell_type": "markdown",
   "metadata": {},
   "source": [
    "Reset index and save old index as chunk number per book"
   ]
  },
  {
   "cell_type": "code",
   "execution_count": 8,
   "metadata": {
    "ExecuteTime": {
     "end_time": "2020-06-13T14:22:11.502321Z",
     "start_time": "2020-06-13T14:22:11.489134Z"
    }
   },
   "outputs": [],
   "source": [
    "df.reset_index(inplace=True)\n",
    "df.rename(columns={\"index\": \"book_chunk_no\"}, inplace=True)"
   ]
  },
  {
   "cell_type": "code",
   "execution_count": 9,
   "metadata": {
    "ExecuteTime": {
     "end_time": "2020-06-13T14:22:11.532556Z",
     "start_time": "2020-06-13T14:22:11.511023Z"
    }
   },
   "outputs": [],
   "source": [
    "df.rename(columns={\"index\": \"book_chunk_no\"}, inplace=True)"
   ]
  },
  {
   "cell_type": "markdown",
   "metadata": {},
   "source": [
    "### Remove some characters such as line breaks from the chunks"
   ]
  },
  {
   "cell_type": "code",
   "execution_count": 10,
   "metadata": {
    "ExecuteTime": {
     "end_time": "2020-06-13T14:22:11.540713Z",
     "start_time": "2020-06-13T14:22:11.534873Z"
    }
   },
   "outputs": [
    {
     "data": {
      "text/plain": [
       "0    IT WAS A  short one-paragraph item in the morn...\n",
       "1     I got off near the end of the line.  The map ...\n",
       "2    \\n There was a small coffee shop near the univ...\n",
       "3    \\n She and I would trade books, talk endlessly...\n",
       "4    \\n Once, and only once, I asked her about thes...\n",
       "Name: chunks, dtype: object"
      ]
     },
     "execution_count": 10,
     "metadata": {},
     "output_type": "execute_result"
    }
   ],
   "source": [
    "df['chunks'].head()"
   ]
  },
  {
   "cell_type": "code",
   "execution_count": 11,
   "metadata": {
    "ExecuteTime": {
     "end_time": "2020-06-13T14:22:11.655704Z",
     "start_time": "2020-06-13T14:22:11.543022Z"
    }
   },
   "outputs": [],
   "source": [
    "df['chunks'] = df['chunks'].apply(lambda x: x.replace('\\n', ' '))\n",
    "df['chunks'] = df['chunks'].apply(lambda x: x.replace('\\\\', ' '))\n",
    "df['chunks'] = df['chunks'].apply(lambda x: x.replace('\\xa0', ''))\n",
    "df['chunks'] = df['chunks'].apply(lambda x: x.replace('   ', '  '))\n",
    "df['chunks'] = df['chunks'].apply(lambda x: x.replace('  ', ' '))\n",
    "df['chunks'] = df['chunks'].apply(lambda x: re.sub(\"\\'\",\"’\",x))"
   ]
  },
  {
   "cell_type": "code",
   "execution_count": 12,
   "metadata": {
    "ExecuteTime": {
     "end_time": "2020-06-13T14:22:11.673662Z",
     "start_time": "2020-06-13T14:22:11.658223Z"
    }
   },
   "outputs": [
    {
     "data": {
      "text/plain": [
       "0    IT WAS A short one-paragraph item in the morni...\n",
       "1     I got off near the end of the line. The map p...\n",
       "2     There was a small coffee shop near the univer...\n",
       "3     She and I would trade books, talk endlessly, ...\n",
       "4     Once, and only once, I asked her about these ...\n",
       "Name: chunks, dtype: object"
      ]
     },
     "execution_count": 12,
     "metadata": {},
     "output_type": "execute_result"
    }
   ],
   "source": [
    "df['chunks'].head()"
   ]
  },
  {
   "cell_type": "markdown",
   "metadata": {},
   "source": [
    "### Create Predictor Variables with Textacy"
   ]
  },
  {
   "cell_type": "code",
   "execution_count": 13,
   "metadata": {
    "ExecuteTime": {
     "end_time": "2020-06-13T14:22:12.885602Z",
     "start_time": "2020-06-13T14:22:11.685070Z"
    }
   },
   "outputs": [],
   "source": [
    "en_nlp = textacy.load_spacy_lang('en_core_web_sm')"
   ]
  },
  {
   "cell_type": "code",
   "execution_count": 14,
   "metadata": {
    "ExecuteTime": {
     "end_time": "2020-06-13T14:25:14.702133Z",
     "start_time": "2020-06-13T14:22:12.888155Z"
    }
   },
   "outputs": [],
   "source": [
    "df['parsed'] = df['chunks'].apply(en_nlp)"
   ]
  },
  {
   "cell_type": "code",
   "execution_count": 15,
   "metadata": {
    "ExecuteTime": {
     "end_time": "2020-06-13T14:25:33.961829Z",
     "start_time": "2020-06-13T14:25:14.704238Z"
    }
   },
   "outputs": [],
   "source": [
    "df['n_sents'] = df['parsed'].apply(lambda x: x._.n_sents)\n",
    "df['n_words'] = df['parsed'].apply(lambda x: textacy.TextStats(x).basic_counts['n_words'])\n",
    "df['n_chars'] = df['parsed'].apply(lambda x: textacy.TextStats(x).basic_counts['n_chars'])\n",
    "df['n_syllables'] = df['parsed'].apply(lambda x: textacy.TextStats(x).basic_counts['n_syllables'])\n",
    "df['n_unique_words'] = df['parsed'].apply(lambda x: textacy.TextStats(x).basic_counts['n_unique_words'])\n",
    "df['n_long_words'] = df['parsed'].apply(lambda x: textacy.TextStats(x).basic_counts['n_long_words'])\n",
    "df['n_monosyllable_words'] = df['parsed'].apply(lambda x: textacy.TextStats(x).basic_counts['n_monosyllable_words'])\n",
    "df['n_polysyllable_words'] = df['parsed'].apply(lambda x: textacy.TextStats(x).basic_counts['n_polysyllable_words'])"
   ]
  },
  {
   "cell_type": "code",
   "execution_count": 16,
   "metadata": {
    "ExecuteTime": {
     "end_time": "2020-06-13T14:25:34.011298Z",
     "start_time": "2020-06-13T14:25:33.966161Z"
    }
   },
   "outputs": [
    {
     "data": {
      "text/html": [
       "<div>\n",
       "<style scoped>\n",
       "    .dataframe tbody tr th:only-of-type {\n",
       "        vertical-align: middle;\n",
       "    }\n",
       "\n",
       "    .dataframe tbody tr th {\n",
       "        vertical-align: top;\n",
       "    }\n",
       "\n",
       "    .dataframe thead th {\n",
       "        text-align: right;\n",
       "    }\n",
       "</style>\n",
       "<table border=\"1\" class=\"dataframe\">\n",
       "  <thead>\n",
       "    <tr style=\"text-align: right;\">\n",
       "      <th></th>\n",
       "      <th>book_chunk_no</th>\n",
       "      <th>number</th>\n",
       "      <th>title</th>\n",
       "      <th>text</th>\n",
       "      <th>fstop_indices</th>\n",
       "      <th>split_indices</th>\n",
       "      <th>chunks</th>\n",
       "      <th>translator</th>\n",
       "      <th>book_title</th>\n",
       "      <th>parsed</th>\n",
       "      <th>n_sents</th>\n",
       "      <th>n_words</th>\n",
       "      <th>n_chars</th>\n",
       "      <th>n_syllables</th>\n",
       "      <th>n_unique_words</th>\n",
       "      <th>n_long_words</th>\n",
       "      <th>n_monosyllable_words</th>\n",
       "      <th>n_polysyllable_words</th>\n",
       "    </tr>\n",
       "  </thead>\n",
       "  <tbody>\n",
       "    <tr>\n",
       "      <th>0</th>\n",
       "      <td>0</td>\n",
       "      <td>1</td>\n",
       "      <td>Wednesday Afternoon Picnic</td>\n",
       "      <td>IT WAS A  short one-paragraph item in the morn...</td>\n",
       "      <td>[57, 97, 115, 196, 318, 385, 420, 445, 504, 65...</td>\n",
       "      <td>[967, 1924, 2998, 3982, 4935, 5975, 6995, 7961...</td>\n",
       "      <td>IT WAS A short one-paragraph item in the morni...</td>\n",
       "      <td>Alfred Birnbaum</td>\n",
       "      <td>A Wild Sheep Chase</td>\n",
       "      <td>(IT, WAS, A, short, one, -, paragraph, item, i...</td>\n",
       "      <td>15</td>\n",
       "      <td>174</td>\n",
       "      <td>742</td>\n",
       "      <td>240</td>\n",
       "      <td>116</td>\n",
       "      <td>33</td>\n",
       "      <td>128</td>\n",
       "      <td>17</td>\n",
       "    </tr>\n",
       "    <tr>\n",
       "      <th>1</th>\n",
       "      <td>1</td>\n",
       "      <td>1</td>\n",
       "      <td>Wednesday Afternoon Picnic</td>\n",
       "      <td>IT WAS A  short one-paragraph item in the morn...</td>\n",
       "      <td>[57, 97, 115, 196, 318, 385, 420, 445, 504, 65...</td>\n",
       "      <td>[967, 1924, 2998, 3982, 4935, 5975, 6995, 7961...</td>\n",
       "      <td>I got off near the end of the line. The map p...</td>\n",
       "      <td>Alfred Birnbaum</td>\n",
       "      <td>A Wild Sheep Chase</td>\n",
       "      <td>( , I, got, off, near, the, end, of, the, line...</td>\n",
       "      <td>15</td>\n",
       "      <td>176</td>\n",
       "      <td>734</td>\n",
       "      <td>229</td>\n",
       "      <td>118</td>\n",
       "      <td>29</td>\n",
       "      <td>132</td>\n",
       "      <td>9</td>\n",
       "    </tr>\n",
       "    <tr>\n",
       "      <th>2</th>\n",
       "      <td>2</td>\n",
       "      <td>1</td>\n",
       "      <td>Wednesday Afternoon Picnic</td>\n",
       "      <td>IT WAS A  short one-paragraph item in the morn...</td>\n",
       "      <td>[57, 97, 115, 196, 318, 385, 420, 445, 504, 65...</td>\n",
       "      <td>[967, 1924, 2998, 3982, 4935, 5975, 6995, 7961...</td>\n",
       "      <td>There was a small coffee shop near the univer...</td>\n",
       "      <td>Alfred Birnbaum</td>\n",
       "      <td>A Wild Sheep Chase</td>\n",
       "      <td>( , There, was, a, small, coffee, shop, near, ...</td>\n",
       "      <td>13</td>\n",
       "      <td>195</td>\n",
       "      <td>834</td>\n",
       "      <td>250</td>\n",
       "      <td>119</td>\n",
       "      <td>29</td>\n",
       "      <td>150</td>\n",
       "      <td>9</td>\n",
       "    </tr>\n",
       "  </tbody>\n",
       "</table>\n",
       "</div>"
      ],
      "text/plain": [
       "   book_chunk_no number                       title  \\\n",
       "0              0      1  Wednesday Afternoon Picnic   \n",
       "1              1      1  Wednesday Afternoon Picnic   \n",
       "2              2      1  Wednesday Afternoon Picnic   \n",
       "\n",
       "                                                text  \\\n",
       "0  IT WAS A  short one-paragraph item in the morn...   \n",
       "1  IT WAS A  short one-paragraph item in the morn...   \n",
       "2  IT WAS A  short one-paragraph item in the morn...   \n",
       "\n",
       "                                       fstop_indices  \\\n",
       "0  [57, 97, 115, 196, 318, 385, 420, 445, 504, 65...   \n",
       "1  [57, 97, 115, 196, 318, 385, 420, 445, 504, 65...   \n",
       "2  [57, 97, 115, 196, 318, 385, 420, 445, 504, 65...   \n",
       "\n",
       "                                       split_indices  \\\n",
       "0  [967, 1924, 2998, 3982, 4935, 5975, 6995, 7961...   \n",
       "1  [967, 1924, 2998, 3982, 4935, 5975, 6995, 7961...   \n",
       "2  [967, 1924, 2998, 3982, 4935, 5975, 6995, 7961...   \n",
       "\n",
       "                                              chunks       translator  \\\n",
       "0  IT WAS A short one-paragraph item in the morni...  Alfred Birnbaum   \n",
       "1   I got off near the end of the line. The map p...  Alfred Birnbaum   \n",
       "2   There was a small coffee shop near the univer...  Alfred Birnbaum   \n",
       "\n",
       "           book_title                                             parsed  \\\n",
       "0  A Wild Sheep Chase  (IT, WAS, A, short, one, -, paragraph, item, i...   \n",
       "1  A Wild Sheep Chase  ( , I, got, off, near, the, end, of, the, line...   \n",
       "2  A Wild Sheep Chase  ( , There, was, a, small, coffee, shop, near, ...   \n",
       "\n",
       "   n_sents  n_words  n_chars  n_syllables  n_unique_words  n_long_words  \\\n",
       "0       15      174      742          240             116            33   \n",
       "1       15      176      734          229             118            29   \n",
       "2       13      195      834          250             119            29   \n",
       "\n",
       "   n_monosyllable_words  n_polysyllable_words  \n",
       "0                   128                    17  \n",
       "1                   132                     9  \n",
       "2                   150                     9  "
      ]
     },
     "execution_count": 16,
     "metadata": {},
     "output_type": "execute_result"
    }
   ],
   "source": [
    "df.head(3)"
   ]
  },
  {
   "cell_type": "markdown",
   "metadata": {},
   "source": [
    "### Tidy up Translator Column as there are some leading 'spaces'\n",
    "* critical as this will be the basis of the target variable"
   ]
  },
  {
   "cell_type": "code",
   "execution_count": 17,
   "metadata": {
    "ExecuteTime": {
     "end_time": "2020-06-13T14:25:34.038645Z",
     "start_time": "2020-06-13T14:25:34.018334Z"
    }
   },
   "outputs": [
    {
     "data": {
      "text/plain": [
       "array(['Alfred Birnbaum', 'Philip Gabriel', ' Alfred Birnbaum',\n",
       "       ' Jay Rubin', 'Jay Rubin'], dtype=object)"
      ]
     },
     "execution_count": 17,
     "metadata": {},
     "output_type": "execute_result"
    }
   ],
   "source": [
    "df['translator'].unique()"
   ]
  },
  {
   "cell_type": "code",
   "execution_count": 18,
   "metadata": {
    "ExecuteTime": {
     "end_time": "2020-06-13T14:25:34.060282Z",
     "start_time": "2020-06-13T14:25:34.048865Z"
    }
   },
   "outputs": [],
   "source": [
    "df['translator'] = df['translator'].apply(lambda x: x.lstrip())"
   ]
  },
  {
   "cell_type": "code",
   "execution_count": 19,
   "metadata": {
    "ExecuteTime": {
     "end_time": "2020-06-13T14:25:34.068875Z",
     "start_time": "2020-06-13T14:25:34.062855Z"
    }
   },
   "outputs": [
    {
     "data": {
      "text/plain": [
       "array(['Alfred Birnbaum', 'Philip Gabriel', 'Jay Rubin'], dtype=object)"
      ]
     },
     "execution_count": 19,
     "metadata": {},
     "output_type": "execute_result"
    }
   ],
   "source": [
    "df['translator'].unique()"
   ]
  },
  {
   "cell_type": "markdown",
   "metadata": {},
   "source": [
    "### Check number of chunks per translator"
   ]
  },
  {
   "cell_type": "code",
   "execution_count": 20,
   "metadata": {
    "ExecuteTime": {
     "end_time": "2020-06-13T14:25:34.086080Z",
     "start_time": "2020-06-13T14:25:34.071794Z"
    }
   },
   "outputs": [
    {
     "data": {
      "text/plain": [
       "Jay Rubin          2087\n",
       "Alfred Birnbaum    1759\n",
       "Philip Gabriel     1407\n",
       "Name: translator, dtype: int64"
      ]
     },
     "execution_count": 20,
     "metadata": {},
     "output_type": "execute_result"
    }
   ],
   "source": [
    "df['translator'].value_counts()"
   ]
  },
  {
   "cell_type": "markdown",
   "metadata": {},
   "source": [
    "### Set numeric code for translator names in case needed later"
   ]
  },
  {
   "cell_type": "code",
   "execution_count": 21,
   "metadata": {
    "ExecuteTime": {
     "end_time": "2020-06-13T14:25:34.156729Z",
     "start_time": "2020-06-13T14:25:34.097720Z"
    }
   },
   "outputs": [],
   "source": [
    "di = {'Alfred Birnbaum': 0, 'Jay Rubin': 1, 'Philip Gabriel':2}\n",
    "df['trans_code'] = df['translator'].replace(di)"
   ]
  },
  {
   "cell_type": "markdown",
   "metadata": {},
   "source": [
    "### Add a column for the length of each chunk in characters"
   ]
  },
  {
   "cell_type": "code",
   "execution_count": 22,
   "metadata": {
    "ExecuteTime": {
     "end_time": "2020-06-13T14:25:34.171810Z",
     "start_time": "2020-06-13T14:25:34.160166Z"
    }
   },
   "outputs": [],
   "source": [
    "df['chunk_length'] = df.chunks.map(len)"
   ]
  },
  {
   "cell_type": "markdown",
   "metadata": {},
   "source": [
    "We can see that there are a few outliers with fewer than 800 or more an 1200 characters. Best to drop these as this may skew the 'count' attributes even if normalised to equivalent of 1000 characters"
   ]
  },
  {
   "cell_type": "code",
   "execution_count": 23,
   "metadata": {
    "ExecuteTime": {
     "end_time": "2020-06-13T14:25:34.250239Z",
     "start_time": "2020-06-13T14:25:34.232810Z"
    }
   },
   "outputs": [
    {
     "data": {
      "text/plain": [
       "count    5253.000000\n",
       "mean      983.511898\n",
       "std        58.368698\n",
       "min       519.000000\n",
       "25%       952.000000\n",
       "50%       982.000000\n",
       "75%      1014.000000\n",
       "max      1415.000000\n",
       "Name: chunk_length, dtype: float64"
      ]
     },
     "execution_count": 23,
     "metadata": {},
     "output_type": "execute_result"
    }
   ],
   "source": [
    "df['chunk_length'].describe()"
   ]
  },
  {
   "cell_type": "code",
   "execution_count": 24,
   "metadata": {
    "ExecuteTime": {
     "end_time": "2020-06-13T14:25:34.281271Z",
     "start_time": "2020-06-13T14:25:34.261441Z"
    }
   },
   "outputs": [
    {
     "data": {
      "text/plain": [
       "40"
      ]
     },
     "execution_count": 24,
     "metadata": {},
     "output_type": "execute_result"
    }
   ],
   "source": [
    "len(df[(df['chunk_length'] < 800) |  (df['chunk_length'] > 1200)])"
   ]
  },
  {
   "cell_type": "code",
   "execution_count": 25,
   "metadata": {
    "ExecuteTime": {
     "end_time": "2020-06-13T14:25:34.300094Z",
     "start_time": "2020-06-13T14:25:34.285955Z"
    }
   },
   "outputs": [],
   "source": [
    "df = df[(df['chunk_length'] >= 800) |  (df['chunk_length'] <= 1200)]"
   ]
  },
  {
   "cell_type": "markdown",
   "metadata": {},
   "source": [
    "### Normalise the indicators to the equivalent for a 1000 char chunk\n",
    "* take column value and divide by length for that chunk then multiply by 1000\n",
    "* add this as a new column with name appended with _norm"
   ]
  },
  {
   "cell_type": "code",
   "execution_count": 26,
   "metadata": {
    "ExecuteTime": {
     "end_time": "2020-06-13T14:25:35.892245Z",
     "start_time": "2020-06-13T14:25:34.312476Z"
    }
   },
   "outputs": [],
   "source": [
    "# normalise the indicators to the length of the chunk\n",
    "def var_normalize(df, column_list):\n",
    "    for col in column_list:\n",
    "        norm_col = col + '_norm'\n",
    "        df[norm_col] = df.apply(lambda x: x[col] if x[col] == 0 else (x[col]/x['chunk_length'])*1000, axis=1)\n",
    "        \n",
    "ind_cols = ['n_sents', 'n_words', 'n_chars', 'n_syllables', 'n_unique_words', \n",
    "            'n_long_words', 'n_monosyllable_words', 'n_polysyllable_words']\n",
    "\n",
    "var_normalize(df, ind_cols)"
   ]
  },
  {
   "cell_type": "code",
   "execution_count": 27,
   "metadata": {
    "ExecuteTime": {
     "end_time": "2020-06-13T14:25:35.935485Z",
     "start_time": "2020-06-13T14:25:35.894660Z"
    }
   },
   "outputs": [
    {
     "data": {
      "text/html": [
       "<div>\n",
       "<style scoped>\n",
       "    .dataframe tbody tr th:only-of-type {\n",
       "        vertical-align: middle;\n",
       "    }\n",
       "\n",
       "    .dataframe tbody tr th {\n",
       "        vertical-align: top;\n",
       "    }\n",
       "\n",
       "    .dataframe thead th {\n",
       "        text-align: right;\n",
       "    }\n",
       "</style>\n",
       "<table border=\"1\" class=\"dataframe\">\n",
       "  <thead>\n",
       "    <tr style=\"text-align: right;\">\n",
       "      <th></th>\n",
       "      <th>book_chunk_no</th>\n",
       "      <th>number</th>\n",
       "      <th>title</th>\n",
       "      <th>text</th>\n",
       "      <th>fstop_indices</th>\n",
       "      <th>split_indices</th>\n",
       "      <th>chunks</th>\n",
       "      <th>translator</th>\n",
       "      <th>book_title</th>\n",
       "      <th>parsed</th>\n",
       "      <th>n_sents</th>\n",
       "      <th>n_words</th>\n",
       "      <th>n_chars</th>\n",
       "      <th>n_syllables</th>\n",
       "      <th>n_unique_words</th>\n",
       "      <th>n_long_words</th>\n",
       "      <th>n_monosyllable_words</th>\n",
       "      <th>n_polysyllable_words</th>\n",
       "      <th>trans_code</th>\n",
       "      <th>chunk_length</th>\n",
       "      <th>n_sents_norm</th>\n",
       "      <th>n_words_norm</th>\n",
       "      <th>n_chars_norm</th>\n",
       "      <th>n_syllables_norm</th>\n",
       "      <th>n_unique_words_norm</th>\n",
       "      <th>n_long_words_norm</th>\n",
       "      <th>n_monosyllable_words_norm</th>\n",
       "      <th>n_polysyllable_words_norm</th>\n",
       "    </tr>\n",
       "  </thead>\n",
       "  <tbody>\n",
       "    <tr>\n",
       "      <th>0</th>\n",
       "      <td>0</td>\n",
       "      <td>1</td>\n",
       "      <td>Wednesday Afternoon Picnic</td>\n",
       "      <td>IT WAS A  short one-paragraph item in the morn...</td>\n",
       "      <td>[57, 97, 115, 196, 318, 385, 420, 445, 504, 65...</td>\n",
       "      <td>[967, 1924, 2998, 3982, 4935, 5975, 6995, 7961...</td>\n",
       "      <td>IT WAS A short one-paragraph item in the morni...</td>\n",
       "      <td>Alfred Birnbaum</td>\n",
       "      <td>A Wild Sheep Chase</td>\n",
       "      <td>(IT, WAS, A, short, one, -, paragraph, item, i...</td>\n",
       "      <td>15</td>\n",
       "      <td>174</td>\n",
       "      <td>742</td>\n",
       "      <td>240</td>\n",
       "      <td>116</td>\n",
       "      <td>33</td>\n",
       "      <td>128</td>\n",
       "      <td>17</td>\n",
       "      <td>0</td>\n",
       "      <td>944</td>\n",
       "      <td>15.889831</td>\n",
       "      <td>184.322034</td>\n",
       "      <td>786.016949</td>\n",
       "      <td>254.237288</td>\n",
       "      <td>122.881356</td>\n",
       "      <td>34.957627</td>\n",
       "      <td>135.593220</td>\n",
       "      <td>18.008475</td>\n",
       "    </tr>\n",
       "    <tr>\n",
       "      <th>1</th>\n",
       "      <td>1</td>\n",
       "      <td>1</td>\n",
       "      <td>Wednesday Afternoon Picnic</td>\n",
       "      <td>IT WAS A  short one-paragraph item in the morn...</td>\n",
       "      <td>[57, 97, 115, 196, 318, 385, 420, 445, 504, 65...</td>\n",
       "      <td>[967, 1924, 2998, 3982, 4935, 5975, 6995, 7961...</td>\n",
       "      <td>I got off near the end of the line. The map p...</td>\n",
       "      <td>Alfred Birnbaum</td>\n",
       "      <td>A Wild Sheep Chase</td>\n",
       "      <td>( , I, got, off, near, the, end, of, the, line...</td>\n",
       "      <td>15</td>\n",
       "      <td>176</td>\n",
       "      <td>734</td>\n",
       "      <td>229</td>\n",
       "      <td>118</td>\n",
       "      <td>29</td>\n",
       "      <td>132</td>\n",
       "      <td>9</td>\n",
       "      <td>0</td>\n",
       "      <td>935</td>\n",
       "      <td>16.042781</td>\n",
       "      <td>188.235294</td>\n",
       "      <td>785.026738</td>\n",
       "      <td>244.919786</td>\n",
       "      <td>126.203209</td>\n",
       "      <td>31.016043</td>\n",
       "      <td>141.176471</td>\n",
       "      <td>9.625668</td>\n",
       "    </tr>\n",
       "    <tr>\n",
       "      <th>2</th>\n",
       "      <td>2</td>\n",
       "      <td>1</td>\n",
       "      <td>Wednesday Afternoon Picnic</td>\n",
       "      <td>IT WAS A  short one-paragraph item in the morn...</td>\n",
       "      <td>[57, 97, 115, 196, 318, 385, 420, 445, 504, 65...</td>\n",
       "      <td>[967, 1924, 2998, 3982, 4935, 5975, 6995, 7961...</td>\n",
       "      <td>There was a small coffee shop near the univer...</td>\n",
       "      <td>Alfred Birnbaum</td>\n",
       "      <td>A Wild Sheep Chase</td>\n",
       "      <td>( , There, was, a, small, coffee, shop, near, ...</td>\n",
       "      <td>13</td>\n",
       "      <td>195</td>\n",
       "      <td>834</td>\n",
       "      <td>250</td>\n",
       "      <td>119</td>\n",
       "      <td>29</td>\n",
       "      <td>150</td>\n",
       "      <td>9</td>\n",
       "      <td>0</td>\n",
       "      <td>1057</td>\n",
       "      <td>12.298959</td>\n",
       "      <td>184.484390</td>\n",
       "      <td>789.025544</td>\n",
       "      <td>236.518448</td>\n",
       "      <td>112.582781</td>\n",
       "      <td>27.436140</td>\n",
       "      <td>141.911069</td>\n",
       "      <td>8.514664</td>\n",
       "    </tr>\n",
       "  </tbody>\n",
       "</table>\n",
       "</div>"
      ],
      "text/plain": [
       "   book_chunk_no number                       title  \\\n",
       "0              0      1  Wednesday Afternoon Picnic   \n",
       "1              1      1  Wednesday Afternoon Picnic   \n",
       "2              2      1  Wednesday Afternoon Picnic   \n",
       "\n",
       "                                                text  \\\n",
       "0  IT WAS A  short one-paragraph item in the morn...   \n",
       "1  IT WAS A  short one-paragraph item in the morn...   \n",
       "2  IT WAS A  short one-paragraph item in the morn...   \n",
       "\n",
       "                                       fstop_indices  \\\n",
       "0  [57, 97, 115, 196, 318, 385, 420, 445, 504, 65...   \n",
       "1  [57, 97, 115, 196, 318, 385, 420, 445, 504, 65...   \n",
       "2  [57, 97, 115, 196, 318, 385, 420, 445, 504, 65...   \n",
       "\n",
       "                                       split_indices  \\\n",
       "0  [967, 1924, 2998, 3982, 4935, 5975, 6995, 7961...   \n",
       "1  [967, 1924, 2998, 3982, 4935, 5975, 6995, 7961...   \n",
       "2  [967, 1924, 2998, 3982, 4935, 5975, 6995, 7961...   \n",
       "\n",
       "                                              chunks       translator  \\\n",
       "0  IT WAS A short one-paragraph item in the morni...  Alfred Birnbaum   \n",
       "1   I got off near the end of the line. The map p...  Alfred Birnbaum   \n",
       "2   There was a small coffee shop near the univer...  Alfred Birnbaum   \n",
       "\n",
       "           book_title                                             parsed  \\\n",
       "0  A Wild Sheep Chase  (IT, WAS, A, short, one, -, paragraph, item, i...   \n",
       "1  A Wild Sheep Chase  ( , I, got, off, near, the, end, of, the, line...   \n",
       "2  A Wild Sheep Chase  ( , There, was, a, small, coffee, shop, near, ...   \n",
       "\n",
       "   n_sents  n_words  n_chars  n_syllables  n_unique_words  n_long_words  \\\n",
       "0       15      174      742          240             116            33   \n",
       "1       15      176      734          229             118            29   \n",
       "2       13      195      834          250             119            29   \n",
       "\n",
       "   n_monosyllable_words  n_polysyllable_words  trans_code  chunk_length  \\\n",
       "0                   128                    17           0           944   \n",
       "1                   132                     9           0           935   \n",
       "2                   150                     9           0          1057   \n",
       "\n",
       "   n_sents_norm  n_words_norm  n_chars_norm  n_syllables_norm  \\\n",
       "0     15.889831    184.322034    786.016949        254.237288   \n",
       "1     16.042781    188.235294    785.026738        244.919786   \n",
       "2     12.298959    184.484390    789.025544        236.518448   \n",
       "\n",
       "   n_unique_words_norm  n_long_words_norm  n_monosyllable_words_norm  \\\n",
       "0           122.881356          34.957627                 135.593220   \n",
       "1           126.203209          31.016043                 141.176471   \n",
       "2           112.582781          27.436140                 141.911069   \n",
       "\n",
       "   n_polysyllable_words_norm  \n",
       "0                  18.008475  \n",
       "1                   9.625668  \n",
       "2                   8.514664  "
      ]
     },
     "execution_count": 27,
     "metadata": {},
     "output_type": "execute_result"
    }
   ],
   "source": [
    "df.head(3)"
   ]
  },
  {
   "cell_type": "markdown",
   "metadata": {},
   "source": [
    "### Add some sentiment analysis attributes using Vader"
   ]
  },
  {
   "cell_type": "code",
   "execution_count": 28,
   "metadata": {
    "ExecuteTime": {
     "end_time": "2020-06-13T14:25:35.971980Z",
     "start_time": "2020-06-13T14:25:35.947900Z"
    }
   },
   "outputs": [],
   "source": [
    "vader = SentimentIntensityAnalyzer()"
   ]
  },
  {
   "cell_type": "code",
   "execution_count": 29,
   "metadata": {
    "ExecuteTime": {
     "end_time": "2020-06-13T14:25:36.016916Z",
     "start_time": "2020-06-13T14:25:35.978209Z"
    }
   },
   "outputs": [],
   "source": [
    "analyzer = SentimentIntensityAnalyzer()"
   ]
  },
  {
   "cell_type": "code",
   "execution_count": 30,
   "metadata": {
    "ExecuteTime": {
     "end_time": "2020-06-13T14:25:48.717985Z",
     "start_time": "2020-06-13T14:25:36.033270Z"
    }
   },
   "outputs": [],
   "source": [
    "vader_scores = df['chunks'].map(analyzer.polarity_scores)"
   ]
  },
  {
   "cell_type": "code",
   "execution_count": 31,
   "metadata": {
    "ExecuteTime": {
     "end_time": "2020-06-13T14:25:48.735619Z",
     "start_time": "2020-06-13T14:25:48.720096Z"
    }
   },
   "outputs": [
    {
     "data": {
      "text/plain": [
       "0    {'neg': 0.075, 'neu': 0.862, 'pos': 0.064, 'co...\n",
       "1    {'neg': 0.079, 'neu': 0.891, 'pos': 0.03, 'com...\n",
       "2    {'neg': 0.066, 'neu': 0.84, 'pos': 0.094, 'com...\n",
       "3    {'neg': 0.036, 'neu': 0.895, 'pos': 0.069, 'co...\n",
       "4    {'neg': 0.064, 'neu': 0.887, 'pos': 0.049, 'co...\n",
       "Name: chunks, dtype: object"
      ]
     },
     "execution_count": 31,
     "metadata": {},
     "output_type": "execute_result"
    }
   ],
   "source": [
    "vader_scores[:5]"
   ]
  },
  {
   "cell_type": "code",
   "execution_count": 32,
   "metadata": {
    "ExecuteTime": {
     "end_time": "2020-06-13T14:25:48.786982Z",
     "start_time": "2020-06-13T14:25:48.740759Z"
    }
   },
   "outputs": [
    {
     "data": {
      "text/plain": [
       "<5253x4 sparse matrix of type '<class 'numpy.float64'>'\n",
       "\twith 21012 stored elements in Compressed Sparse Row format>"
      ]
     },
     "execution_count": 32,
     "metadata": {},
     "output_type": "execute_result"
    }
   ],
   "source": [
    "dvec = DictVectorizer()\n",
    "\n",
    "vader_scores = dvec.fit_transform(vader_scores)\n",
    "vader_scores"
   ]
  },
  {
   "cell_type": "code",
   "execution_count": 33,
   "metadata": {
    "ExecuteTime": {
     "end_time": "2020-06-13T14:25:48.810415Z",
     "start_time": "2020-06-13T14:25:48.802142Z"
    }
   },
   "outputs": [
    {
     "data": {
      "text/plain": [
       "['compound', 'neg', 'neu', 'pos']"
      ]
     },
     "execution_count": 33,
     "metadata": {},
     "output_type": "execute_result"
    }
   ],
   "source": [
    "dvec.feature_names_"
   ]
  },
  {
   "cell_type": "markdown",
   "metadata": {},
   "source": [
    "### Add columns containing vader scores"
   ]
  },
  {
   "cell_type": "code",
   "execution_count": 34,
   "metadata": {
    "ExecuteTime": {
     "end_time": "2020-06-13T14:25:48.828370Z",
     "start_time": "2020-06-13T14:25:48.818680Z"
    }
   },
   "outputs": [],
   "source": [
    "for i, col in enumerate(dvec.feature_names_):\n",
    "    df['vader_{}'.format(col)] = vader_scores[:, i].toarray().ravel()"
   ]
  },
  {
   "cell_type": "code",
   "execution_count": 35,
   "metadata": {
    "ExecuteTime": {
     "end_time": "2020-06-13T14:25:48.873411Z",
     "start_time": "2020-06-13T14:25:48.831454Z"
    }
   },
   "outputs": [
    {
     "data": {
      "text/html": [
       "<div>\n",
       "<style scoped>\n",
       "    .dataframe tbody tr th:only-of-type {\n",
       "        vertical-align: middle;\n",
       "    }\n",
       "\n",
       "    .dataframe tbody tr th {\n",
       "        vertical-align: top;\n",
       "    }\n",
       "\n",
       "    .dataframe thead th {\n",
       "        text-align: right;\n",
       "    }\n",
       "</style>\n",
       "<table border=\"1\" class=\"dataframe\">\n",
       "  <thead>\n",
       "    <tr style=\"text-align: right;\">\n",
       "      <th></th>\n",
       "      <th>book_chunk_no</th>\n",
       "      <th>number</th>\n",
       "      <th>title</th>\n",
       "      <th>text</th>\n",
       "      <th>fstop_indices</th>\n",
       "      <th>split_indices</th>\n",
       "      <th>chunks</th>\n",
       "      <th>translator</th>\n",
       "      <th>book_title</th>\n",
       "      <th>parsed</th>\n",
       "      <th>n_sents</th>\n",
       "      <th>n_words</th>\n",
       "      <th>n_chars</th>\n",
       "      <th>n_syllables</th>\n",
       "      <th>n_unique_words</th>\n",
       "      <th>n_long_words</th>\n",
       "      <th>n_monosyllable_words</th>\n",
       "      <th>n_polysyllable_words</th>\n",
       "      <th>trans_code</th>\n",
       "      <th>chunk_length</th>\n",
       "      <th>n_sents_norm</th>\n",
       "      <th>n_words_norm</th>\n",
       "      <th>n_chars_norm</th>\n",
       "      <th>n_syllables_norm</th>\n",
       "      <th>n_unique_words_norm</th>\n",
       "      <th>n_long_words_norm</th>\n",
       "      <th>n_monosyllable_words_norm</th>\n",
       "      <th>n_polysyllable_words_norm</th>\n",
       "      <th>vader_compound</th>\n",
       "      <th>vader_neg</th>\n",
       "      <th>vader_neu</th>\n",
       "      <th>vader_pos</th>\n",
       "    </tr>\n",
       "  </thead>\n",
       "  <tbody>\n",
       "    <tr>\n",
       "      <th>0</th>\n",
       "      <td>0</td>\n",
       "      <td>1</td>\n",
       "      <td>Wednesday Afternoon Picnic</td>\n",
       "      <td>IT WAS A  short one-paragraph item in the morn...</td>\n",
       "      <td>[57, 97, 115, 196, 318, 385, 420, 445, 504, 65...</td>\n",
       "      <td>[967, 1924, 2998, 3982, 4935, 5975, 6995, 7961...</td>\n",
       "      <td>IT WAS A short one-paragraph item in the morni...</td>\n",
       "      <td>Alfred Birnbaum</td>\n",
       "      <td>A Wild Sheep Chase</td>\n",
       "      <td>(IT, WAS, A, short, one, -, paragraph, item, i...</td>\n",
       "      <td>15</td>\n",
       "      <td>174</td>\n",
       "      <td>742</td>\n",
       "      <td>240</td>\n",
       "      <td>116</td>\n",
       "      <td>33</td>\n",
       "      <td>128</td>\n",
       "      <td>17</td>\n",
       "      <td>0</td>\n",
       "      <td>944</td>\n",
       "      <td>15.889831</td>\n",
       "      <td>184.322034</td>\n",
       "      <td>786.016949</td>\n",
       "      <td>254.237288</td>\n",
       "      <td>122.881356</td>\n",
       "      <td>34.957627</td>\n",
       "      <td>135.593220</td>\n",
       "      <td>18.008475</td>\n",
       "      <td>-0.4798</td>\n",
       "      <td>0.075</td>\n",
       "      <td>0.862</td>\n",
       "      <td>0.064</td>\n",
       "    </tr>\n",
       "    <tr>\n",
       "      <th>1</th>\n",
       "      <td>1</td>\n",
       "      <td>1</td>\n",
       "      <td>Wednesday Afternoon Picnic</td>\n",
       "      <td>IT WAS A  short one-paragraph item in the morn...</td>\n",
       "      <td>[57, 97, 115, 196, 318, 385, 420, 445, 504, 65...</td>\n",
       "      <td>[967, 1924, 2998, 3982, 4935, 5975, 6995, 7961...</td>\n",
       "      <td>I got off near the end of the line. The map p...</td>\n",
       "      <td>Alfred Birnbaum</td>\n",
       "      <td>A Wild Sheep Chase</td>\n",
       "      <td>( , I, got, off, near, the, end, of, the, line...</td>\n",
       "      <td>15</td>\n",
       "      <td>176</td>\n",
       "      <td>734</td>\n",
       "      <td>229</td>\n",
       "      <td>118</td>\n",
       "      <td>29</td>\n",
       "      <td>132</td>\n",
       "      <td>9</td>\n",
       "      <td>0</td>\n",
       "      <td>935</td>\n",
       "      <td>16.042781</td>\n",
       "      <td>188.235294</td>\n",
       "      <td>785.026738</td>\n",
       "      <td>244.919786</td>\n",
       "      <td>126.203209</td>\n",
       "      <td>31.016043</td>\n",
       "      <td>141.176471</td>\n",
       "      <td>9.625668</td>\n",
       "      <td>-0.7902</td>\n",
       "      <td>0.079</td>\n",
       "      <td>0.891</td>\n",
       "      <td>0.030</td>\n",
       "    </tr>\n",
       "    <tr>\n",
       "      <th>2</th>\n",
       "      <td>2</td>\n",
       "      <td>1</td>\n",
       "      <td>Wednesday Afternoon Picnic</td>\n",
       "      <td>IT WAS A  short one-paragraph item in the morn...</td>\n",
       "      <td>[57, 97, 115, 196, 318, 385, 420, 445, 504, 65...</td>\n",
       "      <td>[967, 1924, 2998, 3982, 4935, 5975, 6995, 7961...</td>\n",
       "      <td>There was a small coffee shop near the univer...</td>\n",
       "      <td>Alfred Birnbaum</td>\n",
       "      <td>A Wild Sheep Chase</td>\n",
       "      <td>( , There, was, a, small, coffee, shop, near, ...</td>\n",
       "      <td>13</td>\n",
       "      <td>195</td>\n",
       "      <td>834</td>\n",
       "      <td>250</td>\n",
       "      <td>119</td>\n",
       "      <td>29</td>\n",
       "      <td>150</td>\n",
       "      <td>9</td>\n",
       "      <td>0</td>\n",
       "      <td>1057</td>\n",
       "      <td>12.298959</td>\n",
       "      <td>184.484390</td>\n",
       "      <td>789.025544</td>\n",
       "      <td>236.518448</td>\n",
       "      <td>112.582781</td>\n",
       "      <td>27.436140</td>\n",
       "      <td>141.911069</td>\n",
       "      <td>8.514664</td>\n",
       "      <td>0.4215</td>\n",
       "      <td>0.066</td>\n",
       "      <td>0.840</td>\n",
       "      <td>0.094</td>\n",
       "    </tr>\n",
       "  </tbody>\n",
       "</table>\n",
       "</div>"
      ],
      "text/plain": [
       "   book_chunk_no number                       title  \\\n",
       "0              0      1  Wednesday Afternoon Picnic   \n",
       "1              1      1  Wednesday Afternoon Picnic   \n",
       "2              2      1  Wednesday Afternoon Picnic   \n",
       "\n",
       "                                                text  \\\n",
       "0  IT WAS A  short one-paragraph item in the morn...   \n",
       "1  IT WAS A  short one-paragraph item in the morn...   \n",
       "2  IT WAS A  short one-paragraph item in the morn...   \n",
       "\n",
       "                                       fstop_indices  \\\n",
       "0  [57, 97, 115, 196, 318, 385, 420, 445, 504, 65...   \n",
       "1  [57, 97, 115, 196, 318, 385, 420, 445, 504, 65...   \n",
       "2  [57, 97, 115, 196, 318, 385, 420, 445, 504, 65...   \n",
       "\n",
       "                                       split_indices  \\\n",
       "0  [967, 1924, 2998, 3982, 4935, 5975, 6995, 7961...   \n",
       "1  [967, 1924, 2998, 3982, 4935, 5975, 6995, 7961...   \n",
       "2  [967, 1924, 2998, 3982, 4935, 5975, 6995, 7961...   \n",
       "\n",
       "                                              chunks       translator  \\\n",
       "0  IT WAS A short one-paragraph item in the morni...  Alfred Birnbaum   \n",
       "1   I got off near the end of the line. The map p...  Alfred Birnbaum   \n",
       "2   There was a small coffee shop near the univer...  Alfred Birnbaum   \n",
       "\n",
       "           book_title                                             parsed  \\\n",
       "0  A Wild Sheep Chase  (IT, WAS, A, short, one, -, paragraph, item, i...   \n",
       "1  A Wild Sheep Chase  ( , I, got, off, near, the, end, of, the, line...   \n",
       "2  A Wild Sheep Chase  ( , There, was, a, small, coffee, shop, near, ...   \n",
       "\n",
       "   n_sents  n_words  n_chars  n_syllables  n_unique_words  n_long_words  \\\n",
       "0       15      174      742          240             116            33   \n",
       "1       15      176      734          229             118            29   \n",
       "2       13      195      834          250             119            29   \n",
       "\n",
       "   n_monosyllable_words  n_polysyllable_words  trans_code  chunk_length  \\\n",
       "0                   128                    17           0           944   \n",
       "1                   132                     9           0           935   \n",
       "2                   150                     9           0          1057   \n",
       "\n",
       "   n_sents_norm  n_words_norm  n_chars_norm  n_syllables_norm  \\\n",
       "0     15.889831    184.322034    786.016949        254.237288   \n",
       "1     16.042781    188.235294    785.026738        244.919786   \n",
       "2     12.298959    184.484390    789.025544        236.518448   \n",
       "\n",
       "   n_unique_words_norm  n_long_words_norm  n_monosyllable_words_norm  \\\n",
       "0           122.881356          34.957627                 135.593220   \n",
       "1           126.203209          31.016043                 141.176471   \n",
       "2           112.582781          27.436140                 141.911069   \n",
       "\n",
       "   n_polysyllable_words_norm  vader_compound  vader_neg  vader_neu  vader_pos  \n",
       "0                  18.008475         -0.4798      0.075      0.862      0.064  \n",
       "1                   9.625668         -0.7902      0.079      0.891      0.030  \n",
       "2                   8.514664          0.4215      0.066      0.840      0.094  "
      ]
     },
     "execution_count": 35,
     "metadata": {},
     "output_type": "execute_result"
    }
   ],
   "source": [
    "df.head(3)"
   ]
  },
  {
   "cell_type": "markdown",
   "metadata": {},
   "source": [
    "### Add variables for counts of 'POS' (parts of speech)"
   ]
  },
  {
   "cell_type": "code",
   "execution_count": 36,
   "metadata": {
    "ExecuteTime": {
     "end_time": "2020-06-13T14:26:14.491700Z",
     "start_time": "2020-06-13T14:25:48.877107Z"
    }
   },
   "outputs": [],
   "source": [
    "for i, p in enumerate(df['parsed']):\n",
    "    D = dict(Counter([token.pos_ for token in p]))\n",
    "    col_list = []\n",
    "    for x in D:\n",
    "        col_name = str.lower(x) + '_count'\n",
    "        df.loc[df.index[i], col_name] = D[x]"
   ]
  },
  {
   "cell_type": "code",
   "execution_count": 37,
   "metadata": {
    "ExecuteTime": {
     "end_time": "2020-06-13T14:26:14.563364Z",
     "start_time": "2020-06-13T14:26:14.494172Z"
    }
   },
   "outputs": [
    {
     "data": {
      "text/html": [
       "<div>\n",
       "<style scoped>\n",
       "    .dataframe tbody tr th:only-of-type {\n",
       "        vertical-align: middle;\n",
       "    }\n",
       "\n",
       "    .dataframe tbody tr th {\n",
       "        vertical-align: top;\n",
       "    }\n",
       "\n",
       "    .dataframe thead th {\n",
       "        text-align: right;\n",
       "    }\n",
       "</style>\n",
       "<table border=\"1\" class=\"dataframe\">\n",
       "  <thead>\n",
       "    <tr style=\"text-align: right;\">\n",
       "      <th></th>\n",
       "      <th>book_chunk_no</th>\n",
       "      <th>number</th>\n",
       "      <th>title</th>\n",
       "      <th>text</th>\n",
       "      <th>fstop_indices</th>\n",
       "      <th>split_indices</th>\n",
       "      <th>chunks</th>\n",
       "      <th>translator</th>\n",
       "      <th>book_title</th>\n",
       "      <th>parsed</th>\n",
       "      <th>n_sents</th>\n",
       "      <th>n_words</th>\n",
       "      <th>n_chars</th>\n",
       "      <th>n_syllables</th>\n",
       "      <th>n_unique_words</th>\n",
       "      <th>n_long_words</th>\n",
       "      <th>n_monosyllable_words</th>\n",
       "      <th>n_polysyllable_words</th>\n",
       "      <th>trans_code</th>\n",
       "      <th>chunk_length</th>\n",
       "      <th>n_sents_norm</th>\n",
       "      <th>n_words_norm</th>\n",
       "      <th>n_chars_norm</th>\n",
       "      <th>n_syllables_norm</th>\n",
       "      <th>n_unique_words_norm</th>\n",
       "      <th>n_long_words_norm</th>\n",
       "      <th>n_monosyllable_words_norm</th>\n",
       "      <th>n_polysyllable_words_norm</th>\n",
       "      <th>vader_compound</th>\n",
       "      <th>vader_neg</th>\n",
       "      <th>vader_neu</th>\n",
       "      <th>vader_pos</th>\n",
       "      <th>pron_count</th>\n",
       "      <th>verb_count</th>\n",
       "      <th>det_count</th>\n",
       "      <th>adj_count</th>\n",
       "      <th>num_count</th>\n",
       "      <th>punct_count</th>\n",
       "      <th>noun_count</th>\n",
       "      <th>adp_count</th>\n",
       "      <th>cconj_count</th>\n",
       "      <th>sconj_count</th>\n",
       "      <th>adv_count</th>\n",
       "      <th>aux_count</th>\n",
       "      <th>part_count</th>\n",
       "      <th>propn_count</th>\n",
       "      <th>space_count</th>\n",
       "      <th>intj_count</th>\n",
       "      <th>sym_count</th>\n",
       "      <th>x_count</th>\n",
       "    </tr>\n",
       "  </thead>\n",
       "  <tbody>\n",
       "    <tr>\n",
       "      <th>0</th>\n",
       "      <td>0</td>\n",
       "      <td>1</td>\n",
       "      <td>Wednesday Afternoon Picnic</td>\n",
       "      <td>IT WAS A  short one-paragraph item in the morn...</td>\n",
       "      <td>[57, 97, 115, 196, 318, 385, 420, 445, 504, 65...</td>\n",
       "      <td>[967, 1924, 2998, 3982, 4935, 5975, 6995, 7961...</td>\n",
       "      <td>IT WAS A short one-paragraph item in the morni...</td>\n",
       "      <td>Alfred Birnbaum</td>\n",
       "      <td>A Wild Sheep Chase</td>\n",
       "      <td>(IT, WAS, A, short, one, -, paragraph, item, i...</td>\n",
       "      <td>15</td>\n",
       "      <td>174</td>\n",
       "      <td>742</td>\n",
       "      <td>240</td>\n",
       "      <td>116</td>\n",
       "      <td>33</td>\n",
       "      <td>128</td>\n",
       "      <td>17</td>\n",
       "      <td>0</td>\n",
       "      <td>944</td>\n",
       "      <td>15.889831</td>\n",
       "      <td>184.322034</td>\n",
       "      <td>786.016949</td>\n",
       "      <td>254.237288</td>\n",
       "      <td>122.881356</td>\n",
       "      <td>34.957627</td>\n",
       "      <td>135.593220</td>\n",
       "      <td>18.008475</td>\n",
       "      <td>-0.4798</td>\n",
       "      <td>0.075</td>\n",
       "      <td>0.862</td>\n",
       "      <td>0.064</td>\n",
       "      <td>18.0</td>\n",
       "      <td>20.0</td>\n",
       "      <td>31.0</td>\n",
       "      <td>9.0</td>\n",
       "      <td>2.0</td>\n",
       "      <td>33.0</td>\n",
       "      <td>51.0</td>\n",
       "      <td>19.0</td>\n",
       "      <td>6.0</td>\n",
       "      <td>3.0</td>\n",
       "      <td>5.0</td>\n",
       "      <td>5.0</td>\n",
       "      <td>3.0</td>\n",
       "      <td>2.0</td>\n",
       "      <td>NaN</td>\n",
       "      <td>NaN</td>\n",
       "      <td>NaN</td>\n",
       "      <td>NaN</td>\n",
       "    </tr>\n",
       "    <tr>\n",
       "      <th>1</th>\n",
       "      <td>1</td>\n",
       "      <td>1</td>\n",
       "      <td>Wednesday Afternoon Picnic</td>\n",
       "      <td>IT WAS A  short one-paragraph item in the morn...</td>\n",
       "      <td>[57, 97, 115, 196, 318, 385, 420, 445, 504, 65...</td>\n",
       "      <td>[967, 1924, 2998, 3982, 4935, 5975, 6995, 7961...</td>\n",
       "      <td>I got off near the end of the line. The map p...</td>\n",
       "      <td>Alfred Birnbaum</td>\n",
       "      <td>A Wild Sheep Chase</td>\n",
       "      <td>( , I, got, off, near, the, end, of, the, line...</td>\n",
       "      <td>15</td>\n",
       "      <td>176</td>\n",
       "      <td>734</td>\n",
       "      <td>229</td>\n",
       "      <td>118</td>\n",
       "      <td>29</td>\n",
       "      <td>132</td>\n",
       "      <td>9</td>\n",
       "      <td>0</td>\n",
       "      <td>935</td>\n",
       "      <td>16.042781</td>\n",
       "      <td>188.235294</td>\n",
       "      <td>785.026738</td>\n",
       "      <td>244.919786</td>\n",
       "      <td>126.203209</td>\n",
       "      <td>31.016043</td>\n",
       "      <td>141.176471</td>\n",
       "      <td>9.625668</td>\n",
       "      <td>-0.7902</td>\n",
       "      <td>0.079</td>\n",
       "      <td>0.891</td>\n",
       "      <td>0.030</td>\n",
       "      <td>17.0</td>\n",
       "      <td>22.0</td>\n",
       "      <td>25.0</td>\n",
       "      <td>13.0</td>\n",
       "      <td>5.0</td>\n",
       "      <td>29.0</td>\n",
       "      <td>42.0</td>\n",
       "      <td>22.0</td>\n",
       "      <td>5.0</td>\n",
       "      <td>2.0</td>\n",
       "      <td>12.0</td>\n",
       "      <td>12.0</td>\n",
       "      <td>NaN</td>\n",
       "      <td>NaN</td>\n",
       "      <td>1.0</td>\n",
       "      <td>NaN</td>\n",
       "      <td>NaN</td>\n",
       "      <td>NaN</td>\n",
       "    </tr>\n",
       "    <tr>\n",
       "      <th>2</th>\n",
       "      <td>2</td>\n",
       "      <td>1</td>\n",
       "      <td>Wednesday Afternoon Picnic</td>\n",
       "      <td>IT WAS A  short one-paragraph item in the morn...</td>\n",
       "      <td>[57, 97, 115, 196, 318, 385, 420, 445, 504, 65...</td>\n",
       "      <td>[967, 1924, 2998, 3982, 4935, 5975, 6995, 7961...</td>\n",
       "      <td>There was a small coffee shop near the univer...</td>\n",
       "      <td>Alfred Birnbaum</td>\n",
       "      <td>A Wild Sheep Chase</td>\n",
       "      <td>( , There, was, a, small, coffee, shop, near, ...</td>\n",
       "      <td>13</td>\n",
       "      <td>195</td>\n",
       "      <td>834</td>\n",
       "      <td>250</td>\n",
       "      <td>119</td>\n",
       "      <td>29</td>\n",
       "      <td>150</td>\n",
       "      <td>9</td>\n",
       "      <td>0</td>\n",
       "      <td>1057</td>\n",
       "      <td>12.298959</td>\n",
       "      <td>184.484390</td>\n",
       "      <td>789.025544</td>\n",
       "      <td>236.518448</td>\n",
       "      <td>112.582781</td>\n",
       "      <td>27.436140</td>\n",
       "      <td>141.911069</td>\n",
       "      <td>8.514664</td>\n",
       "      <td>0.4215</td>\n",
       "      <td>0.066</td>\n",
       "      <td>0.840</td>\n",
       "      <td>0.094</td>\n",
       "      <td>18.0</td>\n",
       "      <td>26.0</td>\n",
       "      <td>28.0</td>\n",
       "      <td>14.0</td>\n",
       "      <td>1.0</td>\n",
       "      <td>35.0</td>\n",
       "      <td>38.0</td>\n",
       "      <td>19.0</td>\n",
       "      <td>6.0</td>\n",
       "      <td>6.0</td>\n",
       "      <td>11.0</td>\n",
       "      <td>11.0</td>\n",
       "      <td>4.0</td>\n",
       "      <td>13.0</td>\n",
       "      <td>1.0</td>\n",
       "      <td>NaN</td>\n",
       "      <td>NaN</td>\n",
       "      <td>NaN</td>\n",
       "    </tr>\n",
       "  </tbody>\n",
       "</table>\n",
       "</div>"
      ],
      "text/plain": [
       "   book_chunk_no number                       title  \\\n",
       "0              0      1  Wednesday Afternoon Picnic   \n",
       "1              1      1  Wednesday Afternoon Picnic   \n",
       "2              2      1  Wednesday Afternoon Picnic   \n",
       "\n",
       "                                                text  \\\n",
       "0  IT WAS A  short one-paragraph item in the morn...   \n",
       "1  IT WAS A  short one-paragraph item in the morn...   \n",
       "2  IT WAS A  short one-paragraph item in the morn...   \n",
       "\n",
       "                                       fstop_indices  \\\n",
       "0  [57, 97, 115, 196, 318, 385, 420, 445, 504, 65...   \n",
       "1  [57, 97, 115, 196, 318, 385, 420, 445, 504, 65...   \n",
       "2  [57, 97, 115, 196, 318, 385, 420, 445, 504, 65...   \n",
       "\n",
       "                                       split_indices  \\\n",
       "0  [967, 1924, 2998, 3982, 4935, 5975, 6995, 7961...   \n",
       "1  [967, 1924, 2998, 3982, 4935, 5975, 6995, 7961...   \n",
       "2  [967, 1924, 2998, 3982, 4935, 5975, 6995, 7961...   \n",
       "\n",
       "                                              chunks       translator  \\\n",
       "0  IT WAS A short one-paragraph item in the morni...  Alfred Birnbaum   \n",
       "1   I got off near the end of the line. The map p...  Alfred Birnbaum   \n",
       "2   There was a small coffee shop near the univer...  Alfred Birnbaum   \n",
       "\n",
       "           book_title                                             parsed  \\\n",
       "0  A Wild Sheep Chase  (IT, WAS, A, short, one, -, paragraph, item, i...   \n",
       "1  A Wild Sheep Chase  ( , I, got, off, near, the, end, of, the, line...   \n",
       "2  A Wild Sheep Chase  ( , There, was, a, small, coffee, shop, near, ...   \n",
       "\n",
       "   n_sents  n_words  n_chars  n_syllables  n_unique_words  n_long_words  \\\n",
       "0       15      174      742          240             116            33   \n",
       "1       15      176      734          229             118            29   \n",
       "2       13      195      834          250             119            29   \n",
       "\n",
       "   n_monosyllable_words  n_polysyllable_words  trans_code  chunk_length  \\\n",
       "0                   128                    17           0           944   \n",
       "1                   132                     9           0           935   \n",
       "2                   150                     9           0          1057   \n",
       "\n",
       "   n_sents_norm  n_words_norm  n_chars_norm  n_syllables_norm  \\\n",
       "0     15.889831    184.322034    786.016949        254.237288   \n",
       "1     16.042781    188.235294    785.026738        244.919786   \n",
       "2     12.298959    184.484390    789.025544        236.518448   \n",
       "\n",
       "   n_unique_words_norm  n_long_words_norm  n_monosyllable_words_norm  \\\n",
       "0           122.881356          34.957627                 135.593220   \n",
       "1           126.203209          31.016043                 141.176471   \n",
       "2           112.582781          27.436140                 141.911069   \n",
       "\n",
       "   n_polysyllable_words_norm  vader_compound  vader_neg  vader_neu  vader_pos  \\\n",
       "0                  18.008475         -0.4798      0.075      0.862      0.064   \n",
       "1                   9.625668         -0.7902      0.079      0.891      0.030   \n",
       "2                   8.514664          0.4215      0.066      0.840      0.094   \n",
       "\n",
       "   pron_count  verb_count  det_count  adj_count  num_count  punct_count  \\\n",
       "0        18.0        20.0       31.0        9.0        2.0         33.0   \n",
       "1        17.0        22.0       25.0       13.0        5.0         29.0   \n",
       "2        18.0        26.0       28.0       14.0        1.0         35.0   \n",
       "\n",
       "   noun_count  adp_count  cconj_count  sconj_count  adv_count  aux_count  \\\n",
       "0        51.0       19.0          6.0          3.0        5.0        5.0   \n",
       "1        42.0       22.0          5.0          2.0       12.0       12.0   \n",
       "2        38.0       19.0          6.0          6.0       11.0       11.0   \n",
       "\n",
       "   part_count  propn_count  space_count  intj_count  sym_count  x_count  \n",
       "0         3.0          2.0          NaN         NaN        NaN      NaN  \n",
       "1         NaN          NaN          1.0         NaN        NaN      NaN  \n",
       "2         4.0         13.0          1.0         NaN        NaN      NaN  "
      ]
     },
     "execution_count": 37,
     "metadata": {},
     "output_type": "execute_result"
    }
   ],
   "source": [
    "df.head(3)"
   ]
  },
  {
   "cell_type": "markdown",
   "metadata": {},
   "source": [
    "### Normalise the POS count indicators to the equivalent for a 1000 char chunk\n",
    "* take column value and divide by length for that chunk then multiply by 1000\n",
    "* add this as a new column with name appended with _norm"
   ]
  },
  {
   "cell_type": "code",
   "execution_count": 38,
   "metadata": {
    "ExecuteTime": {
     "end_time": "2020-06-13T14:26:14.573673Z",
     "start_time": "2020-06-13T14:26:14.567408Z"
    }
   },
   "outputs": [],
   "source": [
    "# # selecting columns starting with n_ but not ending with _norm\n",
    "pos_count_cols = [i for i in df.columns if i.endswith('_count')]"
   ]
  },
  {
   "cell_type": "code",
   "execution_count": 39,
   "metadata": {
    "ExecuteTime": {
     "end_time": "2020-06-13T14:26:14.616322Z",
     "start_time": "2020-06-13T14:26:14.582618Z"
    }
   },
   "outputs": [],
   "source": [
    "df[pos_count_cols] = df[pos_count_cols].fillna(0)"
   ]
  },
  {
   "cell_type": "code",
   "execution_count": 40,
   "metadata": {
    "ExecuteTime": {
     "end_time": "2020-06-13T14:26:18.297469Z",
     "start_time": "2020-06-13T14:26:14.621682Z"
    }
   },
   "outputs": [],
   "source": [
    "# normalise the indicators to the length of the chunk\n",
    "def var_normalize(df, column_list):\n",
    "    for col in column_list:\n",
    "        norm_col = col + '_norm'\n",
    "        df[norm_col] = df.apply(lambda x: x[col] if x[col] == 0 else (x[col]/x['chunk_length'])*1000, axis=1)\n",
    "        \n",
    "ind_cols = ['n_sents', 'n_words', 'n_chars', 'n_syllables', 'n_unique_words', \n",
    "            'n_long_words', 'n_monosyllable_words', 'n_polysyllable_words']\n",
    "\n",
    "var_normalize(df, pos_count_cols)"
   ]
  },
  {
   "cell_type": "code",
   "execution_count": 41,
   "metadata": {
    "ExecuteTime": {
     "end_time": "2020-06-13T14:26:18.375569Z",
     "start_time": "2020-06-13T14:26:18.299551Z"
    }
   },
   "outputs": [
    {
     "data": {
      "text/html": [
       "<div>\n",
       "<style scoped>\n",
       "    .dataframe tbody tr th:only-of-type {\n",
       "        vertical-align: middle;\n",
       "    }\n",
       "\n",
       "    .dataframe tbody tr th {\n",
       "        vertical-align: top;\n",
       "    }\n",
       "\n",
       "    .dataframe thead th {\n",
       "        text-align: right;\n",
       "    }\n",
       "</style>\n",
       "<table border=\"1\" class=\"dataframe\">\n",
       "  <thead>\n",
       "    <tr style=\"text-align: right;\">\n",
       "      <th></th>\n",
       "      <th>book_chunk_no</th>\n",
       "      <th>number</th>\n",
       "      <th>title</th>\n",
       "      <th>text</th>\n",
       "      <th>fstop_indices</th>\n",
       "      <th>split_indices</th>\n",
       "      <th>chunks</th>\n",
       "      <th>translator</th>\n",
       "      <th>book_title</th>\n",
       "      <th>parsed</th>\n",
       "      <th>n_sents</th>\n",
       "      <th>n_words</th>\n",
       "      <th>n_chars</th>\n",
       "      <th>n_syllables</th>\n",
       "      <th>n_unique_words</th>\n",
       "      <th>n_long_words</th>\n",
       "      <th>n_monosyllable_words</th>\n",
       "      <th>n_polysyllable_words</th>\n",
       "      <th>trans_code</th>\n",
       "      <th>chunk_length</th>\n",
       "      <th>n_sents_norm</th>\n",
       "      <th>n_words_norm</th>\n",
       "      <th>n_chars_norm</th>\n",
       "      <th>n_syllables_norm</th>\n",
       "      <th>n_unique_words_norm</th>\n",
       "      <th>n_long_words_norm</th>\n",
       "      <th>n_monosyllable_words_norm</th>\n",
       "      <th>n_polysyllable_words_norm</th>\n",
       "      <th>vader_compound</th>\n",
       "      <th>vader_neg</th>\n",
       "      <th>vader_neu</th>\n",
       "      <th>vader_pos</th>\n",
       "      <th>pron_count</th>\n",
       "      <th>verb_count</th>\n",
       "      <th>det_count</th>\n",
       "      <th>adj_count</th>\n",
       "      <th>num_count</th>\n",
       "      <th>punct_count</th>\n",
       "      <th>noun_count</th>\n",
       "      <th>adp_count</th>\n",
       "      <th>cconj_count</th>\n",
       "      <th>sconj_count</th>\n",
       "      <th>adv_count</th>\n",
       "      <th>aux_count</th>\n",
       "      <th>part_count</th>\n",
       "      <th>propn_count</th>\n",
       "      <th>space_count</th>\n",
       "      <th>intj_count</th>\n",
       "      <th>sym_count</th>\n",
       "      <th>x_count</th>\n",
       "      <th>pron_count_norm</th>\n",
       "      <th>verb_count_norm</th>\n",
       "      <th>det_count_norm</th>\n",
       "      <th>adj_count_norm</th>\n",
       "      <th>num_count_norm</th>\n",
       "      <th>punct_count_norm</th>\n",
       "      <th>noun_count_norm</th>\n",
       "      <th>adp_count_norm</th>\n",
       "      <th>cconj_count_norm</th>\n",
       "      <th>sconj_count_norm</th>\n",
       "      <th>adv_count_norm</th>\n",
       "      <th>aux_count_norm</th>\n",
       "      <th>part_count_norm</th>\n",
       "      <th>propn_count_norm</th>\n",
       "      <th>space_count_norm</th>\n",
       "      <th>intj_count_norm</th>\n",
       "      <th>sym_count_norm</th>\n",
       "      <th>x_count_norm</th>\n",
       "    </tr>\n",
       "  </thead>\n",
       "  <tbody>\n",
       "    <tr>\n",
       "      <th>0</th>\n",
       "      <td>0</td>\n",
       "      <td>1</td>\n",
       "      <td>Wednesday Afternoon Picnic</td>\n",
       "      <td>IT WAS A  short one-paragraph item in the morn...</td>\n",
       "      <td>[57, 97, 115, 196, 318, 385, 420, 445, 504, 65...</td>\n",
       "      <td>[967, 1924, 2998, 3982, 4935, 5975, 6995, 7961...</td>\n",
       "      <td>IT WAS A short one-paragraph item in the morni...</td>\n",
       "      <td>Alfred Birnbaum</td>\n",
       "      <td>A Wild Sheep Chase</td>\n",
       "      <td>(IT, WAS, A, short, one, -, paragraph, item, i...</td>\n",
       "      <td>15</td>\n",
       "      <td>174</td>\n",
       "      <td>742</td>\n",
       "      <td>240</td>\n",
       "      <td>116</td>\n",
       "      <td>33</td>\n",
       "      <td>128</td>\n",
       "      <td>17</td>\n",
       "      <td>0</td>\n",
       "      <td>944</td>\n",
       "      <td>15.889831</td>\n",
       "      <td>184.322034</td>\n",
       "      <td>786.016949</td>\n",
       "      <td>254.237288</td>\n",
       "      <td>122.881356</td>\n",
       "      <td>34.957627</td>\n",
       "      <td>135.593220</td>\n",
       "      <td>18.008475</td>\n",
       "      <td>-0.4798</td>\n",
       "      <td>0.075</td>\n",
       "      <td>0.862</td>\n",
       "      <td>0.064</td>\n",
       "      <td>18.0</td>\n",
       "      <td>20.0</td>\n",
       "      <td>31.0</td>\n",
       "      <td>9.0</td>\n",
       "      <td>2.0</td>\n",
       "      <td>33.0</td>\n",
       "      <td>51.0</td>\n",
       "      <td>19.0</td>\n",
       "      <td>6.0</td>\n",
       "      <td>3.0</td>\n",
       "      <td>5.0</td>\n",
       "      <td>5.0</td>\n",
       "      <td>3.0</td>\n",
       "      <td>2.0</td>\n",
       "      <td>0.0</td>\n",
       "      <td>0.0</td>\n",
       "      <td>0.0</td>\n",
       "      <td>0.0</td>\n",
       "      <td>19.067797</td>\n",
       "      <td>21.186441</td>\n",
       "      <td>32.838983</td>\n",
       "      <td>9.533898</td>\n",
       "      <td>2.118644</td>\n",
       "      <td>34.957627</td>\n",
       "      <td>54.025424</td>\n",
       "      <td>20.127119</td>\n",
       "      <td>6.355932</td>\n",
       "      <td>3.177966</td>\n",
       "      <td>5.296610</td>\n",
       "      <td>5.296610</td>\n",
       "      <td>3.177966</td>\n",
       "      <td>2.118644</td>\n",
       "      <td>0.000000</td>\n",
       "      <td>0.0</td>\n",
       "      <td>0.0</td>\n",
       "      <td>0.0</td>\n",
       "    </tr>\n",
       "    <tr>\n",
       "      <th>1</th>\n",
       "      <td>1</td>\n",
       "      <td>1</td>\n",
       "      <td>Wednesday Afternoon Picnic</td>\n",
       "      <td>IT WAS A  short one-paragraph item in the morn...</td>\n",
       "      <td>[57, 97, 115, 196, 318, 385, 420, 445, 504, 65...</td>\n",
       "      <td>[967, 1924, 2998, 3982, 4935, 5975, 6995, 7961...</td>\n",
       "      <td>I got off near the end of the line. The map p...</td>\n",
       "      <td>Alfred Birnbaum</td>\n",
       "      <td>A Wild Sheep Chase</td>\n",
       "      <td>( , I, got, off, near, the, end, of, the, line...</td>\n",
       "      <td>15</td>\n",
       "      <td>176</td>\n",
       "      <td>734</td>\n",
       "      <td>229</td>\n",
       "      <td>118</td>\n",
       "      <td>29</td>\n",
       "      <td>132</td>\n",
       "      <td>9</td>\n",
       "      <td>0</td>\n",
       "      <td>935</td>\n",
       "      <td>16.042781</td>\n",
       "      <td>188.235294</td>\n",
       "      <td>785.026738</td>\n",
       "      <td>244.919786</td>\n",
       "      <td>126.203209</td>\n",
       "      <td>31.016043</td>\n",
       "      <td>141.176471</td>\n",
       "      <td>9.625668</td>\n",
       "      <td>-0.7902</td>\n",
       "      <td>0.079</td>\n",
       "      <td>0.891</td>\n",
       "      <td>0.030</td>\n",
       "      <td>17.0</td>\n",
       "      <td>22.0</td>\n",
       "      <td>25.0</td>\n",
       "      <td>13.0</td>\n",
       "      <td>5.0</td>\n",
       "      <td>29.0</td>\n",
       "      <td>42.0</td>\n",
       "      <td>22.0</td>\n",
       "      <td>5.0</td>\n",
       "      <td>2.0</td>\n",
       "      <td>12.0</td>\n",
       "      <td>12.0</td>\n",
       "      <td>0.0</td>\n",
       "      <td>0.0</td>\n",
       "      <td>1.0</td>\n",
       "      <td>0.0</td>\n",
       "      <td>0.0</td>\n",
       "      <td>0.0</td>\n",
       "      <td>18.181818</td>\n",
       "      <td>23.529412</td>\n",
       "      <td>26.737968</td>\n",
       "      <td>13.903743</td>\n",
       "      <td>5.347594</td>\n",
       "      <td>31.016043</td>\n",
       "      <td>44.919786</td>\n",
       "      <td>23.529412</td>\n",
       "      <td>5.347594</td>\n",
       "      <td>2.139037</td>\n",
       "      <td>12.834225</td>\n",
       "      <td>12.834225</td>\n",
       "      <td>0.000000</td>\n",
       "      <td>0.000000</td>\n",
       "      <td>1.069519</td>\n",
       "      <td>0.0</td>\n",
       "      <td>0.0</td>\n",
       "      <td>0.0</td>\n",
       "    </tr>\n",
       "    <tr>\n",
       "      <th>2</th>\n",
       "      <td>2</td>\n",
       "      <td>1</td>\n",
       "      <td>Wednesday Afternoon Picnic</td>\n",
       "      <td>IT WAS A  short one-paragraph item in the morn...</td>\n",
       "      <td>[57, 97, 115, 196, 318, 385, 420, 445, 504, 65...</td>\n",
       "      <td>[967, 1924, 2998, 3982, 4935, 5975, 6995, 7961...</td>\n",
       "      <td>There was a small coffee shop near the univer...</td>\n",
       "      <td>Alfred Birnbaum</td>\n",
       "      <td>A Wild Sheep Chase</td>\n",
       "      <td>( , There, was, a, small, coffee, shop, near, ...</td>\n",
       "      <td>13</td>\n",
       "      <td>195</td>\n",
       "      <td>834</td>\n",
       "      <td>250</td>\n",
       "      <td>119</td>\n",
       "      <td>29</td>\n",
       "      <td>150</td>\n",
       "      <td>9</td>\n",
       "      <td>0</td>\n",
       "      <td>1057</td>\n",
       "      <td>12.298959</td>\n",
       "      <td>184.484390</td>\n",
       "      <td>789.025544</td>\n",
       "      <td>236.518448</td>\n",
       "      <td>112.582781</td>\n",
       "      <td>27.436140</td>\n",
       "      <td>141.911069</td>\n",
       "      <td>8.514664</td>\n",
       "      <td>0.4215</td>\n",
       "      <td>0.066</td>\n",
       "      <td>0.840</td>\n",
       "      <td>0.094</td>\n",
       "      <td>18.0</td>\n",
       "      <td>26.0</td>\n",
       "      <td>28.0</td>\n",
       "      <td>14.0</td>\n",
       "      <td>1.0</td>\n",
       "      <td>35.0</td>\n",
       "      <td>38.0</td>\n",
       "      <td>19.0</td>\n",
       "      <td>6.0</td>\n",
       "      <td>6.0</td>\n",
       "      <td>11.0</td>\n",
       "      <td>11.0</td>\n",
       "      <td>4.0</td>\n",
       "      <td>13.0</td>\n",
       "      <td>1.0</td>\n",
       "      <td>0.0</td>\n",
       "      <td>0.0</td>\n",
       "      <td>0.0</td>\n",
       "      <td>17.029328</td>\n",
       "      <td>24.597919</td>\n",
       "      <td>26.490066</td>\n",
       "      <td>13.245033</td>\n",
       "      <td>0.946074</td>\n",
       "      <td>33.112583</td>\n",
       "      <td>35.950804</td>\n",
       "      <td>17.975402</td>\n",
       "      <td>5.676443</td>\n",
       "      <td>5.676443</td>\n",
       "      <td>10.406812</td>\n",
       "      <td>10.406812</td>\n",
       "      <td>3.784295</td>\n",
       "      <td>12.298959</td>\n",
       "      <td>0.946074</td>\n",
       "      <td>0.0</td>\n",
       "      <td>0.0</td>\n",
       "      <td>0.0</td>\n",
       "    </tr>\n",
       "  </tbody>\n",
       "</table>\n",
       "</div>"
      ],
      "text/plain": [
       "   book_chunk_no number                       title  \\\n",
       "0              0      1  Wednesday Afternoon Picnic   \n",
       "1              1      1  Wednesday Afternoon Picnic   \n",
       "2              2      1  Wednesday Afternoon Picnic   \n",
       "\n",
       "                                                text  \\\n",
       "0  IT WAS A  short one-paragraph item in the morn...   \n",
       "1  IT WAS A  short one-paragraph item in the morn...   \n",
       "2  IT WAS A  short one-paragraph item in the morn...   \n",
       "\n",
       "                                       fstop_indices  \\\n",
       "0  [57, 97, 115, 196, 318, 385, 420, 445, 504, 65...   \n",
       "1  [57, 97, 115, 196, 318, 385, 420, 445, 504, 65...   \n",
       "2  [57, 97, 115, 196, 318, 385, 420, 445, 504, 65...   \n",
       "\n",
       "                                       split_indices  \\\n",
       "0  [967, 1924, 2998, 3982, 4935, 5975, 6995, 7961...   \n",
       "1  [967, 1924, 2998, 3982, 4935, 5975, 6995, 7961...   \n",
       "2  [967, 1924, 2998, 3982, 4935, 5975, 6995, 7961...   \n",
       "\n",
       "                                              chunks       translator  \\\n",
       "0  IT WAS A short one-paragraph item in the morni...  Alfred Birnbaum   \n",
       "1   I got off near the end of the line. The map p...  Alfred Birnbaum   \n",
       "2   There was a small coffee shop near the univer...  Alfred Birnbaum   \n",
       "\n",
       "           book_title                                             parsed  \\\n",
       "0  A Wild Sheep Chase  (IT, WAS, A, short, one, -, paragraph, item, i...   \n",
       "1  A Wild Sheep Chase  ( , I, got, off, near, the, end, of, the, line...   \n",
       "2  A Wild Sheep Chase  ( , There, was, a, small, coffee, shop, near, ...   \n",
       "\n",
       "   n_sents  n_words  n_chars  n_syllables  n_unique_words  n_long_words  \\\n",
       "0       15      174      742          240             116            33   \n",
       "1       15      176      734          229             118            29   \n",
       "2       13      195      834          250             119            29   \n",
       "\n",
       "   n_monosyllable_words  n_polysyllable_words  trans_code  chunk_length  \\\n",
       "0                   128                    17           0           944   \n",
       "1                   132                     9           0           935   \n",
       "2                   150                     9           0          1057   \n",
       "\n",
       "   n_sents_norm  n_words_norm  n_chars_norm  n_syllables_norm  \\\n",
       "0     15.889831    184.322034    786.016949        254.237288   \n",
       "1     16.042781    188.235294    785.026738        244.919786   \n",
       "2     12.298959    184.484390    789.025544        236.518448   \n",
       "\n",
       "   n_unique_words_norm  n_long_words_norm  n_monosyllable_words_norm  \\\n",
       "0           122.881356          34.957627                 135.593220   \n",
       "1           126.203209          31.016043                 141.176471   \n",
       "2           112.582781          27.436140                 141.911069   \n",
       "\n",
       "   n_polysyllable_words_norm  vader_compound  vader_neg  vader_neu  vader_pos  \\\n",
       "0                  18.008475         -0.4798      0.075      0.862      0.064   \n",
       "1                   9.625668         -0.7902      0.079      0.891      0.030   \n",
       "2                   8.514664          0.4215      0.066      0.840      0.094   \n",
       "\n",
       "   pron_count  verb_count  det_count  adj_count  num_count  punct_count  \\\n",
       "0        18.0        20.0       31.0        9.0        2.0         33.0   \n",
       "1        17.0        22.0       25.0       13.0        5.0         29.0   \n",
       "2        18.0        26.0       28.0       14.0        1.0         35.0   \n",
       "\n",
       "   noun_count  adp_count  cconj_count  sconj_count  adv_count  aux_count  \\\n",
       "0        51.0       19.0          6.0          3.0        5.0        5.0   \n",
       "1        42.0       22.0          5.0          2.0       12.0       12.0   \n",
       "2        38.0       19.0          6.0          6.0       11.0       11.0   \n",
       "\n",
       "   part_count  propn_count  space_count  intj_count  sym_count  x_count  \\\n",
       "0         3.0          2.0          0.0         0.0        0.0      0.0   \n",
       "1         0.0          0.0          1.0         0.0        0.0      0.0   \n",
       "2         4.0         13.0          1.0         0.0        0.0      0.0   \n",
       "\n",
       "   pron_count_norm  verb_count_norm  det_count_norm  adj_count_norm  \\\n",
       "0        19.067797        21.186441       32.838983        9.533898   \n",
       "1        18.181818        23.529412       26.737968       13.903743   \n",
       "2        17.029328        24.597919       26.490066       13.245033   \n",
       "\n",
       "   num_count_norm  punct_count_norm  noun_count_norm  adp_count_norm  \\\n",
       "0        2.118644         34.957627        54.025424       20.127119   \n",
       "1        5.347594         31.016043        44.919786       23.529412   \n",
       "2        0.946074         33.112583        35.950804       17.975402   \n",
       "\n",
       "   cconj_count_norm  sconj_count_norm  adv_count_norm  aux_count_norm  \\\n",
       "0          6.355932          3.177966        5.296610        5.296610   \n",
       "1          5.347594          2.139037       12.834225       12.834225   \n",
       "2          5.676443          5.676443       10.406812       10.406812   \n",
       "\n",
       "   part_count_norm  propn_count_norm  space_count_norm  intj_count_norm  \\\n",
       "0         3.177966          2.118644          0.000000              0.0   \n",
       "1         0.000000          0.000000          1.069519              0.0   \n",
       "2         3.784295         12.298959          0.946074              0.0   \n",
       "\n",
       "   sym_count_norm  x_count_norm  \n",
       "0             0.0           0.0  \n",
       "1             0.0           0.0  \n",
       "2             0.0           0.0  "
      ]
     },
     "execution_count": 41,
     "metadata": {},
     "output_type": "execute_result"
    }
   ],
   "source": [
    "df.head(3)"
   ]
  },
  {
   "cell_type": "markdown",
   "metadata": {},
   "source": [
    "### Save dataframe as pickle"
   ]
  },
  {
   "cell_type": "code",
   "execution_count": 42,
   "metadata": {
    "ExecuteTime": {
     "end_time": "2020-06-13T14:26:18.390909Z",
     "start_time": "2020-06-13T14:26:18.383956Z"
    }
   },
   "outputs": [],
   "source": [
    "out_path = '../../../../Documents/murakami/pkl3/'\n",
    "out_name = 'df_all_v01'\n",
    "out_full_path = out_path + out_name + '.pkl'"
   ]
  },
  {
   "cell_type": "code",
   "execution_count": 43,
   "metadata": {
    "ExecuteTime": {
     "end_time": "2020-06-13T14:26:54.515891Z",
     "start_time": "2020-06-13T14:26:18.397370Z"
    }
   },
   "outputs": [],
   "source": [
    "# save pickle\n",
    "with open(out_full_path, 'wb') as fp:\n",
    "    pickle.dump(df, fp)\n",
    "\n",
    "\n",
    "# read back pickle\n",
    "with open (out_full_path, 'rb') as fp:\n",
    "    df_read = pickle.load(fp)"
   ]
  },
  {
   "cell_type": "code",
   "execution_count": 44,
   "metadata": {
    "ExecuteTime": {
     "end_time": "2020-06-13T14:26:54.625010Z",
     "start_time": "2020-06-13T14:26:54.523184Z"
    }
   },
   "outputs": [
    {
     "data": {
      "text/html": [
       "<div>\n",
       "<style scoped>\n",
       "    .dataframe tbody tr th:only-of-type {\n",
       "        vertical-align: middle;\n",
       "    }\n",
       "\n",
       "    .dataframe tbody tr th {\n",
       "        vertical-align: top;\n",
       "    }\n",
       "\n",
       "    .dataframe thead th {\n",
       "        text-align: right;\n",
       "    }\n",
       "</style>\n",
       "<table border=\"1\" class=\"dataframe\">\n",
       "  <thead>\n",
       "    <tr style=\"text-align: right;\">\n",
       "      <th></th>\n",
       "      <th>book_chunk_no</th>\n",
       "      <th>number</th>\n",
       "      <th>title</th>\n",
       "      <th>text</th>\n",
       "      <th>fstop_indices</th>\n",
       "      <th>split_indices</th>\n",
       "      <th>chunks</th>\n",
       "      <th>translator</th>\n",
       "      <th>book_title</th>\n",
       "      <th>parsed</th>\n",
       "      <th>n_sents</th>\n",
       "      <th>n_words</th>\n",
       "      <th>n_chars</th>\n",
       "      <th>n_syllables</th>\n",
       "      <th>n_unique_words</th>\n",
       "      <th>n_long_words</th>\n",
       "      <th>n_monosyllable_words</th>\n",
       "      <th>n_polysyllable_words</th>\n",
       "      <th>trans_code</th>\n",
       "      <th>chunk_length</th>\n",
       "      <th>n_sents_norm</th>\n",
       "      <th>n_words_norm</th>\n",
       "      <th>n_chars_norm</th>\n",
       "      <th>n_syllables_norm</th>\n",
       "      <th>n_unique_words_norm</th>\n",
       "      <th>n_long_words_norm</th>\n",
       "      <th>n_monosyllable_words_norm</th>\n",
       "      <th>n_polysyllable_words_norm</th>\n",
       "      <th>vader_compound</th>\n",
       "      <th>vader_neg</th>\n",
       "      <th>vader_neu</th>\n",
       "      <th>vader_pos</th>\n",
       "      <th>pron_count</th>\n",
       "      <th>verb_count</th>\n",
       "      <th>det_count</th>\n",
       "      <th>adj_count</th>\n",
       "      <th>num_count</th>\n",
       "      <th>punct_count</th>\n",
       "      <th>noun_count</th>\n",
       "      <th>adp_count</th>\n",
       "      <th>cconj_count</th>\n",
       "      <th>sconj_count</th>\n",
       "      <th>adv_count</th>\n",
       "      <th>aux_count</th>\n",
       "      <th>part_count</th>\n",
       "      <th>propn_count</th>\n",
       "      <th>space_count</th>\n",
       "      <th>intj_count</th>\n",
       "      <th>sym_count</th>\n",
       "      <th>x_count</th>\n",
       "      <th>pron_count_norm</th>\n",
       "      <th>verb_count_norm</th>\n",
       "      <th>det_count_norm</th>\n",
       "      <th>adj_count_norm</th>\n",
       "      <th>num_count_norm</th>\n",
       "      <th>punct_count_norm</th>\n",
       "      <th>noun_count_norm</th>\n",
       "      <th>adp_count_norm</th>\n",
       "      <th>cconj_count_norm</th>\n",
       "      <th>sconj_count_norm</th>\n",
       "      <th>adv_count_norm</th>\n",
       "      <th>aux_count_norm</th>\n",
       "      <th>part_count_norm</th>\n",
       "      <th>propn_count_norm</th>\n",
       "      <th>space_count_norm</th>\n",
       "      <th>intj_count_norm</th>\n",
       "      <th>sym_count_norm</th>\n",
       "      <th>x_count_norm</th>\n",
       "    </tr>\n",
       "  </thead>\n",
       "  <tbody>\n",
       "    <tr>\n",
       "      <th>0</th>\n",
       "      <td>0</td>\n",
       "      <td>1</td>\n",
       "      <td>Wednesday Afternoon Picnic</td>\n",
       "      <td>IT WAS A  short one-paragraph item in the morn...</td>\n",
       "      <td>[57, 97, 115, 196, 318, 385, 420, 445, 504, 65...</td>\n",
       "      <td>[967, 1924, 2998, 3982, 4935, 5975, 6995, 7961...</td>\n",
       "      <td>IT WAS A short one-paragraph item in the morni...</td>\n",
       "      <td>Alfred Birnbaum</td>\n",
       "      <td>A Wild Sheep Chase</td>\n",
       "      <td>(IT, WAS, A, short, one, -, paragraph, item, i...</td>\n",
       "      <td>15</td>\n",
       "      <td>174</td>\n",
       "      <td>742</td>\n",
       "      <td>240</td>\n",
       "      <td>116</td>\n",
       "      <td>33</td>\n",
       "      <td>128</td>\n",
       "      <td>17</td>\n",
       "      <td>0</td>\n",
       "      <td>944</td>\n",
       "      <td>15.889831</td>\n",
       "      <td>184.322034</td>\n",
       "      <td>786.016949</td>\n",
       "      <td>254.237288</td>\n",
       "      <td>122.881356</td>\n",
       "      <td>34.957627</td>\n",
       "      <td>135.593220</td>\n",
       "      <td>18.008475</td>\n",
       "      <td>-0.4798</td>\n",
       "      <td>0.075</td>\n",
       "      <td>0.862</td>\n",
       "      <td>0.064</td>\n",
       "      <td>18.0</td>\n",
       "      <td>20.0</td>\n",
       "      <td>31.0</td>\n",
       "      <td>9.0</td>\n",
       "      <td>2.0</td>\n",
       "      <td>33.0</td>\n",
       "      <td>51.0</td>\n",
       "      <td>19.0</td>\n",
       "      <td>6.0</td>\n",
       "      <td>3.0</td>\n",
       "      <td>5.0</td>\n",
       "      <td>5.0</td>\n",
       "      <td>3.0</td>\n",
       "      <td>2.0</td>\n",
       "      <td>0.0</td>\n",
       "      <td>0.0</td>\n",
       "      <td>0.0</td>\n",
       "      <td>0.0</td>\n",
       "      <td>19.067797</td>\n",
       "      <td>21.186441</td>\n",
       "      <td>32.838983</td>\n",
       "      <td>9.533898</td>\n",
       "      <td>2.118644</td>\n",
       "      <td>34.957627</td>\n",
       "      <td>54.025424</td>\n",
       "      <td>20.127119</td>\n",
       "      <td>6.355932</td>\n",
       "      <td>3.177966</td>\n",
       "      <td>5.296610</td>\n",
       "      <td>5.296610</td>\n",
       "      <td>3.177966</td>\n",
       "      <td>2.118644</td>\n",
       "      <td>0.000000</td>\n",
       "      <td>0.000000</td>\n",
       "      <td>0.0</td>\n",
       "      <td>0.0</td>\n",
       "    </tr>\n",
       "    <tr>\n",
       "      <th>1</th>\n",
       "      <td>1</td>\n",
       "      <td>1</td>\n",
       "      <td>Wednesday Afternoon Picnic</td>\n",
       "      <td>IT WAS A  short one-paragraph item in the morn...</td>\n",
       "      <td>[57, 97, 115, 196, 318, 385, 420, 445, 504, 65...</td>\n",
       "      <td>[967, 1924, 2998, 3982, 4935, 5975, 6995, 7961...</td>\n",
       "      <td>I got off near the end of the line. The map p...</td>\n",
       "      <td>Alfred Birnbaum</td>\n",
       "      <td>A Wild Sheep Chase</td>\n",
       "      <td>( , I, got, off, near, the, end, of, the, line...</td>\n",
       "      <td>15</td>\n",
       "      <td>176</td>\n",
       "      <td>734</td>\n",
       "      <td>229</td>\n",
       "      <td>118</td>\n",
       "      <td>29</td>\n",
       "      <td>132</td>\n",
       "      <td>9</td>\n",
       "      <td>0</td>\n",
       "      <td>935</td>\n",
       "      <td>16.042781</td>\n",
       "      <td>188.235294</td>\n",
       "      <td>785.026738</td>\n",
       "      <td>244.919786</td>\n",
       "      <td>126.203209</td>\n",
       "      <td>31.016043</td>\n",
       "      <td>141.176471</td>\n",
       "      <td>9.625668</td>\n",
       "      <td>-0.7902</td>\n",
       "      <td>0.079</td>\n",
       "      <td>0.891</td>\n",
       "      <td>0.030</td>\n",
       "      <td>17.0</td>\n",
       "      <td>22.0</td>\n",
       "      <td>25.0</td>\n",
       "      <td>13.0</td>\n",
       "      <td>5.0</td>\n",
       "      <td>29.0</td>\n",
       "      <td>42.0</td>\n",
       "      <td>22.0</td>\n",
       "      <td>5.0</td>\n",
       "      <td>2.0</td>\n",
       "      <td>12.0</td>\n",
       "      <td>12.0</td>\n",
       "      <td>0.0</td>\n",
       "      <td>0.0</td>\n",
       "      <td>1.0</td>\n",
       "      <td>0.0</td>\n",
       "      <td>0.0</td>\n",
       "      <td>0.0</td>\n",
       "      <td>18.181818</td>\n",
       "      <td>23.529412</td>\n",
       "      <td>26.737968</td>\n",
       "      <td>13.903743</td>\n",
       "      <td>5.347594</td>\n",
       "      <td>31.016043</td>\n",
       "      <td>44.919786</td>\n",
       "      <td>23.529412</td>\n",
       "      <td>5.347594</td>\n",
       "      <td>2.139037</td>\n",
       "      <td>12.834225</td>\n",
       "      <td>12.834225</td>\n",
       "      <td>0.000000</td>\n",
       "      <td>0.000000</td>\n",
       "      <td>1.069519</td>\n",
       "      <td>0.000000</td>\n",
       "      <td>0.0</td>\n",
       "      <td>0.0</td>\n",
       "    </tr>\n",
       "    <tr>\n",
       "      <th>2</th>\n",
       "      <td>2</td>\n",
       "      <td>1</td>\n",
       "      <td>Wednesday Afternoon Picnic</td>\n",
       "      <td>IT WAS A  short one-paragraph item in the morn...</td>\n",
       "      <td>[57, 97, 115, 196, 318, 385, 420, 445, 504, 65...</td>\n",
       "      <td>[967, 1924, 2998, 3982, 4935, 5975, 6995, 7961...</td>\n",
       "      <td>There was a small coffee shop near the univer...</td>\n",
       "      <td>Alfred Birnbaum</td>\n",
       "      <td>A Wild Sheep Chase</td>\n",
       "      <td>( , There, was, a, small, coffee, shop, near, ...</td>\n",
       "      <td>13</td>\n",
       "      <td>195</td>\n",
       "      <td>834</td>\n",
       "      <td>250</td>\n",
       "      <td>119</td>\n",
       "      <td>29</td>\n",
       "      <td>150</td>\n",
       "      <td>9</td>\n",
       "      <td>0</td>\n",
       "      <td>1057</td>\n",
       "      <td>12.298959</td>\n",
       "      <td>184.484390</td>\n",
       "      <td>789.025544</td>\n",
       "      <td>236.518448</td>\n",
       "      <td>112.582781</td>\n",
       "      <td>27.436140</td>\n",
       "      <td>141.911069</td>\n",
       "      <td>8.514664</td>\n",
       "      <td>0.4215</td>\n",
       "      <td>0.066</td>\n",
       "      <td>0.840</td>\n",
       "      <td>0.094</td>\n",
       "      <td>18.0</td>\n",
       "      <td>26.0</td>\n",
       "      <td>28.0</td>\n",
       "      <td>14.0</td>\n",
       "      <td>1.0</td>\n",
       "      <td>35.0</td>\n",
       "      <td>38.0</td>\n",
       "      <td>19.0</td>\n",
       "      <td>6.0</td>\n",
       "      <td>6.0</td>\n",
       "      <td>11.0</td>\n",
       "      <td>11.0</td>\n",
       "      <td>4.0</td>\n",
       "      <td>13.0</td>\n",
       "      <td>1.0</td>\n",
       "      <td>0.0</td>\n",
       "      <td>0.0</td>\n",
       "      <td>0.0</td>\n",
       "      <td>17.029328</td>\n",
       "      <td>24.597919</td>\n",
       "      <td>26.490066</td>\n",
       "      <td>13.245033</td>\n",
       "      <td>0.946074</td>\n",
       "      <td>33.112583</td>\n",
       "      <td>35.950804</td>\n",
       "      <td>17.975402</td>\n",
       "      <td>5.676443</td>\n",
       "      <td>5.676443</td>\n",
       "      <td>10.406812</td>\n",
       "      <td>10.406812</td>\n",
       "      <td>3.784295</td>\n",
       "      <td>12.298959</td>\n",
       "      <td>0.946074</td>\n",
       "      <td>0.000000</td>\n",
       "      <td>0.0</td>\n",
       "      <td>0.0</td>\n",
       "    </tr>\n",
       "    <tr>\n",
       "      <th>3</th>\n",
       "      <td>3</td>\n",
       "      <td>1</td>\n",
       "      <td>Wednesday Afternoon Picnic</td>\n",
       "      <td>IT WAS A  short one-paragraph item in the morn...</td>\n",
       "      <td>[57, 97, 115, 196, 318, 385, 420, 445, 504, 65...</td>\n",
       "      <td>[967, 1924, 2998, 3982, 4935, 5975, 6995, 7961...</td>\n",
       "      <td>She and I would trade books, talk endlessly, ...</td>\n",
       "      <td>Alfred Birnbaum</td>\n",
       "      <td>A Wild Sheep Chase</td>\n",
       "      <td>( , She, and, I, would, trade, books, ,, talk,...</td>\n",
       "      <td>14</td>\n",
       "      <td>179</td>\n",
       "      <td>754</td>\n",
       "      <td>230</td>\n",
       "      <td>109</td>\n",
       "      <td>25</td>\n",
       "      <td>143</td>\n",
       "      <td>11</td>\n",
       "      <td>0</td>\n",
       "      <td>963</td>\n",
       "      <td>14.537902</td>\n",
       "      <td>185.877466</td>\n",
       "      <td>782.969886</td>\n",
       "      <td>238.836968</td>\n",
       "      <td>113.187954</td>\n",
       "      <td>25.960540</td>\n",
       "      <td>148.494289</td>\n",
       "      <td>11.422638</td>\n",
       "      <td>0.7184</td>\n",
       "      <td>0.036</td>\n",
       "      <td>0.895</td>\n",
       "      <td>0.069</td>\n",
       "      <td>26.0</td>\n",
       "      <td>38.0</td>\n",
       "      <td>24.0</td>\n",
       "      <td>6.0</td>\n",
       "      <td>0.0</td>\n",
       "      <td>37.0</td>\n",
       "      <td>31.0</td>\n",
       "      <td>19.0</td>\n",
       "      <td>4.0</td>\n",
       "      <td>2.0</td>\n",
       "      <td>17.0</td>\n",
       "      <td>8.0</td>\n",
       "      <td>4.0</td>\n",
       "      <td>1.0</td>\n",
       "      <td>1.0</td>\n",
       "      <td>0.0</td>\n",
       "      <td>0.0</td>\n",
       "      <td>0.0</td>\n",
       "      <td>26.998962</td>\n",
       "      <td>39.460021</td>\n",
       "      <td>24.922118</td>\n",
       "      <td>6.230530</td>\n",
       "      <td>0.000000</td>\n",
       "      <td>38.421599</td>\n",
       "      <td>32.191070</td>\n",
       "      <td>19.730010</td>\n",
       "      <td>4.153686</td>\n",
       "      <td>2.076843</td>\n",
       "      <td>17.653167</td>\n",
       "      <td>8.307373</td>\n",
       "      <td>4.153686</td>\n",
       "      <td>1.038422</td>\n",
       "      <td>1.038422</td>\n",
       "      <td>0.000000</td>\n",
       "      <td>0.0</td>\n",
       "      <td>0.0</td>\n",
       "    </tr>\n",
       "    <tr>\n",
       "      <th>4</th>\n",
       "      <td>4</td>\n",
       "      <td>1</td>\n",
       "      <td>Wednesday Afternoon Picnic</td>\n",
       "      <td>IT WAS A  short one-paragraph item in the morn...</td>\n",
       "      <td>[57, 97, 115, 196, 318, 385, 420, 445, 504, 65...</td>\n",
       "      <td>[967, 1924, 2998, 3982, 4935, 5975, 6995, 7961...</td>\n",
       "      <td>Once, and only once, I asked her about these ...</td>\n",
       "      <td>Alfred Birnbaum</td>\n",
       "      <td>A Wild Sheep Chase</td>\n",
       "      <td>( , Once, ,, and, only, once, ,, I, asked, her...</td>\n",
       "      <td>17</td>\n",
       "      <td>174</td>\n",
       "      <td>710</td>\n",
       "      <td>223</td>\n",
       "      <td>118</td>\n",
       "      <td>25</td>\n",
       "      <td>137</td>\n",
       "      <td>11</td>\n",
       "      <td>0</td>\n",
       "      <td>925</td>\n",
       "      <td>18.378378</td>\n",
       "      <td>188.108108</td>\n",
       "      <td>767.567568</td>\n",
       "      <td>241.081081</td>\n",
       "      <td>127.567568</td>\n",
       "      <td>27.027027</td>\n",
       "      <td>148.108108</td>\n",
       "      <td>11.891892</td>\n",
       "      <td>-0.5740</td>\n",
       "      <td>0.064</td>\n",
       "      <td>0.887</td>\n",
       "      <td>0.049</td>\n",
       "      <td>23.0</td>\n",
       "      <td>28.0</td>\n",
       "      <td>22.0</td>\n",
       "      <td>12.0</td>\n",
       "      <td>1.0</td>\n",
       "      <td>43.0</td>\n",
       "      <td>25.0</td>\n",
       "      <td>18.0</td>\n",
       "      <td>8.0</td>\n",
       "      <td>2.0</td>\n",
       "      <td>18.0</td>\n",
       "      <td>10.0</td>\n",
       "      <td>3.0</td>\n",
       "      <td>2.0</td>\n",
       "      <td>1.0</td>\n",
       "      <td>2.0</td>\n",
       "      <td>0.0</td>\n",
       "      <td>0.0</td>\n",
       "      <td>24.864865</td>\n",
       "      <td>30.270270</td>\n",
       "      <td>23.783784</td>\n",
       "      <td>12.972973</td>\n",
       "      <td>1.081081</td>\n",
       "      <td>46.486486</td>\n",
       "      <td>27.027027</td>\n",
       "      <td>19.459459</td>\n",
       "      <td>8.648649</td>\n",
       "      <td>2.162162</td>\n",
       "      <td>19.459459</td>\n",
       "      <td>10.810811</td>\n",
       "      <td>3.243243</td>\n",
       "      <td>2.162162</td>\n",
       "      <td>1.081081</td>\n",
       "      <td>2.162162</td>\n",
       "      <td>0.0</td>\n",
       "      <td>0.0</td>\n",
       "    </tr>\n",
       "  </tbody>\n",
       "</table>\n",
       "</div>"
      ],
      "text/plain": [
       "   book_chunk_no number                       title  \\\n",
       "0              0      1  Wednesday Afternoon Picnic   \n",
       "1              1      1  Wednesday Afternoon Picnic   \n",
       "2              2      1  Wednesday Afternoon Picnic   \n",
       "3              3      1  Wednesday Afternoon Picnic   \n",
       "4              4      1  Wednesday Afternoon Picnic   \n",
       "\n",
       "                                                text  \\\n",
       "0  IT WAS A  short one-paragraph item in the morn...   \n",
       "1  IT WAS A  short one-paragraph item in the morn...   \n",
       "2  IT WAS A  short one-paragraph item in the morn...   \n",
       "3  IT WAS A  short one-paragraph item in the morn...   \n",
       "4  IT WAS A  short one-paragraph item in the morn...   \n",
       "\n",
       "                                       fstop_indices  \\\n",
       "0  [57, 97, 115, 196, 318, 385, 420, 445, 504, 65...   \n",
       "1  [57, 97, 115, 196, 318, 385, 420, 445, 504, 65...   \n",
       "2  [57, 97, 115, 196, 318, 385, 420, 445, 504, 65...   \n",
       "3  [57, 97, 115, 196, 318, 385, 420, 445, 504, 65...   \n",
       "4  [57, 97, 115, 196, 318, 385, 420, 445, 504, 65...   \n",
       "\n",
       "                                       split_indices  \\\n",
       "0  [967, 1924, 2998, 3982, 4935, 5975, 6995, 7961...   \n",
       "1  [967, 1924, 2998, 3982, 4935, 5975, 6995, 7961...   \n",
       "2  [967, 1924, 2998, 3982, 4935, 5975, 6995, 7961...   \n",
       "3  [967, 1924, 2998, 3982, 4935, 5975, 6995, 7961...   \n",
       "4  [967, 1924, 2998, 3982, 4935, 5975, 6995, 7961...   \n",
       "\n",
       "                                              chunks       translator  \\\n",
       "0  IT WAS A short one-paragraph item in the morni...  Alfred Birnbaum   \n",
       "1   I got off near the end of the line. The map p...  Alfred Birnbaum   \n",
       "2   There was a small coffee shop near the univer...  Alfred Birnbaum   \n",
       "3   She and I would trade books, talk endlessly, ...  Alfred Birnbaum   \n",
       "4   Once, and only once, I asked her about these ...  Alfred Birnbaum   \n",
       "\n",
       "           book_title                                             parsed  \\\n",
       "0  A Wild Sheep Chase  (IT, WAS, A, short, one, -, paragraph, item, i...   \n",
       "1  A Wild Sheep Chase  ( , I, got, off, near, the, end, of, the, line...   \n",
       "2  A Wild Sheep Chase  ( , There, was, a, small, coffee, shop, near, ...   \n",
       "3  A Wild Sheep Chase  ( , She, and, I, would, trade, books, ,, talk,...   \n",
       "4  A Wild Sheep Chase  ( , Once, ,, and, only, once, ,, I, asked, her...   \n",
       "\n",
       "   n_sents  n_words  n_chars  n_syllables  n_unique_words  n_long_words  \\\n",
       "0       15      174      742          240             116            33   \n",
       "1       15      176      734          229             118            29   \n",
       "2       13      195      834          250             119            29   \n",
       "3       14      179      754          230             109            25   \n",
       "4       17      174      710          223             118            25   \n",
       "\n",
       "   n_monosyllable_words  n_polysyllable_words  trans_code  chunk_length  \\\n",
       "0                   128                    17           0           944   \n",
       "1                   132                     9           0           935   \n",
       "2                   150                     9           0          1057   \n",
       "3                   143                    11           0           963   \n",
       "4                   137                    11           0           925   \n",
       "\n",
       "   n_sents_norm  n_words_norm  n_chars_norm  n_syllables_norm  \\\n",
       "0     15.889831    184.322034    786.016949        254.237288   \n",
       "1     16.042781    188.235294    785.026738        244.919786   \n",
       "2     12.298959    184.484390    789.025544        236.518448   \n",
       "3     14.537902    185.877466    782.969886        238.836968   \n",
       "4     18.378378    188.108108    767.567568        241.081081   \n",
       "\n",
       "   n_unique_words_norm  n_long_words_norm  n_monosyllable_words_norm  \\\n",
       "0           122.881356          34.957627                 135.593220   \n",
       "1           126.203209          31.016043                 141.176471   \n",
       "2           112.582781          27.436140                 141.911069   \n",
       "3           113.187954          25.960540                 148.494289   \n",
       "4           127.567568          27.027027                 148.108108   \n",
       "\n",
       "   n_polysyllable_words_norm  vader_compound  vader_neg  vader_neu  vader_pos  \\\n",
       "0                  18.008475         -0.4798      0.075      0.862      0.064   \n",
       "1                   9.625668         -0.7902      0.079      0.891      0.030   \n",
       "2                   8.514664          0.4215      0.066      0.840      0.094   \n",
       "3                  11.422638          0.7184      0.036      0.895      0.069   \n",
       "4                  11.891892         -0.5740      0.064      0.887      0.049   \n",
       "\n",
       "   pron_count  verb_count  det_count  adj_count  num_count  punct_count  \\\n",
       "0        18.0        20.0       31.0        9.0        2.0         33.0   \n",
       "1        17.0        22.0       25.0       13.0        5.0         29.0   \n",
       "2        18.0        26.0       28.0       14.0        1.0         35.0   \n",
       "3        26.0        38.0       24.0        6.0        0.0         37.0   \n",
       "4        23.0        28.0       22.0       12.0        1.0         43.0   \n",
       "\n",
       "   noun_count  adp_count  cconj_count  sconj_count  adv_count  aux_count  \\\n",
       "0        51.0       19.0          6.0          3.0        5.0        5.0   \n",
       "1        42.0       22.0          5.0          2.0       12.0       12.0   \n",
       "2        38.0       19.0          6.0          6.0       11.0       11.0   \n",
       "3        31.0       19.0          4.0          2.0       17.0        8.0   \n",
       "4        25.0       18.0          8.0          2.0       18.0       10.0   \n",
       "\n",
       "   part_count  propn_count  space_count  intj_count  sym_count  x_count  \\\n",
       "0         3.0          2.0          0.0         0.0        0.0      0.0   \n",
       "1         0.0          0.0          1.0         0.0        0.0      0.0   \n",
       "2         4.0         13.0          1.0         0.0        0.0      0.0   \n",
       "3         4.0          1.0          1.0         0.0        0.0      0.0   \n",
       "4         3.0          2.0          1.0         2.0        0.0      0.0   \n",
       "\n",
       "   pron_count_norm  verb_count_norm  det_count_norm  adj_count_norm  \\\n",
       "0        19.067797        21.186441       32.838983        9.533898   \n",
       "1        18.181818        23.529412       26.737968       13.903743   \n",
       "2        17.029328        24.597919       26.490066       13.245033   \n",
       "3        26.998962        39.460021       24.922118        6.230530   \n",
       "4        24.864865        30.270270       23.783784       12.972973   \n",
       "\n",
       "   num_count_norm  punct_count_norm  noun_count_norm  adp_count_norm  \\\n",
       "0        2.118644         34.957627        54.025424       20.127119   \n",
       "1        5.347594         31.016043        44.919786       23.529412   \n",
       "2        0.946074         33.112583        35.950804       17.975402   \n",
       "3        0.000000         38.421599        32.191070       19.730010   \n",
       "4        1.081081         46.486486        27.027027       19.459459   \n",
       "\n",
       "   cconj_count_norm  sconj_count_norm  adv_count_norm  aux_count_norm  \\\n",
       "0          6.355932          3.177966        5.296610        5.296610   \n",
       "1          5.347594          2.139037       12.834225       12.834225   \n",
       "2          5.676443          5.676443       10.406812       10.406812   \n",
       "3          4.153686          2.076843       17.653167        8.307373   \n",
       "4          8.648649          2.162162       19.459459       10.810811   \n",
       "\n",
       "   part_count_norm  propn_count_norm  space_count_norm  intj_count_norm  \\\n",
       "0         3.177966          2.118644          0.000000         0.000000   \n",
       "1         0.000000          0.000000          1.069519         0.000000   \n",
       "2         3.784295         12.298959          0.946074         0.000000   \n",
       "3         4.153686          1.038422          1.038422         0.000000   \n",
       "4         3.243243          2.162162          1.081081         2.162162   \n",
       "\n",
       "   sym_count_norm  x_count_norm  \n",
       "0             0.0           0.0  \n",
       "1             0.0           0.0  \n",
       "2             0.0           0.0  \n",
       "3             0.0           0.0  \n",
       "4             0.0           0.0  "
      ]
     },
     "execution_count": 44,
     "metadata": {},
     "output_type": "execute_result"
    }
   ],
   "source": [
    "df_read.head()"
   ]
  },
  {
   "cell_type": "markdown",
   "metadata": {},
   "source": [
    "### Check some chunks to see how the text looks"
   ]
  },
  {
   "cell_type": "code",
   "execution_count": 45,
   "metadata": {
    "ExecuteTime": {
     "end_time": "2020-06-13T14:26:54.682819Z",
     "start_time": "2020-06-13T14:26:54.630078Z"
    }
   },
   "outputs": [
    {
     "data": {
      "text/plain": [
       "' The spaghetti pot was steaming nicely, and Claudio Abbado was still conducting The Thieving Magpie . “Sorry, but you caught me in the middle of cooking spaghetti. Could you call back later?” “Spaghetti!? What are you doing cooking spaghetti at 10.30 in the morning?” “That’s none of your business,” I said. “ I decide what I eat and when I eat it.” “Fair enough. I’ll call back,” she said, her voice now flat and expressionless. A slight change in mood can do amazing things to the tone of a person’s voice. “Hold on a minute,” I said before she could hang up. “If this is some new sales gimmick, you can forget it. I’m out of work. I’m not in the market for anything.” “Don’t worry. I know.” “You know? You know what?” “That you’re out of work. I know about that. So, go and cook your precious spaghetti.” “Who the hell –” She rang off. Deprived of outlet for my feelings, I stared at the phone in my hand until I remembered the spaghetti.'"
      ]
     },
     "execution_count": 45,
     "metadata": {},
     "output_type": "execute_result"
    }
   ],
   "source": [
    "df[df.book_title == 'The Wind Up Bird Chronicle'].chunks.iloc[1]"
   ]
  },
  {
   "cell_type": "code",
   "execution_count": 46,
   "metadata": {
    "ExecuteTime": {
     "end_time": "2020-06-13T14:26:54.708697Z",
     "start_time": "2020-06-13T14:26:54.690861Z"
    }
   },
   "outputs": [
    {
     "data": {
      "text/plain": [
       " The spaghetti pot was steaming nicely, and Claudio Abbado was still conducting The Thieving Magpie . “Sorry, but you caught me in the middle of cooking spaghetti. Could you call back later?” “Spaghetti!? What are you doing cooking spaghetti at 10.30 in the morning?” “That’s none of your business,” I said. “ I decide what I eat and when I eat it.” “Fair enough. I’ll call back,” she said, her voice now flat and expressionless. A slight change in mood can do amazing things to the tone of a person’s voice. “Hold on a minute,” I said before she could hang up. “If this is some new sales gimmick, you can forget it. I’m out of work. I’m not in the market for anything.” “Don’t worry. I know.” “You know? You know what?” “That you’re out of work. I know about that. So, go and cook your precious spaghetti.” “Who the hell –” She rang off. Deprived of outlet for my feelings, I stared at the phone in my hand until I remembered the spaghetti."
      ]
     },
     "execution_count": 46,
     "metadata": {},
     "output_type": "execute_result"
    }
   ],
   "source": [
    "df[df.book_title == 'The Wind Up Bird Chronicle'].parsed.iloc[1]"
   ]
  },
  {
   "cell_type": "code",
   "execution_count": 47,
   "metadata": {
    "ExecuteTime": {
     "end_time": "2020-06-13T14:26:54.730707Z",
     "start_time": "2020-06-13T14:26:54.711870Z"
    }
   },
   "outputs": [
    {
     "data": {
      "text/plain": [
       "' I got off near the end of the line. The map proved about as helpful as a globe would have been. I ended up buying pack after pack of cigarettes, asking directions each time. It was a wood-frame house with a brown board fence around it. A small yard, with an abandoned ceramic brazier filled with standing rainwater. The ground was dark and damp. She’d left home when she was sixteen. Which may have been the reason why the funeral was so somber. Only family present, nearly everyone older. It was presided over by her older brother, barely thirty, or maybe it was her brother-in-law. Her father, a shortish man in his mid-fifties, wore a black armband of mourning. He stood by the entrance and scarcely moved. Reminded me of a street washed clean after a downpour. On leaving, I lowered my head in silence, and he lowered his head in return, without a word. I met her in autumn nine years ago, when I was twenty and she was seventeen.'"
      ]
     },
     "execution_count": 47,
     "metadata": {},
     "output_type": "execute_result"
    }
   ],
   "source": [
    "df[df.book_title == 'A Wild Sheep Chase'].chunks.iloc[1]"
   ]
  },
  {
   "cell_type": "code",
   "execution_count": 48,
   "metadata": {
    "ExecuteTime": {
     "end_time": "2020-06-13T14:26:54.760920Z",
     "start_time": "2020-06-13T14:26:54.734587Z"
    }
   },
   "outputs": [
    {
     "data": {
      "text/plain": [
       " I got off near the end of the line. The map proved about as helpful as a globe would have been. I ended up buying pack after pack of cigarettes, asking directions each time. It was a wood-frame house with a brown board fence around it. A small yard, with an abandoned ceramic brazier filled with standing rainwater. The ground was dark and damp. She’d left home when she was sixteen. Which may have been the reason why the funeral was so somber. Only family present, nearly everyone older. It was presided over by her older brother, barely thirty, or maybe it was her brother-in-law. Her father, a shortish man in his mid-fifties, wore a black armband of mourning. He stood by the entrance and scarcely moved. Reminded me of a street washed clean after a downpour. On leaving, I lowered my head in silence, and he lowered his head in return, without a word. I met her in autumn nine years ago, when I was twenty and she was seventeen."
      ]
     },
     "execution_count": 48,
     "metadata": {},
     "output_type": "execute_result"
    }
   ],
   "source": [
    "df[df.book_title == 'A Wild Sheep Chase'].parsed.iloc[1]"
   ]
  },
  {
   "cell_type": "code",
   "execution_count": 49,
   "metadata": {
    "ExecuteTime": {
     "end_time": "2020-06-13T14:26:54.792363Z",
     "start_time": "2020-06-13T14:26:54.766494Z"
    }
   },
   "outputs": [
    {
     "data": {
      "text/plain": [
       "'\"Which do you think?\" \"I have absolutely no idea. Whichever, he hardly seems too together.\" \"He’s a doctor. Dr. Miyata,\" said Naoko. \"He’s got to be the biggest nut around here. I’d wager on it,\" said Reiko. \"Him and Mr. Omura, the gatekeeper, who’s pretty far out, too,\" said Naoko. \"Yeah, he’s crazy all right,\" said Reiko, nodding as she jabbed a fork into her broccoli. \"The guy shouts who knows what while he does those im\\xadpossible exercises every morning. Then, before Naoko’s time, there was this girl named Kinoshita in accounting who tried to commit suicide, not to mention Nurse Tokushima who became a real bad alcoholic and had to quit last year.\" \"Sounds like the staff and the patients ought to change places,\" I said with some concern. · \"You said it,\" said Reiko, waving her fork. \"I see you’re getting to know the ropes around here.\" \"So it would seem,\" I agreed. \"The together thing about us,\" said Reiko, \"is that we know we’re not together.'"
      ]
     },
     "execution_count": 49,
     "metadata": {},
     "output_type": "execute_result"
    }
   ],
   "source": [
    "df[(df.book_title == 'Norwegian Wood') & (df.translator == 'Alfred Birnbaum')].chunks.iloc[1]"
   ]
  },
  {
   "cell_type": "code",
   "execution_count": 50,
   "metadata": {
    "ExecuteTime": {
     "end_time": "2020-06-13T14:26:54.816658Z",
     "start_time": "2020-06-13T14:26:54.797285Z"
    }
   },
   "outputs": [
    {
     "data": {
      "text/plain": [
       "\"Which do you think?\" \"I have absolutely no idea. Whichever, he hardly seems too together.\" \"He’s a doctor. Dr. Miyata,\" said Naoko. \"He’s got to be the biggest nut around here. I’d wager on it,\" said Reiko. \"Him and Mr. Omura, the gatekeeper, who’s pretty far out, too,\" said Naoko. \"Yeah, he’s crazy all right,\" said Reiko, nodding as she jabbed a fork into her broccoli. \"The guy shouts who knows what while he does those im­possible exercises every morning. Then, before Naoko’s time, there was this girl named Kinoshita in accounting who tried to commit suicide, not to mention Nurse Tokushima who became a real bad alcoholic and had to quit last year.\" \"Sounds like the staff and the patients ought to change places,\" I said with some concern. · \"You said it,\" said Reiko, waving her fork. \"I see you’re getting to know the ropes around here.\" \"So it would seem,\" I agreed. \"The together thing about us,\" said Reiko, \"is that we know we’re not together."
      ]
     },
     "execution_count": 50,
     "metadata": {},
     "output_type": "execute_result"
    }
   ],
   "source": [
    "df[(df.book_title == 'Norwegian Wood') & (df.translator == 'Alfred Birnbaum')].parsed.iloc[1]"
   ]
  },
  {
   "cell_type": "code",
   "execution_count": 51,
   "metadata": {
    "ExecuteTime": {
     "end_time": "2020-06-13T14:26:54.849258Z",
     "start_time": "2020-06-13T14:26:54.826318Z"
    }
   },
   "outputs": [
    {
     "data": {
      "text/plain": [
       "'I straightened up and looked out of the window at the dark clouds hanging over the North Sea, thinking of all I had lost in the course of my life: times gone for ever, friends who had died or disappeared, feelings I would never know again. The plane reached the gate. People began unfastening their seatbelts and pulling luggage from the overhead lockers, and all the while I was in the meadow. I could smell the grass, feel the wind on my face, hear the cries of the birds. Autumn 1969, and soon I would be 20. The stewardess came to check on me again. This time she sat next to me and asked if I was all right. \"I’m fine, thanks,\" I said with a smile. \"Just feeling kind of blue.\" \"I know what you mean,\" she said. \"It happens to me, too, every once in a while.\" She stood and gave me a lovely smile. \"Well, then, have a nice trip. Auf Wiedersehen.\" \"Auf Wiedersehen.\" Eighteen years have gone by, and still I can bring back every detail of that day in the meadow. Washed clean of summer’s dust by days of gentle rain, the mountains wore a deep, brilliant green. The October breeze set white fronds of head-high grasses swaying.'"
      ]
     },
     "execution_count": 51,
     "metadata": {},
     "output_type": "execute_result"
    }
   ],
   "source": [
    "df[(df.book_title == 'Norwegian Wood') & (df.translator == 'Jay Rubin')].chunks.iloc[1]"
   ]
  },
  {
   "cell_type": "code",
   "execution_count": 52,
   "metadata": {
    "ExecuteTime": {
     "end_time": "2020-06-13T14:26:54.874903Z",
     "start_time": "2020-06-13T14:26:54.859603Z"
    }
   },
   "outputs": [
    {
     "data": {
      "text/plain": [
       "I straightened up and looked out of the window at the dark clouds hanging over the North Sea, thinking of all I had lost in the course of my life: times gone for ever, friends who had died or disappeared, feelings I would never know again. The plane reached the gate. People began unfastening their seatbelts and pulling luggage from the overhead lockers, and all the while I was in the meadow. I could smell the grass, feel the wind on my face, hear the cries of the birds. Autumn 1969, and soon I would be 20. The stewardess came to check on me again. This time she sat next to me and asked if I was all right. \"I’m fine, thanks,\" I said with a smile. \"Just feeling kind of blue.\" \"I know what you mean,\" she said. \"It happens to me, too, every once in a while.\" She stood and gave me a lovely smile. \"Well, then, have a nice trip. Auf Wiedersehen.\" \"Auf Wiedersehen.\" Eighteen years have gone by, and still I can bring back every detail of that day in the meadow. Washed clean of summer’s dust by days of gentle rain, the mountains wore a deep, brilliant green. The October breeze set white fronds of head-high grasses swaying."
      ]
     },
     "execution_count": 52,
     "metadata": {},
     "output_type": "execute_result"
    }
   ],
   "source": [
    "df[(df.book_title == 'Norwegian Wood') & (df.translator == 'Jay Rubin')].parsed.iloc[1]"
   ]
  },
  {
   "cell_type": "code",
   "execution_count": 53,
   "metadata": {
    "ExecuteTime": {
     "end_time": "2020-06-13T14:26:54.909935Z",
     "start_time": "2020-06-13T14:26:54.881354Z"
    }
   },
   "outputs": [
    {
     "data": {
      "text/plain": [
       "'And I pride myself on a near-perfect ear for voices, so I’m sure there’s no mistake. This is the voice of a woman I don’t know. A soft, low, nondescript voice. “Pardon me, but what number might you have been calling?” I put on my most polite language. “What difference does that make? All I want is ten minutes of your time. Ten minutes to come to an understanding.” She cinches the matter quick and neat. “Come to an understanding?” “Of our feelings,” says the woman succinctly. I crane my neck back through the door I’ve left open to peer into the kitchen. A plume of white steam rising cheerfully from the spaghetti pot, and Abbado is still conducting hisGazza. “If you don’t mind, I’ve got spaghetti on right now. It’s almost done, and it’ll be ruined if I talk with you for ten minutes. So I’m going to hang up, all right?” “Spaghetti?” the woman sputters in disbelief. “It’s only ten-thirty in the morning. What are you doing cooking spaghetti at ten-thirty in the morning? Kind of strange, don’t you think?” “Strange or not, what’s it to you?” I say.'"
      ]
     },
     "execution_count": 53,
     "metadata": {},
     "output_type": "execute_result"
    }
   ],
   "source": [
    "df[df.book_title == 'The Elephant Vanishes'].chunks.iloc[1]"
   ]
  },
  {
   "cell_type": "code",
   "execution_count": 54,
   "metadata": {
    "ExecuteTime": {
     "end_time": "2020-06-13T14:26:54.930838Z",
     "start_time": "2020-06-13T14:26:54.914396Z"
    }
   },
   "outputs": [
    {
     "data": {
      "text/plain": [
       "And I pride myself on a near-perfect ear for voices, so I’m sure there’s no mistake. This is the voice of a woman I don’t know. A soft, low, nondescript voice. “Pardon me, but what number might you have been calling?” I put on my most polite language. “What difference does that make? All I want is ten minutes of your time. Ten minutes to come to an understanding.” She cinches the matter quick and neat. “Come to an understanding?” “Of our feelings,” says the woman succinctly. I crane my neck back through the door I’ve left open to peer into the kitchen. A plume of white steam rising cheerfully from the spaghetti pot, and Abbado is still conducting hisGazza. “If you don’t mind, I’ve got spaghetti on right now. It’s almost done, and it’ll be ruined if I talk with you for ten minutes. So I’m going to hang up, all right?” “Spaghetti?” the woman sputters in disbelief. “It’s only ten-thirty in the morning. What are you doing cooking spaghetti at ten-thirty in the morning? Kind of strange, don’t you think?” “Strange or not, what’s it to you?” I say."
      ]
     },
     "execution_count": 54,
     "metadata": {},
     "output_type": "execute_result"
    }
   ],
   "source": [
    "df[df.book_title == 'The Elephant Vanishes'].parsed.iloc[1]"
   ]
  },
  {
   "cell_type": "code",
   "execution_count": 55,
   "metadata": {
    "ExecuteTime": {
     "end_time": "2020-06-13T14:26:54.975703Z",
     "start_time": "2020-06-13T14:26:54.941567Z"
    }
   },
   "outputs": [
    {
     "data": {
      "text/plain": [
       " Just as he appreciated Sara’s appearance, he also enjoyed the way she dressed. Her clothes were always simple and subdued, but they were lovely and fit her perfectly. Tsukuru could easily imagine, though, that what appeared to be simple outfits had taken much time to choose, and also hadn’t come cheap. Her accessories and makeup, too, were low-key yet refined. Tsukuru himself wasn’t particular about clothes, but he’d always loved seeing a well-dressed woman. Just like he enjoyed listening to beautiful music. His two older sisters loved clothes, and when they were young, before they went out on a date, they had grabbed Tsukuru first to get his opinion of their outfit. He wasn’t sure why, but they were very serious about it. What do you think? they’d ask. Do these go well together? And he would give his honest opinion, from a male perspective. His sisters respected his opinion, which made him happy, and before long, this became a habit."
      ]
     },
     "execution_count": 55,
     "metadata": {},
     "output_type": "execute_result"
    }
   ],
   "source": [
    "df.sort_values('vader_pos', ascending=False)['parsed'].iloc[0]"
   ]
  }
 ],
 "metadata": {
  "kernelspec": {
   "display_name": "textacy",
   "language": "python",
   "name": "textacy"
  },
  "language_info": {
   "codemirror_mode": {
    "name": "ipython",
    "version": 3
   },
   "file_extension": ".py",
   "mimetype": "text/x-python",
   "name": "python",
   "nbconvert_exporter": "python",
   "pygments_lexer": "ipython3",
   "version": "3.8.2"
  }
 },
 "nbformat": 4,
 "nbformat_minor": 2
}
