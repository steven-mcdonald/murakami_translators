{
 "cells": [
  {
   "cell_type": "markdown",
   "metadata": {},
   "source": [
    "# <span style=\"color:red\"> Modelling - Score Analysis </span>\n",
    "\n",
    "## comparing the scores of the models tested\n",
    "* read in pickle of the main dataframe\n",
    "* read in pickle models from earlier testing\n",
    "* compare scores"
   ]
  },
  {
   "cell_type": "code",
   "execution_count": 1,
   "metadata": {
    "ExecuteTime": {
     "end_time": "2020-06-08T08:07:35.806030Z",
     "start_time": "2020-06-08T08:07:31.167972Z"
    }
   },
   "outputs": [
    {
     "name": "stderr",
     "output_type": "stream",
     "text": [
      "\n",
      "Bad key \"text.kerning_factor\" on line 4 in\n",
      "/Users/Steven/opt/anaconda3/envs/textacy/lib/python3.8/site-packages/matplotlib/mpl-data/stylelib/_classic_test_patch.mplstyle.\n",
      "You probably need to get an updated matplotlibrc file from\n",
      "https://github.com/matplotlib/matplotlib/blob/v3.1.3/matplotlibrc.template\n",
      "or from the matplotlib source distribution\n"
     ]
    }
   ],
   "source": [
    "import pandas as pd\n",
    "import numpy as np\n",
    "import matplotlib.pyplot as plt\n",
    "import seaborn as sns\n",
    "import textacy\n",
    "import re\n",
    "import pickle\n",
    "import os\n",
    "\n",
    "from collections import Counter\n",
    "\n",
    "from sklearn.model_selection import train_test_split, cross_val_score, GridSearchCV\n",
    "from sklearn.preprocessing import StandardScaler\n",
    "from sklearn.linear_model import LogisticRegression, LogisticRegressionCV\n",
    "from sklearn.metrics import confusion_matrix, classification_report, average_precision_score, roc_auc_score\n",
    "from sklearn.feature_extraction import DictVectorizer\n",
    "from sklearn.preprocessing import label_binarize\n",
    "\n",
    "import scikitplot as skplt\n",
    "from matplotlib.colors import ListedColormap\n",
    "cmap = ListedColormap(sns.color_palette(\"husl\", 3))\n",
    "\n",
    "from vaderSentiment.vaderSentiment import SentimentIntensityAnalyzer\n",
    "\n",
    "plt.style.use('ggplot')\n",
    "\n",
    "# import class to run modelling steps\n",
    "from translator_modelling import Modelling\n",
    "\n",
    "%config InlineBackend.figure_format = 'retina'\n",
    "%matplotlib inline\n",
    "\n",
    "# extend limit of number of rows and columns to display in cell\n",
    "pd.options.display.max_rows = 100\n",
    "pd.options.display.max_columns = 100"
   ]
  },
  {
   "cell_type": "markdown",
   "metadata": {},
   "source": [
    "### Load the dataframe containing text chunks and related variables"
   ]
  },
  {
   "cell_type": "code",
   "execution_count": 2,
   "metadata": {
    "ExecuteTime": {
     "end_time": "2020-06-08T08:08:10.183415Z",
     "start_time": "2020-06-08T08:07:35.808357Z"
    }
   },
   "outputs": [],
   "source": [
    "in_full_path = '../../../../Documents/murakami/pkl3/df_all_v02.pkl'\n",
    "# read back pickle\n",
    "with open (in_full_path, 'rb') as fp:\n",
    "    df = pickle.load(fp)"
   ]
  },
  {
   "cell_type": "markdown",
   "metadata": {},
   "source": [
    "### Check the dataframe is as expected"
   ]
  },
  {
   "cell_type": "code",
   "execution_count": 3,
   "metadata": {
    "ExecuteTime": {
     "end_time": "2020-06-08T08:08:10.298611Z",
     "start_time": "2020-06-08T08:08:10.188103Z"
    }
   },
   "outputs": [
    {
     "data": {
      "text/html": [
       "<div>\n",
       "<style scoped>\n",
       "    .dataframe tbody tr th:only-of-type {\n",
       "        vertical-align: middle;\n",
       "    }\n",
       "\n",
       "    .dataframe tbody tr th {\n",
       "        vertical-align: top;\n",
       "    }\n",
       "\n",
       "    .dataframe thead th {\n",
       "        text-align: right;\n",
       "    }\n",
       "</style>\n",
       "<table border=\"1\" class=\"dataframe\">\n",
       "  <thead>\n",
       "    <tr style=\"text-align: right;\">\n",
       "      <th></th>\n",
       "      <th>book_chunk_no</th>\n",
       "      <th>number</th>\n",
       "      <th>title</th>\n",
       "      <th>text</th>\n",
       "      <th>fstop_indices</th>\n",
       "      <th>split_indices</th>\n",
       "      <th>chunks</th>\n",
       "      <th>translator</th>\n",
       "      <th>book_title</th>\n",
       "      <th>parsed</th>\n",
       "      <th>n_sents</th>\n",
       "      <th>n_words</th>\n",
       "      <th>n_chars</th>\n",
       "      <th>n_syllables</th>\n",
       "      <th>n_unique_words</th>\n",
       "      <th>n_long_words</th>\n",
       "      <th>n_monosyllable_words</th>\n",
       "      <th>n_polysyllable_words</th>\n",
       "      <th>trans_code</th>\n",
       "      <th>chunk_length</th>\n",
       "      <th>n_sents_norm</th>\n",
       "      <th>n_words_norm</th>\n",
       "      <th>n_chars_norm</th>\n",
       "      <th>n_syllables_norm</th>\n",
       "      <th>n_unique_words_norm</th>\n",
       "      <th>n_long_words_norm</th>\n",
       "      <th>n_monosyllable_words_norm</th>\n",
       "      <th>n_polysyllable_words_norm</th>\n",
       "      <th>vader_compound</th>\n",
       "      <th>vader_neg</th>\n",
       "      <th>vader_neu</th>\n",
       "      <th>vader_pos</th>\n",
       "      <th>pron_count</th>\n",
       "      <th>verb_count</th>\n",
       "      <th>det_count</th>\n",
       "      <th>adj_count</th>\n",
       "      <th>num_count</th>\n",
       "      <th>punct_count</th>\n",
       "      <th>noun_count</th>\n",
       "      <th>adp_count</th>\n",
       "      <th>cconj_count</th>\n",
       "      <th>sconj_count</th>\n",
       "      <th>adv_count</th>\n",
       "      <th>aux_count</th>\n",
       "      <th>part_count</th>\n",
       "      <th>propn_count</th>\n",
       "      <th>space_count</th>\n",
       "      <th>intj_count</th>\n",
       "      <th>sym_count</th>\n",
       "      <th>x_count</th>\n",
       "      <th>...</th>\n",
       "      <th>then_adv</th>\n",
       "      <th>more_adv</th>\n",
       "      <th>even_adv</th>\n",
       "      <th>why_adv</th>\n",
       "      <th>maybe_adv</th>\n",
       "      <th>again_adv</th>\n",
       "      <th>now_adv</th>\n",
       "      <th>just_adv</th>\n",
       "      <th>how_adv</th>\n",
       "      <th>where_adv</th>\n",
       "      <th>very_adv</th>\n",
       "      <th>only_adv</th>\n",
       "      <th>there_adv</th>\n",
       "      <th>still_adv</th>\n",
       "      <th>so_adv</th>\n",
       "      <th>too_adv</th>\n",
       "      <th>when_adv</th>\n",
       "      <th>all_adv</th>\n",
       "      <th>here_adv</th>\n",
       "      <th>never_adv</th>\n",
       "      <th>as_adv</th>\n",
       "      <th>new_adj</th>\n",
       "      <th>other_adj</th>\n",
       "      <th>more_adj</th>\n",
       "      <th>small_adj</th>\n",
       "      <th>deep_adj</th>\n",
       "      <th>whole_adj</th>\n",
       "      <th>first_adj</th>\n",
       "      <th>bad_adj</th>\n",
       "      <th>little_adj</th>\n",
       "      <th>next_adj</th>\n",
       "      <th>much_adj</th>\n",
       "      <th>own_adj</th>\n",
       "      <th>hard_adj</th>\n",
       "      <th>last_adj</th>\n",
       "      <th>only_adj</th>\n",
       "      <th>big_adj</th>\n",
       "      <th>right_adj</th>\n",
       "      <th>long_adj</th>\n",
       "      <th>old_adj</th>\n",
       "      <th>strange_adj</th>\n",
       "      <th>same_adj</th>\n",
       "      <th>young_adj</th>\n",
       "      <th>sure_adj</th>\n",
       "      <th>able_adj</th>\n",
       "      <th>real_adj</th>\n",
       "      <th>different_adj</th>\n",
       "      <th>good_adj</th>\n",
       "      <th>few_adj</th>\n",
       "      <th>vlong_words_count</th>\n",
       "    </tr>\n",
       "  </thead>\n",
       "  <tbody>\n",
       "    <tr>\n",
       "      <th>0</th>\n",
       "      <td>0</td>\n",
       "      <td>1</td>\n",
       "      <td>Wednesday Afternoon Picnic</td>\n",
       "      <td>IT WAS A  short one-paragraph item in the morn...</td>\n",
       "      <td>[57, 97, 115, 196, 318, 385, 420, 445, 504, 65...</td>\n",
       "      <td>[967, 1924, 2998, 3982, 4935, 5975, 6995, 7961...</td>\n",
       "      <td>IT WAS A short one-paragraph item in the morni...</td>\n",
       "      <td>Alfred Birnbaum</td>\n",
       "      <td>A Wild Sheep Chase</td>\n",
       "      <td>(IT, WAS, A, short, one, -, paragraph, item, i...</td>\n",
       "      <td>15</td>\n",
       "      <td>174</td>\n",
       "      <td>742</td>\n",
       "      <td>240</td>\n",
       "      <td>116</td>\n",
       "      <td>33</td>\n",
       "      <td>128</td>\n",
       "      <td>17</td>\n",
       "      <td>0</td>\n",
       "      <td>944</td>\n",
       "      <td>15.889831</td>\n",
       "      <td>184.322034</td>\n",
       "      <td>786.016949</td>\n",
       "      <td>254.237288</td>\n",
       "      <td>122.881356</td>\n",
       "      <td>34.957627</td>\n",
       "      <td>135.59322</td>\n",
       "      <td>18.008475</td>\n",
       "      <td>-0.4798</td>\n",
       "      <td>0.075</td>\n",
       "      <td>0.862</td>\n",
       "      <td>0.064</td>\n",
       "      <td>18.0</td>\n",
       "      <td>20.0</td>\n",
       "      <td>31.0</td>\n",
       "      <td>9.0</td>\n",
       "      <td>2.0</td>\n",
       "      <td>33.0</td>\n",
       "      <td>51.0</td>\n",
       "      <td>19.0</td>\n",
       "      <td>6.0</td>\n",
       "      <td>3.0</td>\n",
       "      <td>5.0</td>\n",
       "      <td>5.0</td>\n",
       "      <td>3.0</td>\n",
       "      <td>2.0</td>\n",
       "      <td>0.0</td>\n",
       "      <td>0.0</td>\n",
       "      <td>0.0</td>\n",
       "      <td>0.0</td>\n",
       "      <td>...</td>\n",
       "      <td>0</td>\n",
       "      <td>0</td>\n",
       "      <td>1</td>\n",
       "      <td>0</td>\n",
       "      <td>0</td>\n",
       "      <td>0</td>\n",
       "      <td>0</td>\n",
       "      <td>0</td>\n",
       "      <td>0</td>\n",
       "      <td>1</td>\n",
       "      <td>0</td>\n",
       "      <td>0</td>\n",
       "      <td>0</td>\n",
       "      <td>0</td>\n",
       "      <td>0</td>\n",
       "      <td>0</td>\n",
       "      <td>0</td>\n",
       "      <td>0</td>\n",
       "      <td>0</td>\n",
       "      <td>0</td>\n",
       "      <td>0</td>\n",
       "      <td>0</td>\n",
       "      <td>0</td>\n",
       "      <td>0</td>\n",
       "      <td>0</td>\n",
       "      <td>0</td>\n",
       "      <td>1</td>\n",
       "      <td>0</td>\n",
       "      <td>0</td>\n",
       "      <td>0</td>\n",
       "      <td>0</td>\n",
       "      <td>0</td>\n",
       "      <td>0</td>\n",
       "      <td>0</td>\n",
       "      <td>0</td>\n",
       "      <td>0</td>\n",
       "      <td>0</td>\n",
       "      <td>0</td>\n",
       "      <td>0</td>\n",
       "      <td>1</td>\n",
       "      <td>0</td>\n",
       "      <td>0</td>\n",
       "      <td>0</td>\n",
       "      <td>0</td>\n",
       "      <td>0</td>\n",
       "      <td>0</td>\n",
       "      <td>0</td>\n",
       "      <td>0</td>\n",
       "      <td>0</td>\n",
       "      <td>0</td>\n",
       "    </tr>\n",
       "  </tbody>\n",
       "</table>\n",
       "<p>1 rows × 142 columns</p>\n",
       "</div>"
      ],
      "text/plain": [
       "   book_chunk_no number                       title  \\\n",
       "0              0      1  Wednesday Afternoon Picnic   \n",
       "\n",
       "                                                text  \\\n",
       "0  IT WAS A  short one-paragraph item in the morn...   \n",
       "\n",
       "                                       fstop_indices  \\\n",
       "0  [57, 97, 115, 196, 318, 385, 420, 445, 504, 65...   \n",
       "\n",
       "                                       split_indices  \\\n",
       "0  [967, 1924, 2998, 3982, 4935, 5975, 6995, 7961...   \n",
       "\n",
       "                                              chunks       translator  \\\n",
       "0  IT WAS A short one-paragraph item in the morni...  Alfred Birnbaum   \n",
       "\n",
       "           book_title                                             parsed  \\\n",
       "0  A Wild Sheep Chase  (IT, WAS, A, short, one, -, paragraph, item, i...   \n",
       "\n",
       "   n_sents  n_words  n_chars  n_syllables  n_unique_words  n_long_words  \\\n",
       "0       15      174      742          240             116            33   \n",
       "\n",
       "   n_monosyllable_words  n_polysyllable_words  trans_code  chunk_length  \\\n",
       "0                   128                    17           0           944   \n",
       "\n",
       "   n_sents_norm  n_words_norm  n_chars_norm  n_syllables_norm  \\\n",
       "0     15.889831    184.322034    786.016949        254.237288   \n",
       "\n",
       "   n_unique_words_norm  n_long_words_norm  n_monosyllable_words_norm  \\\n",
       "0           122.881356          34.957627                  135.59322   \n",
       "\n",
       "   n_polysyllable_words_norm  vader_compound  vader_neg  vader_neu  vader_pos  \\\n",
       "0                  18.008475         -0.4798      0.075      0.862      0.064   \n",
       "\n",
       "   pron_count  verb_count  det_count  adj_count  num_count  punct_count  \\\n",
       "0        18.0        20.0       31.0        9.0        2.0         33.0   \n",
       "\n",
       "   noun_count  adp_count  cconj_count  sconj_count  adv_count  aux_count  \\\n",
       "0        51.0       19.0          6.0          3.0        5.0        5.0   \n",
       "\n",
       "   part_count  propn_count  space_count  intj_count  sym_count  x_count  ...  \\\n",
       "0         3.0          2.0          0.0         0.0        0.0      0.0  ...   \n",
       "\n",
       "   then_adv  more_adv  even_adv  why_adv  maybe_adv  again_adv  now_adv  \\\n",
       "0         0         0         1        0          0          0        0   \n",
       "\n",
       "   just_adv  how_adv  where_adv  very_adv  only_adv  there_adv  still_adv  \\\n",
       "0         0        0          1         0         0          0          0   \n",
       "\n",
       "   so_adv  too_adv  when_adv  all_adv  here_adv  never_adv  as_adv  new_adj  \\\n",
       "0       0        0         0        0         0          0       0        0   \n",
       "\n",
       "   other_adj  more_adj  small_adj  deep_adj  whole_adj  first_adj  bad_adj  \\\n",
       "0          0         0          0         0          1          0        0   \n",
       "\n",
       "   little_adj  next_adj  much_adj  own_adj  hard_adj  last_adj only_adj  \\\n",
       "0           0         0         0        0         0         0        0   \n",
       "\n",
       "  big_adj right_adj long_adj  old_adj  strange_adj  same_adj  young_adj  \\\n",
       "0       0         0        0        1            0         0          0   \n",
       "\n",
       "   sure_adj  able_adj  real_adj  different_adj  good_adj  few_adj  \\\n",
       "0         0         0         0              0         0        0   \n",
       "\n",
       "   vlong_words_count  \n",
       "0                  0  \n",
       "\n",
       "[1 rows x 142 columns]"
      ]
     },
     "execution_count": 3,
     "metadata": {},
     "output_type": "execute_result"
    }
   ],
   "source": [
    "df.head(1)"
   ]
  },
  {
   "cell_type": "code",
   "execution_count": 4,
   "metadata": {
    "ExecuteTime": {
     "end_time": "2020-06-08T08:08:10.309317Z",
     "start_time": "2020-06-08T08:08:10.301632Z"
    }
   },
   "outputs": [
    {
     "data": {
      "text/plain": [
       "(5212, 142)"
      ]
     },
     "execution_count": 4,
     "metadata": {},
     "output_type": "execute_result"
    }
   ],
   "source": [
    "df.shape"
   ]
  },
  {
   "cell_type": "markdown",
   "metadata": {},
   "source": [
    "### Check the baseline"
   ]
  },
  {
   "cell_type": "code",
   "execution_count": 5,
   "metadata": {
    "ExecuteTime": {
     "end_time": "2020-06-08T08:08:10.405591Z",
     "start_time": "2020-06-08T08:08:10.317024Z"
    }
   },
   "outputs": [
    {
     "data": {
      "text/plain": [
       "0.39927091327705294"
      ]
     },
     "execution_count": 5,
     "metadata": {},
     "output_type": "execute_result"
    }
   ],
   "source": [
    "baseline_acc = df['trans_code'].value_counts(normalize=True).max()\n",
    "baseline_acc"
   ]
  },
  {
   "cell_type": "markdown",
   "metadata": {},
   "source": [
    "### Make train test split"
   ]
  },
  {
   "cell_type": "code",
   "execution_count": 6,
   "metadata": {
    "ExecuteTime": {
     "end_time": "2020-06-08T08:08:10.508409Z",
     "start_time": "2020-06-08T08:08:10.421243Z"
    }
   },
   "outputs": [],
   "source": [
    "model = LogisticRegression(solver='liblinear', multi_class='ovr', max_iter=1000)\n",
    "lr = Modelling(df, model)\n",
    "\n",
    "predictor_cols = lr.feature_select(basic_counts=True, pos_counts=True, vader=False, words=True, \n",
    "                                   adj=True, adv=True)\n",
    "cols_to_drop = ['num_count_norm', 'punct_count_norm','space_count_norm', 'sym_count_norm', 'x_count_norm']\n",
    "predictor_cols = lr.drop_features(predictor_cols, cols_to_drop)\n",
    "\n",
    "X_train, X_test, y_train, y_test, idx_train, idx_test = lr.modelling_prep(predictor_cols, 'trans_code')"
   ]
  },
  {
   "cell_type": "markdown",
   "metadata": {},
   "source": [
    "### Load Models"
   ]
  },
  {
   "cell_type": "code",
   "execution_count": 7,
   "metadata": {
    "ExecuteTime": {
     "end_time": "2020-06-08T08:08:10.544077Z",
     "start_time": "2020-06-08T08:08:10.519361Z"
    }
   },
   "outputs": [
    {
     "data": {
      "text/plain": [
       "['dt_gs_01.pkl',\n",
       " 'svm_gs_01.pkl',\n",
       " 'gb_gs_01.pkl',\n",
       " 'bg_knn_gs_01.pkl',\n",
       " 'xgb_gs_01.pkl',\n",
       " 'svm_l_gs_01.pkl',\n",
       " 'lreg_gs_04.pkl',\n",
       " 'lreg_gs_05.pkl',\n",
       " 'lreg_gs_06.pkl',\n",
       " 'lreg_gs_02.pkl',\n",
       " 'lreg_gs_03.pkl',\n",
       " 'lreg_gs_final.pkl',\n",
       " 'lreg_gs_01.pkl',\n",
       " 'bs_dt_gs_01.pkl',\n",
       " 'rfc_gs_01.pkl',\n",
       " 'bg_dt_gs_01.pkl',\n",
       " 'knn_gs_01.pkl',\n",
       " 'mlp_gs_01.pkl']"
      ]
     },
     "execution_count": 7,
     "metadata": {},
     "output_type": "execute_result"
    }
   ],
   "source": [
    "pkl_list = os.listdir('../../../../Documents/murakami/pkl_models/')\n",
    "pkl_list_sel = [x for x in pkl_list if '_gs_' in x]\n",
    "pkl_list_sel"
   ]
  },
  {
   "cell_type": "code",
   "execution_count": 8,
   "metadata": {
    "ExecuteTime": {
     "end_time": "2020-06-08T08:08:10.609862Z",
     "start_time": "2020-06-08T08:08:10.586579Z"
    }
   },
   "outputs": [],
   "source": [
    "def load_pickle(filename):\n",
    "    in_path = '../../../../Documents/murakami/pkl_models/' + filename\n",
    "    with open (in_path, 'rb') as fp:\n",
    "        return pickle.load(fp)"
   ]
  },
  {
   "cell_type": "code",
   "execution_count": 9,
   "metadata": {
    "ExecuteTime": {
     "end_time": "2020-06-08T08:08:10.635195Z",
     "start_time": "2020-06-08T08:08:10.621314Z"
    }
   },
   "outputs": [],
   "source": [
    "model_no_dict = {'lreg_gs_final': 1,\n",
    "                 'knn_gs_01': 2,\n",
    "                 'dt_gs_01': 3,\n",
    "                 'rfc_gs_01': 4,\n",
    "                 'bg_dt_gs_01': 5,\n",
    "                 'bg_knn_gs_01': 6,\n",
    "                 'bs_dt_gs_01': 7,\n",
    "                 'gb_gs_01': 8,\n",
    "                 'xgb_gs_01': 9,\n",
    "                 'svm_l_gs_01': 10,\n",
    "                 'svm_gs_01': 11,\n",
    "                 'mlp_gs_01': 12}"
   ]
  },
  {
   "cell_type": "code",
   "execution_count": 10,
   "metadata": {
    "ExecuteTime": {
     "end_time": "2020-06-08T08:08:10.657174Z",
     "start_time": "2020-06-08T08:08:10.643781Z"
    }
   },
   "outputs": [
    {
     "data": {
      "text/plain": [
       "dict_keys(['lreg_gs_final', 'knn_gs_01', 'dt_gs_01', 'rfc_gs_01', 'bg_dt_gs_01', 'bg_knn_gs_01', 'bs_dt_gs_01', 'gb_gs_01', 'xgb_gs_01', 'svm_l_gs_01', 'svm_gs_01', 'mlp_gs_01'])"
      ]
     },
     "execution_count": 10,
     "metadata": {},
     "output_type": "execute_result"
    }
   ],
   "source": [
    "model_no_dict.keys()"
   ]
  },
  {
   "cell_type": "code",
   "execution_count": 11,
   "metadata": {
    "ExecuteTime": {
     "end_time": "2020-06-08T08:08:12.240954Z",
     "start_time": "2020-06-08T08:08:10.670450Z"
    }
   },
   "outputs": [],
   "source": [
    "model_dict = {}\n",
    "for i, pk in enumerate(pkl_list_sel):\n",
    "    model_name = pk.split('.')[0]\n",
    "    if model_name in model_no_dict.keys():\n",
    "        model_dict[model_name] = (model_no_dict[model_name], load_pickle(pk))"
   ]
  },
  {
   "cell_type": "code",
   "execution_count": 12,
   "metadata": {
    "ExecuteTime": {
     "end_time": "2020-06-08T08:08:12.252261Z",
     "start_time": "2020-06-08T08:08:12.243103Z"
    }
   },
   "outputs": [],
   "source": [
    "# model_dict"
   ]
  },
  {
   "cell_type": "markdown",
   "metadata": {},
   "source": [
    "### Retrieve model scores"
   ]
  },
  {
   "cell_type": "code",
   "execution_count": 13,
   "metadata": {
    "ExecuteTime": {
     "end_time": "2020-06-08T08:08:12.272529Z",
     "start_time": "2020-06-08T08:08:12.256009Z"
    }
   },
   "outputs": [
    {
     "name": "stdout",
     "output_type": "stream",
     "text": [
      "3 0.5389776054306614\n",
      "11 0.6896096568123653\n",
      "8 0.6872109995077167\n",
      "6 0.5725550651915443\n",
      "9 0.6908115764291328\n",
      "10 0.6749810715653168\n",
      "1 0.6766617438342244\n",
      "7 0.6476377601400272\n",
      "4 0.6533940194782948\n",
      "5 0.660587400427797\n",
      "2 0.5646428355514869\n",
      "12 0.6884106160449791\n"
     ]
    }
   ],
   "source": [
    "# {k: v for k, v in sorted(x.items(), key=lambda item: item[1])}\n",
    "for model in model_dict:\n",
    "    print(model_dict[model][0], model_dict[model][1].best_score_)"
   ]
  },
  {
   "cell_type": "code",
   "execution_count": 14,
   "metadata": {
    "ExecuteTime": {
     "end_time": "2020-06-08T08:08:12.292637Z",
     "start_time": "2020-06-08T08:08:12.280125Z"
    }
   },
   "outputs": [],
   "source": [
    "df_mod_scores = pd.DataFrame.from_dict(model_dict, orient='index')"
   ]
  },
  {
   "cell_type": "code",
   "execution_count": 15,
   "metadata": {
    "ExecuteTime": {
     "end_time": "2020-06-08T08:08:12.321374Z",
     "start_time": "2020-06-08T08:08:12.305405Z"
    }
   },
   "outputs": [],
   "source": [
    "df_mod_scores.columns = ['model_no', 'model']"
   ]
  },
  {
   "cell_type": "code",
   "execution_count": 16,
   "metadata": {
    "ExecuteTime": {
     "end_time": "2020-06-08T08:08:12.469297Z",
     "start_time": "2020-06-08T08:08:12.339876Z"
    }
   },
   "outputs": [
    {
     "data": {
      "text/html": [
       "<div>\n",
       "<style scoped>\n",
       "    .dataframe tbody tr th:only-of-type {\n",
       "        vertical-align: middle;\n",
       "    }\n",
       "\n",
       "    .dataframe tbody tr th {\n",
       "        vertical-align: top;\n",
       "    }\n",
       "\n",
       "    .dataframe thead th {\n",
       "        text-align: right;\n",
       "    }\n",
       "</style>\n",
       "<table border=\"1\" class=\"dataframe\">\n",
       "  <thead>\n",
       "    <tr style=\"text-align: right;\">\n",
       "      <th></th>\n",
       "      <th>model_no</th>\n",
       "      <th>model</th>\n",
       "    </tr>\n",
       "  </thead>\n",
       "  <tbody>\n",
       "    <tr>\n",
       "      <th>dt_gs_01</th>\n",
       "      <td>3</td>\n",
       "      <td>GridSearchCV(cv=5, error_score=nan,\\n         ...</td>\n",
       "    </tr>\n",
       "    <tr>\n",
       "      <th>svm_gs_01</th>\n",
       "      <td>11</td>\n",
       "      <td>GridSearchCV(cv=5, error_score=nan,\\n         ...</td>\n",
       "    </tr>\n",
       "    <tr>\n",
       "      <th>gb_gs_01</th>\n",
       "      <td>8</td>\n",
       "      <td>GridSearchCV(cv=5, error_score=nan,\\n         ...</td>\n",
       "    </tr>\n",
       "    <tr>\n",
       "      <th>bg_knn_gs_01</th>\n",
       "      <td>6</td>\n",
       "      <td>GridSearchCV(cv=5, error_score=nan,\\n         ...</td>\n",
       "    </tr>\n",
       "    <tr>\n",
       "      <th>xgb_gs_01</th>\n",
       "      <td>9</td>\n",
       "      <td>GridSearchCV(cv=5, error_score=nan,\\n         ...</td>\n",
       "    </tr>\n",
       "    <tr>\n",
       "      <th>svm_l_gs_01</th>\n",
       "      <td>10</td>\n",
       "      <td>GridSearchCV(cv=5, error_score=nan,\\n         ...</td>\n",
       "    </tr>\n",
       "    <tr>\n",
       "      <th>lreg_gs_final</th>\n",
       "      <td>1</td>\n",
       "      <td>GridSearchCV(cv=5, error_score=nan,\\n         ...</td>\n",
       "    </tr>\n",
       "    <tr>\n",
       "      <th>bs_dt_gs_01</th>\n",
       "      <td>7</td>\n",
       "      <td>GridSearchCV(cv=5, error_score=nan,\\n         ...</td>\n",
       "    </tr>\n",
       "    <tr>\n",
       "      <th>rfc_gs_01</th>\n",
       "      <td>4</td>\n",
       "      <td>GridSearchCV(cv=5, error_score=nan,\\n         ...</td>\n",
       "    </tr>\n",
       "    <tr>\n",
       "      <th>bg_dt_gs_01</th>\n",
       "      <td>5</td>\n",
       "      <td>GridSearchCV(cv=5, error_score=nan,\\n         ...</td>\n",
       "    </tr>\n",
       "    <tr>\n",
       "      <th>knn_gs_01</th>\n",
       "      <td>2</td>\n",
       "      <td>GridSearchCV(cv=5, error_score=nan,\\n         ...</td>\n",
       "    </tr>\n",
       "    <tr>\n",
       "      <th>mlp_gs_01</th>\n",
       "      <td>12</td>\n",
       "      <td>GridSearchCV(cv=5, error_score=nan,\\n         ...</td>\n",
       "    </tr>\n",
       "  </tbody>\n",
       "</table>\n",
       "</div>"
      ],
      "text/plain": [
       "               model_no                                              model\n",
       "dt_gs_01              3  GridSearchCV(cv=5, error_score=nan,\\n         ...\n",
       "svm_gs_01            11  GridSearchCV(cv=5, error_score=nan,\\n         ...\n",
       "gb_gs_01              8  GridSearchCV(cv=5, error_score=nan,\\n         ...\n",
       "bg_knn_gs_01          6  GridSearchCV(cv=5, error_score=nan,\\n         ...\n",
       "xgb_gs_01             9  GridSearchCV(cv=5, error_score=nan,\\n         ...\n",
       "svm_l_gs_01          10  GridSearchCV(cv=5, error_score=nan,\\n         ...\n",
       "lreg_gs_final         1  GridSearchCV(cv=5, error_score=nan,\\n         ...\n",
       "bs_dt_gs_01           7  GridSearchCV(cv=5, error_score=nan,\\n         ...\n",
       "rfc_gs_01             4  GridSearchCV(cv=5, error_score=nan,\\n         ...\n",
       "bg_dt_gs_01           5  GridSearchCV(cv=5, error_score=nan,\\n         ...\n",
       "knn_gs_01             2  GridSearchCV(cv=5, error_score=nan,\\n         ...\n",
       "mlp_gs_01            12  GridSearchCV(cv=5, error_score=nan,\\n         ..."
      ]
     },
     "execution_count": 16,
     "metadata": {},
     "output_type": "execute_result"
    }
   ],
   "source": [
    "df_mod_scores"
   ]
  },
  {
   "cell_type": "code",
   "execution_count": 17,
   "metadata": {
    "ExecuteTime": {
     "end_time": "2020-06-08T08:08:12.486762Z",
     "start_time": "2020-06-08T08:08:12.472233Z"
    }
   },
   "outputs": [
    {
     "data": {
      "text/plain": [
       "model_no                                                    7\n",
       "model       GridSearchCV(cv=5, error_score=nan,\\n         ...\n",
       "Name: bs_dt_gs_01, dtype: object"
      ]
     },
     "execution_count": 17,
     "metadata": {},
     "output_type": "execute_result"
    }
   ],
   "source": [
    "df_mod_scores.iloc[7,:]"
   ]
  },
  {
   "cell_type": "code",
   "execution_count": 18,
   "metadata": {
    "ExecuteTime": {
     "end_time": "2020-06-08T08:08:13.530992Z",
     "start_time": "2020-06-08T08:08:12.489954Z"
    }
   },
   "outputs": [
    {
     "data": {
      "text/plain": [
       "0.5906040268456376"
      ]
     },
     "execution_count": 18,
     "metadata": {},
     "output_type": "execute_result"
    }
   ],
   "source": [
    "df_mod_scores.iloc[10,1].score(X_test, y_test)"
   ]
  },
  {
   "cell_type": "code",
   "execution_count": 19,
   "metadata": {
    "ExecuteTime": {
     "end_time": "2020-06-08T08:11:49.927856Z",
     "start_time": "2020-06-08T08:08:13.534669Z"
    }
   },
   "outputs": [],
   "source": [
    "def get_scores(df, X_train, y_train, X_test, y_test):\n",
    "    df['cv_score'] = df['model'].apply(lambda x: x.best_score_)\n",
    "    df['train_score'] = df['model'].apply(lambda x: x.score(X_train, y_train))\n",
    "    df['test_score'] = df['model'].apply(lambda x: x.score(X_test, y_test))\n",
    "    return df\n",
    "df_mod_scores = get_scores(df_mod_scores, X_train, y_train, X_test, y_test)"
   ]
  },
  {
   "cell_type": "code",
   "execution_count": 20,
   "metadata": {
    "ExecuteTime": {
     "end_time": "2020-06-08T08:11:49.991542Z",
     "start_time": "2020-06-08T08:11:49.930850Z"
    }
   },
   "outputs": [
    {
     "data": {
      "text/html": [
       "<div>\n",
       "<style scoped>\n",
       "    .dataframe tbody tr th:only-of-type {\n",
       "        vertical-align: middle;\n",
       "    }\n",
       "\n",
       "    .dataframe tbody tr th {\n",
       "        vertical-align: top;\n",
       "    }\n",
       "\n",
       "    .dataframe thead th {\n",
       "        text-align: right;\n",
       "    }\n",
       "</style>\n",
       "<table border=\"1\" class=\"dataframe\">\n",
       "  <thead>\n",
       "    <tr style=\"text-align: right;\">\n",
       "      <th></th>\n",
       "      <th>model_no</th>\n",
       "      <th>model</th>\n",
       "      <th>cv_score</th>\n",
       "      <th>train_score</th>\n",
       "      <th>test_score</th>\n",
       "    </tr>\n",
       "  </thead>\n",
       "  <tbody>\n",
       "    <tr>\n",
       "      <th>lreg_gs_final</th>\n",
       "      <td>1</td>\n",
       "      <td>GridSearchCV(cv=5, error_score=nan,\\n         ...</td>\n",
       "      <td>0.676662</td>\n",
       "      <td>0.700408</td>\n",
       "      <td>0.695110</td>\n",
       "    </tr>\n",
       "    <tr>\n",
       "      <th>knn_gs_01</th>\n",
       "      <td>2</td>\n",
       "      <td>GridSearchCV(cv=5, error_score=nan,\\n         ...</td>\n",
       "      <td>0.564643</td>\n",
       "      <td>1.000000</td>\n",
       "      <td>0.590604</td>\n",
       "    </tr>\n",
       "    <tr>\n",
       "      <th>dt_gs_01</th>\n",
       "      <td>3</td>\n",
       "      <td>GridSearchCV(cv=5, error_score=nan,\\n         ...</td>\n",
       "      <td>0.538978</td>\n",
       "      <td>0.592468</td>\n",
       "      <td>0.514861</td>\n",
       "    </tr>\n",
       "    <tr>\n",
       "      <th>rfc_gs_01</th>\n",
       "      <td>4</td>\n",
       "      <td>GridSearchCV(cv=5, error_score=nan,\\n         ...</td>\n",
       "      <td>0.653394</td>\n",
       "      <td>0.981530</td>\n",
       "      <td>0.668265</td>\n",
       "    </tr>\n",
       "    <tr>\n",
       "      <th>bg_dt_gs_01</th>\n",
       "      <td>5</td>\n",
       "      <td>GridSearchCV(cv=5, error_score=nan,\\n         ...</td>\n",
       "      <td>0.660587</td>\n",
       "      <td>1.000000</td>\n",
       "      <td>0.678811</td>\n",
       "    </tr>\n",
       "    <tr>\n",
       "      <th>bg_knn_gs_01</th>\n",
       "      <td>6</td>\n",
       "      <td>GridSearchCV(cv=5, error_score=nan,\\n         ...</td>\n",
       "      <td>0.572555</td>\n",
       "      <td>0.797793</td>\n",
       "      <td>0.611697</td>\n",
       "    </tr>\n",
       "    <tr>\n",
       "      <th>bs_dt_gs_01</th>\n",
       "      <td>7</td>\n",
       "      <td>GridSearchCV(cv=5, error_score=nan,\\n         ...</td>\n",
       "      <td>0.647638</td>\n",
       "      <td>0.733509</td>\n",
       "      <td>0.663471</td>\n",
       "    </tr>\n",
       "    <tr>\n",
       "      <th>gb_gs_01</th>\n",
       "      <td>8</td>\n",
       "      <td>GridSearchCV(cv=5, error_score=nan,\\n         ...</td>\n",
       "      <td>0.687211</td>\n",
       "      <td>0.999041</td>\n",
       "      <td>0.697987</td>\n",
       "    </tr>\n",
       "    <tr>\n",
       "      <th>xgb_gs_01</th>\n",
       "      <td>9</td>\n",
       "      <td>GridSearchCV(cv=5, error_score=nan,\\n         ...</td>\n",
       "      <td>0.690812</td>\n",
       "      <td>0.983689</td>\n",
       "      <td>0.708533</td>\n",
       "    </tr>\n",
       "    <tr>\n",
       "      <th>svm_l_gs_01</th>\n",
       "      <td>10</td>\n",
       "      <td>GridSearchCV(cv=5, error_score=nan,\\n         ...</td>\n",
       "      <td>0.674981</td>\n",
       "      <td>0.700408</td>\n",
       "      <td>0.690316</td>\n",
       "    </tr>\n",
       "    <tr>\n",
       "      <th>svm_gs_01</th>\n",
       "      <td>11</td>\n",
       "      <td>GridSearchCV(cv=5, error_score=nan,\\n         ...</td>\n",
       "      <td>0.689610</td>\n",
       "      <td>0.906692</td>\n",
       "      <td>0.703739</td>\n",
       "    </tr>\n",
       "    <tr>\n",
       "      <th>mlp_gs_01</th>\n",
       "      <td>12</td>\n",
       "      <td>GridSearchCV(cv=5, error_score=nan,\\n         ...</td>\n",
       "      <td>0.688411</td>\n",
       "      <td>0.769969</td>\n",
       "      <td>0.712368</td>\n",
       "    </tr>\n",
       "  </tbody>\n",
       "</table>\n",
       "</div>"
      ],
      "text/plain": [
       "               model_no                                              model  \\\n",
       "lreg_gs_final         1  GridSearchCV(cv=5, error_score=nan,\\n         ...   \n",
       "knn_gs_01             2  GridSearchCV(cv=5, error_score=nan,\\n         ...   \n",
       "dt_gs_01              3  GridSearchCV(cv=5, error_score=nan,\\n         ...   \n",
       "rfc_gs_01             4  GridSearchCV(cv=5, error_score=nan,\\n         ...   \n",
       "bg_dt_gs_01           5  GridSearchCV(cv=5, error_score=nan,\\n         ...   \n",
       "bg_knn_gs_01          6  GridSearchCV(cv=5, error_score=nan,\\n         ...   \n",
       "bs_dt_gs_01           7  GridSearchCV(cv=5, error_score=nan,\\n         ...   \n",
       "gb_gs_01              8  GridSearchCV(cv=5, error_score=nan,\\n         ...   \n",
       "xgb_gs_01             9  GridSearchCV(cv=5, error_score=nan,\\n         ...   \n",
       "svm_l_gs_01          10  GridSearchCV(cv=5, error_score=nan,\\n         ...   \n",
       "svm_gs_01            11  GridSearchCV(cv=5, error_score=nan,\\n         ...   \n",
       "mlp_gs_01            12  GridSearchCV(cv=5, error_score=nan,\\n         ...   \n",
       "\n",
       "               cv_score  train_score  test_score  \n",
       "lreg_gs_final  0.676662     0.700408    0.695110  \n",
       "knn_gs_01      0.564643     1.000000    0.590604  \n",
       "dt_gs_01       0.538978     0.592468    0.514861  \n",
       "rfc_gs_01      0.653394     0.981530    0.668265  \n",
       "bg_dt_gs_01    0.660587     1.000000    0.678811  \n",
       "bg_knn_gs_01   0.572555     0.797793    0.611697  \n",
       "bs_dt_gs_01    0.647638     0.733509    0.663471  \n",
       "gb_gs_01       0.687211     0.999041    0.697987  \n",
       "xgb_gs_01      0.690812     0.983689    0.708533  \n",
       "svm_l_gs_01    0.674981     0.700408    0.690316  \n",
       "svm_gs_01      0.689610     0.906692    0.703739  \n",
       "mlp_gs_01      0.688411     0.769969    0.712368  "
      ]
     },
     "execution_count": 20,
     "metadata": {},
     "output_type": "execute_result"
    }
   ],
   "source": [
    "df_mod_scores = df_mod_scores.sort_values('model_no')\n",
    "df_mod_scores"
   ]
  },
  {
   "cell_type": "code",
   "execution_count": 28,
   "metadata": {
    "ExecuteTime": {
     "end_time": "2020-06-08T19:06:46.504573Z",
     "start_time": "2020-06-08T19:06:46.461578Z"
    }
   },
   "outputs": [],
   "source": [
    "df_mod_scores.drop('model_names', axis=1, inplace=True)"
   ]
  },
  {
   "cell_type": "code",
   "execution_count": 29,
   "metadata": {
    "ExecuteTime": {
     "end_time": "2020-06-08T19:09:32.983409Z",
     "start_time": "2020-06-08T19:09:32.887626Z"
    }
   },
   "outputs": [],
   "source": [
    "model_names_dict = {'model_names': ['logistic regression', 'knn', 'decision tree', 'random forest', \n",
    "                                    'baging decision tree', 'bagging knn', 'boosting decision tree', \n",
    "                                    'gradient boost', 'xg boost', 'svm linear', 'svm rbf', \n",
    "                                     'mlp neural net']}\n",
    "model_names = pd.DataFrame(model_names_dict)\n",
    "df_mod_scores = df_mod_scores.reset_index().join(model_names)"
   ]
  },
  {
   "cell_type": "code",
   "execution_count": 30,
   "metadata": {
    "ExecuteTime": {
     "end_time": "2020-06-08T19:09:34.371536Z",
     "start_time": "2020-06-08T19:09:34.356683Z"
    }
   },
   "outputs": [
    {
     "data": {
      "text/plain": [
       "{'model_names': ['logistic regression',\n",
       "  'knn',\n",
       "  'decision tree',\n",
       "  'random forest',\n",
       "  'baging decision tree',\n",
       "  'bagging knn',\n",
       "  'boosting decision tree',\n",
       "  'gradient boost',\n",
       "  'xg boost',\n",
       "  'svm linear',\n",
       "  'svm rbf',\n",
       "  'mlp neural net']}"
      ]
     },
     "execution_count": 30,
     "metadata": {},
     "output_type": "execute_result"
    }
   ],
   "source": [
    "model_names_dict"
   ]
  },
  {
   "cell_type": "code",
   "execution_count": 39,
   "metadata": {
    "ExecuteTime": {
     "end_time": "2020-06-08T19:40:33.900003Z",
     "start_time": "2020-06-08T19:40:31.605828Z"
    }
   },
   "outputs": [
    {
     "data": {
      "image/png": "[encoded data removed]",
      "text/plain": [
       "<Figure size 1440x720 with 1 Axes>"
      ]
     },
     "metadata": {
      "image/png": {
       "height": 665,
       "width": 1345
      },
      "needs_background": "light"
     },
     "output_type": "display_data"
    }
   ],
   "source": [
    "sns.set_palette(['tomato'])\n",
    "fig, ax = plt.subplots(figsize=(20, 10))\n",
    "fig.suptitle('Modelling Cross Validation Accuracy Scores', fontsize=32)\n",
    "df_mod_scores.set_index('model_names').sort_values('cv_score').plot.barh(y='cv_score', ax=ax)\n",
    "ax.set_xlim(0.40,0.75)\n",
    "ax.set_xlabel('accuracy', fontsize=16)\n",
    "ax.set_ylabel('model', fontsize=16)\n",
    "ax.tick_params(axis=\"y\", labelsize=16)\n",
    "ax.get_legend().remove()\n",
    "plt.savefig('../../../../Documents/murakami/plots/model_cv_acc_comparison_01.png', bbox_inches = 'tight')\n",
    "plt.show()"
   ]
  },
  {
   "cell_type": "code",
   "execution_count": 25,
   "metadata": {
    "ExecuteTime": {
     "end_time": "2020-06-08T08:11:51.028087Z",
     "start_time": "2020-06-08T08:11:50.593204Z"
    }
   },
   "outputs": [
    {
     "data": {
      "image/png": "[encoded data removed]",
      "text/plain": [
       "<Figure size 576x576 with 1 Axes>"
      ]
     },
     "metadata": {
      "image/png": {
       "height": 465,
       "width": 553
      },
      "needs_background": "light"
     },
     "output_type": "display_data"
    }
   ],
   "source": [
    "sns.set_palette(['darkred', 'tomato', 'gray'])\n",
    "fig, ax = plt.subplots(figsize=(8, 8))\n",
    "df_mod_scores.set_index('model_names')[['train_score', 'test_score']].sort_values('test_score').plot.barh(ax=ax)\n",
    "ax.set_xlim(0.40,0.75)\n",
    "plt.savefig('../../../../Documents/murakami/plots/model_train_test_acc_comparison_01.png')\n",
    "plt.show()"
   ]
  },
  {
   "cell_type": "code",
   "execution_count": null,
   "metadata": {},
   "outputs": [],
   "source": []
  }
 ],
 "metadata": {
  "kernelspec": {
   "display_name": "textacy",
   "language": "python",
   "name": "textacy"
  },
  "language_info": {
   "codemirror_mode": {
    "name": "ipython",
    "version": 3
   },
   "file_extension": ".py",
   "mimetype": "text/x-python",
   "name": "python",
   "nbconvert_exporter": "python",
   "pygments_lexer": "ipython3",
   "version": "3.8.2"
  }
 },
 "nbformat": 4,
 "nbformat_minor": 2
}
