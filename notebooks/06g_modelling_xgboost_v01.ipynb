{
 "cells": [
  {
   "cell_type": "markdown",
   "metadata": {},
   "source": [
    "# <span style=\"color:red\"> Main Modelling - XGBoost - Gridsearch </span>\n",
    "* read in pickle\n",
    "* keep 3 translators\n",
    "* final selected features based on initial analysis with logistic regression\n",
    "* drop 'A Wild Sheep Chase' due to unique text\n",
    "* run XGboosting"
   ]
  },
  {
   "cell_type": "code",
   "execution_count": 16,
   "metadata": {
    "ExecuteTime": {
     "end_time": "2020-05-17T07:20:27.484434Z",
     "start_time": "2020-05-17T07:20:27.442897Z"
    }
   },
   "outputs": [],
   "source": [
    "import pandas as pd\n",
    "import numpy as np\n",
    "import matplotlib.pyplot as plt\n",
    "import seaborn as sns\n",
    "import textacy\n",
    "import re\n",
    "import pickle\n",
    "import os\n",
    "\n",
    "from collections import Counter\n",
    "\n",
    "from sklearn.model_selection import train_test_split, cross_val_score, GridSearchCV\n",
    "from sklearn.preprocessing import StandardScaler\n",
    "from sklearn.linear_model import LogisticRegression, LogisticRegressionCV\n",
    "from sklearn.metrics import confusion_matrix, classification_report, average_precision_score, roc_auc_score\n",
    "from sklearn.feature_extraction import DictVectorizer\n",
    "from sklearn.neighbors import KNeighborsClassifier\n",
    "from sklearn.tree import DecisionTreeClassifier\n",
    "from sklearn.ensemble import RandomForestClassifier\n",
    "from sklearn.ensemble import BaggingClassifier\n",
    "from sklearn.tree import DecisionTreeClassifier\n",
    "\n",
    "from sklearn.ensemble import AdaBoostClassifier, AdaBoostRegressor\n",
    "from sklearn.ensemble import GradientBoostingClassifier, GradientBoostingRegressor\n",
    "from sklearn import datasets\n",
    "from sklearn.model_selection import cross_val_score, train_test_split\n",
    "from sklearn.metrics import accuracy_score, r2_score, mean_squared_error\n",
    "from sklearn.preprocessing import label_binarize\n",
    "\n",
    "from vaderSentiment.vaderSentiment import SentimentIntensityAnalyzer\n",
    "\n",
    "from xgboost import XGBClassifier\n",
    "\n",
    "plt.style.use('ggplot')\n",
    "\n",
    "%config InlineBackend.figure_format = 'retina'\n",
    "%matplotlib inline\n",
    "\n",
    "# extend limit of number of rows and columns to display in cell\n",
    "pd.options.display.max_rows = 100\n",
    "pd.options.display.max_columns = 100"
   ]
  },
  {
   "cell_type": "markdown",
   "metadata": {},
   "source": [
    "### Load the dataframe containing text chunks and related variables"
   ]
  },
  {
   "cell_type": "code",
   "execution_count": 2,
   "metadata": {
    "ExecuteTime": {
     "end_time": "2020-05-17T06:41:06.394377Z",
     "start_time": "2020-05-17T06:40:40.005308Z"
    }
   },
   "outputs": [],
   "source": [
    "in_full_path = '../../../Documents/murakami/pkl3/df_all_v02.pkl'\n",
    "# read back pickle\n",
    "with open (in_full_path, 'rb') as fp:\n",
    "    df = pickle.load(fp)"
   ]
  },
  {
   "cell_type": "markdown",
   "metadata": {},
   "source": [
    "### Check the dataframe is as expected"
   ]
  },
  {
   "cell_type": "code",
   "execution_count": 3,
   "metadata": {
    "ExecuteTime": {
     "end_time": "2020-05-17T06:41:13.773996Z",
     "start_time": "2020-05-17T06:41:13.683195Z"
    }
   },
   "outputs": [
    {
     "data": {
      "text/html": [
       "<div>\n",
       "<style scoped>\n",
       "    .dataframe tbody tr th:only-of-type {\n",
       "        vertical-align: middle;\n",
       "    }\n",
       "\n",
       "    .dataframe tbody tr th {\n",
       "        vertical-align: top;\n",
       "    }\n",
       "\n",
       "    .dataframe thead th {\n",
       "        text-align: right;\n",
       "    }\n",
       "</style>\n",
       "<table border=\"1\" class=\"dataframe\">\n",
       "  <thead>\n",
       "    <tr style=\"text-align: right;\">\n",
       "      <th></th>\n",
       "      <th>book_chunk_no</th>\n",
       "      <th>number</th>\n",
       "      <th>title</th>\n",
       "      <th>text</th>\n",
       "      <th>fstop_indices</th>\n",
       "      <th>split_indices</th>\n",
       "      <th>chunks</th>\n",
       "      <th>translator</th>\n",
       "      <th>book_title</th>\n",
       "      <th>parsed</th>\n",
       "      <th>n_sents</th>\n",
       "      <th>n_words</th>\n",
       "      <th>n_chars</th>\n",
       "      <th>n_syllables</th>\n",
       "      <th>n_unique_words</th>\n",
       "      <th>n_long_words</th>\n",
       "      <th>n_monosyllable_words</th>\n",
       "      <th>n_polysyllable_words</th>\n",
       "      <th>trans_code</th>\n",
       "      <th>chunk_length</th>\n",
       "      <th>n_sents_norm</th>\n",
       "      <th>n_words_norm</th>\n",
       "      <th>n_chars_norm</th>\n",
       "      <th>n_syllables_norm</th>\n",
       "      <th>n_unique_words_norm</th>\n",
       "      <th>n_long_words_norm</th>\n",
       "      <th>n_monosyllable_words_norm</th>\n",
       "      <th>n_polysyllable_words_norm</th>\n",
       "      <th>vader_compound</th>\n",
       "      <th>vader_neg</th>\n",
       "      <th>vader_neu</th>\n",
       "      <th>vader_pos</th>\n",
       "      <th>pron_count</th>\n",
       "      <th>verb_count</th>\n",
       "      <th>det_count</th>\n",
       "      <th>adj_count</th>\n",
       "      <th>num_count</th>\n",
       "      <th>punct_count</th>\n",
       "      <th>noun_count</th>\n",
       "      <th>adp_count</th>\n",
       "      <th>cconj_count</th>\n",
       "      <th>sconj_count</th>\n",
       "      <th>adv_count</th>\n",
       "      <th>aux_count</th>\n",
       "      <th>part_count</th>\n",
       "      <th>propn_count</th>\n",
       "      <th>space_count</th>\n",
       "      <th>intj_count</th>\n",
       "      <th>sym_count</th>\n",
       "      <th>x_count</th>\n",
       "      <th>...</th>\n",
       "      <th>where_adv</th>\n",
       "      <th>too_adv</th>\n",
       "      <th>now_adv</th>\n",
       "      <th>all_adv</th>\n",
       "      <th>then_adv</th>\n",
       "      <th>just_adv</th>\n",
       "      <th>really_adv</th>\n",
       "      <th>there_adv</th>\n",
       "      <th>only_adv</th>\n",
       "      <th>even_adv</th>\n",
       "      <th>as_adv</th>\n",
       "      <th>always_adv</th>\n",
       "      <th>when_adv</th>\n",
       "      <th>again_adv</th>\n",
       "      <th>here_adv</th>\n",
       "      <th>maybe_adv</th>\n",
       "      <th>still_adv</th>\n",
       "      <th>back_adv</th>\n",
       "      <th>why_adv</th>\n",
       "      <th>very_adv</th>\n",
       "      <th>never_adv</th>\n",
       "      <th>how_adv</th>\n",
       "      <th>whole_adj</th>\n",
       "      <th>small_adj</th>\n",
       "      <th>long_adj</th>\n",
       "      <th>able_adj</th>\n",
       "      <th>more_adj</th>\n",
       "      <th>sure_adj</th>\n",
       "      <th>big_adj</th>\n",
       "      <th>last_adj</th>\n",
       "      <th>bad_adj</th>\n",
       "      <th>old_adj</th>\n",
       "      <th>same_adj</th>\n",
       "      <th>good_adj</th>\n",
       "      <th>new_adj</th>\n",
       "      <th>only_adj</th>\n",
       "      <th>different_adj</th>\n",
       "      <th>other_adj</th>\n",
       "      <th>next_adj</th>\n",
       "      <th>few_adj</th>\n",
       "      <th>much_adj</th>\n",
       "      <th>hard_adj</th>\n",
       "      <th>real_adj</th>\n",
       "      <th>young_adj</th>\n",
       "      <th>own_adj</th>\n",
       "      <th>first_adj</th>\n",
       "      <th>deep_adj</th>\n",
       "      <th>strange_adj</th>\n",
       "      <th>little_adj</th>\n",
       "      <th>right_adj</th>\n",
       "    </tr>\n",
       "  </thead>\n",
       "  <tbody>\n",
       "    <tr>\n",
       "      <th>0</th>\n",
       "      <td>0</td>\n",
       "      <td>1</td>\n",
       "      <td>Wednesday Afternoon Picnic</td>\n",
       "      <td>IT WAS A  short one-paragraph item in the morn...</td>\n",
       "      <td>[57, 97, 115, 196, 318, 385, 420, 445, 504, 65...</td>\n",
       "      <td>[967, 1924, 2998, 3982, 4935, 5975, 6995, 7961...</td>\n",
       "      <td>IT WAS A short one-paragraph item in the morni...</td>\n",
       "      <td>Alfred Birnbaum</td>\n",
       "      <td>A Wild Sheep Chase</td>\n",
       "      <td>(IT, WAS, A, short, one, -, paragraph, item, i...</td>\n",
       "      <td>15</td>\n",
       "      <td>174</td>\n",
       "      <td>742</td>\n",
       "      <td>240</td>\n",
       "      <td>116</td>\n",
       "      <td>33</td>\n",
       "      <td>128</td>\n",
       "      <td>17</td>\n",
       "      <td>0</td>\n",
       "      <td>944</td>\n",
       "      <td>15.889831</td>\n",
       "      <td>184.322034</td>\n",
       "      <td>786.016949</td>\n",
       "      <td>254.237288</td>\n",
       "      <td>122.881356</td>\n",
       "      <td>34.957627</td>\n",
       "      <td>135.59322</td>\n",
       "      <td>18.008475</td>\n",
       "      <td>-0.4798</td>\n",
       "      <td>0.075</td>\n",
       "      <td>0.862</td>\n",
       "      <td>0.064</td>\n",
       "      <td>18.0</td>\n",
       "      <td>20.0</td>\n",
       "      <td>31.0</td>\n",
       "      <td>9.0</td>\n",
       "      <td>2.0</td>\n",
       "      <td>33.0</td>\n",
       "      <td>51.0</td>\n",
       "      <td>19.0</td>\n",
       "      <td>6.0</td>\n",
       "      <td>3.0</td>\n",
       "      <td>5.0</td>\n",
       "      <td>5.0</td>\n",
       "      <td>3.0</td>\n",
       "      <td>2.0</td>\n",
       "      <td>0.0</td>\n",
       "      <td>0.0</td>\n",
       "      <td>0.0</td>\n",
       "      <td>0.0</td>\n",
       "      <td>...</td>\n",
       "      <td>1</td>\n",
       "      <td>0</td>\n",
       "      <td>0</td>\n",
       "      <td>0</td>\n",
       "      <td>0</td>\n",
       "      <td>0</td>\n",
       "      <td>0</td>\n",
       "      <td>0</td>\n",
       "      <td>0</td>\n",
       "      <td>1</td>\n",
       "      <td>0</td>\n",
       "      <td>0</td>\n",
       "      <td>0</td>\n",
       "      <td>0</td>\n",
       "      <td>0</td>\n",
       "      <td>0</td>\n",
       "      <td>0</td>\n",
       "      <td>0</td>\n",
       "      <td>0</td>\n",
       "      <td>0</td>\n",
       "      <td>0</td>\n",
       "      <td>0</td>\n",
       "      <td>1</td>\n",
       "      <td>0</td>\n",
       "      <td>0</td>\n",
       "      <td>0</td>\n",
       "      <td>0</td>\n",
       "      <td>0</td>\n",
       "      <td>0</td>\n",
       "      <td>0</td>\n",
       "      <td>0</td>\n",
       "      <td>1</td>\n",
       "      <td>0</td>\n",
       "      <td>0</td>\n",
       "      <td>0</td>\n",
       "      <td>0</td>\n",
       "      <td>0</td>\n",
       "      <td>0</td>\n",
       "      <td>0</td>\n",
       "      <td>0</td>\n",
       "      <td>0</td>\n",
       "      <td>0</td>\n",
       "      <td>0</td>\n",
       "      <td>0</td>\n",
       "      <td>0</td>\n",
       "      <td>0</td>\n",
       "      <td>0</td>\n",
       "      <td>0</td>\n",
       "      <td>0</td>\n",
       "      <td>0</td>\n",
       "    </tr>\n",
       "  </tbody>\n",
       "</table>\n",
       "<p>1 rows × 141 columns</p>\n",
       "</div>"
      ],
      "text/plain": [
       "   book_chunk_no number                       title  \\\n",
       "0              0      1  Wednesday Afternoon Picnic   \n",
       "\n",
       "                                                text  \\\n",
       "0  IT WAS A  short one-paragraph item in the morn...   \n",
       "\n",
       "                                       fstop_indices  \\\n",
       "0  [57, 97, 115, 196, 318, 385, 420, 445, 504, 65...   \n",
       "\n",
       "                                       split_indices  \\\n",
       "0  [967, 1924, 2998, 3982, 4935, 5975, 6995, 7961...   \n",
       "\n",
       "                                              chunks       translator  \\\n",
       "0  IT WAS A short one-paragraph item in the morni...  Alfred Birnbaum   \n",
       "\n",
       "           book_title                                             parsed  \\\n",
       "0  A Wild Sheep Chase  (IT, WAS, A, short, one, -, paragraph, item, i...   \n",
       "\n",
       "   n_sents  n_words  n_chars  n_syllables  n_unique_words  n_long_words  \\\n",
       "0       15      174      742          240             116            33   \n",
       "\n",
       "   n_monosyllable_words  n_polysyllable_words  trans_code  chunk_length  \\\n",
       "0                   128                    17           0           944   \n",
       "\n",
       "   n_sents_norm  n_words_norm  n_chars_norm  n_syllables_norm  \\\n",
       "0     15.889831    184.322034    786.016949        254.237288   \n",
       "\n",
       "   n_unique_words_norm  n_long_words_norm  n_monosyllable_words_norm  \\\n",
       "0           122.881356          34.957627                  135.59322   \n",
       "\n",
       "   n_polysyllable_words_norm  vader_compound  vader_neg  vader_neu  vader_pos  \\\n",
       "0                  18.008475         -0.4798      0.075      0.862      0.064   \n",
       "\n",
       "   pron_count  verb_count  det_count  adj_count  num_count  punct_count  \\\n",
       "0        18.0        20.0       31.0        9.0        2.0         33.0   \n",
       "\n",
       "   noun_count  adp_count  cconj_count  sconj_count  adv_count  aux_count  \\\n",
       "0        51.0       19.0          6.0          3.0        5.0        5.0   \n",
       "\n",
       "   part_count  propn_count  space_count  intj_count  sym_count  x_count  ...  \\\n",
       "0         3.0          2.0          0.0         0.0        0.0      0.0  ...   \n",
       "\n",
       "   where_adv  too_adv  now_adv  all_adv  then_adv  just_adv  really_adv  \\\n",
       "0          1        0        0        0         0         0           0   \n",
       "\n",
       "   there_adv  only_adv  even_adv  as_adv  always_adv  when_adv  again_adv  \\\n",
       "0          0         0         1       0           0         0          0   \n",
       "\n",
       "   here_adv  maybe_adv  still_adv  back_adv  why_adv  very_adv  never_adv  \\\n",
       "0         0          0          0         0        0         0          0   \n",
       "\n",
       "   how_adv  whole_adj  small_adj  long_adj  able_adj  more_adj  sure_adj  \\\n",
       "0        0          1          0         0         0         0         0   \n",
       "\n",
       "   big_adj  last_adj  bad_adj  old_adj  same_adj  good_adj  new_adj only_adj  \\\n",
       "0        0         0        0        1         0         0        0        0   \n",
       "\n",
       "  different_adj other_adj next_adj  few_adj  much_adj  hard_adj  real_adj  \\\n",
       "0             0         0        0        0         0         0         0   \n",
       "\n",
       "   young_adj  own_adj  first_adj  deep_adj  strange_adj  little_adj  right_adj  \n",
       "0          0        0          0         0            0           0          0  \n",
       "\n",
       "[1 rows x 141 columns]"
      ]
     },
     "execution_count": 3,
     "metadata": {},
     "output_type": "execute_result"
    }
   ],
   "source": [
    "df.head(1)"
   ]
  },
  {
   "cell_type": "code",
   "execution_count": 4,
   "metadata": {
    "ExecuteTime": {
     "end_time": "2020-05-17T06:41:17.374324Z",
     "start_time": "2020-05-17T06:41:17.367506Z"
    }
   },
   "outputs": [
    {
     "data": {
      "text/plain": [
       "(5253, 141)"
      ]
     },
     "execution_count": 4,
     "metadata": {},
     "output_type": "execute_result"
    }
   ],
   "source": [
    "df.shape"
   ]
  },
  {
   "cell_type": "code",
   "execution_count": 5,
   "metadata": {
    "ExecuteTime": {
     "end_time": "2020-05-17T06:41:18.857227Z",
     "start_time": "2020-05-17T06:41:18.854193Z"
    }
   },
   "outputs": [],
   "source": [
    "# df.columns"
   ]
  },
  {
   "cell_type": "markdown",
   "metadata": {},
   "source": [
    "### Drop 'A Wild Sheep Chase' "
   ]
  },
  {
   "cell_type": "code",
   "execution_count": 6,
   "metadata": {
    "ExecuteTime": {
     "end_time": "2020-05-17T06:41:19.678527Z",
     "start_time": "2020-05-17T06:41:19.625993Z"
    }
   },
   "outputs": [],
   "source": [
    "df = df[df['book_title'] != 'A Wild Sheep Chase']"
   ]
  },
  {
   "cell_type": "markdown",
   "metadata": {},
   "source": [
    "### Check the baseline"
   ]
  },
  {
   "cell_type": "code",
   "execution_count": 7,
   "metadata": {
    "ExecuteTime": {
     "end_time": "2020-05-17T06:41:20.917395Z",
     "start_time": "2020-05-17T06:41:20.902106Z"
    }
   },
   "outputs": [
    {
     "data": {
      "text/plain": [
       "0.4364282726892514"
      ]
     },
     "execution_count": 7,
     "metadata": {},
     "output_type": "execute_result"
    }
   ],
   "source": [
    "baseline_acc = df['trans_code'].value_counts(normalize=True).max()\n",
    "baseline_acc"
   ]
  },
  {
   "cell_type": "markdown",
   "metadata": {},
   "source": [
    "### Select Predictor Variables"
   ]
  },
  {
   "cell_type": "code",
   "execution_count": 8,
   "metadata": {
    "ExecuteTime": {
     "end_time": "2020-05-17T06:41:26.056071Z",
     "start_time": "2020-05-17T06:41:26.043102Z"
    }
   },
   "outputs": [],
   "source": [
    "def feature_select(basic_counts=True, vader=False, pos_counts=False, \n",
    "                   words=False, adv=False, adj=False):\n",
    "    '''create column list depending on features to include in the modelling'''\n",
    "    columns = []\n",
    "    if basic_counts:\n",
    "        columns += [i for i in df.columns if i.startswith('n_') & i.endswith('_norm')]\n",
    "    if vader:\n",
    "        columns += [i for i in df.columns if i.startswith('vader_')]\n",
    "    if pos_counts:\n",
    "        columns += [i for i in df.columns if i.endswith('_count_norm')]\n",
    "    if words:\n",
    "        columns += [i for i in df.columns if i.endswith('_w')]\n",
    "    if adj:\n",
    "        columns += [i for i in df.columns if i.endswith('_adj')]\n",
    "    if adv:\n",
    "        columns += [i for i in df.columns if i.endswith('_adv')]\n",
    "    return columns"
   ]
  },
  {
   "cell_type": "code",
   "execution_count": 9,
   "metadata": {
    "ExecuteTime": {
     "end_time": "2020-05-17T06:41:27.565068Z",
     "start_time": "2020-05-17T06:41:27.557691Z"
    }
   },
   "outputs": [],
   "source": [
    "cols_to_drop = ['num_count_norm', 'punct_count_norm','space_count_norm', 'sym_count_norm', 'x_count_norm']\n",
    "predictor_cols = feature_select(basic_counts=True, pos_counts=True, vader=False, words=True, adj=True, adv=True)\n",
    "predictor_cols = [x for x in predictor_cols if x not in cols_to_drop]"
   ]
  },
  {
   "cell_type": "markdown",
   "metadata": {},
   "source": [
    "### Set Target and Predictor variables"
   ]
  },
  {
   "cell_type": "code",
   "execution_count": 10,
   "metadata": {
    "ExecuteTime": {
     "end_time": "2020-05-17T06:41:33.886864Z",
     "start_time": "2020-05-17T06:41:33.879971Z"
    }
   },
   "outputs": [],
   "source": [
    "X = df[predictor_cols]\n",
    "y = df['trans_code']"
   ]
  },
  {
   "cell_type": "markdown",
   "metadata": {},
   "source": [
    "### Make Train Test Split with stratify on y"
   ]
  },
  {
   "cell_type": "code",
   "execution_count": 11,
   "metadata": {
    "ExecuteTime": {
     "end_time": "2020-05-17T06:41:34.971418Z",
     "start_time": "2020-05-17T06:41:34.952042Z"
    }
   },
   "outputs": [],
   "source": [
    "# stratify based on your target variable\n",
    "X_train, X_test, y_train, y_test = train_test_split(\n",
    "    X, y, test_size=0.2, stratify=y, random_state=1)"
   ]
  },
  {
   "cell_type": "markdown",
   "metadata": {},
   "source": [
    "### Standardise the predictor variables"
   ]
  },
  {
   "cell_type": "code",
   "execution_count": 12,
   "metadata": {
    "ExecuteTime": {
     "end_time": "2020-05-17T06:41:39.656130Z",
     "start_time": "2020-05-17T06:41:39.633763Z"
    }
   },
   "outputs": [],
   "source": [
    "scaler = StandardScaler()\n",
    "X_train = pd.DataFrame(scaler.fit_transform(X_train), columns=X.columns)\n",
    "X_test = pd.DataFrame(scaler.transform(X_test), columns=X.columns)"
   ]
  },
  {
   "cell_type": "markdown",
   "metadata": {},
   "source": [
    "### XG boosting classification with grid search"
   ]
  },
  {
   "cell_type": "code",
   "execution_count": 13,
   "metadata": {
    "ExecuteTime": {
     "end_time": "2020-05-17T07:18:13.650934Z",
     "start_time": "2020-05-17T06:43:38.071635Z"
    }
   },
   "outputs": [
    {
     "name": "stdout",
     "output_type": "stream",
     "text": [
      "Fitting 5 folds for each of 18 candidates, totalling 90 fits\n"
     ]
    },
    {
     "name": "stderr",
     "output_type": "stream",
     "text": [
      "[Parallel(n_jobs=-1)]: Using backend LokyBackend with 4 concurrent workers.\n",
      "[Parallel(n_jobs=-1)]: Done  42 tasks      | elapsed: 17.9min\n",
      "[Parallel(n_jobs=-1)]: Done  90 out of  90 | elapsed: 34.2min finished\n"
     ]
    },
    {
     "data": {
      "text/plain": [
       "GridSearchCV(cv=5, error_score=nan,\n",
       "             estimator=XGBClassifier(base_score=None, booster=None,\n",
       "                                     colsample_bylevel=None,\n",
       "                                     colsample_bynode=None,\n",
       "                                     colsample_bytree=None, gamma=None,\n",
       "                                     gpu_id=None, importance_type='gain',\n",
       "                                     interaction_constraints=None,\n",
       "                                     learning_rate=None, max_delta_step=None,\n",
       "                                     max_depth=None, min_child_weight=None,\n",
       "                                     missing=nan, monotone_constraints=None,\n",
       "                                     n_estim...\n",
       "             iid='deprecated', n_jobs=-1,\n",
       "             param_grid={'colsample_bytree': [0.7],\n",
       "                         'learning_rate': [0.01, 0.05, 0.1],\n",
       "                         'max_depth': [5, 6, 7], 'min_child_weight': [11],\n",
       "                         'missing': [-999], 'n_estimators': [1000],\n",
       "                         'nthread': [4],\n",
       "                         'objective': ['multi:softmax', 'binary:logistic'],\n",
       "                         'seed': [1337], 'silent': [1], 'subsample': [0.8]},\n",
       "             pre_dispatch='2*n_jobs', refit=True, return_train_score=False,\n",
       "             scoring=None, verbose=1)"
      ]
     },
     "execution_count": 13,
     "metadata": {},
     "output_type": "execute_result"
    }
   ],
   "source": [
    "xgb_model = XGBClassifier()\n",
    "parameters = {'nthread':[4], #when use hyperthread, xgboost may become slower\n",
    "              'objective':['multi:softmax','binary:logistic'],\n",
    "              'learning_rate': [0.01, 0.05, 0.1], #so called `eta` value\n",
    "              'max_depth': [5,6,7],\n",
    "              'min_child_weight': [11],\n",
    "              'silent': [1],\n",
    "              'subsample': [0.8],\n",
    "              'colsample_bytree': [0.7],\n",
    "              'n_estimators': [1000], #number of trees, change it to 1000 for better results\n",
    "              'missing':[-999],\n",
    "              'seed': [1337]}\n",
    "xgb_gs_01 = GridSearchCV(xgb_model, \n",
    "                         parameters, \n",
    "                         n_jobs=-1, \n",
    "                         cv=5, \n",
    "                         verbose=1, \n",
    "                         refit=True)\n",
    "\n",
    "xgb_gs_01.fit(X_train, y_train)"
   ]
  },
  {
   "cell_type": "code",
   "execution_count": 14,
   "metadata": {
    "ExecuteTime": {
     "end_time": "2020-05-17T07:19:19.882825Z",
     "start_time": "2020-05-17T07:19:19.869816Z"
    }
   },
   "outputs": [],
   "source": [
    "def model_gridsearch_score(model, X_train, y_train, X_test, y_test):\n",
    "    \n",
    "    # print the grid search results\n",
    "    results_dict = {}\n",
    "    print('Best Parameters:')\n",
    "    print(model.best_params_)\n",
    "    print('Best estimator mean cross validated training score:')\n",
    "    print(model.best_score_)\n",
    "    print('Best estimator score on the full training set:')\n",
    "    print(model.score(X_train, y_train))\n",
    "    print('Best estimator score on the test set:')\n",
    "    print(model.score(X_test, y_test))\n",
    "    print('ROC-AUC score on the test set:')\n",
    "    \n",
    "    # store the grid search results as a dictionary\n",
    "    y_bin = label_binarize(y_test, model.classes_)\n",
    "    for i, class_ in enumerate(model.classes_):\n",
    "        print('Class {}:'.format(class_), round(roc_auc_score(y_bin[:,i],model.predict_proba(X_test)[:,i]),2))\n",
    "    results_dict['Best_Parameters'] = model.best_params_\n",
    "    results_dict['Best_CV_Score'] = model.best_score_\n",
    "    results_dict['Best_Train_Score'] = model.score(X_train, y_train)\n",
    "    results_dict['Best_Test_Score'] = model.score(X_test, y_test)\n",
    "    results_dict['AUC_Class_0'] = roc_auc_score(y_bin[:,0],model.predict_proba(X_test)[:,0])\n",
    "    results_dict['AUC_Class_1'] = roc_auc_score(y_bin[:,1],model.predict_proba(X_test)[:,1])\n",
    "    results_dict['AUC_Class_2'] = roc_auc_score(y_bin[:,2],model.predict_proba(X_test)[:,2])\n",
    "    predictions = model.predict(X_test)\n",
    "    results_dict['conmat'] = confusion_matrix(\n",
    "        y_test, predictions, labels=[0, 1, 2])\n",
    "\n",
    "    return results_dict"
   ]
  },
  {
   "cell_type": "code",
   "execution_count": 17,
   "metadata": {
    "ExecuteTime": {
     "end_time": "2020-05-17T07:20:43.751167Z",
     "start_time": "2020-05-17T07:20:40.668094Z"
    }
   },
   "outputs": [
    {
     "name": "stdout",
     "output_type": "stream",
     "text": [
      "Best Parameters:\n",
      "{'colsample_bytree': 0.7, 'learning_rate': 0.01, 'max_depth': 6, 'min_child_weight': 11, 'missing': -999, 'n_estimators': 1000, 'nthread': 4, 'objective': 'multi:softmax', 'seed': 1337, 'silent': 1, 'subsample': 0.8}\n",
      "Best estimator mean cross validated training score:\n",
      "0.6967320261437908\n",
      "Best estimator score on the full training set:\n",
      "0.9516339869281045\n",
      "Best estimator score on the test set:\n",
      "0.7293625914315569\n",
      "ROC-AUC score on the test set:\n",
      "Class 0: 0.84\n",
      "Class 1: 0.89\n",
      "Class 2: 0.89\n"
     ]
    }
   ],
   "source": [
    "xgb_gs_01_results = model_gridsearch_score(xgb_gs_01, X_train, y_train, X_test, y_test)"
   ]
  },
  {
   "cell_type": "markdown",
   "metadata": {},
   "source": [
    "### Save the model"
   ]
  },
  {
   "cell_type": "code",
   "execution_count": 24,
   "metadata": {
    "ExecuteTime": {
     "end_time": "2020-05-17T07:28:39.698991Z",
     "start_time": "2020-05-17T07:28:39.672569Z"
    }
   },
   "outputs": [],
   "source": [
    "# set the output path and name\n",
    "out_path = '../../../Documents/murakami/pkl_models/'\n",
    "out_name = 'xgb_gs_01_ns'\n",
    "out_full_path = out_path + out_name + '.pkl'\n",
    "\n",
    "# save pickle\n",
    "with open(out_full_path, 'wb') as fp:\n",
    "    pickle.dump(xgb_gs_01, fp)"
   ]
  },
  {
   "cell_type": "markdown",
   "metadata": {},
   "source": [
    "### Confusion Matrix"
   ]
  },
  {
   "cell_type": "code",
   "execution_count": 25,
   "metadata": {
    "ExecuteTime": {
     "end_time": "2020-05-17T07:28:41.140324Z",
     "start_time": "2020-05-17T07:28:40.931724Z"
    }
   },
   "outputs": [],
   "source": [
    "predictions = xgb_gs_01.predict(X_test)"
   ]
  },
  {
   "cell_type": "code",
   "execution_count": 26,
   "metadata": {
    "ExecuteTime": {
     "end_time": "2020-05-17T07:28:41.959298Z",
     "start_time": "2020-05-17T07:28:41.944997Z"
    }
   },
   "outputs": [
    {
     "data": {
      "text/html": [
       "<div>\n",
       "<style scoped>\n",
       "    .dataframe tbody tr th:only-of-type {\n",
       "        vertical-align: middle;\n",
       "    }\n",
       "\n",
       "    .dataframe tbody tr th {\n",
       "        vertical-align: top;\n",
       "    }\n",
       "\n",
       "    .dataframe thead th {\n",
       "        text-align: right;\n",
       "    }\n",
       "</style>\n",
       "<table border=\"1\" class=\"dataframe\">\n",
       "  <thead>\n",
       "    <tr style=\"text-align: right;\">\n",
       "      <th></th>\n",
       "      <th>predicted birnbaum</th>\n",
       "      <th>predicted rubin</th>\n",
       "      <th>predicted gabriel</th>\n",
       "    </tr>\n",
       "  </thead>\n",
       "  <tbody>\n",
       "    <tr>\n",
       "      <th>actual birnbaum</th>\n",
       "      <td>147</td>\n",
       "      <td>69</td>\n",
       "      <td>42</td>\n",
       "    </tr>\n",
       "    <tr>\n",
       "      <th>actual rubin</th>\n",
       "      <td>32</td>\n",
       "      <td>356</td>\n",
       "      <td>30</td>\n",
       "    </tr>\n",
       "    <tr>\n",
       "      <th>actual gabriel</th>\n",
       "      <td>31</td>\n",
       "      <td>55</td>\n",
       "      <td>195</td>\n",
       "    </tr>\n",
       "  </tbody>\n",
       "</table>\n",
       "</div>"
      ],
      "text/plain": [
       "                 predicted birnbaum  predicted rubin  predicted gabriel\n",
       "actual birnbaum                 147               69                 42\n",
       "actual rubin                     32              356                 30\n",
       "actual gabriel                   31               55                195"
      ]
     },
     "execution_count": 26,
     "metadata": {},
     "output_type": "execute_result"
    }
   ],
   "source": [
    "conmat = confusion_matrix(\n",
    "    y_test, predictions, labels=[0, 1, 2])\n",
    "\n",
    "confusion = pd.DataFrame(conmat, index=['actual birnbaum', 'actual rubin', 'actual gabriel'],\n",
    "                         columns=['predicted birnbaum', 'predicted rubin', 'predicted gabriel'])\n",
    "confusion"
   ]
  },
  {
   "cell_type": "markdown",
   "metadata": {},
   "source": [
    "* OK results"
   ]
  },
  {
   "cell_type": "markdown",
   "metadata": {},
   "source": [
    "### Classification Report"
   ]
  },
  {
   "cell_type": "code",
   "execution_count": 27,
   "metadata": {
    "ExecuteTime": {
     "end_time": "2020-05-17T07:28:44.698722Z",
     "start_time": "2020-05-17T07:28:44.682889Z"
    }
   },
   "outputs": [
    {
     "name": "stdout",
     "output_type": "stream",
     "text": [
      "              precision    recall  f1-score   support\n",
      "\n",
      "           0       0.70      0.57      0.63       258\n",
      "           1       0.74      0.85      0.79       418\n",
      "           2       0.73      0.69      0.71       281\n",
      "\n",
      "    accuracy                           0.73       957\n",
      "   macro avg       0.72      0.71      0.71       957\n",
      "weighted avg       0.73      0.73      0.72       957\n",
      "\n"
     ]
    }
   ],
   "source": [
    "print(classification_report(y_test, predictions))"
   ]
  },
  {
   "cell_type": "code",
   "execution_count": null,
   "metadata": {},
   "outputs": [],
   "source": []
  }
 ],
 "metadata": {
  "kernelspec": {
   "display_name": "textacy",
   "language": "python",
   "name": "textacy"
  },
  "language_info": {
   "codemirror_mode": {
    "name": "ipython",
    "version": 3
   },
   "file_extension": ".py",
   "mimetype": "text/x-python",
   "name": "python",
   "nbconvert_exporter": "python",
   "pygments_lexer": "ipython3",
   "version": "3.8.2"
  }
 },
 "nbformat": 4,
 "nbformat_minor": 2
}
