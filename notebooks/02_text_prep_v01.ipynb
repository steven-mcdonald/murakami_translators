{
 "cells": [
  {
   "cell_type": "markdown",
   "metadata": {},
   "source": [
    "# Tidy Text For Each Book\n",
    "* read in pickles of each book in text format\n",
    "* split into chapters\n",
    "* run several functions to chunk the text"
   ]
  },
  {
   "cell_type": "code",
   "execution_count": 151,
   "metadata": {
    "ExecuteTime": {
     "end_time": "2020-06-13T14:20:22.585486Z",
     "start_time": "2020-06-13T14:20:22.541521Z"
    }
   },
   "outputs": [],
   "source": [
    "import pandas as pd\n",
    "import numpy as np\n",
    "import matplotlib.pyplot as plt\n",
    "import seaborn as sns\n",
    "import textacy\n",
    "import re\n",
    "import pickle\n",
    "import os\n",
    "\n",
    "sns.set(font_scale=1.5)\n",
    "%config InlineBackend.figure_format = 'retina'\n",
    "%matplotlib inline\n",
    "plt.style.use('ggplot')\n",
    "\n",
    "from sklearn.model_selection import train_test_split, cross_val_score\n",
    "from sklearn.preprocessing import StandardScaler\n",
    "from sklearn.linear_model import LogisticRegression\n",
    "from sklearn.metrics import confusion_matrix\n",
    "from vaderSentiment.vaderSentiment import SentimentIntensityAnalyzer"
   ]
  },
  {
   "cell_type": "markdown",
   "metadata": {},
   "source": [
    "## Load text files from pickles"
   ]
  },
  {
   "cell_type": "markdown",
   "metadata": {},
   "source": [
    "### List all files in the chosen directory. It should only contain the text file pickles"
   ]
  },
  {
   "cell_type": "code",
   "execution_count": 152,
   "metadata": {
    "ExecuteTime": {
     "end_time": "2020-06-13T14:20:22.602360Z",
     "start_time": "2020-06-13T14:20:22.591970Z"
    }
   },
   "outputs": [],
   "source": [
    "raw_texts_dir = '../../../../Documents/murakami/pkl_raw_books/'\n",
    "raw_texts_list = os.listdir(raw_texts_dir)"
   ]
  },
  {
   "cell_type": "code",
   "execution_count": 153,
   "metadata": {
    "ExecuteTime": {
     "end_time": "2020-06-13T14:20:22.623483Z",
     "start_time": "2020-06-13T14:20:22.609038Z"
    }
   },
   "outputs": [
    {
     "data": {
      "text/plain": [
       "['HarukiMurakami_TheElephantVanishes.pkl',\n",
       " 'HarukiMurakami_NorwegianWood.pkl',\n",
       " 'HarukiMurakami_TheWindUpBirdChronicle.pkl',\n",
       " 'HarukiMurakami_AWildSheepChase.pkl',\n",
       " 'HarukiMurakami_KafkaOnTheShore.pkl',\n",
       " 'HarukiMurakami_ColorlessTsukuruTazaki.pkl',\n",
       " 'HarukiMurakami_NorwegianWoodB.pkl',\n",
       " 'HarukiMurakami_DanceDanceDance.pkl']"
      ]
     },
     "execution_count": 153,
     "metadata": {},
     "output_type": "execute_result"
    }
   ],
   "source": [
    "raw_texts_list"
   ]
  },
  {
   "cell_type": "markdown",
   "metadata": {},
   "source": [
    "### Extract the book names"
   ]
  },
  {
   "cell_type": "code",
   "execution_count": 154,
   "metadata": {
    "ExecuteTime": {
     "end_time": "2020-06-13T14:20:22.652168Z",
     "start_time": "2020-06-13T14:20:22.634017Z"
    }
   },
   "outputs": [
    {
     "data": {
      "text/plain": [
       "['The Elephant Vanishes',\n",
       " 'Norwegian Wood',\n",
       " 'The Wind Up Bird Chronicle',\n",
       " 'A Wild Sheep Chase',\n",
       " 'Kafka On The Shore',\n",
       " 'Colorless Tsukuru Tazaki',\n",
       " 'Norwegian Wood B',\n",
       " 'Dance Dance Dance']"
      ]
     },
     "execution_count": 154,
     "metadata": {},
     "output_type": "execute_result"
    }
   ],
   "source": [
    "# split the pkl file name on the . and _ and keep the book name\n",
    "titles = [y.split('_')[1] for y in [x.split('.')[0] for x in raw_texts_list]]\n",
    "# insert spaces between the capitalized words in the tiles\n",
    "titles = [re.sub( r\"([A-Z])\", r\" \\1\", z).strip() for z in titles]\n",
    "titles"
   ]
  },
  {
   "cell_type": "markdown",
   "metadata": {},
   "source": [
    "### Create dataframe containing the book titles and pkl file names"
   ]
  },
  {
   "cell_type": "code",
   "execution_count": 155,
   "metadata": {
    "ExecuteTime": {
     "end_time": "2020-06-13T14:20:22.668639Z",
     "start_time": "2020-06-13T14:20:22.657575Z"
    }
   },
   "outputs": [],
   "source": [
    "book_dict = {'Title':titles,'Pickle':raw_texts_list}"
   ]
  },
  {
   "cell_type": "code",
   "execution_count": 156,
   "metadata": {
    "ExecuteTime": {
     "end_time": "2020-06-13T14:20:22.689314Z",
     "start_time": "2020-06-13T14:20:22.673813Z"
    }
   },
   "outputs": [
    {
     "data": {
      "text/html": [
       "<div>\n",
       "<style scoped>\n",
       "    .dataframe tbody tr th:only-of-type {\n",
       "        vertical-align: middle;\n",
       "    }\n",
       "\n",
       "    .dataframe tbody tr th {\n",
       "        vertical-align: top;\n",
       "    }\n",
       "\n",
       "    .dataframe thead th {\n",
       "        text-align: right;\n",
       "    }\n",
       "</style>\n",
       "<table border=\"1\" class=\"dataframe\">\n",
       "  <thead>\n",
       "    <tr style=\"text-align: right;\">\n",
       "      <th></th>\n",
       "      <th>Title</th>\n",
       "      <th>Pickle</th>\n",
       "    </tr>\n",
       "  </thead>\n",
       "  <tbody>\n",
       "    <tr>\n",
       "      <th>0</th>\n",
       "      <td>The Elephant Vanishes</td>\n",
       "      <td>HarukiMurakami_TheElephantVanishes.pkl</td>\n",
       "    </tr>\n",
       "    <tr>\n",
       "      <th>1</th>\n",
       "      <td>Norwegian Wood</td>\n",
       "      <td>HarukiMurakami_NorwegianWood.pkl</td>\n",
       "    </tr>\n",
       "    <tr>\n",
       "      <th>2</th>\n",
       "      <td>The Wind Up Bird Chronicle</td>\n",
       "      <td>HarukiMurakami_TheWindUpBirdChronicle.pkl</td>\n",
       "    </tr>\n",
       "    <tr>\n",
       "      <th>3</th>\n",
       "      <td>A Wild Sheep Chase</td>\n",
       "      <td>HarukiMurakami_AWildSheepChase.pkl</td>\n",
       "    </tr>\n",
       "    <tr>\n",
       "      <th>4</th>\n",
       "      <td>Kafka On The Shore</td>\n",
       "      <td>HarukiMurakami_KafkaOnTheShore.pkl</td>\n",
       "    </tr>\n",
       "    <tr>\n",
       "      <th>5</th>\n",
       "      <td>Colorless Tsukuru Tazaki</td>\n",
       "      <td>HarukiMurakami_ColorlessTsukuruTazaki.pkl</td>\n",
       "    </tr>\n",
       "    <tr>\n",
       "      <th>6</th>\n",
       "      <td>Norwegian Wood B</td>\n",
       "      <td>HarukiMurakami_NorwegianWoodB.pkl</td>\n",
       "    </tr>\n",
       "    <tr>\n",
       "      <th>7</th>\n",
       "      <td>Dance Dance Dance</td>\n",
       "      <td>HarukiMurakami_DanceDanceDance.pkl</td>\n",
       "    </tr>\n",
       "  </tbody>\n",
       "</table>\n",
       "</div>"
      ],
      "text/plain": [
       "                        Title                                     Pickle\n",
       "0       The Elephant Vanishes     HarukiMurakami_TheElephantVanishes.pkl\n",
       "1              Norwegian Wood           HarukiMurakami_NorwegianWood.pkl\n",
       "2  The Wind Up Bird Chronicle  HarukiMurakami_TheWindUpBirdChronicle.pkl\n",
       "3          A Wild Sheep Chase         HarukiMurakami_AWildSheepChase.pkl\n",
       "4          Kafka On The Shore         HarukiMurakami_KafkaOnTheShore.pkl\n",
       "5    Colorless Tsukuru Tazaki  HarukiMurakami_ColorlessTsukuruTazaki.pkl\n",
       "6            Norwegian Wood B          HarukiMurakami_NorwegianWoodB.pkl\n",
       "7           Dance Dance Dance         HarukiMurakami_DanceDanceDance.pkl"
      ]
     },
     "execution_count": 156,
     "metadata": {},
     "output_type": "execute_result"
    }
   ],
   "source": [
    "books = pd.DataFrame(book_dict)\n",
    "books"
   ]
  },
  {
   "cell_type": "markdown",
   "metadata": {},
   "source": [
    "### Load the text file for each book to the dataframe"
   ]
  },
  {
   "cell_type": "code",
   "execution_count": 157,
   "metadata": {
    "ExecuteTime": {
     "end_time": "2020-06-13T14:20:22.704990Z",
     "start_time": "2020-06-13T14:20:22.697037Z"
    }
   },
   "outputs": [],
   "source": [
    "def load_pickle(filename):\n",
    "    in_path = raw_texts_dir + filename\n",
    "    with open (in_path, 'rb') as fp:\n",
    "        return pickle.load(fp)"
   ]
  },
  {
   "cell_type": "code",
   "execution_count": 158,
   "metadata": {
    "ExecuteTime": {
     "end_time": "2020-06-13T14:20:22.759786Z",
     "start_time": "2020-06-13T14:20:22.718563Z"
    }
   },
   "outputs": [],
   "source": [
    "books['full_text'] = books['Pickle'].apply(load_pickle)"
   ]
  },
  {
   "cell_type": "code",
   "execution_count": 159,
   "metadata": {
    "ExecuteTime": {
     "end_time": "2020-06-13T14:20:22.909351Z",
     "start_time": "2020-06-13T14:20:22.770001Z"
    }
   },
   "outputs": [
    {
     "data": {
      "text/html": [
       "<div>\n",
       "<style scoped>\n",
       "    .dataframe tbody tr th:only-of-type {\n",
       "        vertical-align: middle;\n",
       "    }\n",
       "\n",
       "    .dataframe tbody tr th {\n",
       "        vertical-align: top;\n",
       "    }\n",
       "\n",
       "    .dataframe thead th {\n",
       "        text-align: right;\n",
       "    }\n",
       "</style>\n",
       "<table border=\"1\" class=\"dataframe\">\n",
       "  <thead>\n",
       "    <tr style=\"text-align: right;\">\n",
       "      <th></th>\n",
       "      <th>Title</th>\n",
       "      <th>Pickle</th>\n",
       "      <th>full_text</th>\n",
       "    </tr>\n",
       "  </thead>\n",
       "  <tbody>\n",
       "    <tr>\n",
       "      <th>0</th>\n",
       "      <td>The Elephant Vanishes</td>\n",
       "      <td>HarukiMurakami_TheElephantVanishes.pkl</td>\n",
       "      <td>I’M IN THE kitchen cooking spaghetti when the ...</td>\n",
       "    </tr>\n",
       "    <tr>\n",
       "      <th>1</th>\n",
       "      <td>Norwegian Wood</td>\n",
       "      <td>HarukiMurakami_NorwegianWood.pkl</td>\n",
       "      <td>[\\n , Haruki Murakami Norwegian Wood This book...</td>\n",
       "    </tr>\n",
       "    <tr>\n",
       "      <th>2</th>\n",
       "      <td>The Wind Up Bird Chronicle</td>\n",
       "      <td>HarukiMurakami_TheWindUpBirdChronicle.pkl</td>\n",
       "      <td>[\\n , \\n , Contents \\n Cover \\n About the Auth...</td>\n",
       "    </tr>\n",
       "    <tr>\n",
       "      <th>3</th>\n",
       "      <td>A Wild Sheep Chase</td>\n",
       "      <td>HarukiMurakami_AWildSheepChase.pkl</td>\n",
       "      <td>[\\n , \\n \\n \\n , Contents \\n Cover \\n About th...</td>\n",
       "    </tr>\n",
       "    <tr>\n",
       "      <th>4</th>\n",
       "      <td>Kafka On The Shore</td>\n",
       "      <td>HarukiMurakami_KafkaOnTheShore.pkl</td>\n",
       "      <td>[Kafka on the Shore \\n Haruki Murakami \\n \\n \\...</td>\n",
       "    </tr>\n",
       "    <tr>\n",
       "      <th>5</th>\n",
       "      <td>Colorless Tsukuru Tazaki</td>\n",
       "      <td>HarukiMurakami_ColorlessTsukuruTazaki.pkl</td>\n",
       "      <td>[\\n , \\n \\n \\n , Contents \\n Cover \\n About th...</td>\n",
       "    </tr>\n",
       "    <tr>\n",
       "      <th>6</th>\n",
       "      <td>Norwegian Wood B</td>\n",
       "      <td>HarukiMurakami_NorwegianWoodB.pkl</td>\n",
       "      <td>C H II P T E R 6 (rontinutd) The scene at dinn...</td>\n",
       "    </tr>\n",
       "    <tr>\n",
       "      <th>7</th>\n",
       "      <td>Dance Dance Dance</td>\n",
       "      <td>HarukiMurakami_DanceDanceDance.pkl</td>\n",
       "      <td>[\\n , \\n \\n \\n , Contents \\n Cover \\n About th...</td>\n",
       "    </tr>\n",
       "  </tbody>\n",
       "</table>\n",
       "</div>"
      ],
      "text/plain": [
       "                        Title                                     Pickle  \\\n",
       "0       The Elephant Vanishes     HarukiMurakami_TheElephantVanishes.pkl   \n",
       "1              Norwegian Wood           HarukiMurakami_NorwegianWood.pkl   \n",
       "2  The Wind Up Bird Chronicle  HarukiMurakami_TheWindUpBirdChronicle.pkl   \n",
       "3          A Wild Sheep Chase         HarukiMurakami_AWildSheepChase.pkl   \n",
       "4          Kafka On The Shore         HarukiMurakami_KafkaOnTheShore.pkl   \n",
       "5    Colorless Tsukuru Tazaki  HarukiMurakami_ColorlessTsukuruTazaki.pkl   \n",
       "6            Norwegian Wood B          HarukiMurakami_NorwegianWoodB.pkl   \n",
       "7           Dance Dance Dance         HarukiMurakami_DanceDanceDance.pkl   \n",
       "\n",
       "                                           full_text  \n",
       "0  I’M IN THE kitchen cooking spaghetti when the ...  \n",
       "1  [\\n , Haruki Murakami Norwegian Wood This book...  \n",
       "2  [\\n , \\n , Contents \\n Cover \\n About the Auth...  \n",
       "3  [\\n , \\n \\n \\n , Contents \\n Cover \\n About th...  \n",
       "4  [Kafka on the Shore \\n Haruki Murakami \\n \\n \\...  \n",
       "5  [\\n , \\n \\n \\n , Contents \\n Cover \\n About th...  \n",
       "6  C H II P T E R 6 (rontinutd) The scene at dinn...  \n",
       "7  [\\n , \\n \\n \\n , Contents \\n Cover \\n About th...  "
      ]
     },
     "execution_count": 159,
     "metadata": {},
     "output_type": "execute_result"
    }
   ],
   "source": [
    "books"
   ]
  },
  {
   "cell_type": "markdown",
   "metadata": {},
   "source": [
    "### Initial cleaning and preparation of 'A Wild Sheep Chase' Text"
   ]
  },
  {
   "cell_type": "code",
   "execution_count": 160,
   "metadata": {
    "ExecuteTime": {
     "end_time": "2020-06-13T14:20:22.922543Z",
     "start_time": "2020-06-13T14:20:22.916296Z"
    }
   },
   "outputs": [],
   "source": [
    "wsc = books['full_text'].iloc[3]"
   ]
  },
  {
   "cell_type": "code",
   "execution_count": 161,
   "metadata": {
    "ExecuteTime": {
     "end_time": "2020-06-13T14:20:22.938914Z",
     "start_time": "2020-06-13T14:20:22.926769Z"
    }
   },
   "outputs": [
    {
     "data": {
      "text/plain": [
       "63"
      ]
     },
     "execution_count": 161,
     "metadata": {},
     "output_type": "execute_result"
    }
   ],
   "source": [
    "# wsc is read from an epub and is a list of texts\n",
    "len(wsc)"
   ]
  },
  {
   "cell_type": "code",
   "execution_count": 162,
   "metadata": {
    "ExecuteTime": {
     "end_time": "2020-06-13T14:20:22.954453Z",
     "start_time": "2020-06-13T14:20:22.942746Z"
    }
   },
   "outputs": [
    {
     "data": {
      "text/plain": [
       "'\\n PART ONE \\n \\n A PRELUDE \\n '"
      ]
     },
     "execution_count": 162,
     "metadata": {},
     "output_type": "execute_result"
    }
   ],
   "source": [
    "wsc[6][:30]"
   ]
  },
  {
   "cell_type": "code",
   "execution_count": 163,
   "metadata": {
    "ExecuteTime": {
     "end_time": "2020-06-13T14:20:22.971633Z",
     "start_time": "2020-06-13T14:20:22.960244Z"
    }
   },
   "outputs": [
    {
     "data": {
      "text/plain": [
       "True"
      ]
     },
     "execution_count": 163,
     "metadata": {},
     "output_type": "execute_result"
    }
   ],
   "source": [
    "wsc[6].startswith('\\n PART')"
   ]
  },
  {
   "cell_type": "code",
   "execution_count": 164,
   "metadata": {
    "ExecuteTime": {
     "end_time": "2020-06-13T14:20:22.988286Z",
     "start_time": "2020-06-13T14:20:22.979242Z"
    }
   },
   "outputs": [],
   "source": [
    "# loop through the sections from 6 to 57 which contain the main body of the work\n",
    "# the book is split into parts and we seperate the part headers from the main text\n",
    "part_headers = []\n",
    "texts = []\n",
    "for i, section in enumerate(wsc[6:58]):\n",
    "    if section.startswith('\\n PART'):\n",
    "        part_headers.append(section)\n",
    "    else:\n",
    "        texts.append(section)"
   ]
  },
  {
   "cell_type": "code",
   "execution_count": 165,
   "metadata": {
    "ExecuteTime": {
     "end_time": "2020-06-13T14:20:23.015281Z",
     "start_time": "2020-06-13T14:20:22.991489Z"
    }
   },
   "outputs": [],
   "source": [
    "# regex pattern to extract chapter number, title and main text from a complete chapter\n",
    "pattern = re.compile(r'\\n ([\\d\\w]+) \\n \\n ([^\\n]+) \\n ([\\w\\W]+)')\n",
    "\n",
    "ch_nos = []\n",
    "ch_titles = []\n",
    "ch_texts = []\n",
    "ireg_ch = []\n",
    "\n",
    "for t in range(0,len(texts)):\n",
    "#     print(t)\n",
    "    out = re.findall(pattern, texts[t])\n",
    "    if len(out) > 0:\n",
    "        ch_nos.append(out[0][0])\n",
    "        ch_titles.append(out[0][1])\n",
    "        ch_texts.append(out[0][2])\n",
    "    else:\n",
    "        ireg_ch.append(texts[t])"
   ]
  },
  {
   "cell_type": "code",
   "execution_count": 166,
   "metadata": {
    "ExecuteTime": {
     "end_time": "2020-06-13T14:20:23.031093Z",
     "start_time": "2020-06-13T14:20:23.019081Z"
    }
   },
   "outputs": [
    {
     "data": {
      "text/plain": [
       "0"
      ]
     },
     "execution_count": 166,
     "metadata": {},
     "output_type": "execute_result"
    }
   ],
   "source": [
    "# check if any irregular text\n",
    "len(ireg_ch)"
   ]
  },
  {
   "cell_type": "code",
   "execution_count": 167,
   "metadata": {
    "ExecuteTime": {
     "end_time": "2020-06-13T14:20:23.051032Z",
     "start_time": "2020-06-13T14:20:23.035203Z"
    }
   },
   "outputs": [
    {
     "data": {
      "text/html": [
       "<div>\n",
       "<style scoped>\n",
       "    .dataframe tbody tr th:only-of-type {\n",
       "        vertical-align: middle;\n",
       "    }\n",
       "\n",
       "    .dataframe tbody tr th {\n",
       "        vertical-align: top;\n",
       "    }\n",
       "\n",
       "    .dataframe thead th {\n",
       "        text-align: right;\n",
       "    }\n",
       "</style>\n",
       "<table border=\"1\" class=\"dataframe\">\n",
       "  <thead>\n",
       "    <tr style=\"text-align: right;\">\n",
       "      <th></th>\n",
       "      <th>number</th>\n",
       "      <th>title</th>\n",
       "      <th>text</th>\n",
       "    </tr>\n",
       "  </thead>\n",
       "  <tbody>\n",
       "    <tr>\n",
       "      <th>0</th>\n",
       "      <td>1</td>\n",
       "      <td>Wednesday Afternoon Picnic</td>\n",
       "      <td>IT WAS A  short one-paragraph item in the morn...</td>\n",
       "    </tr>\n",
       "    <tr>\n",
       "      <th>1</th>\n",
       "      <td>2</td>\n",
       "      <td>Sixteen Steps</td>\n",
       "      <td>I WAITED FOR  the compressed-air hiss of the e...</td>\n",
       "    </tr>\n",
       "    <tr>\n",
       "      <th>2</th>\n",
       "      <td>3</td>\n",
       "      <td>The Slip</td>\n",
       "      <td>ONCE SHE WAS  gone, I downed another cola, the...</td>\n",
       "    </tr>\n",
       "    <tr>\n",
       "      <th>3</th>\n",
       "      <td>4</td>\n",
       "      <td>The Whale’s Penis and the Woman with Three Occ...</td>\n",
       "      <td>TO SLEEP WITH  a woman: it can seem of the utm...</td>\n",
       "    </tr>\n",
       "    <tr>\n",
       "      <th>4</th>\n",
       "      <td>5</td>\n",
       "      <td>Unblocked Ears</td>\n",
       "      <td>“ SEE WHAT I  mean?”  she said. \\n She’d becom...</td>\n",
       "    </tr>\n",
       "  </tbody>\n",
       "</table>\n",
       "</div>"
      ],
      "text/plain": [
       "  number                                              title  \\\n",
       "0      1                         Wednesday Afternoon Picnic   \n",
       "1      2                                      Sixteen Steps   \n",
       "2      3                                           The Slip   \n",
       "3      4  The Whale’s Penis and the Woman with Three Occ...   \n",
       "4      5                                     Unblocked Ears   \n",
       "\n",
       "                                                text  \n",
       "0  IT WAS A  short one-paragraph item in the morn...  \n",
       "1  I WAITED FOR  the compressed-air hiss of the e...  \n",
       "2  ONCE SHE WAS  gone, I downed another cola, the...  \n",
       "3  TO SLEEP WITH  a woman: it can seem of the utm...  \n",
       "4  “ SEE WHAT I  mean?”  she said. \\n She’d becom...  "
      ]
     },
     "execution_count": 167,
     "metadata": {},
     "output_type": "execute_result"
    }
   ],
   "source": [
    "# create dataframe of chapters\n",
    "chapters = pd.DataFrame({'number': ch_nos, 'title': ch_titles, 'text': ch_texts})\n",
    "chapters.head()"
   ]
  },
  {
   "cell_type": "markdown",
   "metadata": {},
   "source": [
    "### Generate 1000 character chunks of text"
   ]
  },
  {
   "cell_type": "code",
   "execution_count": 168,
   "metadata": {
    "ExecuteTime": {
     "end_time": "2020-06-13T14:20:23.063941Z",
     "start_time": "2020-06-13T14:20:23.056752Z"
    }
   },
   "outputs": [],
   "source": [
    "# function to find indices of full stops in a text\n",
    "def fs_indexer(x):\n",
    "    return [i for i, char in enumerate(x) if char == \".\"]"
   ]
  },
  {
   "cell_type": "code",
   "execution_count": 169,
   "metadata": {
    "ExecuteTime": {
     "end_time": "2020-06-13T14:20:23.119115Z",
     "start_time": "2020-06-13T14:20:23.067595Z"
    }
   },
   "outputs": [],
   "source": [
    "chapters['fstop_indices'] = chapters['text'].apply(lambda x: fs_indexer(x))"
   ]
  },
  {
   "cell_type": "code",
   "execution_count": 170,
   "metadata": {
    "ExecuteTime": {
     "end_time": "2020-06-13T14:20:23.145399Z",
     "start_time": "2020-06-13T14:20:23.122249Z"
    }
   },
   "outputs": [
    {
     "data": {
      "text/html": [
       "<div>\n",
       "<style scoped>\n",
       "    .dataframe tbody tr th:only-of-type {\n",
       "        vertical-align: middle;\n",
       "    }\n",
       "\n",
       "    .dataframe tbody tr th {\n",
       "        vertical-align: top;\n",
       "    }\n",
       "\n",
       "    .dataframe thead th {\n",
       "        text-align: right;\n",
       "    }\n",
       "</style>\n",
       "<table border=\"1\" class=\"dataframe\">\n",
       "  <thead>\n",
       "    <tr style=\"text-align: right;\">\n",
       "      <th></th>\n",
       "      <th>number</th>\n",
       "      <th>title</th>\n",
       "      <th>text</th>\n",
       "      <th>fstop_indices</th>\n",
       "    </tr>\n",
       "  </thead>\n",
       "  <tbody>\n",
       "    <tr>\n",
       "      <th>0</th>\n",
       "      <td>1</td>\n",
       "      <td>Wednesday Afternoon Picnic</td>\n",
       "      <td>IT WAS A  short one-paragraph item in the morn...</td>\n",
       "      <td>[57, 97, 115, 196, 318, 385, 420, 445, 504, 65...</td>\n",
       "    </tr>\n",
       "    <tr>\n",
       "      <th>1</th>\n",
       "      <td>2</td>\n",
       "      <td>Sixteen Steps</td>\n",
       "      <td>I WAITED FOR  the compressed-air hiss of the e...</td>\n",
       "      <td>[101, 215, 252, 271, 338, 413, 468, 625, 706, ...</td>\n",
       "    </tr>\n",
       "    <tr>\n",
       "      <th>2</th>\n",
       "      <td>3</td>\n",
       "      <td>The Slip</td>\n",
       "      <td>ONCE SHE WAS  gone, I downed another cola, the...</td>\n",
       "      <td>[76, 157, 246, 302, 371, 507, 543, 627, 699, 8...</td>\n",
       "    </tr>\n",
       "    <tr>\n",
       "      <th>3</th>\n",
       "      <td>4</td>\n",
       "      <td>The Whale’s Penis and the Woman with Three Occ...</td>\n",
       "      <td>TO SLEEP WITH  a woman: it can seem of the utm...</td>\n",
       "      <td>[125, 229, 420, 514, 598, 686, 788, 874, 937, ...</td>\n",
       "    </tr>\n",
       "    <tr>\n",
       "      <th>4</th>\n",
       "      <td>5</td>\n",
       "      <td>Unblocked Ears</td>\n",
       "      <td>“ SEE WHAT I  mean?”  she said. \\n She’d becom...</td>\n",
       "      <td>[30, 84, 129, 178, 243, 314, 382, 481, 541, 56...</td>\n",
       "    </tr>\n",
       "  </tbody>\n",
       "</table>\n",
       "</div>"
      ],
      "text/plain": [
       "  number                                              title  \\\n",
       "0      1                         Wednesday Afternoon Picnic   \n",
       "1      2                                      Sixteen Steps   \n",
       "2      3                                           The Slip   \n",
       "3      4  The Whale’s Penis and the Woman with Three Occ...   \n",
       "4      5                                     Unblocked Ears   \n",
       "\n",
       "                                                text  \\\n",
       "0  IT WAS A  short one-paragraph item in the morn...   \n",
       "1  I WAITED FOR  the compressed-air hiss of the e...   \n",
       "2  ONCE SHE WAS  gone, I downed another cola, the...   \n",
       "3  TO SLEEP WITH  a woman: it can seem of the utm...   \n",
       "4  “ SEE WHAT I  mean?”  she said. \\n She’d becom...   \n",
       "\n",
       "                                       fstop_indices  \n",
       "0  [57, 97, 115, 196, 318, 385, 420, 445, 504, 65...  \n",
       "1  [101, 215, 252, 271, 338, 413, 468, 625, 706, ...  \n",
       "2  [76, 157, 246, 302, 371, 507, 543, 627, 699, 8...  \n",
       "3  [125, 229, 420, 514, 598, 686, 788, 874, 937, ...  \n",
       "4  [30, 84, 129, 178, 243, 314, 382, 481, 541, 56...  "
      ]
     },
     "execution_count": 170,
     "metadata": {},
     "output_type": "execute_result"
    }
   ],
   "source": [
    "chapters.head()"
   ]
  },
  {
   "cell_type": "code",
   "execution_count": 171,
   "metadata": {
    "ExecuteTime": {
     "end_time": "2020-06-13T14:20:23.154678Z",
     "start_time": "2020-06-13T14:20:23.149059Z"
    }
   },
   "outputs": [],
   "source": [
    "# function to find indices of full stops in a text\n",
    "def split_indexer(text, n=1000):\n",
    "    fstop_indices = fs_indexer(text)\n",
    "    split_indices = []\n",
    "    try:\n",
    "        for j in range(n, len(text), n):\n",
    "            i = 0\n",
    "    # keep going through the indices while less than the 1000 step\n",
    "            while fstop_indices[i] < j:\n",
    "                i += 1\n",
    "    # append list with the index of the full stop before the 1000 step\n",
    "            split_indices.append(fstop_indices[i-1])\n",
    "    except:\n",
    "        split_indices = np.NaN\n",
    "    return split_indices"
   ]
  },
  {
   "cell_type": "code",
   "execution_count": 172,
   "metadata": {
    "ExecuteTime": {
     "end_time": "2020-06-13T14:20:23.214971Z",
     "start_time": "2020-06-13T14:20:23.161583Z"
    }
   },
   "outputs": [],
   "source": [
    "chapters['split_indices'] = chapters['text'].apply(lambda x: split_indexer(x))"
   ]
  },
  {
   "cell_type": "code",
   "execution_count": 173,
   "metadata": {
    "ExecuteTime": {
     "end_time": "2020-06-13T14:20:23.249682Z",
     "start_time": "2020-06-13T14:20:23.223809Z"
    }
   },
   "outputs": [
    {
     "data": {
      "text/html": [
       "<div>\n",
       "<style scoped>\n",
       "    .dataframe tbody tr th:only-of-type {\n",
       "        vertical-align: middle;\n",
       "    }\n",
       "\n",
       "    .dataframe tbody tr th {\n",
       "        vertical-align: top;\n",
       "    }\n",
       "\n",
       "    .dataframe thead th {\n",
       "        text-align: right;\n",
       "    }\n",
       "</style>\n",
       "<table border=\"1\" class=\"dataframe\">\n",
       "  <thead>\n",
       "    <tr style=\"text-align: right;\">\n",
       "      <th></th>\n",
       "      <th>number</th>\n",
       "      <th>title</th>\n",
       "      <th>text</th>\n",
       "      <th>fstop_indices</th>\n",
       "      <th>split_indices</th>\n",
       "    </tr>\n",
       "  </thead>\n",
       "  <tbody>\n",
       "    <tr>\n",
       "      <th>0</th>\n",
       "      <td>1</td>\n",
       "      <td>Wednesday Afternoon Picnic</td>\n",
       "      <td>IT WAS A  short one-paragraph item in the morn...</td>\n",
       "      <td>[57, 97, 115, 196, 318, 385, 420, 445, 504, 65...</td>\n",
       "      <td>[967, 1924, 2998, 3982, 4935, 5975, 6995, 7961...</td>\n",
       "    </tr>\n",
       "    <tr>\n",
       "      <th>1</th>\n",
       "      <td>2</td>\n",
       "      <td>Sixteen Steps</td>\n",
       "      <td>I WAITED FOR  the compressed-air hiss of the e...</td>\n",
       "      <td>[101, 215, 252, 271, 338, 413, 468, 625, 706, ...</td>\n",
       "      <td>[965, 1976, 2982, 3963, 4966, 5989, 6994, 7905...</td>\n",
       "    </tr>\n",
       "    <tr>\n",
       "      <th>2</th>\n",
       "      <td>3</td>\n",
       "      <td>The Slip</td>\n",
       "      <td>ONCE SHE WAS  gone, I downed another cola, the...</td>\n",
       "      <td>[76, 157, 246, 302, 371, 507, 543, 627, 699, 8...</td>\n",
       "      <td>[952, 1904, 2975, 3996, 4929]</td>\n",
       "    </tr>\n",
       "    <tr>\n",
       "      <th>3</th>\n",
       "      <td>4</td>\n",
       "      <td>The Whale’s Penis and the Woman with Three Occ...</td>\n",
       "      <td>TO SLEEP WITH  a woman: it can seem of the utm...</td>\n",
       "      <td>[125, 229, 420, 514, 598, 686, 788, 874, 937, ...</td>\n",
       "      <td>[937, 1988, 2967, 3981, 4994, 5949, 6936, 7995...</td>\n",
       "    </tr>\n",
       "    <tr>\n",
       "      <th>4</th>\n",
       "      <td>5</td>\n",
       "      <td>Unblocked Ears</td>\n",
       "      <td>“ SEE WHAT I  mean?”  she said. \\n She’d becom...</td>\n",
       "      <td>[30, 84, 129, 178, 243, 314, 382, 481, 541, 56...</td>\n",
       "      <td>[965]</td>\n",
       "    </tr>\n",
       "  </tbody>\n",
       "</table>\n",
       "</div>"
      ],
      "text/plain": [
       "  number                                              title  \\\n",
       "0      1                         Wednesday Afternoon Picnic   \n",
       "1      2                                      Sixteen Steps   \n",
       "2      3                                           The Slip   \n",
       "3      4  The Whale’s Penis and the Woman with Three Occ...   \n",
       "4      5                                     Unblocked Ears   \n",
       "\n",
       "                                                text  \\\n",
       "0  IT WAS A  short one-paragraph item in the morn...   \n",
       "1  I WAITED FOR  the compressed-air hiss of the e...   \n",
       "2  ONCE SHE WAS  gone, I downed another cola, the...   \n",
       "3  TO SLEEP WITH  a woman: it can seem of the utm...   \n",
       "4  “ SEE WHAT I  mean?”  she said. \\n She’d becom...   \n",
       "\n",
       "                                       fstop_indices  \\\n",
       "0  [57, 97, 115, 196, 318, 385, 420, 445, 504, 65...   \n",
       "1  [101, 215, 252, 271, 338, 413, 468, 625, 706, ...   \n",
       "2  [76, 157, 246, 302, 371, 507, 543, 627, 699, 8...   \n",
       "3  [125, 229, 420, 514, 598, 686, 788, 874, 937, ...   \n",
       "4  [30, 84, 129, 178, 243, 314, 382, 481, 541, 56...   \n",
       "\n",
       "                                       split_indices  \n",
       "0  [967, 1924, 2998, 3982, 4935, 5975, 6995, 7961...  \n",
       "1  [965, 1976, 2982, 3963, 4966, 5989, 6994, 7905...  \n",
       "2                      [952, 1904, 2975, 3996, 4929]  \n",
       "3  [937, 1988, 2967, 3981, 4994, 5949, 6936, 7995...  \n",
       "4                                              [965]  "
      ]
     },
     "execution_count": 173,
     "metadata": {},
     "output_type": "execute_result"
    }
   ],
   "source": [
    "chapters.head()"
   ]
  },
  {
   "cell_type": "code",
   "execution_count": 174,
   "metadata": {
    "ExecuteTime": {
     "end_time": "2020-06-13T14:20:23.263814Z",
     "start_time": "2020-06-13T14:20:23.256326Z"
    }
   },
   "outputs": [],
   "source": [
    "# function to chunk a text\n",
    "def text_chunker(text):\n",
    "    split_indices = split_indexer(text)\n",
    "    chunks = []\n",
    "    for i, idx in enumerate(split_indices):\n",
    "# if first split then start at index 0 and keep up to the full stop index (including the full stop)\n",
    "        if i == 0:\n",
    "            chunks.append(text[0:idx+1])\n",
    "# else start from the end of the previous chunk after the full stop until the next\n",
    "        else:\n",
    "            chunks.append(text[split_indices[i-1]+2:idx+1])\n",
    "    return chunks"
   ]
  },
  {
   "cell_type": "code",
   "execution_count": 175,
   "metadata": {
    "ExecuteTime": {
     "end_time": "2020-06-13T14:20:23.322326Z",
     "start_time": "2020-06-13T14:20:23.267616Z"
    }
   },
   "outputs": [],
   "source": [
    "chapters['chunks'] = chapters['text'].apply(lambda x: text_chunker(x))"
   ]
  },
  {
   "cell_type": "code",
   "execution_count": 176,
   "metadata": {
    "ExecuteTime": {
     "end_time": "2020-06-13T14:20:23.357579Z",
     "start_time": "2020-06-13T14:20:23.325184Z"
    }
   },
   "outputs": [
    {
     "data": {
      "text/html": [
       "<div>\n",
       "<style scoped>\n",
       "    .dataframe tbody tr th:only-of-type {\n",
       "        vertical-align: middle;\n",
       "    }\n",
       "\n",
       "    .dataframe tbody tr th {\n",
       "        vertical-align: top;\n",
       "    }\n",
       "\n",
       "    .dataframe thead th {\n",
       "        text-align: right;\n",
       "    }\n",
       "</style>\n",
       "<table border=\"1\" class=\"dataframe\">\n",
       "  <thead>\n",
       "    <tr style=\"text-align: right;\">\n",
       "      <th></th>\n",
       "      <th>number</th>\n",
       "      <th>title</th>\n",
       "      <th>text</th>\n",
       "      <th>fstop_indices</th>\n",
       "      <th>split_indices</th>\n",
       "      <th>chunks</th>\n",
       "    </tr>\n",
       "  </thead>\n",
       "  <tbody>\n",
       "    <tr>\n",
       "      <th>0</th>\n",
       "      <td>1</td>\n",
       "      <td>Wednesday Afternoon Picnic</td>\n",
       "      <td>IT WAS A  short one-paragraph item in the morn...</td>\n",
       "      <td>[57, 97, 115, 196, 318, 385, 420, 445, 504, 65...</td>\n",
       "      <td>[967, 1924, 2998, 3982, 4935, 5975, 6995, 7961...</td>\n",
       "      <td>[IT WAS A  short one-paragraph item in the mor...</td>\n",
       "    </tr>\n",
       "    <tr>\n",
       "      <th>1</th>\n",
       "      <td>2</td>\n",
       "      <td>Sixteen Steps</td>\n",
       "      <td>I WAITED FOR  the compressed-air hiss of the e...</td>\n",
       "      <td>[101, 215, 252, 271, 338, 413, 468, 625, 706, ...</td>\n",
       "      <td>[965, 1976, 2982, 3963, 4966, 5989, 6994, 7905...</td>\n",
       "      <td>[I WAITED FOR  the compressed-air hiss of the ...</td>\n",
       "    </tr>\n",
       "    <tr>\n",
       "      <th>2</th>\n",
       "      <td>3</td>\n",
       "      <td>The Slip</td>\n",
       "      <td>ONCE SHE WAS  gone, I downed another cola, the...</td>\n",
       "      <td>[76, 157, 246, 302, 371, 507, 543, 627, 699, 8...</td>\n",
       "      <td>[952, 1904, 2975, 3996, 4929]</td>\n",
       "      <td>[ONCE SHE WAS  gone, I downed another cola, th...</td>\n",
       "    </tr>\n",
       "    <tr>\n",
       "      <th>3</th>\n",
       "      <td>4</td>\n",
       "      <td>The Whale’s Penis and the Woman with Three Occ...</td>\n",
       "      <td>TO SLEEP WITH  a woman: it can seem of the utm...</td>\n",
       "      <td>[125, 229, 420, 514, 598, 686, 788, 874, 937, ...</td>\n",
       "      <td>[937, 1988, 2967, 3981, 4994, 5949, 6936, 7995...</td>\n",
       "      <td>[TO SLEEP WITH  a woman: it can seem of the ut...</td>\n",
       "    </tr>\n",
       "    <tr>\n",
       "      <th>4</th>\n",
       "      <td>5</td>\n",
       "      <td>Unblocked Ears</td>\n",
       "      <td>“ SEE WHAT I  mean?”  she said. \\n She’d becom...</td>\n",
       "      <td>[30, 84, 129, 178, 243, 314, 382, 481, 541, 56...</td>\n",
       "      <td>[965]</td>\n",
       "      <td>[“ SEE WHAT I  mean?”  she said. \\n She’d beco...</td>\n",
       "    </tr>\n",
       "  </tbody>\n",
       "</table>\n",
       "</div>"
      ],
      "text/plain": [
       "  number                                              title  \\\n",
       "0      1                         Wednesday Afternoon Picnic   \n",
       "1      2                                      Sixteen Steps   \n",
       "2      3                                           The Slip   \n",
       "3      4  The Whale’s Penis and the Woman with Three Occ...   \n",
       "4      5                                     Unblocked Ears   \n",
       "\n",
       "                                                text  \\\n",
       "0  IT WAS A  short one-paragraph item in the morn...   \n",
       "1  I WAITED FOR  the compressed-air hiss of the e...   \n",
       "2  ONCE SHE WAS  gone, I downed another cola, the...   \n",
       "3  TO SLEEP WITH  a woman: it can seem of the utm...   \n",
       "4  “ SEE WHAT I  mean?”  she said. \\n She’d becom...   \n",
       "\n",
       "                                       fstop_indices  \\\n",
       "0  [57, 97, 115, 196, 318, 385, 420, 445, 504, 65...   \n",
       "1  [101, 215, 252, 271, 338, 413, 468, 625, 706, ...   \n",
       "2  [76, 157, 246, 302, 371, 507, 543, 627, 699, 8...   \n",
       "3  [125, 229, 420, 514, 598, 686, 788, 874, 937, ...   \n",
       "4  [30, 84, 129, 178, 243, 314, 382, 481, 541, 56...   \n",
       "\n",
       "                                       split_indices  \\\n",
       "0  [967, 1924, 2998, 3982, 4935, 5975, 6995, 7961...   \n",
       "1  [965, 1976, 2982, 3963, 4966, 5989, 6994, 7905...   \n",
       "2                      [952, 1904, 2975, 3996, 4929]   \n",
       "3  [937, 1988, 2967, 3981, 4994, 5949, 6936, 7995...   \n",
       "4                                              [965]   \n",
       "\n",
       "                                              chunks  \n",
       "0  [IT WAS A  short one-paragraph item in the mor...  \n",
       "1  [I WAITED FOR  the compressed-air hiss of the ...  \n",
       "2  [ONCE SHE WAS  gone, I downed another cola, th...  \n",
       "3  [TO SLEEP WITH  a woman: it can seem of the ut...  \n",
       "4  [“ SEE WHAT I  mean?”  she said. \\n She’d beco...  "
      ]
     },
     "execution_count": 176,
     "metadata": {},
     "output_type": "execute_result"
    }
   ],
   "source": [
    "chapters.head()"
   ]
  },
  {
   "cell_type": "code",
   "execution_count": 177,
   "metadata": {
    "ExecuteTime": {
     "end_time": "2020-06-13T14:20:23.717619Z",
     "start_time": "2020-06-13T14:20:23.360617Z"
    }
   },
   "outputs": [
    {
     "data": {
      "image/png": "[encoded data removed]",
      "text/plain": [
       "<Figure size 432x288 with 1 Axes>"
      ]
     },
     "metadata": {
      "image/png": {
       "height": 256,
       "width": 377
      }
     },
     "output_type": "display_data"
    }
   ],
   "source": [
    "lengths = []\n",
    "for chapter in chapters['chunks']:\n",
    "    for chunk in chapter:\n",
    "        lengths.append(len(chunk))\n",
    "plt.hist(lengths, bins=20);"
   ]
  },
  {
   "cell_type": "code",
   "execution_count": 178,
   "metadata": {
    "ExecuteTime": {
     "end_time": "2020-06-13T14:20:23.733520Z",
     "start_time": "2020-06-13T14:20:23.721405Z"
    }
   },
   "outputs": [
    {
     "data": {
      "text/plain": [
       "471"
      ]
     },
     "execution_count": 178,
     "metadata": {},
     "output_type": "execute_result"
    }
   ],
   "source": [
    "len(lengths)"
   ]
  },
  {
   "cell_type": "code",
   "execution_count": 179,
   "metadata": {
    "ExecuteTime": {
     "end_time": "2020-06-13T14:20:23.743155Z",
     "start_time": "2020-06-13T14:20:23.736690Z"
    }
   },
   "outputs": [],
   "source": [
    "chapters['translator'] = 'Alfred Birnbaum'"
   ]
  },
  {
   "cell_type": "code",
   "execution_count": 180,
   "metadata": {
    "ExecuteTime": {
     "end_time": "2020-06-13T14:20:23.766347Z",
     "start_time": "2020-06-13T14:20:23.751538Z"
    }
   },
   "outputs": [],
   "source": [
    "chapters['book_title'] = 'A Wild Sheep Chase'"
   ]
  },
  {
   "cell_type": "code",
   "execution_count": 181,
   "metadata": {
    "ExecuteTime": {
     "end_time": "2020-06-13T14:20:23.819183Z",
     "start_time": "2020-06-13T14:20:23.774794Z"
    }
   },
   "outputs": [
    {
     "data": {
      "text/html": [
       "<div>\n",
       "<style scoped>\n",
       "    .dataframe tbody tr th:only-of-type {\n",
       "        vertical-align: middle;\n",
       "    }\n",
       "\n",
       "    .dataframe tbody tr th {\n",
       "        vertical-align: top;\n",
       "    }\n",
       "\n",
       "    .dataframe thead th {\n",
       "        text-align: right;\n",
       "    }\n",
       "</style>\n",
       "<table border=\"1\" class=\"dataframe\">\n",
       "  <thead>\n",
       "    <tr style=\"text-align: right;\">\n",
       "      <th></th>\n",
       "      <th>number</th>\n",
       "      <th>title</th>\n",
       "      <th>text</th>\n",
       "      <th>fstop_indices</th>\n",
       "      <th>split_indices</th>\n",
       "      <th>chunks</th>\n",
       "      <th>translator</th>\n",
       "      <th>book_title</th>\n",
       "    </tr>\n",
       "  </thead>\n",
       "  <tbody>\n",
       "    <tr>\n",
       "      <th>0</th>\n",
       "      <td>1</td>\n",
       "      <td>Wednesday Afternoon Picnic</td>\n",
       "      <td>IT WAS A  short one-paragraph item in the morn...</td>\n",
       "      <td>[57, 97, 115, 196, 318, 385, 420, 445, 504, 65...</td>\n",
       "      <td>[967, 1924, 2998, 3982, 4935, 5975, 6995, 7961...</td>\n",
       "      <td>[IT WAS A  short one-paragraph item in the mor...</td>\n",
       "      <td>Alfred Birnbaum</td>\n",
       "      <td>A Wild Sheep Chase</td>\n",
       "    </tr>\n",
       "    <tr>\n",
       "      <th>1</th>\n",
       "      <td>2</td>\n",
       "      <td>Sixteen Steps</td>\n",
       "      <td>I WAITED FOR  the compressed-air hiss of the e...</td>\n",
       "      <td>[101, 215, 252, 271, 338, 413, 468, 625, 706, ...</td>\n",
       "      <td>[965, 1976, 2982, 3963, 4966, 5989, 6994, 7905...</td>\n",
       "      <td>[I WAITED FOR  the compressed-air hiss of the ...</td>\n",
       "      <td>Alfred Birnbaum</td>\n",
       "      <td>A Wild Sheep Chase</td>\n",
       "    </tr>\n",
       "    <tr>\n",
       "      <th>2</th>\n",
       "      <td>3</td>\n",
       "      <td>The Slip</td>\n",
       "      <td>ONCE SHE WAS  gone, I downed another cola, the...</td>\n",
       "      <td>[76, 157, 246, 302, 371, 507, 543, 627, 699, 8...</td>\n",
       "      <td>[952, 1904, 2975, 3996, 4929]</td>\n",
       "      <td>[ONCE SHE WAS  gone, I downed another cola, th...</td>\n",
       "      <td>Alfred Birnbaum</td>\n",
       "      <td>A Wild Sheep Chase</td>\n",
       "    </tr>\n",
       "    <tr>\n",
       "      <th>3</th>\n",
       "      <td>4</td>\n",
       "      <td>The Whale’s Penis and the Woman with Three Occ...</td>\n",
       "      <td>TO SLEEP WITH  a woman: it can seem of the utm...</td>\n",
       "      <td>[125, 229, 420, 514, 598, 686, 788, 874, 937, ...</td>\n",
       "      <td>[937, 1988, 2967, 3981, 4994, 5949, 6936, 7995...</td>\n",
       "      <td>[TO SLEEP WITH  a woman: it can seem of the ut...</td>\n",
       "      <td>Alfred Birnbaum</td>\n",
       "      <td>A Wild Sheep Chase</td>\n",
       "    </tr>\n",
       "    <tr>\n",
       "      <th>4</th>\n",
       "      <td>5</td>\n",
       "      <td>Unblocked Ears</td>\n",
       "      <td>“ SEE WHAT I  mean?”  she said. \\n She’d becom...</td>\n",
       "      <td>[30, 84, 129, 178, 243, 314, 382, 481, 541, 56...</td>\n",
       "      <td>[965]</td>\n",
       "      <td>[“ SEE WHAT I  mean?”  she said. \\n She’d beco...</td>\n",
       "      <td>Alfred Birnbaum</td>\n",
       "      <td>A Wild Sheep Chase</td>\n",
       "    </tr>\n",
       "  </tbody>\n",
       "</table>\n",
       "</div>"
      ],
      "text/plain": [
       "  number                                              title  \\\n",
       "0      1                         Wednesday Afternoon Picnic   \n",
       "1      2                                      Sixteen Steps   \n",
       "2      3                                           The Slip   \n",
       "3      4  The Whale’s Penis and the Woman with Three Occ...   \n",
       "4      5                                     Unblocked Ears   \n",
       "\n",
       "                                                text  \\\n",
       "0  IT WAS A  short one-paragraph item in the morn...   \n",
       "1  I WAITED FOR  the compressed-air hiss of the e...   \n",
       "2  ONCE SHE WAS  gone, I downed another cola, the...   \n",
       "3  TO SLEEP WITH  a woman: it can seem of the utm...   \n",
       "4  “ SEE WHAT I  mean?”  she said. \\n She’d becom...   \n",
       "\n",
       "                                       fstop_indices  \\\n",
       "0  [57, 97, 115, 196, 318, 385, 420, 445, 504, 65...   \n",
       "1  [101, 215, 252, 271, 338, 413, 468, 625, 706, ...   \n",
       "2  [76, 157, 246, 302, 371, 507, 543, 627, 699, 8...   \n",
       "3  [125, 229, 420, 514, 598, 686, 788, 874, 937, ...   \n",
       "4  [30, 84, 129, 178, 243, 314, 382, 481, 541, 56...   \n",
       "\n",
       "                                       split_indices  \\\n",
       "0  [967, 1924, 2998, 3982, 4935, 5975, 6995, 7961...   \n",
       "1  [965, 1976, 2982, 3963, 4966, 5989, 6994, 7905...   \n",
       "2                      [952, 1904, 2975, 3996, 4929]   \n",
       "3  [937, 1988, 2967, 3981, 4994, 5949, 6936, 7995...   \n",
       "4                                              [965]   \n",
       "\n",
       "                                              chunks       translator  \\\n",
       "0  [IT WAS A  short one-paragraph item in the mor...  Alfred Birnbaum   \n",
       "1  [I WAITED FOR  the compressed-air hiss of the ...  Alfred Birnbaum   \n",
       "2  [ONCE SHE WAS  gone, I downed another cola, th...  Alfred Birnbaum   \n",
       "3  [TO SLEEP WITH  a woman: it can seem of the ut...  Alfred Birnbaum   \n",
       "4  [“ SEE WHAT I  mean?”  she said. \\n She’d beco...  Alfred Birnbaum   \n",
       "\n",
       "           book_title  \n",
       "0  A Wild Sheep Chase  \n",
       "1  A Wild Sheep Chase  \n",
       "2  A Wild Sheep Chase  \n",
       "3  A Wild Sheep Chase  \n",
       "4  A Wild Sheep Chase  "
      ]
     },
     "execution_count": 181,
     "metadata": {},
     "output_type": "execute_result"
    }
   ],
   "source": [
    "chapters.head()"
   ]
  },
  {
   "cell_type": "code",
   "execution_count": 182,
   "metadata": {
    "ExecuteTime": {
     "end_time": "2020-06-13T14:20:23.835639Z",
     "start_time": "2020-06-13T14:20:23.824459Z"
    }
   },
   "outputs": [],
   "source": [
    "out_path = '../../../../Documents/murakami/pkl2/'\n",
    "out_name = 'wsc_birnbaum_v01'\n",
    "out_full_path = out_path + out_name + '.pkl'"
   ]
  },
  {
   "cell_type": "code",
   "execution_count": 183,
   "metadata": {
    "ExecuteTime": {
     "end_time": "2020-06-13T14:20:23.866570Z",
     "start_time": "2020-06-13T14:20:23.839409Z"
    }
   },
   "outputs": [],
   "source": [
    "# save pickle\n",
    "with open(out_full_path, 'wb') as fp:\n",
    "    pickle.dump(chapters, fp)\n",
    "\n",
    "\n",
    "# read back pickle\n",
    "with open (out_full_path, 'rb') as fp:\n",
    "    read_wsc = pickle.load(fp)"
   ]
  },
  {
   "cell_type": "code",
   "execution_count": 184,
   "metadata": {
    "ExecuteTime": {
     "end_time": "2020-06-13T14:20:23.912310Z",
     "start_time": "2020-06-13T14:20:23.869146Z"
    }
   },
   "outputs": [
    {
     "data": {
      "text/html": [
       "<div>\n",
       "<style scoped>\n",
       "    .dataframe tbody tr th:only-of-type {\n",
       "        vertical-align: middle;\n",
       "    }\n",
       "\n",
       "    .dataframe tbody tr th {\n",
       "        vertical-align: top;\n",
       "    }\n",
       "\n",
       "    .dataframe thead th {\n",
       "        text-align: right;\n",
       "    }\n",
       "</style>\n",
       "<table border=\"1\" class=\"dataframe\">\n",
       "  <thead>\n",
       "    <tr style=\"text-align: right;\">\n",
       "      <th></th>\n",
       "      <th>number</th>\n",
       "      <th>title</th>\n",
       "      <th>text</th>\n",
       "      <th>fstop_indices</th>\n",
       "      <th>split_indices</th>\n",
       "      <th>chunks</th>\n",
       "      <th>translator</th>\n",
       "      <th>book_title</th>\n",
       "    </tr>\n",
       "  </thead>\n",
       "  <tbody>\n",
       "    <tr>\n",
       "      <th>0</th>\n",
       "      <td>1</td>\n",
       "      <td>Wednesday Afternoon Picnic</td>\n",
       "      <td>IT WAS A  short one-paragraph item in the morn...</td>\n",
       "      <td>[57, 97, 115, 196, 318, 385, 420, 445, 504, 65...</td>\n",
       "      <td>[967, 1924, 2998, 3982, 4935, 5975, 6995, 7961...</td>\n",
       "      <td>[IT WAS A  short one-paragraph item in the mor...</td>\n",
       "      <td>Alfred Birnbaum</td>\n",
       "      <td>A Wild Sheep Chase</td>\n",
       "    </tr>\n",
       "    <tr>\n",
       "      <th>1</th>\n",
       "      <td>2</td>\n",
       "      <td>Sixteen Steps</td>\n",
       "      <td>I WAITED FOR  the compressed-air hiss of the e...</td>\n",
       "      <td>[101, 215, 252, 271, 338, 413, 468, 625, 706, ...</td>\n",
       "      <td>[965, 1976, 2982, 3963, 4966, 5989, 6994, 7905...</td>\n",
       "      <td>[I WAITED FOR  the compressed-air hiss of the ...</td>\n",
       "      <td>Alfred Birnbaum</td>\n",
       "      <td>A Wild Sheep Chase</td>\n",
       "    </tr>\n",
       "    <tr>\n",
       "      <th>2</th>\n",
       "      <td>3</td>\n",
       "      <td>The Slip</td>\n",
       "      <td>ONCE SHE WAS  gone, I downed another cola, the...</td>\n",
       "      <td>[76, 157, 246, 302, 371, 507, 543, 627, 699, 8...</td>\n",
       "      <td>[952, 1904, 2975, 3996, 4929]</td>\n",
       "      <td>[ONCE SHE WAS  gone, I downed another cola, th...</td>\n",
       "      <td>Alfred Birnbaum</td>\n",
       "      <td>A Wild Sheep Chase</td>\n",
       "    </tr>\n",
       "    <tr>\n",
       "      <th>3</th>\n",
       "      <td>4</td>\n",
       "      <td>The Whale’s Penis and the Woman with Three Occ...</td>\n",
       "      <td>TO SLEEP WITH  a woman: it can seem of the utm...</td>\n",
       "      <td>[125, 229, 420, 514, 598, 686, 788, 874, 937, ...</td>\n",
       "      <td>[937, 1988, 2967, 3981, 4994, 5949, 6936, 7995...</td>\n",
       "      <td>[TO SLEEP WITH  a woman: it can seem of the ut...</td>\n",
       "      <td>Alfred Birnbaum</td>\n",
       "      <td>A Wild Sheep Chase</td>\n",
       "    </tr>\n",
       "    <tr>\n",
       "      <th>4</th>\n",
       "      <td>5</td>\n",
       "      <td>Unblocked Ears</td>\n",
       "      <td>“ SEE WHAT I  mean?”  she said. \\n She’d becom...</td>\n",
       "      <td>[30, 84, 129, 178, 243, 314, 382, 481, 541, 56...</td>\n",
       "      <td>[965]</td>\n",
       "      <td>[“ SEE WHAT I  mean?”  she said. \\n She’d beco...</td>\n",
       "      <td>Alfred Birnbaum</td>\n",
       "      <td>A Wild Sheep Chase</td>\n",
       "    </tr>\n",
       "  </tbody>\n",
       "</table>\n",
       "</div>"
      ],
      "text/plain": [
       "  number                                              title  \\\n",
       "0      1                         Wednesday Afternoon Picnic   \n",
       "1      2                                      Sixteen Steps   \n",
       "2      3                                           The Slip   \n",
       "3      4  The Whale’s Penis and the Woman with Three Occ...   \n",
       "4      5                                     Unblocked Ears   \n",
       "\n",
       "                                                text  \\\n",
       "0  IT WAS A  short one-paragraph item in the morn...   \n",
       "1  I WAITED FOR  the compressed-air hiss of the e...   \n",
       "2  ONCE SHE WAS  gone, I downed another cola, the...   \n",
       "3  TO SLEEP WITH  a woman: it can seem of the utm...   \n",
       "4  “ SEE WHAT I  mean?”  she said. \\n She’d becom...   \n",
       "\n",
       "                                       fstop_indices  \\\n",
       "0  [57, 97, 115, 196, 318, 385, 420, 445, 504, 65...   \n",
       "1  [101, 215, 252, 271, 338, 413, 468, 625, 706, ...   \n",
       "2  [76, 157, 246, 302, 371, 507, 543, 627, 699, 8...   \n",
       "3  [125, 229, 420, 514, 598, 686, 788, 874, 937, ...   \n",
       "4  [30, 84, 129, 178, 243, 314, 382, 481, 541, 56...   \n",
       "\n",
       "                                       split_indices  \\\n",
       "0  [967, 1924, 2998, 3982, 4935, 5975, 6995, 7961...   \n",
       "1  [965, 1976, 2982, 3963, 4966, 5989, 6994, 7905...   \n",
       "2                      [952, 1904, 2975, 3996, 4929]   \n",
       "3  [937, 1988, 2967, 3981, 4994, 5949, 6936, 7995...   \n",
       "4                                              [965]   \n",
       "\n",
       "                                              chunks       translator  \\\n",
       "0  [IT WAS A  short one-paragraph item in the mor...  Alfred Birnbaum   \n",
       "1  [I WAITED FOR  the compressed-air hiss of the ...  Alfred Birnbaum   \n",
       "2  [ONCE SHE WAS  gone, I downed another cola, th...  Alfred Birnbaum   \n",
       "3  [TO SLEEP WITH  a woman: it can seem of the ut...  Alfred Birnbaum   \n",
       "4  [“ SEE WHAT I  mean?”  she said. \\n She’d beco...  Alfred Birnbaum   \n",
       "\n",
       "           book_title  \n",
       "0  A Wild Sheep Chase  \n",
       "1  A Wild Sheep Chase  \n",
       "2  A Wild Sheep Chase  \n",
       "3  A Wild Sheep Chase  \n",
       "4  A Wild Sheep Chase  "
      ]
     },
     "execution_count": 184,
     "metadata": {},
     "output_type": "execute_result"
    }
   ],
   "source": [
    "read_wsc.head()"
   ]
  },
  {
   "cell_type": "markdown",
   "metadata": {},
   "source": [
    "### Initial cleaning and preparation of 'Dance Dance Dance' Text"
   ]
  },
  {
   "cell_type": "code",
   "execution_count": 185,
   "metadata": {
    "ExecuteTime": {
     "end_time": "2020-06-13T14:20:23.923653Z",
     "start_time": "2020-06-13T14:20:23.917305Z"
    }
   },
   "outputs": [],
   "source": [
    "ddd = books['full_text'].iloc[7]"
   ]
  },
  {
   "cell_type": "code",
   "execution_count": 186,
   "metadata": {
    "ExecuteTime": {
     "end_time": "2020-06-13T14:20:23.943269Z",
     "start_time": "2020-06-13T14:20:23.935143Z"
    }
   },
   "outputs": [
    {
     "data": {
      "text/plain": [
       "56"
      ]
     },
     "execution_count": 186,
     "metadata": {},
     "output_type": "execute_result"
    }
   ],
   "source": [
    "len(ddd)"
   ]
  },
  {
   "cell_type": "markdown",
   "metadata": {},
   "source": [
    "Selecting text from within list by manula check"
   ]
  },
  {
   "cell_type": "code",
   "execution_count": 187,
   "metadata": {
    "ExecuteTime": {
     "end_time": "2020-06-13T14:20:23.959698Z",
     "start_time": "2020-06-13T14:20:23.951742Z"
    }
   },
   "outputs": [
    {
     "data": {
      "text/plain": [
       "'\\n I OFTEN DREAM  about the Dol'"
      ]
     },
     "execution_count": 187,
     "metadata": {},
     "output_type": "execute_result"
    }
   ],
   "source": [
    "ddd[7][:30]"
   ]
  },
  {
   "cell_type": "code",
   "execution_count": 188,
   "metadata": {
    "ExecuteTime": {
     "end_time": "2020-06-13T14:20:23.987034Z",
     "start_time": "2020-06-13T14:20:23.967306Z"
    }
   },
   "outputs": [
    {
     "data": {
      "text/plain": [
       "'ispered.  “It’s morning.” \\n \\n '"
      ]
     },
     "execution_count": 188,
     "metadata": {},
     "output_type": "execute_result"
    }
   ],
   "source": [
    "ddd[50][-30:]"
   ]
  },
  {
   "cell_type": "code",
   "execution_count": 189,
   "metadata": {
    "ExecuteTime": {
     "end_time": "2020-06-13T14:20:24.002477Z",
     "start_time": "2020-06-13T14:20:23.992896Z"
    }
   },
   "outputs": [],
   "source": [
    "ch_texts = ddd[7:51]"
   ]
  },
  {
   "cell_type": "markdown",
   "metadata": {},
   "source": [
    "* No chapter titles available in the actual text so create them using counters\n",
    "* Run similar splitting on full stops and add columnsa as before"
   ]
  },
  {
   "cell_type": "code",
   "execution_count": 190,
   "metadata": {
    "ExecuteTime": {
     "end_time": "2020-06-13T14:20:24.222397Z",
     "start_time": "2020-06-13T14:20:24.007488Z"
    }
   },
   "outputs": [],
   "source": [
    "ch_nos = range(1,45)\n",
    "ch_titles = range(1,45)\n",
    "chapters = pd.DataFrame({'number': ch_nos, 'title': ch_titles, 'text': ch_texts})\n",
    "chapters['fstop_indices'] = chapters['text'].apply(lambda x: fs_indexer(x))\n",
    "chapters['split_indices'] = chapters['text'].apply(lambda x: split_indexer(x))\n",
    "chapters['chunks'] = chapters['text'].apply(lambda x: text_chunker(x))\n",
    "chapters['translator'] = 'Alfred Birnbaum'\n",
    "chapters['book_title'] = 'Dance Dance Dance'"
   ]
  },
  {
   "cell_type": "code",
   "execution_count": 191,
   "metadata": {
    "ExecuteTime": {
     "end_time": "2020-06-13T14:20:24.282529Z",
     "start_time": "2020-06-13T14:20:24.225234Z"
    }
   },
   "outputs": [
    {
     "data": {
      "text/html": [
       "<div>\n",
       "<style scoped>\n",
       "    .dataframe tbody tr th:only-of-type {\n",
       "        vertical-align: middle;\n",
       "    }\n",
       "\n",
       "    .dataframe tbody tr th {\n",
       "        vertical-align: top;\n",
       "    }\n",
       "\n",
       "    .dataframe thead th {\n",
       "        text-align: right;\n",
       "    }\n",
       "</style>\n",
       "<table border=\"1\" class=\"dataframe\">\n",
       "  <thead>\n",
       "    <tr style=\"text-align: right;\">\n",
       "      <th></th>\n",
       "      <th>number</th>\n",
       "      <th>title</th>\n",
       "      <th>text</th>\n",
       "      <th>fstop_indices</th>\n",
       "      <th>split_indices</th>\n",
       "      <th>chunks</th>\n",
       "      <th>translator</th>\n",
       "      <th>book_title</th>\n",
       "    </tr>\n",
       "  </thead>\n",
       "  <tbody>\n",
       "    <tr>\n",
       "      <th>0</th>\n",
       "      <td>1</td>\n",
       "      <td>1</td>\n",
       "      <td>\\n I OFTEN DREAM  about the Dolphin Hotel. \\n ...</td>\n",
       "      <td>[40, 119, 182, 233, 277, 322, 360, 396, 421, 4...</td>\n",
       "      <td>[881, 1974, 2990, 3882, 4988, 5962, 6982, 7990...</td>\n",
       "      <td>[\\n I OFTEN DREAM  about the Dolphin Hotel. \\n...</td>\n",
       "      <td>Alfred Birnbaum</td>\n",
       "      <td>Dance Dance Dance</td>\n",
       "    </tr>\n",
       "    <tr>\n",
       "      <th>1</th>\n",
       "      <td>2</td>\n",
       "      <td>2</td>\n",
       "      <td>\\n I GOT SENT  to Hokkaido on assignment.  As ...</td>\n",
       "      <td>[39, 121, 208, 314, 519, 605, 660, 736, 781, 8...</td>\n",
       "      <td>[995, 1977, 2983, 3986, 4999, 5949, 6950]</td>\n",
       "      <td>[\\n I GOT SENT  to Hokkaido on assignment.  As...</td>\n",
       "      <td>Alfred Birnbaum</td>\n",
       "      <td>Dance Dance Dance</td>\n",
       "    </tr>\n",
       "    <tr>\n",
       "      <th>2</th>\n",
       "      <td>3</td>\n",
       "      <td>3</td>\n",
       "      <td>\\n IT TAKES NO  great effort to find work in t...</td>\n",
       "      <td>[95, 161, 287, 368, 407, 459, 497, 558, 596, 6...</td>\n",
       "      <td>[945, 1969, 2946, 3985, 4976, 5994, 6958, 7840]</td>\n",
       "      <td>[\\n IT TAKES NO  great effort to find work in ...</td>\n",
       "      <td>Alfred Birnbaum</td>\n",
       "      <td>Dance Dance Dance</td>\n",
       "    </tr>\n",
       "    <tr>\n",
       "      <th>3</th>\n",
       "      <td>4</td>\n",
       "      <td>4</td>\n",
       "      <td>\\n I BOOKED A  taxi for two days, and the phot...</td>\n",
       "      <td>[127, 187, 282, 299, 428, 505, 597, 723, 784, ...</td>\n",
       "      <td>[979, 1960, 2993, 3999, 4943, 5959, 6979, 7964...</td>\n",
       "      <td>[\\n I BOOKED A  taxi for two days, and the pho...</td>\n",
       "      <td>Alfred Birnbaum</td>\n",
       "      <td>Dance Dance Dance</td>\n",
       "    </tr>\n",
       "    <tr>\n",
       "      <th>4</th>\n",
       "      <td>5</td>\n",
       "      <td>5</td>\n",
       "      <td>\\n I COULDN’T STAND  around gawking at the faç...</td>\n",
       "      <td>[56, 145, 222, 321, 407, 502, 634, 649, 747, 8...</td>\n",
       "      <td>[877, 1975, 2889, 3971, 4904, 5992, 6983, 7952...</td>\n",
       "      <td>[\\n I COULDN’T STAND  around gawking at the fa...</td>\n",
       "      <td>Alfred Birnbaum</td>\n",
       "      <td>Dance Dance Dance</td>\n",
       "    </tr>\n",
       "  </tbody>\n",
       "</table>\n",
       "</div>"
      ],
      "text/plain": [
       "   number  title                                               text  \\\n",
       "0       1      1  \\n I OFTEN DREAM  about the Dolphin Hotel. \\n ...   \n",
       "1       2      2  \\n I GOT SENT  to Hokkaido on assignment.  As ...   \n",
       "2       3      3  \\n IT TAKES NO  great effort to find work in t...   \n",
       "3       4      4  \\n I BOOKED A  taxi for two days, and the phot...   \n",
       "4       5      5  \\n I COULDN’T STAND  around gawking at the faç...   \n",
       "\n",
       "                                       fstop_indices  \\\n",
       "0  [40, 119, 182, 233, 277, 322, 360, 396, 421, 4...   \n",
       "1  [39, 121, 208, 314, 519, 605, 660, 736, 781, 8...   \n",
       "2  [95, 161, 287, 368, 407, 459, 497, 558, 596, 6...   \n",
       "3  [127, 187, 282, 299, 428, 505, 597, 723, 784, ...   \n",
       "4  [56, 145, 222, 321, 407, 502, 634, 649, 747, 8...   \n",
       "\n",
       "                                       split_indices  \\\n",
       "0  [881, 1974, 2990, 3882, 4988, 5962, 6982, 7990...   \n",
       "1          [995, 1977, 2983, 3986, 4999, 5949, 6950]   \n",
       "2    [945, 1969, 2946, 3985, 4976, 5994, 6958, 7840]   \n",
       "3  [979, 1960, 2993, 3999, 4943, 5959, 6979, 7964...   \n",
       "4  [877, 1975, 2889, 3971, 4904, 5992, 6983, 7952...   \n",
       "\n",
       "                                              chunks       translator  \\\n",
       "0  [\\n I OFTEN DREAM  about the Dolphin Hotel. \\n...  Alfred Birnbaum   \n",
       "1  [\\n I GOT SENT  to Hokkaido on assignment.  As...  Alfred Birnbaum   \n",
       "2  [\\n IT TAKES NO  great effort to find work in ...  Alfred Birnbaum   \n",
       "3  [\\n I BOOKED A  taxi for two days, and the pho...  Alfred Birnbaum   \n",
       "4  [\\n I COULDN’T STAND  around gawking at the fa...  Alfred Birnbaum   \n",
       "\n",
       "          book_title  \n",
       "0  Dance Dance Dance  \n",
       "1  Dance Dance Dance  \n",
       "2  Dance Dance Dance  \n",
       "3  Dance Dance Dance  \n",
       "4  Dance Dance Dance  "
      ]
     },
     "execution_count": 191,
     "metadata": {},
     "output_type": "execute_result"
    }
   ],
   "source": [
    "chapters.head()"
   ]
  },
  {
   "cell_type": "code",
   "execution_count": 192,
   "metadata": {
    "ExecuteTime": {
     "end_time": "2020-06-13T14:20:24.668226Z",
     "start_time": "2020-06-13T14:20:24.285771Z"
    }
   },
   "outputs": [
    {
     "data": {
      "image/png": "[encoded data removed]",
      "text/plain": [
       "<Figure size 432x288 with 1 Axes>"
      ]
     },
     "metadata": {
      "image/png": {
       "height": 256,
       "width": 386
      }
     },
     "output_type": "display_data"
    }
   ],
   "source": [
    "lengths = []\n",
    "for chapter in chapters['chunks']:\n",
    "    for chunk in chapter:\n",
    "        lengths.append(len(chunk))\n",
    "plt.hist(lengths, bins=20);"
   ]
  },
  {
   "cell_type": "code",
   "execution_count": 193,
   "metadata": {
    "ExecuteTime": {
     "end_time": "2020-06-13T14:20:24.685036Z",
     "start_time": "2020-06-13T14:20:24.672622Z"
    }
   },
   "outputs": [
    {
     "data": {
      "text/plain": [
       "650"
      ]
     },
     "execution_count": 193,
     "metadata": {},
     "output_type": "execute_result"
    }
   ],
   "source": [
    "len(lengths)"
   ]
  },
  {
   "cell_type": "code",
   "execution_count": 194,
   "metadata": {
    "ExecuteTime": {
     "end_time": "2020-06-13T14:20:24.696648Z",
     "start_time": "2020-06-13T14:20:24.689053Z"
    }
   },
   "outputs": [],
   "source": [
    "out_path = '../../../../Documents/murakami/pkl2/'\n",
    "out_name = 'ddd_birnbaum_v01'\n",
    "out_full_path = out_path + out_name + '.pkl'"
   ]
  },
  {
   "cell_type": "code",
   "execution_count": 195,
   "metadata": {
    "ExecuteTime": {
     "end_time": "2020-06-13T14:20:24.735786Z",
     "start_time": "2020-06-13T14:20:24.706559Z"
    }
   },
   "outputs": [],
   "source": [
    "# save pickle\n",
    "with open(out_full_path, 'wb') as fp:\n",
    "    pickle.dump(chapters, fp)\n",
    "\n",
    "\n",
    "# # read back pickle\n",
    "# with open (out_full_path, 'rb') as fp:\n",
    "#     read_ddd = pickle.load(fp)"
   ]
  },
  {
   "cell_type": "code",
   "execution_count": 196,
   "metadata": {
    "ExecuteTime": {
     "end_time": "2020-06-13T14:20:24.746437Z",
     "start_time": "2020-06-13T14:20:24.738495Z"
    }
   },
   "outputs": [],
   "source": [
    "# read_ddd.head()"
   ]
  },
  {
   "cell_type": "markdown",
   "metadata": {},
   "source": [
    "### Initial cleaning and preparation of 'Kafka On The Shore' Text"
   ]
  },
  {
   "cell_type": "code",
   "execution_count": 197,
   "metadata": {
    "ExecuteTime": {
     "end_time": "2020-06-13T14:20:24.761965Z",
     "start_time": "2020-06-13T14:20:24.756112Z"
    }
   },
   "outputs": [],
   "source": [
    "kots = books['full_text'].iloc[4]"
   ]
  },
  {
   "cell_type": "code",
   "execution_count": 198,
   "metadata": {
    "ExecuteTime": {
     "end_time": "2020-06-13T14:20:24.787174Z",
     "start_time": "2020-06-13T14:20:24.775079Z"
    }
   },
   "outputs": [
    {
     "data": {
      "text/plain": [
       "53"
      ]
     },
     "execution_count": 198,
     "metadata": {},
     "output_type": "execute_result"
    }
   ],
   "source": [
    "len(kots)"
   ]
  },
  {
   "cell_type": "code",
   "execution_count": 199,
   "metadata": {
    "ExecuteTime": {
     "end_time": "2020-06-13T14:20:24.807552Z",
     "start_time": "2020-06-13T14:20:24.791754Z"
    }
   },
   "outputs": [],
   "source": [
    "texts = [ch for i, ch in enumerate(kots) if i not in [0,2]]"
   ]
  },
  {
   "cell_type": "code",
   "execution_count": 200,
   "metadata": {
    "ExecuteTime": {
     "end_time": "2020-06-13T14:20:24.891689Z",
     "start_time": "2020-06-13T14:20:24.811430Z"
    }
   },
   "outputs": [],
   "source": [
    "pattern1 = re.compile(r'\\n ([\\w\\d\\s]+) \\n ([\\w\\W]+)')\n",
    "pattern2 = re.compile(r'\\n [\\w]+ ([\\d]+) \\n [\\w\\W]+')\n",
    "\n",
    "ch_nos = []\n",
    "ch_titles = []\n",
    "ch_texts = []\n",
    "\n",
    "for t in range(0,len(texts)):\n",
    "#     print(t)\n",
    "    out1 = re.findall(pattern1, texts[t])\n",
    "    out2 = re.findall(pattern2, texts[t])\n",
    "#     print(len(out2))\n",
    "    if len(out2) > 0:\n",
    "        ch_nos.append(out2[0])\n",
    "        ch_titles.append(out1[0][0])\n",
    "        ch_texts.append(out1[0][1])\n",
    "    else:\n",
    "        ch_nos.append(None)\n",
    "        ch_titles.append(out1[0][0])\n",
    "        ch_texts.append(out1[0][1])"
   ]
  },
  {
   "cell_type": "code",
   "execution_count": 201,
   "metadata": {
    "ExecuteTime": {
     "end_time": "2020-06-13T14:20:25.194382Z",
     "start_time": "2020-06-13T14:20:24.897760Z"
    }
   },
   "outputs": [
    {
     "data": {
      "text/html": [
       "<div>\n",
       "<style scoped>\n",
       "    .dataframe tbody tr th:only-of-type {\n",
       "        vertical-align: middle;\n",
       "    }\n",
       "\n",
       "    .dataframe tbody tr th {\n",
       "        vertical-align: top;\n",
       "    }\n",
       "\n",
       "    .dataframe thead th {\n",
       "        text-align: right;\n",
       "    }\n",
       "</style>\n",
       "<table border=\"1\" class=\"dataframe\">\n",
       "  <thead>\n",
       "    <tr style=\"text-align: right;\">\n",
       "      <th></th>\n",
       "      <th>number</th>\n",
       "      <th>title</th>\n",
       "      <th>text</th>\n",
       "      <th>fstop_indices</th>\n",
       "      <th>split_indices</th>\n",
       "      <th>chunks</th>\n",
       "      <th>translator</th>\n",
       "      <th>book_title</th>\n",
       "    </tr>\n",
       "  </thead>\n",
       "  <tbody>\n",
       "    <tr>\n",
       "      <th>1</th>\n",
       "      <td>1</td>\n",
       "      <td>Chapter 1</td>\n",
       "      <td>Cash isn't the only thing I take from my fathe...</td>\n",
       "      <td>[73, 186, 247, 304, 368, 418, 490, 564, 675, 7...</td>\n",
       "      <td>[898, 1995, 2985, 3931, 4933, 5923, 6938, 7978...</td>\n",
       "      <td>[Cash isn't the only thing I take from my fath...</td>\n",
       "      <td>Philip Gabriel</td>\n",
       "      <td>Kafka On The Shore</td>\n",
       "    </tr>\n",
       "    <tr>\n",
       "      <th>2</th>\n",
       "      <td>2</td>\n",
       "      <td>Chapter 2</td>\n",
       "      <td>The following document, classified Top Secret ...</td>\n",
       "      <td>[54, 56, 154, 222, 224, 252, 342, 375, 535, 57...</td>\n",
       "      <td>[878, 1901, 2996, 3947, 4936, 5847, 6928, 7936...</td>\n",
       "      <td>[The following document, classified Top Secret...</td>\n",
       "      <td>Philip Gabriel</td>\n",
       "      <td>Kafka On The Shore</td>\n",
       "    </tr>\n",
       "    <tr>\n",
       "      <th>3</th>\n",
       "      <td>3</td>\n",
       "      <td>Chapter 3</td>\n",
       "      <td>It's nearly dawn when I wake up. I draw the cu...</td>\n",
       "      <td>[31, 72, 149, 230, 283, 312, 422, 553, 644, 68...</td>\n",
       "      <td>[982, 1949, 2758, 3877, 4974, 5952, 6982, 7986...</td>\n",
       "      <td>[It's nearly dawn when I wake up. I draw the c...</td>\n",
       "      <td>Philip Gabriel</td>\n",
       "      <td>Kafka On The Shore</td>\n",
       "    </tr>\n",
       "    <tr>\n",
       "      <th>4</th>\n",
       "      <td>4</td>\n",
       "      <td>Chapter 4</td>\n",
       "      <td>U.S. ARMY INTELLIGENCE SECTION (MIS) REPORT \\n...</td>\n",
       "      <td>[1, 3, 322, 422, 461, 576, 664, 754, 784, 786,...</td>\n",
       "      <td>[989, 1967, 2950, 3983, 4907, 5960, 6955, 7944...</td>\n",
       "      <td>[U.S. ARMY INTELLIGENCE SECTION (MIS) REPORT \\...</td>\n",
       "      <td>Philip Gabriel</td>\n",
       "      <td>Kafka On The Shore</td>\n",
       "    </tr>\n",
       "    <tr>\n",
       "      <th>5</th>\n",
       "      <td>5</td>\n",
       "      <td>Chapter 5</td>\n",
       "      <td>I'm asleep when our bus drives across the huge...</td>\n",
       "      <td>[77, 162, 217, 253, 329, 421, 465, 559, 582, 5...</td>\n",
       "      <td>[979, 1980, 2983, 3987, 4922, 5957, 6952, 7958...</td>\n",
       "      <td>[I'm asleep when our bus drives across the hug...</td>\n",
       "      <td>Philip Gabriel</td>\n",
       "      <td>Kafka On The Shore</td>\n",
       "    </tr>\n",
       "    <tr>\n",
       "      <th>6</th>\n",
       "      <td>6</td>\n",
       "      <td>Chapter 6</td>\n",
       "      <td>Hello there,\" the old man called out. \\n The l...</td>\n",
       "      <td>[36, 147, 193, 216, 243, 249, 250, 251, 271, 3...</td>\n",
       "      <td>[971, 1951, 2976, 3923, 4927, 5921, 6963, 7948...</td>\n",
       "      <td>[Hello there,\" the old man called out. \\n The ...</td>\n",
       "      <td>Philip Gabriel</td>\n",
       "      <td>Kafka On The Shore</td>\n",
       "    </tr>\n",
       "    <tr>\n",
       "      <th>7</th>\n",
       "      <td>7</td>\n",
       "      <td>Chapter 7</td>\n",
       "      <td>At seven-fifteen I eat breakfast in the restau...</td>\n",
       "      <td>[98, 165, 228, 298, 320, 378, 415, 511, 582, 6...</td>\n",
       "      <td>[948, 1907, 2982, 3928, 4921, 5973, 6997, 7999...</td>\n",
       "      <td>[At seven-fifteen I eat breakfast in the resta...</td>\n",
       "      <td>Philip Gabriel</td>\n",
       "      <td>Kafka On The Shore</td>\n",
       "    </tr>\n",
       "    <tr>\n",
       "      <th>8</th>\n",
       "      <td>8</td>\n",
       "      <td>\\n Chapter 8</td>\n",
       "      <td>U.S. ARMY INTELLIGENCE SECTION (MIS) REPORT \\n...</td>\n",
       "      <td>[1, 3, 433, 537, 579, 618, 757, 869, 977, 1064...</td>\n",
       "      <td>[977, 1856, 2913, 3948, 4993, 5975, 6993, 7943...</td>\n",
       "      <td>[U.S. ARMY INTELLIGENCE SECTION (MIS) REPORT \\...</td>\n",
       "      <td>Philip Gabriel</td>\n",
       "      <td>Kafka On The Shore</td>\n",
       "    </tr>\n",
       "    <tr>\n",
       "      <th>9</th>\n",
       "      <td>9</td>\n",
       "      <td>Chapter 9</td>\n",
       "      <td>When I come to I'm in thick brush, lying there...</td>\n",
       "      <td>[79, 114, 247, 298, 357, 422, 493, 568, 615, 7...</td>\n",
       "      <td>[937, 1998, 2979, 3968, 4967, 5955, 6955, 7960...</td>\n",
       "      <td>[When I come to I'm in thick brush, lying ther...</td>\n",
       "      <td>Philip Gabriel</td>\n",
       "      <td>Kafka On The Shore</td>\n",
       "    </tr>\n",
       "    <tr>\n",
       "      <th>10</th>\n",
       "      <td>10</td>\n",
       "      <td>Chapter 10</td>\n",
       "      <td>Is it all right, then, if Nakata calls you Kaw...</td>\n",
       "      <td>[178, 302, 356, 444, 486, 532, 597, 632, 666, ...</td>\n",
       "      <td>[954, 1913, 2986, 3937, 4946, 5993, 6978, 7964...</td>\n",
       "      <td>[Is it all right, then, if Nakata calls you Ka...</td>\n",
       "      <td>Philip Gabriel</td>\n",
       "      <td>Kafka On The Shore</td>\n",
       "    </tr>\n",
       "  </tbody>\n",
       "</table>\n",
       "</div>"
      ],
      "text/plain": [
       "   number         title                                               text  \\\n",
       "1       1     Chapter 1  Cash isn't the only thing I take from my fathe...   \n",
       "2       2     Chapter 2  The following document, classified Top Secret ...   \n",
       "3       3     Chapter 3  It's nearly dawn when I wake up. I draw the cu...   \n",
       "4       4     Chapter 4  U.S. ARMY INTELLIGENCE SECTION (MIS) REPORT \\n...   \n",
       "5       5     Chapter 5  I'm asleep when our bus drives across the huge...   \n",
       "6       6     Chapter 6  Hello there,\" the old man called out. \\n The l...   \n",
       "7       7     Chapter 7  At seven-fifteen I eat breakfast in the restau...   \n",
       "8       8  \\n Chapter 8  U.S. ARMY INTELLIGENCE SECTION (MIS) REPORT \\n...   \n",
       "9       9     Chapter 9  When I come to I'm in thick brush, lying there...   \n",
       "10     10    Chapter 10  Is it all right, then, if Nakata calls you Kaw...   \n",
       "\n",
       "                                        fstop_indices  \\\n",
       "1   [73, 186, 247, 304, 368, 418, 490, 564, 675, 7...   \n",
       "2   [54, 56, 154, 222, 224, 252, 342, 375, 535, 57...   \n",
       "3   [31, 72, 149, 230, 283, 312, 422, 553, 644, 68...   \n",
       "4   [1, 3, 322, 422, 461, 576, 664, 754, 784, 786,...   \n",
       "5   [77, 162, 217, 253, 329, 421, 465, 559, 582, 5...   \n",
       "6   [36, 147, 193, 216, 243, 249, 250, 251, 271, 3...   \n",
       "7   [98, 165, 228, 298, 320, 378, 415, 511, 582, 6...   \n",
       "8   [1, 3, 433, 537, 579, 618, 757, 869, 977, 1064...   \n",
       "9   [79, 114, 247, 298, 357, 422, 493, 568, 615, 7...   \n",
       "10  [178, 302, 356, 444, 486, 532, 597, 632, 666, ...   \n",
       "\n",
       "                                        split_indices  \\\n",
       "1   [898, 1995, 2985, 3931, 4933, 5923, 6938, 7978...   \n",
       "2   [878, 1901, 2996, 3947, 4936, 5847, 6928, 7936...   \n",
       "3   [982, 1949, 2758, 3877, 4974, 5952, 6982, 7986...   \n",
       "4   [989, 1967, 2950, 3983, 4907, 5960, 6955, 7944...   \n",
       "5   [979, 1980, 2983, 3987, 4922, 5957, 6952, 7958...   \n",
       "6   [971, 1951, 2976, 3923, 4927, 5921, 6963, 7948...   \n",
       "7   [948, 1907, 2982, 3928, 4921, 5973, 6997, 7999...   \n",
       "8   [977, 1856, 2913, 3948, 4993, 5975, 6993, 7943...   \n",
       "9   [937, 1998, 2979, 3968, 4967, 5955, 6955, 7960...   \n",
       "10  [954, 1913, 2986, 3937, 4946, 5993, 6978, 7964...   \n",
       "\n",
       "                                               chunks      translator  \\\n",
       "1   [Cash isn't the only thing I take from my fath...  Philip Gabriel   \n",
       "2   [The following document, classified Top Secret...  Philip Gabriel   \n",
       "3   [It's nearly dawn when I wake up. I draw the c...  Philip Gabriel   \n",
       "4   [U.S. ARMY INTELLIGENCE SECTION (MIS) REPORT \\...  Philip Gabriel   \n",
       "5   [I'm asleep when our bus drives across the hug...  Philip Gabriel   \n",
       "6   [Hello there,\" the old man called out. \\n The ...  Philip Gabriel   \n",
       "7   [At seven-fifteen I eat breakfast in the resta...  Philip Gabriel   \n",
       "8   [U.S. ARMY INTELLIGENCE SECTION (MIS) REPORT \\...  Philip Gabriel   \n",
       "9   [When I come to I'm in thick brush, lying ther...  Philip Gabriel   \n",
       "10  [Is it all right, then, if Nakata calls you Ka...  Philip Gabriel   \n",
       "\n",
       "            book_title  \n",
       "1   Kafka On The Shore  \n",
       "2   Kafka On The Shore  \n",
       "3   Kafka On The Shore  \n",
       "4   Kafka On The Shore  \n",
       "5   Kafka On The Shore  \n",
       "6   Kafka On The Shore  \n",
       "7   Kafka On The Shore  \n",
       "8   Kafka On The Shore  \n",
       "9   Kafka On The Shore  \n",
       "10  Kafka On The Shore  "
      ]
     },
     "execution_count": 201,
     "metadata": {},
     "output_type": "execute_result"
    }
   ],
   "source": [
    "chapters = pd.DataFrame({'number': ch_nos, 'title': ch_titles, 'text': ch_texts})\n",
    "chapters['fstop_indices'] = chapters['text'].apply(lambda x: fs_indexer(x))\n",
    "chapters.dropna(inplace=True)\n",
    "chapters['split_indices'] = chapters['text'].apply(lambda x: split_indexer(x))\n",
    "chapters.dropna(inplace=True)\n",
    "chapters['chunks'] = chapters['text'].apply(lambda x: text_chunker(x))\n",
    "chapters['translator'] = 'Philip Gabriel'\n",
    "chapters['book_title'] = 'Kafka On The Shore'\n",
    "chapters.head(5)"
   ]
  },
  {
   "cell_type": "code",
   "execution_count": 202,
   "metadata": {
    "ExecuteTime": {
     "end_time": "2020-06-13T14:20:25.648013Z",
     "start_time": "2020-06-13T14:20:25.201217Z"
    }
   },
   "outputs": [
    {
     "data": {
      "image/png": "[encoded data removed]",
      "text/plain": [
       "<Figure size 432x288 with 1 Axes>"
      ]
     },
     "metadata": {
      "image/png": {
       "height": 256,
       "width": 386
      }
     },
     "output_type": "display_data"
    }
   ],
   "source": [
    "lengths = []\n",
    "for chapter in chapters['chunks']:\n",
    "    for chunk in chapter:\n",
    "        lengths.append(len(chunk))\n",
    "plt.hist(lengths, bins=20);"
   ]
  },
  {
   "cell_type": "code",
   "execution_count": 203,
   "metadata": {
    "ExecuteTime": {
     "end_time": "2020-06-13T14:20:25.661842Z",
     "start_time": "2020-06-13T14:20:25.652030Z"
    }
   },
   "outputs": [
    {
     "data": {
      "text/plain": [
       "934"
      ]
     },
     "execution_count": 203,
     "metadata": {},
     "output_type": "execute_result"
    }
   ],
   "source": [
    "len(lengths)"
   ]
  },
  {
   "cell_type": "code",
   "execution_count": 204,
   "metadata": {
    "ExecuteTime": {
     "end_time": "2020-06-13T14:20:25.674599Z",
     "start_time": "2020-06-13T14:20:25.668680Z"
    }
   },
   "outputs": [],
   "source": [
    "out_path = '../../../../Documents/murakami/pkl2/'\n",
    "out_name = 'kots_gabriel_v01'\n",
    "out_full_path = out_path + out_name + '.pkl'"
   ]
  },
  {
   "cell_type": "code",
   "execution_count": 205,
   "metadata": {
    "ExecuteTime": {
     "end_time": "2020-06-13T14:20:25.705905Z",
     "start_time": "2020-06-13T14:20:25.680603Z"
    }
   },
   "outputs": [],
   "source": [
    "# save pickle\n",
    "with open(out_full_path, 'wb') as fp:\n",
    "    pickle.dump(chapters, fp)\n",
    "\n",
    "\n",
    "# # read back pickle\n",
    "# with open (out_full_path, 'rb') as fp:\n",
    "#     read_kots = pickle.load(fp)"
   ]
  },
  {
   "cell_type": "code",
   "execution_count": 206,
   "metadata": {
    "ExecuteTime": {
     "end_time": "2020-06-13T14:20:25.718438Z",
     "start_time": "2020-06-13T14:20:25.708766Z"
    }
   },
   "outputs": [],
   "source": [
    "# read_kots"
   ]
  },
  {
   "cell_type": "markdown",
   "metadata": {},
   "source": [
    "### Initial cleaning and preparation of 'Colorless Tsukuru Tazaki' Text"
   ]
  },
  {
   "cell_type": "code",
   "execution_count": 207,
   "metadata": {
    "ExecuteTime": {
     "end_time": "2020-06-13T14:20:25.738878Z",
     "start_time": "2020-06-13T14:20:25.723684Z"
    }
   },
   "outputs": [],
   "source": [
    "ctt = books['full_text'].iloc[5]"
   ]
  },
  {
   "cell_type": "code",
   "execution_count": 208,
   "metadata": {
    "ExecuteTime": {
     "end_time": "2020-06-13T14:20:25.760156Z",
     "start_time": "2020-06-13T14:20:25.741660Z"
    }
   },
   "outputs": [
    {
     "data": {
      "text/plain": [
       "31"
      ]
     },
     "execution_count": 208,
     "metadata": {},
     "output_type": "execute_result"
    }
   ],
   "source": [
    "len(ctt)"
   ]
  },
  {
   "cell_type": "code",
   "execution_count": 209,
   "metadata": {
    "ExecuteTime": {
     "end_time": "2020-06-13T14:20:25.774631Z",
     "start_time": "2020-06-13T14:20:25.765633Z"
    }
   },
   "outputs": [
    {
     "data": {
      "text/plain": [
       "'19 \\n SHINJUKU STATION IS  enormous.  Every day nearly 3.5 million people pass through it, so many that the  Guinness Book of World Records  officially lists JR Shinjuku Station as the station with the'"
      ]
     },
     "execution_count": 209,
     "metadata": {},
     "output_type": "execute_result"
    }
   ],
   "source": [
    "ctt[25][:200]"
   ]
  },
  {
   "cell_type": "code",
   "execution_count": 210,
   "metadata": {
    "ExecuteTime": {
     "end_time": "2020-06-13T14:20:25.789390Z",
     "start_time": "2020-06-13T14:20:25.784533Z"
    }
   },
   "outputs": [],
   "source": [
    "texts = ctt[7:26]"
   ]
  },
  {
   "cell_type": "code",
   "execution_count": 211,
   "metadata": {
    "ExecuteTime": {
     "end_time": "2020-06-13T14:20:25.825533Z",
     "start_time": "2020-06-13T14:20:25.802007Z"
    }
   },
   "outputs": [],
   "source": [
    "# regex pattern to extract chapter number, title and main text from a complete chapter\n",
    "pattern = re.compile(r'([\\d]+) \\n ([\\w\\W]+)')\n",
    "\n",
    "ch_nos = []\n",
    "ch_titles = []\n",
    "ch_texts = []\n",
    "ireg_ch = []\n",
    "\n",
    "for t in range(0,len(texts)):\n",
    "#     print(t)\n",
    "    out = re.findall(pattern, texts[t])\n",
    "    if len(out) > 0:\n",
    "        ch_nos.append(out[0][0])\n",
    "        ch_titles.append(out[0][0])\n",
    "        ch_texts.append(out[0][1])\n",
    "    else:\n",
    "        ch_nos.append(None)\n",
    "        ch_titles.append(None)\n",
    "        ch_texts.append(None)"
   ]
  },
  {
   "cell_type": "code",
   "execution_count": 212,
   "metadata": {
    "ExecuteTime": {
     "end_time": "2020-06-13T14:20:25.998107Z",
     "start_time": "2020-06-13T14:20:25.831837Z"
    }
   },
   "outputs": [
    {
     "data": {
      "text/html": [
       "<div>\n",
       "<style scoped>\n",
       "    .dataframe tbody tr th:only-of-type {\n",
       "        vertical-align: middle;\n",
       "    }\n",
       "\n",
       "    .dataframe tbody tr th {\n",
       "        vertical-align: top;\n",
       "    }\n",
       "\n",
       "    .dataframe thead th {\n",
       "        text-align: right;\n",
       "    }\n",
       "</style>\n",
       "<table border=\"1\" class=\"dataframe\">\n",
       "  <thead>\n",
       "    <tr style=\"text-align: right;\">\n",
       "      <th></th>\n",
       "      <th>number</th>\n",
       "      <th>title</th>\n",
       "      <th>text</th>\n",
       "      <th>fstop_indices</th>\n",
       "      <th>split_indices</th>\n",
       "      <th>chunks</th>\n",
       "      <th>translator</th>\n",
       "      <th>book_title</th>\n",
       "    </tr>\n",
       "  </thead>\n",
       "  <tbody>\n",
       "    <tr>\n",
       "      <th>0</th>\n",
       "      <td>1</td>\n",
       "      <td>1</td>\n",
       "      <td>FROM JULY OF  his sophomore year in college un...</td>\n",
       "      <td>[119, 219, 340, 450, 591, 625, 806, 871, 933, ...</td>\n",
       "      <td>[996, 1983, 2948, 3943, 4964, 5996, 6975, 7944...</td>\n",
       "      <td>[FROM JULY OF  his sophomore year in college u...</td>\n",
       "      <td>Philip Gabriel</td>\n",
       "      <td>Colorless Tsukuru Tazaki</td>\n",
       "    </tr>\n",
       "    <tr>\n",
       "      <th>1</th>\n",
       "      <td>2</td>\n",
       "      <td>2</td>\n",
       "      <td>THIS DRASTIC CHANGE  took place during summer ...</td>\n",
       "      <td>[116, 253, 405, 531, 572, 628, 804, 889, 911, ...</td>\n",
       "      <td>[999, 1845, 2998, 3925, 4956, 5982, 6995, 7914...</td>\n",
       "      <td>[THIS DRASTIC CHANGE  took place during summer...</td>\n",
       "      <td>Philip Gabriel</td>\n",
       "      <td>Colorless Tsukuru Tazaki</td>\n",
       "    </tr>\n",
       "    <tr>\n",
       "      <th>2</th>\n",
       "      <td>3</td>\n",
       "      <td>3</td>\n",
       "      <td>IN THE HALF  year when he wandered on the verg...</td>\n",
       "      <td>[85, 132, 222, 290, 352, 416, 481, 574, 606, 7...</td>\n",
       "      <td>[956, 1909, 2907, 3960, 4999, 5910, 6979, 7934...</td>\n",
       "      <td>[IN THE HALF  year when he wandered on the ver...</td>\n",
       "      <td>Philip Gabriel</td>\n",
       "      <td>Colorless Tsukuru Tazaki</td>\n",
       "    </tr>\n",
       "    <tr>\n",
       "      <th>3</th>\n",
       "      <td>4</td>\n",
       "      <td>4</td>\n",
       "      <td>HE MET THE  man at the college pool. \\n Like T...</td>\n",
       "      <td>[35, 96, 178, 276, 355, 512, 600, 639, 675, 70...</td>\n",
       "      <td>[988, 1998, 2952, 3984, 4989, 5960, 6956, 7886...</td>\n",
       "      <td>[HE MET THE  man at the college pool. \\n Like ...</td>\n",
       "      <td>Philip Gabriel</td>\n",
       "      <td>Colorless Tsukuru Tazaki</td>\n",
       "    </tr>\n",
       "    <tr>\n",
       "      <th>4</th>\n",
       "      <td>5</td>\n",
       "      <td>5</td>\n",
       "      <td>‘ WHEN MY FATHER  was young, he spent a year w...</td>\n",
       "      <td>[81, 206, 362, 435, 581, 677, 818, 902, 944, 1...</td>\n",
       "      <td>[944, 1991, 2976, 3844, 4986, 5979, 6962, 7969...</td>\n",
       "      <td>[‘ WHEN MY FATHER  was young, he spent a year ...</td>\n",
       "      <td>Philip Gabriel</td>\n",
       "      <td>Colorless Tsukuru Tazaki</td>\n",
       "    </tr>\n",
       "  </tbody>\n",
       "</table>\n",
       "</div>"
      ],
      "text/plain": [
       "  number title                                               text  \\\n",
       "0      1     1  FROM JULY OF  his sophomore year in college un...   \n",
       "1      2     2  THIS DRASTIC CHANGE  took place during summer ...   \n",
       "2      3     3  IN THE HALF  year when he wandered on the verg...   \n",
       "3      4     4  HE MET THE  man at the college pool. \\n Like T...   \n",
       "4      5     5  ‘ WHEN MY FATHER  was young, he spent a year w...   \n",
       "\n",
       "                                       fstop_indices  \\\n",
       "0  [119, 219, 340, 450, 591, 625, 806, 871, 933, ...   \n",
       "1  [116, 253, 405, 531, 572, 628, 804, 889, 911, ...   \n",
       "2  [85, 132, 222, 290, 352, 416, 481, 574, 606, 7...   \n",
       "3  [35, 96, 178, 276, 355, 512, 600, 639, 675, 70...   \n",
       "4  [81, 206, 362, 435, 581, 677, 818, 902, 944, 1...   \n",
       "\n",
       "                                       split_indices  \\\n",
       "0  [996, 1983, 2948, 3943, 4964, 5996, 6975, 7944...   \n",
       "1  [999, 1845, 2998, 3925, 4956, 5982, 6995, 7914...   \n",
       "2  [956, 1909, 2907, 3960, 4999, 5910, 6979, 7934...   \n",
       "3  [988, 1998, 2952, 3984, 4989, 5960, 6956, 7886...   \n",
       "4  [944, 1991, 2976, 3844, 4986, 5979, 6962, 7969...   \n",
       "\n",
       "                                              chunks      translator  \\\n",
       "0  [FROM JULY OF  his sophomore year in college u...  Philip Gabriel   \n",
       "1  [THIS DRASTIC CHANGE  took place during summer...  Philip Gabriel   \n",
       "2  [IN THE HALF  year when he wandered on the ver...  Philip Gabriel   \n",
       "3  [HE MET THE  man at the college pool. \\n Like ...  Philip Gabriel   \n",
       "4  [‘ WHEN MY FATHER  was young, he spent a year ...  Philip Gabriel   \n",
       "\n",
       "                 book_title  \n",
       "0  Colorless Tsukuru Tazaki  \n",
       "1  Colorless Tsukuru Tazaki  \n",
       "2  Colorless Tsukuru Tazaki  \n",
       "3  Colorless Tsukuru Tazaki  \n",
       "4  Colorless Tsukuru Tazaki  "
      ]
     },
     "execution_count": 212,
     "metadata": {},
     "output_type": "execute_result"
    }
   ],
   "source": [
    "chapters = pd.DataFrame({'number': ch_nos, 'title': ch_titles, 'text': ch_texts})\n",
    "chapters['fstop_indices'] = chapters['text'].apply(lambda x: fs_indexer(x))\n",
    "chapters['split_indices'] = chapters['text'].apply(lambda x: split_indexer(x))\n",
    "chapters['chunks'] = chapters['text'].apply(lambda x: text_chunker(x))\n",
    "chapters['translator'] = 'Philip Gabriel'\n",
    "chapters['book_title'] = 'Colorless Tsukuru Tazaki'\n",
    "chapters.head()"
   ]
  },
  {
   "cell_type": "code",
   "execution_count": 213,
   "metadata": {
    "ExecuteTime": {
     "end_time": "2020-06-13T14:20:26.307451Z",
     "start_time": "2020-06-13T14:20:26.001598Z"
    }
   },
   "outputs": [
    {
     "data": {
      "image/png": "[encoded data removed]",
      "text/plain": [
       "<Figure size 432x288 with 1 Axes>"
      ]
     },
     "metadata": {
      "image/png": {
       "height": 256,
       "width": 386
      }
     },
     "output_type": "display_data"
    }
   ],
   "source": [
    "lengths = []\n",
    "for chapter in chapters['chunks']:\n",
    "    for chunk in chapter:\n",
    "        lengths.append(len(chunk))\n",
    "plt.hist(lengths, bins=20);"
   ]
  },
  {
   "cell_type": "code",
   "execution_count": 214,
   "metadata": {
    "ExecuteTime": {
     "end_time": "2020-06-13T14:20:26.319181Z",
     "start_time": "2020-06-13T14:20:26.310957Z"
    }
   },
   "outputs": [],
   "source": [
    "out_path = '../../../../Documents/murakami/pkl2/'\n",
    "out_name = 'ctt_gabriel_v01'\n",
    "out_full_path = out_path + out_name + '.pkl'"
   ]
  },
  {
   "cell_type": "code",
   "execution_count": 215,
   "metadata": {
    "ExecuteTime": {
     "end_time": "2020-06-13T14:20:26.361598Z",
     "start_time": "2020-06-13T14:20:26.323251Z"
    }
   },
   "outputs": [],
   "source": [
    "# save pickle\n",
    "with open(out_full_path, 'wb') as fp:\n",
    "    pickle.dump(chapters, fp)\n",
    "\n",
    "\n",
    "# # read back pickle\n",
    "# with open (out_full_path, 'rb') as fp:\n",
    "#     read_ctt = pickle.load(fp)"
   ]
  },
  {
   "cell_type": "code",
   "execution_count": 216,
   "metadata": {
    "ExecuteTime": {
     "end_time": "2020-06-13T14:20:26.378759Z",
     "start_time": "2020-06-13T14:20:26.371736Z"
    }
   },
   "outputs": [],
   "source": [
    "# read_ctt"
   ]
  },
  {
   "cell_type": "markdown",
   "metadata": {},
   "source": [
    "### Initial cleaning and preparation of 'The Wind Up Bird Chronicle' Text"
   ]
  },
  {
   "cell_type": "code",
   "execution_count": 217,
   "metadata": {
    "ExecuteTime": {
     "end_time": "2020-06-13T14:20:26.402335Z",
     "start_time": "2020-06-13T14:20:26.390437Z"
    }
   },
   "outputs": [],
   "source": [
    "wubc = books['full_text'].iloc[2]"
   ]
  },
  {
   "cell_type": "code",
   "execution_count": 218,
   "metadata": {
    "ExecuteTime": {
     "end_time": "2020-06-13T14:20:26.442720Z",
     "start_time": "2020-06-13T14:20:26.428118Z"
    }
   },
   "outputs": [
    {
     "data": {
      "text/plain": [
       "83"
      ]
     },
     "execution_count": 218,
     "metadata": {},
     "output_type": "execute_result"
    }
   ],
   "source": [
    "len(wubc)"
   ]
  },
  {
   "cell_type": "code",
   "execution_count": 219,
   "metadata": {
    "ExecuteTime": {
     "end_time": "2020-06-13T14:20:26.474687Z",
     "start_time": "2020-06-13T14:20:26.456824Z"
    }
   },
   "outputs": [],
   "source": [
    "texts = wubc[7:77]"
   ]
  },
  {
   "cell_type": "code",
   "execution_count": 220,
   "metadata": {
    "ExecuteTime": {
     "end_time": "2020-06-13T14:20:26.628948Z",
     "start_time": "2020-06-13T14:20:26.495115Z"
    }
   },
   "outputs": [],
   "source": [
    "# regex pattern to extract chapter number, title and main text from a complete chapter\n",
    "# first pattern for most chapters\n",
    "pattern1 = re.compile(r'(\\d+) \\n ([\\d\\w\\W\\n]+ \\n ♦ \\n [^\\n]+) \\n ([\\w\\W]+)')\n",
    "#  second pattern for some irregular chapters - useful finding first few all capitals\n",
    "pattern2 = re.compile(r'(\\d+) \\n ([\\d\\w\\W]+) \\n ([A-Z]{1,}\\s[A-Z]{2,}[\\d\\w\\W]+)')\n",
    "\n",
    "ch_nos = []\n",
    "ch_titles = []\n",
    "ch_texts = []\n",
    "\n",
    "for t in range(0,len(texts)):\n",
    "#     print(t)\n",
    "    out = re.findall(pattern1, texts[t])\n",
    "    if len(out) > 0:\n",
    "        ch_nos.append(out[0][0])\n",
    "        ch_titles.append(out[0][1])\n",
    "        ch_texts.append(out[0][2])\n",
    "    else:\n",
    "        try:\n",
    "            out = re.findall(pattern2, texts[t])\n",
    "            ch_nos.append(out[0][0])\n",
    "            ch_titles.append(out[0][1])\n",
    "            ch_texts.append(out[0][2])\n",
    "        except:\n",
    "            ch_nos.append(None)\n",
    "            ch_titles.append(None)\n",
    "            ch_texts.append(out)"
   ]
  },
  {
   "cell_type": "code",
   "execution_count": 221,
   "metadata": {
    "ExecuteTime": {
     "end_time": "2020-06-13T14:20:27.151915Z",
     "start_time": "2020-06-13T14:20:26.632873Z"
    }
   },
   "outputs": [
    {
     "data": {
      "text/html": [
       "<div>\n",
       "<style scoped>\n",
       "    .dataframe tbody tr th:only-of-type {\n",
       "        vertical-align: middle;\n",
       "    }\n",
       "\n",
       "    .dataframe tbody tr th {\n",
       "        vertical-align: top;\n",
       "    }\n",
       "\n",
       "    .dataframe thead th {\n",
       "        text-align: right;\n",
       "    }\n",
       "</style>\n",
       "<table border=\"1\" class=\"dataframe\">\n",
       "  <thead>\n",
       "    <tr style=\"text-align: right;\">\n",
       "      <th></th>\n",
       "      <th>number</th>\n",
       "      <th>title</th>\n",
       "      <th>text</th>\n",
       "      <th>fstop_indices</th>\n",
       "      <th>split_indices</th>\n",
       "      <th>chunks</th>\n",
       "      <th>translator</th>\n",
       "      <th>book_title</th>\n",
       "    </tr>\n",
       "  </thead>\n",
       "  <tbody>\n",
       "    <tr>\n",
       "      <th>0</th>\n",
       "      <td>1</td>\n",
       "      <td>Tuesday’s Wind-up Bird \\n ♦ \\n Six Fingers and...</td>\n",
       "      <td>WHEN THE PHONE  rang I was in the kitchen, boi...</td>\n",
       "      <td>[215, 377, 413, 461, 538, 594, 666, 737, 759, ...</td>\n",
       "      <td>[968, 1946, 2996, 3973, 4966, 5879, 6990, 7902...</td>\n",
       "      <td>[WHEN THE PHONE  rang I was in the kitchen, bo...</td>\n",
       "      <td>Jay Rubin</td>\n",
       "      <td>The Wind Up Bird Chronicle</td>\n",
       "    </tr>\n",
       "    <tr>\n",
       "      <th>1</th>\n",
       "      <td>2</td>\n",
       "      <td>Full Moon and Eclipse of the Sun \\n ♦ \\n On Ho...</td>\n",
       "      <td>IS IT POSSIBLE , in the final analysis, for on...</td>\n",
       "      <td>[458, 558, 625, 676, 778, 940, 1041, 1091, 118...</td>\n",
       "      <td>[940, 1999, 2990, 3955, 4955, 5911, 6963, 7884...</td>\n",
       "      <td>[IS IT POSSIBLE , in the final analysis, for o...</td>\n",
       "      <td>Jay Rubin</td>\n",
       "      <td>The Wind Up Bird Chronicle</td>\n",
       "    </tr>\n",
       "    <tr>\n",
       "      <th>2</th>\n",
       "      <td>3</td>\n",
       "      <td>Malta Kano’s Hat \\n ♦ \\n Sherbet Tone and Alle...</td>\n",
       "      <td>I WAS IN  the middle of preparing lunch when t...</td>\n",
       "      <td>[65, 287, 352, 499, 534, 556, 584, 654, 717, 8...</td>\n",
       "      <td>[983, 1978, 2999, 3993, 4996, 5911, 6967, 7981...</td>\n",
       "      <td>[I WAS IN  the middle of preparing lunch when ...</td>\n",
       "      <td>Jay Rubin</td>\n",
       "      <td>The Wind Up Bird Chronicle</td>\n",
       "    </tr>\n",
       "    <tr>\n",
       "      <th>3</th>\n",
       "      <td>4</td>\n",
       "      <td>High Towers and Deep Wells \\n (Or, Far from No...</td>\n",
       "      <td>I listened, making suitable responses.  I hear...</td>\n",
       "      <td>[37, 88, 151, 275, 309, 420, 517, 602, 641, 69...</td>\n",
       "      <td>[897, 1861, 2946, 3953, 4988, 5931, 6994, 7985...</td>\n",
       "      <td>[I listened, making suitable responses.  I hea...</td>\n",
       "      <td>Jay Rubin</td>\n",
       "      <td>The Wind Up Bird Chronicle</td>\n",
       "    </tr>\n",
       "    <tr>\n",
       "      <th>4</th>\n",
       "      <td>5</td>\n",
       "      <td>Hooked on Lemon Drops \\n ♦ \\n Flightless Bird ...</td>\n",
       "      <td>AFTER DOING THE  breakfast dishes, I rode my b...</td>\n",
       "      <td>[81, 268, 373, 467, 618, 754, 790, 911, 983, 1...</td>\n",
       "      <td>[983, 1918, 2875, 3850, 4944, 5979, 6916, 7950...</td>\n",
       "      <td>[AFTER DOING THE  breakfast dishes, I rode my ...</td>\n",
       "      <td>Jay Rubin</td>\n",
       "      <td>The Wind Up Bird Chronicle</td>\n",
       "    </tr>\n",
       "  </tbody>\n",
       "</table>\n",
       "</div>"
      ],
      "text/plain": [
       "  number                                              title  \\\n",
       "0      1  Tuesday’s Wind-up Bird \\n ♦ \\n Six Fingers and...   \n",
       "1      2  Full Moon and Eclipse of the Sun \\n ♦ \\n On Ho...   \n",
       "2      3  Malta Kano’s Hat \\n ♦ \\n Sherbet Tone and Alle...   \n",
       "3      4  High Towers and Deep Wells \\n (Or, Far from No...   \n",
       "4      5  Hooked on Lemon Drops \\n ♦ \\n Flightless Bird ...   \n",
       "\n",
       "                                                text  \\\n",
       "0  WHEN THE PHONE  rang I was in the kitchen, boi...   \n",
       "1  IS IT POSSIBLE , in the final analysis, for on...   \n",
       "2  I WAS IN  the middle of preparing lunch when t...   \n",
       "3  I listened, making suitable responses.  I hear...   \n",
       "4  AFTER DOING THE  breakfast dishes, I rode my b...   \n",
       "\n",
       "                                       fstop_indices  \\\n",
       "0  [215, 377, 413, 461, 538, 594, 666, 737, 759, ...   \n",
       "1  [458, 558, 625, 676, 778, 940, 1041, 1091, 118...   \n",
       "2  [65, 287, 352, 499, 534, 556, 584, 654, 717, 8...   \n",
       "3  [37, 88, 151, 275, 309, 420, 517, 602, 641, 69...   \n",
       "4  [81, 268, 373, 467, 618, 754, 790, 911, 983, 1...   \n",
       "\n",
       "                                       split_indices  \\\n",
       "0  [968, 1946, 2996, 3973, 4966, 5879, 6990, 7902...   \n",
       "1  [940, 1999, 2990, 3955, 4955, 5911, 6963, 7884...   \n",
       "2  [983, 1978, 2999, 3993, 4996, 5911, 6967, 7981...   \n",
       "3  [897, 1861, 2946, 3953, 4988, 5931, 6994, 7985...   \n",
       "4  [983, 1918, 2875, 3850, 4944, 5979, 6916, 7950...   \n",
       "\n",
       "                                              chunks translator  \\\n",
       "0  [WHEN THE PHONE  rang I was in the kitchen, bo...  Jay Rubin   \n",
       "1  [IS IT POSSIBLE , in the final analysis, for o...  Jay Rubin   \n",
       "2  [I WAS IN  the middle of preparing lunch when ...  Jay Rubin   \n",
       "3  [I listened, making suitable responses.  I hea...  Jay Rubin   \n",
       "4  [AFTER DOING THE  breakfast dishes, I rode my ...  Jay Rubin   \n",
       "\n",
       "                   book_title  \n",
       "0  The Wind Up Bird Chronicle  \n",
       "1  The Wind Up Bird Chronicle  \n",
       "2  The Wind Up Bird Chronicle  \n",
       "3  The Wind Up Bird Chronicle  \n",
       "4  The Wind Up Bird Chronicle  "
      ]
     },
     "execution_count": 221,
     "metadata": {},
     "output_type": "execute_result"
    }
   ],
   "source": [
    "chapters = pd.DataFrame({'number': ch_nos, 'title': ch_titles, 'text': ch_texts})\n",
    "chapters['fstop_indices'] = chapters['text'].apply(lambda x: fs_indexer(x))\n",
    "chapters.dropna(inplace=True)\n",
    "chapters['split_indices'] = chapters['text'].apply(lambda x: split_indexer(x))\n",
    "chapters.dropna(inplace=True)\n",
    "chapters['chunks'] = chapters['text'].apply(lambda x: text_chunker(x))\n",
    "chapters['translator'] = 'Jay Rubin'\n",
    "chapters['book_title'] = 'The Wind Up Bird Chronicle'\n",
    "chapters.head(5)"
   ]
  },
  {
   "cell_type": "code",
   "execution_count": 222,
   "metadata": {
    "ExecuteTime": {
     "end_time": "2020-06-13T14:20:27.458674Z",
     "start_time": "2020-06-13T14:20:27.158387Z"
    }
   },
   "outputs": [
    {
     "data": {
      "image/png": "[encoded data removed]",
      "text/plain": [
       "<Figure size 432x288 with 1 Axes>"
      ]
     },
     "metadata": {
      "image/png": {
       "height": 256,
       "width": 386
      }
     },
     "output_type": "display_data"
    }
   ],
   "source": [
    "lengths = []\n",
    "for chapter in chapters['chunks']:\n",
    "    for chunk in chapter:\n",
    "        lengths.append(len(chunk))\n",
    "plt.hist(lengths, bins=20);"
   ]
  },
  {
   "cell_type": "code",
   "execution_count": 223,
   "metadata": {
    "ExecuteTime": {
     "end_time": "2020-06-13T14:20:27.472372Z",
     "start_time": "2020-06-13T14:20:27.463089Z"
    }
   },
   "outputs": [],
   "source": [
    "out_path = '../../../../Documents/murakami/pkl2/'\n",
    "out_name = 'wubc_rubin_v01'\n",
    "out_full_path = out_path + out_name + '.pkl'"
   ]
  },
  {
   "cell_type": "code",
   "execution_count": 224,
   "metadata": {
    "ExecuteTime": {
     "end_time": "2020-06-13T14:20:27.503297Z",
     "start_time": "2020-06-13T14:20:27.476778Z"
    }
   },
   "outputs": [],
   "source": [
    "# save pickle\n",
    "with open(out_full_path, 'wb') as fp:\n",
    "    pickle.dump(chapters, fp)\n",
    "\n",
    "\n",
    "# # read back pickle\n",
    "# with open (out_full_path, 'rb') as fp:\n",
    "#     read_wubc = pickle.load(fp)"
   ]
  },
  {
   "cell_type": "code",
   "execution_count": 225,
   "metadata": {
    "ExecuteTime": {
     "end_time": "2020-06-13T14:20:27.517672Z",
     "start_time": "2020-06-13T14:20:27.506803Z"
    }
   },
   "outputs": [],
   "source": [
    "# read_wubc"
   ]
  },
  {
   "cell_type": "markdown",
   "metadata": {},
   "source": [
    "### Initial cleaning and preparation of 'Norwegian Wood' Text"
   ]
  },
  {
   "cell_type": "code",
   "execution_count": 226,
   "metadata": {
    "ExecuteTime": {
     "end_time": "2020-06-13T14:20:27.536685Z",
     "start_time": "2020-06-13T14:20:27.523198Z"
    }
   },
   "outputs": [],
   "source": [
    "nw = books['full_text'].iloc[1]"
   ]
  },
  {
   "cell_type": "code",
   "execution_count": 227,
   "metadata": {
    "ExecuteTime": {
     "end_time": "2020-06-13T14:20:27.554321Z",
     "start_time": "2020-06-13T14:20:27.540349Z"
    }
   },
   "outputs": [],
   "source": [
    "nw = nw[1:3]"
   ]
  },
  {
   "cell_type": "code",
   "execution_count": 228,
   "metadata": {
    "ExecuteTime": {
     "end_time": "2020-06-13T14:20:27.569592Z",
     "start_time": "2020-06-13T14:20:27.557606Z"
    }
   },
   "outputs": [],
   "source": [
    "nw_main1 = nw[0].split('subsequent purchaser ')[1]\n",
    "nw_main2 = nw[1]\n",
    "nw_main2 = nw_main2.split(' TRANSLATOR’S NOTE ')[0]"
   ]
  },
  {
   "cell_type": "code",
   "execution_count": null,
   "metadata": {},
   "outputs": [],
   "source": []
  },
  {
   "cell_type": "code",
   "execution_count": 229,
   "metadata": {
    "ExecuteTime": {
     "end_time": "2020-06-13T14:20:28.330120Z",
     "start_time": "2020-06-13T14:20:27.574660Z"
    }
   },
   "outputs": [
    {
     "data": {
      "text/html": [
       "<div>\n",
       "<style scoped>\n",
       "    .dataframe tbody tr th:only-of-type {\n",
       "        vertical-align: middle;\n",
       "    }\n",
       "\n",
       "    .dataframe tbody tr th {\n",
       "        vertical-align: top;\n",
       "    }\n",
       "\n",
       "    .dataframe thead th {\n",
       "        text-align: right;\n",
       "    }\n",
       "</style>\n",
       "<table border=\"1\" class=\"dataframe\">\n",
       "  <thead>\n",
       "    <tr style=\"text-align: right;\">\n",
       "      <th></th>\n",
       "      <th>number</th>\n",
       "      <th>title</th>\n",
       "      <th>text</th>\n",
       "      <th>fstop_indices</th>\n",
       "      <th>split_indices</th>\n",
       "      <th>chunks</th>\n",
       "      <th>translator</th>\n",
       "      <th>book_title</th>\n",
       "    </tr>\n",
       "  </thead>\n",
       "  <tbody>\n",
       "    <tr>\n",
       "      <th>0</th>\n",
       "      <td>1</td>\n",
       "      <td>Book 1</td>\n",
       "      <td>I was 37 then, strapped in my seat as the huge...</td>\n",
       "      <td>[115, 300, 320, 473, 569, 643, 734, 761, 794, ...</td>\n",
       "      <td>[868, 1999, 2992, 3970, 4862, 5962, 6988, 7972...</td>\n",
       "      <td>[I was 37 then, strapped in my seat as the hug...</td>\n",
       "      <td>Jay Rubin</td>\n",
       "      <td>Norwegian Wood</td>\n",
       "    </tr>\n",
       "    <tr>\n",
       "      <th>1</th>\n",
       "      <td>2</td>\n",
       "      <td>Book 2</td>\n",
       "      <td>m\\n \\nsf Thanks for your letter,\\n wrote Naoko...</td>\n",
       "      <td>[43, 88, 213, 296, 343, 376, 480, 632, 695, 74...</td>\n",
       "      <td>[924, 1926, 2925, 3997, 4861, 5754, 6924, 7914...</td>\n",
       "      <td>[m\\n \\nsf Thanks for your letter,\\n wrote Naok...</td>\n",
       "      <td>Jay Rubin</td>\n",
       "      <td>Norwegian Wood</td>\n",
       "    </tr>\n",
       "  </tbody>\n",
       "</table>\n",
       "</div>"
      ],
      "text/plain": [
       "   number   title                                               text  \\\n",
       "0       1  Book 1  I was 37 then, strapped in my seat as the huge...   \n",
       "1       2  Book 2  m\\n \\nsf Thanks for your letter,\\n wrote Naoko...   \n",
       "\n",
       "                                       fstop_indices  \\\n",
       "0  [115, 300, 320, 473, 569, 643, 734, 761, 794, ...   \n",
       "1  [43, 88, 213, 296, 343, 376, 480, 632, 695, 74...   \n",
       "\n",
       "                                       split_indices  \\\n",
       "0  [868, 1999, 2992, 3970, 4862, 5962, 6988, 7972...   \n",
       "1  [924, 1926, 2925, 3997, 4861, 5754, 6924, 7914...   \n",
       "\n",
       "                                              chunks translator  \\\n",
       "0  [I was 37 then, strapped in my seat as the hug...  Jay Rubin   \n",
       "1  [m\\n \\nsf Thanks for your letter,\\n wrote Naok...  Jay Rubin   \n",
       "\n",
       "       book_title  \n",
       "0  Norwegian Wood  \n",
       "1  Norwegian Wood  "
      ]
     },
     "execution_count": 229,
     "metadata": {},
     "output_type": "execute_result"
    }
   ],
   "source": [
    "chapters = pd.DataFrame({'number': [1,2], 'title': ['Book 1', 'Book 2'], 'text': [nw_main1, nw_main2]})\n",
    "chapters['fstop_indices'] = chapters['text'].apply(lambda x: fs_indexer(x))\n",
    "chapters.dropna(inplace=True)\n",
    "chapters['split_indices'] = chapters['text'].apply(lambda x: split_indexer(x))\n",
    "chapters.dropna(inplace=True)\n",
    "chapters['chunks'] = chapters['text'].apply(lambda x: text_chunker(x))\n",
    "chapters['translator'] = 'Jay Rubin'\n",
    "chapters['book_title'] = 'Norwegian Wood'\n",
    "chapters.head()"
   ]
  },
  {
   "cell_type": "code",
   "execution_count": 230,
   "metadata": {
    "ExecuteTime": {
     "end_time": "2020-06-13T14:20:29.064188Z",
     "start_time": "2020-06-13T14:20:28.342681Z"
    }
   },
   "outputs": [
    {
     "data": {
      "image/png": "[encoded data removed]",
      "text/plain": [
       "<Figure size 432x288 with 1 Axes>"
      ]
     },
     "metadata": {
      "image/png": {
       "height": 256,
       "width": 404
      }
     },
     "output_type": "display_data"
    }
   ],
   "source": [
    "lengths = []\n",
    "for chapter in chapters['chunks']:\n",
    "    for chunk in chapter:\n",
    "        lengths.append(len(chunk))\n",
    "plt.hist(lengths, bins=20);"
   ]
  },
  {
   "cell_type": "code",
   "execution_count": 231,
   "metadata": {
    "ExecuteTime": {
     "end_time": "2020-06-13T14:20:29.086270Z",
     "start_time": "2020-06-13T14:20:29.073089Z"
    }
   },
   "outputs": [
    {
     "data": {
      "text/plain": [
       "632"
      ]
     },
     "execution_count": 231,
     "metadata": {},
     "output_type": "execute_result"
    }
   ],
   "source": [
    "len(lengths)"
   ]
  },
  {
   "cell_type": "code",
   "execution_count": 232,
   "metadata": {
    "ExecuteTime": {
     "end_time": "2020-06-13T14:20:29.110313Z",
     "start_time": "2020-06-13T14:20:29.090042Z"
    }
   },
   "outputs": [],
   "source": [
    "out_path = '../../../../Documents/murakami/pkl2/'\n",
    "out_name = 'nw_rubin_v01'\n",
    "out_full_path = out_path + out_name + '.pkl'"
   ]
  },
  {
   "cell_type": "code",
   "execution_count": 233,
   "metadata": {
    "ExecuteTime": {
     "end_time": "2020-06-13T14:20:29.139008Z",
     "start_time": "2020-06-13T14:20:29.122046Z"
    }
   },
   "outputs": [],
   "source": [
    "# save pickle\n",
    "with open(out_full_path, 'wb') as fp:\n",
    "    pickle.dump(chapters, fp)\n",
    "\n",
    "\n",
    "# # read back pickle\n",
    "# with open (out_full_path, 'rb') as fp:\n",
    "#     read_nw = pickle.load(fp)"
   ]
  },
  {
   "cell_type": "markdown",
   "metadata": {},
   "source": [
    "### Initial cleaning and preparation of 'Norwegian Wood' - Birnbaum Translation Text"
   ]
  },
  {
   "cell_type": "code",
   "execution_count": 235,
   "metadata": {
    "ExecuteTime": {
     "end_time": "2020-06-13T14:20:29.177460Z",
     "start_time": "2020-06-13T14:20:29.166866Z"
    }
   },
   "outputs": [],
   "source": [
    "nw_b = books['full_text'].iloc[6]"
   ]
  },
  {
   "cell_type": "code",
   "execution_count": 236,
   "metadata": {
    "ExecuteTime": {
     "end_time": "2020-06-13T14:20:29.207775Z",
     "start_time": "2020-06-13T14:20:29.188629Z"
    }
   },
   "outputs": [
    {
     "data": {
      "text/plain": [
       "298558"
      ]
     },
     "execution_count": 236,
     "metadata": {},
     "output_type": "execute_result"
    }
   ],
   "source": [
    "# nwb is read from a pdf and is a long string\n",
    "len(nw_b)"
   ]
  },
  {
   "cell_type": "code",
   "execution_count": 237,
   "metadata": {
    "ExecuteTime": {
     "end_time": "2020-06-13T14:20:29.223126Z",
     "start_time": "2020-06-13T14:20:29.211869Z"
    }
   },
   "outputs": [],
   "source": [
    "chaps = nw_b.split('CHAPTER ')"
   ]
  },
  {
   "cell_type": "code",
   "execution_count": 238,
   "metadata": {
    "ExecuteTime": {
     "end_time": "2020-06-13T14:20:29.250072Z",
     "start_time": "2020-06-13T14:20:29.227798Z"
    }
   },
   "outputs": [
    {
     "data": {
      "text/plain": [
       "6"
      ]
     },
     "execution_count": 238,
     "metadata": {},
     "output_type": "execute_result"
    }
   ],
   "source": [
    "len(chaps)"
   ]
  },
  {
   "cell_type": "code",
   "execution_count": 239,
   "metadata": {
    "ExecuteTime": {
     "end_time": "2020-06-13T14:20:29.285392Z",
     "start_time": "2020-06-13T14:20:29.255680Z"
    }
   },
   "outputs": [],
   "source": [
    "texts = chaps"
   ]
  },
  {
   "cell_type": "code",
   "execution_count": 240,
   "metadata": {
    "ExecuteTime": {
     "end_time": "2020-06-13T14:20:29.309983Z",
     "start_time": "2020-06-13T14:20:29.293634Z"
    }
   },
   "outputs": [],
   "source": [
    "pattern = re.compile(r'(\\d+) ([\\w\\W]+)')\n",
    "\n",
    "ch_nos = []\n",
    "# ch_titles = []\n",
    "ch_texts = []\n",
    "\n",
    "for t in range(0,len(texts)):\n",
    "    out = re.findall(pattern, texts[t])\n",
    "    if len(out) > 0:\n",
    "        ch_nos.append(out[0][0])\n",
    "#         ch_titles.append(out[0][1])\n",
    "        ch_texts.append(out[0][1])\n",
    "    else:\n",
    "        ch_nos.append(None)\n",
    "#         ch_titles.append(None)\n",
    "        ch_texts.append(None)"
   ]
  },
  {
   "cell_type": "code",
   "execution_count": 241,
   "metadata": {
    "ExecuteTime": {
     "end_time": "2020-06-13T14:20:29.343714Z",
     "start_time": "2020-06-13T14:20:29.316917Z"
    }
   },
   "outputs": [
    {
     "data": {
      "text/html": [
       "<div>\n",
       "<style scoped>\n",
       "    .dataframe tbody tr th:only-of-type {\n",
       "        vertical-align: middle;\n",
       "    }\n",
       "\n",
       "    .dataframe tbody tr th {\n",
       "        vertical-align: top;\n",
       "    }\n",
       "\n",
       "    .dataframe thead th {\n",
       "        text-align: right;\n",
       "    }\n",
       "</style>\n",
       "<table border=\"1\" class=\"dataframe\">\n",
       "  <thead>\n",
       "    <tr style=\"text-align: right;\">\n",
       "      <th></th>\n",
       "      <th>number</th>\n",
       "      <th>title</th>\n",
       "      <th>text</th>\n",
       "    </tr>\n",
       "  </thead>\n",
       "  <tbody>\n",
       "    <tr>\n",
       "      <th>0</th>\n",
       "      <td>6</td>\n",
       "      <td>6</td>\n",
       "      <td>(rontinutd) The scene at dinner was pretty muc...</td>\n",
       "    </tr>\n",
       "    <tr>\n",
       "      <th>1</th>\n",
       "      <td>7</td>\n",
       "      <td>7</td>\n",
       "      <td>The next day I had my Thursday morning gym cla...</td>\n",
       "    </tr>\n",
       "    <tr>\n",
       "      <th>2</th>\n",
       "      <td>8</td>\n",
       "      <td>8</td>\n",
       "      <td>In the middle of the week I cut my hand badly ...</td>\n",
       "    </tr>\n",
       "    <tr>\n",
       "      <th>3</th>\n",
       "      <td>9</td>\n",
       "      <td>9</td>\n",
       "      <td>Midori didn't show for up the following Monday...</td>\n",
       "    </tr>\n",
       "    <tr>\n",
       "      <th>4</th>\n",
       "      <td>10</td>\n",
       "      <td>10</td>\n",
       "      <td>1969 was one hopeless swamp of a year. I felt ...</td>\n",
       "    </tr>\n",
       "    <tr>\n",
       "      <th>5</th>\n",
       "      <td>11</td>\n",
       "      <td>11</td>\n",
       "      <td>Even after Naoko died, Reiko continued to writ...</td>\n",
       "    </tr>\n",
       "  </tbody>\n",
       "</table>\n",
       "</div>"
      ],
      "text/plain": [
       "  number title                                               text\n",
       "0      6     6  (rontinutd) The scene at dinner was pretty muc...\n",
       "1      7     7  The next day I had my Thursday morning gym cla...\n",
       "2      8     8  In the middle of the week I cut my hand badly ...\n",
       "3      9     9  Midori didn't show for up the following Monday...\n",
       "4     10    10  1969 was one hopeless swamp of a year. I felt ...\n",
       "5     11    11  Even after Naoko died, Reiko continued to writ..."
      ]
     },
     "execution_count": 241,
     "metadata": {},
     "output_type": "execute_result"
    }
   ],
   "source": [
    "chapters = pd.DataFrame({'number': ch_nos, 'title': ch_nos, 'text': ch_texts})\n",
    "chapters.head(5)"
   ]
  },
  {
   "cell_type": "code",
   "execution_count": 242,
   "metadata": {
    "ExecuteTime": {
     "end_time": "2020-06-13T14:20:29.361929Z",
     "start_time": "2020-06-13T14:20:29.348845Z"
    }
   },
   "outputs": [],
   "source": [
    "chapters.iloc[0,2] = chapters.iloc[0,2].split('(rontinutd) ')[1]"
   ]
  },
  {
   "cell_type": "code",
   "execution_count": 243,
   "metadata": {
    "ExecuteTime": {
     "end_time": "2020-06-13T14:20:29.422928Z",
     "start_time": "2020-06-13T14:20:29.369392Z"
    }
   },
   "outputs": [],
   "source": [
    "chapters['fstop_indices'] = chapters['text'].apply(lambda x: fs_indexer(x))\n",
    "chapters.dropna(inplace=True)"
   ]
  },
  {
   "cell_type": "code",
   "execution_count": 244,
   "metadata": {
    "ExecuteTime": {
     "end_time": "2020-06-13T14:20:29.575459Z",
     "start_time": "2020-06-13T14:20:29.427288Z"
    }
   },
   "outputs": [],
   "source": [
    "chapters['split_indices'] = chapters['text'].apply(lambda x: split_indexer(x))\n",
    "chapters.dropna(inplace=True)\n",
    "chapters['chunks'] = chapters['text'].apply(lambda x: text_chunker(x))\n",
    "chapters['translator'] = 'Alfred Birnbaum'\n",
    "chapters['book_title'] = 'Norwegian Wood'"
   ]
  },
  {
   "cell_type": "code",
   "execution_count": 245,
   "metadata": {
    "ExecuteTime": {
     "end_time": "2020-06-13T14:20:29.960148Z",
     "start_time": "2020-06-13T14:20:29.579648Z"
    }
   },
   "outputs": [
    {
     "data": {
      "image/png": "[encoded data removed]",
      "text/plain": [
       "<Figure size 432x288 with 1 Axes>"
      ]
     },
     "metadata": {
      "image/png": {
       "height": 256,
       "width": 377
      }
     },
     "output_type": "display_data"
    }
   ],
   "source": [
    "lengths = []\n",
    "for chapter in chapters['chunks']:\n",
    "    for chunk in chapter:\n",
    "        lengths.append(len(chunk))\n",
    "plt.hist(lengths, bins=20);"
   ]
  },
  {
   "cell_type": "code",
   "execution_count": 246,
   "metadata": {
    "ExecuteTime": {
     "end_time": "2020-06-13T14:20:29.975151Z",
     "start_time": "2020-06-13T14:20:29.964493Z"
    }
   },
   "outputs": [
    {
     "data": {
      "text/plain": [
       "296"
      ]
     },
     "execution_count": 246,
     "metadata": {},
     "output_type": "execute_result"
    }
   ],
   "source": [
    "len(lengths)"
   ]
  },
  {
   "cell_type": "code",
   "execution_count": 247,
   "metadata": {
    "ExecuteTime": {
     "end_time": "2020-06-13T14:20:29.995896Z",
     "start_time": "2020-06-13T14:20:29.980400Z"
    }
   },
   "outputs": [],
   "source": [
    "out_path = '../../../../Documents/murakami/pkl2/'\n",
    "out_name = 'nw_birnbaum_v01'\n",
    "out_full_path = out_path + out_name + '.pkl'"
   ]
  },
  {
   "cell_type": "code",
   "execution_count": 248,
   "metadata": {
    "ExecuteTime": {
     "end_time": "2020-06-13T14:20:30.017738Z",
     "start_time": "2020-06-13T14:20:30.003806Z"
    }
   },
   "outputs": [],
   "source": [
    "# save pickle\n",
    "with open(out_full_path, 'wb') as fp:\n",
    "    pickle.dump(chapters, fp)\n",
    "\n",
    "\n",
    "# # read back pickle\n",
    "# with open (out_full_path, 'rb') as fp:\n",
    "#     read_nw = pickle.load(fp)"
   ]
  },
  {
   "cell_type": "markdown",
   "metadata": {},
   "source": [
    "### Initial cleaning and preparation of 'The Elephant Vanishes' Text"
   ]
  },
  {
   "cell_type": "code",
   "execution_count": 250,
   "metadata": {
    "ExecuteTime": {
     "end_time": "2020-06-13T14:20:30.043119Z",
     "start_time": "2020-06-13T14:20:30.036340Z"
    }
   },
   "outputs": [],
   "source": [
    "ev = books['full_text'].iloc[0]"
   ]
  },
  {
   "cell_type": "code",
   "execution_count": 251,
   "metadata": {
    "ExecuteTime": {
     "end_time": "2020-06-13T14:20:30.062767Z",
     "start_time": "2020-06-13T14:20:30.046998Z"
    }
   },
   "outputs": [
    {
     "data": {
      "text/plain": [
       "14"
      ]
     },
     "execution_count": 251,
     "metadata": {},
     "output_type": "execute_result"
    }
   ],
   "source": [
    "# split the full text on triple line break to split into stories\n",
    "# we have 14 stories\n",
    "len(ev.split('\\n\\n\\n'))"
   ]
  },
  {
   "cell_type": "code",
   "execution_count": 252,
   "metadata": {
    "ExecuteTime": {
     "end_time": "2020-06-13T14:20:30.088443Z",
     "start_time": "2020-06-13T14:20:30.079503Z"
    }
   },
   "outputs": [],
   "source": [
    "# split the book into stories on the phrase 'translated by' \n",
    "# then take whatever is after that up to a line break\n",
    "trans_list = []\n",
    "for story in ev.split('\\n\\n\\n'):\n",
    "    trans_list.append(story.split('translated by')[1].split('\\n')[0])"
   ]
  },
  {
   "cell_type": "code",
   "execution_count": 253,
   "metadata": {
    "ExecuteTime": {
     "end_time": "2020-06-13T14:20:30.107292Z",
     "start_time": "2020-06-13T14:20:30.092132Z"
    }
   },
   "outputs": [
    {
     "data": {
      "text/plain": [
       "[' Alfred Birnbaum',\n",
       " ' Jay Rubin',\n",
       " ' Alfred Birnbaum',\n",
       " ' Jay Rubin',\n",
       " ' Alfred Birnbaum',\n",
       " ' Alfred Birnbaum',\n",
       " ' Alfred Birnbaum',\n",
       " ' Jay Rubin',\n",
       " ' Alfred Birnbaum',\n",
       " ' Alfred Birnbaum',\n",
       " ' Jay Rubin',\n",
       " ' Alfred Birnbaum',\n",
       " ' Alfred Birnbaum',\n",
       " ' Jay Rubin']"
      ]
     },
     "execution_count": 253,
     "metadata": {},
     "output_type": "execute_result"
    }
   ],
   "source": [
    "trans_list"
   ]
  },
  {
   "cell_type": "code",
   "execution_count": 254,
   "metadata": {
    "ExecuteTime": {
     "end_time": "2020-06-13T14:20:30.124053Z",
     "start_time": "2020-06-13T14:20:30.115900Z"
    }
   },
   "outputs": [],
   "source": [
    "ch_texts = ev.split('\\n\\n\\n')"
   ]
  },
  {
   "cell_type": "code",
   "execution_count": 255,
   "metadata": {
    "ExecuteTime": {
     "end_time": "2020-06-13T14:20:30.135205Z",
     "start_time": "2020-06-13T14:20:30.128416Z"
    }
   },
   "outputs": [],
   "source": [
    "ch_nos = [i+1 for i in range(len(ch_texts))]"
   ]
  },
  {
   "cell_type": "code",
   "execution_count": 256,
   "metadata": {
    "ExecuteTime": {
     "end_time": "2020-06-13T14:20:30.168939Z",
     "start_time": "2020-06-13T14:20:30.143433Z"
    }
   },
   "outputs": [
    {
     "data": {
      "text/html": [
       "<div>\n",
       "<style scoped>\n",
       "    .dataframe tbody tr th:only-of-type {\n",
       "        vertical-align: middle;\n",
       "    }\n",
       "\n",
       "    .dataframe tbody tr th {\n",
       "        vertical-align: top;\n",
       "    }\n",
       "\n",
       "    .dataframe thead th {\n",
       "        text-align: right;\n",
       "    }\n",
       "</style>\n",
       "<table border=\"1\" class=\"dataframe\">\n",
       "  <thead>\n",
       "    <tr style=\"text-align: right;\">\n",
       "      <th></th>\n",
       "      <th>number</th>\n",
       "      <th>title</th>\n",
       "      <th>text</th>\n",
       "    </tr>\n",
       "  </thead>\n",
       "  <tbody>\n",
       "    <tr>\n",
       "      <th>0</th>\n",
       "      <td>1</td>\n",
       "      <td>1</td>\n",
       "      <td>I’M IN THE kitchen cooking spaghetti when the ...</td>\n",
       "    </tr>\n",
       "    <tr>\n",
       "      <th>1</th>\n",
       "      <td>2</td>\n",
       "      <td>2</td>\n",
       "      <td>I’M STILL NOT sure I made the right choice whe...</td>\n",
       "    </tr>\n",
       "    <tr>\n",
       "      <th>2</th>\n",
       "      <td>3</td>\n",
       "      <td>3</td>\n",
       "      <td>SAY HEY, HOW’S tricks?\\nThis morning, I paid a...</td>\n",
       "    </tr>\n",
       "    <tr>\n",
       "      <th>3</th>\n",
       "      <td>4</td>\n",
       "      <td>4</td>\n",
       "      <td>ONE BEAUTIFUL APRIL morning, on a narrow side ...</td>\n",
       "    </tr>\n",
       "    <tr>\n",
       "      <th>4</th>\n",
       "      <td>5</td>\n",
       "      <td>5</td>\n",
       "      <td>1.\\nTHE FALL\\nOF THE\\nROMAN EMPIRE\\nI FIRST NO...</td>\n",
       "    </tr>\n",
       "    <tr>\n",
       "      <th>5</th>\n",
       "      <td>6</td>\n",
       "      <td>6</td>\n",
       "      <td>\\n“MOTHER DUMPED MY Father,” a friend of my wi...</td>\n",
       "    </tr>\n",
       "    <tr>\n",
       "      <th>6</th>\n",
       "      <td>7</td>\n",
       "      <td>7</td>\n",
       "      <td>I MET HER at the wedding party of an acquainta...</td>\n",
       "    </tr>\n",
       "    <tr>\n",
       "      <th>7</th>\n",
       "      <td>8</td>\n",
       "      <td>8</td>\n",
       "      <td>GREETINGS,\\nThe winter cold diminishes with ea...</td>\n",
       "    </tr>\n",
       "    <tr>\n",
       "      <th>8</th>\n",
       "      <td>9</td>\n",
       "      <td>9</td>\n",
       "      <td>IT WAS SUNDAY evening when the TV People showe...</td>\n",
       "    </tr>\n",
       "    <tr>\n",
       "      <th>9</th>\n",
       "      <td>10</td>\n",
       "      <td>10</td>\n",
       "      <td>WHEN DID I meet my first Chinese?\\nJust like t...</td>\n",
       "    </tr>\n",
       "  </tbody>\n",
       "</table>\n",
       "</div>"
      ],
      "text/plain": [
       "   number  title                                               text\n",
       "0       1      1  I’M IN THE kitchen cooking spaghetti when the ...\n",
       "1       2      2  I’M STILL NOT sure I made the right choice whe...\n",
       "2       3      3  SAY HEY, HOW’S tricks?\\nThis morning, I paid a...\n",
       "3       4      4  ONE BEAUTIFUL APRIL morning, on a narrow side ...\n",
       "4       5      5  1.\\nTHE FALL\\nOF THE\\nROMAN EMPIRE\\nI FIRST NO...\n",
       "5       6      6  \\n“MOTHER DUMPED MY Father,” a friend of my wi...\n",
       "6       7      7  I MET HER at the wedding party of an acquainta...\n",
       "7       8      8  GREETINGS,\\nThe winter cold diminishes with ea...\n",
       "8       9      9  IT WAS SUNDAY evening when the TV People showe...\n",
       "9      10     10  WHEN DID I meet my first Chinese?\\nJust like t..."
      ]
     },
     "execution_count": 256,
     "metadata": {},
     "output_type": "execute_result"
    }
   ],
   "source": [
    "chapters = pd.DataFrame({'number': ch_nos, 'title': ch_nos, 'text': ch_texts})\n",
    "chapters.head()"
   ]
  },
  {
   "cell_type": "code",
   "execution_count": 257,
   "metadata": {
    "ExecuteTime": {
     "end_time": "2020-06-13T14:20:30.236456Z",
     "start_time": "2020-06-13T14:20:30.176387Z"
    }
   },
   "outputs": [],
   "source": [
    "chapters['fstop_indices'] = chapters['text'].apply(lambda x: fs_indexer(x))"
   ]
  },
  {
   "cell_type": "code",
   "execution_count": 258,
   "metadata": {
    "ExecuteTime": {
     "end_time": "2020-06-13T14:20:30.511629Z",
     "start_time": "2020-06-13T14:20:30.240457Z"
    }
   },
   "outputs": [
    {
     "data": {
      "text/html": [
       "<div>\n",
       "<style scoped>\n",
       "    .dataframe tbody tr th:only-of-type {\n",
       "        vertical-align: middle;\n",
       "    }\n",
       "\n",
       "    .dataframe tbody tr th {\n",
       "        vertical-align: top;\n",
       "    }\n",
       "\n",
       "    .dataframe thead th {\n",
       "        text-align: right;\n",
       "    }\n",
       "</style>\n",
       "<table border=\"1\" class=\"dataframe\">\n",
       "  <thead>\n",
       "    <tr style=\"text-align: right;\">\n",
       "      <th></th>\n",
       "      <th>number</th>\n",
       "      <th>title</th>\n",
       "      <th>text</th>\n",
       "      <th>fstop_indices</th>\n",
       "      <th>split_indices</th>\n",
       "      <th>chunks</th>\n",
       "      <th>translator</th>\n",
       "      <th>book_title</th>\n",
       "    </tr>\n",
       "  </thead>\n",
       "  <tbody>\n",
       "    <tr>\n",
       "      <th>0</th>\n",
       "      <td>1</td>\n",
       "      <td>1</td>\n",
       "      <td>I’M IN THE kitchen cooking spaghetti when the ...</td>\n",
       "      <td>[57, 188, 221, 275, 309, 416, 571, 643, 717, 7...</td>\n",
       "      <td>[932, 1991, 2929, 3948, 4981, 5988, 6998, 7953...</td>\n",
       "      <td>[I’M IN THE kitchen cooking spaghetti when the...</td>\n",
       "      <td>Alfred Birnbaum</td>\n",
       "      <td>The Elephant Vanishes</td>\n",
       "    </tr>\n",
       "    <tr>\n",
       "      <th>1</th>\n",
       "      <td>2</td>\n",
       "      <td>2</td>\n",
       "      <td>I’M STILL NOT sure I made the right choice whe...</td>\n",
       "      <td>[86, 150, 228, 311, 326, 334, 426, 568, 632, 6...</td>\n",
       "      <td>[962, 1872, 2949, 3966, 4960, 5996, 6970, 7941...</td>\n",
       "      <td>[I’M STILL NOT sure I made the right choice wh...</td>\n",
       "      <td>Jay Rubin</td>\n",
       "      <td>The Elephant Vanishes</td>\n",
       "    </tr>\n",
       "    <tr>\n",
       "      <th>2</th>\n",
       "      <td>3</td>\n",
       "      <td>3</td>\n",
       "      <td>SAY HEY, HOW’S tricks?\\nThis morning, I paid a...</td>\n",
       "      <td>[84, 141, 180, 259, 306, 334, 354, 389, 431, 4...</td>\n",
       "      <td>[995, 1881, 2973, 3845, 4993, 5979, 6936, 7990...</td>\n",
       "      <td>[SAY HEY, HOW’S tricks?\\nThis morning, I paid ...</td>\n",
       "      <td>Alfred Birnbaum</td>\n",
       "      <td>The Elephant Vanishes</td>\n",
       "    </tr>\n",
       "    <tr>\n",
       "      <th>3</th>\n",
       "      <td>4</td>\n",
       "      <td>4</td>\n",
       "      <td>ONE BEAUTIFUL APRIL morning, on a narrow side ...</td>\n",
       "      <td>[132, 181, 215, 248, 308, 400, 477, 567, 766, ...</td>\n",
       "      <td>[932, 1944, 2993, 3893, 4937, 5947, 6878, 7849...</td>\n",
       "      <td>[ONE BEAUTIFUL APRIL morning, on a narrow side...</td>\n",
       "      <td>Jay Rubin</td>\n",
       "      <td>The Elephant Vanishes</td>\n",
       "    </tr>\n",
       "    <tr>\n",
       "      <th>4</th>\n",
       "      <td>5</td>\n",
       "      <td>5</td>\n",
       "      <td>1.\\nTHE FALL\\nOF THE\\nROMAN EMPIRE\\nI FIRST NO...</td>\n",
       "      <td>[1, 101, 156, 368, 473, 594, 689, 813, 890, 10...</td>\n",
       "      <td>[890, 1983, 2947, 3929, 4953, 5843, 6987, 7888...</td>\n",
       "      <td>[1.\\nTHE FALL\\nOF THE\\nROMAN EMPIRE\\nI FIRST N...</td>\n",
       "      <td>Alfred Birnbaum</td>\n",
       "      <td>The Elephant Vanishes</td>\n",
       "    </tr>\n",
       "  </tbody>\n",
       "</table>\n",
       "</div>"
      ],
      "text/plain": [
       "   number  title                                               text  \\\n",
       "0       1      1  I’M IN THE kitchen cooking spaghetti when the ...   \n",
       "1       2      2  I’M STILL NOT sure I made the right choice whe...   \n",
       "2       3      3  SAY HEY, HOW’S tricks?\\nThis morning, I paid a...   \n",
       "3       4      4  ONE BEAUTIFUL APRIL morning, on a narrow side ...   \n",
       "4       5      5  1.\\nTHE FALL\\nOF THE\\nROMAN EMPIRE\\nI FIRST NO...   \n",
       "\n",
       "                                       fstop_indices  \\\n",
       "0  [57, 188, 221, 275, 309, 416, 571, 643, 717, 7...   \n",
       "1  [86, 150, 228, 311, 326, 334, 426, 568, 632, 6...   \n",
       "2  [84, 141, 180, 259, 306, 334, 354, 389, 431, 4...   \n",
       "3  [132, 181, 215, 248, 308, 400, 477, 567, 766, ...   \n",
       "4  [1, 101, 156, 368, 473, 594, 689, 813, 890, 10...   \n",
       "\n",
       "                                       split_indices  \\\n",
       "0  [932, 1991, 2929, 3948, 4981, 5988, 6998, 7953...   \n",
       "1  [962, 1872, 2949, 3966, 4960, 5996, 6970, 7941...   \n",
       "2  [995, 1881, 2973, 3845, 4993, 5979, 6936, 7990...   \n",
       "3  [932, 1944, 2993, 3893, 4937, 5947, 6878, 7849...   \n",
       "4  [890, 1983, 2947, 3929, 4953, 5843, 6987, 7888...   \n",
       "\n",
       "                                              chunks        translator  \\\n",
       "0  [I’M IN THE kitchen cooking spaghetti when the...   Alfred Birnbaum   \n",
       "1  [I’M STILL NOT sure I made the right choice wh...         Jay Rubin   \n",
       "2  [SAY HEY, HOW’S tricks?\\nThis morning, I paid ...   Alfred Birnbaum   \n",
       "3  [ONE BEAUTIFUL APRIL morning, on a narrow side...         Jay Rubin   \n",
       "4  [1.\\nTHE FALL\\nOF THE\\nROMAN EMPIRE\\nI FIRST N...   Alfred Birnbaum   \n",
       "\n",
       "              book_title  \n",
       "0  The Elephant Vanishes  \n",
       "1  The Elephant Vanishes  \n",
       "2  The Elephant Vanishes  \n",
       "3  The Elephant Vanishes  \n",
       "4  The Elephant Vanishes  "
      ]
     },
     "execution_count": 258,
     "metadata": {},
     "output_type": "execute_result"
    }
   ],
   "source": [
    "chapters.dropna(inplace=True)\n",
    "chapters['split_indices'] = chapters['text'].apply(lambda x: split_indexer(x))\n",
    "chapters.dropna(inplace=True)\n",
    "chapters['chunks'] = chapters['text'].apply(lambda x: text_chunker(x))\n",
    "chapters['translator'] = trans_list\n",
    "chapters['book_title'] = 'The Elephant Vanishes'\n",
    "chapters.head()"
   ]
  },
  {
   "cell_type": "code",
   "execution_count": 259,
   "metadata": {
    "ExecuteTime": {
     "end_time": "2020-06-13T14:20:31.245111Z",
     "start_time": "2020-06-13T14:20:30.518791Z"
    }
   },
   "outputs": [
    {
     "data": {
      "image/png": "[encoded data removed]",
      "text/plain": [
       "<Figure size 432x288 with 1 Axes>"
      ]
     },
     "metadata": {
      "image/png": {
       "height": 256,
       "width": 386
      }
     },
     "output_type": "display_data"
    }
   ],
   "source": [
    "lengths = []\n",
    "for chapter in chapters['chunks']:\n",
    "    for chunk in chapter:\n",
    "        lengths.append(len(chunk))\n",
    "plt.hist(lengths, bins=20);"
   ]
  },
  {
   "cell_type": "code",
   "execution_count": 260,
   "metadata": {
    "ExecuteTime": {
     "end_time": "2020-06-13T14:20:31.274770Z",
     "start_time": "2020-06-13T14:20:31.254547Z"
    }
   },
   "outputs": [
    {
     "data": {
      "text/plain": [
       "537"
      ]
     },
     "execution_count": 260,
     "metadata": {},
     "output_type": "execute_result"
    }
   ],
   "source": [
    "len(lengths)"
   ]
  },
  {
   "cell_type": "code",
   "execution_count": 261,
   "metadata": {
    "ExecuteTime": {
     "end_time": "2020-06-13T14:20:31.295799Z",
     "start_time": "2020-06-13T14:20:31.287515Z"
    }
   },
   "outputs": [],
   "source": [
    "out_path = '../../../../Documents/murakami/pkl2/'\n",
    "out_name = 'ev_birnbaum_rubin_v01'\n",
    "out_full_path = out_path + out_name + '.pkl'"
   ]
  },
  {
   "cell_type": "code",
   "execution_count": 262,
   "metadata": {
    "ExecuteTime": {
     "end_time": "2020-06-13T14:20:31.327952Z",
     "start_time": "2020-06-13T14:20:31.311949Z"
    }
   },
   "outputs": [],
   "source": [
    "# save pickle\n",
    "with open(out_full_path, 'wb') as fp:\n",
    "    pickle.dump(chapters, fp)\n",
    "\n",
    "\n",
    "# # read back pickle\n",
    "# with open (out_full_path, 'rb') as fp:\n",
    "#     read_ev = pickle.load(fp)"
   ]
  }
 ],
 "metadata": {
  "kernelspec": {
   "display_name": "textacy",
   "language": "python",
   "name": "textacy"
  },
  "language_info": {
   "codemirror_mode": {
    "name": "ipython",
    "version": 3
   },
   "file_extension": ".py",
   "mimetype": "text/x-python",
   "name": "python",
   "nbconvert_exporter": "python",
   "pygments_lexer": "ipython3",
   "version": "3.8.2"
  }
 },
 "nbformat": 4,
 "nbformat_minor": 2
}
