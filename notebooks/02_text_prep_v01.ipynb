{
 "cells": [
  {
   "cell_type": "markdown",
   "metadata": {},
   "source": [
    "# <span style=\"color:red\"> Tidy Text For Each Book </span>\n",
    "* read in pickle\n",
    "* split into chapters\n",
    "* run several functions to chunk the text\n",
    "* all in dataframes this time compared to lists in tex_prep_v02"
   ]
  },
  {
   "cell_type": "code",
   "execution_count": 1,
   "metadata": {
    "ExecuteTime": {
     "end_time": "2020-06-01T20:42:09.866616Z",
     "start_time": "2020-06-01T20:42:04.415829Z"
    }
   },
   "outputs": [
    {
     "name": "stderr",
     "output_type": "stream",
     "text": [
      "\n",
      "Bad key \"text.kerning_factor\" on line 4 in\n",
      "/Users/Steven/opt/anaconda3/envs/textacy/lib/python3.8/site-packages/matplotlib/mpl-data/stylelib/_classic_test_patch.mplstyle.\n",
      "You probably need to get an updated matplotlibrc file from\n",
      "https://github.com/matplotlib/matplotlib/blob/v3.1.3/matplotlibrc.template\n",
      "or from the matplotlib source distribution\n"
     ]
    }
   ],
   "source": [
    "import pandas as pd\n",
    "import numpy as np\n",
    "import matplotlib.pyplot as plt\n",
    "import seaborn as sns\n",
    "sns.set(font_scale=1.5)\n",
    "\n",
    "%config InlineBackend.figure_format = 'retina'\n",
    "%matplotlib inline\n",
    "\n",
    "import textacy\n",
    "import re\n",
    "\n",
    "from sklearn.model_selection import train_test_split, cross_val_score\n",
    "from sklearn.preprocessing import StandardScaler\n",
    "from sklearn.linear_model import LogisticRegression\n",
    "from sklearn.metrics import confusion_matrix\n",
    "from vaderSentiment.vaderSentiment import SentimentIntensityAnalyzer"
   ]
  },
  {
   "cell_type": "code",
   "execution_count": 2,
   "metadata": {
    "ExecuteTime": {
     "end_time": "2020-06-01T20:42:09.874265Z",
     "start_time": "2020-06-01T20:42:09.869244Z"
    }
   },
   "outputs": [],
   "source": [
    "import pickle\n",
    "import os"
   ]
  },
  {
   "cell_type": "code",
   "execution_count": 8,
   "metadata": {
    "ExecuteTime": {
     "end_time": "2020-06-01T20:45:00.735373Z",
     "start_time": "2020-06-01T20:45:00.731621Z"
    }
   },
   "outputs": [],
   "source": [
    "raw_texts_dir = '../../../../Documents/murakami/pkl_raw_books/'\n",
    "raw_texts_list = os.listdir(raw_texts_dir)"
   ]
  },
  {
   "cell_type": "code",
   "execution_count": 9,
   "metadata": {
    "ExecuteTime": {
     "end_time": "2020-06-01T20:45:01.303482Z",
     "start_time": "2020-06-01T20:45:01.295876Z"
    }
   },
   "outputs": [
    {
     "data": {
      "text/plain": [
       "['HarukiMurakami_TheElephantVanishes.pkl',\n",
       " 'HarukiMurakami_NorwegianWood.pkl',\n",
       " 'HarukiMurakami_TheWindUpBirdChronicle.pkl',\n",
       " 'HarukiMurakami_AWildSheepChase.pkl',\n",
       " 'HarukiMurakami_KafkaOnTheShore.pkl',\n",
       " 'HarukiMurakami_ColorlessTsukuruTazaki.pkl',\n",
       " 'HarukiMurakami_NorwegianWoodB.pkl',\n",
       " 'HarukiMurakami_DanceDanceDance.pkl']"
      ]
     },
     "execution_count": 9,
     "metadata": {},
     "output_type": "execute_result"
    }
   ],
   "source": [
    "raw_texts_list"
   ]
  },
  {
   "cell_type": "code",
   "execution_count": 10,
   "metadata": {
    "ExecuteTime": {
     "end_time": "2020-06-01T20:45:03.030024Z",
     "start_time": "2020-06-01T20:45:03.020165Z"
    }
   },
   "outputs": [
    {
     "data": {
      "text/plain": [
       "['The Elephant Vanishes',\n",
       " 'Norwegian Wood',\n",
       " 'The Wind Up Bird Chronicle',\n",
       " 'A Wild Sheep Chase',\n",
       " 'Kafka On The Shore',\n",
       " 'Colorless Tsukuru Tazaki',\n",
       " 'Norwegian Wood B',\n",
       " 'Dance Dance Dance']"
      ]
     },
     "execution_count": 10,
     "metadata": {},
     "output_type": "execute_result"
    }
   ],
   "source": [
    "# split the pkl file name on the . and _ and keep the book name\n",
    "titles = [y.split('_')[1] for y in [x.split('.')[0] for x in raw_texts_list]]\n",
    "# insert spaces between the capitalized words in the tiles\n",
    "titles = [re.sub( r\"([A-Z])\", r\" \\1\", z).strip() for z in titles]\n",
    "titles"
   ]
  },
  {
   "cell_type": "code",
   "execution_count": 11,
   "metadata": {
    "ExecuteTime": {
     "end_time": "2020-06-01T20:45:07.126415Z",
     "start_time": "2020-06-01T20:45:07.122747Z"
    }
   },
   "outputs": [],
   "source": [
    "book_dict = {'Title':titles,'Pickle':raw_texts_list}"
   ]
  },
  {
   "cell_type": "code",
   "execution_count": 12,
   "metadata": {
    "ExecuteTime": {
     "end_time": "2020-06-01T20:45:07.585037Z",
     "start_time": "2020-06-01T20:45:07.568985Z"
    }
   },
   "outputs": [
    {
     "data": {
      "text/html": [
       "<div>\n",
       "<style scoped>\n",
       "    .dataframe tbody tr th:only-of-type {\n",
       "        vertical-align: middle;\n",
       "    }\n",
       "\n",
       "    .dataframe tbody tr th {\n",
       "        vertical-align: top;\n",
       "    }\n",
       "\n",
       "    .dataframe thead th {\n",
       "        text-align: right;\n",
       "    }\n",
       "</style>\n",
       "<table border=\"1\" class=\"dataframe\">\n",
       "  <thead>\n",
       "    <tr style=\"text-align: right;\">\n",
       "      <th></th>\n",
       "      <th>Title</th>\n",
       "      <th>Pickle</th>\n",
       "    </tr>\n",
       "  </thead>\n",
       "  <tbody>\n",
       "    <tr>\n",
       "      <th>0</th>\n",
       "      <td>The Elephant Vanishes</td>\n",
       "      <td>HarukiMurakami_TheElephantVanishes.pkl</td>\n",
       "    </tr>\n",
       "    <tr>\n",
       "      <th>1</th>\n",
       "      <td>Norwegian Wood</td>\n",
       "      <td>HarukiMurakami_NorwegianWood.pkl</td>\n",
       "    </tr>\n",
       "    <tr>\n",
       "      <th>2</th>\n",
       "      <td>The Wind Up Bird Chronicle</td>\n",
       "      <td>HarukiMurakami_TheWindUpBirdChronicle.pkl</td>\n",
       "    </tr>\n",
       "    <tr>\n",
       "      <th>3</th>\n",
       "      <td>A Wild Sheep Chase</td>\n",
       "      <td>HarukiMurakami_AWildSheepChase.pkl</td>\n",
       "    </tr>\n",
       "    <tr>\n",
       "      <th>4</th>\n",
       "      <td>Kafka On The Shore</td>\n",
       "      <td>HarukiMurakami_KafkaOnTheShore.pkl</td>\n",
       "    </tr>\n",
       "    <tr>\n",
       "      <th>5</th>\n",
       "      <td>Colorless Tsukuru Tazaki</td>\n",
       "      <td>HarukiMurakami_ColorlessTsukuruTazaki.pkl</td>\n",
       "    </tr>\n",
       "    <tr>\n",
       "      <th>6</th>\n",
       "      <td>Norwegian Wood B</td>\n",
       "      <td>HarukiMurakami_NorwegianWoodB.pkl</td>\n",
       "    </tr>\n",
       "    <tr>\n",
       "      <th>7</th>\n",
       "      <td>Dance Dance Dance</td>\n",
       "      <td>HarukiMurakami_DanceDanceDance.pkl</td>\n",
       "    </tr>\n",
       "  </tbody>\n",
       "</table>\n",
       "</div>"
      ],
      "text/plain": [
       "                        Title                                     Pickle\n",
       "0       The Elephant Vanishes     HarukiMurakami_TheElephantVanishes.pkl\n",
       "1              Norwegian Wood           HarukiMurakami_NorwegianWood.pkl\n",
       "2  The Wind Up Bird Chronicle  HarukiMurakami_TheWindUpBirdChronicle.pkl\n",
       "3          A Wild Sheep Chase         HarukiMurakami_AWildSheepChase.pkl\n",
       "4          Kafka On The Shore         HarukiMurakami_KafkaOnTheShore.pkl\n",
       "5    Colorless Tsukuru Tazaki  HarukiMurakami_ColorlessTsukuruTazaki.pkl\n",
       "6            Norwegian Wood B          HarukiMurakami_NorwegianWoodB.pkl\n",
       "7           Dance Dance Dance         HarukiMurakami_DanceDanceDance.pkl"
      ]
     },
     "execution_count": 12,
     "metadata": {},
     "output_type": "execute_result"
    }
   ],
   "source": [
    "books = pd.DataFrame(book_dict)\n",
    "books"
   ]
  },
  {
   "cell_type": "code",
   "execution_count": 19,
   "metadata": {
    "ExecuteTime": {
     "end_time": "2020-06-01T20:48:13.584286Z",
     "start_time": "2020-06-01T20:48:13.580378Z"
    }
   },
   "outputs": [],
   "source": [
    "def load_pickle(filename):\n",
    "    in_path = raw_texts_dir + filename\n",
    "    with open (in_path, 'rb') as fp:\n",
    "        return pickle.load(fp)"
   ]
  },
  {
   "cell_type": "code",
   "execution_count": 20,
   "metadata": {
    "ExecuteTime": {
     "end_time": "2020-06-01T20:48:14.603802Z",
     "start_time": "2020-06-01T20:48:14.562652Z"
    }
   },
   "outputs": [],
   "source": [
    "books['full_text'] = books['Pickle'].apply(load_pickle)"
   ]
  },
  {
   "cell_type": "code",
   "execution_count": 21,
   "metadata": {
    "ExecuteTime": {
     "end_time": "2020-06-01T20:48:16.593593Z",
     "start_time": "2020-06-01T20:48:16.524507Z"
    }
   },
   "outputs": [
    {
     "data": {
      "text/html": [
       "<div>\n",
       "<style scoped>\n",
       "    .dataframe tbody tr th:only-of-type {\n",
       "        vertical-align: middle;\n",
       "    }\n",
       "\n",
       "    .dataframe tbody tr th {\n",
       "        vertical-align: top;\n",
       "    }\n",
       "\n",
       "    .dataframe thead th {\n",
       "        text-align: right;\n",
       "    }\n",
       "</style>\n",
       "<table border=\"1\" class=\"dataframe\">\n",
       "  <thead>\n",
       "    <tr style=\"text-align: right;\">\n",
       "      <th></th>\n",
       "      <th>Title</th>\n",
       "      <th>Pickle</th>\n",
       "      <th>full_text</th>\n",
       "    </tr>\n",
       "  </thead>\n",
       "  <tbody>\n",
       "    <tr>\n",
       "      <th>0</th>\n",
       "      <td>The Elephant Vanishes</td>\n",
       "      <td>HarukiMurakami_TheElephantVanishes.pkl</td>\n",
       "      <td>I’M IN THE kitchen cooking spaghetti when the ...</td>\n",
       "    </tr>\n",
       "    <tr>\n",
       "      <th>1</th>\n",
       "      <td>Norwegian Wood</td>\n",
       "      <td>HarukiMurakami_NorwegianWood.pkl</td>\n",
       "      <td>[\\n , Haruki Murakami Norwegian Wood This book...</td>\n",
       "    </tr>\n",
       "    <tr>\n",
       "      <th>2</th>\n",
       "      <td>The Wind Up Bird Chronicle</td>\n",
       "      <td>HarukiMurakami_TheWindUpBirdChronicle.pkl</td>\n",
       "      <td>[\\n , \\n , Contents \\n Cover \\n About the Auth...</td>\n",
       "    </tr>\n",
       "    <tr>\n",
       "      <th>3</th>\n",
       "      <td>A Wild Sheep Chase</td>\n",
       "      <td>HarukiMurakami_AWildSheepChase.pkl</td>\n",
       "      <td>[\\n , \\n \\n \\n , Contents \\n Cover \\n About th...</td>\n",
       "    </tr>\n",
       "    <tr>\n",
       "      <th>4</th>\n",
       "      <td>Kafka On The Shore</td>\n",
       "      <td>HarukiMurakami_KafkaOnTheShore.pkl</td>\n",
       "      <td>[Kafka on the Shore \\n Haruki Murakami \\n \\n \\...</td>\n",
       "    </tr>\n",
       "    <tr>\n",
       "      <th>5</th>\n",
       "      <td>Colorless Tsukuru Tazaki</td>\n",
       "      <td>HarukiMurakami_ColorlessTsukuruTazaki.pkl</td>\n",
       "      <td>[\\n , \\n \\n \\n , Contents \\n Cover \\n About th...</td>\n",
       "    </tr>\n",
       "    <tr>\n",
       "      <th>6</th>\n",
       "      <td>Norwegian Wood B</td>\n",
       "      <td>HarukiMurakami_NorwegianWoodB.pkl</td>\n",
       "      <td>C H II P T E R 6 (rontinutd) The scene at dinn...</td>\n",
       "    </tr>\n",
       "    <tr>\n",
       "      <th>7</th>\n",
       "      <td>Dance Dance Dance</td>\n",
       "      <td>HarukiMurakami_DanceDanceDance.pkl</td>\n",
       "      <td>[\\n , \\n \\n \\n , Contents \\n Cover \\n About th...</td>\n",
       "    </tr>\n",
       "  </tbody>\n",
       "</table>\n",
       "</div>"
      ],
      "text/plain": [
       "                        Title                                     Pickle  \\\n",
       "0       The Elephant Vanishes     HarukiMurakami_TheElephantVanishes.pkl   \n",
       "1              Norwegian Wood           HarukiMurakami_NorwegianWood.pkl   \n",
       "2  The Wind Up Bird Chronicle  HarukiMurakami_TheWindUpBirdChronicle.pkl   \n",
       "3          A Wild Sheep Chase         HarukiMurakami_AWildSheepChase.pkl   \n",
       "4          Kafka On The Shore         HarukiMurakami_KafkaOnTheShore.pkl   \n",
       "5    Colorless Tsukuru Tazaki  HarukiMurakami_ColorlessTsukuruTazaki.pkl   \n",
       "6            Norwegian Wood B          HarukiMurakami_NorwegianWoodB.pkl   \n",
       "7           Dance Dance Dance         HarukiMurakami_DanceDanceDance.pkl   \n",
       "\n",
       "                                           full_text  \n",
       "0  I’M IN THE kitchen cooking spaghetti when the ...  \n",
       "1  [\\n , Haruki Murakami Norwegian Wood This book...  \n",
       "2  [\\n , \\n , Contents \\n Cover \\n About the Auth...  \n",
       "3  [\\n , \\n \\n \\n , Contents \\n Cover \\n About th...  \n",
       "4  [Kafka on the Shore \\n Haruki Murakami \\n \\n \\...  \n",
       "5  [\\n , \\n \\n \\n , Contents \\n Cover \\n About th...  \n",
       "6  C H II P T E R 6 (rontinutd) The scene at dinn...  \n",
       "7  [\\n , \\n \\n \\n , Contents \\n Cover \\n About th...  "
      ]
     },
     "execution_count": 21,
     "metadata": {},
     "output_type": "execute_result"
    }
   ],
   "source": [
    "books"
   ]
  },
  {
   "cell_type": "markdown",
   "metadata": {},
   "source": [
    "### Initial cleaning and preparation of 'A Wild Sheep Chase' Text"
   ]
  },
  {
   "cell_type": "code",
   "execution_count": 22,
   "metadata": {
    "ExecuteTime": {
     "end_time": "2020-06-01T20:48:25.006883Z",
     "start_time": "2020-06-01T20:48:25.003138Z"
    }
   },
   "outputs": [],
   "source": [
    "wsc = books['full_text'].iloc[3]"
   ]
  },
  {
   "cell_type": "code",
   "execution_count": 23,
   "metadata": {
    "ExecuteTime": {
     "end_time": "2020-06-01T20:48:26.048492Z",
     "start_time": "2020-06-01T20:48:26.042916Z"
    }
   },
   "outputs": [
    {
     "data": {
      "text/plain": [
       "63"
      ]
     },
     "execution_count": 23,
     "metadata": {},
     "output_type": "execute_result"
    }
   ],
   "source": [
    "# wsc is read from an epub and is a list of texts\n",
    "len(wsc)"
   ]
  },
  {
   "cell_type": "code",
   "execution_count": 24,
   "metadata": {
    "ExecuteTime": {
     "end_time": "2020-06-01T20:48:26.709016Z",
     "start_time": "2020-06-01T20:48:26.702632Z"
    }
   },
   "outputs": [
    {
     "data": {
      "text/plain": [
       "'\\n PART ONE \\n \\n A PRELUDE \\n '"
      ]
     },
     "execution_count": 24,
     "metadata": {},
     "output_type": "execute_result"
    }
   ],
   "source": [
    "wsc[6][:30]"
   ]
  },
  {
   "cell_type": "code",
   "execution_count": 25,
   "metadata": {
    "ExecuteTime": {
     "end_time": "2020-06-01T20:48:28.597152Z",
     "start_time": "2020-06-01T20:48:28.590787Z"
    }
   },
   "outputs": [
    {
     "data": {
      "text/plain": [
       "True"
      ]
     },
     "execution_count": 25,
     "metadata": {},
     "output_type": "execute_result"
    }
   ],
   "source": [
    "wsc[6].startswith('\\n PART')"
   ]
  },
  {
   "cell_type": "code",
   "execution_count": 26,
   "metadata": {
    "ExecuteTime": {
     "end_time": "2020-06-01T20:48:32.740300Z",
     "start_time": "2020-06-01T20:48:32.735135Z"
    }
   },
   "outputs": [],
   "source": [
    "# loop through the sections from 6 to 57 which contain the main body of the work\n",
    "# the book is split into parts and we seperate the part headers from the main text\n",
    "part_headers = []\n",
    "texts = []\n",
    "for i, section in enumerate(wsc[6:58]):\n",
    "    if section.startswith('\\n PART'):\n",
    "        part_headers.append(section)\n",
    "    else:\n",
    "        texts.append(section)"
   ]
  },
  {
   "cell_type": "code",
   "execution_count": 27,
   "metadata": {
    "ExecuteTime": {
     "end_time": "2020-06-01T20:48:33.865296Z",
     "start_time": "2020-06-01T20:48:33.851062Z"
    }
   },
   "outputs": [],
   "source": [
    "# regex pattern to extract chapter number, title and main text from a complete chapter\n",
    "pattern = re.compile(r'\\n ([\\d\\w]+) \\n \\n ([^\\n]+) \\n ([\\w\\W]+)')\n",
    "\n",
    "ch_nos = []\n",
    "ch_titles = []\n",
    "ch_texts = []\n",
    "ireg_ch = []\n",
    "\n",
    "for t in range(0,len(texts)):\n",
    "#     print(t)\n",
    "    out = re.findall(pattern, texts[t])\n",
    "    if len(out) > 0:\n",
    "        ch_nos.append(out[0][0])\n",
    "        ch_titles.append(out[0][1])\n",
    "        ch_texts.append(out[0][2])\n",
    "    else:\n",
    "        ireg_ch.append(texts[t])"
   ]
  },
  {
   "cell_type": "code",
   "execution_count": 28,
   "metadata": {
    "ExecuteTime": {
     "end_time": "2020-06-01T20:48:34.448550Z",
     "start_time": "2020-06-01T20:48:34.433311Z"
    }
   },
   "outputs": [
    {
     "data": {
      "text/plain": [
       "0"
      ]
     },
     "execution_count": 28,
     "metadata": {},
     "output_type": "execute_result"
    }
   ],
   "source": [
    "len(ireg_ch)"
   ]
  },
  {
   "cell_type": "code",
   "execution_count": 29,
   "metadata": {
    "ExecuteTime": {
     "end_time": "2020-06-01T20:48:36.447816Z",
     "start_time": "2020-06-01T20:48:36.435426Z"
    }
   },
   "outputs": [
    {
     "data": {
      "text/html": [
       "<div>\n",
       "<style scoped>\n",
       "    .dataframe tbody tr th:only-of-type {\n",
       "        vertical-align: middle;\n",
       "    }\n",
       "\n",
       "    .dataframe tbody tr th {\n",
       "        vertical-align: top;\n",
       "    }\n",
       "\n",
       "    .dataframe thead th {\n",
       "        text-align: right;\n",
       "    }\n",
       "</style>\n",
       "<table border=\"1\" class=\"dataframe\">\n",
       "  <thead>\n",
       "    <tr style=\"text-align: right;\">\n",
       "      <th></th>\n",
       "      <th>number</th>\n",
       "      <th>title</th>\n",
       "      <th>text</th>\n",
       "    </tr>\n",
       "  </thead>\n",
       "  <tbody>\n",
       "    <tr>\n",
       "      <th>0</th>\n",
       "      <td>1</td>\n",
       "      <td>Wednesday Afternoon Picnic</td>\n",
       "      <td>IT WAS A  short one-paragraph item in the morn...</td>\n",
       "    </tr>\n",
       "    <tr>\n",
       "      <th>1</th>\n",
       "      <td>2</td>\n",
       "      <td>Sixteen Steps</td>\n",
       "      <td>I WAITED FOR  the compressed-air hiss of the e...</td>\n",
       "    </tr>\n",
       "    <tr>\n",
       "      <th>2</th>\n",
       "      <td>3</td>\n",
       "      <td>The Slip</td>\n",
       "      <td>ONCE SHE WAS  gone, I downed another cola, the...</td>\n",
       "    </tr>\n",
       "    <tr>\n",
       "      <th>3</th>\n",
       "      <td>4</td>\n",
       "      <td>The Whale’s Penis and the Woman with Three Occ...</td>\n",
       "      <td>TO SLEEP WITH  a woman: it can seem of the utm...</td>\n",
       "    </tr>\n",
       "    <tr>\n",
       "      <th>4</th>\n",
       "      <td>5</td>\n",
       "      <td>Unblocked Ears</td>\n",
       "      <td>“ SEE WHAT I  mean?”  she said. \\n She’d becom...</td>\n",
       "    </tr>\n",
       "  </tbody>\n",
       "</table>\n",
       "</div>"
      ],
      "text/plain": [
       "  number                                              title  \\\n",
       "0      1                         Wednesday Afternoon Picnic   \n",
       "1      2                                      Sixteen Steps   \n",
       "2      3                                           The Slip   \n",
       "3      4  The Whale’s Penis and the Woman with Three Occ...   \n",
       "4      5                                     Unblocked Ears   \n",
       "\n",
       "                                                text  \n",
       "0  IT WAS A  short one-paragraph item in the morn...  \n",
       "1  I WAITED FOR  the compressed-air hiss of the e...  \n",
       "2  ONCE SHE WAS  gone, I downed another cola, the...  \n",
       "3  TO SLEEP WITH  a woman: it can seem of the utm...  \n",
       "4  “ SEE WHAT I  mean?”  she said. \\n She’d becom...  "
      ]
     },
     "execution_count": 29,
     "metadata": {},
     "output_type": "execute_result"
    }
   ],
   "source": [
    "chapters = pd.DataFrame({'number': ch_nos, 'title': ch_titles, 'text': ch_texts})\n",
    "chapters.head()"
   ]
  },
  {
   "cell_type": "code",
   "execution_count": 30,
   "metadata": {
    "ExecuteTime": {
     "end_time": "2020-06-01T20:48:39.910070Z",
     "start_time": "2020-06-01T20:48:39.905995Z"
    }
   },
   "outputs": [],
   "source": [
    "# function to find indices of full stops in a text\n",
    "def fs_indexer(x):\n",
    "    return [i for i, char in enumerate(x) if char == \".\"]"
   ]
  },
  {
   "cell_type": "code",
   "execution_count": 31,
   "metadata": {
    "ExecuteTime": {
     "end_time": "2020-06-01T20:48:40.906220Z",
     "start_time": "2020-06-01T20:48:40.860736Z"
    }
   },
   "outputs": [],
   "source": [
    "chapters['fstop_indices'] = chapters['text'].apply(lambda x: fs_indexer(x))"
   ]
  },
  {
   "cell_type": "code",
   "execution_count": 32,
   "metadata": {
    "ExecuteTime": {
     "end_time": "2020-06-01T20:48:41.694548Z",
     "start_time": "2020-06-01T20:48:41.676007Z"
    }
   },
   "outputs": [
    {
     "data": {
      "text/html": [
       "<div>\n",
       "<style scoped>\n",
       "    .dataframe tbody tr th:only-of-type {\n",
       "        vertical-align: middle;\n",
       "    }\n",
       "\n",
       "    .dataframe tbody tr th {\n",
       "        vertical-align: top;\n",
       "    }\n",
       "\n",
       "    .dataframe thead th {\n",
       "        text-align: right;\n",
       "    }\n",
       "</style>\n",
       "<table border=\"1\" class=\"dataframe\">\n",
       "  <thead>\n",
       "    <tr style=\"text-align: right;\">\n",
       "      <th></th>\n",
       "      <th>number</th>\n",
       "      <th>title</th>\n",
       "      <th>text</th>\n",
       "      <th>fstop_indices</th>\n",
       "    </tr>\n",
       "  </thead>\n",
       "  <tbody>\n",
       "    <tr>\n",
       "      <th>0</th>\n",
       "      <td>1</td>\n",
       "      <td>Wednesday Afternoon Picnic</td>\n",
       "      <td>IT WAS A  short one-paragraph item in the morn...</td>\n",
       "      <td>[57, 97, 115, 196, 318, 385, 420, 445, 504, 65...</td>\n",
       "    </tr>\n",
       "    <tr>\n",
       "      <th>1</th>\n",
       "      <td>2</td>\n",
       "      <td>Sixteen Steps</td>\n",
       "      <td>I WAITED FOR  the compressed-air hiss of the e...</td>\n",
       "      <td>[101, 215, 252, 271, 338, 413, 468, 625, 706, ...</td>\n",
       "    </tr>\n",
       "    <tr>\n",
       "      <th>2</th>\n",
       "      <td>3</td>\n",
       "      <td>The Slip</td>\n",
       "      <td>ONCE SHE WAS  gone, I downed another cola, the...</td>\n",
       "      <td>[76, 157, 246, 302, 371, 507, 543, 627, 699, 8...</td>\n",
       "    </tr>\n",
       "    <tr>\n",
       "      <th>3</th>\n",
       "      <td>4</td>\n",
       "      <td>The Whale’s Penis and the Woman with Three Occ...</td>\n",
       "      <td>TO SLEEP WITH  a woman: it can seem of the utm...</td>\n",
       "      <td>[125, 229, 420, 514, 598, 686, 788, 874, 937, ...</td>\n",
       "    </tr>\n",
       "    <tr>\n",
       "      <th>4</th>\n",
       "      <td>5</td>\n",
       "      <td>Unblocked Ears</td>\n",
       "      <td>“ SEE WHAT I  mean?”  she said. \\n She’d becom...</td>\n",
       "      <td>[30, 84, 129, 178, 243, 314, 382, 481, 541, 56...</td>\n",
       "    </tr>\n",
       "  </tbody>\n",
       "</table>\n",
       "</div>"
      ],
      "text/plain": [
       "  number                                              title  \\\n",
       "0      1                         Wednesday Afternoon Picnic   \n",
       "1      2                                      Sixteen Steps   \n",
       "2      3                                           The Slip   \n",
       "3      4  The Whale’s Penis and the Woman with Three Occ...   \n",
       "4      5                                     Unblocked Ears   \n",
       "\n",
       "                                                text  \\\n",
       "0  IT WAS A  short one-paragraph item in the morn...   \n",
       "1  I WAITED FOR  the compressed-air hiss of the e...   \n",
       "2  ONCE SHE WAS  gone, I downed another cola, the...   \n",
       "3  TO SLEEP WITH  a woman: it can seem of the utm...   \n",
       "4  “ SEE WHAT I  mean?”  she said. \\n She’d becom...   \n",
       "\n",
       "                                       fstop_indices  \n",
       "0  [57, 97, 115, 196, 318, 385, 420, 445, 504, 65...  \n",
       "1  [101, 215, 252, 271, 338, 413, 468, 625, 706, ...  \n",
       "2  [76, 157, 246, 302, 371, 507, 543, 627, 699, 8...  \n",
       "3  [125, 229, 420, 514, 598, 686, 788, 874, 937, ...  \n",
       "4  [30, 84, 129, 178, 243, 314, 382, 481, 541, 56...  "
      ]
     },
     "execution_count": 32,
     "metadata": {},
     "output_type": "execute_result"
    }
   ],
   "source": [
    "chapters.head()"
   ]
  },
  {
   "cell_type": "code",
   "execution_count": 33,
   "metadata": {
    "ExecuteTime": {
     "end_time": "2020-06-01T20:48:42.700157Z",
     "start_time": "2020-06-01T20:48:42.692481Z"
    }
   },
   "outputs": [],
   "source": [
    "# function to find indices of full stops in a text\n",
    "def split_indexer(text, n=1000):\n",
    "    fstop_indices = fs_indexer(text)\n",
    "    split_indices = []\n",
    "    try:\n",
    "        for j in range(n, len(text), n):\n",
    "            i = 0\n",
    "    # keep going through the indices while less than the 1000 step\n",
    "            while fstop_indices[i] < j:\n",
    "                i += 1\n",
    "    # append list with the index of the full stop before the 1000 step\n",
    "            split_indices.append(fstop_indices[i-1])\n",
    "    except:\n",
    "        split_indices = np.NaN\n",
    "    return split_indices"
   ]
  },
  {
   "cell_type": "code",
   "execution_count": 34,
   "metadata": {
    "ExecuteTime": {
     "end_time": "2020-06-01T20:48:44.856423Z",
     "start_time": "2020-06-01T20:48:44.801026Z"
    }
   },
   "outputs": [],
   "source": [
    "# # function to find indices of full stops in a text\n",
    "# def split_indexer(text, n=1000):\n",
    "#     fstop_indices = fs_indexer(text)\n",
    "#     split_indices = []\n",
    "#     for j in range(n, len(text), n):\n",
    "#         i = 0\n",
    "# # keep going through the indices while less than the 1000 step\n",
    "#         while fstop_indices[i] < j:\n",
    "#             i += 1\n",
    "# # append list with the index of the full stop before the 1000 step\n",
    "#         split_indices.append(fstop_indices[i-1])\n",
    "#     return split_indices"
   ]
  },
  {
   "cell_type": "code",
   "execution_count": 35,
   "metadata": {
    "ExecuteTime": {
     "end_time": "2020-06-01T20:48:45.423678Z",
     "start_time": "2020-06-01T20:48:45.377491Z"
    }
   },
   "outputs": [],
   "source": [
    "chapters['split_indices'] = chapters['text'].apply(lambda x: split_indexer(x))"
   ]
  },
  {
   "cell_type": "code",
   "execution_count": 36,
   "metadata": {
    "ExecuteTime": {
     "end_time": "2020-06-01T20:48:46.248803Z",
     "start_time": "2020-06-01T20:48:46.228505Z"
    }
   },
   "outputs": [
    {
     "data": {
      "text/html": [
       "<div>\n",
       "<style scoped>\n",
       "    .dataframe tbody tr th:only-of-type {\n",
       "        vertical-align: middle;\n",
       "    }\n",
       "\n",
       "    .dataframe tbody tr th {\n",
       "        vertical-align: top;\n",
       "    }\n",
       "\n",
       "    .dataframe thead th {\n",
       "        text-align: right;\n",
       "    }\n",
       "</style>\n",
       "<table border=\"1\" class=\"dataframe\">\n",
       "  <thead>\n",
       "    <tr style=\"text-align: right;\">\n",
       "      <th></th>\n",
       "      <th>number</th>\n",
       "      <th>title</th>\n",
       "      <th>text</th>\n",
       "      <th>fstop_indices</th>\n",
       "      <th>split_indices</th>\n",
       "    </tr>\n",
       "  </thead>\n",
       "  <tbody>\n",
       "    <tr>\n",
       "      <th>0</th>\n",
       "      <td>1</td>\n",
       "      <td>Wednesday Afternoon Picnic</td>\n",
       "      <td>IT WAS A  short one-paragraph item in the morn...</td>\n",
       "      <td>[57, 97, 115, 196, 318, 385, 420, 445, 504, 65...</td>\n",
       "      <td>[967, 1924, 2998, 3982, 4935, 5975, 6995, 7961...</td>\n",
       "    </tr>\n",
       "    <tr>\n",
       "      <th>1</th>\n",
       "      <td>2</td>\n",
       "      <td>Sixteen Steps</td>\n",
       "      <td>I WAITED FOR  the compressed-air hiss of the e...</td>\n",
       "      <td>[101, 215, 252, 271, 338, 413, 468, 625, 706, ...</td>\n",
       "      <td>[965, 1976, 2982, 3963, 4966, 5989, 6994, 7905...</td>\n",
       "    </tr>\n",
       "    <tr>\n",
       "      <th>2</th>\n",
       "      <td>3</td>\n",
       "      <td>The Slip</td>\n",
       "      <td>ONCE SHE WAS  gone, I downed another cola, the...</td>\n",
       "      <td>[76, 157, 246, 302, 371, 507, 543, 627, 699, 8...</td>\n",
       "      <td>[952, 1904, 2975, 3996, 4929]</td>\n",
       "    </tr>\n",
       "    <tr>\n",
       "      <th>3</th>\n",
       "      <td>4</td>\n",
       "      <td>The Whale’s Penis and the Woman with Three Occ...</td>\n",
       "      <td>TO SLEEP WITH  a woman: it can seem of the utm...</td>\n",
       "      <td>[125, 229, 420, 514, 598, 686, 788, 874, 937, ...</td>\n",
       "      <td>[937, 1988, 2967, 3981, 4994, 5949, 6936, 7995...</td>\n",
       "    </tr>\n",
       "    <tr>\n",
       "      <th>4</th>\n",
       "      <td>5</td>\n",
       "      <td>Unblocked Ears</td>\n",
       "      <td>“ SEE WHAT I  mean?”  she said. \\n She’d becom...</td>\n",
       "      <td>[30, 84, 129, 178, 243, 314, 382, 481, 541, 56...</td>\n",
       "      <td>[965]</td>\n",
       "    </tr>\n",
       "  </tbody>\n",
       "</table>\n",
       "</div>"
      ],
      "text/plain": [
       "  number                                              title  \\\n",
       "0      1                         Wednesday Afternoon Picnic   \n",
       "1      2                                      Sixteen Steps   \n",
       "2      3                                           The Slip   \n",
       "3      4  The Whale’s Penis and the Woman with Three Occ...   \n",
       "4      5                                     Unblocked Ears   \n",
       "\n",
       "                                                text  \\\n",
       "0  IT WAS A  short one-paragraph item in the morn...   \n",
       "1  I WAITED FOR  the compressed-air hiss of the e...   \n",
       "2  ONCE SHE WAS  gone, I downed another cola, the...   \n",
       "3  TO SLEEP WITH  a woman: it can seem of the utm...   \n",
       "4  “ SEE WHAT I  mean?”  she said. \\n She’d becom...   \n",
       "\n",
       "                                       fstop_indices  \\\n",
       "0  [57, 97, 115, 196, 318, 385, 420, 445, 504, 65...   \n",
       "1  [101, 215, 252, 271, 338, 413, 468, 625, 706, ...   \n",
       "2  [76, 157, 246, 302, 371, 507, 543, 627, 699, 8...   \n",
       "3  [125, 229, 420, 514, 598, 686, 788, 874, 937, ...   \n",
       "4  [30, 84, 129, 178, 243, 314, 382, 481, 541, 56...   \n",
       "\n",
       "                                       split_indices  \n",
       "0  [967, 1924, 2998, 3982, 4935, 5975, 6995, 7961...  \n",
       "1  [965, 1976, 2982, 3963, 4966, 5989, 6994, 7905...  \n",
       "2                      [952, 1904, 2975, 3996, 4929]  \n",
       "3  [937, 1988, 2967, 3981, 4994, 5949, 6936, 7995...  \n",
       "4                                              [965]  "
      ]
     },
     "execution_count": 36,
     "metadata": {},
     "output_type": "execute_result"
    }
   ],
   "source": [
    "chapters.head()"
   ]
  },
  {
   "cell_type": "code",
   "execution_count": 37,
   "metadata": {
    "ExecuteTime": {
     "end_time": "2020-06-01T20:48:46.908673Z",
     "start_time": "2020-06-01T20:48:46.903418Z"
    }
   },
   "outputs": [],
   "source": [
    "# function to chunk a text\n",
    "def text_chunker(text):\n",
    "    split_indices = split_indexer(text)\n",
    "    chunks = []\n",
    "    for i, idx in enumerate(split_indices):\n",
    "# if first split then start at index 0 and keep up to the full stop index (including the full stop)\n",
    "        if i == 0:\n",
    "            chunks.append(text[0:idx+1])\n",
    "# else start from the end of the previous chunk after the full stop until the next\n",
    "        else:\n",
    "            chunks.append(text[split_indices[i-1]+2:idx+1])\n",
    "    return chunks"
   ]
  },
  {
   "cell_type": "code",
   "execution_count": 38,
   "metadata": {
    "ExecuteTime": {
     "end_time": "2020-06-01T20:48:47.521206Z",
     "start_time": "2020-06-01T20:48:47.472994Z"
    }
   },
   "outputs": [],
   "source": [
    "chapters['chunks'] = chapters['text'].apply(lambda x: text_chunker(x))"
   ]
  },
  {
   "cell_type": "code",
   "execution_count": 39,
   "metadata": {
    "ExecuteTime": {
     "end_time": "2020-06-01T20:48:48.042461Z",
     "start_time": "2020-06-01T20:48:48.017223Z"
    }
   },
   "outputs": [
    {
     "data": {
      "text/html": [
       "<div>\n",
       "<style scoped>\n",
       "    .dataframe tbody tr th:only-of-type {\n",
       "        vertical-align: middle;\n",
       "    }\n",
       "\n",
       "    .dataframe tbody tr th {\n",
       "        vertical-align: top;\n",
       "    }\n",
       "\n",
       "    .dataframe thead th {\n",
       "        text-align: right;\n",
       "    }\n",
       "</style>\n",
       "<table border=\"1\" class=\"dataframe\">\n",
       "  <thead>\n",
       "    <tr style=\"text-align: right;\">\n",
       "      <th></th>\n",
       "      <th>number</th>\n",
       "      <th>title</th>\n",
       "      <th>text</th>\n",
       "      <th>fstop_indices</th>\n",
       "      <th>split_indices</th>\n",
       "      <th>chunks</th>\n",
       "    </tr>\n",
       "  </thead>\n",
       "  <tbody>\n",
       "    <tr>\n",
       "      <th>0</th>\n",
       "      <td>1</td>\n",
       "      <td>Wednesday Afternoon Picnic</td>\n",
       "      <td>IT WAS A  short one-paragraph item in the morn...</td>\n",
       "      <td>[57, 97, 115, 196, 318, 385, 420, 445, 504, 65...</td>\n",
       "      <td>[967, 1924, 2998, 3982, 4935, 5975, 6995, 7961...</td>\n",
       "      <td>[IT WAS A  short one-paragraph item in the mor...</td>\n",
       "    </tr>\n",
       "    <tr>\n",
       "      <th>1</th>\n",
       "      <td>2</td>\n",
       "      <td>Sixteen Steps</td>\n",
       "      <td>I WAITED FOR  the compressed-air hiss of the e...</td>\n",
       "      <td>[101, 215, 252, 271, 338, 413, 468, 625, 706, ...</td>\n",
       "      <td>[965, 1976, 2982, 3963, 4966, 5989, 6994, 7905...</td>\n",
       "      <td>[I WAITED FOR  the compressed-air hiss of the ...</td>\n",
       "    </tr>\n",
       "    <tr>\n",
       "      <th>2</th>\n",
       "      <td>3</td>\n",
       "      <td>The Slip</td>\n",
       "      <td>ONCE SHE WAS  gone, I downed another cola, the...</td>\n",
       "      <td>[76, 157, 246, 302, 371, 507, 543, 627, 699, 8...</td>\n",
       "      <td>[952, 1904, 2975, 3996, 4929]</td>\n",
       "      <td>[ONCE SHE WAS  gone, I downed another cola, th...</td>\n",
       "    </tr>\n",
       "    <tr>\n",
       "      <th>3</th>\n",
       "      <td>4</td>\n",
       "      <td>The Whale’s Penis and the Woman with Three Occ...</td>\n",
       "      <td>TO SLEEP WITH  a woman: it can seem of the utm...</td>\n",
       "      <td>[125, 229, 420, 514, 598, 686, 788, 874, 937, ...</td>\n",
       "      <td>[937, 1988, 2967, 3981, 4994, 5949, 6936, 7995...</td>\n",
       "      <td>[TO SLEEP WITH  a woman: it can seem of the ut...</td>\n",
       "    </tr>\n",
       "    <tr>\n",
       "      <th>4</th>\n",
       "      <td>5</td>\n",
       "      <td>Unblocked Ears</td>\n",
       "      <td>“ SEE WHAT I  mean?”  she said. \\n She’d becom...</td>\n",
       "      <td>[30, 84, 129, 178, 243, 314, 382, 481, 541, 56...</td>\n",
       "      <td>[965]</td>\n",
       "      <td>[“ SEE WHAT I  mean?”  she said. \\n She’d beco...</td>\n",
       "    </tr>\n",
       "  </tbody>\n",
       "</table>\n",
       "</div>"
      ],
      "text/plain": [
       "  number                                              title  \\\n",
       "0      1                         Wednesday Afternoon Picnic   \n",
       "1      2                                      Sixteen Steps   \n",
       "2      3                                           The Slip   \n",
       "3      4  The Whale’s Penis and the Woman with Three Occ...   \n",
       "4      5                                     Unblocked Ears   \n",
       "\n",
       "                                                text  \\\n",
       "0  IT WAS A  short one-paragraph item in the morn...   \n",
       "1  I WAITED FOR  the compressed-air hiss of the e...   \n",
       "2  ONCE SHE WAS  gone, I downed another cola, the...   \n",
       "3  TO SLEEP WITH  a woman: it can seem of the utm...   \n",
       "4  “ SEE WHAT I  mean?”  she said. \\n She’d becom...   \n",
       "\n",
       "                                       fstop_indices  \\\n",
       "0  [57, 97, 115, 196, 318, 385, 420, 445, 504, 65...   \n",
       "1  [101, 215, 252, 271, 338, 413, 468, 625, 706, ...   \n",
       "2  [76, 157, 246, 302, 371, 507, 543, 627, 699, 8...   \n",
       "3  [125, 229, 420, 514, 598, 686, 788, 874, 937, ...   \n",
       "4  [30, 84, 129, 178, 243, 314, 382, 481, 541, 56...   \n",
       "\n",
       "                                       split_indices  \\\n",
       "0  [967, 1924, 2998, 3982, 4935, 5975, 6995, 7961...   \n",
       "1  [965, 1976, 2982, 3963, 4966, 5989, 6994, 7905...   \n",
       "2                      [952, 1904, 2975, 3996, 4929]   \n",
       "3  [937, 1988, 2967, 3981, 4994, 5949, 6936, 7995...   \n",
       "4                                              [965]   \n",
       "\n",
       "                                              chunks  \n",
       "0  [IT WAS A  short one-paragraph item in the mor...  \n",
       "1  [I WAITED FOR  the compressed-air hiss of the ...  \n",
       "2  [ONCE SHE WAS  gone, I downed another cola, th...  \n",
       "3  [TO SLEEP WITH  a woman: it can seem of the ut...  \n",
       "4  [“ SEE WHAT I  mean?”  she said. \\n She’d beco...  "
      ]
     },
     "execution_count": 39,
     "metadata": {},
     "output_type": "execute_result"
    }
   ],
   "source": [
    "chapters.head()"
   ]
  },
  {
   "cell_type": "code",
   "execution_count": 40,
   "metadata": {
    "ExecuteTime": {
     "end_time": "2020-06-01T20:48:49.063347Z",
     "start_time": "2020-06-01T20:48:48.764915Z"
    }
   },
   "outputs": [
    {
     "data": {
      "image/png": "[encoded data removed]",
      "text/plain": [
       "<Figure size 432x288 with 1 Axes>"
      ]
     },
     "metadata": {
      "image/png": {
       "height": 256,
       "width": 377
      },
      "needs_background": "light"
     },
     "output_type": "display_data"
    }
   ],
   "source": [
    "lengths = []\n",
    "for chapter in chapters['chunks']:\n",
    "    for chunk in chapter:\n",
    "        lengths.append(len(chunk))\n",
    "plt.hist(lengths, bins=20);"
   ]
  },
  {
   "cell_type": "code",
   "execution_count": 41,
   "metadata": {
    "ExecuteTime": {
     "end_time": "2020-06-01T20:48:49.942323Z",
     "start_time": "2020-06-01T20:48:49.936441Z"
    }
   },
   "outputs": [
    {
     "data": {
      "text/plain": [
       "471"
      ]
     },
     "execution_count": 41,
     "metadata": {},
     "output_type": "execute_result"
    }
   ],
   "source": [
    "len(lengths)"
   ]
  },
  {
   "cell_type": "code",
   "execution_count": 42,
   "metadata": {
    "ExecuteTime": {
     "end_time": "2020-06-01T20:48:50.520377Z",
     "start_time": "2020-06-01T20:48:50.515511Z"
    }
   },
   "outputs": [],
   "source": [
    "chapters['translator'] = 'Alfred Birnbaum'"
   ]
  },
  {
   "cell_type": "code",
   "execution_count": 43,
   "metadata": {
    "ExecuteTime": {
     "end_time": "2020-06-01T20:48:51.160134Z",
     "start_time": "2020-06-01T20:48:51.156086Z"
    }
   },
   "outputs": [],
   "source": [
    "chapters['book_title'] = 'A Wild Sheep Chase'"
   ]
  },
  {
   "cell_type": "code",
   "execution_count": 44,
   "metadata": {
    "ExecuteTime": {
     "end_time": "2020-06-01T20:48:51.642416Z",
     "start_time": "2020-06-01T20:48:51.616725Z"
    }
   },
   "outputs": [
    {
     "data": {
      "text/html": [
       "<div>\n",
       "<style scoped>\n",
       "    .dataframe tbody tr th:only-of-type {\n",
       "        vertical-align: middle;\n",
       "    }\n",
       "\n",
       "    .dataframe tbody tr th {\n",
       "        vertical-align: top;\n",
       "    }\n",
       "\n",
       "    .dataframe thead th {\n",
       "        text-align: right;\n",
       "    }\n",
       "</style>\n",
       "<table border=\"1\" class=\"dataframe\">\n",
       "  <thead>\n",
       "    <tr style=\"text-align: right;\">\n",
       "      <th></th>\n",
       "      <th>number</th>\n",
       "      <th>title</th>\n",
       "      <th>text</th>\n",
       "      <th>fstop_indices</th>\n",
       "      <th>split_indices</th>\n",
       "      <th>chunks</th>\n",
       "      <th>translator</th>\n",
       "      <th>book_title</th>\n",
       "    </tr>\n",
       "  </thead>\n",
       "  <tbody>\n",
       "    <tr>\n",
       "      <th>0</th>\n",
       "      <td>1</td>\n",
       "      <td>Wednesday Afternoon Picnic</td>\n",
       "      <td>IT WAS A  short one-paragraph item in the morn...</td>\n",
       "      <td>[57, 97, 115, 196, 318, 385, 420, 445, 504, 65...</td>\n",
       "      <td>[967, 1924, 2998, 3982, 4935, 5975, 6995, 7961...</td>\n",
       "      <td>[IT WAS A  short one-paragraph item in the mor...</td>\n",
       "      <td>Alfred Birnbaum</td>\n",
       "      <td>A Wild Sheep Chase</td>\n",
       "    </tr>\n",
       "    <tr>\n",
       "      <th>1</th>\n",
       "      <td>2</td>\n",
       "      <td>Sixteen Steps</td>\n",
       "      <td>I WAITED FOR  the compressed-air hiss of the e...</td>\n",
       "      <td>[101, 215, 252, 271, 338, 413, 468, 625, 706, ...</td>\n",
       "      <td>[965, 1976, 2982, 3963, 4966, 5989, 6994, 7905...</td>\n",
       "      <td>[I WAITED FOR  the compressed-air hiss of the ...</td>\n",
       "      <td>Alfred Birnbaum</td>\n",
       "      <td>A Wild Sheep Chase</td>\n",
       "    </tr>\n",
       "    <tr>\n",
       "      <th>2</th>\n",
       "      <td>3</td>\n",
       "      <td>The Slip</td>\n",
       "      <td>ONCE SHE WAS  gone, I downed another cola, the...</td>\n",
       "      <td>[76, 157, 246, 302, 371, 507, 543, 627, 699, 8...</td>\n",
       "      <td>[952, 1904, 2975, 3996, 4929]</td>\n",
       "      <td>[ONCE SHE WAS  gone, I downed another cola, th...</td>\n",
       "      <td>Alfred Birnbaum</td>\n",
       "      <td>A Wild Sheep Chase</td>\n",
       "    </tr>\n",
       "    <tr>\n",
       "      <th>3</th>\n",
       "      <td>4</td>\n",
       "      <td>The Whale’s Penis and the Woman with Three Occ...</td>\n",
       "      <td>TO SLEEP WITH  a woman: it can seem of the utm...</td>\n",
       "      <td>[125, 229, 420, 514, 598, 686, 788, 874, 937, ...</td>\n",
       "      <td>[937, 1988, 2967, 3981, 4994, 5949, 6936, 7995...</td>\n",
       "      <td>[TO SLEEP WITH  a woman: it can seem of the ut...</td>\n",
       "      <td>Alfred Birnbaum</td>\n",
       "      <td>A Wild Sheep Chase</td>\n",
       "    </tr>\n",
       "    <tr>\n",
       "      <th>4</th>\n",
       "      <td>5</td>\n",
       "      <td>Unblocked Ears</td>\n",
       "      <td>“ SEE WHAT I  mean?”  she said. \\n She’d becom...</td>\n",
       "      <td>[30, 84, 129, 178, 243, 314, 382, 481, 541, 56...</td>\n",
       "      <td>[965]</td>\n",
       "      <td>[“ SEE WHAT I  mean?”  she said. \\n She’d beco...</td>\n",
       "      <td>Alfred Birnbaum</td>\n",
       "      <td>A Wild Sheep Chase</td>\n",
       "    </tr>\n",
       "  </tbody>\n",
       "</table>\n",
       "</div>"
      ],
      "text/plain": [
       "  number                                              title  \\\n",
       "0      1                         Wednesday Afternoon Picnic   \n",
       "1      2                                      Sixteen Steps   \n",
       "2      3                                           The Slip   \n",
       "3      4  The Whale’s Penis and the Woman with Three Occ...   \n",
       "4      5                                     Unblocked Ears   \n",
       "\n",
       "                                                text  \\\n",
       "0  IT WAS A  short one-paragraph item in the morn...   \n",
       "1  I WAITED FOR  the compressed-air hiss of the e...   \n",
       "2  ONCE SHE WAS  gone, I downed another cola, the...   \n",
       "3  TO SLEEP WITH  a woman: it can seem of the utm...   \n",
       "4  “ SEE WHAT I  mean?”  she said. \\n She’d becom...   \n",
       "\n",
       "                                       fstop_indices  \\\n",
       "0  [57, 97, 115, 196, 318, 385, 420, 445, 504, 65...   \n",
       "1  [101, 215, 252, 271, 338, 413, 468, 625, 706, ...   \n",
       "2  [76, 157, 246, 302, 371, 507, 543, 627, 699, 8...   \n",
       "3  [125, 229, 420, 514, 598, 686, 788, 874, 937, ...   \n",
       "4  [30, 84, 129, 178, 243, 314, 382, 481, 541, 56...   \n",
       "\n",
       "                                       split_indices  \\\n",
       "0  [967, 1924, 2998, 3982, 4935, 5975, 6995, 7961...   \n",
       "1  [965, 1976, 2982, 3963, 4966, 5989, 6994, 7905...   \n",
       "2                      [952, 1904, 2975, 3996, 4929]   \n",
       "3  [937, 1988, 2967, 3981, 4994, 5949, 6936, 7995...   \n",
       "4                                              [965]   \n",
       "\n",
       "                                              chunks       translator  \\\n",
       "0  [IT WAS A  short one-paragraph item in the mor...  Alfred Birnbaum   \n",
       "1  [I WAITED FOR  the compressed-air hiss of the ...  Alfred Birnbaum   \n",
       "2  [ONCE SHE WAS  gone, I downed another cola, th...  Alfred Birnbaum   \n",
       "3  [TO SLEEP WITH  a woman: it can seem of the ut...  Alfred Birnbaum   \n",
       "4  [“ SEE WHAT I  mean?”  she said. \\n She’d beco...  Alfred Birnbaum   \n",
       "\n",
       "           book_title  \n",
       "0  A Wild Sheep Chase  \n",
       "1  A Wild Sheep Chase  \n",
       "2  A Wild Sheep Chase  \n",
       "3  A Wild Sheep Chase  \n",
       "4  A Wild Sheep Chase  "
      ]
     },
     "execution_count": 44,
     "metadata": {},
     "output_type": "execute_result"
    }
   ],
   "source": [
    "chapters.head()"
   ]
  },
  {
   "cell_type": "code",
   "execution_count": 45,
   "metadata": {
    "ExecuteTime": {
     "end_time": "2020-06-01T20:48:52.410567Z",
     "start_time": "2020-06-01T20:48:52.406820Z"
    }
   },
   "outputs": [],
   "source": [
    "out_path = '../../../../Documents/murakami/pkl2/'\n",
    "out_name = 'wsc_birnbaum_v01'\n",
    "out_full_path = out_path + out_name + '.pkl'"
   ]
  },
  {
   "cell_type": "code",
   "execution_count": 46,
   "metadata": {
    "ExecuteTime": {
     "end_time": "2020-06-01T20:48:52.970780Z",
     "start_time": "2020-06-01T20:48:52.952582Z"
    }
   },
   "outputs": [],
   "source": [
    "# save pickle\n",
    "with open(out_full_path, 'wb') as fp:\n",
    "    pickle.dump(chapters, fp)\n",
    "\n",
    "\n",
    "# read back pickle\n",
    "with open (out_full_path, 'rb') as fp:\n",
    "    read_wsc = pickle.load(fp)"
   ]
  },
  {
   "cell_type": "code",
   "execution_count": 47,
   "metadata": {
    "ExecuteTime": {
     "end_time": "2020-06-01T20:48:53.542249Z",
     "start_time": "2020-06-01T20:48:53.423875Z"
    }
   },
   "outputs": [
    {
     "data": {
      "text/html": [
       "<div>\n",
       "<style scoped>\n",
       "    .dataframe tbody tr th:only-of-type {\n",
       "        vertical-align: middle;\n",
       "    }\n",
       "\n",
       "    .dataframe tbody tr th {\n",
       "        vertical-align: top;\n",
       "    }\n",
       "\n",
       "    .dataframe thead th {\n",
       "        text-align: right;\n",
       "    }\n",
       "</style>\n",
       "<table border=\"1\" class=\"dataframe\">\n",
       "  <thead>\n",
       "    <tr style=\"text-align: right;\">\n",
       "      <th></th>\n",
       "      <th>number</th>\n",
       "      <th>title</th>\n",
       "      <th>text</th>\n",
       "      <th>fstop_indices</th>\n",
       "      <th>split_indices</th>\n",
       "      <th>chunks</th>\n",
       "      <th>translator</th>\n",
       "      <th>book_title</th>\n",
       "    </tr>\n",
       "  </thead>\n",
       "  <tbody>\n",
       "    <tr>\n",
       "      <th>0</th>\n",
       "      <td>1</td>\n",
       "      <td>Wednesday Afternoon Picnic</td>\n",
       "      <td>IT WAS A  short one-paragraph item in the morn...</td>\n",
       "      <td>[57, 97, 115, 196, 318, 385, 420, 445, 504, 65...</td>\n",
       "      <td>[967, 1924, 2998, 3982, 4935, 5975, 6995, 7961...</td>\n",
       "      <td>[IT WAS A  short one-paragraph item in the mor...</td>\n",
       "      <td>Alfred Birnbaum</td>\n",
       "      <td>A Wild Sheep Chase</td>\n",
       "    </tr>\n",
       "    <tr>\n",
       "      <th>1</th>\n",
       "      <td>2</td>\n",
       "      <td>Sixteen Steps</td>\n",
       "      <td>I WAITED FOR  the compressed-air hiss of the e...</td>\n",
       "      <td>[101, 215, 252, 271, 338, 413, 468, 625, 706, ...</td>\n",
       "      <td>[965, 1976, 2982, 3963, 4966, 5989, 6994, 7905...</td>\n",
       "      <td>[I WAITED FOR  the compressed-air hiss of the ...</td>\n",
       "      <td>Alfred Birnbaum</td>\n",
       "      <td>A Wild Sheep Chase</td>\n",
       "    </tr>\n",
       "    <tr>\n",
       "      <th>2</th>\n",
       "      <td>3</td>\n",
       "      <td>The Slip</td>\n",
       "      <td>ONCE SHE WAS  gone, I downed another cola, the...</td>\n",
       "      <td>[76, 157, 246, 302, 371, 507, 543, 627, 699, 8...</td>\n",
       "      <td>[952, 1904, 2975, 3996, 4929]</td>\n",
       "      <td>[ONCE SHE WAS  gone, I downed another cola, th...</td>\n",
       "      <td>Alfred Birnbaum</td>\n",
       "      <td>A Wild Sheep Chase</td>\n",
       "    </tr>\n",
       "    <tr>\n",
       "      <th>3</th>\n",
       "      <td>4</td>\n",
       "      <td>The Whale’s Penis and the Woman with Three Occ...</td>\n",
       "      <td>TO SLEEP WITH  a woman: it can seem of the utm...</td>\n",
       "      <td>[125, 229, 420, 514, 598, 686, 788, 874, 937, ...</td>\n",
       "      <td>[937, 1988, 2967, 3981, 4994, 5949, 6936, 7995...</td>\n",
       "      <td>[TO SLEEP WITH  a woman: it can seem of the ut...</td>\n",
       "      <td>Alfred Birnbaum</td>\n",
       "      <td>A Wild Sheep Chase</td>\n",
       "    </tr>\n",
       "    <tr>\n",
       "      <th>4</th>\n",
       "      <td>5</td>\n",
       "      <td>Unblocked Ears</td>\n",
       "      <td>“ SEE WHAT I  mean?”  she said. \\n She’d becom...</td>\n",
       "      <td>[30, 84, 129, 178, 243, 314, 382, 481, 541, 56...</td>\n",
       "      <td>[965]</td>\n",
       "      <td>[“ SEE WHAT I  mean?”  she said. \\n She’d beco...</td>\n",
       "      <td>Alfred Birnbaum</td>\n",
       "      <td>A Wild Sheep Chase</td>\n",
       "    </tr>\n",
       "    <tr>\n",
       "      <th>5</th>\n",
       "      <td>6</td>\n",
       "      <td>The Further Adventures of Unblocked Ears</td>\n",
       "      <td>THE MANIFESTATION OF  her full splendor, thoug...</td>\n",
       "      <td>[67, 229, 311, 369, 415, 450, 494, 560, 631, 7...</td>\n",
       "      <td>[978, 1992, 2974, 3965, 4976]</td>\n",
       "      <td>[THE MANIFESTATION OF  her full splendor, thou...</td>\n",
       "      <td>Alfred Birnbaum</td>\n",
       "      <td>A Wild Sheep Chase</td>\n",
       "    </tr>\n",
       "    <tr>\n",
       "      <th>6</th>\n",
       "      <td>7</td>\n",
       "      <td>Before the Strange Man</td>\n",
       "      <td>THERE ARE VARIOUS  reasons why an individual m...</td>\n",
       "      <td>[151, 208, 257, 333, 441, 526, 546, 568, 684, ...</td>\n",
       "      <td>[942, 1963, 2878, 3990, 4981, 5977, 6944, 7951...</td>\n",
       "      <td>[THERE ARE VARIOUS  reasons why an individual ...</td>\n",
       "      <td>Alfred Birnbaum</td>\n",
       "      <td>A Wild Sheep Chase</td>\n",
       "    </tr>\n",
       "    <tr>\n",
       "      <th>7</th>\n",
       "      <td>8</td>\n",
       "      <td>Now the Strange Man</td>\n",
       "      <td>IT WAS ELEVEN  o’clock in the morning when the...</td>\n",
       "      <td>[55, 143, 199, 220, 238, 241, 321, 404, 443, 4...</td>\n",
       "      <td>[924, 1958, 2949, 3961, 4921, 5970, 6975, 7948...</td>\n",
       "      <td>[IT WAS ELEVEN  o’clock in the morning when th...</td>\n",
       "      <td>Alfred Birnbaum</td>\n",
       "      <td>A Wild Sheep Chase</td>\n",
       "    </tr>\n",
       "    <tr>\n",
       "      <th>8</th>\n",
       "      <td>9</td>\n",
       "      <td>“ The Boss ”</td>\n",
       "      <td>“ THAT’S THE SIZE  of it,” said my partner. \\n...</td>\n",
       "      <td>[42, 118, 185, 260, 340, 402, 557, 614, 668, 7...</td>\n",
       "      <td>[942, 1946, 2923, 3917, 4996, 5895, 6959]</td>\n",
       "      <td>[“ THAT’S THE SIZE  of it,” said my partner. \\...</td>\n",
       "      <td>Alfred Birnbaum</td>\n",
       "      <td>A Wild Sheep Chase</td>\n",
       "    </tr>\n",
       "    <tr>\n",
       "      <th>9</th>\n",
       "      <td>10</td>\n",
       "      <td>Counting Sheep</td>\n",
       "      <td>WE CAN, IF  we so choose, wander aimlessly ove...</td>\n",
       "      <td>[78, 154, 245, 317, 509, 612, 738, 763, 828, 8...</td>\n",
       "      <td>[956, 1958, 2971, 3901, 4946]</td>\n",
       "      <td>[WE CAN, IF  we so choose, wander aimlessly ov...</td>\n",
       "      <td>Alfred Birnbaum</td>\n",
       "      <td>A Wild Sheep Chase</td>\n",
       "    </tr>\n",
       "    <tr>\n",
       "      <th>10</th>\n",
       "      <td>11</td>\n",
       "      <td>The Limo and Its Driver</td>\n",
       "      <td>THE CAR CAME  at four, as promised.  Exactly o...</td>\n",
       "      <td>[34, 76, 128, 193, 237, 292, 334, 503, 587, 65...</td>\n",
       "      <td>[945, 1967, 2937, 3911, 4976]</td>\n",
       "      <td>[THE CAR CAME  at four, as promised.  Exactly ...</td>\n",
       "      <td>Alfred Birnbaum</td>\n",
       "      <td>A Wild Sheep Chase</td>\n",
       "    </tr>\n",
       "    <tr>\n",
       "      <th>11</th>\n",
       "      <td>12</td>\n",
       "      <td>Wherefore the Worm Universe</td>\n",
       "      <td>THERE ARE SYMBOLIC  dreams—dreams that symboli...</td>\n",
       "      <td>[61, 130, 215, 307, 351, 382, 460, 530, 652, 7...</td>\n",
       "      <td>[988, 1977, 2978, 3987, 4974, 5937, 6903, 7952]</td>\n",
       "      <td>[THERE ARE SYMBOLIC  dreams—dreams that symbol...</td>\n",
       "      <td>Alfred Birnbaum</td>\n",
       "      <td>A Wild Sheep Chase</td>\n",
       "    </tr>\n",
       "    <tr>\n",
       "      <th>12</th>\n",
       "      <td>13</td>\n",
       "      <td>The Rat’s First Letter</td>\n",
       "      <td>( Postmarked December 21st, One Year Ago ) \\n ...</td>\n",
       "      <td>[118, 212, 321, 480, 546, 639, 687, 802, 813, ...</td>\n",
       "      <td>[988, 1980, 2999, 3905, 4897, 5959, 6963, 7981]</td>\n",
       "      <td>[( Postmarked December 21st, One Year Ago ) \\n...</td>\n",
       "      <td>Alfred Birnbaum</td>\n",
       "      <td>A Wild Sheep Chase</td>\n",
       "    </tr>\n",
       "    <tr>\n",
       "      <th>13</th>\n",
       "      <td>14</td>\n",
       "      <td>The Rat’s Second Letter</td>\n",
       "      <td>( Postmarked May, This Year ) \\n LAST LETTER I...</td>\n",
       "      <td>[84, 133, 162, 228, 253, 280, 343, 396, 467, 5...</td>\n",
       "      <td>[994, 1892, 2981, 3911, 4944, 5982, 6995, 7967...</td>\n",
       "      <td>[( Postmarked May, This Year ) \\n LAST LETTER ...</td>\n",
       "      <td>Alfred Birnbaum</td>\n",
       "      <td>A Wild Sheep Chase</td>\n",
       "    </tr>\n",
       "    <tr>\n",
       "      <th>14</th>\n",
       "      <td>15</td>\n",
       "      <td>The Song Is Over</td>\n",
       "      <td>IT WAS JUNE  before I returned to the town. \\n...</td>\n",
       "      <td>[42, 136, 251, 311, 407, 456, 544, 658, 816, 8...</td>\n",
       "      <td>[997, 1982, 2895, 3892, 4958, 5983, 6967, 7982...</td>\n",
       "      <td>[IT WAS JUNE  before I returned to the town. \\...</td>\n",
       "      <td>Alfred Birnbaum</td>\n",
       "      <td>A Wild Sheep Chase</td>\n",
       "    </tr>\n",
       "    <tr>\n",
       "      <th>15</th>\n",
       "      <td>16</td>\n",
       "      <td>She Drinks Her Salty Dog, Talking about the So...</td>\n",
       "      <td>“ I HAVE A  letter for you,” I said. \\n “For m...</td>\n",
       "      <td>[35, 58, 190, 257, 347, 396, 484, 517, 556, 61...</td>\n",
       "      <td>[969, 1969, 2888, 3994, 4906, 5932, 6968, 7985...</td>\n",
       "      <td>[“ I HAVE A  letter for you,” I said. \\n “For ...</td>\n",
       "      <td>Alfred Birnbaum</td>\n",
       "      <td>A Wild Sheep Chase</td>\n",
       "    </tr>\n",
       "    <tr>\n",
       "      <th>16</th>\n",
       "      <td>17</td>\n",
       "      <td>The Strange Man’s Strange Tale</td>\n",
       "      <td>THE BLACK-SUITED SECRETARY  took his chair and...</td>\n",
       "      <td>[81, 208, 258, 310, 345, 485, 718, 783, 833, 8...</td>\n",
       "      <td>[937, 1987, 2996, 3983, 4999, 5985, 6998, 7917...</td>\n",
       "      <td>[THE BLACK-SUITED SECRETARY  took his chair an...</td>\n",
       "      <td>Alfred Birnbaum</td>\n",
       "      <td>A Wild Sheep Chase</td>\n",
       "    </tr>\n",
       "    <tr>\n",
       "      <th>17</th>\n",
       "      <td>18</td>\n",
       "      <td>The Strange Man’s Strange Tale Goes On</td>\n",
       "      <td>“ JUST A WHILE  ago, I made reference to your ...</td>\n",
       "      <td>[71, 114, 218, 279, 312, 380, 447, 538, 621, 6...</td>\n",
       "      <td>[981, 1973, 2998, 3949, 4912, 5940, 6998, 7939...</td>\n",
       "      <td>[“ JUST A WHILE  ago, I made reference to your...</td>\n",
       "      <td>Alfred Birnbaum</td>\n",
       "      <td>A Wild Sheep Chase</td>\n",
       "    </tr>\n",
       "    <tr>\n",
       "      <th>18</th>\n",
       "      <td>19</td>\n",
       "      <td>The Limo and Its Driver, Again</td>\n",
       "      <td>“ WILL YOU BE  returning to your office?  Or t...</td>\n",
       "      <td>[85, 180, 213, 310, 358, 454, 498, 605, 646, 7...</td>\n",
       "      <td>[960, 1953, 2984, 3906, 4974]</td>\n",
       "      <td>[“ WILL YOU BE  returning to your office?  Or ...</td>\n",
       "      <td>Alfred Birnbaum</td>\n",
       "      <td>A Wild Sheep Chase</td>\n",
       "    </tr>\n",
       "    <tr>\n",
       "      <th>19</th>\n",
       "      <td>20</td>\n",
       "      <td>Summer’s End, Autumn’s Beginning</td>\n",
       "      <td>BY THE TIME  the limousine reached its destina...</td>\n",
       "      <td>[97, 229, 321, 364, 468, 491, 589, 623, 675, 7...</td>\n",
       "      <td>[993, 1949, 2924, 3932, 4983]</td>\n",
       "      <td>[BY THE TIME  the limousine reached its destin...</td>\n",
       "      <td>Alfred Birnbaum</td>\n",
       "      <td>A Wild Sheep Chase</td>\n",
       "    </tr>\n",
       "    <tr>\n",
       "      <th>20</th>\n",
       "      <td>21</td>\n",
       "      <td>One in Five Thousand</td>\n",
       "      <td>RETURNING TO MY  apartment from the hotel bar,...</td>\n",
       "      <td>[121, 263, 329, 354, 413, 500, 563, 578, 622, ...</td>\n",
       "      <td>[986, 1996, 2968, 3976, 4961, 5999, 6905]</td>\n",
       "      <td>[RETURNING TO MY  apartment from the hotel bar...</td>\n",
       "      <td>Alfred Birnbaum</td>\n",
       "      <td>A Wild Sheep Chase</td>\n",
       "    </tr>\n",
       "    <tr>\n",
       "      <th>21</th>\n",
       "      <td>22</td>\n",
       "      <td>Sunday Afternoon Picnic</td>\n",
       "      <td>I WOKE UP  at nine in an empty bed.  No note. ...</td>\n",
       "      <td>[34, 44, 106, 163, 257, 287, 353, 393, 441, 50...</td>\n",
       "      <td>[935, 1945, 2987, 3942, 4978, 5975, 6913, 7937...</td>\n",
       "      <td>[I WOKE UP  at nine in an empty bed.  No note....</td>\n",
       "      <td>Alfred Birnbaum</td>\n",
       "      <td>A Wild Sheep Chase</td>\n",
       "    </tr>\n",
       "    <tr>\n",
       "      <th>22</th>\n",
       "      <td>23</td>\n",
       "      <td>Limited but Tenacious Thinking</td>\n",
       "      <td>AT SIX O’CLOCK , she got dressed, brushed her ...</td>\n",
       "      <td>[104, 168, 296, 326, 387, 411, 476, 536, 597, ...</td>\n",
       "      <td>[994, 1993, 2970, 3980, 4947, 5998, 6984, 7949...</td>\n",
       "      <td>[AT SIX O’CLOCK , she got dressed, brushed her...</td>\n",
       "      <td>Alfred Birnbaum</td>\n",
       "      <td>A Wild Sheep Chase</td>\n",
       "    </tr>\n",
       "    <tr>\n",
       "      <th>23</th>\n",
       "      <td>24</td>\n",
       "      <td>One for the Kipper</td>\n",
       "      <td>AT TEN IN  the morning, that ridiculous submar...</td>\n",
       "      <td>[108, 216, 303, 361, 394, 436, 503, 567, 652, ...</td>\n",
       "      <td>[924, 1998, 2926, 3897, 4998, 5918, 6987, 7963...</td>\n",
       "      <td>[AT TEN IN  the morning, that ridiculous subma...</td>\n",
       "      <td>Alfred Birnbaum</td>\n",
       "      <td>A Wild Sheep Chase</td>\n",
       "    </tr>\n",
       "    <tr>\n",
       "      <th>24</th>\n",
       "      <td>25</td>\n",
       "      <td>Transit Completed at Movie Theater; On to the ...</td>\n",
       "      <td>THE ENTIRE FLIGHT,  she sat by the window and ...</td>\n",
       "      <td>[72, 135, 232, 377, 433, 504, 540, 576, 612, 6...</td>\n",
       "      <td>[934, 1977, 2992, 3945, 4888, 5999, 6996, 7961...</td>\n",
       "      <td>[THE ENTIRE FLIGHT,  she sat by the window and...</td>\n",
       "      <td>Alfred Birnbaum</td>\n",
       "      <td>A Wild Sheep Chase</td>\n",
       "    </tr>\n",
       "    <tr>\n",
       "      <th>25</th>\n",
       "      <td>26</td>\n",
       "      <td>Enter the Sheep Professor</td>\n",
       "      <td>WE WOKE THE  next morning at eight, donned our...</td>\n",
       "      <td>[130, 173, 263, 350, 398, 420, 479, 566, 580, ...</td>\n",
       "      <td>[988, 1915, 2979, 3961, 4938, 5911, 6879, 7997...</td>\n",
       "      <td>[WE WOKE THE  next morning at eight, donned ou...</td>\n",
       "      <td>Alfred Birnbaum</td>\n",
       "      <td>A Wild Sheep Chase</td>\n",
       "    </tr>\n",
       "    <tr>\n",
       "      <th>26</th>\n",
       "      <td>27</td>\n",
       "      <td>The Sheep Professor Eats All, Tells All</td>\n",
       "      <td>ACCORDING TO HIS  Dolphin Hotel-owner son, the...</td>\n",
       "      <td>[95, 194, 259, 278, 352, 425, 501, 607, 632, 7...</td>\n",
       "      <td>[965, 1956, 2936, 3962, 4915, 5952, 6976, 7989...</td>\n",
       "      <td>[ACCORDING TO HIS  Dolphin Hotel-owner son, th...</td>\n",
       "      <td>Alfred Birnbaum</td>\n",
       "      <td>A Wild Sheep Chase</td>\n",
       "    </tr>\n",
       "    <tr>\n",
       "      <th>27</th>\n",
       "      <td>28</td>\n",
       "      <td>Farewell to the Dolphin Hotel</td>\n",
       "      <td>WE TOOK ONE  day to ready for our departure. \\...</td>\n",
       "      <td>[43, 207, 319, 394, 468, 550, 613, 677, 701, 7...</td>\n",
       "      <td>[926, 1925, 2974]</td>\n",
       "      <td>[WE TOOK ONE  day to ready for our departure. ...</td>\n",
       "      <td>Alfred Birnbaum</td>\n",
       "      <td>A Wild Sheep Chase</td>\n",
       "    </tr>\n",
       "    <tr>\n",
       "      <th>28</th>\n",
       "      <td>29</td>\n",
       "      <td>The Birth, Rise, and Fall of Junitaki Township</td>\n",
       "      <td>IT WAS AN  early morning train we took from Sa...</td>\n",
       "      <td>[64, 175, 256, 338, 517, 573, 597, 640, 749, 9...</td>\n",
       "      <td>[905, 1948, 2989, 3986, 4879, 5965, 6894, 7995...</td>\n",
       "      <td>[IT WAS AN  early morning train we took from S...</td>\n",
       "      <td>Alfred Birnbaum</td>\n",
       "      <td>A Wild Sheep Chase</td>\n",
       "    </tr>\n",
       "    <tr>\n",
       "      <th>29</th>\n",
       "      <td>30</td>\n",
       "      <td>The Further Decline of Junitaki and Its Sheep</td>\n",
       "      <td>WE CAUGHT THE  connecting train in Asahikawa a...</td>\n",
       "      <td>[193, 316, 346, 407, 662, 743, 807, 903, 946, ...</td>\n",
       "      <td>[946, 1942, 2938, 3978, 4994, 5939, 6979, 7982...</td>\n",
       "      <td>[WE CAUGHT THE  connecting train in Asahikawa ...</td>\n",
       "      <td>Alfred Birnbaum</td>\n",
       "      <td>A Wild Sheep Chase</td>\n",
       "    </tr>\n",
       "    <tr>\n",
       "      <th>30</th>\n",
       "      <td>31</td>\n",
       "      <td>Night in Junitaki</td>\n",
       "      <td>NEGOTIATIONS WITH THE  caretaker went smoothly...</td>\n",
       "      <td>[86, 207, 286, 308, 362, 481, 534, 566, 592, 6...</td>\n",
       "      <td>[940, 1861]</td>\n",
       "      <td>[NEGOTIATIONS WITH THE  caretaker went smoothl...</td>\n",
       "      <td>Alfred Birnbaum</td>\n",
       "      <td>A Wild Sheep Chase</td>\n",
       "    </tr>\n",
       "    <tr>\n",
       "      <th>31</th>\n",
       "      <td>32</td>\n",
       "      <td>An Unlucky Bend in the Road</td>\n",
       "      <td>THE MORNING WAS  hazy and cool.  I sympathized...</td>\n",
       "      <td>[30, 63, 139, 202, 259, 334, 404, 478, 514, 59...</td>\n",
       "      <td>[971, 1970, 2955, 3949, 4929, 5971, 6974, 7971...</td>\n",
       "      <td>[THE MORNING WAS  hazy and cool.  I sympathize...</td>\n",
       "      <td>Alfred Birnbaum</td>\n",
       "      <td>A Wild Sheep Chase</td>\n",
       "    </tr>\n",
       "    <tr>\n",
       "      <th>32</th>\n",
       "      <td>33</td>\n",
       "      <td>She Leaves the Mountain; Hunger Strikes</td>\n",
       "      <td>THE CLOCK STRUCK  six and I woke up on the sof...</td>\n",
       "      <td>[47, 112, 186, 230, 299, 399, 503, 549, 601, 6...</td>\n",
       "      <td>[900, 1958, 2991, 3946, 4962]</td>\n",
       "      <td>[THE CLOCK STRUCK  six and I woke up on the so...</td>\n",
       "      <td>Alfred Birnbaum</td>\n",
       "      <td>A Wild Sheep Chase</td>\n",
       "    </tr>\n",
       "    <tr>\n",
       "      <th>33</th>\n",
       "      <td>34</td>\n",
       "      <td>A Find in the Garage; Thoughts in the Middle o...</td>\n",
       "      <td>BIRDS OF A  kind I’d never seen before clung l...</td>\n",
       "      <td>[118, 165, 257, 361, 458, 497, 577, 685, 735, ...</td>\n",
       "      <td>[986, 1957, 2960, 3920, 4931]</td>\n",
       "      <td>[BIRDS OF A  kind I’d never seen before clung ...</td>\n",
       "      <td>Alfred Birnbaum</td>\n",
       "      <td>A Wild Sheep Chase</td>\n",
       "    </tr>\n",
       "    <tr>\n",
       "      <th>34</th>\n",
       "      <td>35</td>\n",
       "      <td>The Sheep Man Cometh</td>\n",
       "      <td>AS THE CLOCK  struck two, there came a knockin...</td>\n",
       "      <td>[59, 118, 168, 229, 272, 362, 476, 507, 583, 6...</td>\n",
       "      <td>[852, 1920, 2998, 3963, 4991, 5981, 6980, 7981...</td>\n",
       "      <td>[AS THE CLOCK  struck two, there came a knocki...</td>\n",
       "      <td>Alfred Birnbaum</td>\n",
       "      <td>A Wild Sheep Chase</td>\n",
       "    </tr>\n",
       "    <tr>\n",
       "      <th>35</th>\n",
       "      <td>36</td>\n",
       "      <td>The Winds’ Own Private Thoroughfare</td>\n",
       "      <td>THREE UNEVENTFUL DAYS  passed.  Not one thing ...</td>\n",
       "      <td>[29, 54, 82, 185, 242, 429, 501, 536, 564, 637...</td>\n",
       "      <td>[997, 1997, 2955, 3973, 4952, 5954, 6988, 7904...</td>\n",
       "      <td>[THREE UNEVENTFUL DAYS  passed.  Not one thing...</td>\n",
       "      <td>Alfred Birnbaum</td>\n",
       "      <td>A Wild Sheep Chase</td>\n",
       "    </tr>\n",
       "    <tr>\n",
       "      <th>36</th>\n",
       "      <td>37</td>\n",
       "      <td>Things the Mirror Shows, Things the Mirror Doe...</td>\n",
       "      <td>THE MORNING OF  the tenth day, I decided to fo...</td>\n",
       "      <td>[61, 117, 176, 249, 299, 322, 383, 503, 537, 6...</td>\n",
       "      <td>[985, 1983, 2981, 3990, 4956, 5918, 6978, 7975...</td>\n",
       "      <td>[THE MORNING OF  the tenth day, I decided to f...</td>\n",
       "      <td>Alfred Birnbaum</td>\n",
       "      <td>A Wild Sheep Chase</td>\n",
       "    </tr>\n",
       "    <tr>\n",
       "      <th>37</th>\n",
       "      <td>38</td>\n",
       "      <td>And So Time Passes</td>\n",
       "      <td>DARKNESS CREPT IN  through my ear like oil.  S...</td>\n",
       "      <td>[42, 127, 179, 214, 241, 274, 309, 343, 491, 5...</td>\n",
       "      <td>[944, 1997]</td>\n",
       "      <td>[DARKNESS CREPT IN  through my ear like oil.  ...</td>\n",
       "      <td>Alfred Birnbaum</td>\n",
       "      <td>A Wild Sheep Chase</td>\n",
       "    </tr>\n",
       "    <tr>\n",
       "      <th>38</th>\n",
       "      <td>39</td>\n",
       "      <td>Dwellers in Darkness</td>\n",
       "      <td>“ FINE BY ME ,” said I. \\n “I came an hour ear...</td>\n",
       "      <td>[22, 103, 119, 161, 189, 208, 244, 287, 387, 4...</td>\n",
       "      <td>[942, 1949, 2880, 3901, 4992, 5993]</td>\n",
       "      <td>[“ FINE BY ME ,” said I. \\n “I came an hour ea...</td>\n",
       "      <td>Alfred Birnbaum</td>\n",
       "      <td>A Wild Sheep Chase</td>\n",
       "    </tr>\n",
       "    <tr>\n",
       "      <th>39</th>\n",
       "      <td>40</td>\n",
       "      <td>The Rat Who Wound the Clock</td>\n",
       "      <td>“ I HANGED MYSELF  from a beam in the kitchen,...</td>\n",
       "      <td>[60, 106, 184, 218, 260, 322, 355, 439, 512, 6...</td>\n",
       "      <td>[992, 1979, 2980, 3933, 4988, 5995, 6986, 7994...</td>\n",
       "      <td>[“ I HANGED MYSELF  from a beam in the kitchen...</td>\n",
       "      <td>Alfred Birnbaum</td>\n",
       "      <td>A Wild Sheep Chase</td>\n",
       "    </tr>\n",
       "    <tr>\n",
       "      <th>40</th>\n",
       "      <td>41</td>\n",
       "      <td>Green Cords and Red Cords; Frozen Seagulls</td>\n",
       "      <td>AFTER THE RAT  disappeared, an unbearable cold...</td>\n",
       "      <td>[74, 148, 219, 274, 325, 421, 477, 562, 599, 6...</td>\n",
       "      <td>[984]</td>\n",
       "      <td>[AFTER THE RAT  disappeared, an unbearable col...</td>\n",
       "      <td>Alfred Birnbaum</td>\n",
       "      <td>A Wild Sheep Chase</td>\n",
       "    </tr>\n",
       "    <tr>\n",
       "      <th>41</th>\n",
       "      <td>42</td>\n",
       "      <td>Return Visit to the Unlucky Bend</td>\n",
       "      <td>BIRDS WERE SINGING . \\n Sunlight spilled in st...</td>\n",
       "      <td>[19, 96, 136, 217, 268, 315, 380, 444, 564, 61...</td>\n",
       "      <td>[959, 1998, 2992]</td>\n",
       "      <td>[BIRDS WERE SINGING . \\n Sunlight spilled in s...</td>\n",
       "      <td>Alfred Birnbaum</td>\n",
       "      <td>A Wild Sheep Chase</td>\n",
       "    </tr>\n",
       "    <tr>\n",
       "      <th>42</th>\n",
       "      <td>43</td>\n",
       "      <td>The Twelve-O’clock Rendezvous</td>\n",
       "      <td>“ I HAVE BEEN  waiting for you,” said the man ...</td>\n",
       "      <td>[63, 97, 194, 277, 338, 352, 394, 474, 532, 59...</td>\n",
       "      <td>[987, 1985, 2968, 3987, 4999]</td>\n",
       "      <td>[“ I HAVE BEEN  waiting for you,” said the man...</td>\n",
       "      <td>Alfred Birnbaum</td>\n",
       "      <td>A Wild Sheep Chase</td>\n",
       "    </tr>\n",
       "    <tr>\n",
       "      <th>43</th>\n",
       "      <td>EPILOGUE</td>\n",
       "      <td>“ IT’S ALL OVER ,” said the Sheep Professor, “...</td>\n",
       "      <td>“Over and done.” \\n “I suppose I should thank ...</td>\n",
       "      <td>[14, 48, 95, 153, 177, 202, 289, 418, 492, 534...</td>\n",
       "      <td>[929, 1984, 2996, 3928, 4974, 5948]</td>\n",
       "      <td>[“Over and done.” \\n “I suppose I should thank...</td>\n",
       "      <td>Alfred Birnbaum</td>\n",
       "      <td>A Wild Sheep Chase</td>\n",
       "    </tr>\n",
       "  </tbody>\n",
       "</table>\n",
       "</div>"
      ],
      "text/plain": [
       "      number                                              title  \\\n",
       "0          1                         Wednesday Afternoon Picnic   \n",
       "1          2                                      Sixteen Steps   \n",
       "2          3                                           The Slip   \n",
       "3          4  The Whale’s Penis and the Woman with Three Occ...   \n",
       "4          5                                     Unblocked Ears   \n",
       "5          6           The Further Adventures of Unblocked Ears   \n",
       "6          7                             Before the Strange Man   \n",
       "7          8                                Now the Strange Man   \n",
       "8          9                                       “ The Boss ”   \n",
       "9         10                                     Counting Sheep   \n",
       "10        11                            The Limo and Its Driver   \n",
       "11        12                        Wherefore the Worm Universe   \n",
       "12        13                             The Rat’s First Letter   \n",
       "13        14                            The Rat’s Second Letter   \n",
       "14        15                                   The Song Is Over   \n",
       "15        16  She Drinks Her Salty Dog, Talking about the So...   \n",
       "16        17                     The Strange Man’s Strange Tale   \n",
       "17        18             The Strange Man’s Strange Tale Goes On   \n",
       "18        19                     The Limo and Its Driver, Again   \n",
       "19        20                   Summer’s End, Autumn’s Beginning   \n",
       "20        21                               One in Five Thousand   \n",
       "21        22                            Sunday Afternoon Picnic   \n",
       "22        23                     Limited but Tenacious Thinking   \n",
       "23        24                                 One for the Kipper   \n",
       "24        25  Transit Completed at Movie Theater; On to the ...   \n",
       "25        26                          Enter the Sheep Professor   \n",
       "26        27            The Sheep Professor Eats All, Tells All   \n",
       "27        28                      Farewell to the Dolphin Hotel   \n",
       "28        29     The Birth, Rise, and Fall of Junitaki Township   \n",
       "29        30      The Further Decline of Junitaki and Its Sheep   \n",
       "30        31                                  Night in Junitaki   \n",
       "31        32                        An Unlucky Bend in the Road   \n",
       "32        33            She Leaves the Mountain; Hunger Strikes   \n",
       "33        34  A Find in the Garage; Thoughts in the Middle o...   \n",
       "34        35                               The Sheep Man Cometh   \n",
       "35        36                The Winds’ Own Private Thoroughfare   \n",
       "36        37  Things the Mirror Shows, Things the Mirror Doe...   \n",
       "37        38                                 And So Time Passes   \n",
       "38        39                               Dwellers in Darkness   \n",
       "39        40                        The Rat Who Wound the Clock   \n",
       "40        41         Green Cords and Red Cords; Frozen Seagulls   \n",
       "41        42                   Return Visit to the Unlucky Bend   \n",
       "42        43                      The Twelve-O’clock Rendezvous   \n",
       "43  EPILOGUE  “ IT’S ALL OVER ,” said the Sheep Professor, “...   \n",
       "\n",
       "                                                 text  \\\n",
       "0   IT WAS A  short one-paragraph item in the morn...   \n",
       "1   I WAITED FOR  the compressed-air hiss of the e...   \n",
       "2   ONCE SHE WAS  gone, I downed another cola, the...   \n",
       "3   TO SLEEP WITH  a woman: it can seem of the utm...   \n",
       "4   “ SEE WHAT I  mean?”  she said. \\n She’d becom...   \n",
       "5   THE MANIFESTATION OF  her full splendor, thoug...   \n",
       "6   THERE ARE VARIOUS  reasons why an individual m...   \n",
       "7   IT WAS ELEVEN  o’clock in the morning when the...   \n",
       "8   “ THAT’S THE SIZE  of it,” said my partner. \\n...   \n",
       "9   WE CAN, IF  we so choose, wander aimlessly ove...   \n",
       "10  THE CAR CAME  at four, as promised.  Exactly o...   \n",
       "11  THERE ARE SYMBOLIC  dreams—dreams that symboli...   \n",
       "12  ( Postmarked December 21st, One Year Ago ) \\n ...   \n",
       "13  ( Postmarked May, This Year ) \\n LAST LETTER I...   \n",
       "14  IT WAS JUNE  before I returned to the town. \\n...   \n",
       "15  “ I HAVE A  letter for you,” I said. \\n “For m...   \n",
       "16  THE BLACK-SUITED SECRETARY  took his chair and...   \n",
       "17  “ JUST A WHILE  ago, I made reference to your ...   \n",
       "18  “ WILL YOU BE  returning to your office?  Or t...   \n",
       "19  BY THE TIME  the limousine reached its destina...   \n",
       "20  RETURNING TO MY  apartment from the hotel bar,...   \n",
       "21  I WOKE UP  at nine in an empty bed.  No note. ...   \n",
       "22  AT SIX O’CLOCK , she got dressed, brushed her ...   \n",
       "23  AT TEN IN  the morning, that ridiculous submar...   \n",
       "24  THE ENTIRE FLIGHT,  she sat by the window and ...   \n",
       "25  WE WOKE THE  next morning at eight, donned our...   \n",
       "26  ACCORDING TO HIS  Dolphin Hotel-owner son, the...   \n",
       "27  WE TOOK ONE  day to ready for our departure. \\...   \n",
       "28  IT WAS AN  early morning train we took from Sa...   \n",
       "29  WE CAUGHT THE  connecting train in Asahikawa a...   \n",
       "30  NEGOTIATIONS WITH THE  caretaker went smoothly...   \n",
       "31  THE MORNING WAS  hazy and cool.  I sympathized...   \n",
       "32  THE CLOCK STRUCK  six and I woke up on the sof...   \n",
       "33  BIRDS OF A  kind I’d never seen before clung l...   \n",
       "34  AS THE CLOCK  struck two, there came a knockin...   \n",
       "35  THREE UNEVENTFUL DAYS  passed.  Not one thing ...   \n",
       "36  THE MORNING OF  the tenth day, I decided to fo...   \n",
       "37  DARKNESS CREPT IN  through my ear like oil.  S...   \n",
       "38  “ FINE BY ME ,” said I. \\n “I came an hour ear...   \n",
       "39  “ I HANGED MYSELF  from a beam in the kitchen,...   \n",
       "40  AFTER THE RAT  disappeared, an unbearable cold...   \n",
       "41  BIRDS WERE SINGING . \\n Sunlight spilled in st...   \n",
       "42  “ I HAVE BEEN  waiting for you,” said the man ...   \n",
       "43  “Over and done.” \\n “I suppose I should thank ...   \n",
       "\n",
       "                                        fstop_indices  \\\n",
       "0   [57, 97, 115, 196, 318, 385, 420, 445, 504, 65...   \n",
       "1   [101, 215, 252, 271, 338, 413, 468, 625, 706, ...   \n",
       "2   [76, 157, 246, 302, 371, 507, 543, 627, 699, 8...   \n",
       "3   [125, 229, 420, 514, 598, 686, 788, 874, 937, ...   \n",
       "4   [30, 84, 129, 178, 243, 314, 382, 481, 541, 56...   \n",
       "5   [67, 229, 311, 369, 415, 450, 494, 560, 631, 7...   \n",
       "6   [151, 208, 257, 333, 441, 526, 546, 568, 684, ...   \n",
       "7   [55, 143, 199, 220, 238, 241, 321, 404, 443, 4...   \n",
       "8   [42, 118, 185, 260, 340, 402, 557, 614, 668, 7...   \n",
       "9   [78, 154, 245, 317, 509, 612, 738, 763, 828, 8...   \n",
       "10  [34, 76, 128, 193, 237, 292, 334, 503, 587, 65...   \n",
       "11  [61, 130, 215, 307, 351, 382, 460, 530, 652, 7...   \n",
       "12  [118, 212, 321, 480, 546, 639, 687, 802, 813, ...   \n",
       "13  [84, 133, 162, 228, 253, 280, 343, 396, 467, 5...   \n",
       "14  [42, 136, 251, 311, 407, 456, 544, 658, 816, 8...   \n",
       "15  [35, 58, 190, 257, 347, 396, 484, 517, 556, 61...   \n",
       "16  [81, 208, 258, 310, 345, 485, 718, 783, 833, 8...   \n",
       "17  [71, 114, 218, 279, 312, 380, 447, 538, 621, 6...   \n",
       "18  [85, 180, 213, 310, 358, 454, 498, 605, 646, 7...   \n",
       "19  [97, 229, 321, 364, 468, 491, 589, 623, 675, 7...   \n",
       "20  [121, 263, 329, 354, 413, 500, 563, 578, 622, ...   \n",
       "21  [34, 44, 106, 163, 257, 287, 353, 393, 441, 50...   \n",
       "22  [104, 168, 296, 326, 387, 411, 476, 536, 597, ...   \n",
       "23  [108, 216, 303, 361, 394, 436, 503, 567, 652, ...   \n",
       "24  [72, 135, 232, 377, 433, 504, 540, 576, 612, 6...   \n",
       "25  [130, 173, 263, 350, 398, 420, 479, 566, 580, ...   \n",
       "26  [95, 194, 259, 278, 352, 425, 501, 607, 632, 7...   \n",
       "27  [43, 207, 319, 394, 468, 550, 613, 677, 701, 7...   \n",
       "28  [64, 175, 256, 338, 517, 573, 597, 640, 749, 9...   \n",
       "29  [193, 316, 346, 407, 662, 743, 807, 903, 946, ...   \n",
       "30  [86, 207, 286, 308, 362, 481, 534, 566, 592, 6...   \n",
       "31  [30, 63, 139, 202, 259, 334, 404, 478, 514, 59...   \n",
       "32  [47, 112, 186, 230, 299, 399, 503, 549, 601, 6...   \n",
       "33  [118, 165, 257, 361, 458, 497, 577, 685, 735, ...   \n",
       "34  [59, 118, 168, 229, 272, 362, 476, 507, 583, 6...   \n",
       "35  [29, 54, 82, 185, 242, 429, 501, 536, 564, 637...   \n",
       "36  [61, 117, 176, 249, 299, 322, 383, 503, 537, 6...   \n",
       "37  [42, 127, 179, 214, 241, 274, 309, 343, 491, 5...   \n",
       "38  [22, 103, 119, 161, 189, 208, 244, 287, 387, 4...   \n",
       "39  [60, 106, 184, 218, 260, 322, 355, 439, 512, 6...   \n",
       "40  [74, 148, 219, 274, 325, 421, 477, 562, 599, 6...   \n",
       "41  [19, 96, 136, 217, 268, 315, 380, 444, 564, 61...   \n",
       "42  [63, 97, 194, 277, 338, 352, 394, 474, 532, 59...   \n",
       "43  [14, 48, 95, 153, 177, 202, 289, 418, 492, 534...   \n",
       "\n",
       "                                        split_indices  \\\n",
       "0   [967, 1924, 2998, 3982, 4935, 5975, 6995, 7961...   \n",
       "1   [965, 1976, 2982, 3963, 4966, 5989, 6994, 7905...   \n",
       "2                       [952, 1904, 2975, 3996, 4929]   \n",
       "3   [937, 1988, 2967, 3981, 4994, 5949, 6936, 7995...   \n",
       "4                                               [965]   \n",
       "5                       [978, 1992, 2974, 3965, 4976]   \n",
       "6   [942, 1963, 2878, 3990, 4981, 5977, 6944, 7951...   \n",
       "7   [924, 1958, 2949, 3961, 4921, 5970, 6975, 7948...   \n",
       "8           [942, 1946, 2923, 3917, 4996, 5895, 6959]   \n",
       "9                       [956, 1958, 2971, 3901, 4946]   \n",
       "10                      [945, 1967, 2937, 3911, 4976]   \n",
       "11    [988, 1977, 2978, 3987, 4974, 5937, 6903, 7952]   \n",
       "12    [988, 1980, 2999, 3905, 4897, 5959, 6963, 7981]   \n",
       "13  [994, 1892, 2981, 3911, 4944, 5982, 6995, 7967...   \n",
       "14  [997, 1982, 2895, 3892, 4958, 5983, 6967, 7982...   \n",
       "15  [969, 1969, 2888, 3994, 4906, 5932, 6968, 7985...   \n",
       "16  [937, 1987, 2996, 3983, 4999, 5985, 6998, 7917...   \n",
       "17  [981, 1973, 2998, 3949, 4912, 5940, 6998, 7939...   \n",
       "18                      [960, 1953, 2984, 3906, 4974]   \n",
       "19                      [993, 1949, 2924, 3932, 4983]   \n",
       "20          [986, 1996, 2968, 3976, 4961, 5999, 6905]   \n",
       "21  [935, 1945, 2987, 3942, 4978, 5975, 6913, 7937...   \n",
       "22  [994, 1993, 2970, 3980, 4947, 5998, 6984, 7949...   \n",
       "23  [924, 1998, 2926, 3897, 4998, 5918, 6987, 7963...   \n",
       "24  [934, 1977, 2992, 3945, 4888, 5999, 6996, 7961...   \n",
       "25  [988, 1915, 2979, 3961, 4938, 5911, 6879, 7997...   \n",
       "26  [965, 1956, 2936, 3962, 4915, 5952, 6976, 7989...   \n",
       "27                                  [926, 1925, 2974]   \n",
       "28  [905, 1948, 2989, 3986, 4879, 5965, 6894, 7995...   \n",
       "29  [946, 1942, 2938, 3978, 4994, 5939, 6979, 7982...   \n",
       "30                                        [940, 1861]   \n",
       "31  [971, 1970, 2955, 3949, 4929, 5971, 6974, 7971...   \n",
       "32                      [900, 1958, 2991, 3946, 4962]   \n",
       "33                      [986, 1957, 2960, 3920, 4931]   \n",
       "34  [852, 1920, 2998, 3963, 4991, 5981, 6980, 7981...   \n",
       "35  [997, 1997, 2955, 3973, 4952, 5954, 6988, 7904...   \n",
       "36  [985, 1983, 2981, 3990, 4956, 5918, 6978, 7975...   \n",
       "37                                        [944, 1997]   \n",
       "38                [942, 1949, 2880, 3901, 4992, 5993]   \n",
       "39  [992, 1979, 2980, 3933, 4988, 5995, 6986, 7994...   \n",
       "40                                              [984]   \n",
       "41                                  [959, 1998, 2992]   \n",
       "42                      [987, 1985, 2968, 3987, 4999]   \n",
       "43                [929, 1984, 2996, 3928, 4974, 5948]   \n",
       "\n",
       "                                               chunks       translator  \\\n",
       "0   [IT WAS A  short one-paragraph item in the mor...  Alfred Birnbaum   \n",
       "1   [I WAITED FOR  the compressed-air hiss of the ...  Alfred Birnbaum   \n",
       "2   [ONCE SHE WAS  gone, I downed another cola, th...  Alfred Birnbaum   \n",
       "3   [TO SLEEP WITH  a woman: it can seem of the ut...  Alfred Birnbaum   \n",
       "4   [“ SEE WHAT I  mean?”  she said. \\n She’d beco...  Alfred Birnbaum   \n",
       "5   [THE MANIFESTATION OF  her full splendor, thou...  Alfred Birnbaum   \n",
       "6   [THERE ARE VARIOUS  reasons why an individual ...  Alfred Birnbaum   \n",
       "7   [IT WAS ELEVEN  o’clock in the morning when th...  Alfred Birnbaum   \n",
       "8   [“ THAT’S THE SIZE  of it,” said my partner. \\...  Alfred Birnbaum   \n",
       "9   [WE CAN, IF  we so choose, wander aimlessly ov...  Alfred Birnbaum   \n",
       "10  [THE CAR CAME  at four, as promised.  Exactly ...  Alfred Birnbaum   \n",
       "11  [THERE ARE SYMBOLIC  dreams—dreams that symbol...  Alfred Birnbaum   \n",
       "12  [( Postmarked December 21st, One Year Ago ) \\n...  Alfred Birnbaum   \n",
       "13  [( Postmarked May, This Year ) \\n LAST LETTER ...  Alfred Birnbaum   \n",
       "14  [IT WAS JUNE  before I returned to the town. \\...  Alfred Birnbaum   \n",
       "15  [“ I HAVE A  letter for you,” I said. \\n “For ...  Alfred Birnbaum   \n",
       "16  [THE BLACK-SUITED SECRETARY  took his chair an...  Alfred Birnbaum   \n",
       "17  [“ JUST A WHILE  ago, I made reference to your...  Alfred Birnbaum   \n",
       "18  [“ WILL YOU BE  returning to your office?  Or ...  Alfred Birnbaum   \n",
       "19  [BY THE TIME  the limousine reached its destin...  Alfred Birnbaum   \n",
       "20  [RETURNING TO MY  apartment from the hotel bar...  Alfred Birnbaum   \n",
       "21  [I WOKE UP  at nine in an empty bed.  No note....  Alfred Birnbaum   \n",
       "22  [AT SIX O’CLOCK , she got dressed, brushed her...  Alfred Birnbaum   \n",
       "23  [AT TEN IN  the morning, that ridiculous subma...  Alfred Birnbaum   \n",
       "24  [THE ENTIRE FLIGHT,  she sat by the window and...  Alfred Birnbaum   \n",
       "25  [WE WOKE THE  next morning at eight, donned ou...  Alfred Birnbaum   \n",
       "26  [ACCORDING TO HIS  Dolphin Hotel-owner son, th...  Alfred Birnbaum   \n",
       "27  [WE TOOK ONE  day to ready for our departure. ...  Alfred Birnbaum   \n",
       "28  [IT WAS AN  early morning train we took from S...  Alfred Birnbaum   \n",
       "29  [WE CAUGHT THE  connecting train in Asahikawa ...  Alfred Birnbaum   \n",
       "30  [NEGOTIATIONS WITH THE  caretaker went smoothl...  Alfred Birnbaum   \n",
       "31  [THE MORNING WAS  hazy and cool.  I sympathize...  Alfred Birnbaum   \n",
       "32  [THE CLOCK STRUCK  six and I woke up on the so...  Alfred Birnbaum   \n",
       "33  [BIRDS OF A  kind I’d never seen before clung ...  Alfred Birnbaum   \n",
       "34  [AS THE CLOCK  struck two, there came a knocki...  Alfred Birnbaum   \n",
       "35  [THREE UNEVENTFUL DAYS  passed.  Not one thing...  Alfred Birnbaum   \n",
       "36  [THE MORNING OF  the tenth day, I decided to f...  Alfred Birnbaum   \n",
       "37  [DARKNESS CREPT IN  through my ear like oil.  ...  Alfred Birnbaum   \n",
       "38  [“ FINE BY ME ,” said I. \\n “I came an hour ea...  Alfred Birnbaum   \n",
       "39  [“ I HANGED MYSELF  from a beam in the kitchen...  Alfred Birnbaum   \n",
       "40  [AFTER THE RAT  disappeared, an unbearable col...  Alfred Birnbaum   \n",
       "41  [BIRDS WERE SINGING . \\n Sunlight spilled in s...  Alfred Birnbaum   \n",
       "42  [“ I HAVE BEEN  waiting for you,” said the man...  Alfred Birnbaum   \n",
       "43  [“Over and done.” \\n “I suppose I should thank...  Alfred Birnbaum   \n",
       "\n",
       "            book_title  \n",
       "0   A Wild Sheep Chase  \n",
       "1   A Wild Sheep Chase  \n",
       "2   A Wild Sheep Chase  \n",
       "3   A Wild Sheep Chase  \n",
       "4   A Wild Sheep Chase  \n",
       "5   A Wild Sheep Chase  \n",
       "6   A Wild Sheep Chase  \n",
       "7   A Wild Sheep Chase  \n",
       "8   A Wild Sheep Chase  \n",
       "9   A Wild Sheep Chase  \n",
       "10  A Wild Sheep Chase  \n",
       "11  A Wild Sheep Chase  \n",
       "12  A Wild Sheep Chase  \n",
       "13  A Wild Sheep Chase  \n",
       "14  A Wild Sheep Chase  \n",
       "15  A Wild Sheep Chase  \n",
       "16  A Wild Sheep Chase  \n",
       "17  A Wild Sheep Chase  \n",
       "18  A Wild Sheep Chase  \n",
       "19  A Wild Sheep Chase  \n",
       "20  A Wild Sheep Chase  \n",
       "21  A Wild Sheep Chase  \n",
       "22  A Wild Sheep Chase  \n",
       "23  A Wild Sheep Chase  \n",
       "24  A Wild Sheep Chase  \n",
       "25  A Wild Sheep Chase  \n",
       "26  A Wild Sheep Chase  \n",
       "27  A Wild Sheep Chase  \n",
       "28  A Wild Sheep Chase  \n",
       "29  A Wild Sheep Chase  \n",
       "30  A Wild Sheep Chase  \n",
       "31  A Wild Sheep Chase  \n",
       "32  A Wild Sheep Chase  \n",
       "33  A Wild Sheep Chase  \n",
       "34  A Wild Sheep Chase  \n",
       "35  A Wild Sheep Chase  \n",
       "36  A Wild Sheep Chase  \n",
       "37  A Wild Sheep Chase  \n",
       "38  A Wild Sheep Chase  \n",
       "39  A Wild Sheep Chase  \n",
       "40  A Wild Sheep Chase  \n",
       "41  A Wild Sheep Chase  \n",
       "42  A Wild Sheep Chase  \n",
       "43  A Wild Sheep Chase  "
      ]
     },
     "execution_count": 47,
     "metadata": {},
     "output_type": "execute_result"
    }
   ],
   "source": [
    "read_wsc"
   ]
  },
  {
   "cell_type": "markdown",
   "metadata": {},
   "source": [
    "### Initial cleaning and preparation of 'Dance Dance Dance' Text"
   ]
  },
  {
   "cell_type": "code",
   "execution_count": 48,
   "metadata": {
    "ExecuteTime": {
     "end_time": "2020-06-01T20:48:54.504978Z",
     "start_time": "2020-06-01T20:48:54.495974Z"
    }
   },
   "outputs": [],
   "source": [
    "ddd = books['full_text'].iloc[7]"
   ]
  },
  {
   "cell_type": "code",
   "execution_count": 49,
   "metadata": {
    "ExecuteTime": {
     "end_time": "2020-06-01T20:48:54.948091Z",
     "start_time": "2020-06-01T20:48:54.941350Z"
    }
   },
   "outputs": [
    {
     "data": {
      "text/plain": [
       "56"
      ]
     },
     "execution_count": 49,
     "metadata": {},
     "output_type": "execute_result"
    }
   ],
   "source": [
    "len(ddd)"
   ]
  },
  {
   "cell_type": "markdown",
   "metadata": {},
   "source": [
    "Selecting text from within list by manula check"
   ]
  },
  {
   "cell_type": "code",
   "execution_count": 50,
   "metadata": {
    "ExecuteTime": {
     "end_time": "2020-06-01T20:48:55.930178Z",
     "start_time": "2020-06-01T20:48:55.923716Z"
    }
   },
   "outputs": [
    {
     "data": {
      "text/plain": [
       "'\\n I OFTEN DREAM  about the Dol'"
      ]
     },
     "execution_count": 50,
     "metadata": {},
     "output_type": "execute_result"
    }
   ],
   "source": [
    "ddd[7][:30]"
   ]
  },
  {
   "cell_type": "code",
   "execution_count": 51,
   "metadata": {
    "ExecuteTime": {
     "end_time": "2020-06-01T20:48:56.442371Z",
     "start_time": "2020-06-01T20:48:56.436142Z"
    }
   },
   "outputs": [
    {
     "data": {
      "text/plain": [
       "'ispered.  “It’s morning.” \\n \\n '"
      ]
     },
     "execution_count": 51,
     "metadata": {},
     "output_type": "execute_result"
    }
   ],
   "source": [
    "ddd[50][-30:]"
   ]
  },
  {
   "cell_type": "code",
   "execution_count": 52,
   "metadata": {
    "ExecuteTime": {
     "end_time": "2020-06-01T20:48:56.895310Z",
     "start_time": "2020-06-01T20:48:56.891401Z"
    }
   },
   "outputs": [],
   "source": [
    "ch_texts = ddd[7:51]"
   ]
  },
  {
   "cell_type": "markdown",
   "metadata": {},
   "source": [
    "* No chapter titles available in the actual text so create them using counters\n",
    "* Run similar splitting on full stops and add columnsa as before"
   ]
  },
  {
   "cell_type": "code",
   "execution_count": 53,
   "metadata": {
    "ExecuteTime": {
     "end_time": "2020-06-01T20:48:57.625941Z",
     "start_time": "2020-06-01T20:48:57.395838Z"
    }
   },
   "outputs": [],
   "source": [
    "ch_nos = range(1,45)\n",
    "ch_titles = range(1,45)\n",
    "chapters = pd.DataFrame({'number': ch_nos, 'title': ch_titles, 'text': ch_texts})\n",
    "chapters['fstop_indices'] = chapters['text'].apply(lambda x: fs_indexer(x))\n",
    "chapters['split_indices'] = chapters['text'].apply(lambda x: split_indexer(x))\n",
    "chapters['chunks'] = chapters['text'].apply(lambda x: text_chunker(x))\n",
    "chapters['translator'] = 'Alfred Birnbaum'\n",
    "chapters['book_title'] = 'Dance Dance Dance'"
   ]
  },
  {
   "cell_type": "code",
   "execution_count": 54,
   "metadata": {
    "ExecuteTime": {
     "end_time": "2020-06-01T20:48:57.692237Z",
     "start_time": "2020-06-01T20:48:57.662396Z"
    }
   },
   "outputs": [
    {
     "data": {
      "text/html": [
       "<div>\n",
       "<style scoped>\n",
       "    .dataframe tbody tr th:only-of-type {\n",
       "        vertical-align: middle;\n",
       "    }\n",
       "\n",
       "    .dataframe tbody tr th {\n",
       "        vertical-align: top;\n",
       "    }\n",
       "\n",
       "    .dataframe thead th {\n",
       "        text-align: right;\n",
       "    }\n",
       "</style>\n",
       "<table border=\"1\" class=\"dataframe\">\n",
       "  <thead>\n",
       "    <tr style=\"text-align: right;\">\n",
       "      <th></th>\n",
       "      <th>number</th>\n",
       "      <th>title</th>\n",
       "      <th>text</th>\n",
       "      <th>fstop_indices</th>\n",
       "      <th>split_indices</th>\n",
       "      <th>chunks</th>\n",
       "      <th>translator</th>\n",
       "      <th>book_title</th>\n",
       "    </tr>\n",
       "  </thead>\n",
       "  <tbody>\n",
       "    <tr>\n",
       "      <th>0</th>\n",
       "      <td>1</td>\n",
       "      <td>1</td>\n",
       "      <td>\\n I OFTEN DREAM  about the Dolphin Hotel. \\n ...</td>\n",
       "      <td>[40, 119, 182, 233, 277, 322, 360, 396, 421, 4...</td>\n",
       "      <td>[881, 1974, 2990, 3882, 4988, 5962, 6982, 7990...</td>\n",
       "      <td>[\\n I OFTEN DREAM  about the Dolphin Hotel. \\n...</td>\n",
       "      <td>Alfred Birnbaum</td>\n",
       "      <td>Dance Dance Dance</td>\n",
       "    </tr>\n",
       "    <tr>\n",
       "      <th>1</th>\n",
       "      <td>2</td>\n",
       "      <td>2</td>\n",
       "      <td>\\n I GOT SENT  to Hokkaido on assignment.  As ...</td>\n",
       "      <td>[39, 121, 208, 314, 519, 605, 660, 736, 781, 8...</td>\n",
       "      <td>[995, 1977, 2983, 3986, 4999, 5949, 6950]</td>\n",
       "      <td>[\\n I GOT SENT  to Hokkaido on assignment.  As...</td>\n",
       "      <td>Alfred Birnbaum</td>\n",
       "      <td>Dance Dance Dance</td>\n",
       "    </tr>\n",
       "    <tr>\n",
       "      <th>2</th>\n",
       "      <td>3</td>\n",
       "      <td>3</td>\n",
       "      <td>\\n IT TAKES NO  great effort to find work in t...</td>\n",
       "      <td>[95, 161, 287, 368, 407, 459, 497, 558, 596, 6...</td>\n",
       "      <td>[945, 1969, 2946, 3985, 4976, 5994, 6958, 7840]</td>\n",
       "      <td>[\\n IT TAKES NO  great effort to find work in ...</td>\n",
       "      <td>Alfred Birnbaum</td>\n",
       "      <td>Dance Dance Dance</td>\n",
       "    </tr>\n",
       "    <tr>\n",
       "      <th>3</th>\n",
       "      <td>4</td>\n",
       "      <td>4</td>\n",
       "      <td>\\n I BOOKED A  taxi for two days, and the phot...</td>\n",
       "      <td>[127, 187, 282, 299, 428, 505, 597, 723, 784, ...</td>\n",
       "      <td>[979, 1960, 2993, 3999, 4943, 5959, 6979, 7964...</td>\n",
       "      <td>[\\n I BOOKED A  taxi for two days, and the pho...</td>\n",
       "      <td>Alfred Birnbaum</td>\n",
       "      <td>Dance Dance Dance</td>\n",
       "    </tr>\n",
       "    <tr>\n",
       "      <th>4</th>\n",
       "      <td>5</td>\n",
       "      <td>5</td>\n",
       "      <td>\\n I COULDN’T STAND  around gawking at the faç...</td>\n",
       "      <td>[56, 145, 222, 321, 407, 502, 634, 649, 747, 8...</td>\n",
       "      <td>[877, 1975, 2889, 3971, 4904, 5992, 6983, 7952...</td>\n",
       "      <td>[\\n I COULDN’T STAND  around gawking at the fa...</td>\n",
       "      <td>Alfred Birnbaum</td>\n",
       "      <td>Dance Dance Dance</td>\n",
       "    </tr>\n",
       "  </tbody>\n",
       "</table>\n",
       "</div>"
      ],
      "text/plain": [
       "   number  title                                               text  \\\n",
       "0       1      1  \\n I OFTEN DREAM  about the Dolphin Hotel. \\n ...   \n",
       "1       2      2  \\n I GOT SENT  to Hokkaido on assignment.  As ...   \n",
       "2       3      3  \\n IT TAKES NO  great effort to find work in t...   \n",
       "3       4      4  \\n I BOOKED A  taxi for two days, and the phot...   \n",
       "4       5      5  \\n I COULDN’T STAND  around gawking at the faç...   \n",
       "\n",
       "                                       fstop_indices  \\\n",
       "0  [40, 119, 182, 233, 277, 322, 360, 396, 421, 4...   \n",
       "1  [39, 121, 208, 314, 519, 605, 660, 736, 781, 8...   \n",
       "2  [95, 161, 287, 368, 407, 459, 497, 558, 596, 6...   \n",
       "3  [127, 187, 282, 299, 428, 505, 597, 723, 784, ...   \n",
       "4  [56, 145, 222, 321, 407, 502, 634, 649, 747, 8...   \n",
       "\n",
       "                                       split_indices  \\\n",
       "0  [881, 1974, 2990, 3882, 4988, 5962, 6982, 7990...   \n",
       "1          [995, 1977, 2983, 3986, 4999, 5949, 6950]   \n",
       "2    [945, 1969, 2946, 3985, 4976, 5994, 6958, 7840]   \n",
       "3  [979, 1960, 2993, 3999, 4943, 5959, 6979, 7964...   \n",
       "4  [877, 1975, 2889, 3971, 4904, 5992, 6983, 7952...   \n",
       "\n",
       "                                              chunks       translator  \\\n",
       "0  [\\n I OFTEN DREAM  about the Dolphin Hotel. \\n...  Alfred Birnbaum   \n",
       "1  [\\n I GOT SENT  to Hokkaido on assignment.  As...  Alfred Birnbaum   \n",
       "2  [\\n IT TAKES NO  great effort to find work in ...  Alfred Birnbaum   \n",
       "3  [\\n I BOOKED A  taxi for two days, and the pho...  Alfred Birnbaum   \n",
       "4  [\\n I COULDN’T STAND  around gawking at the fa...  Alfred Birnbaum   \n",
       "\n",
       "          book_title  \n",
       "0  Dance Dance Dance  \n",
       "1  Dance Dance Dance  \n",
       "2  Dance Dance Dance  \n",
       "3  Dance Dance Dance  \n",
       "4  Dance Dance Dance  "
      ]
     },
     "execution_count": 54,
     "metadata": {},
     "output_type": "execute_result"
    }
   ],
   "source": [
    "chapters.head()"
   ]
  },
  {
   "cell_type": "code",
   "execution_count": 55,
   "metadata": {
    "ExecuteTime": {
     "end_time": "2020-06-01T20:48:58.260791Z",
     "start_time": "2020-06-01T20:48:57.927923Z"
    }
   },
   "outputs": [
    {
     "data": {
      "image/png": "[encoded data removed]",
      "text/plain": [
       "<Figure size 432x288 with 1 Axes>"
      ]
     },
     "metadata": {
      "image/png": {
       "height": 256,
       "width": 386
      },
      "needs_background": "light"
     },
     "output_type": "display_data"
    }
   ],
   "source": [
    "lengths = []\n",
    "for chapter in chapters['chunks']:\n",
    "    for chunk in chapter:\n",
    "        lengths.append(len(chunk))\n",
    "plt.hist(lengths, bins=20);"
   ]
  },
  {
   "cell_type": "code",
   "execution_count": 56,
   "metadata": {
    "ExecuteTime": {
     "end_time": "2020-06-01T20:48:58.273364Z",
     "start_time": "2020-06-01T20:48:58.264857Z"
    }
   },
   "outputs": [
    {
     "data": {
      "text/plain": [
       "650"
      ]
     },
     "execution_count": 56,
     "metadata": {},
     "output_type": "execute_result"
    }
   ],
   "source": [
    "len(lengths)"
   ]
  },
  {
   "cell_type": "code",
   "execution_count": 57,
   "metadata": {
    "ExecuteTime": {
     "end_time": "2020-06-01T20:48:58.434153Z",
     "start_time": "2020-06-01T20:48:58.430777Z"
    }
   },
   "outputs": [],
   "source": [
    "out_path = '../../../../Documents/murakami/pkl2/'\n",
    "out_name = 'ddd_birnbaum_v01'\n",
    "out_full_path = out_path + out_name + '.pkl'"
   ]
  },
  {
   "cell_type": "code",
   "execution_count": 58,
   "metadata": {
    "ExecuteTime": {
     "end_time": "2020-06-01T20:48:58.693053Z",
     "start_time": "2020-06-01T20:48:58.678422Z"
    }
   },
   "outputs": [],
   "source": [
    "# save pickle\n",
    "with open(out_full_path, 'wb') as fp:\n",
    "    pickle.dump(chapters, fp)\n",
    "\n",
    "\n",
    "# # read back pickle\n",
    "# with open (out_full_path, 'rb') as fp:\n",
    "#     read_ddd = pickle.load(fp)"
   ]
  },
  {
   "cell_type": "code",
   "execution_count": 59,
   "metadata": {
    "ExecuteTime": {
     "end_time": "2020-06-01T20:48:58.950019Z",
     "start_time": "2020-06-01T20:48:58.946839Z"
    }
   },
   "outputs": [],
   "source": [
    "# read_ddd.head()"
   ]
  },
  {
   "cell_type": "markdown",
   "metadata": {},
   "source": [
    "### Initial cleaning and preparation of 'Kafka On The Shore' Text"
   ]
  },
  {
   "cell_type": "code",
   "execution_count": 60,
   "metadata": {
    "ExecuteTime": {
     "end_time": "2020-06-01T20:48:59.473470Z",
     "start_time": "2020-06-01T20:48:59.467770Z"
    }
   },
   "outputs": [],
   "source": [
    "kots = books['full_text'].iloc[4]"
   ]
  },
  {
   "cell_type": "code",
   "execution_count": 61,
   "metadata": {
    "ExecuteTime": {
     "end_time": "2020-06-01T20:48:59.737055Z",
     "start_time": "2020-06-01T20:48:59.731151Z"
    }
   },
   "outputs": [
    {
     "data": {
      "text/plain": [
       "53"
      ]
     },
     "execution_count": 61,
     "metadata": {},
     "output_type": "execute_result"
    }
   ],
   "source": [
    "len(kots)"
   ]
  },
  {
   "cell_type": "code",
   "execution_count": 62,
   "metadata": {
    "ExecuteTime": {
     "end_time": "2020-06-01T20:49:00.003714Z",
     "start_time": "2020-06-01T20:48:59.998619Z"
    }
   },
   "outputs": [],
   "source": [
    "texts = [ch for i, ch in enumerate(kots) if i not in [0,2]]"
   ]
  },
  {
   "cell_type": "code",
   "execution_count": 63,
   "metadata": {
    "ExecuteTime": {
     "end_time": "2020-06-01T20:49:00.311939Z",
     "start_time": "2020-06-01T20:49:00.267710Z"
    }
   },
   "outputs": [],
   "source": [
    "pattern1 = re.compile(r'\\n ([\\w\\d\\s]+) \\n ([\\w\\W]+)')\n",
    "pattern2 = re.compile(r'\\n [\\w]+ ([\\d]+) \\n [\\w\\W]+')\n",
    "\n",
    "ch_nos = []\n",
    "ch_titles = []\n",
    "ch_texts = []\n",
    "\n",
    "for t in range(0,len(texts)):\n",
    "#     print(t)\n",
    "    out1 = re.findall(pattern1, texts[t])\n",
    "    out2 = re.findall(pattern2, texts[t])\n",
    "#     print(len(out2))\n",
    "    if len(out2) > 0:\n",
    "        ch_nos.append(out2[0])\n",
    "        ch_titles.append(out1[0][0])\n",
    "        ch_texts.append(out1[0][1])\n",
    "    else:\n",
    "        ch_nos.append(None)\n",
    "        ch_titles.append(out1[0][0])\n",
    "        ch_texts.append(out1[0][1])"
   ]
  },
  {
   "cell_type": "code",
   "execution_count": 64,
   "metadata": {
    "ExecuteTime": {
     "end_time": "2020-06-01T20:49:00.842822Z",
     "start_time": "2020-06-01T20:49:00.542239Z"
    }
   },
   "outputs": [
    {
     "data": {
      "text/html": [
       "<div>\n",
       "<style scoped>\n",
       "    .dataframe tbody tr th:only-of-type {\n",
       "        vertical-align: middle;\n",
       "    }\n",
       "\n",
       "    .dataframe tbody tr th {\n",
       "        vertical-align: top;\n",
       "    }\n",
       "\n",
       "    .dataframe thead th {\n",
       "        text-align: right;\n",
       "    }\n",
       "</style>\n",
       "<table border=\"1\" class=\"dataframe\">\n",
       "  <thead>\n",
       "    <tr style=\"text-align: right;\">\n",
       "      <th></th>\n",
       "      <th>number</th>\n",
       "      <th>title</th>\n",
       "      <th>text</th>\n",
       "      <th>fstop_indices</th>\n",
       "      <th>split_indices</th>\n",
       "      <th>chunks</th>\n",
       "      <th>translator</th>\n",
       "      <th>book_title</th>\n",
       "    </tr>\n",
       "  </thead>\n",
       "  <tbody>\n",
       "    <tr>\n",
       "      <th>1</th>\n",
       "      <td>1</td>\n",
       "      <td>Chapter 1</td>\n",
       "      <td>Cash isn't the only thing I take from my fathe...</td>\n",
       "      <td>[73, 186, 247, 304, 368, 418, 490, 564, 675, 7...</td>\n",
       "      <td>[898, 1995, 2985, 3931, 4933, 5923, 6938, 7978...</td>\n",
       "      <td>[Cash isn't the only thing I take from my fath...</td>\n",
       "      <td>Philip Gabriel</td>\n",
       "      <td>Kafka On The Shore</td>\n",
       "    </tr>\n",
       "    <tr>\n",
       "      <th>2</th>\n",
       "      <td>2</td>\n",
       "      <td>Chapter 2</td>\n",
       "      <td>The following document, classified Top Secret ...</td>\n",
       "      <td>[54, 56, 154, 222, 224, 252, 342, 375, 535, 57...</td>\n",
       "      <td>[878, 1901, 2996, 3947, 4936, 5847, 6928, 7936...</td>\n",
       "      <td>[The following document, classified Top Secret...</td>\n",
       "      <td>Philip Gabriel</td>\n",
       "      <td>Kafka On The Shore</td>\n",
       "    </tr>\n",
       "    <tr>\n",
       "      <th>3</th>\n",
       "      <td>3</td>\n",
       "      <td>Chapter 3</td>\n",
       "      <td>It's nearly dawn when I wake up. I draw the cu...</td>\n",
       "      <td>[31, 72, 149, 230, 283, 312, 422, 553, 644, 68...</td>\n",
       "      <td>[982, 1949, 2758, 3877, 4974, 5952, 6982, 7986...</td>\n",
       "      <td>[It's nearly dawn when I wake up. I draw the c...</td>\n",
       "      <td>Philip Gabriel</td>\n",
       "      <td>Kafka On The Shore</td>\n",
       "    </tr>\n",
       "    <tr>\n",
       "      <th>4</th>\n",
       "      <td>4</td>\n",
       "      <td>Chapter 4</td>\n",
       "      <td>U.S. ARMY INTELLIGENCE SECTION (MIS) REPORT \\n...</td>\n",
       "      <td>[1, 3, 322, 422, 461, 576, 664, 754, 784, 786,...</td>\n",
       "      <td>[989, 1967, 2950, 3983, 4907, 5960, 6955, 7944...</td>\n",
       "      <td>[U.S. ARMY INTELLIGENCE SECTION (MIS) REPORT \\...</td>\n",
       "      <td>Philip Gabriel</td>\n",
       "      <td>Kafka On The Shore</td>\n",
       "    </tr>\n",
       "    <tr>\n",
       "      <th>5</th>\n",
       "      <td>5</td>\n",
       "      <td>Chapter 5</td>\n",
       "      <td>I'm asleep when our bus drives across the huge...</td>\n",
       "      <td>[77, 162, 217, 253, 329, 421, 465, 559, 582, 5...</td>\n",
       "      <td>[979, 1980, 2983, 3987, 4922, 5957, 6952, 7958...</td>\n",
       "      <td>[I'm asleep when our bus drives across the hug...</td>\n",
       "      <td>Philip Gabriel</td>\n",
       "      <td>Kafka On The Shore</td>\n",
       "    </tr>\n",
       "    <tr>\n",
       "      <th>6</th>\n",
       "      <td>6</td>\n",
       "      <td>Chapter 6</td>\n",
       "      <td>Hello there,\" the old man called out. \\n The l...</td>\n",
       "      <td>[36, 147, 193, 216, 243, 249, 250, 251, 271, 3...</td>\n",
       "      <td>[971, 1951, 2976, 3923, 4927, 5921, 6963, 7948...</td>\n",
       "      <td>[Hello there,\" the old man called out. \\n The ...</td>\n",
       "      <td>Philip Gabriel</td>\n",
       "      <td>Kafka On The Shore</td>\n",
       "    </tr>\n",
       "    <tr>\n",
       "      <th>7</th>\n",
       "      <td>7</td>\n",
       "      <td>Chapter 7</td>\n",
       "      <td>At seven-fifteen I eat breakfast in the restau...</td>\n",
       "      <td>[98, 165, 228, 298, 320, 378, 415, 511, 582, 6...</td>\n",
       "      <td>[948, 1907, 2982, 3928, 4921, 5973, 6997, 7999...</td>\n",
       "      <td>[At seven-fifteen I eat breakfast in the resta...</td>\n",
       "      <td>Philip Gabriel</td>\n",
       "      <td>Kafka On The Shore</td>\n",
       "    </tr>\n",
       "    <tr>\n",
       "      <th>8</th>\n",
       "      <td>8</td>\n",
       "      <td>\\n Chapter 8</td>\n",
       "      <td>U.S. ARMY INTELLIGENCE SECTION (MIS) REPORT \\n...</td>\n",
       "      <td>[1, 3, 433, 537, 579, 618, 757, 869, 977, 1064...</td>\n",
       "      <td>[977, 1856, 2913, 3948, 4993, 5975, 6993, 7943...</td>\n",
       "      <td>[U.S. ARMY INTELLIGENCE SECTION (MIS) REPORT \\...</td>\n",
       "      <td>Philip Gabriel</td>\n",
       "      <td>Kafka On The Shore</td>\n",
       "    </tr>\n",
       "    <tr>\n",
       "      <th>9</th>\n",
       "      <td>9</td>\n",
       "      <td>Chapter 9</td>\n",
       "      <td>When I come to I'm in thick brush, lying there...</td>\n",
       "      <td>[79, 114, 247, 298, 357, 422, 493, 568, 615, 7...</td>\n",
       "      <td>[937, 1998, 2979, 3968, 4967, 5955, 6955, 7960...</td>\n",
       "      <td>[When I come to I'm in thick brush, lying ther...</td>\n",
       "      <td>Philip Gabriel</td>\n",
       "      <td>Kafka On The Shore</td>\n",
       "    </tr>\n",
       "    <tr>\n",
       "      <th>10</th>\n",
       "      <td>10</td>\n",
       "      <td>Chapter 10</td>\n",
       "      <td>Is it all right, then, if Nakata calls you Kaw...</td>\n",
       "      <td>[178, 302, 356, 444, 486, 532, 597, 632, 666, ...</td>\n",
       "      <td>[954, 1913, 2986, 3937, 4946, 5993, 6978, 7964...</td>\n",
       "      <td>[Is it all right, then, if Nakata calls you Ka...</td>\n",
       "      <td>Philip Gabriel</td>\n",
       "      <td>Kafka On The Shore</td>\n",
       "    </tr>\n",
       "  </tbody>\n",
       "</table>\n",
       "</div>"
      ],
      "text/plain": [
       "   number         title                                               text  \\\n",
       "1       1     Chapter 1  Cash isn't the only thing I take from my fathe...   \n",
       "2       2     Chapter 2  The following document, classified Top Secret ...   \n",
       "3       3     Chapter 3  It's nearly dawn when I wake up. I draw the cu...   \n",
       "4       4     Chapter 4  U.S. ARMY INTELLIGENCE SECTION (MIS) REPORT \\n...   \n",
       "5       5     Chapter 5  I'm asleep when our bus drives across the huge...   \n",
       "6       6     Chapter 6  Hello there,\" the old man called out. \\n The l...   \n",
       "7       7     Chapter 7  At seven-fifteen I eat breakfast in the restau...   \n",
       "8       8  \\n Chapter 8  U.S. ARMY INTELLIGENCE SECTION (MIS) REPORT \\n...   \n",
       "9       9     Chapter 9  When I come to I'm in thick brush, lying there...   \n",
       "10     10    Chapter 10  Is it all right, then, if Nakata calls you Kaw...   \n",
       "\n",
       "                                        fstop_indices  \\\n",
       "1   [73, 186, 247, 304, 368, 418, 490, 564, 675, 7...   \n",
       "2   [54, 56, 154, 222, 224, 252, 342, 375, 535, 57...   \n",
       "3   [31, 72, 149, 230, 283, 312, 422, 553, 644, 68...   \n",
       "4   [1, 3, 322, 422, 461, 576, 664, 754, 784, 786,...   \n",
       "5   [77, 162, 217, 253, 329, 421, 465, 559, 582, 5...   \n",
       "6   [36, 147, 193, 216, 243, 249, 250, 251, 271, 3...   \n",
       "7   [98, 165, 228, 298, 320, 378, 415, 511, 582, 6...   \n",
       "8   [1, 3, 433, 537, 579, 618, 757, 869, 977, 1064...   \n",
       "9   [79, 114, 247, 298, 357, 422, 493, 568, 615, 7...   \n",
       "10  [178, 302, 356, 444, 486, 532, 597, 632, 666, ...   \n",
       "\n",
       "                                        split_indices  \\\n",
       "1   [898, 1995, 2985, 3931, 4933, 5923, 6938, 7978...   \n",
       "2   [878, 1901, 2996, 3947, 4936, 5847, 6928, 7936...   \n",
       "3   [982, 1949, 2758, 3877, 4974, 5952, 6982, 7986...   \n",
       "4   [989, 1967, 2950, 3983, 4907, 5960, 6955, 7944...   \n",
       "5   [979, 1980, 2983, 3987, 4922, 5957, 6952, 7958...   \n",
       "6   [971, 1951, 2976, 3923, 4927, 5921, 6963, 7948...   \n",
       "7   [948, 1907, 2982, 3928, 4921, 5973, 6997, 7999...   \n",
       "8   [977, 1856, 2913, 3948, 4993, 5975, 6993, 7943...   \n",
       "9   [937, 1998, 2979, 3968, 4967, 5955, 6955, 7960...   \n",
       "10  [954, 1913, 2986, 3937, 4946, 5993, 6978, 7964...   \n",
       "\n",
       "                                               chunks      translator  \\\n",
       "1   [Cash isn't the only thing I take from my fath...  Philip Gabriel   \n",
       "2   [The following document, classified Top Secret...  Philip Gabriel   \n",
       "3   [It's nearly dawn when I wake up. I draw the c...  Philip Gabriel   \n",
       "4   [U.S. ARMY INTELLIGENCE SECTION (MIS) REPORT \\...  Philip Gabriel   \n",
       "5   [I'm asleep when our bus drives across the hug...  Philip Gabriel   \n",
       "6   [Hello there,\" the old man called out. \\n The ...  Philip Gabriel   \n",
       "7   [At seven-fifteen I eat breakfast in the resta...  Philip Gabriel   \n",
       "8   [U.S. ARMY INTELLIGENCE SECTION (MIS) REPORT \\...  Philip Gabriel   \n",
       "9   [When I come to I'm in thick brush, lying ther...  Philip Gabriel   \n",
       "10  [Is it all right, then, if Nakata calls you Ka...  Philip Gabriel   \n",
       "\n",
       "            book_title  \n",
       "1   Kafka On The Shore  \n",
       "2   Kafka On The Shore  \n",
       "3   Kafka On The Shore  \n",
       "4   Kafka On The Shore  \n",
       "5   Kafka On The Shore  \n",
       "6   Kafka On The Shore  \n",
       "7   Kafka On The Shore  \n",
       "8   Kafka On The Shore  \n",
       "9   Kafka On The Shore  \n",
       "10  Kafka On The Shore  "
      ]
     },
     "execution_count": 64,
     "metadata": {},
     "output_type": "execute_result"
    }
   ],
   "source": [
    "chapters = pd.DataFrame({'number': ch_nos, 'title': ch_titles, 'text': ch_texts})\n",
    "chapters['fstop_indices'] = chapters['text'].apply(lambda x: fs_indexer(x))\n",
    "chapters.dropna(inplace=True)\n",
    "chapters['split_indices'] = chapters['text'].apply(lambda x: split_indexer(x))\n",
    "chapters.dropna(inplace=True)\n",
    "chapters['chunks'] = chapters['text'].apply(lambda x: text_chunker(x))\n",
    "chapters['translator'] = 'Philip Gabriel'\n",
    "chapters['book_title'] = 'Kafka On The Shore'\n",
    "chapters.head(10)"
   ]
  },
  {
   "cell_type": "code",
   "execution_count": 65,
   "metadata": {
    "ExecuteTime": {
     "end_time": "2020-06-01T20:49:01.208204Z",
     "start_time": "2020-06-01T20:49:00.847223Z"
    }
   },
   "outputs": [
    {
     "data": {
      "image/png": "[encoded data removed]",
      "text/plain": [
       "<Figure size 432x288 with 1 Axes>"
      ]
     },
     "metadata": {
      "image/png": {
       "height": 256,
       "width": 386
      },
      "needs_background": "light"
     },
     "output_type": "display_data"
    }
   ],
   "source": [
    "lengths = []\n",
    "for chapter in chapters['chunks']:\n",
    "    for chunk in chapter:\n",
    "        lengths.append(len(chunk))\n",
    "plt.hist(lengths, bins=20);"
   ]
  },
  {
   "cell_type": "code",
   "execution_count": 66,
   "metadata": {
    "ExecuteTime": {
     "end_time": "2020-06-01T20:49:01.219328Z",
     "start_time": "2020-06-01T20:49:01.212170Z"
    }
   },
   "outputs": [
    {
     "data": {
      "text/plain": [
       "934"
      ]
     },
     "execution_count": 66,
     "metadata": {},
     "output_type": "execute_result"
    }
   ],
   "source": [
    "len(lengths)"
   ]
  },
  {
   "cell_type": "code",
   "execution_count": 67,
   "metadata": {
    "ExecuteTime": {
     "end_time": "2020-06-01T20:49:01.332215Z",
     "start_time": "2020-06-01T20:49:01.328761Z"
    }
   },
   "outputs": [],
   "source": [
    "out_path = '../../../../Documents/murakami/pkl2/'\n",
    "out_name = 'kots_gabriel_v01'\n",
    "out_full_path = out_path + out_name + '.pkl'"
   ]
  },
  {
   "cell_type": "code",
   "execution_count": 68,
   "metadata": {
    "ExecuteTime": {
     "end_time": "2020-06-01T20:49:01.610783Z",
     "start_time": "2020-06-01T20:49:01.596622Z"
    }
   },
   "outputs": [],
   "source": [
    "# save pickle\n",
    "with open(out_full_path, 'wb') as fp:\n",
    "    pickle.dump(chapters, fp)\n",
    "\n",
    "\n",
    "# # read back pickle\n",
    "# with open (out_full_path, 'rb') as fp:\n",
    "#     read_kots = pickle.load(fp)"
   ]
  },
  {
   "cell_type": "code",
   "execution_count": 69,
   "metadata": {
    "ExecuteTime": {
     "end_time": "2020-06-01T20:49:01.870042Z",
     "start_time": "2020-06-01T20:49:01.866431Z"
    }
   },
   "outputs": [],
   "source": [
    "# read_kots"
   ]
  },
  {
   "cell_type": "markdown",
   "metadata": {},
   "source": [
    "### Initial cleaning and preparation of 'Colorless Tsukuru Tazaki' Text"
   ]
  },
  {
   "cell_type": "code",
   "execution_count": 70,
   "metadata": {
    "ExecuteTime": {
     "end_time": "2020-06-01T20:49:02.415869Z",
     "start_time": "2020-06-01T20:49:02.412442Z"
    }
   },
   "outputs": [],
   "source": [
    "ctt = books['full_text'].iloc[5]"
   ]
  },
  {
   "cell_type": "code",
   "execution_count": 71,
   "metadata": {
    "ExecuteTime": {
     "end_time": "2020-06-01T20:49:02.682525Z",
     "start_time": "2020-06-01T20:49:02.675994Z"
    }
   },
   "outputs": [
    {
     "data": {
      "text/plain": [
       "31"
      ]
     },
     "execution_count": 71,
     "metadata": {},
     "output_type": "execute_result"
    }
   ],
   "source": [
    "len(ctt)"
   ]
  },
  {
   "cell_type": "code",
   "execution_count": 72,
   "metadata": {
    "ExecuteTime": {
     "end_time": "2020-06-01T20:49:02.950412Z",
     "start_time": "2020-06-01T20:49:02.940377Z"
    }
   },
   "outputs": [
    {
     "data": {
      "text/plain": [
       "'19 \\n SHINJUKU STATION IS  enormous.  Every day nearly 3.5 million people pass through it, so many that the  Guinness Book of World Records  officially lists JR Shinjuku Station as the station with the ‘Most Passengers in the World.’  A number of railroad lines cross there, the main ones being the Chuo line, Sobu line, Yamanote line, Saikyo line, Shonan–Shinjuku line, and the Narita Express.  The rails intersect and combine in complex and convoluted ways.  There are sixteen platforms in total.  In addition, there are two private rail lines, the Odakyu line and the Keio line, and three subway lines plugged in, as it were, from the side.  It is a total maze.  During rush hour, that maze transforms into a sea of humanity, a sea that foams up, rages, and roars as it surges toward the entrances and exits.  Streams of people changing trains become entangled, giving rise to dangerous, swirling whirlpools.  No prophet, no matter how righteous, could part that fierce, turbulent sea. \\n It’s hard to believe that every morning and evening, five days a week, this overwhelming crush of human beings is dealt with efficiently, without any major problems, by a staff of station employees that no one would ever accuse of being adequate, in terms of numbers, to the task.  The morning rush hour is particularly problematic.  Everyone is scurrying to get to where they need to be, to punch their time clock, and no one’s in a great mood.  They’re still tired, half asleep, and riding the bursting-at-the-seams trains is physically and emotionally draining.  Only the very lucky manage to find a seat.  Tsukuru was always amazed that riots don’t break out, that there are no tragic, bloody disasters.  If a fanatical band of terrorists did happen to target one of these jam-packed stations or trains, it would be lethal, with a horrific loss of life.  For the people working on the rail lines, and the police, and, of course, the passengers, this remained the one unimaginable, nightmare scenario.  And there was no way to prevent it, even now, after such a nightmare  actually did  take place in Tokyo in the spring of 1995. \\n Station employees bark out endless announcements over the loudspeakers, a repetitious tune marking train departures plays constantly, the automated wickets silently input a huge amount of information from all the rail cards, tickets, and train passes they scan.  The long trains, their arrivals and departures timed down to the second, are like long-suffering, well-trained farm animals, systematically exhaling and inhaling people, impatiently closing their doors as they rush off toward the next station.  The crowds surge up and down the stairs, but if someone steps on your foot from behind and your shoe comes off, good luck ever retrieving it.  The shoe is sucked into the intense rush-hour quicksand, where it vanishes forever.  The person who suffers this fate has a long day ahead, clomping around on one shoe. \\n In the early 1990s, before Japan’s bubble economy burst, a leading newspaper in the U.S.  published a large photo taken on a winter’s morning of rush-hour commuters in Shinjuku Station (or possibly Tokyo Station – the same applies to both) heading down the stairs.  As if by agreement, all the commuters were gazing downward, their expressions strained and unhappy, looking more like lifeless fish packed in a can than people.  The article said, ‘Japan may be affluent, but most Japanese look like this, heads downcast and unhappy-looking.’  The photo became famous. \\n Tsukuru had no idea if most Japanese were, as the article claimed, unhappy.  But the real reason that most passengers descending the stairs at Shinjuku Station during their packed morning commute were looking down was less that they were unhappy than that they were concerned about their footing.  Don’t slip on the stairs, don’t lose a shoe – these are the major issues on the minds of the commuters in the mammoth station during rush hour.  There was no explanation of this, no context for the photograph.  Certainly it was hard to view this mass of people, clad in dark overcoats, their heads down, as happy.  And of course it’s logical to see a country where people can’t commute in the morning without fear of losing their shoes as an unhappy society. \\n Tsukuru wondered how much time people spend simply commuting to work every day.  Say the average commute was between an hour and an hour and a half.  That sounded about right.  If your typical office worker, working in Tokyo, married with a child or two, wanted to own his own house, the only choice was to live in the suburbs and spend that much time getting to work and back.  So two to three hours out of every twenty-four would be spent simply in the act of commuting.  If you were lucky, you might be able to read the newspaper or a paperback in the train.  Maybe you could listen to your iPod, to a Haydn symphony or a conversational Spanish lesson.  Some people might even close their eyes, lost in deep metaphysical speculation.  Still, it would be hard to call these two or three hours rewarding, quality time.  How much of one’s life was snatched away to simply vanish as a result of this (most likely) pointless movement from point A to point B?  And how much did this effort exhaust people, and wear them down? \\n But these were not issues that Tsukuru Tazaki, a railroad company employee tasked with designing stations, needed to worry about.  It wasn’t his life.  Let people live their own lives.  Each person should decide for himself how happy, or unhappy, our society might be.  All Tsukuru had to think about was what might be the safest and most efficient way to keep this massive flow of people moving.  For a job like this, reflection is not required, as it simply calls for accurate, tested, best practices.  He was no thinker or sociologist, but a mere engineer. \\n Tsukuru Tazaki loved to watch JR Shinjuku Station. \\n When he went to the station he would buy a platform ticket from the machine and go upstairs to the platform between Tracks 9 and 10.  This is where express trains on the Chuo line came and went, long-distance trains to places like Matsumoto and Kofu.  Compared to the platform for commuters, there were far fewer passengers, fewer trains arriving and departing.  He could sit on a bench and leisurely observe what went on in the station. \\n Tsukuru visited railroad stations like other people enjoy attending concerts, watching movies, dancing in clubs, watching sports, and window shopping.  When he was at a loose end, with nothing to do, he headed to a station.  When he felt anxious or needed to think, his feet carried him, once again of their own accord, to a station.  He’d sit quietly on a bench on the platform, sip coffee he bought at a kiosk, and check the arrival and departure times against the pocket-sized timetable he always carried in his briefcase.  He could spend hours doing this.  Back when he was a college student he used to examine the station’s layout, the passenger flow, the movements of the station staff, writing detailed observations in his notebook, but he was beyond that now. \\n An express train slows down as it pulls up to the platform.  The doors open and passengers alight, one after another.  Just watching this made him feel calm and content.  When trains arrived and departed right on schedule, he felt proud, even if the station wasn’t one his company had helped to construct.  A quiet, simple sense of pride.  A cleaning team quickly boards the train, collecting trash and turning the swivel seats around so they all neatly face forward.  A new crew, wearing hats and uniforms, boards and briskly runs through a checklist.  The destination sign is replaced, along with the train’s designated number.  Everything proceeds smoothly, efficiently, without a hitch, down to the second.  This is Tsukuru Tazaki’s world. \\n At Helsinki Central Station he had done the same thing.  He got a simple train schedule, sat down on a bench, and, sipping hot coffee from a paper cup, watched the long-distance trains arrive and depart.  He checked their destinations on a map, and where they’d come from.  He observed the passengers getting off the trains, watched others rushing toward their respective platforms to board more trains, and followed the movements of the uniformed station employees and train crews.  As always, doing this calmed him.  Time passed, smoothly, homogeneously.  Other than not being able to understand the PA announcements, it was no different from being in Shinjuku Station.  The protocol for operating a railway station was pretty much the same throughout the world, the whole operation reliant on precise, skillful professionalism.  This aroused a natural response in him, a sure sense that he was in the right place. \\n On Tuesday when Tsukuru finished work it was after eight.  At this time of night he was the only one left in his office.  The work he had left to do wasn’t so urgent that he needed to stay late to finish it, but he was meeting Sara on Wednesday evening and he wanted to complete any leftover tasks before then. \\n He decided to call it a day, switched off his computer, locked up important disks and documents in a drawer, and turned off the light.  He left through the company’s rear entrance, saying goodnight to the security guard he knew by sight. \\n ‘Have a good night, sir,’ the guard said to him. \\n He thought of having dinner somewhere but wasn’t hungry.  Still, he didn’t feel like going straight home, so he headed for JR Shinjuku Station.  This evening, too, he bought coffee at a kiosk.  It was a typical muggy Tokyo summer night, and his back was sweaty, but still he preferred hot black coffee, the steam rising off it, to a cold drink.  It was just a habit. \\n As always, on Platform 9 the final night train bound for Matsumoto was preparing for departure.  The crew walked the length of the train, checking with practiced, diligent eyes that everything was in order.  The train was not as sleek as a Shinkansen bullet train, but Tsukuru liked the plain no-nonsense trains, these familiar E257 models.  The train would proceed to Shiojiri along the Chuo line, then run on the Shinonoi line to Matsumoto, and arrive in Matsumoto at five minutes till midnight.  Until Hachioji it was still in an urban area and had to keep the noise down, but after that it ran through the mountains, where there were many curves, so it never could get up to the maximum speed.  For the distance involved, the trip took a long time. \\n There was still some time before the train opened its doors for boarding, yet passengers were hurriedly buying boxed dinners, snacks, cans of beer, and magazines at the kiosk.  Some had white iPod headphones in their ears, already off in their own little worlds.  Others palmed smartphones, thumbing out texts, some talking so loudly into their phones that their voices rose above the blaring PA announcements.  Tsukuru spotted a young couple, seated close together on a bench, happily sharing secrets.  A pair of sleepy-looking five- or six-year-old twin boys, with their mother and father dragging them along by their hands, were whisked past where Tsukuru sat.  The boys clutched small game devices.  Two young foreign men hefted heavy-looking backpacks, while a young woman was lugging a cello case.  A woman with a stunning profile passed by.  Everyone was boarding a night train, heading to a far-off destination.  Tsukuru envied them.  At least they had a place they needed to go to. \\n Tsukuru Tazaki had no place he needed to go. \\n He realized that he had never actually been to Matsumoto, or Kofu.  Or Shiojiri.  Not even to the much closer town of Hachioji.  He had watched countless express trains for Matsumoto depart from this platform, but it had never occurred to him that there was a possibility he could board one.  Until now he had never thought of it.  Why is that?  he wondered. \\n Tsukuru imagined himself boarding this train and heading for Matsumoto.  It wasn’t exactly impossible.  And it didn’t seem like such a terrible idea.  He’d suddenly gotten it into his head, after all, to take off for Finland, so why not Matsumoto?  What sort of town was it?  he wondered.  What kind of lives did people lead there?  But he shook his head and erased these thoughts.  Tomorrow morning it would be impossible to get back to Tokyo in time for work.  He knew that much without consulting the timetable.  And he was meeting Sara tomorrow night.  It was a very important day for him.  He couldn’t just take off for Matsumoto on a whim. \\n He drank the rest of his now-lukewarm coffee and tossed the paper cup into a nearby garbage bin. \\n Tsukuru Tazaki had nowhere he had to go .  This was like a running theme of his life.  He had no place he had to go to, no place to come back to.  He never did, and he didn’t now.  The only place for him was  where he was now . \\n No, he thought.  That’s not entirely true. \\n At one point in his life he did have a place he needed to go to.  In high school, he had his heart set on going to an engineering college in Tokyo and majoring in railroad station design.  That was  the place he needed to go .  And he studied hard to make sure he could do so.  His academic advisor had coolly warned him that with his grades, he had only a 20 percent chance of getting into that school, but he’d done his best and somehow surmounted that hurdle.  He had never studied so hard in his life.  He wasn’t cut out for competing with others for rank and grades, but given a set goal he put his heart and soul into it.  He exerted himself beyond anything he’d ever imagined, and the experience was a new, and precious, discovery for him of his own capabilities. \\n As a result, Tsukuru left Nagoya and ended up living alone in Tokyo.  In Tokyo he longed to return to his hometown as soon as he could, even if only for a short time, to see his friends again.  At that point Nagoya was the place he  needed to go back to .  He shuttled back and forth between two different places for a little over a year.  But then, without warning, the cycle was broken. \\n After this, he no longer had a place to go, or a place to which he could return.  His house was still in Nagoya, his mother and eldest sister still living there, his room the same as he’d left it.  His other older sister was also living in the city.  Once or twice a year he made an obligatory visit and was always warmly received, but there was nothing he needed to talk to his mother or sister about, and being with them never brought back any nostalgic feelings.  What they sought from him was the  Tsukuru of old , a person he had left behind and no longer needed.  To revive that person, and present him to his family, necessitated that he play a role that made him uncomfortable.  The streets of Nagoya now felt remote and dreary.  There was nothing there he wanted, nothing that called up even a hint of warmth. \\n Tokyo, meanwhile, was just the place he  happened  to end up.  It was where he had attended school, where his job was located.  Professionally it was the place he belonged, but beyond that, the city meant nothing to him.  In Tokyo he lived a well-ordered, quiet life.  Like a refugee in a foreign land, not making waves, not causing any trouble, being ever cautious so that his residence permit was not revoked.  He lived there as if he were a refugee from his own life.  And Tokyo was the ideal place for someone seeking a life of anonymity. \\n He had no one he could call a close friend.  A few girlfriends entered his life along the way, but they hadn’t stayed together.  Peaceful relationships followed by amicable breakups.  Not a single person had really climbed inside his heart.  He had not been seeking that sort of relationship, and most likely the women he went out with hadn’t desired him that much either.  So they were even. \\n It’s like my life came to a halt at age twenty, Tsukuru Tazaki thought, as he sat on the bench in Shinjuku Station.  The days that came afterward had no real weight or substance.  The years passed by, quietly, like a gentle breeze.  Leaving no scars behind, no sorrow, rousing no strong emotions, leaving no happiness or memories worth mentioning.  And now he was entering middle age.  No – he still had a few years to go before that.  But it was true that he was no longer young. \\n In a sense, Eri was a refugee from life as well.  She too carried emotional scars, scars that had led her to leave everything behind and abandon her country.  She had chosen a new world, Finland, on her own.  And now she had a husband and two daughters, as well as her work making pottery, work in which she completely immersed herself.  She had a summer cottage by the lake, and a chipper small dog.  She’d learned Finnish, and was steadily constructing her own little universe.  That makes her different from me, Tsukuru thought. \\n He glanced at the Heuer watch on his left wrist.  It was 8:50.  Passengers had begun boarding the express train.  One after another, people dragged their luggage aboard, plunking themselves down in their designated seats, stowing their bags in the overhead racks, settling down in the air-conditioned cars, sipping cold drinks.  He could see them through the windows of the train. \\n He’d inherited the watch from his father.  One of the few tangible things he’d received.  It was a beautiful antique, from the early 1960s.  If you didn’t wear it for three days, the mechanism would wind down and the hands would stop.  An inconvenience, but that’s what Tsukuru liked about it.  It was a purely mechanical device, a piece of craftsmanship.  No quartz or a single microchip inside, everything operated by delicate springs and gears.  It had been working faithfully, without a rest, for a half century and was, even now, surprisingly accurate. \\n Tsukuru had never bought a watch himself, not once in his whole life.  When he was young, someone inevitably gave him a cheap one, which he used without much thought.  As long as it kept the right time, he didn’t care what he wore.  That was the extent of his feelings for watches.  A simple Casio digital watch did the trick.  So when his father died, and he was given this expensive wristwatch as a keepsake, again it aroused no special feelings one way or the other.  He had to make sure to wear it regularly so it didn’t wind down, but once he got used to this, he found that he had a great fondness for the watch.  He enjoyed the weight and heft of it, the faint mechanical whir it made.  He found himself checking the time more often than before, and each time he did, his father’s shadow passed, faintly, through his mind. \\n Truth be told, he didn’t remember his father all that well, nor did he have particularly warm memories of him.  He could not recall ever going anywhere with his father, from the time he was small until he was grown up, or even having a friendly talk, just the two of them.  His father was basically an uncommunicative person (at least, at home, he barely spoke), and besides, work kept him so busy that he was rarely around.  Only now did Tsukuru realize that his father might have been keeping a mistress somewhere. \\n To Tsukuru he felt less like his real father than some well-placed relative who often visited.  Tsukuru was essentially raised by his mother and his two older sisters.  He knew next to nothing about what sort of life his father had led, his thoughts and values, and what he actually did day to day.  What he did know was that his father had been born in Gifu, had lost both parents while still a boy, was taken in by a paternal uncle who was a Buddhist priest, managed to graduate from high school, started a company from scratch, had tremendous success, and ultimately built up a substantial fortune.  Unlike most people who had struggled in life, he preferred not to dwell on the trials he’d gone through, perhaps not wishing to relive the hard times.  At any rate, it was clear that his father had an extraordinary head for business, the talent to immediately obtain what he needed, and jettison everything he didn’t.  Tsukuru’s oldest sister had, in part, inherited this talent for business from her father, while the younger sister had also, in part, inherited her mother’s cheerful sociability.  Neither of these qualities had been passed on to Tsukuru. \\n His father had smoked over fifty cigarettes a day, and had died of lung cancer.  When Tsukuru went to visit him at the hospital in Nagoya, he could no longer speak.  His father seemed to want to tell him something, but couldn’t do so.  A month later he died in his hospital bed.  His father left him the one-bedroom condo in Jiyugaoka, a bank account with a fair amount of money in his name, and this Heuer self-winding wristwatch. \\n No, there  was  one other thing his father had left him.  His name – Tsukuru Tazaki. \\n When Tsukuru announced that he wanted to study at an engineering college in Tokyo, his father seemed deeply disappointed that his only son had no interest in taking over the real estate business he had worked so hard to build.  Still, he fully supported Tsukuru’s desire to become an engineer.  ‘If that’s what you want,’ his father had told him, ‘then you should go to the college in Tokyo, and I’ll be happy to pay for it.  Learning a technical skill and building real objects is a good thing.  It contributes to society.  Study hard,’ he’d said, ‘and build as many stations as you like.’  His father seemed pleased that the name he’d chosen – Tsukuru – had turned out to be so appropriate.  This was probably the first and last time Tsukuru had made his father happy, certainly the only time he had seen his father so openly pleased. \\n At exactly 9 p.m., right on schedule, the express train for Matsumoto pulled away from the platform.  Seated on the bench, Tsukuru watched as its lights faded down the tracks, as the train sped up and finally disappeared into the summer night.  Once the last car was no longer visible, everything around him felt suddenly deserted.  Even the lights of the city seemed to have faded a notch, like when a play is over and the lights go out after the last act.  He got up from the bench and slowly made his way down the stairs. \\n He left Shinjuku Station, went into a nearby restaurant, sat at the counter, and ordered meatloaf and potato salad.  He barely finished half of each.  Not that the food tasted bad.  This restaurant was famous for its delicious meatloaf.  He just had no appetite.  As always, he only finished half his beer. \\n He rode the train home and took a shower, and carefully scrubbed his whole body with soap.  He then put on an olive-green bathrobe (a gift from a girlfriend back on his thirtieth birthday) and sat down on a chair on the balcony, letting the night breeze waft over him as he listened to the muffled din of the city.  It was nearly 11 p.m., but he wasn’t tired. \\n Tsukuru remembered those days in college when all he’d thought about was dying.  Already sixteen years ago.  Back then he was convinced that if he merely focused on what was going on inside of him, his heart would finally stop of its own accord.  That if he intensely concentrated his feelings on one fixed point, like a lens focused on paper, bursting it into flames, his heart would suffer a fatal blow.  More than anything he hoped for this.  But months passed, and contrary to his expectation, his heart didn’t stop.  The heart apparently doesn’t stop that easily. \\n From far off in the distance, he heard a helicopter.  It seemed to be getting nearer, the sound growing louder.  He looked up at the sky, trying to catch sight of it.  It felt like a messenger bringing some vital news.  But he never saw it, the sound of the propellers fading, then disappearing completely to the west, leaving behind only the soft, vague hum of the city at night. \\n Maybe back then Shiro had been hoping to break up their group.  This possibility suddenly struck him.  Seated on a chair on the balcony, he slowly filled out this hypothesis. \\n Their group in high school had been so close, so very tight.  They accepted each other as they were, understood each other, and each of them found a deep contentment and happiness in their relationship, their little group.  But such bliss couldn’t last forever.  At some point paradise would be lost.  They would each mature at different rates, take different paths in life.  As time passed, an unavoidable sense of unease would develop among them, a subtle fault line, no doubt turning into something less than  subtle . \\n Shiro’s nerves might not have been able to stand the pressure of  what had to come , the trauma of the inevitable end of this tight-knit group of friends.  She may have felt she had to unravel the emotional bonds of the group herself or else be caught up, fatally, in its collapse, like a castaway sucked down into the abyss by the whirlpool of a sinking ship. \\n Tsukuru could, to an extent, understand that feeling.  Now  he could, that is.  The tension of suppressed sexual feelings began to take on greater significance than Tsukuru could imagine.  The graphic sexual dreams he had later were probably an extension of that tension.  And that tension must have had some effect – what, exactly, he had no idea – on the other four as well. \\n Shiro had wanted to escape from that situation.  Maybe she couldn’t stand that kind of relationship anymore, the close relationship that required constant maintenance of one’s feelings.  Shiro was, unquestionably, the most sensitive of the five, so she must have picked up on that friction before anyone else.  But she was unable, at least on her own, to escape outside that circle.  She didn’t possess the strength.  So she set Tsukuru up as the apostate.  At that point, Tsukuru was the first member to step outside the circle, the weakest link in the community.  To put it another way, he deserved to be punished.  So when someone raped her (who did it and what the circumstances were behind her rape and subsequent pregnancy would remain eternal mysteries), in the midst of the hysteric confusion brought on by shock, she ripped away that weakest link, like yanking the emergency cord to stop a train. \\n Viewed in this way, many things fell into place.  Back then Shiro followed her instincts and chose Tsukuru as a stepping stone, a way for her to reach outside the walls of their group.  Shiro must have had a gut feeling that Tsukuru, even put in that awful position, would be able to survive – just as Eri, too, had arrived at the same conclusion. \\n Tsukuru Tazaki, always cool and collected, always doing things at his own pace. \\n Tsukuru got up from the chair on the balcony and went inside.  He took a bottle of Cutty Sark from a shelf, poured some into a glass, then carried it back out to the porch.  He sat down again and, for a time, pressed the fingers of his right hand against his temple. \\n No, he thought, I’m not cool and collected, and I’m not always doing things at my own pace.  It’s just a question of balance.  I’m just good at habitually shifting the weight I carry around from one side of the fulcrum to the other, distributing it.  Maybe this strikes others as cool.  But it isn’t an easy operation.  It takes more time than it seems.  And even if I do find the right balance, that doesn’t lessen the total weight one bit. \\n And yet he was able to forgive Shiro, or Yuzu.  She carried within her a deep wound and had only been trying, desperately, to protect herself.  She was a weak person, someone who lacked the hard, tough exterior with which to guard herself.  It was all she could do to find a safe refuge when danger came, and she couldn’t be particular about the methods.  Who could blame her?  But in the end, no matter how far she ran, she couldn’t escape, for the dark shadow of violence followed her relentlessly.  What Eri dubbed an  evil spirit .  And on a quiet, cold, and rainy May night,  it  knocked at her door, and strangled her lovely slim throat.  In a place, and time, that had, most likely, already been decided. \\n Tsukuru went back inside, picked up the phone, and without thinking much about what he was doing, pushed the speed-dial number for Sara.  The phone rang three times before he thought better of it and hung up.  It was already late.  And he would be seeing her tomorrow.  Then he would see her and talk to her in person.  He shouldn’t short-circuit the process before he saw her.  He knew that.  Still, he wanted to hear Sara’s voice, right now.  The feeling welled up inside him so overwhelmingly that it was hard to suppress the urge. \\n He placed the record of Lazar Berman’s performance of  Years of Pilgrimage  on the turntable, and lowered the needle.  He turned his attention to the music.  The scene of the lakeside at Hämeenlinna came to him.  The white lace curtain rustling in the breeze, the sound of the little boat rocked by the waves, slapping against the pier.  The birds in the forest patiently teaching their tiny bird babies how to chirp.  The citrusy smell Eri’s shampoo had left on her hair.  The dense weight of the life force, the will to survive, within the ample softness of her breasts.  The hard phlegm spat out in the weeds by the dour old man who’d shown him the way.  The dog wagging its tail excitedly as it leaped into the back of the Renault.  As he traced memories of these scenes, the pain in his chest that he’d felt returned once more. \\n Tsukuru drank the Cutty Sark, savoring the fragrance.  His stomach grew faintly warm.  From the summer of his sophomore year in college until the following winter, when every day brought thoughts of dying and nothing else, he’d had one small glass of whiskey at night like this.  Without it, he hadn’t been able to sleep. \\n The phone suddenly rang.  He stood up from the sofa, gently raised the needle from the record, and stood in front of the phone.  It had to be Sara.  No one else would call him at this hour of night.  She knew he’d called and was calling him back.  As the phone rang a dozen times Tsukuru hesitated, unsure if he should answer.  He bit his lip hard, held his breath, and stared intently at the phone, like a person standing far away, off studying the details of a difficult formula on a blackboard, trying to puzzle it out.  But he could find no clues.  The phone stopped ringing, followed by silence.  A deep, suggestive silence. \\n To fill in the silence Tsukuru lowered the needle onto the record again, went back to the sofa, and settled in to listen to the music.  This time he tried his best not to think of anything in particular.  With his eyes closed and his mind a blank, he focused solely on the music.  Finally, as if lured in by the melody, images flashed behind his eyelids, one after the next, appearing, then disappearing.  A series of images without concrete form or meaning, rising up from the dark margins of consciousness, soundlessly crossing into the visible realm, only to be sucked back into the margins on the other side and vanish once again.  Like the mysterious outline of microorganisms swimming across the circular field of vision of a microscope. \\n Fifteen minutes later the phone rang again, and again he did not answer it.  This time he stayed seated, listening to the music, gazing at the black phone.  He didn’t count how many times it rang.  Eventually it stopped, and all he could hear was the music. \\n Sara, he thought.  I want to hear your voice.  I want to hear it more than anything.  But right now I can’t talk. \\n Tomorrow Sara may choose that other man, not me, Tsukuru thought as he lay down on the sofa and closed his eyes.  It’s entirely possible, and for her it may well be the right choice. \\n What kind of person this other man was, what sort of relationship they had, how long they’d been seeing each other – all of this Tsukuru had no way of knowing.  And he didn’t want to know, either.  One thing he could say at this point was this: he had very little he could give her.  Limited in amount, and in kind, the contents negligible.  Would anybody really want the little he had to give? \\n Sara said she has feelings for me.  He had no reason to doubt it.  But there are countless things in the world for which affection is not enough.  Life is long, and sometimes cruel.  Sometimes victims are needed.  Someone has to take on that role.  And human bodies are fragile, easily damaged.  Cut them, and they bleed. \\n If Sara doesn’t choose me tomorrow, he thought, I may  really  die.  Die in reality, or die figuratively – there isn’t much difference between the two.  But this time I definitely will take my last breath.  Colorless Tsukuru Tazaki will lose any last hint of color and quietly exit the world.  All will become a void, the only thing that remains a hard, frozen clump of dirt. \\n It doesn’t matter.  The same thing has nearly happened a few times already, and it wouldn’t be strange if it actually did this time.  It’s just a physical phenomenon, no more.  The spring on a wound watch gets steadily looser, the torque grows closer and closer to zero, until the gears stop altogether and the hands come to rest at a set position.  Silence descends.  Isn’t that all it is? \\n He slipped into bed just before the date changed, and switched off the bedside lamp.  How nice it would be to dream of Sara, Tsukuru thought.  An erotic dream.  Or one that wasn’t – either would be good.  If possible, though, a dream that wasn’t too sad.  A dream in which he could touch her body would be more than he could ask for.  It was, after all, just a dream. \\n He longed for her more than he could say.  It was a wonderful thing to be able to truly want someone like this – the feeling was so real, so overpowering.  He hadn’t felt this way in ages.  Maybe he never had before.  Not that everything about it was wonderful: his chest ached, he found it hard to breathe, and a fear, a dark oscillation, had hold of him.  But now even that kind of ache had become an important part of the affection he felt.  He didn’t want to let that feeling slip from his grasp.  Once lost, he might never happen across that warmth again.  If he had to lose it, he would rather lose himself. \\n Tsukuru, you need to hang on to her.  No matter what.  If you let her go now, you might not ever have anyone else in your life. \\n Eri was right.  No matter what, he had to make Sara his.  But this wasn’t something he could decide on his own.  It was a question decided by two people, between one heart and another.  Something had to be given, and something had to be accepted.  Everything depends on tomorrow.  If Sara chooses me, accepts me, he thought, I’m going to propose to her right away.  And give her everything I’m capable of giving – every single thing.  Before I get lost in a dark forest.  Before the bad elves grab me. \\n Not everything was lost in the flow of time.  That’s what Tsukuru should have said to Eri when he said goodbye at the lakeside in Finland.  But at that point, he couldn’t put it into words. \\n We truly believed in something back then, and we knew we were the kind of people capable of believing in something – with all our hearts.  And that kind of hope will never simply vanish. \\n He calmed himself, shut his eyes, and fell asleep.  The rear light of consciousness, like the last express train of the night,  began to fade into the distance, gradually speeding up, growing smaller until it was, finally, sucked into the depths of the night, where it disappeared.  All that remained was the sound of the wind slipping through a stand of white birch trees. \\n '"
      ]
     },
     "execution_count": 72,
     "metadata": {},
     "output_type": "execute_result"
    }
   ],
   "source": [
    "ctt[25]"
   ]
  },
  {
   "cell_type": "code",
   "execution_count": 73,
   "metadata": {
    "ExecuteTime": {
     "end_time": "2020-06-01T20:49:03.234297Z",
     "start_time": "2020-06-01T20:49:03.230370Z"
    }
   },
   "outputs": [],
   "source": [
    "texts = ctt[7:26]"
   ]
  },
  {
   "cell_type": "code",
   "execution_count": 74,
   "metadata": {
    "ExecuteTime": {
     "end_time": "2020-06-01T20:49:03.513723Z",
     "start_time": "2020-06-01T20:49:03.498442Z"
    }
   },
   "outputs": [],
   "source": [
    "# regex pattern to extract chapter number, title and main text from a complete chapter\n",
    "pattern = re.compile(r'([\\d]+) \\n ([\\w\\W]+)')\n",
    "\n",
    "ch_nos = []\n",
    "ch_titles = []\n",
    "ch_texts = []\n",
    "ireg_ch = []\n",
    "\n",
    "for t in range(0,len(texts)):\n",
    "#     print(t)\n",
    "    out = re.findall(pattern, texts[t])\n",
    "    if len(out) > 0:\n",
    "        ch_nos.append(out[0][0])\n",
    "        ch_titles.append(out[0][0])\n",
    "        ch_texts.append(out[0][1])\n",
    "    else:\n",
    "        ch_nos.append(None)\n",
    "        ch_titles.append(None)\n",
    "        ch_texts.append(None)"
   ]
  },
  {
   "cell_type": "code",
   "execution_count": 75,
   "metadata": {
    "ExecuteTime": {
     "end_time": "2020-06-01T20:49:03.957400Z",
     "start_time": "2020-06-01T20:49:03.782920Z"
    }
   },
   "outputs": [
    {
     "data": {
      "text/html": [
       "<div>\n",
       "<style scoped>\n",
       "    .dataframe tbody tr th:only-of-type {\n",
       "        vertical-align: middle;\n",
       "    }\n",
       "\n",
       "    .dataframe tbody tr th {\n",
       "        vertical-align: top;\n",
       "    }\n",
       "\n",
       "    .dataframe thead th {\n",
       "        text-align: right;\n",
       "    }\n",
       "</style>\n",
       "<table border=\"1\" class=\"dataframe\">\n",
       "  <thead>\n",
       "    <tr style=\"text-align: right;\">\n",
       "      <th></th>\n",
       "      <th>number</th>\n",
       "      <th>title</th>\n",
       "      <th>text</th>\n",
       "      <th>fstop_indices</th>\n",
       "      <th>split_indices</th>\n",
       "      <th>chunks</th>\n",
       "      <th>translator</th>\n",
       "      <th>book_title</th>\n",
       "    </tr>\n",
       "  </thead>\n",
       "  <tbody>\n",
       "    <tr>\n",
       "      <th>0</th>\n",
       "      <td>1</td>\n",
       "      <td>1</td>\n",
       "      <td>FROM JULY OF  his sophomore year in college un...</td>\n",
       "      <td>[119, 219, 340, 450, 591, 625, 806, 871, 933, ...</td>\n",
       "      <td>[996, 1983, 2948, 3943, 4964, 5996, 6975, 7944...</td>\n",
       "      <td>[FROM JULY OF  his sophomore year in college u...</td>\n",
       "      <td>Philip Gabriel</td>\n",
       "      <td>Colorless Tsukuru Tazaki</td>\n",
       "    </tr>\n",
       "    <tr>\n",
       "      <th>1</th>\n",
       "      <td>2</td>\n",
       "      <td>2</td>\n",
       "      <td>THIS DRASTIC CHANGE  took place during summer ...</td>\n",
       "      <td>[116, 253, 405, 531, 572, 628, 804, 889, 911, ...</td>\n",
       "      <td>[999, 1845, 2998, 3925, 4956, 5982, 6995, 7914...</td>\n",
       "      <td>[THIS DRASTIC CHANGE  took place during summer...</td>\n",
       "      <td>Philip Gabriel</td>\n",
       "      <td>Colorless Tsukuru Tazaki</td>\n",
       "    </tr>\n",
       "    <tr>\n",
       "      <th>2</th>\n",
       "      <td>3</td>\n",
       "      <td>3</td>\n",
       "      <td>IN THE HALF  year when he wandered on the verg...</td>\n",
       "      <td>[85, 132, 222, 290, 352, 416, 481, 574, 606, 7...</td>\n",
       "      <td>[956, 1909, 2907, 3960, 4999, 5910, 6979, 7934...</td>\n",
       "      <td>[IN THE HALF  year when he wandered on the ver...</td>\n",
       "      <td>Philip Gabriel</td>\n",
       "      <td>Colorless Tsukuru Tazaki</td>\n",
       "    </tr>\n",
       "    <tr>\n",
       "      <th>3</th>\n",
       "      <td>4</td>\n",
       "      <td>4</td>\n",
       "      <td>HE MET THE  man at the college pool. \\n Like T...</td>\n",
       "      <td>[35, 96, 178, 276, 355, 512, 600, 639, 675, 70...</td>\n",
       "      <td>[988, 1998, 2952, 3984, 4989, 5960, 6956, 7886...</td>\n",
       "      <td>[HE MET THE  man at the college pool. \\n Like ...</td>\n",
       "      <td>Philip Gabriel</td>\n",
       "      <td>Colorless Tsukuru Tazaki</td>\n",
       "    </tr>\n",
       "    <tr>\n",
       "      <th>4</th>\n",
       "      <td>5</td>\n",
       "      <td>5</td>\n",
       "      <td>‘ WHEN MY FATHER  was young, he spent a year w...</td>\n",
       "      <td>[81, 206, 362, 435, 581, 677, 818, 902, 944, 1...</td>\n",
       "      <td>[944, 1991, 2976, 3844, 4986, 5979, 6962, 7969...</td>\n",
       "      <td>[‘ WHEN MY FATHER  was young, he spent a year ...</td>\n",
       "      <td>Philip Gabriel</td>\n",
       "      <td>Colorless Tsukuru Tazaki</td>\n",
       "    </tr>\n",
       "  </tbody>\n",
       "</table>\n",
       "</div>"
      ],
      "text/plain": [
       "  number title                                               text  \\\n",
       "0      1     1  FROM JULY OF  his sophomore year in college un...   \n",
       "1      2     2  THIS DRASTIC CHANGE  took place during summer ...   \n",
       "2      3     3  IN THE HALF  year when he wandered on the verg...   \n",
       "3      4     4  HE MET THE  man at the college pool. \\n Like T...   \n",
       "4      5     5  ‘ WHEN MY FATHER  was young, he spent a year w...   \n",
       "\n",
       "                                       fstop_indices  \\\n",
       "0  [119, 219, 340, 450, 591, 625, 806, 871, 933, ...   \n",
       "1  [116, 253, 405, 531, 572, 628, 804, 889, 911, ...   \n",
       "2  [85, 132, 222, 290, 352, 416, 481, 574, 606, 7...   \n",
       "3  [35, 96, 178, 276, 355, 512, 600, 639, 675, 70...   \n",
       "4  [81, 206, 362, 435, 581, 677, 818, 902, 944, 1...   \n",
       "\n",
       "                                       split_indices  \\\n",
       "0  [996, 1983, 2948, 3943, 4964, 5996, 6975, 7944...   \n",
       "1  [999, 1845, 2998, 3925, 4956, 5982, 6995, 7914...   \n",
       "2  [956, 1909, 2907, 3960, 4999, 5910, 6979, 7934...   \n",
       "3  [988, 1998, 2952, 3984, 4989, 5960, 6956, 7886...   \n",
       "4  [944, 1991, 2976, 3844, 4986, 5979, 6962, 7969...   \n",
       "\n",
       "                                              chunks      translator  \\\n",
       "0  [FROM JULY OF  his sophomore year in college u...  Philip Gabriel   \n",
       "1  [THIS DRASTIC CHANGE  took place during summer...  Philip Gabriel   \n",
       "2  [IN THE HALF  year when he wandered on the ver...  Philip Gabriel   \n",
       "3  [HE MET THE  man at the college pool. \\n Like ...  Philip Gabriel   \n",
       "4  [‘ WHEN MY FATHER  was young, he spent a year ...  Philip Gabriel   \n",
       "\n",
       "                 book_title  \n",
       "0  Colorless Tsukuru Tazaki  \n",
       "1  Colorless Tsukuru Tazaki  \n",
       "2  Colorless Tsukuru Tazaki  \n",
       "3  Colorless Tsukuru Tazaki  \n",
       "4  Colorless Tsukuru Tazaki  "
      ]
     },
     "execution_count": 75,
     "metadata": {},
     "output_type": "execute_result"
    }
   ],
   "source": [
    "chapters = pd.DataFrame({'number': ch_nos, 'title': ch_titles, 'text': ch_texts})\n",
    "chapters['fstop_indices'] = chapters['text'].apply(lambda x: fs_indexer(x))\n",
    "chapters['split_indices'] = chapters['text'].apply(lambda x: split_indexer(x))\n",
    "chapters['chunks'] = chapters['text'].apply(lambda x: text_chunker(x))\n",
    "chapters['translator'] = 'Philip Gabriel'\n",
    "chapters['book_title'] = 'Colorless Tsukuru Tazaki'\n",
    "chapters.head()"
   ]
  },
  {
   "cell_type": "code",
   "execution_count": 76,
   "metadata": {
    "ExecuteTime": {
     "end_time": "2020-06-01T20:49:04.348246Z",
     "start_time": "2020-06-01T20:49:04.063166Z"
    }
   },
   "outputs": [
    {
     "data": {
      "image/png": "[encoded data removed]",
      "text/plain": [
       "<Figure size 432x288 with 1 Axes>"
      ]
     },
     "metadata": {
      "image/png": {
       "height": 256,
       "width": 386
      },
      "needs_background": "light"
     },
     "output_type": "display_data"
    }
   ],
   "source": [
    "lengths = []\n",
    "for chapter in chapters['chunks']:\n",
    "    for chunk in chapter:\n",
    "        lengths.append(len(chunk))\n",
    "plt.hist(lengths, bins=20);"
   ]
  },
  {
   "cell_type": "code",
   "execution_count": 77,
   "metadata": {
    "ExecuteTime": {
     "end_time": "2020-06-01T20:49:04.358270Z",
     "start_time": "2020-06-01T20:49:04.353469Z"
    }
   },
   "outputs": [],
   "source": [
    "out_path = '../../../../Documents/murakami/pkl2/'\n",
    "out_name = 'ctt_gabriel_v01'\n",
    "out_full_path = out_path + out_name + '.pkl'"
   ]
  },
  {
   "cell_type": "code",
   "execution_count": 78,
   "metadata": {
    "ExecuteTime": {
     "end_time": "2020-06-01T20:49:04.629431Z",
     "start_time": "2020-06-01T20:49:04.618896Z"
    }
   },
   "outputs": [],
   "source": [
    "# save pickle\n",
    "with open(out_full_path, 'wb') as fp:\n",
    "    pickle.dump(chapters, fp)\n",
    "\n",
    "\n",
    "# # read back pickle\n",
    "# with open (out_full_path, 'rb') as fp:\n",
    "#     read_ctt = pickle.load(fp)"
   ]
  },
  {
   "cell_type": "code",
   "execution_count": 79,
   "metadata": {
    "ExecuteTime": {
     "end_time": "2020-06-01T20:49:04.892246Z",
     "start_time": "2020-06-01T20:49:04.887238Z"
    }
   },
   "outputs": [],
   "source": [
    "# read_ctt"
   ]
  },
  {
   "cell_type": "markdown",
   "metadata": {},
   "source": [
    "### Initial cleaning and preparation of 'The Wind Up Bird Chronicle' Text"
   ]
  },
  {
   "cell_type": "code",
   "execution_count": 80,
   "metadata": {
    "ExecuteTime": {
     "end_time": "2020-06-01T20:49:05.434396Z",
     "start_time": "2020-06-01T20:49:05.430603Z"
    }
   },
   "outputs": [],
   "source": [
    "wubc = books['full_text'].iloc[2]"
   ]
  },
  {
   "cell_type": "code",
   "execution_count": 81,
   "metadata": {
    "ExecuteTime": {
     "end_time": "2020-06-01T20:49:05.704485Z",
     "start_time": "2020-06-01T20:49:05.698197Z"
    }
   },
   "outputs": [
    {
     "data": {
      "text/plain": [
       "83"
      ]
     },
     "execution_count": 81,
     "metadata": {},
     "output_type": "execute_result"
    }
   ],
   "source": [
    "len(wubc)"
   ]
  },
  {
   "cell_type": "code",
   "execution_count": 82,
   "metadata": {
    "ExecuteTime": {
     "end_time": "2020-06-01T20:49:05.958277Z",
     "start_time": "2020-06-01T20:49:05.954584Z"
    }
   },
   "outputs": [],
   "source": [
    "texts = wubc[7:77]"
   ]
  },
  {
   "cell_type": "code",
   "execution_count": 83,
   "metadata": {
    "ExecuteTime": {
     "end_time": "2020-06-01T20:49:06.319326Z",
     "start_time": "2020-06-01T20:49:06.218789Z"
    }
   },
   "outputs": [],
   "source": [
    "# regex pattern to extract chapter number, title and main text from a complete chapter\n",
    "# pattern = re.compile(r'\\n ([\\d\\w]+) \\n \\n ([^\\n]+) \\n ([\\w\\W]+)')\n",
    "# first pattern for most chapters\n",
    "# pattern1 = re.compile(r'(\\d+) \\n ([\\d\\w\\W]+) \\n ♦ \\n ([^\\n]+) \\n ([\\w\\W]+)')\n",
    "pattern1 = re.compile(r'(\\d+) \\n ([\\d\\w\\W\\n]+ \\n ♦ \\n [^\\n]+) \\n ([\\w\\W]+)')\n",
    "#  second pattern for some irregular chapters - useful finding first few all capitals\n",
    "pattern2 = re.compile(r'(\\d+) \\n ([\\d\\w\\W]+) \\n ([A-Z]{1,}\\s[A-Z]{2,}[\\d\\w\\W]+)')\n",
    "\n",
    "ch_nos = []\n",
    "ch_titles = []\n",
    "ch_texts = []\n",
    "\n",
    "for t in range(0,len(texts)):\n",
    "#     print(t)\n",
    "    out = re.findall(pattern1, texts[t])\n",
    "    if len(out) > 0:\n",
    "        ch_nos.append(out[0][0])\n",
    "        ch_titles.append(out[0][1])\n",
    "        ch_texts.append(out[0][2])\n",
    "    else:\n",
    "        try:\n",
    "            out = re.findall(pattern2, texts[t])\n",
    "            ch_nos.append(out[0][0])\n",
    "            ch_titles.append(out[0][1])\n",
    "            ch_texts.append(out[0][2])\n",
    "        except:\n",
    "            ch_nos.append(None)\n",
    "            ch_titles.append(None)\n",
    "            ch_texts.append(out)"
   ]
  },
  {
   "cell_type": "code",
   "execution_count": 84,
   "metadata": {
    "ExecuteTime": {
     "end_time": "2020-06-01T20:49:06.890496Z",
     "start_time": "2020-06-01T20:49:06.500272Z"
    }
   },
   "outputs": [
    {
     "data": {
      "text/html": [
       "<div>\n",
       "<style scoped>\n",
       "    .dataframe tbody tr th:only-of-type {\n",
       "        vertical-align: middle;\n",
       "    }\n",
       "\n",
       "    .dataframe tbody tr th {\n",
       "        vertical-align: top;\n",
       "    }\n",
       "\n",
       "    .dataframe thead th {\n",
       "        text-align: right;\n",
       "    }\n",
       "</style>\n",
       "<table border=\"1\" class=\"dataframe\">\n",
       "  <thead>\n",
       "    <tr style=\"text-align: right;\">\n",
       "      <th></th>\n",
       "      <th>number</th>\n",
       "      <th>title</th>\n",
       "      <th>text</th>\n",
       "      <th>fstop_indices</th>\n",
       "      <th>split_indices</th>\n",
       "      <th>chunks</th>\n",
       "      <th>translator</th>\n",
       "      <th>book_title</th>\n",
       "    </tr>\n",
       "  </thead>\n",
       "  <tbody>\n",
       "    <tr>\n",
       "      <th>0</th>\n",
       "      <td>1</td>\n",
       "      <td>Tuesday’s Wind-up Bird \\n ♦ \\n Six Fingers and...</td>\n",
       "      <td>WHEN THE PHONE  rang I was in the kitchen, boi...</td>\n",
       "      <td>[215, 377, 413, 461, 538, 594, 666, 737, 759, ...</td>\n",
       "      <td>[968, 1946, 2996, 3973, 4966, 5879, 6990, 7902...</td>\n",
       "      <td>[WHEN THE PHONE  rang I was in the kitchen, bo...</td>\n",
       "      <td>Jay Rubin</td>\n",
       "      <td>The Wind Up Bird Chronicle</td>\n",
       "    </tr>\n",
       "    <tr>\n",
       "      <th>1</th>\n",
       "      <td>2</td>\n",
       "      <td>Full Moon and Eclipse of the Sun \\n ♦ \\n On Ho...</td>\n",
       "      <td>IS IT POSSIBLE , in the final analysis, for on...</td>\n",
       "      <td>[458, 558, 625, 676, 778, 940, 1041, 1091, 118...</td>\n",
       "      <td>[940, 1999, 2990, 3955, 4955, 5911, 6963, 7884...</td>\n",
       "      <td>[IS IT POSSIBLE , in the final analysis, for o...</td>\n",
       "      <td>Jay Rubin</td>\n",
       "      <td>The Wind Up Bird Chronicle</td>\n",
       "    </tr>\n",
       "    <tr>\n",
       "      <th>2</th>\n",
       "      <td>3</td>\n",
       "      <td>Malta Kano’s Hat \\n ♦ \\n Sherbet Tone and Alle...</td>\n",
       "      <td>I WAS IN  the middle of preparing lunch when t...</td>\n",
       "      <td>[65, 287, 352, 499, 534, 556, 584, 654, 717, 8...</td>\n",
       "      <td>[983, 1978, 2999, 3993, 4996, 5911, 6967, 7981...</td>\n",
       "      <td>[I WAS IN  the middle of preparing lunch when ...</td>\n",
       "      <td>Jay Rubin</td>\n",
       "      <td>The Wind Up Bird Chronicle</td>\n",
       "    </tr>\n",
       "    <tr>\n",
       "      <th>3</th>\n",
       "      <td>4</td>\n",
       "      <td>High Towers and Deep Wells \\n (Or, Far from No...</td>\n",
       "      <td>I listened, making suitable responses.  I hear...</td>\n",
       "      <td>[37, 88, 151, 275, 309, 420, 517, 602, 641, 69...</td>\n",
       "      <td>[897, 1861, 2946, 3953, 4988, 5931, 6994, 7985...</td>\n",
       "      <td>[I listened, making suitable responses.  I hea...</td>\n",
       "      <td>Jay Rubin</td>\n",
       "      <td>The Wind Up Bird Chronicle</td>\n",
       "    </tr>\n",
       "    <tr>\n",
       "      <th>4</th>\n",
       "      <td>5</td>\n",
       "      <td>Hooked on Lemon Drops \\n ♦ \\n Flightless Bird ...</td>\n",
       "      <td>AFTER DOING THE  breakfast dishes, I rode my b...</td>\n",
       "      <td>[81, 268, 373, 467, 618, 754, 790, 911, 983, 1...</td>\n",
       "      <td>[983, 1918, 2875, 3850, 4944, 5979, 6916, 7950...</td>\n",
       "      <td>[AFTER DOING THE  breakfast dishes, I rode my ...</td>\n",
       "      <td>Jay Rubin</td>\n",
       "      <td>The Wind Up Bird Chronicle</td>\n",
       "    </tr>\n",
       "    <tr>\n",
       "      <th>5</th>\n",
       "      <td>6</td>\n",
       "      <td>On the Births of Kumiko Okada \\n and Noboru Wa...</td>\n",
       "      <td>BROUGHT UP AS  an only child, I find it diffic...</td>\n",
       "      <td>[148, 381, 471, 525, 568, 678, 763, 903, 941, ...</td>\n",
       "      <td>[941, 1995, 2867, 3943, 4885, 5919, 6976, 7939...</td>\n",
       "      <td>[BROUGHT UP AS  an only child, I find it diffi...</td>\n",
       "      <td>Jay Rubin</td>\n",
       "      <td>The Wind Up Bird Chronicle</td>\n",
       "    </tr>\n",
       "    <tr>\n",
       "      <th>6</th>\n",
       "      <td>7</td>\n",
       "      <td>The Happy Cleaners \\n ♦ \\n And Creta Kano Make...</td>\n",
       "      <td>I TOOK A  blouse and skirt of Kumiko’s to the ...</td>\n",
       "      <td>[70, 198, 271, 369, 483, 537, 616, 676, 896, 9...</td>\n",
       "      <td>[988, 1958, 2969, 3928, 4997, 5993, 6960, 7959...</td>\n",
       "      <td>[I TOOK A  blouse and skirt of Kumiko’s to the...</td>\n",
       "      <td>Jay Rubin</td>\n",
       "      <td>The Wind Up Bird Chronicle</td>\n",
       "    </tr>\n",
       "    <tr>\n",
       "      <th>7</th>\n",
       "      <td>8</td>\n",
       "      <td>Creta Kano’s Long Story \\n ♦ \\n An Inquiry int...</td>\n",
       "      <td>“ I WAS BORN  on May 29,” Creta Kano began her...</td>\n",
       "      <td>[127, 175, 220, 231, 268, 340, 479, 502, 519, ...</td>\n",
       "      <td>[912, 1990, 2971, 3990, 4995, 5947, 6996, 7999...</td>\n",
       "      <td>[“ I WAS BORN  on May 29,” Creta Kano began he...</td>\n",
       "      <td>Jay Rubin</td>\n",
       "      <td>The Wind Up Bird Chronicle</td>\n",
       "    </tr>\n",
       "    <tr>\n",
       "      <th>8</th>\n",
       "      <td>9</td>\n",
       "      <td>Culverts and an Absolute \\n Insufficiency of E...</td>\n",
       "      <td>AFTER SEEING KUMIKO  off the next morning, I w...</td>\n",
       "      <td>[82, 124, 319, 455, 525, 566, 596, 654, 725, 8...</td>\n",
       "      <td>[978, 1936, 2922, 3994, 4975, 5981, 6982, 7987...</td>\n",
       "      <td>[AFTER SEEING KUMIKO  off the next morning, I ...</td>\n",
       "      <td>Jay Rubin</td>\n",
       "      <td>The Wind Up Bird Chronicle</td>\n",
       "    </tr>\n",
       "    <tr>\n",
       "      <th>9</th>\n",
       "      <td>10</td>\n",
       "      <td>Magic Touch \\n ♦ \\n Death in the Bathtub \\n ♦ ...</td>\n",
       "      <td>WE HAD MOVED  into our present house in the au...</td>\n",
       "      <td>[85, 161, 275, 363, 425, 588, 832, 999, 1270, ...</td>\n",
       "      <td>[999, 1963, 2953, 3948, 4968, 5943, 6991, 7975...</td>\n",
       "      <td>[WE HAD MOVED  into our present house in the a...</td>\n",
       "      <td>Jay Rubin</td>\n",
       "      <td>The Wind Up Bird Chronicle</td>\n",
       "    </tr>\n",
       "  </tbody>\n",
       "</table>\n",
       "</div>"
      ],
      "text/plain": [
       "  number                                              title  \\\n",
       "0      1  Tuesday’s Wind-up Bird \\n ♦ \\n Six Fingers and...   \n",
       "1      2  Full Moon and Eclipse of the Sun \\n ♦ \\n On Ho...   \n",
       "2      3  Malta Kano’s Hat \\n ♦ \\n Sherbet Tone and Alle...   \n",
       "3      4  High Towers and Deep Wells \\n (Or, Far from No...   \n",
       "4      5  Hooked on Lemon Drops \\n ♦ \\n Flightless Bird ...   \n",
       "5      6  On the Births of Kumiko Okada \\n and Noboru Wa...   \n",
       "6      7  The Happy Cleaners \\n ♦ \\n And Creta Kano Make...   \n",
       "7      8  Creta Kano’s Long Story \\n ♦ \\n An Inquiry int...   \n",
       "8      9  Culverts and an Absolute \\n Insufficiency of E...   \n",
       "9     10  Magic Touch \\n ♦ \\n Death in the Bathtub \\n ♦ ...   \n",
       "\n",
       "                                                text  \\\n",
       "0  WHEN THE PHONE  rang I was in the kitchen, boi...   \n",
       "1  IS IT POSSIBLE , in the final analysis, for on...   \n",
       "2  I WAS IN  the middle of preparing lunch when t...   \n",
       "3  I listened, making suitable responses.  I hear...   \n",
       "4  AFTER DOING THE  breakfast dishes, I rode my b...   \n",
       "5  BROUGHT UP AS  an only child, I find it diffic...   \n",
       "6  I TOOK A  blouse and skirt of Kumiko’s to the ...   \n",
       "7  “ I WAS BORN  on May 29,” Creta Kano began her...   \n",
       "8  AFTER SEEING KUMIKO  off the next morning, I w...   \n",
       "9  WE HAD MOVED  into our present house in the au...   \n",
       "\n",
       "                                       fstop_indices  \\\n",
       "0  [215, 377, 413, 461, 538, 594, 666, 737, 759, ...   \n",
       "1  [458, 558, 625, 676, 778, 940, 1041, 1091, 118...   \n",
       "2  [65, 287, 352, 499, 534, 556, 584, 654, 717, 8...   \n",
       "3  [37, 88, 151, 275, 309, 420, 517, 602, 641, 69...   \n",
       "4  [81, 268, 373, 467, 618, 754, 790, 911, 983, 1...   \n",
       "5  [148, 381, 471, 525, 568, 678, 763, 903, 941, ...   \n",
       "6  [70, 198, 271, 369, 483, 537, 616, 676, 896, 9...   \n",
       "7  [127, 175, 220, 231, 268, 340, 479, 502, 519, ...   \n",
       "8  [82, 124, 319, 455, 525, 566, 596, 654, 725, 8...   \n",
       "9  [85, 161, 275, 363, 425, 588, 832, 999, 1270, ...   \n",
       "\n",
       "                                       split_indices  \\\n",
       "0  [968, 1946, 2996, 3973, 4966, 5879, 6990, 7902...   \n",
       "1  [940, 1999, 2990, 3955, 4955, 5911, 6963, 7884...   \n",
       "2  [983, 1978, 2999, 3993, 4996, 5911, 6967, 7981...   \n",
       "3  [897, 1861, 2946, 3953, 4988, 5931, 6994, 7985...   \n",
       "4  [983, 1918, 2875, 3850, 4944, 5979, 6916, 7950...   \n",
       "5  [941, 1995, 2867, 3943, 4885, 5919, 6976, 7939...   \n",
       "6  [988, 1958, 2969, 3928, 4997, 5993, 6960, 7959...   \n",
       "7  [912, 1990, 2971, 3990, 4995, 5947, 6996, 7999...   \n",
       "8  [978, 1936, 2922, 3994, 4975, 5981, 6982, 7987...   \n",
       "9  [999, 1963, 2953, 3948, 4968, 5943, 6991, 7975...   \n",
       "\n",
       "                                              chunks translator  \\\n",
       "0  [WHEN THE PHONE  rang I was in the kitchen, bo...  Jay Rubin   \n",
       "1  [IS IT POSSIBLE , in the final analysis, for o...  Jay Rubin   \n",
       "2  [I WAS IN  the middle of preparing lunch when ...  Jay Rubin   \n",
       "3  [I listened, making suitable responses.  I hea...  Jay Rubin   \n",
       "4  [AFTER DOING THE  breakfast dishes, I rode my ...  Jay Rubin   \n",
       "5  [BROUGHT UP AS  an only child, I find it diffi...  Jay Rubin   \n",
       "6  [I TOOK A  blouse and skirt of Kumiko’s to the...  Jay Rubin   \n",
       "7  [“ I WAS BORN  on May 29,” Creta Kano began he...  Jay Rubin   \n",
       "8  [AFTER SEEING KUMIKO  off the next morning, I ...  Jay Rubin   \n",
       "9  [WE HAD MOVED  into our present house in the a...  Jay Rubin   \n",
       "\n",
       "                   book_title  \n",
       "0  The Wind Up Bird Chronicle  \n",
       "1  The Wind Up Bird Chronicle  \n",
       "2  The Wind Up Bird Chronicle  \n",
       "3  The Wind Up Bird Chronicle  \n",
       "4  The Wind Up Bird Chronicle  \n",
       "5  The Wind Up Bird Chronicle  \n",
       "6  The Wind Up Bird Chronicle  \n",
       "7  The Wind Up Bird Chronicle  \n",
       "8  The Wind Up Bird Chronicle  \n",
       "9  The Wind Up Bird Chronicle  "
      ]
     },
     "execution_count": 84,
     "metadata": {},
     "output_type": "execute_result"
    }
   ],
   "source": [
    "chapters = pd.DataFrame({'number': ch_nos, 'title': ch_titles, 'text': ch_texts})\n",
    "chapters['fstop_indices'] = chapters['text'].apply(lambda x: fs_indexer(x))\n",
    "chapters.dropna(inplace=True)\n",
    "chapters['split_indices'] = chapters['text'].apply(lambda x: split_indexer(x))\n",
    "chapters.dropna(inplace=True)\n",
    "chapters['chunks'] = chapters['text'].apply(lambda x: text_chunker(x))\n",
    "chapters['translator'] = 'Jay Rubin'\n",
    "chapters['book_title'] = 'The Wind Up Bird Chronicle'\n",
    "chapters.head(10)"
   ]
  },
  {
   "cell_type": "code",
   "execution_count": 85,
   "metadata": {
    "ExecuteTime": {
     "end_time": "2020-06-01T20:49:07.234918Z",
     "start_time": "2020-06-01T20:49:06.894058Z"
    }
   },
   "outputs": [
    {
     "data": {
      "image/png": "[encoded data removed]",
      "text/plain": [
       "<Figure size 432x288 with 1 Axes>"
      ]
     },
     "metadata": {
      "image/png": {
       "height": 256,
       "width": 386
      },
      "needs_background": "light"
     },
     "output_type": "display_data"
    }
   ],
   "source": [
    "lengths = []\n",
    "for chapter in chapters['chunks']:\n",
    "    for chunk in chapter:\n",
    "        lengths.append(len(chunk))\n",
    "plt.hist(lengths, bins=20);"
   ]
  },
  {
   "cell_type": "code",
   "execution_count": 86,
   "metadata": {
    "ExecuteTime": {
     "end_time": "2020-06-01T20:49:07.246137Z",
     "start_time": "2020-06-01T20:49:07.239313Z"
    }
   },
   "outputs": [],
   "source": [
    "out_path = '../../../../Documents/murakami/pkl2/'\n",
    "out_name = 'wubc_rubin_v01'\n",
    "out_full_path = out_path + out_name + '.pkl'"
   ]
  },
  {
   "cell_type": "code",
   "execution_count": 87,
   "metadata": {
    "ExecuteTime": {
     "end_time": "2020-06-01T20:49:07.374504Z",
     "start_time": "2020-06-01T20:49:07.354502Z"
    }
   },
   "outputs": [],
   "source": [
    "# save pickle\n",
    "with open(out_full_path, 'wb') as fp:\n",
    "    pickle.dump(chapters, fp)\n",
    "\n",
    "\n",
    "# # read back pickle\n",
    "# with open (out_full_path, 'rb') as fp:\n",
    "#     read_wubc = pickle.load(fp)"
   ]
  },
  {
   "cell_type": "code",
   "execution_count": 88,
   "metadata": {
    "ExecuteTime": {
     "end_time": "2020-06-01T20:49:07.639579Z",
     "start_time": "2020-06-01T20:49:07.636756Z"
    }
   },
   "outputs": [],
   "source": [
    "# read_wubc"
   ]
  },
  {
   "cell_type": "markdown",
   "metadata": {},
   "source": [
    "### Initial cleaning and preparation of 'Norwegian Wood' Text"
   ]
  },
  {
   "cell_type": "code",
   "execution_count": 89,
   "metadata": {
    "ExecuteTime": {
     "end_time": "2020-06-01T20:49:08.174257Z",
     "start_time": "2020-06-01T20:49:08.170266Z"
    }
   },
   "outputs": [],
   "source": [
    "nw = books['full_text'].iloc[1]"
   ]
  },
  {
   "cell_type": "code",
   "execution_count": 90,
   "metadata": {
    "ExecuteTime": {
     "end_time": "2020-06-01T20:49:08.452869Z",
     "start_time": "2020-06-01T20:49:08.448955Z"
    }
   },
   "outputs": [],
   "source": [
    "nw = nw[1:3]"
   ]
  },
  {
   "cell_type": "code",
   "execution_count": 91,
   "metadata": {
    "ExecuteTime": {
     "end_time": "2020-06-01T20:49:08.716795Z",
     "start_time": "2020-06-01T20:49:08.711168Z"
    }
   },
   "outputs": [],
   "source": [
    "nw_main1 = nw[0].split('subsequent purchaser ')[1]\n",
    "nw_main2 = nw[1]\n",
    "nw_main2 = nw_main2.split(' TRANSLATOR’S NOTE ')[0]"
   ]
  },
  {
   "cell_type": "code",
   "execution_count": null,
   "metadata": {},
   "outputs": [],
   "source": []
  },
  {
   "cell_type": "code",
   "execution_count": 92,
   "metadata": {
    "ExecuteTime": {
     "end_time": "2020-06-01T20:49:09.737215Z",
     "start_time": "2020-06-01T20:49:09.261029Z"
    }
   },
   "outputs": [
    {
     "data": {
      "text/html": [
       "<div>\n",
       "<style scoped>\n",
       "    .dataframe tbody tr th:only-of-type {\n",
       "        vertical-align: middle;\n",
       "    }\n",
       "\n",
       "    .dataframe tbody tr th {\n",
       "        vertical-align: top;\n",
       "    }\n",
       "\n",
       "    .dataframe thead th {\n",
       "        text-align: right;\n",
       "    }\n",
       "</style>\n",
       "<table border=\"1\" class=\"dataframe\">\n",
       "  <thead>\n",
       "    <tr style=\"text-align: right;\">\n",
       "      <th></th>\n",
       "      <th>number</th>\n",
       "      <th>title</th>\n",
       "      <th>text</th>\n",
       "      <th>fstop_indices</th>\n",
       "      <th>split_indices</th>\n",
       "      <th>chunks</th>\n",
       "      <th>translator</th>\n",
       "      <th>book_title</th>\n",
       "    </tr>\n",
       "  </thead>\n",
       "  <tbody>\n",
       "    <tr>\n",
       "      <th>0</th>\n",
       "      <td>1</td>\n",
       "      <td>Book 1</td>\n",
       "      <td>I was 37 then, strapped in my seat as the huge...</td>\n",
       "      <td>[115, 300, 320, 473, 569, 643, 734, 761, 794, ...</td>\n",
       "      <td>[868, 1999, 2992, 3970, 4862, 5962, 6988, 7972...</td>\n",
       "      <td>[I was 37 then, strapped in my seat as the hug...</td>\n",
       "      <td>Jay Rubin</td>\n",
       "      <td>Norwegian Wood</td>\n",
       "    </tr>\n",
       "    <tr>\n",
       "      <th>1</th>\n",
       "      <td>2</td>\n",
       "      <td>Book 2</td>\n",
       "      <td>m\\n \\nsf Thanks for your letter,\\n wrote Naoko...</td>\n",
       "      <td>[43, 88, 213, 296, 343, 376, 480, 632, 695, 74...</td>\n",
       "      <td>[924, 1926, 2925, 3997, 4861, 5754, 6924, 7914...</td>\n",
       "      <td>[m\\n \\nsf Thanks for your letter,\\n wrote Naok...</td>\n",
       "      <td>Jay Rubin</td>\n",
       "      <td>Norwegian Wood</td>\n",
       "    </tr>\n",
       "  </tbody>\n",
       "</table>\n",
       "</div>"
      ],
      "text/plain": [
       "   number   title                                               text  \\\n",
       "0       1  Book 1  I was 37 then, strapped in my seat as the huge...   \n",
       "1       2  Book 2  m\\n \\nsf Thanks for your letter,\\n wrote Naoko...   \n",
       "\n",
       "                                       fstop_indices  \\\n",
       "0  [115, 300, 320, 473, 569, 643, 734, 761, 794, ...   \n",
       "1  [43, 88, 213, 296, 343, 376, 480, 632, 695, 74...   \n",
       "\n",
       "                                       split_indices  \\\n",
       "0  [868, 1999, 2992, 3970, 4862, 5962, 6988, 7972...   \n",
       "1  [924, 1926, 2925, 3997, 4861, 5754, 6924, 7914...   \n",
       "\n",
       "                                              chunks translator  \\\n",
       "0  [I was 37 then, strapped in my seat as the hug...  Jay Rubin   \n",
       "1  [m\\n \\nsf Thanks for your letter,\\n wrote Naok...  Jay Rubin   \n",
       "\n",
       "       book_title  \n",
       "0  Norwegian Wood  \n",
       "1  Norwegian Wood  "
      ]
     },
     "execution_count": 92,
     "metadata": {},
     "output_type": "execute_result"
    }
   ],
   "source": [
    "chapters = pd.DataFrame({'number': [1,2], 'title': ['Book 1', 'Book 2'], 'text': [nw_main1, nw_main2]})\n",
    "chapters['fstop_indices'] = chapters['text'].apply(lambda x: fs_indexer(x))\n",
    "chapters.dropna(inplace=True)\n",
    "chapters['split_indices'] = chapters['text'].apply(lambda x: split_indexer(x))\n",
    "chapters.dropna(inplace=True)\n",
    "chapters['chunks'] = chapters['text'].apply(lambda x: text_chunker(x))\n",
    "chapters['translator'] = 'Jay Rubin'\n",
    "chapters['book_title'] = 'Norwegian Wood'\n",
    "chapters.head(10)"
   ]
  },
  {
   "cell_type": "code",
   "execution_count": 93,
   "metadata": {
    "ExecuteTime": {
     "end_time": "2020-06-01T20:49:10.165509Z",
     "start_time": "2020-06-01T20:49:09.742887Z"
    }
   },
   "outputs": [
    {
     "data": {
      "image/png": "[encoded data removed]",
      "text/plain": [
       "<Figure size 432x288 with 1 Axes>"
      ]
     },
     "metadata": {
      "image/png": {
       "height": 256,
       "width": 404
      },
      "needs_background": "light"
     },
     "output_type": "display_data"
    }
   ],
   "source": [
    "lengths = []\n",
    "for chapter in chapters['chunks']:\n",
    "    for chunk in chapter:\n",
    "        lengths.append(len(chunk))\n",
    "plt.hist(lengths, bins=20);"
   ]
  },
  {
   "cell_type": "code",
   "execution_count": 94,
   "metadata": {
    "ExecuteTime": {
     "end_time": "2020-06-01T20:49:10.180643Z",
     "start_time": "2020-06-01T20:49:10.170643Z"
    }
   },
   "outputs": [
    {
     "data": {
      "text/plain": [
       "632"
      ]
     },
     "execution_count": 94,
     "metadata": {},
     "output_type": "execute_result"
    }
   ],
   "source": [
    "len(lengths)"
   ]
  },
  {
   "cell_type": "code",
   "execution_count": 95,
   "metadata": {
    "ExecuteTime": {
     "end_time": "2020-06-01T20:49:10.194362Z",
     "start_time": "2020-06-01T20:49:10.184075Z"
    }
   },
   "outputs": [],
   "source": [
    "out_path = '../../../../Documents/murakami/pkl2/'\n",
    "out_name = 'nw_rubin_v01'\n",
    "out_full_path = out_path + out_name + '.pkl'"
   ]
  },
  {
   "cell_type": "code",
   "execution_count": 96,
   "metadata": {
    "ExecuteTime": {
     "end_time": "2020-06-01T20:49:10.365977Z",
     "start_time": "2020-06-01T20:49:10.355936Z"
    }
   },
   "outputs": [],
   "source": [
    "# save pickle\n",
    "with open(out_full_path, 'wb') as fp:\n",
    "    pickle.dump(chapters, fp)\n",
    "\n",
    "\n",
    "# # read back pickle\n",
    "# with open (out_full_path, 'rb') as fp:\n",
    "#     read_nw = pickle.load(fp)"
   ]
  },
  {
   "cell_type": "code",
   "execution_count": 97,
   "metadata": {
    "ExecuteTime": {
     "end_time": "2020-06-01T20:49:10.630307Z",
     "start_time": "2020-06-01T20:49:10.627392Z"
    }
   },
   "outputs": [],
   "source": [
    "# read_nw"
   ]
  },
  {
   "cell_type": "markdown",
   "metadata": {},
   "source": [
    "### Initial cleaning and preparation of 'Norwegian Wood' - Birnbaum Translation Text"
   ]
  },
  {
   "cell_type": "code",
   "execution_count": 98,
   "metadata": {
    "ExecuteTime": {
     "end_time": "2020-06-01T21:11:46.346885Z",
     "start_time": "2020-06-01T21:11:46.343558Z"
    }
   },
   "outputs": [],
   "source": [
    "nw_b = books['full_text'].iloc[6]"
   ]
  },
  {
   "cell_type": "code",
   "execution_count": 99,
   "metadata": {
    "ExecuteTime": {
     "end_time": "2020-06-01T21:12:09.295409Z",
     "start_time": "2020-06-01T21:12:09.288785Z"
    }
   },
   "outputs": [
    {
     "data": {
      "text/plain": [
       "298558"
      ]
     },
     "execution_count": 99,
     "metadata": {},
     "output_type": "execute_result"
    }
   ],
   "source": [
    "# nwb is read from a pdf and is a long string\n",
    "len(nw_b)"
   ]
  },
  {
   "cell_type": "code",
   "execution_count": 100,
   "metadata": {
    "ExecuteTime": {
     "end_time": "2020-06-01T21:12:19.845285Z",
     "start_time": "2020-06-01T21:12:19.841102Z"
    }
   },
   "outputs": [],
   "source": [
    "chaps = nw_b.split('CHAPTER ')"
   ]
  },
  {
   "cell_type": "code",
   "execution_count": 101,
   "metadata": {
    "ExecuteTime": {
     "end_time": "2020-06-01T21:12:44.510978Z",
     "start_time": "2020-06-01T21:12:44.505019Z"
    }
   },
   "outputs": [
    {
     "data": {
      "text/plain": [
       "6"
      ]
     },
     "execution_count": 101,
     "metadata": {},
     "output_type": "execute_result"
    }
   ],
   "source": [
    "len(chaps)"
   ]
  },
  {
   "cell_type": "code",
   "execution_count": 102,
   "metadata": {
    "ExecuteTime": {
     "end_time": "2020-06-01T21:13:01.497939Z",
     "start_time": "2020-06-01T21:13:01.494153Z"
    }
   },
   "outputs": [],
   "source": [
    "texts = chaps"
   ]
  },
  {
   "cell_type": "code",
   "execution_count": 103,
   "metadata": {
    "ExecuteTime": {
     "end_time": "2020-06-01T21:13:14.582666Z",
     "start_time": "2020-06-01T21:13:14.571951Z"
    }
   },
   "outputs": [],
   "source": [
    "# pattern1 = re.compile(r'(\\d+) \\n ([\\d\\w\\W\\n]+ \\n ♦ \\n [^\\n]+) \\n ([\\w\\W]+)')\n",
    "#  second pattern for some irregular chapters - useful finding first few all capitals\n",
    "# pattern2 = re.compile(r'(\\d+) \\n ([\\d\\w\\W]+) \\n ([A-Z]{1,}\\s[A-Z]{2,}[\\d\\w\\W]+)')\n",
    "pattern = re.compile(r'(\\d+) ([\\w\\W]+)')\n",
    "\n",
    "ch_nos = []\n",
    "# ch_titles = []\n",
    "ch_texts = []\n",
    "\n",
    "for t in range(0,len(texts)):\n",
    "#     print(t)\n",
    "    out = re.findall(pattern, texts[t])\n",
    "    if len(out) > 0:\n",
    "        ch_nos.append(out[0][0])\n",
    "#         ch_titles.append(out[0][1])\n",
    "        ch_texts.append(out[0][1])\n",
    "    else:\n",
    "        ch_nos.append(None)\n",
    "#         ch_titles.append(None)\n",
    "        ch_texts.append(None)"
   ]
  },
  {
   "cell_type": "code",
   "execution_count": 104,
   "metadata": {
    "ExecuteTime": {
     "end_time": "2020-06-01T21:13:47.794077Z",
     "start_time": "2020-06-01T21:13:47.780506Z"
    }
   },
   "outputs": [
    {
     "data": {
      "text/html": [
       "<div>\n",
       "<style scoped>\n",
       "    .dataframe tbody tr th:only-of-type {\n",
       "        vertical-align: middle;\n",
       "    }\n",
       "\n",
       "    .dataframe tbody tr th {\n",
       "        vertical-align: top;\n",
       "    }\n",
       "\n",
       "    .dataframe thead th {\n",
       "        text-align: right;\n",
       "    }\n",
       "</style>\n",
       "<table border=\"1\" class=\"dataframe\">\n",
       "  <thead>\n",
       "    <tr style=\"text-align: right;\">\n",
       "      <th></th>\n",
       "      <th>number</th>\n",
       "      <th>title</th>\n",
       "      <th>text</th>\n",
       "    </tr>\n",
       "  </thead>\n",
       "  <tbody>\n",
       "    <tr>\n",
       "      <th>0</th>\n",
       "      <td>6</td>\n",
       "      <td>6</td>\n",
       "      <td>(rontinutd) The scene at dinner was pretty muc...</td>\n",
       "    </tr>\n",
       "    <tr>\n",
       "      <th>1</th>\n",
       "      <td>7</td>\n",
       "      <td>7</td>\n",
       "      <td>The next day I had my Thursday morning gym cla...</td>\n",
       "    </tr>\n",
       "    <tr>\n",
       "      <th>2</th>\n",
       "      <td>8</td>\n",
       "      <td>8</td>\n",
       "      <td>In the middle of the week I cut my hand badly ...</td>\n",
       "    </tr>\n",
       "    <tr>\n",
       "      <th>3</th>\n",
       "      <td>9</td>\n",
       "      <td>9</td>\n",
       "      <td>Midori didn't show for up the following Monday...</td>\n",
       "    </tr>\n",
       "    <tr>\n",
       "      <th>4</th>\n",
       "      <td>10</td>\n",
       "      <td>10</td>\n",
       "      <td>1969 was one hopeless swamp of a year. I felt ...</td>\n",
       "    </tr>\n",
       "    <tr>\n",
       "      <th>5</th>\n",
       "      <td>11</td>\n",
       "      <td>11</td>\n",
       "      <td>Even after Naoko died, Reiko continued to writ...</td>\n",
       "    </tr>\n",
       "  </tbody>\n",
       "</table>\n",
       "</div>"
      ],
      "text/plain": [
       "  number title                                               text\n",
       "0      6     6  (rontinutd) The scene at dinner was pretty muc...\n",
       "1      7     7  The next day I had my Thursday morning gym cla...\n",
       "2      8     8  In the middle of the week I cut my hand badly ...\n",
       "3      9     9  Midori didn't show for up the following Monday...\n",
       "4     10    10  1969 was one hopeless swamp of a year. I felt ...\n",
       "5     11    11  Even after Naoko died, Reiko continued to writ..."
      ]
     },
     "execution_count": 104,
     "metadata": {},
     "output_type": "execute_result"
    }
   ],
   "source": [
    "chapters = pd.DataFrame({'number': ch_nos, 'title': ch_nos, 'text': ch_texts})\n",
    "chapters.head(10)"
   ]
  },
  {
   "cell_type": "code",
   "execution_count": 105,
   "metadata": {
    "ExecuteTime": {
     "end_time": "2020-06-01T21:14:04.639421Z",
     "start_time": "2020-06-01T21:14:04.633073Z"
    }
   },
   "outputs": [],
   "source": [
    "chapters.iloc[0,2] = chapters.iloc[0,2].split('(rontinutd) ')[1]"
   ]
  },
  {
   "cell_type": "code",
   "execution_count": 106,
   "metadata": {
    "ExecuteTime": {
     "end_time": "2020-06-01T21:14:21.944886Z",
     "start_time": "2020-06-01T21:14:21.917408Z"
    }
   },
   "outputs": [],
   "source": [
    "chapters['fstop_indices'] = chapters['text'].apply(lambda x: fs_indexer(x))\n",
    "chapters.dropna(inplace=True)"
   ]
  },
  {
   "cell_type": "code",
   "execution_count": 111,
   "metadata": {
    "ExecuteTime": {
     "end_time": "2020-06-01T21:19:39.470830Z",
     "start_time": "2020-06-01T21:19:39.378951Z"
    }
   },
   "outputs": [],
   "source": [
    "chapters['split_indices'] = chapters['text'].apply(lambda x: split_indexer(x))\n",
    "chapters.dropna(inplace=True)\n",
    "chapters['chunks'] = chapters['text'].apply(lambda x: text_chunker(x))\n",
    "chapters['translator'] = 'Alfred Birnbaum'\n",
    "chapters['book_title'] = 'Norwegian Wood'"
   ]
  },
  {
   "cell_type": "code",
   "execution_count": 112,
   "metadata": {
    "ExecuteTime": {
     "end_time": "2020-06-01T21:19:40.798920Z",
     "start_time": "2020-06-01T21:19:40.508433Z"
    }
   },
   "outputs": [
    {
     "data": {
      "image/png": "[encoded data removed]",
      "text/plain": [
       "<Figure size 432x288 with 1 Axes>"
      ]
     },
     "metadata": {
      "image/png": {
       "height": 256,
       "width": 377
      },
      "needs_background": "light"
     },
     "output_type": "display_data"
    }
   ],
   "source": [
    "lengths = []\n",
    "for chapter in chapters['chunks']:\n",
    "    for chunk in chapter:\n",
    "        lengths.append(len(chunk))\n",
    "plt.hist(lengths, bins=20);"
   ]
  },
  {
   "cell_type": "code",
   "execution_count": 110,
   "metadata": {
    "ExecuteTime": {
     "end_time": "2020-06-01T21:19:11.056629Z",
     "start_time": "2020-06-01T21:19:11.050555Z"
    }
   },
   "outputs": [
    {
     "data": {
      "text/plain": [
       "296"
      ]
     },
     "execution_count": 110,
     "metadata": {},
     "output_type": "execute_result"
    }
   ],
   "source": [
    "len(lengths)"
   ]
  },
  {
   "cell_type": "code",
   "execution_count": 113,
   "metadata": {
    "ExecuteTime": {
     "end_time": "2020-06-01T21:19:58.915214Z",
     "start_time": "2020-06-01T21:19:58.911339Z"
    }
   },
   "outputs": [],
   "source": [
    "out_path = '../../../../Documents/murakami/pkl2/'\n",
    "out_name = 'nw_birnbaum_v01'\n",
    "out_full_path = out_path + out_name + '.pkl'"
   ]
  },
  {
   "cell_type": "code",
   "execution_count": 114,
   "metadata": {
    "ExecuteTime": {
     "end_time": "2020-06-01T21:20:09.626538Z",
     "start_time": "2020-06-01T21:20:09.614664Z"
    }
   },
   "outputs": [],
   "source": [
    "# save pickle\n",
    "with open(out_full_path, 'wb') as fp:\n",
    "    pickle.dump(chapters, fp)\n",
    "\n",
    "\n",
    "# # read back pickle\n",
    "# with open (out_full_path, 'rb') as fp:\n",
    "#     read_nw = pickle.load(fp)"
   ]
  },
  {
   "cell_type": "code",
   "execution_count": 116,
   "metadata": {
    "ExecuteTime": {
     "end_time": "2020-06-01T21:20:27.065275Z",
     "start_time": "2020-06-01T21:20:27.062335Z"
    }
   },
   "outputs": [],
   "source": [
    "# read_nw"
   ]
  },
  {
   "cell_type": "markdown",
   "metadata": {},
   "source": [
    "### Initial cleaning and preparation of 'The Elephant Vanishes' Text"
   ]
  },
  {
   "cell_type": "code",
   "execution_count": 117,
   "metadata": {
    "ExecuteTime": {
     "end_time": "2020-06-01T21:36:49.109714Z",
     "start_time": "2020-06-01T21:36:49.104092Z"
    }
   },
   "outputs": [],
   "source": [
    "ev = books['full_text'].iloc[0]"
   ]
  },
  {
   "cell_type": "code",
   "execution_count": 118,
   "metadata": {
    "ExecuteTime": {
     "end_time": "2020-06-01T21:37:10.263622Z",
     "start_time": "2020-06-01T21:37:10.254230Z"
    }
   },
   "outputs": [
    {
     "data": {
      "text/plain": [
       "14"
      ]
     },
     "execution_count": 118,
     "metadata": {},
     "output_type": "execute_result"
    }
   ],
   "source": [
    "# split the full text on triple line break to split into stories\n",
    "# we have 14 stories\n",
    "len(ev.split('\\n\\n\\n'))"
   ]
  },
  {
   "cell_type": "code",
   "execution_count": 119,
   "metadata": {
    "ExecuteTime": {
     "end_time": "2020-06-01T21:37:31.217998Z",
     "start_time": "2020-06-01T21:37:31.210746Z"
    }
   },
   "outputs": [],
   "source": [
    "# split the book into stories on the phrase 'translated by' \n",
    "# then take whatever is after that up to a line break\n",
    "trans_list = []\n",
    "for story in ev.split('\\n\\n\\n'):\n",
    "    trans_list.append(story.split('translated by')[1].split('\\n')[0])"
   ]
  },
  {
   "cell_type": "code",
   "execution_count": 120,
   "metadata": {
    "ExecuteTime": {
     "end_time": "2020-06-01T21:37:41.374231Z",
     "start_time": "2020-06-01T21:37:41.368993Z"
    }
   },
   "outputs": [
    {
     "data": {
      "text/plain": [
       "[' Alfred Birnbaum',\n",
       " ' Jay Rubin',\n",
       " ' Alfred Birnbaum',\n",
       " ' Jay Rubin',\n",
       " ' Alfred Birnbaum',\n",
       " ' Alfred Birnbaum',\n",
       " ' Alfred Birnbaum',\n",
       " ' Jay Rubin',\n",
       " ' Alfred Birnbaum',\n",
       " ' Alfred Birnbaum',\n",
       " ' Jay Rubin',\n",
       " ' Alfred Birnbaum',\n",
       " ' Alfred Birnbaum',\n",
       " ' Jay Rubin']"
      ]
     },
     "execution_count": 120,
     "metadata": {},
     "output_type": "execute_result"
    }
   ],
   "source": [
    "trans_list"
   ]
  },
  {
   "cell_type": "code",
   "execution_count": 121,
   "metadata": {
    "ExecuteTime": {
     "end_time": "2020-06-01T21:37:52.664451Z",
     "start_time": "2020-06-01T21:37:52.658825Z"
    }
   },
   "outputs": [],
   "source": [
    "ch_texts = ev.split('\\n\\n\\n')"
   ]
  },
  {
   "cell_type": "code",
   "execution_count": 122,
   "metadata": {
    "ExecuteTime": {
     "end_time": "2020-06-01T21:38:01.737393Z",
     "start_time": "2020-06-01T21:38:01.732806Z"
    }
   },
   "outputs": [],
   "source": [
    "ch_nos = [i+1 for i in range(len(ch_texts))]"
   ]
  },
  {
   "cell_type": "code",
   "execution_count": 123,
   "metadata": {
    "ExecuteTime": {
     "end_time": "2020-06-01T21:38:11.175486Z",
     "start_time": "2020-06-01T21:38:11.149866Z"
    }
   },
   "outputs": [
    {
     "data": {
      "text/html": [
       "<div>\n",
       "<style scoped>\n",
       "    .dataframe tbody tr th:only-of-type {\n",
       "        vertical-align: middle;\n",
       "    }\n",
       "\n",
       "    .dataframe tbody tr th {\n",
       "        vertical-align: top;\n",
       "    }\n",
       "\n",
       "    .dataframe thead th {\n",
       "        text-align: right;\n",
       "    }\n",
       "</style>\n",
       "<table border=\"1\" class=\"dataframe\">\n",
       "  <thead>\n",
       "    <tr style=\"text-align: right;\">\n",
       "      <th></th>\n",
       "      <th>number</th>\n",
       "      <th>title</th>\n",
       "      <th>text</th>\n",
       "    </tr>\n",
       "  </thead>\n",
       "  <tbody>\n",
       "    <tr>\n",
       "      <th>0</th>\n",
       "      <td>1</td>\n",
       "      <td>1</td>\n",
       "      <td>I’M IN THE kitchen cooking spaghetti when the ...</td>\n",
       "    </tr>\n",
       "    <tr>\n",
       "      <th>1</th>\n",
       "      <td>2</td>\n",
       "      <td>2</td>\n",
       "      <td>I’M STILL NOT sure I made the right choice whe...</td>\n",
       "    </tr>\n",
       "    <tr>\n",
       "      <th>2</th>\n",
       "      <td>3</td>\n",
       "      <td>3</td>\n",
       "      <td>SAY HEY, HOW’S tricks?\\nThis morning, I paid a...</td>\n",
       "    </tr>\n",
       "    <tr>\n",
       "      <th>3</th>\n",
       "      <td>4</td>\n",
       "      <td>4</td>\n",
       "      <td>ONE BEAUTIFUL APRIL morning, on a narrow side ...</td>\n",
       "    </tr>\n",
       "    <tr>\n",
       "      <th>4</th>\n",
       "      <td>5</td>\n",
       "      <td>5</td>\n",
       "      <td>1.\\nTHE FALL\\nOF THE\\nROMAN EMPIRE\\nI FIRST NO...</td>\n",
       "    </tr>\n",
       "    <tr>\n",
       "      <th>5</th>\n",
       "      <td>6</td>\n",
       "      <td>6</td>\n",
       "      <td>\\n“MOTHER DUMPED MY Father,” a friend of my wi...</td>\n",
       "    </tr>\n",
       "    <tr>\n",
       "      <th>6</th>\n",
       "      <td>7</td>\n",
       "      <td>7</td>\n",
       "      <td>I MET HER at the wedding party of an acquainta...</td>\n",
       "    </tr>\n",
       "    <tr>\n",
       "      <th>7</th>\n",
       "      <td>8</td>\n",
       "      <td>8</td>\n",
       "      <td>GREETINGS,\\nThe winter cold diminishes with ea...</td>\n",
       "    </tr>\n",
       "    <tr>\n",
       "      <th>8</th>\n",
       "      <td>9</td>\n",
       "      <td>9</td>\n",
       "      <td>IT WAS SUNDAY evening when the TV People showe...</td>\n",
       "    </tr>\n",
       "    <tr>\n",
       "      <th>9</th>\n",
       "      <td>10</td>\n",
       "      <td>10</td>\n",
       "      <td>WHEN DID I meet my first Chinese?\\nJust like t...</td>\n",
       "    </tr>\n",
       "  </tbody>\n",
       "</table>\n",
       "</div>"
      ],
      "text/plain": [
       "   number  title                                               text\n",
       "0       1      1  I’M IN THE kitchen cooking spaghetti when the ...\n",
       "1       2      2  I’M STILL NOT sure I made the right choice whe...\n",
       "2       3      3  SAY HEY, HOW’S tricks?\\nThis morning, I paid a...\n",
       "3       4      4  ONE BEAUTIFUL APRIL morning, on a narrow side ...\n",
       "4       5      5  1.\\nTHE FALL\\nOF THE\\nROMAN EMPIRE\\nI FIRST NO...\n",
       "5       6      6  \\n“MOTHER DUMPED MY Father,” a friend of my wi...\n",
       "6       7      7  I MET HER at the wedding party of an acquainta...\n",
       "7       8      8  GREETINGS,\\nThe winter cold diminishes with ea...\n",
       "8       9      9  IT WAS SUNDAY evening when the TV People showe...\n",
       "9      10     10  WHEN DID I meet my first Chinese?\\nJust like t..."
      ]
     },
     "execution_count": 123,
     "metadata": {},
     "output_type": "execute_result"
    }
   ],
   "source": [
    "chapters = pd.DataFrame({'number': ch_nos, 'title': ch_nos, 'text': ch_texts})\n",
    "chapters.head(10)"
   ]
  },
  {
   "cell_type": "code",
   "execution_count": 124,
   "metadata": {
    "ExecuteTime": {
     "end_time": "2020-06-01T21:38:23.067773Z",
     "start_time": "2020-06-01T21:38:23.021913Z"
    }
   },
   "outputs": [],
   "source": [
    "chapters['fstop_indices'] = chapters['text'].apply(lambda x: fs_indexer(x))"
   ]
  },
  {
   "cell_type": "code",
   "execution_count": 130,
   "metadata": {
    "ExecuteTime": {
     "end_time": "2020-06-01T21:42:12.964764Z",
     "start_time": "2020-06-01T21:42:12.802463Z"
    }
   },
   "outputs": [
    {
     "data": {
      "text/html": [
       "<div>\n",
       "<style scoped>\n",
       "    .dataframe tbody tr th:only-of-type {\n",
       "        vertical-align: middle;\n",
       "    }\n",
       "\n",
       "    .dataframe tbody tr th {\n",
       "        vertical-align: top;\n",
       "    }\n",
       "\n",
       "    .dataframe thead th {\n",
       "        text-align: right;\n",
       "    }\n",
       "</style>\n",
       "<table border=\"1\" class=\"dataframe\">\n",
       "  <thead>\n",
       "    <tr style=\"text-align: right;\">\n",
       "      <th></th>\n",
       "      <th>number</th>\n",
       "      <th>title</th>\n",
       "      <th>text</th>\n",
       "      <th>fstop_indices</th>\n",
       "      <th>split_indices</th>\n",
       "      <th>chunks</th>\n",
       "      <th>translator</th>\n",
       "      <th>book_title</th>\n",
       "    </tr>\n",
       "  </thead>\n",
       "  <tbody>\n",
       "    <tr>\n",
       "      <th>0</th>\n",
       "      <td>1</td>\n",
       "      <td>1</td>\n",
       "      <td>I’M IN THE kitchen cooking spaghetti when the ...</td>\n",
       "      <td>[57, 188, 221, 275, 309, 416, 571, 643, 717, 7...</td>\n",
       "      <td>[932, 1991, 2929, 3948, 4981, 5988, 6998, 7953...</td>\n",
       "      <td>[I’M IN THE kitchen cooking spaghetti when the...</td>\n",
       "      <td>Alfred Birnbaum</td>\n",
       "      <td>The Elephant Vanishes</td>\n",
       "    </tr>\n",
       "    <tr>\n",
       "      <th>1</th>\n",
       "      <td>2</td>\n",
       "      <td>2</td>\n",
       "      <td>I’M STILL NOT sure I made the right choice whe...</td>\n",
       "      <td>[86, 150, 228, 311, 326, 334, 426, 568, 632, 6...</td>\n",
       "      <td>[962, 1872, 2949, 3966, 4960, 5996, 6970, 7941...</td>\n",
       "      <td>[I’M STILL NOT sure I made the right choice wh...</td>\n",
       "      <td>Jay Rubin</td>\n",
       "      <td>The Elephant Vanishes</td>\n",
       "    </tr>\n",
       "    <tr>\n",
       "      <th>2</th>\n",
       "      <td>3</td>\n",
       "      <td>3</td>\n",
       "      <td>SAY HEY, HOW’S tricks?\\nThis morning, I paid a...</td>\n",
       "      <td>[84, 141, 180, 259, 306, 334, 354, 389, 431, 4...</td>\n",
       "      <td>[995, 1881, 2973, 3845, 4993, 5979, 6936, 7990...</td>\n",
       "      <td>[SAY HEY, HOW’S tricks?\\nThis morning, I paid ...</td>\n",
       "      <td>Alfred Birnbaum</td>\n",
       "      <td>The Elephant Vanishes</td>\n",
       "    </tr>\n",
       "    <tr>\n",
       "      <th>3</th>\n",
       "      <td>4</td>\n",
       "      <td>4</td>\n",
       "      <td>ONE BEAUTIFUL APRIL morning, on a narrow side ...</td>\n",
       "      <td>[132, 181, 215, 248, 308, 400, 477, 567, 766, ...</td>\n",
       "      <td>[932, 1944, 2993, 3893, 4937, 5947, 6878, 7849...</td>\n",
       "      <td>[ONE BEAUTIFUL APRIL morning, on a narrow side...</td>\n",
       "      <td>Jay Rubin</td>\n",
       "      <td>The Elephant Vanishes</td>\n",
       "    </tr>\n",
       "    <tr>\n",
       "      <th>4</th>\n",
       "      <td>5</td>\n",
       "      <td>5</td>\n",
       "      <td>1.\\nTHE FALL\\nOF THE\\nROMAN EMPIRE\\nI FIRST NO...</td>\n",
       "      <td>[1, 101, 156, 368, 473, 594, 689, 813, 890, 10...</td>\n",
       "      <td>[890, 1983, 2947, 3929, 4953, 5843, 6987, 7888...</td>\n",
       "      <td>[1.\\nTHE FALL\\nOF THE\\nROMAN EMPIRE\\nI FIRST N...</td>\n",
       "      <td>Alfred Birnbaum</td>\n",
       "      <td>The Elephant Vanishes</td>\n",
       "    </tr>\n",
       "  </tbody>\n",
       "</table>\n",
       "</div>"
      ],
      "text/plain": [
       "   number  title                                               text  \\\n",
       "0       1      1  I’M IN THE kitchen cooking spaghetti when the ...   \n",
       "1       2      2  I’M STILL NOT sure I made the right choice whe...   \n",
       "2       3      3  SAY HEY, HOW’S tricks?\\nThis morning, I paid a...   \n",
       "3       4      4  ONE BEAUTIFUL APRIL morning, on a narrow side ...   \n",
       "4       5      5  1.\\nTHE FALL\\nOF THE\\nROMAN EMPIRE\\nI FIRST NO...   \n",
       "\n",
       "                                       fstop_indices  \\\n",
       "0  [57, 188, 221, 275, 309, 416, 571, 643, 717, 7...   \n",
       "1  [86, 150, 228, 311, 326, 334, 426, 568, 632, 6...   \n",
       "2  [84, 141, 180, 259, 306, 334, 354, 389, 431, 4...   \n",
       "3  [132, 181, 215, 248, 308, 400, 477, 567, 766, ...   \n",
       "4  [1, 101, 156, 368, 473, 594, 689, 813, 890, 10...   \n",
       "\n",
       "                                       split_indices  \\\n",
       "0  [932, 1991, 2929, 3948, 4981, 5988, 6998, 7953...   \n",
       "1  [962, 1872, 2949, 3966, 4960, 5996, 6970, 7941...   \n",
       "2  [995, 1881, 2973, 3845, 4993, 5979, 6936, 7990...   \n",
       "3  [932, 1944, 2993, 3893, 4937, 5947, 6878, 7849...   \n",
       "4  [890, 1983, 2947, 3929, 4953, 5843, 6987, 7888...   \n",
       "\n",
       "                                              chunks        translator  \\\n",
       "0  [I’M IN THE kitchen cooking spaghetti when the...   Alfred Birnbaum   \n",
       "1  [I’M STILL NOT sure I made the right choice wh...         Jay Rubin   \n",
       "2  [SAY HEY, HOW’S tricks?\\nThis morning, I paid ...   Alfred Birnbaum   \n",
       "3  [ONE BEAUTIFUL APRIL morning, on a narrow side...         Jay Rubin   \n",
       "4  [1.\\nTHE FALL\\nOF THE\\nROMAN EMPIRE\\nI FIRST N...   Alfred Birnbaum   \n",
       "\n",
       "              book_title  \n",
       "0  The Elephant Vanishes  \n",
       "1  The Elephant Vanishes  \n",
       "2  The Elephant Vanishes  \n",
       "3  The Elephant Vanishes  \n",
       "4  The Elephant Vanishes  "
      ]
     },
     "execution_count": 130,
     "metadata": {},
     "output_type": "execute_result"
    }
   ],
   "source": [
    "chapters.dropna(inplace=True)\n",
    "chapters['split_indices'] = chapters['text'].apply(lambda x: split_indexer(x))\n",
    "chapters.dropna(inplace=True)\n",
    "chapters['chunks'] = chapters['text'].apply(lambda x: text_chunker(x))\n",
    "chapters['translator'] = trans_list\n",
    "chapters['book_title'] = 'The Elephant Vanishes'\n",
    "chapters.head()"
   ]
  },
  {
   "cell_type": "code",
   "execution_count": 128,
   "metadata": {
    "ExecuteTime": {
     "end_time": "2020-06-01T21:41:18.138177Z",
     "start_time": "2020-06-01T21:41:17.837176Z"
    }
   },
   "outputs": [
    {
     "data": {
      "image/png": "[encoded data removed]",
      "text/plain": [
       "<Figure size 432x288 with 1 Axes>"
      ]
     },
     "metadata": {
      "image/png": {
       "height": 256,
       "width": 386
      },
      "needs_background": "light"
     },
     "output_type": "display_data"
    }
   ],
   "source": [
    "lengths = []\n",
    "for chapter in chapters['chunks']:\n",
    "    for chunk in chapter:\n",
    "        lengths.append(len(chunk))\n",
    "plt.hist(lengths, bins=20);"
   ]
  },
  {
   "cell_type": "code",
   "execution_count": 131,
   "metadata": {
    "ExecuteTime": {
     "end_time": "2020-06-01T21:42:19.829645Z",
     "start_time": "2020-06-01T21:42:19.823497Z"
    }
   },
   "outputs": [
    {
     "data": {
      "text/plain": [
       "537"
      ]
     },
     "execution_count": 131,
     "metadata": {},
     "output_type": "execute_result"
    }
   ],
   "source": [
    "len(lengths)"
   ]
  },
  {
   "cell_type": "code",
   "execution_count": 132,
   "metadata": {
    "ExecuteTime": {
     "end_time": "2020-06-01T21:42:21.598616Z",
     "start_time": "2020-06-01T21:42:21.588635Z"
    }
   },
   "outputs": [],
   "source": [
    "out_path = '../../../../Documents/murakami/pkl2/'\n",
    "out_name = 'ev_birnbaum_rubin_v01'\n",
    "out_full_path = out_path + out_name + '.pkl'"
   ]
  },
  {
   "cell_type": "code",
   "execution_count": 133,
   "metadata": {
    "ExecuteTime": {
     "end_time": "2020-06-01T21:42:30.594967Z",
     "start_time": "2020-06-01T21:42:30.577889Z"
    }
   },
   "outputs": [],
   "source": [
    "# save pickle\n",
    "with open(out_full_path, 'wb') as fp:\n",
    "    pickle.dump(chapters, fp)\n",
    "\n",
    "\n",
    "# # read back pickle\n",
    "# with open (out_full_path, 'rb') as fp:\n",
    "#     read_ev = pickle.load(fp)"
   ]
  },
  {
   "cell_type": "code",
   "execution_count": 135,
   "metadata": {
    "ExecuteTime": {
     "end_time": "2020-06-01T21:42:56.931602Z",
     "start_time": "2020-06-01T21:42:56.928448Z"
    }
   },
   "outputs": [],
   "source": [
    "# read_ev"
   ]
  },
  {
   "cell_type": "code",
   "execution_count": null,
   "metadata": {},
   "outputs": [],
   "source": []
  }
 ],
 "metadata": {
  "kernelspec": {
   "display_name": "textacy",
   "language": "python",
   "name": "textacy"
  },
  "language_info": {
   "codemirror_mode": {
    "name": "ipython",
    "version": 3
   },
   "file_extension": ".py",
   "mimetype": "text/x-python",
   "name": "python",
   "nbconvert_exporter": "python",
   "pygments_lexer": "ipython3",
   "version": "3.8.2"
  }
 },
 "nbformat": 4,
 "nbformat_minor": 2
}
