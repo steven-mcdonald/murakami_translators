{
 "cells": [
  {
   "cell_type": "markdown",
   "metadata": {},
   "source": [
    "# Main Modelling KNN and Decision Tree - Gridsearch \n",
    "\n",
    "* read in dataframe pickle\n",
    "* final selected features based on initial analysis with logistic regression\n",
    "* run KNN and Decision Tree with initial analysis"
   ]
  },
  {
   "cell_type": "code",
   "execution_count": 1,
   "metadata": {
    "ExecuteTime": {
     "end_time": "2020-06-04T19:32:21.732454Z",
     "start_time": "2020-06-04T19:32:21.706617Z"
    }
   },
   "outputs": [
    {
     "name": "stderr",
     "output_type": "stream",
     "text": [
      "\n",
      "Bad key \"text.kerning_factor\" on line 4 in\n",
      "/Users/Steven/opt/anaconda3/envs/textacy/lib/python3.8/site-packages/matplotlib/mpl-data/stylelib/_classic_test_patch.mplstyle.\n",
      "You probably need to get an updated matplotlibrc file from\n",
      "https://github.com/matplotlib/matplotlib/blob/v3.1.3/matplotlibrc.template\n",
      "or from the matplotlib source distribution\n"
     ]
    }
   ],
   "source": [
    "import pandas as pd\n",
    "import numpy as np\n",
    "import matplotlib.pyplot as plt\n",
    "import seaborn as sns\n",
    "import textacy\n",
    "import re\n",
    "import pickle\n",
    "import os\n",
    "\n",
    "from collections import Counter\n",
    "\n",
    "from sklearn.model_selection import train_test_split, cross_val_score, GridSearchCV\n",
    "from sklearn.preprocessing import StandardScaler\n",
    "from sklearn.linear_model import LogisticRegression, LogisticRegressionCV\n",
    "from sklearn.metrics import confusion_matrix, classification_report, average_precision_score, roc_auc_score\n",
    "from sklearn.feature_extraction import DictVectorizer\n",
    "from sklearn.neighbors import KNeighborsClassifier\n",
    "from sklearn.tree import DecisionTreeClassifier\n",
    "\n",
    "from sklearn.preprocessing import label_binarize\n",
    "\n",
    "from vaderSentiment.vaderSentiment import SentimentIntensityAnalyzer\n",
    "\n",
    "# import class to run modelling steps\n",
    "from translator_modelling import Modelling\n",
    "\n",
    "plt.style.use('ggplot')\n",
    "\n",
    "%config InlineBackend.figure_format = 'retina'\n",
    "%matplotlib inline\n",
    "\n",
    "# extend limit of number of rows and columns to display in cell\n",
    "pd.options.display.max_rows = 100\n",
    "pd.options.display.max_columns = 100"
   ]
  },
  {
   "cell_type": "markdown",
   "metadata": {},
   "source": [
    "### Load the dataframe containing text chunks and related variables"
   ]
  },
  {
   "cell_type": "code",
   "execution_count": 2,
   "metadata": {
    "ExecuteTime": {
     "end_time": "2020-06-04T16:09:26.990331Z",
     "start_time": "2020-06-04T16:08:57.858592Z"
    }
   },
   "outputs": [],
   "source": [
    "in_full_path = '../../../../Documents/murakami/pkl3/df_all_v02.pkl'\n",
    "# read back pickle\n",
    "with open (in_full_path, 'rb') as fp:\n",
    "    df = pickle.load(fp)"
   ]
  },
  {
   "cell_type": "markdown",
   "metadata": {},
   "source": [
    "### Check the dataframe is as expected"
   ]
  },
  {
   "cell_type": "code",
   "execution_count": 3,
   "metadata": {
    "ExecuteTime": {
     "end_time": "2020-06-03T10:55:04.273762Z",
     "start_time": "2020-06-03T10:55:04.172338Z"
    }
   },
   "outputs": [
    {
     "data": {
      "text/html": [
       "<div>\n",
       "<style scoped>\n",
       "    .dataframe tbody tr th:only-of-type {\n",
       "        vertical-align: middle;\n",
       "    }\n",
       "\n",
       "    .dataframe tbody tr th {\n",
       "        vertical-align: top;\n",
       "    }\n",
       "\n",
       "    .dataframe thead th {\n",
       "        text-align: right;\n",
       "    }\n",
       "</style>\n",
       "<table border=\"1\" class=\"dataframe\">\n",
       "  <thead>\n",
       "    <tr style=\"text-align: right;\">\n",
       "      <th></th>\n",
       "      <th>book_chunk_no</th>\n",
       "      <th>number</th>\n",
       "      <th>title</th>\n",
       "      <th>text</th>\n",
       "      <th>fstop_indices</th>\n",
       "      <th>split_indices</th>\n",
       "      <th>chunks</th>\n",
       "      <th>translator</th>\n",
       "      <th>book_title</th>\n",
       "      <th>parsed</th>\n",
       "      <th>n_sents</th>\n",
       "      <th>n_words</th>\n",
       "      <th>n_chars</th>\n",
       "      <th>n_syllables</th>\n",
       "      <th>n_unique_words</th>\n",
       "      <th>n_long_words</th>\n",
       "      <th>n_monosyllable_words</th>\n",
       "      <th>n_polysyllable_words</th>\n",
       "      <th>trans_code</th>\n",
       "      <th>chunk_length</th>\n",
       "      <th>n_sents_norm</th>\n",
       "      <th>n_words_norm</th>\n",
       "      <th>n_chars_norm</th>\n",
       "      <th>n_syllables_norm</th>\n",
       "      <th>n_unique_words_norm</th>\n",
       "      <th>n_long_words_norm</th>\n",
       "      <th>n_monosyllable_words_norm</th>\n",
       "      <th>n_polysyllable_words_norm</th>\n",
       "      <th>vader_compound</th>\n",
       "      <th>vader_neg</th>\n",
       "      <th>vader_neu</th>\n",
       "      <th>vader_pos</th>\n",
       "      <th>pron_count</th>\n",
       "      <th>verb_count</th>\n",
       "      <th>det_count</th>\n",
       "      <th>adj_count</th>\n",
       "      <th>num_count</th>\n",
       "      <th>punct_count</th>\n",
       "      <th>noun_count</th>\n",
       "      <th>adp_count</th>\n",
       "      <th>cconj_count</th>\n",
       "      <th>sconj_count</th>\n",
       "      <th>adv_count</th>\n",
       "      <th>aux_count</th>\n",
       "      <th>part_count</th>\n",
       "      <th>propn_count</th>\n",
       "      <th>space_count</th>\n",
       "      <th>intj_count</th>\n",
       "      <th>sym_count</th>\n",
       "      <th>x_count</th>\n",
       "      <th>...</th>\n",
       "      <th>then_adv</th>\n",
       "      <th>more_adv</th>\n",
       "      <th>even_adv</th>\n",
       "      <th>why_adv</th>\n",
       "      <th>maybe_adv</th>\n",
       "      <th>again_adv</th>\n",
       "      <th>now_adv</th>\n",
       "      <th>just_adv</th>\n",
       "      <th>how_adv</th>\n",
       "      <th>where_adv</th>\n",
       "      <th>very_adv</th>\n",
       "      <th>only_adv</th>\n",
       "      <th>there_adv</th>\n",
       "      <th>still_adv</th>\n",
       "      <th>so_adv</th>\n",
       "      <th>too_adv</th>\n",
       "      <th>when_adv</th>\n",
       "      <th>all_adv</th>\n",
       "      <th>here_adv</th>\n",
       "      <th>never_adv</th>\n",
       "      <th>as_adv</th>\n",
       "      <th>new_adj</th>\n",
       "      <th>other_adj</th>\n",
       "      <th>more_adj</th>\n",
       "      <th>small_adj</th>\n",
       "      <th>deep_adj</th>\n",
       "      <th>whole_adj</th>\n",
       "      <th>first_adj</th>\n",
       "      <th>bad_adj</th>\n",
       "      <th>little_adj</th>\n",
       "      <th>next_adj</th>\n",
       "      <th>much_adj</th>\n",
       "      <th>own_adj</th>\n",
       "      <th>hard_adj</th>\n",
       "      <th>last_adj</th>\n",
       "      <th>only_adj</th>\n",
       "      <th>big_adj</th>\n",
       "      <th>right_adj</th>\n",
       "      <th>long_adj</th>\n",
       "      <th>old_adj</th>\n",
       "      <th>strange_adj</th>\n",
       "      <th>same_adj</th>\n",
       "      <th>young_adj</th>\n",
       "      <th>sure_adj</th>\n",
       "      <th>able_adj</th>\n",
       "      <th>real_adj</th>\n",
       "      <th>different_adj</th>\n",
       "      <th>good_adj</th>\n",
       "      <th>few_adj</th>\n",
       "      <th>vlong_words_count</th>\n",
       "    </tr>\n",
       "  </thead>\n",
       "  <tbody>\n",
       "    <tr>\n",
       "      <th>0</th>\n",
       "      <td>0</td>\n",
       "      <td>1</td>\n",
       "      <td>Wednesday Afternoon Picnic</td>\n",
       "      <td>IT WAS A  short one-paragraph item in the morn...</td>\n",
       "      <td>[57, 97, 115, 196, 318, 385, 420, 445, 504, 65...</td>\n",
       "      <td>[967, 1924, 2998, 3982, 4935, 5975, 6995, 7961...</td>\n",
       "      <td>IT WAS A short one-paragraph item in the morni...</td>\n",
       "      <td>Alfred Birnbaum</td>\n",
       "      <td>A Wild Sheep Chase</td>\n",
       "      <td>(IT, WAS, A, short, one, -, paragraph, item, i...</td>\n",
       "      <td>15</td>\n",
       "      <td>174</td>\n",
       "      <td>742</td>\n",
       "      <td>240</td>\n",
       "      <td>116</td>\n",
       "      <td>33</td>\n",
       "      <td>128</td>\n",
       "      <td>17</td>\n",
       "      <td>0</td>\n",
       "      <td>944</td>\n",
       "      <td>15.889831</td>\n",
       "      <td>184.322034</td>\n",
       "      <td>786.016949</td>\n",
       "      <td>254.237288</td>\n",
       "      <td>122.881356</td>\n",
       "      <td>34.957627</td>\n",
       "      <td>135.59322</td>\n",
       "      <td>18.008475</td>\n",
       "      <td>-0.4798</td>\n",
       "      <td>0.075</td>\n",
       "      <td>0.862</td>\n",
       "      <td>0.064</td>\n",
       "      <td>18.0</td>\n",
       "      <td>20.0</td>\n",
       "      <td>31.0</td>\n",
       "      <td>9.0</td>\n",
       "      <td>2.0</td>\n",
       "      <td>33.0</td>\n",
       "      <td>51.0</td>\n",
       "      <td>19.0</td>\n",
       "      <td>6.0</td>\n",
       "      <td>3.0</td>\n",
       "      <td>5.0</td>\n",
       "      <td>5.0</td>\n",
       "      <td>3.0</td>\n",
       "      <td>2.0</td>\n",
       "      <td>0.0</td>\n",
       "      <td>0.0</td>\n",
       "      <td>0.0</td>\n",
       "      <td>0.0</td>\n",
       "      <td>...</td>\n",
       "      <td>0</td>\n",
       "      <td>0</td>\n",
       "      <td>1</td>\n",
       "      <td>0</td>\n",
       "      <td>0</td>\n",
       "      <td>0</td>\n",
       "      <td>0</td>\n",
       "      <td>0</td>\n",
       "      <td>0</td>\n",
       "      <td>1</td>\n",
       "      <td>0</td>\n",
       "      <td>0</td>\n",
       "      <td>0</td>\n",
       "      <td>0</td>\n",
       "      <td>0</td>\n",
       "      <td>0</td>\n",
       "      <td>0</td>\n",
       "      <td>0</td>\n",
       "      <td>0</td>\n",
       "      <td>0</td>\n",
       "      <td>0</td>\n",
       "      <td>0</td>\n",
       "      <td>0</td>\n",
       "      <td>0</td>\n",
       "      <td>0</td>\n",
       "      <td>0</td>\n",
       "      <td>1</td>\n",
       "      <td>0</td>\n",
       "      <td>0</td>\n",
       "      <td>0</td>\n",
       "      <td>0</td>\n",
       "      <td>0</td>\n",
       "      <td>0</td>\n",
       "      <td>0</td>\n",
       "      <td>0</td>\n",
       "      <td>0</td>\n",
       "      <td>0</td>\n",
       "      <td>0</td>\n",
       "      <td>0</td>\n",
       "      <td>1</td>\n",
       "      <td>0</td>\n",
       "      <td>0</td>\n",
       "      <td>0</td>\n",
       "      <td>0</td>\n",
       "      <td>0</td>\n",
       "      <td>0</td>\n",
       "      <td>0</td>\n",
       "      <td>0</td>\n",
       "      <td>0</td>\n",
       "      <td>0</td>\n",
       "    </tr>\n",
       "  </tbody>\n",
       "</table>\n",
       "<p>1 rows × 142 columns</p>\n",
       "</div>"
      ],
      "text/plain": [
       "   book_chunk_no number                       title  \\\n",
       "0              0      1  Wednesday Afternoon Picnic   \n",
       "\n",
       "                                                text  \\\n",
       "0  IT WAS A  short one-paragraph item in the morn...   \n",
       "\n",
       "                                       fstop_indices  \\\n",
       "0  [57, 97, 115, 196, 318, 385, 420, 445, 504, 65...   \n",
       "\n",
       "                                       split_indices  \\\n",
       "0  [967, 1924, 2998, 3982, 4935, 5975, 6995, 7961...   \n",
       "\n",
       "                                              chunks       translator  \\\n",
       "0  IT WAS A short one-paragraph item in the morni...  Alfred Birnbaum   \n",
       "\n",
       "           book_title                                             parsed  \\\n",
       "0  A Wild Sheep Chase  (IT, WAS, A, short, one, -, paragraph, item, i...   \n",
       "\n",
       "   n_sents  n_words  n_chars  n_syllables  n_unique_words  n_long_words  \\\n",
       "0       15      174      742          240             116            33   \n",
       "\n",
       "   n_monosyllable_words  n_polysyllable_words  trans_code  chunk_length  \\\n",
       "0                   128                    17           0           944   \n",
       "\n",
       "   n_sents_norm  n_words_norm  n_chars_norm  n_syllables_norm  \\\n",
       "0     15.889831    184.322034    786.016949        254.237288   \n",
       "\n",
       "   n_unique_words_norm  n_long_words_norm  n_monosyllable_words_norm  \\\n",
       "0           122.881356          34.957627                  135.59322   \n",
       "\n",
       "   n_polysyllable_words_norm  vader_compound  vader_neg  vader_neu  vader_pos  \\\n",
       "0                  18.008475         -0.4798      0.075      0.862      0.064   \n",
       "\n",
       "   pron_count  verb_count  det_count  adj_count  num_count  punct_count  \\\n",
       "0        18.0        20.0       31.0        9.0        2.0         33.0   \n",
       "\n",
       "   noun_count  adp_count  cconj_count  sconj_count  adv_count  aux_count  \\\n",
       "0        51.0       19.0          6.0          3.0        5.0        5.0   \n",
       "\n",
       "   part_count  propn_count  space_count  intj_count  sym_count  x_count  ...  \\\n",
       "0         3.0          2.0          0.0         0.0        0.0      0.0  ...   \n",
       "\n",
       "   then_adv  more_adv  even_adv  why_adv  maybe_adv  again_adv  now_adv  \\\n",
       "0         0         0         1        0          0          0        0   \n",
       "\n",
       "   just_adv  how_adv  where_adv  very_adv  only_adv  there_adv  still_adv  \\\n",
       "0         0        0          1         0         0          0          0   \n",
       "\n",
       "   so_adv  too_adv  when_adv  all_adv  here_adv  never_adv  as_adv  new_adj  \\\n",
       "0       0        0         0        0         0          0       0        0   \n",
       "\n",
       "   other_adj  more_adj  small_adj  deep_adj  whole_adj  first_adj  bad_adj  \\\n",
       "0          0         0          0         0          1          0        0   \n",
       "\n",
       "   little_adj  next_adj  much_adj  own_adj  hard_adj  last_adj only_adj  \\\n",
       "0           0         0         0        0         0         0        0   \n",
       "\n",
       "  big_adj right_adj long_adj  old_adj  strange_adj  same_adj  young_adj  \\\n",
       "0       0         0        0        1            0         0          0   \n",
       "\n",
       "   sure_adj  able_adj  real_adj  different_adj  good_adj  few_adj  \\\n",
       "0         0         0         0              0         0        0   \n",
       "\n",
       "   vlong_words_count  \n",
       "0                  0  \n",
       "\n",
       "[1 rows x 142 columns]"
      ]
     },
     "execution_count": 3,
     "metadata": {},
     "output_type": "execute_result"
    }
   ],
   "source": [
    "df.head(1)"
   ]
  },
  {
   "cell_type": "code",
   "execution_count": 4,
   "metadata": {
    "ExecuteTime": {
     "end_time": "2020-06-03T10:55:04.295441Z",
     "start_time": "2020-06-03T10:55:04.277998Z"
    }
   },
   "outputs": [
    {
     "data": {
      "text/plain": [
       "(5212, 142)"
      ]
     },
     "execution_count": 4,
     "metadata": {},
     "output_type": "execute_result"
    }
   ],
   "source": [
    "df.shape"
   ]
  },
  {
   "cell_type": "markdown",
   "metadata": {},
   "source": [
    "### Check the baseline accuracy"
   ]
  },
  {
   "cell_type": "code",
   "execution_count": 5,
   "metadata": {
    "ExecuteTime": {
     "end_time": "2020-06-03T10:55:04.323475Z",
     "start_time": "2020-06-03T10:55:04.300689Z"
    }
   },
   "outputs": [
    {
     "data": {
      "text/plain": [
       "0.39927091327705294"
      ]
     },
     "execution_count": 5,
     "metadata": {},
     "output_type": "execute_result"
    }
   ],
   "source": [
    "baseline_acc = df['trans_code'].value_counts(normalize=True).max()\n",
    "baseline_acc"
   ]
  },
  {
   "cell_type": "markdown",
   "metadata": {},
   "source": [
    "## KNN classification with cross validation"
   ]
  },
  {
   "cell_type": "code",
   "execution_count": 6,
   "metadata": {
    "ExecuteTime": {
     "end_time": "2020-06-04T16:19:31.118228Z",
     "start_time": "2020-06-04T16:15:25.437262Z"
    }
   },
   "outputs": [
    {
     "name": "stdout",
     "output_type": "stream",
     "text": [
      "Fitting 5 folds for each of 28 candidates, totalling 140 fits\n"
     ]
    },
    {
     "name": "stderr",
     "output_type": "stream",
     "text": [
      "[Parallel(n_jobs=2)]: Using backend LokyBackend with 2 concurrent workers.\n",
      "[Parallel(n_jobs=2)]: Done  46 tasks      | elapsed:   58.8s\n",
      "[Parallel(n_jobs=2)]: Done 140 out of 140 | elapsed:  2.8min finished\n"
     ]
    },
    {
     "name": "stdout",
     "output_type": "stream",
     "text": [
      "Best Parameters:\n",
      "{'metric': 'manhattan', 'n_neighbors': 50, 'weights': 'distance'}\n",
      "Best estimator mean cross validated training score:\n",
      "0.5646428355514869\n",
      "Best estimator score on the full training set:\n",
      "1.0\n",
      "Best estimator score on the test set:\n",
      "0.5906040268456376\n",
      "ROC-AUC score on the test set:\n",
      "Class 0: 0.78\n",
      "Class 1: 0.81\n",
      "Class 2: 0.83\n"
     ]
    }
   ],
   "source": [
    "# prepare modelling\n",
    "model = KNeighborsClassifier()\n",
    "knn = Modelling(df, model)\n",
    "\n",
    "# select feature groups for modelling\n",
    "predictor_cols = knn.feature_select(basic_counts=True, vader=False, pos_counts=True, \n",
    "                   words=True, adv=True, adj=True)\n",
    "\n",
    "# drop some individual features eg. those potentially related to page formatting\n",
    "cols_to_drop = ['num_count_norm', 'punct_count_norm','space_count_norm', 'sym_count_norm', 'x_count_norm']\n",
    "predictor_cols = knn.drop_features(predictor_cols, cols_to_drop)\n",
    "\n",
    "# prep data i.e. set X and y, train/test split, normalise predictor variables\n",
    "X_train, X_test, y_train, y_test, idx_train, idx_test = knn.modelling_prep(predictor_cols, 'trans_code')\n",
    "\n",
    "# gridsearch model parameters, score fitted model\n",
    "params = {\n",
    "            'n_neighbors': [5, 9, 15, 25, 40, 50, 60],\n",
    "            'weights': ['uniform', 'distance'],\n",
    "            'metric': ['euclidean', 'manhattan']}\n",
    "\n",
    "# lreg_gs_01 = lr.gridsearch(model, params, X_train, y_train)\n",
    "knn.gridsearch(params, X_train, y_train)\n",
    "\n",
    "# score the fitted model\n",
    "knn_gs_01_results = knn.gridsearch_score(X_train, y_train, X_test, y_test)\n",
    "\n",
    "# save fitted model\n",
    "out_path = '../../../../Documents/murakami/pkl_models/'\n",
    "out_name = 'knn_gs_01'\n",
    "out_full_path = out_path + out_name + '.pkl'\n",
    "knn.save_model(out_full_path)"
   ]
  },
  {
   "cell_type": "markdown",
   "metadata": {},
   "source": [
    "#### KNN does not do as well as logistic regression for the moment\n",
    "* best parameters have k=50, later we could perhaps try to test more around this value to see if a slight improvement is possible"
   ]
  },
  {
   "cell_type": "markdown",
   "metadata": {},
   "source": [
    "## Confusion Matrix"
   ]
  },
  {
   "cell_type": "code",
   "execution_count": 7,
   "metadata": {
    "ExecuteTime": {
     "end_time": "2020-06-03T10:55:54.864934Z",
     "start_time": "2020-06-03T10:55:54.842205Z"
    }
   },
   "outputs": [
    {
     "name": "stdout",
     "output_type": "stream",
     "text": [
      "                 predicted birnbaum  predicted rubin  predicted gabriel\n",
      "actual birnbaum                 210              121                 14\n",
      "actual rubin                     74              334                  8\n",
      "actual gabriel                   94              116                 72\n"
     ]
    }
   ],
   "source": [
    "print(pd.DataFrame(knn_gs_01_results['conmat'], index=['actual birnbaum', 'actual rubin', 'actual gabriel'],\n",
    "                             columns=['predicted birnbaum', 'predicted rubin', 'predicted gabriel']))"
   ]
  },
  {
   "cell_type": "markdown",
   "metadata": {},
   "source": [
    "## Classification Report"
   ]
  },
  {
   "cell_type": "code",
   "execution_count": 9,
   "metadata": {
    "ExecuteTime": {
     "end_time": "2020-06-03T10:55:55.650313Z",
     "start_time": "2020-06-03T10:55:54.873744Z"
    }
   },
   "outputs": [
    {
     "name": "stdout",
     "output_type": "stream",
     "text": [
      "              precision    recall  f1-score   support\n",
      "\n",
      "           0       0.56      0.61      0.58       345\n",
      "           1       0.58      0.80      0.68       416\n",
      "           2       0.77      0.26      0.38       282\n",
      "\n",
      "    accuracy                           0.59      1043\n",
      "   macro avg       0.64      0.56      0.55      1043\n",
      "weighted avg       0.62      0.59      0.57      1043\n",
      "\n"
     ]
    }
   ],
   "source": [
    "predictions = knn.model_gs.predict(X_test)\n",
    "print(classification_report(y_test, predictions))"
   ]
  },
  {
   "cell_type": "markdown",
   "metadata": {},
   "source": [
    "As KNN is a non-parametric model we don't have any feature importance to analysis and draw understanding from. This is a drawback for this particular project where we are interested in undertstanding what differentiates the translators"
   ]
  },
  {
   "cell_type": "markdown",
   "metadata": {},
   "source": [
    "## Decision Tree classification with cross validation"
   ]
  },
  {
   "cell_type": "code",
   "execution_count": 10,
   "metadata": {
    "ExecuteTime": {
     "end_time": "2020-06-04T19:24:52.260174Z",
     "start_time": "2020-06-04T19:10:49.542771Z"
    }
   },
   "outputs": [
    {
     "name": "stdout",
     "output_type": "stream",
     "text": [
      "Fitting 5 folds for each of 6600 candidates, totalling 33000 fits\n"
     ]
    },
    {
     "name": "stderr",
     "output_type": "stream",
     "text": [
      "[Parallel(n_jobs=2)]: Using backend LokyBackend with 2 concurrent workers.\n",
      "[Parallel(n_jobs=2)]: Done 270 tasks      | elapsed:    5.1s\n",
      "[Parallel(n_jobs=2)]: Done 2670 tasks      | elapsed:   32.5s\n",
      "[Parallel(n_jobs=2)]: Done 6670 tasks      | elapsed:  1.5min\n",
      "[Parallel(n_jobs=2)]: Done 11726 tasks      | elapsed:  2.5min\n",
      "[Parallel(n_jobs=2)]: Done 17410 tasks      | elapsed:  3.7min\n",
      "[Parallel(n_jobs=2)]: Done 26046 tasks      | elapsed:  5.4min\n",
      "[Parallel(n_jobs=2)]: Done 33000 out of 33000 | elapsed:  6.9min finished\n"
     ]
    },
    {
     "name": "stdout",
     "output_type": "stream",
     "text": [
      "Best Parameters:\n",
      "{'ccp_alpha': 0.001, 'criterion': 'gini', 'max_depth': 6, 'max_features': None, 'min_samples_split': 50}\n",
      "Best estimator mean cross validated training score:\n",
      "0.5389776054306614\n",
      "Best estimator score on the full training set:\n",
      "0.592468217798033\n",
      "Best estimator score on the test set:\n",
      "0.5148609779482263\n",
      "ROC-AUC score on the test set:\n",
      "Class 0: 0.66\n",
      "Class 1: 0.73\n",
      "Class 2: 0.75\n"
     ]
    }
   ],
   "source": [
    "# prepare modelling\n",
    "model = DecisionTreeClassifier()\n",
    "dtr = Modelling(df, model)\n",
    "\n",
    "# select feature groups for modelling\n",
    "predictor_cols = dtr.feature_select(basic_counts=True, vader=False, pos_counts=True, \n",
    "                   words=True, adv=True, adj=True)\n",
    "\n",
    "# drop some individual features eg. those potentially related to page formatting\n",
    "cols_to_drop = ['num_count_norm', 'punct_count_norm','space_count_norm', 'sym_count_norm', 'x_count_norm']\n",
    "predictor_cols = dtr.drop_features(predictor_cols, cols_to_drop)\n",
    "\n",
    "# prep data i.e. set X and y, train/test split, normalise predictor variables\n",
    "X_train, X_test, y_train, y_test, idx_train, idx_test = dtr.modelling_prep(predictor_cols, 'trans_code')\n",
    "\n",
    "# gridsearch model parameters, score fitted model\n",
    "params = {\n",
    "    'max_depth': list(range(1, 15))+[None],\n",
    "    'max_features': [None, 1, 3, 5, 7],\n",
    "    'min_samples_split': [2, 3, 4, 5, 10, 15, 20, 25, 30, 40, 50],\n",
    "    'ccp_alpha': [0, 0.001, 0.005, 0.01],\n",
    "    'criterion': ['gini', 'entropy']\n",
    "}\n",
    "\n",
    "# lreg_gs_01 = lr.gridsearch(model, params, X_train, y_train)\n",
    "dtr.gridsearch(params, X_train, y_train)\n",
    "\n",
    "# score the fitted model\n",
    "dt_gs_01_results = dtr.gridsearch_score(X_train, y_train, X_test, y_test)\n",
    "\n",
    "# save fitted model\n",
    "out_path = '../../../../Documents/murakami/pkl_models/'\n",
    "out_name = 'dt_gs_01'\n",
    "out_full_path = out_path + out_name + '.pkl'\n",
    "dtr.save_model(out_full_path)"
   ]
  },
  {
   "cell_type": "markdown",
   "metadata": {},
   "source": [
    "#### Looking at the Cross Validation mean score, Decision Tree does not do as well as logistic regression or KNN for the moment"
   ]
  },
  {
   "cell_type": "markdown",
   "metadata": {},
   "source": [
    "### Confusion Matrix"
   ]
  },
  {
   "cell_type": "code",
   "execution_count": 11,
   "metadata": {
    "ExecuteTime": {
     "end_time": "2020-06-04T19:29:23.408021Z",
     "start_time": "2020-06-04T19:29:23.394670Z"
    }
   },
   "outputs": [
    {
     "name": "stdout",
     "output_type": "stream",
     "text": [
      "                 predicted birnbaum  predicted rubin  predicted gabriel\n",
      "actual birnbaum                 176              116                 53\n",
      "actual rubin                    108              260                 48\n",
      "actual gabriel                   99               82                101\n"
     ]
    }
   ],
   "source": [
    "print(pd.DataFrame(dt_gs_01_results['conmat'], index=['actual birnbaum', 'actual rubin', 'actual gabriel'],\n",
    "                             columns=['predicted birnbaum', 'predicted rubin', 'predicted gabriel']))"
   ]
  },
  {
   "cell_type": "markdown",
   "metadata": {},
   "source": [
    "### Classification Report"
   ]
  },
  {
   "cell_type": "code",
   "execution_count": 13,
   "metadata": {
    "ExecuteTime": {
     "end_time": "2020-06-04T19:30:06.144334Z",
     "start_time": "2020-06-04T19:30:06.140795Z"
    }
   },
   "outputs": [
    {
     "name": "stdout",
     "output_type": "stream",
     "text": [
      "              precision    recall  f1-score   support\n",
      "\n",
      "           0       0.46      0.51      0.48       345\n",
      "           1       0.57      0.62      0.59       416\n",
      "           2       0.50      0.36      0.42       282\n",
      "\n",
      "    accuracy                           0.51      1043\n",
      "   macro avg       0.51      0.50      0.50      1043\n",
      "weighted avg       0.51      0.51      0.51      1043\n",
      "\n"
     ]
    }
   ],
   "source": [
    "predictions = dtr.model_gs.predict(X_test)\n",
    "print(classification_report(y_test, predictions))"
   ]
  },
  {
   "cell_type": "markdown",
   "metadata": {},
   "source": [
    "### Feature importances\n",
    "\n",
    "Decision trees can give us feature importances. The higher the number the more important the predictor was for deciding splits at nodes.\n",
    "Technically, \"the importance of a feature is computed as the (normalized) total reduction of the\n",
    "criterion brought by that feature.\" \n",
    "\n",
    "That means a feature is more important \n",
    "\n",
    "- if it is used in many different nodes, \n",
    "- if the difference in the measures of Gini or entropy are before and after the split is high\n",
    "\n",
    "Feature importances are normalized in the sense of summing up to one."
   ]
  },
  {
   "cell_type": "code",
   "execution_count": 14,
   "metadata": {
    "ExecuteTime": {
     "end_time": "2020-06-04T19:31:35.281634Z",
     "start_time": "2020-06-04T19:31:35.271613Z"
    }
   },
   "outputs": [],
   "source": [
    "# feature importances\n",
    "feature_importances = dtr.model_gs.best_estimator_.feature_importances_\n",
    "df_feat_imp = pd.DataFrame(list(zip(X_test.columns, dtr.model_gs.best_estimator_.feature_importances_)), \n",
    "             columns=['Feature', 'Importance']\n",
    "            ).sort_values(by='Importance', ascending=False)"
   ]
  },
  {
   "cell_type": "code",
   "execution_count": 17,
   "metadata": {
    "ExecuteTime": {
     "end_time": "2020-06-04T19:32:26.728040Z",
     "start_time": "2020-06-04T19:32:26.334569Z"
    }
   },
   "outputs": [
    {
     "data": {
      "image/png": "[encoded data removed]",
      "text/plain": [
       "<Figure size 432x432 with 1 Axes>"
      ]
     },
     "metadata": {
      "image/png": {
       "height": 357,
       "width": 484
      },
      "needs_background": "light"
     },
     "output_type": "display_data"
    }
   ],
   "source": [
    "df_feat_imp.set_index('Feature')['Importance'].sort_values(ascending=True).tail(10) \\\n",
    "                .plot(kind='barh', figsize=(6,6))\n",
    "plt.show()"
   ]
  },
  {
   "cell_type": "markdown",
   "metadata": {},
   "source": [
    "'had' and 'he' as most important features raises questions - more related to the tense and point of view (first person, third person etc.?). This is investigated in a later notebook"
   ]
  }
 ],
 "metadata": {
  "kernelspec": {
   "display_name": "textacy",
   "language": "python",
   "name": "textacy"
  },
  "language_info": {
   "codemirror_mode": {
    "name": "ipython",
    "version": 3
   },
   "file_extension": ".py",
   "mimetype": "text/x-python",
   "name": "python",
   "nbconvert_exporter": "python",
   "pygments_lexer": "ipython3",
   "version": "3.8.3"
  }
 },
 "nbformat": 4,
 "nbformat_minor": 2
}
