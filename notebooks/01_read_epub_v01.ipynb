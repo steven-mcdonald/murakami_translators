{
 "cells": [
  {
   "cell_type": "markdown",
   "metadata": {},
   "source": [
    "### Read epub format book to text ###\n",
    "* load each book and then save as pickle"
   ]
  },
  {
   "cell_type": "code",
   "execution_count": 1,
   "metadata": {
    "ExecuteTime": {
     "end_time": "2020-05-25T14:20:07.595529Z",
     "start_time": "2020-05-25T14:20:07.287654Z"
    }
   },
   "outputs": [],
   "source": [
    "import ebooklib\n",
    "from ebooklib import epub\n",
    "from bs4 import BeautifulSoup\n",
    "import pickle"
   ]
  },
  {
   "cell_type": "code",
   "execution_count": 2,
   "metadata": {
    "ExecuteTime": {
     "end_time": "2020-05-25T14:20:08.382280Z",
     "start_time": "2020-05-25T14:20:08.375267Z"
    }
   },
   "outputs": [],
   "source": [
    "blacklist = ['[document]','noscript','header','html','meta','head','input','script']\n",
    "# there may be more elements you don't want, such as \"style\", etc."
   ]
  },
  {
   "cell_type": "code",
   "execution_count": 3,
   "metadata": {
    "ExecuteTime": {
     "end_time": "2020-05-25T14:20:09.189528Z",
     "start_time": "2020-05-25T14:20:09.183152Z"
    }
   },
   "outputs": [],
   "source": [
    "def epub2thtml(epub_path):\n",
    "    book = epub.read_epub(epub_path)\n",
    "    chapters = []\n",
    "    for item in book.get_items():\n",
    "        if item.get_type() == ebooklib.ITEM_DOCUMENT:\n",
    "            chapters.append(item.get_content())\n",
    "    return chapters"
   ]
  },
  {
   "cell_type": "code",
   "execution_count": 4,
   "metadata": {
    "ExecuteTime": {
     "end_time": "2020-05-25T14:20:10.361284Z",
     "start_time": "2020-05-25T14:20:10.354662Z"
    }
   },
   "outputs": [],
   "source": [
    "def chap2text(chap):\n",
    "    output = ''\n",
    "    soup = BeautifulSoup(chap, 'html.parser')\n",
    "    text = soup.find_all(text=True)\n",
    "    for t in text:\n",
    "        if t.parent.name not in blacklist:\n",
    "            output += '{} '.format(t)\n",
    "    return output"
   ]
  },
  {
   "cell_type": "code",
   "execution_count": 5,
   "metadata": {
    "ExecuteTime": {
     "end_time": "2020-05-25T14:20:11.029747Z",
     "start_time": "2020-05-25T14:20:11.023366Z"
    }
   },
   "outputs": [],
   "source": [
    "def thtml2ttext(thtml):\n",
    "    Output = []\n",
    "    for html in thtml:\n",
    "        text =  chap2text(html)\n",
    "        Output.append(text)\n",
    "    return Output"
   ]
  },
  {
   "cell_type": "code",
   "execution_count": 6,
   "metadata": {
    "ExecuteTime": {
     "end_time": "2020-05-25T14:20:11.682259Z",
     "start_time": "2020-05-25T14:20:11.675325Z"
    }
   },
   "outputs": [],
   "source": [
    "def epub2text(epub_path):\n",
    "    chapters = epub2thtml(epub_path)\n",
    "    ttext = thtml2ttext(chapters)\n",
    "    return ttext"
   ]
  },
  {
   "cell_type": "code",
   "execution_count": 7,
   "metadata": {
    "ExecuteTime": {
     "end_time": "2020-05-25T14:20:12.533620Z",
     "start_time": "2020-05-25T14:20:12.527321Z"
    }
   },
   "outputs": [],
   "source": [
    "book_list = ['HarukiMurakami_DanceDanceDance',\n",
    "             'HarukiMurakami_AWildSheepChase',\n",
    "             'HarukiMurakami_KafkaOnTheShore',\n",
    "             'HarukiMurakami_ColorlessTsukuruTazaki',\n",
    "             'HarukiMurakami_NorwegianWood',\n",
    "             'HarukiMurakami_TheWindUpBirdChronicle',]"
   ]
  },
  {
   "cell_type": "code",
   "execution_count": 9,
   "metadata": {
    "ExecuteTime": {
     "end_time": "2020-05-25T14:25:05.494990Z",
     "start_time": "2020-05-25T14:25:00.342116Z"
    }
   },
   "outputs": [],
   "source": [
    "epub_path = '../../../../Documents/murakami/ebooks/epub/'\n",
    "out_path = '../../../../Documents/murakami/pkl_raw_books/'\n",
    "for book in book_list:\n",
    "    epub_full_path = epub_path + book + '.epub'\n",
    "    out_full_path = out_path + book + '.pkl'\n",
    "    output=epub2text(epub_full_path)\n",
    "    with open(out_full_path, 'wb') as fp:\n",
    "        pickle.dump(output, fp)"
   ]
  }
 ],
 "metadata": {
  "kernelspec": {
   "display_name": "Python 3",
   "language": "python",
   "name": "python3"
  },
  "language_info": {
   "codemirror_mode": {
    "name": "ipython",
    "version": 3
   },
   "file_extension": ".py",
   "mimetype": "text/x-python",
   "name": "python",
   "nbconvert_exporter": "python",
   "pygments_lexer": "ipython3",
   "version": "3.7.4"
  }
 },
 "nbformat": 4,
 "nbformat_minor": 2
}
