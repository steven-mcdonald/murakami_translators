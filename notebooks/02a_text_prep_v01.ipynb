{
 "cells": [
  {
   "cell_type": "markdown",
   "metadata": {},
   "source": [
    "WSC - initial data prep\n",
    "* read in pickle\n",
    "* split into chapters\n",
    "* run several functions to chunk the text\n",
    "* all in dataframes this time compared to lists in tex_prep_v02"
   ]
  },
  {
   "cell_type": "code",
   "execution_count": 1,
   "metadata": {
    "ExecuteTime": {
     "end_time": "2020-05-31T09:29:22.467522Z",
     "start_time": "2020-05-31T09:29:17.691638Z"
    }
   },
   "outputs": [
    {
     "name": "stderr",
     "output_type": "stream",
     "text": [
      "\n",
      "Bad key \"text.kerning_factor\" on line 4 in\n",
      "/Users/Steven/opt/anaconda3/envs/textacy/lib/python3.8/site-packages/matplotlib/mpl-data/stylelib/_classic_test_patch.mplstyle.\n",
      "You probably need to get an updated matplotlibrc file from\n",
      "https://github.com/matplotlib/matplotlib/blob/v3.1.3/matplotlibrc.template\n",
      "or from the matplotlib source distribution\n"
     ]
    }
   ],
   "source": [
    "import pandas as pd\n",
    "import numpy as np\n",
    "import matplotlib.pyplot as plt\n",
    "import seaborn as sns\n",
    "sns.set(font_scale=1.5)\n",
    "\n",
    "%config InlineBackend.figure_format = 'retina'\n",
    "%matplotlib inline\n",
    "\n",
    "import textacy\n",
    "import re\n",
    "\n",
    "from sklearn.model_selection import train_test_split, cross_val_score\n",
    "from sklearn.preprocessing import StandardScaler\n",
    "from sklearn.linear_model import LogisticRegression\n",
    "from sklearn.metrics import confusion_matrix\n",
    "from vaderSentiment.vaderSentiment import SentimentIntensityAnalyzer"
   ]
  },
  {
   "cell_type": "code",
   "execution_count": 4,
   "metadata": {
    "ExecuteTime": {
     "end_time": "2020-05-31T09:32:42.489773Z",
     "start_time": "2020-05-31T09:32:42.485598Z"
    }
   },
   "outputs": [],
   "source": [
    "import pickle\n",
    "import os"
   ]
  },
  {
   "cell_type": "code",
   "execution_count": 11,
   "metadata": {
    "ExecuteTime": {
     "end_time": "2020-05-31T09:42:17.956410Z",
     "start_time": "2020-05-31T09:42:17.951533Z"
    }
   },
   "outputs": [],
   "source": [
    "raw_texts_dir = '../../../../Documents/murakami/pkl_raw_books/'\n",
    "raw_texts_list = os.listdir(raw_texts_dir)"
   ]
  },
  {
   "cell_type": "code",
   "execution_count": 12,
   "metadata": {
    "ExecuteTime": {
     "end_time": "2020-05-31T09:42:19.322352Z",
     "start_time": "2020-05-31T09:42:19.313980Z"
    }
   },
   "outputs": [
    {
     "data": {
      "text/plain": [
       "['HarukiMurakami_TheElephantVanishes.pkl',\n",
       " 'HarukiMurakami_NorwegianWood.pkl',\n",
       " 'HarukiMurakami_TheWindUpBirdChronicle.pkl',\n",
       " 'HarukiMurakami_AWildSheepChase.pkl',\n",
       " 'HarukiMurakami_KafkaOnTheShore.pkl',\n",
       " 'HarukiMurakami_ColorlessTsukuruTazaki.pkl',\n",
       " 'HarukiMurakami_NorwegianWoodB.pkl',\n",
       " 'HarukiMurakami_DanceDanceDance.pkl']"
      ]
     },
     "execution_count": 12,
     "metadata": {},
     "output_type": "execute_result"
    }
   ],
   "source": [
    "raw_texts_list"
   ]
  },
  {
   "cell_type": "code",
   "execution_count": 22,
   "metadata": {
    "ExecuteTime": {
     "end_time": "2020-05-31T09:49:04.902346Z",
     "start_time": "2020-05-31T09:49:04.893491Z"
    }
   },
   "outputs": [
    {
     "data": {
      "text/plain": [
       "['The Elephant Vanishes',\n",
       " 'Norwegian Wood',\n",
       " 'The Wind Up Bird Chronicle',\n",
       " 'A Wild Sheep Chase',\n",
       " 'Kafka On The Shore',\n",
       " 'Colorless Tsukuru Tazaki',\n",
       " 'Norwegian Wood B',\n",
       " 'Dance Dance Dance']"
      ]
     },
     "execution_count": 22,
     "metadata": {},
     "output_type": "execute_result"
    }
   ],
   "source": [
    "# split the pkl file name on the . and _ and keep the book name\n",
    "titles = [y.split('_')[1] for y in [x.split('.')[0] for x in raw_texts_list]]\n",
    "# insert spaces between the capitalized words in the tiles\n",
    "titles = [re.sub( r\"([A-Z])\", r\" \\1\", z).strip() for z in titles]\n",
    "titles"
   ]
  },
  {
   "cell_type": "code",
   "execution_count": 23,
   "metadata": {
    "ExecuteTime": {
     "end_time": "2020-05-31T09:51:24.088523Z",
     "start_time": "2020-05-31T09:51:24.084617Z"
    }
   },
   "outputs": [],
   "source": [
    "book_dict = {'Title':titles,'Pickle':raw_texts_list}"
   ]
  },
  {
   "cell_type": "code",
   "execution_count": 25,
   "metadata": {
    "ExecuteTime": {
     "end_time": "2020-05-31T09:51:59.500556Z",
     "start_time": "2020-05-31T09:51:59.473033Z"
    }
   },
   "outputs": [
    {
     "data": {
      "text/html": [
       "<div>\n",
       "<style scoped>\n",
       "    .dataframe tbody tr th:only-of-type {\n",
       "        vertical-align: middle;\n",
       "    }\n",
       "\n",
       "    .dataframe tbody tr th {\n",
       "        vertical-align: top;\n",
       "    }\n",
       "\n",
       "    .dataframe thead th {\n",
       "        text-align: right;\n",
       "    }\n",
       "</style>\n",
       "<table border=\"1\" class=\"dataframe\">\n",
       "  <thead>\n",
       "    <tr style=\"text-align: right;\">\n",
       "      <th></th>\n",
       "      <th>Title</th>\n",
       "      <th>Pickle</th>\n",
       "    </tr>\n",
       "  </thead>\n",
       "  <tbody>\n",
       "    <tr>\n",
       "      <th>0</th>\n",
       "      <td>The Elephant Vanishes</td>\n",
       "      <td>HarukiMurakami_TheElephantVanishes.pkl</td>\n",
       "    </tr>\n",
       "    <tr>\n",
       "      <th>1</th>\n",
       "      <td>Norwegian Wood</td>\n",
       "      <td>HarukiMurakami_NorwegianWood.pkl</td>\n",
       "    </tr>\n",
       "    <tr>\n",
       "      <th>2</th>\n",
       "      <td>The Wind Up Bird Chronicle</td>\n",
       "      <td>HarukiMurakami_TheWindUpBirdChronicle.pkl</td>\n",
       "    </tr>\n",
       "    <tr>\n",
       "      <th>3</th>\n",
       "      <td>A Wild Sheep Chase</td>\n",
       "      <td>HarukiMurakami_AWildSheepChase.pkl</td>\n",
       "    </tr>\n",
       "    <tr>\n",
       "      <th>4</th>\n",
       "      <td>Kafka On The Shore</td>\n",
       "      <td>HarukiMurakami_KafkaOnTheShore.pkl</td>\n",
       "    </tr>\n",
       "    <tr>\n",
       "      <th>5</th>\n",
       "      <td>Colorless Tsukuru Tazaki</td>\n",
       "      <td>HarukiMurakami_ColorlessTsukuruTazaki.pkl</td>\n",
       "    </tr>\n",
       "    <tr>\n",
       "      <th>6</th>\n",
       "      <td>Norwegian Wood B</td>\n",
       "      <td>HarukiMurakami_NorwegianWoodB.pkl</td>\n",
       "    </tr>\n",
       "    <tr>\n",
       "      <th>7</th>\n",
       "      <td>Dance Dance Dance</td>\n",
       "      <td>HarukiMurakami_DanceDanceDance.pkl</td>\n",
       "    </tr>\n",
       "  </tbody>\n",
       "</table>\n",
       "</div>"
      ],
      "text/plain": [
       "                        Title                                     Pickle\n",
       "0       The Elephant Vanishes     HarukiMurakami_TheElephantVanishes.pkl\n",
       "1              Norwegian Wood           HarukiMurakami_NorwegianWood.pkl\n",
       "2  The Wind Up Bird Chronicle  HarukiMurakami_TheWindUpBirdChronicle.pkl\n",
       "3          A Wild Sheep Chase         HarukiMurakami_AWildSheepChase.pkl\n",
       "4          Kafka On The Shore         HarukiMurakami_KafkaOnTheShore.pkl\n",
       "5    Colorless Tsukuru Tazaki  HarukiMurakami_ColorlessTsukuruTazaki.pkl\n",
       "6            Norwegian Wood B          HarukiMurakami_NorwegianWoodB.pkl\n",
       "7           Dance Dance Dance         HarukiMurakami_DanceDanceDance.pkl"
      ]
     },
     "execution_count": 25,
     "metadata": {},
     "output_type": "execute_result"
    }
   ],
   "source": [
    "books = pd.DataFrame(book_dict)\n",
    "books"
   ]
  },
  {
   "cell_type": "code",
   "execution_count": 3,
   "metadata": {
    "ExecuteTime": {
     "end_time": "2020-05-18T19:46:30.787645Z",
     "start_time": "2020-05-18T19:46:30.780463Z"
    }
   },
   "outputs": [],
   "source": [
    "book_dict = {'The Elephant Vanishes': 'ev_birnbaum_rubin_v01', \n",
    "             'Norwegian Wood 1': 'nw_birnbaum_v01', \n",
    "             'Norwegian Wood 2': 'nw_rubin_v01',\n",
    "             'Wild Sheep Chase': 'wsc_birnbaum_v01', \n",
    "             'Wind Up Bird Chronicle': 'wubc_all_rubin_v01', \n",
    "             'Sputnik Sweetheart': 'ss_gabriel_v01',\n",
    "             'Kafka on the Shore': 'kots_gabriel_v01'}"
   ]
  },
  {
   "cell_type": "code",
   "execution_count": 4,
   "metadata": {
    "ExecuteTime": {
     "end_time": "2020-05-18T19:46:31.923158Z",
     "start_time": "2020-05-18T19:46:31.902586Z"
    }
   },
   "outputs": [
    {
     "data": {
      "text/html": [
       "<div>\n",
       "<style scoped>\n",
       "    .dataframe tbody tr th:only-of-type {\n",
       "        vertical-align: middle;\n",
       "    }\n",
       "\n",
       "    .dataframe tbody tr th {\n",
       "        vertical-align: top;\n",
       "    }\n",
       "\n",
       "    .dataframe thead th {\n",
       "        text-align: right;\n",
       "    }\n",
       "</style>\n",
       "<table border=\"1\" class=\"dataframe\">\n",
       "  <thead>\n",
       "    <tr style=\"text-align: right;\">\n",
       "      <th></th>\n",
       "      <th>Title</th>\n",
       "      <th>Pickle</th>\n",
       "    </tr>\n",
       "  </thead>\n",
       "  <tbody>\n",
       "    <tr>\n",
       "      <th>0</th>\n",
       "      <td>The Elephant Vanishes</td>\n",
       "      <td>ev_birnbaum_rubin_v01</td>\n",
       "    </tr>\n",
       "    <tr>\n",
       "      <th>1</th>\n",
       "      <td>Norwegian Wood 1</td>\n",
       "      <td>nw_birnbaum_v01</td>\n",
       "    </tr>\n",
       "    <tr>\n",
       "      <th>2</th>\n",
       "      <td>Norwegian Wood 2</td>\n",
       "      <td>nw_rubin_v01</td>\n",
       "    </tr>\n",
       "    <tr>\n",
       "      <th>3</th>\n",
       "      <td>Wild Sheep Chase</td>\n",
       "      <td>wsc_birnbaum_v01</td>\n",
       "    </tr>\n",
       "    <tr>\n",
       "      <th>4</th>\n",
       "      <td>Wind Up Bird Chronicle</td>\n",
       "      <td>wubc_all_rubin_v01</td>\n",
       "    </tr>\n",
       "    <tr>\n",
       "      <th>5</th>\n",
       "      <td>Sputnik Sweetheart</td>\n",
       "      <td>ss_gabriel_v01</td>\n",
       "    </tr>\n",
       "    <tr>\n",
       "      <th>6</th>\n",
       "      <td>Kafka on the Shore</td>\n",
       "      <td>kots_gabriel_v01</td>\n",
       "    </tr>\n",
       "  </tbody>\n",
       "</table>\n",
       "</div>"
      ],
      "text/plain": [
       "                    Title                 Pickle\n",
       "0   The Elephant Vanishes  ev_birnbaum_rubin_v01\n",
       "1        Norwegian Wood 1        nw_birnbaum_v01\n",
       "2        Norwegian Wood 2           nw_rubin_v01\n",
       "3        Wild Sheep Chase       wsc_birnbaum_v01\n",
       "4  Wind Up Bird Chronicle     wubc_all_rubin_v01\n",
       "5      Sputnik Sweetheart         ss_gabriel_v01\n",
       "6      Kafka on the Shore       kots_gabriel_v01"
      ]
     },
     "execution_count": 4,
     "metadata": {},
     "output_type": "execute_result"
    }
   ],
   "source": [
    "books = pd.DataFrame.from_dict(book_dict, orient='index').reset_index()\n",
    "books.columns = ['Title', 'Pickle']\n",
    "books"
   ]
  },
  {
   "cell_type": "code",
   "execution_count": 26,
   "metadata": {
    "ExecuteTime": {
     "end_time": "2020-05-31T09:53:13.292771Z",
     "start_time": "2020-05-31T09:53:13.288532Z"
    }
   },
   "outputs": [],
   "source": [
    "def load_pickle(filename):\n",
    "    in_path = raw_texts_dir + filename \n",
    "    with open (in_path, 'rb') as fp:\n",
    "        return pickle.load(fp)"
   ]
  },
  {
   "cell_type": "code",
   "execution_count": 5,
   "metadata": {
    "ExecuteTime": {
     "end_time": "2020-05-18T19:46:33.213181Z",
     "start_time": "2020-05-18T19:46:33.208197Z"
    }
   },
   "outputs": [],
   "source": [
    "def load_pickle(filename):\n",
    "    in_path = '../../../../Documents/murakami/pkl/' + filename + '.pkl'\n",
    "    with open (in_path, 'rb') as fp:\n",
    "        return pickle.load(fp)"
   ]
  },
  {
   "cell_type": "code",
   "execution_count": 27,
   "metadata": {
    "ExecuteTime": {
     "end_time": "2020-05-31T09:53:26.737886Z",
     "start_time": "2020-05-31T09:53:26.687830Z"
    }
   },
   "outputs": [],
   "source": [
    "books['full_text'] = books['Pickle'].apply(load_pickle)"
   ]
  },
  {
   "cell_type": "code",
   "execution_count": 28,
   "metadata": {
    "ExecuteTime": {
     "end_time": "2020-05-31T09:53:27.743551Z",
     "start_time": "2020-05-31T09:53:27.677945Z"
    }
   },
   "outputs": [
    {
     "data": {
      "text/html": [
       "<div>\n",
       "<style scoped>\n",
       "    .dataframe tbody tr th:only-of-type {\n",
       "        vertical-align: middle;\n",
       "    }\n",
       "\n",
       "    .dataframe tbody tr th {\n",
       "        vertical-align: top;\n",
       "    }\n",
       "\n",
       "    .dataframe thead th {\n",
       "        text-align: right;\n",
       "    }\n",
       "</style>\n",
       "<table border=\"1\" class=\"dataframe\">\n",
       "  <thead>\n",
       "    <tr style=\"text-align: right;\">\n",
       "      <th></th>\n",
       "      <th>Title</th>\n",
       "      <th>Pickle</th>\n",
       "      <th>full_text</th>\n",
       "    </tr>\n",
       "  </thead>\n",
       "  <tbody>\n",
       "    <tr>\n",
       "      <th>0</th>\n",
       "      <td>The Elephant Vanishes</td>\n",
       "      <td>HarukiMurakami_TheElephantVanishes.pkl</td>\n",
       "      <td>I’M IN THE kitchen cooking spaghetti when the ...</td>\n",
       "    </tr>\n",
       "    <tr>\n",
       "      <th>1</th>\n",
       "      <td>Norwegian Wood</td>\n",
       "      <td>HarukiMurakami_NorwegianWood.pkl</td>\n",
       "      <td>[\\n , Haruki Murakami Norwegian Wood This book...</td>\n",
       "    </tr>\n",
       "    <tr>\n",
       "      <th>2</th>\n",
       "      <td>The Wind Up Bird Chronicle</td>\n",
       "      <td>HarukiMurakami_TheWindUpBirdChronicle.pkl</td>\n",
       "      <td>[\\n , \\n , Contents \\n Cover \\n About the Auth...</td>\n",
       "    </tr>\n",
       "    <tr>\n",
       "      <th>3</th>\n",
       "      <td>A Wild Sheep Chase</td>\n",
       "      <td>HarukiMurakami_AWildSheepChase.pkl</td>\n",
       "      <td>[\\n , \\n \\n \\n , Contents \\n Cover \\n About th...</td>\n",
       "    </tr>\n",
       "    <tr>\n",
       "      <th>4</th>\n",
       "      <td>Kafka On The Shore</td>\n",
       "      <td>HarukiMurakami_KafkaOnTheShore.pkl</td>\n",
       "      <td>[Kafka on the Shore \\n Haruki Murakami \\n \\n \\...</td>\n",
       "    </tr>\n",
       "    <tr>\n",
       "      <th>5</th>\n",
       "      <td>Colorless Tsukuru Tazaki</td>\n",
       "      <td>HarukiMurakami_ColorlessTsukuruTazaki.pkl</td>\n",
       "      <td>[\\n , \\n \\n \\n , Contents \\n Cover \\n About th...</td>\n",
       "    </tr>\n",
       "    <tr>\n",
       "      <th>6</th>\n",
       "      <td>Norwegian Wood B</td>\n",
       "      <td>HarukiMurakami_NorwegianWoodB.pkl</td>\n",
       "      <td>C H II P T E R 6 (rontinutd) The scene at dinn...</td>\n",
       "    </tr>\n",
       "    <tr>\n",
       "      <th>7</th>\n",
       "      <td>Dance Dance Dance</td>\n",
       "      <td>HarukiMurakami_DanceDanceDance.pkl</td>\n",
       "      <td>[\\n , \\n \\n \\n , Contents \\n Cover \\n About th...</td>\n",
       "    </tr>\n",
       "  </tbody>\n",
       "</table>\n",
       "</div>"
      ],
      "text/plain": [
       "                        Title                                     Pickle  \\\n",
       "0       The Elephant Vanishes     HarukiMurakami_TheElephantVanishes.pkl   \n",
       "1              Norwegian Wood           HarukiMurakami_NorwegianWood.pkl   \n",
       "2  The Wind Up Bird Chronicle  HarukiMurakami_TheWindUpBirdChronicle.pkl   \n",
       "3          A Wild Sheep Chase         HarukiMurakami_AWildSheepChase.pkl   \n",
       "4          Kafka On The Shore         HarukiMurakami_KafkaOnTheShore.pkl   \n",
       "5    Colorless Tsukuru Tazaki  HarukiMurakami_ColorlessTsukuruTazaki.pkl   \n",
       "6            Norwegian Wood B          HarukiMurakami_NorwegianWoodB.pkl   \n",
       "7           Dance Dance Dance         HarukiMurakami_DanceDanceDance.pkl   \n",
       "\n",
       "                                           full_text  \n",
       "0  I’M IN THE kitchen cooking spaghetti when the ...  \n",
       "1  [\\n , Haruki Murakami Norwegian Wood This book...  \n",
       "2  [\\n , \\n , Contents \\n Cover \\n About the Auth...  \n",
       "3  [\\n , \\n \\n \\n , Contents \\n Cover \\n About th...  \n",
       "4  [Kafka on the Shore \\n Haruki Murakami \\n \\n \\...  \n",
       "5  [\\n , \\n \\n \\n , Contents \\n Cover \\n About th...  \n",
       "6  C H II P T E R 6 (rontinutd) The scene at dinn...  \n",
       "7  [\\n , \\n \\n \\n , Contents \\n Cover \\n About th...  "
      ]
     },
     "execution_count": 28,
     "metadata": {},
     "output_type": "execute_result"
    }
   ],
   "source": [
    "books"
   ]
  },
  {
   "cell_type": "markdown",
   "metadata": {},
   "source": [
    "### Initial cleaning and preparation of 'A Wild Sheep Chase' Text"
   ]
  },
  {
   "cell_type": "code",
   "execution_count": 95,
   "metadata": {
    "ExecuteTime": {
     "end_time": "2020-05-31T10:28:05.591130Z",
     "start_time": "2020-05-31T10:28:05.587387Z"
    }
   },
   "outputs": [],
   "source": [
    "wsc = books['full_text'].iloc[3]"
   ]
  },
  {
   "cell_type": "code",
   "execution_count": 96,
   "metadata": {
    "ExecuteTime": {
     "end_time": "2020-05-31T10:28:06.034136Z",
     "start_time": "2020-05-31T10:28:06.023360Z"
    }
   },
   "outputs": [
    {
     "data": {
      "text/plain": [
       "63"
      ]
     },
     "execution_count": 96,
     "metadata": {},
     "output_type": "execute_result"
    }
   ],
   "source": [
    "# wsc is read from an epub and is a list of texts\n",
    "len(wsc)"
   ]
  },
  {
   "cell_type": "code",
   "execution_count": 97,
   "metadata": {
    "ExecuteTime": {
     "end_time": "2020-05-31T10:28:06.434815Z",
     "start_time": "2020-05-31T10:28:06.426960Z"
    }
   },
   "outputs": [
    {
     "data": {
      "text/plain": [
       "'\\n PART ONE \\n \\n A PRELUDE \\n '"
      ]
     },
     "execution_count": 97,
     "metadata": {},
     "output_type": "execute_result"
    }
   ],
   "source": [
    "wsc[6][:30]"
   ]
  },
  {
   "cell_type": "code",
   "execution_count": 98,
   "metadata": {
    "ExecuteTime": {
     "end_time": "2020-05-31T10:28:06.931347Z",
     "start_time": "2020-05-31T10:28:06.920977Z"
    }
   },
   "outputs": [
    {
     "data": {
      "text/plain": [
       "True"
      ]
     },
     "execution_count": 98,
     "metadata": {},
     "output_type": "execute_result"
    }
   ],
   "source": [
    "wsc[6].startswith('\\n PART')"
   ]
  },
  {
   "cell_type": "code",
   "execution_count": 99,
   "metadata": {
    "ExecuteTime": {
     "end_time": "2020-05-31T10:28:07.505158Z",
     "start_time": "2020-05-31T10:28:07.496891Z"
    }
   },
   "outputs": [],
   "source": [
    "# loop through the sections from 6 to 57 which contain the main body of the work\n",
    "# the book is split into parts and we seperate the part headers from the main text\n",
    "part_headers = []\n",
    "texts = []\n",
    "for i, section in enumerate(wsc[6:58]):\n",
    "    if section.startswith('\\n PART'):\n",
    "        part_headers.append(section)\n",
    "    else:\n",
    "        texts.append(section)"
   ]
  },
  {
   "cell_type": "code",
   "execution_count": 100,
   "metadata": {
    "ExecuteTime": {
     "end_time": "2020-05-31T10:28:08.111878Z",
     "start_time": "2020-05-31T10:28:08.095601Z"
    }
   },
   "outputs": [],
   "source": [
    "# regex pattern to extract chapter number, title and main text from a complete chapter\n",
    "pattern = re.compile(r'\\n ([\\d\\w]+) \\n \\n ([^\\n]+) \\n ([\\w\\W]+)')\n",
    "\n",
    "ch_nos = []\n",
    "ch_titles = []\n",
    "ch_texts = []\n",
    "ireg_ch = []\n",
    "\n",
    "for t in range(0,len(texts)):\n",
    "#     print(t)\n",
    "    out = re.findall(pattern, texts[t])\n",
    "    if len(out) > 0:\n",
    "        ch_nos.append(out[0][0])\n",
    "        ch_titles.append(out[0][1])\n",
    "        ch_texts.append(out[0][2])\n",
    "    else:\n",
    "        ireg_ch.append(texts[t])"
   ]
  },
  {
   "cell_type": "code",
   "execution_count": 101,
   "metadata": {
    "ExecuteTime": {
     "end_time": "2020-05-31T10:28:09.619023Z",
     "start_time": "2020-05-31T10:28:09.611891Z"
    }
   },
   "outputs": [
    {
     "data": {
      "text/plain": [
       "0"
      ]
     },
     "execution_count": 101,
     "metadata": {},
     "output_type": "execute_result"
    }
   ],
   "source": [
    "len(ireg_ch)"
   ]
  },
  {
   "cell_type": "code",
   "execution_count": 102,
   "metadata": {
    "ExecuteTime": {
     "end_time": "2020-05-31T10:28:10.342283Z",
     "start_time": "2020-05-31T10:28:10.329033Z"
    }
   },
   "outputs": [
    {
     "data": {
      "text/html": [
       "<div>\n",
       "<style scoped>\n",
       "    .dataframe tbody tr th:only-of-type {\n",
       "        vertical-align: middle;\n",
       "    }\n",
       "\n",
       "    .dataframe tbody tr th {\n",
       "        vertical-align: top;\n",
       "    }\n",
       "\n",
       "    .dataframe thead th {\n",
       "        text-align: right;\n",
       "    }\n",
       "</style>\n",
       "<table border=\"1\" class=\"dataframe\">\n",
       "  <thead>\n",
       "    <tr style=\"text-align: right;\">\n",
       "      <th></th>\n",
       "      <th>number</th>\n",
       "      <th>title</th>\n",
       "      <th>text</th>\n",
       "    </tr>\n",
       "  </thead>\n",
       "  <tbody>\n",
       "    <tr>\n",
       "      <th>0</th>\n",
       "      <td>1</td>\n",
       "      <td>Wednesday Afternoon Picnic</td>\n",
       "      <td>IT WAS A  short one-paragraph item in the morn...</td>\n",
       "    </tr>\n",
       "    <tr>\n",
       "      <th>1</th>\n",
       "      <td>2</td>\n",
       "      <td>Sixteen Steps</td>\n",
       "      <td>I WAITED FOR  the compressed-air hiss of the e...</td>\n",
       "    </tr>\n",
       "    <tr>\n",
       "      <th>2</th>\n",
       "      <td>3</td>\n",
       "      <td>The Slip</td>\n",
       "      <td>ONCE SHE WAS  gone, I downed another cola, the...</td>\n",
       "    </tr>\n",
       "    <tr>\n",
       "      <th>3</th>\n",
       "      <td>4</td>\n",
       "      <td>The Whale’s Penis and the Woman with Three Occ...</td>\n",
       "      <td>TO SLEEP WITH  a woman: it can seem of the utm...</td>\n",
       "    </tr>\n",
       "    <tr>\n",
       "      <th>4</th>\n",
       "      <td>5</td>\n",
       "      <td>Unblocked Ears</td>\n",
       "      <td>“ SEE WHAT I  mean?”  she said. \\n She’d becom...</td>\n",
       "    </tr>\n",
       "  </tbody>\n",
       "</table>\n",
       "</div>"
      ],
      "text/plain": [
       "  number                                              title  \\\n",
       "0      1                         Wednesday Afternoon Picnic   \n",
       "1      2                                      Sixteen Steps   \n",
       "2      3                                           The Slip   \n",
       "3      4  The Whale’s Penis and the Woman with Three Occ...   \n",
       "4      5                                     Unblocked Ears   \n",
       "\n",
       "                                                text  \n",
       "0  IT WAS A  short one-paragraph item in the morn...  \n",
       "1  I WAITED FOR  the compressed-air hiss of the e...  \n",
       "2  ONCE SHE WAS  gone, I downed another cola, the...  \n",
       "3  TO SLEEP WITH  a woman: it can seem of the utm...  \n",
       "4  “ SEE WHAT I  mean?”  she said. \\n She’d becom...  "
      ]
     },
     "execution_count": 102,
     "metadata": {},
     "output_type": "execute_result"
    }
   ],
   "source": [
    "chapters = pd.DataFrame({'number': ch_nos, 'title': ch_titles, 'text': ch_texts})\n",
    "chapters.head()"
   ]
  },
  {
   "cell_type": "code",
   "execution_count": 103,
   "metadata": {
    "ExecuteTime": {
     "end_time": "2020-05-31T10:28:11.827908Z",
     "start_time": "2020-05-31T10:28:11.823770Z"
    }
   },
   "outputs": [],
   "source": [
    "# function to find indices of full stops in a text\n",
    "def fs_indexer(x):\n",
    "    return [i for i, char in enumerate(x) if char == \".\"]"
   ]
  },
  {
   "cell_type": "code",
   "execution_count": 104,
   "metadata": {
    "ExecuteTime": {
     "end_time": "2020-05-31T10:28:12.334628Z",
     "start_time": "2020-05-31T10:28:12.283867Z"
    }
   },
   "outputs": [],
   "source": [
    "chapters['fstop_indices'] = chapters['text'].apply(lambda x: fs_indexer(x))"
   ]
  },
  {
   "cell_type": "code",
   "execution_count": 105,
   "metadata": {
    "ExecuteTime": {
     "end_time": "2020-05-31T10:28:13.068720Z",
     "start_time": "2020-05-31T10:28:13.050994Z"
    }
   },
   "outputs": [
    {
     "data": {
      "text/html": [
       "<div>\n",
       "<style scoped>\n",
       "    .dataframe tbody tr th:only-of-type {\n",
       "        vertical-align: middle;\n",
       "    }\n",
       "\n",
       "    .dataframe tbody tr th {\n",
       "        vertical-align: top;\n",
       "    }\n",
       "\n",
       "    .dataframe thead th {\n",
       "        text-align: right;\n",
       "    }\n",
       "</style>\n",
       "<table border=\"1\" class=\"dataframe\">\n",
       "  <thead>\n",
       "    <tr style=\"text-align: right;\">\n",
       "      <th></th>\n",
       "      <th>number</th>\n",
       "      <th>title</th>\n",
       "      <th>text</th>\n",
       "      <th>fstop_indices</th>\n",
       "    </tr>\n",
       "  </thead>\n",
       "  <tbody>\n",
       "    <tr>\n",
       "      <th>0</th>\n",
       "      <td>1</td>\n",
       "      <td>Wednesday Afternoon Picnic</td>\n",
       "      <td>IT WAS A  short one-paragraph item in the morn...</td>\n",
       "      <td>[57, 97, 115, 196, 318, 385, 420, 445, 504, 65...</td>\n",
       "    </tr>\n",
       "    <tr>\n",
       "      <th>1</th>\n",
       "      <td>2</td>\n",
       "      <td>Sixteen Steps</td>\n",
       "      <td>I WAITED FOR  the compressed-air hiss of the e...</td>\n",
       "      <td>[101, 215, 252, 271, 338, 413, 468, 625, 706, ...</td>\n",
       "    </tr>\n",
       "    <tr>\n",
       "      <th>2</th>\n",
       "      <td>3</td>\n",
       "      <td>The Slip</td>\n",
       "      <td>ONCE SHE WAS  gone, I downed another cola, the...</td>\n",
       "      <td>[76, 157, 246, 302, 371, 507, 543, 627, 699, 8...</td>\n",
       "    </tr>\n",
       "    <tr>\n",
       "      <th>3</th>\n",
       "      <td>4</td>\n",
       "      <td>The Whale’s Penis and the Woman with Three Occ...</td>\n",
       "      <td>TO SLEEP WITH  a woman: it can seem of the utm...</td>\n",
       "      <td>[125, 229, 420, 514, 598, 686, 788, 874, 937, ...</td>\n",
       "    </tr>\n",
       "    <tr>\n",
       "      <th>4</th>\n",
       "      <td>5</td>\n",
       "      <td>Unblocked Ears</td>\n",
       "      <td>“ SEE WHAT I  mean?”  she said. \\n She’d becom...</td>\n",
       "      <td>[30, 84, 129, 178, 243, 314, 382, 481, 541, 56...</td>\n",
       "    </tr>\n",
       "  </tbody>\n",
       "</table>\n",
       "</div>"
      ],
      "text/plain": [
       "  number                                              title  \\\n",
       "0      1                         Wednesday Afternoon Picnic   \n",
       "1      2                                      Sixteen Steps   \n",
       "2      3                                           The Slip   \n",
       "3      4  The Whale’s Penis and the Woman with Three Occ...   \n",
       "4      5                                     Unblocked Ears   \n",
       "\n",
       "                                                text  \\\n",
       "0  IT WAS A  short one-paragraph item in the morn...   \n",
       "1  I WAITED FOR  the compressed-air hiss of the e...   \n",
       "2  ONCE SHE WAS  gone, I downed another cola, the...   \n",
       "3  TO SLEEP WITH  a woman: it can seem of the utm...   \n",
       "4  “ SEE WHAT I  mean?”  she said. \\n She’d becom...   \n",
       "\n",
       "                                       fstop_indices  \n",
       "0  [57, 97, 115, 196, 318, 385, 420, 445, 504, 65...  \n",
       "1  [101, 215, 252, 271, 338, 413, 468, 625, 706, ...  \n",
       "2  [76, 157, 246, 302, 371, 507, 543, 627, 699, 8...  \n",
       "3  [125, 229, 420, 514, 598, 686, 788, 874, 937, ...  \n",
       "4  [30, 84, 129, 178, 243, 314, 382, 481, 541, 56...  "
      ]
     },
     "execution_count": 105,
     "metadata": {},
     "output_type": "execute_result"
    }
   ],
   "source": [
    "chapters.head()"
   ]
  },
  {
   "cell_type": "code",
   "execution_count": 106,
   "metadata": {
    "ExecuteTime": {
     "end_time": "2020-05-31T10:28:14.979225Z",
     "start_time": "2020-05-31T10:28:14.931268Z"
    }
   },
   "outputs": [],
   "source": [
    "# function to find indices of full stops in a text\n",
    "def split_indexer(text, n=1000):\n",
    "    fstop_indices = fs_indexer(text)\n",
    "    split_indices = []\n",
    "    try:\n",
    "        for j in range(n, len(text), n):\n",
    "            i = 0\n",
    "    # keep going through the indices while less than the 1000 step\n",
    "            while fstop_indices[i] < j:\n",
    "                i += 1\n",
    "    # append list with the index of the full stop before the 1000 step\n",
    "            split_indices.append(fstop_indices[i-1])\n",
    "    except:\n",
    "        split_indices = np.NaN\n",
    "    return split_indices"
   ]
  },
  {
   "cell_type": "code",
   "execution_count": 107,
   "metadata": {
    "ExecuteTime": {
     "end_time": "2020-05-31T10:28:15.925328Z",
     "start_time": "2020-05-31T10:28:15.906953Z"
    }
   },
   "outputs": [],
   "source": [
    "# # function to find indices of full stops in a text\n",
    "# def split_indexer(text, n=1000):\n",
    "#     fstop_indices = fs_indexer(text)\n",
    "#     split_indices = []\n",
    "#     for j in range(n, len(text), n):\n",
    "#         i = 0\n",
    "# # keep going through the indices while less than the 1000 step\n",
    "#         while fstop_indices[i] < j:\n",
    "#             i += 1\n",
    "# # append list with the index of the full stop before the 1000 step\n",
    "#         split_indices.append(fstop_indices[i-1])\n",
    "#     return split_indices"
   ]
  },
  {
   "cell_type": "code",
   "execution_count": 108,
   "metadata": {
    "ExecuteTime": {
     "end_time": "2020-05-31T10:28:16.546999Z",
     "start_time": "2020-05-31T10:28:16.462532Z"
    }
   },
   "outputs": [],
   "source": [
    "chapters['split_indices'] = chapters['text'].apply(lambda x: split_indexer(x))"
   ]
  },
  {
   "cell_type": "code",
   "execution_count": 109,
   "metadata": {
    "ExecuteTime": {
     "end_time": "2020-05-31T10:28:17.831783Z",
     "start_time": "2020-05-31T10:28:17.799106Z"
    }
   },
   "outputs": [
    {
     "data": {
      "text/html": [
       "<div>\n",
       "<style scoped>\n",
       "    .dataframe tbody tr th:only-of-type {\n",
       "        vertical-align: middle;\n",
       "    }\n",
       "\n",
       "    .dataframe tbody tr th {\n",
       "        vertical-align: top;\n",
       "    }\n",
       "\n",
       "    .dataframe thead th {\n",
       "        text-align: right;\n",
       "    }\n",
       "</style>\n",
       "<table border=\"1\" class=\"dataframe\">\n",
       "  <thead>\n",
       "    <tr style=\"text-align: right;\">\n",
       "      <th></th>\n",
       "      <th>number</th>\n",
       "      <th>title</th>\n",
       "      <th>text</th>\n",
       "      <th>fstop_indices</th>\n",
       "      <th>split_indices</th>\n",
       "    </tr>\n",
       "  </thead>\n",
       "  <tbody>\n",
       "    <tr>\n",
       "      <th>0</th>\n",
       "      <td>1</td>\n",
       "      <td>Wednesday Afternoon Picnic</td>\n",
       "      <td>IT WAS A  short one-paragraph item in the morn...</td>\n",
       "      <td>[57, 97, 115, 196, 318, 385, 420, 445, 504, 65...</td>\n",
       "      <td>[967, 1924, 2998, 3982, 4935, 5975, 6995, 7961...</td>\n",
       "    </tr>\n",
       "    <tr>\n",
       "      <th>1</th>\n",
       "      <td>2</td>\n",
       "      <td>Sixteen Steps</td>\n",
       "      <td>I WAITED FOR  the compressed-air hiss of the e...</td>\n",
       "      <td>[101, 215, 252, 271, 338, 413, 468, 625, 706, ...</td>\n",
       "      <td>[965, 1976, 2982, 3963, 4966, 5989, 6994, 7905...</td>\n",
       "    </tr>\n",
       "    <tr>\n",
       "      <th>2</th>\n",
       "      <td>3</td>\n",
       "      <td>The Slip</td>\n",
       "      <td>ONCE SHE WAS  gone, I downed another cola, the...</td>\n",
       "      <td>[76, 157, 246, 302, 371, 507, 543, 627, 699, 8...</td>\n",
       "      <td>[952, 1904, 2975, 3996, 4929]</td>\n",
       "    </tr>\n",
       "    <tr>\n",
       "      <th>3</th>\n",
       "      <td>4</td>\n",
       "      <td>The Whale’s Penis and the Woman with Three Occ...</td>\n",
       "      <td>TO SLEEP WITH  a woman: it can seem of the utm...</td>\n",
       "      <td>[125, 229, 420, 514, 598, 686, 788, 874, 937, ...</td>\n",
       "      <td>[937, 1988, 2967, 3981, 4994, 5949, 6936, 7995...</td>\n",
       "    </tr>\n",
       "    <tr>\n",
       "      <th>4</th>\n",
       "      <td>5</td>\n",
       "      <td>Unblocked Ears</td>\n",
       "      <td>“ SEE WHAT I  mean?”  she said. \\n She’d becom...</td>\n",
       "      <td>[30, 84, 129, 178, 243, 314, 382, 481, 541, 56...</td>\n",
       "      <td>[965]</td>\n",
       "    </tr>\n",
       "  </tbody>\n",
       "</table>\n",
       "</div>"
      ],
      "text/plain": [
       "  number                                              title  \\\n",
       "0      1                         Wednesday Afternoon Picnic   \n",
       "1      2                                      Sixteen Steps   \n",
       "2      3                                           The Slip   \n",
       "3      4  The Whale’s Penis and the Woman with Three Occ...   \n",
       "4      5                                     Unblocked Ears   \n",
       "\n",
       "                                                text  \\\n",
       "0  IT WAS A  short one-paragraph item in the morn...   \n",
       "1  I WAITED FOR  the compressed-air hiss of the e...   \n",
       "2  ONCE SHE WAS  gone, I downed another cola, the...   \n",
       "3  TO SLEEP WITH  a woman: it can seem of the utm...   \n",
       "4  “ SEE WHAT I  mean?”  she said. \\n She’d becom...   \n",
       "\n",
       "                                       fstop_indices  \\\n",
       "0  [57, 97, 115, 196, 318, 385, 420, 445, 504, 65...   \n",
       "1  [101, 215, 252, 271, 338, 413, 468, 625, 706, ...   \n",
       "2  [76, 157, 246, 302, 371, 507, 543, 627, 699, 8...   \n",
       "3  [125, 229, 420, 514, 598, 686, 788, 874, 937, ...   \n",
       "4  [30, 84, 129, 178, 243, 314, 382, 481, 541, 56...   \n",
       "\n",
       "                                       split_indices  \n",
       "0  [967, 1924, 2998, 3982, 4935, 5975, 6995, 7961...  \n",
       "1  [965, 1976, 2982, 3963, 4966, 5989, 6994, 7905...  \n",
       "2                      [952, 1904, 2975, 3996, 4929]  \n",
       "3  [937, 1988, 2967, 3981, 4994, 5949, 6936, 7995...  \n",
       "4                                              [965]  "
      ]
     },
     "execution_count": 109,
     "metadata": {},
     "output_type": "execute_result"
    }
   ],
   "source": [
    "chapters.head()"
   ]
  },
  {
   "cell_type": "code",
   "execution_count": 110,
   "metadata": {
    "ExecuteTime": {
     "end_time": "2020-05-31T10:28:22.231678Z",
     "start_time": "2020-05-31T10:28:22.226549Z"
    }
   },
   "outputs": [],
   "source": [
    "# function to chunk a text\n",
    "def text_chunker(text):\n",
    "    split_indices = split_indexer(text)\n",
    "    chunks = []\n",
    "    for i, idx in enumerate(split_indices):\n",
    "# if first split then start at index 0 and keep up to the full stop index (including the full stop)\n",
    "        if i == 0:\n",
    "            chunks.append(text[0:idx+1])\n",
    "# else start from the end of the previous chunk after the full stop until the next\n",
    "        else:\n",
    "            chunks.append(text[split_indices[i-1]+2:idx+1])\n",
    "    return chunks"
   ]
  },
  {
   "cell_type": "code",
   "execution_count": 111,
   "metadata": {
    "ExecuteTime": {
     "end_time": "2020-05-31T10:28:22.834948Z",
     "start_time": "2020-05-31T10:28:22.784867Z"
    }
   },
   "outputs": [],
   "source": [
    "chapters['chunks'] = chapters['text'].apply(lambda x: text_chunker(x))"
   ]
  },
  {
   "cell_type": "code",
   "execution_count": 112,
   "metadata": {
    "ExecuteTime": {
     "end_time": "2020-05-31T10:28:23.671151Z",
     "start_time": "2020-05-31T10:28:23.647983Z"
    }
   },
   "outputs": [
    {
     "data": {
      "text/html": [
       "<div>\n",
       "<style scoped>\n",
       "    .dataframe tbody tr th:only-of-type {\n",
       "        vertical-align: middle;\n",
       "    }\n",
       "\n",
       "    .dataframe tbody tr th {\n",
       "        vertical-align: top;\n",
       "    }\n",
       "\n",
       "    .dataframe thead th {\n",
       "        text-align: right;\n",
       "    }\n",
       "</style>\n",
       "<table border=\"1\" class=\"dataframe\">\n",
       "  <thead>\n",
       "    <tr style=\"text-align: right;\">\n",
       "      <th></th>\n",
       "      <th>number</th>\n",
       "      <th>title</th>\n",
       "      <th>text</th>\n",
       "      <th>fstop_indices</th>\n",
       "      <th>split_indices</th>\n",
       "      <th>chunks</th>\n",
       "    </tr>\n",
       "  </thead>\n",
       "  <tbody>\n",
       "    <tr>\n",
       "      <th>0</th>\n",
       "      <td>1</td>\n",
       "      <td>Wednesday Afternoon Picnic</td>\n",
       "      <td>IT WAS A  short one-paragraph item in the morn...</td>\n",
       "      <td>[57, 97, 115, 196, 318, 385, 420, 445, 504, 65...</td>\n",
       "      <td>[967, 1924, 2998, 3982, 4935, 5975, 6995, 7961...</td>\n",
       "      <td>[IT WAS A  short one-paragraph item in the mor...</td>\n",
       "    </tr>\n",
       "    <tr>\n",
       "      <th>1</th>\n",
       "      <td>2</td>\n",
       "      <td>Sixteen Steps</td>\n",
       "      <td>I WAITED FOR  the compressed-air hiss of the e...</td>\n",
       "      <td>[101, 215, 252, 271, 338, 413, 468, 625, 706, ...</td>\n",
       "      <td>[965, 1976, 2982, 3963, 4966, 5989, 6994, 7905...</td>\n",
       "      <td>[I WAITED FOR  the compressed-air hiss of the ...</td>\n",
       "    </tr>\n",
       "    <tr>\n",
       "      <th>2</th>\n",
       "      <td>3</td>\n",
       "      <td>The Slip</td>\n",
       "      <td>ONCE SHE WAS  gone, I downed another cola, the...</td>\n",
       "      <td>[76, 157, 246, 302, 371, 507, 543, 627, 699, 8...</td>\n",
       "      <td>[952, 1904, 2975, 3996, 4929]</td>\n",
       "      <td>[ONCE SHE WAS  gone, I downed another cola, th...</td>\n",
       "    </tr>\n",
       "    <tr>\n",
       "      <th>3</th>\n",
       "      <td>4</td>\n",
       "      <td>The Whale’s Penis and the Woman with Three Occ...</td>\n",
       "      <td>TO SLEEP WITH  a woman: it can seem of the utm...</td>\n",
       "      <td>[125, 229, 420, 514, 598, 686, 788, 874, 937, ...</td>\n",
       "      <td>[937, 1988, 2967, 3981, 4994, 5949, 6936, 7995...</td>\n",
       "      <td>[TO SLEEP WITH  a woman: it can seem of the ut...</td>\n",
       "    </tr>\n",
       "    <tr>\n",
       "      <th>4</th>\n",
       "      <td>5</td>\n",
       "      <td>Unblocked Ears</td>\n",
       "      <td>“ SEE WHAT I  mean?”  she said. \\n She’d becom...</td>\n",
       "      <td>[30, 84, 129, 178, 243, 314, 382, 481, 541, 56...</td>\n",
       "      <td>[965]</td>\n",
       "      <td>[“ SEE WHAT I  mean?”  she said. \\n She’d beco...</td>\n",
       "    </tr>\n",
       "  </tbody>\n",
       "</table>\n",
       "</div>"
      ],
      "text/plain": [
       "  number                                              title  \\\n",
       "0      1                         Wednesday Afternoon Picnic   \n",
       "1      2                                      Sixteen Steps   \n",
       "2      3                                           The Slip   \n",
       "3      4  The Whale’s Penis and the Woman with Three Occ...   \n",
       "4      5                                     Unblocked Ears   \n",
       "\n",
       "                                                text  \\\n",
       "0  IT WAS A  short one-paragraph item in the morn...   \n",
       "1  I WAITED FOR  the compressed-air hiss of the e...   \n",
       "2  ONCE SHE WAS  gone, I downed another cola, the...   \n",
       "3  TO SLEEP WITH  a woman: it can seem of the utm...   \n",
       "4  “ SEE WHAT I  mean?”  she said. \\n She’d becom...   \n",
       "\n",
       "                                       fstop_indices  \\\n",
       "0  [57, 97, 115, 196, 318, 385, 420, 445, 504, 65...   \n",
       "1  [101, 215, 252, 271, 338, 413, 468, 625, 706, ...   \n",
       "2  [76, 157, 246, 302, 371, 507, 543, 627, 699, 8...   \n",
       "3  [125, 229, 420, 514, 598, 686, 788, 874, 937, ...   \n",
       "4  [30, 84, 129, 178, 243, 314, 382, 481, 541, 56...   \n",
       "\n",
       "                                       split_indices  \\\n",
       "0  [967, 1924, 2998, 3982, 4935, 5975, 6995, 7961...   \n",
       "1  [965, 1976, 2982, 3963, 4966, 5989, 6994, 7905...   \n",
       "2                      [952, 1904, 2975, 3996, 4929]   \n",
       "3  [937, 1988, 2967, 3981, 4994, 5949, 6936, 7995...   \n",
       "4                                              [965]   \n",
       "\n",
       "                                              chunks  \n",
       "0  [IT WAS A  short one-paragraph item in the mor...  \n",
       "1  [I WAITED FOR  the compressed-air hiss of the ...  \n",
       "2  [ONCE SHE WAS  gone, I downed another cola, th...  \n",
       "3  [TO SLEEP WITH  a woman: it can seem of the ut...  \n",
       "4  [“ SEE WHAT I  mean?”  she said. \\n She’d beco...  "
      ]
     },
     "execution_count": 112,
     "metadata": {},
     "output_type": "execute_result"
    }
   ],
   "source": [
    "chapters.head()"
   ]
  },
  {
   "cell_type": "code",
   "execution_count": 113,
   "metadata": {
    "ExecuteTime": {
     "end_time": "2020-05-31T10:28:25.969523Z",
     "start_time": "2020-05-31T10:28:25.694418Z"
    }
   },
   "outputs": [
    {
     "data": {
      "image/png": "[encoded data removed]",
      "text/plain": [
       "<Figure size 432x288 with 1 Axes>"
      ]
     },
     "metadata": {
      "image/png": {
       "height": 256,
       "width": 377
      },
      "needs_background": "light"
     },
     "output_type": "display_data"
    }
   ],
   "source": [
    "lengths = []\n",
    "for chapter in chapters['chunks']:\n",
    "    for chunk in chapter:\n",
    "        lengths.append(len(chunk))\n",
    "plt.hist(lengths, bins=20);"
   ]
  },
  {
   "cell_type": "code",
   "execution_count": 114,
   "metadata": {
    "ExecuteTime": {
     "end_time": "2020-05-31T10:28:27.017480Z",
     "start_time": "2020-05-31T10:28:27.010530Z"
    }
   },
   "outputs": [
    {
     "data": {
      "text/plain": [
       "471"
      ]
     },
     "execution_count": 114,
     "metadata": {},
     "output_type": "execute_result"
    }
   ],
   "source": [
    "len(lengths)"
   ]
  },
  {
   "cell_type": "code",
   "execution_count": 115,
   "metadata": {
    "ExecuteTime": {
     "end_time": "2020-05-31T10:28:28.683245Z",
     "start_time": "2020-05-31T10:28:28.678410Z"
    }
   },
   "outputs": [],
   "source": [
    "chapters['translator'] = 'Alfred Birnbaum'"
   ]
  },
  {
   "cell_type": "code",
   "execution_count": 49,
   "metadata": {
    "ExecuteTime": {
     "end_time": "2020-05-31T09:56:37.131761Z",
     "start_time": "2020-05-31T09:56:37.124576Z"
    }
   },
   "outputs": [],
   "source": [
    "chapters['book_title'] = 'A Wild Sheep Chase'"
   ]
  },
  {
   "cell_type": "code",
   "execution_count": 50,
   "metadata": {
    "ExecuteTime": {
     "end_time": "2020-05-31T09:56:38.176673Z",
     "start_time": "2020-05-31T09:56:38.146034Z"
    }
   },
   "outputs": [
    {
     "data": {
      "text/html": [
       "<div>\n",
       "<style scoped>\n",
       "    .dataframe tbody tr th:only-of-type {\n",
       "        vertical-align: middle;\n",
       "    }\n",
       "\n",
       "    .dataframe tbody tr th {\n",
       "        vertical-align: top;\n",
       "    }\n",
       "\n",
       "    .dataframe thead th {\n",
       "        text-align: right;\n",
       "    }\n",
       "</style>\n",
       "<table border=\"1\" class=\"dataframe\">\n",
       "  <thead>\n",
       "    <tr style=\"text-align: right;\">\n",
       "      <th></th>\n",
       "      <th>number</th>\n",
       "      <th>title</th>\n",
       "      <th>text</th>\n",
       "      <th>fstop_indices</th>\n",
       "      <th>split_indices</th>\n",
       "      <th>chunks</th>\n",
       "      <th>translator</th>\n",
       "      <th>book_title</th>\n",
       "    </tr>\n",
       "  </thead>\n",
       "  <tbody>\n",
       "    <tr>\n",
       "      <th>0</th>\n",
       "      <td>1</td>\n",
       "      <td>Wednesday Afternoon Picnic</td>\n",
       "      <td>IT WAS A  short one-paragraph item in the morn...</td>\n",
       "      <td>[57, 97, 115, 196, 318, 385, 420, 445, 504, 65...</td>\n",
       "      <td>[967, 1924, 2998, 3982, 4935, 5975, 6995, 7961...</td>\n",
       "      <td>[IT WAS A  short one-paragraph item in the mor...</td>\n",
       "      <td>Alfred Birnbaum</td>\n",
       "      <td>A Wild Sheep Chase</td>\n",
       "    </tr>\n",
       "    <tr>\n",
       "      <th>1</th>\n",
       "      <td>2</td>\n",
       "      <td>Sixteen Steps</td>\n",
       "      <td>I WAITED FOR  the compressed-air hiss of the e...</td>\n",
       "      <td>[101, 215, 252, 271, 338, 413, 468, 625, 706, ...</td>\n",
       "      <td>[965, 1976, 2982, 3963, 4966, 5989, 6994, 7905...</td>\n",
       "      <td>[I WAITED FOR  the compressed-air hiss of the ...</td>\n",
       "      <td>Alfred Birnbaum</td>\n",
       "      <td>A Wild Sheep Chase</td>\n",
       "    </tr>\n",
       "    <tr>\n",
       "      <th>2</th>\n",
       "      <td>3</td>\n",
       "      <td>The Slip</td>\n",
       "      <td>ONCE SHE WAS  gone, I downed another cola, the...</td>\n",
       "      <td>[76, 157, 246, 302, 371, 507, 543, 627, 699, 8...</td>\n",
       "      <td>[952, 1904, 2975, 3996, 4929]</td>\n",
       "      <td>[ONCE SHE WAS  gone, I downed another cola, th...</td>\n",
       "      <td>Alfred Birnbaum</td>\n",
       "      <td>A Wild Sheep Chase</td>\n",
       "    </tr>\n",
       "    <tr>\n",
       "      <th>3</th>\n",
       "      <td>4</td>\n",
       "      <td>The Whale’s Penis and the Woman with Three Occ...</td>\n",
       "      <td>TO SLEEP WITH  a woman: it can seem of the utm...</td>\n",
       "      <td>[125, 229, 420, 514, 598, 686, 788, 874, 937, ...</td>\n",
       "      <td>[937, 1988, 2967, 3981, 4994, 5949, 6936, 7995...</td>\n",
       "      <td>[TO SLEEP WITH  a woman: it can seem of the ut...</td>\n",
       "      <td>Alfred Birnbaum</td>\n",
       "      <td>A Wild Sheep Chase</td>\n",
       "    </tr>\n",
       "    <tr>\n",
       "      <th>4</th>\n",
       "      <td>5</td>\n",
       "      <td>Unblocked Ears</td>\n",
       "      <td>“ SEE WHAT I  mean?”  she said. \\n She’d becom...</td>\n",
       "      <td>[30, 84, 129, 178, 243, 314, 382, 481, 541, 56...</td>\n",
       "      <td>[965]</td>\n",
       "      <td>[“ SEE WHAT I  mean?”  she said. \\n She’d beco...</td>\n",
       "      <td>Alfred Birnbaum</td>\n",
       "      <td>A Wild Sheep Chase</td>\n",
       "    </tr>\n",
       "  </tbody>\n",
       "</table>\n",
       "</div>"
      ],
      "text/plain": [
       "  number                                              title  \\\n",
       "0      1                         Wednesday Afternoon Picnic   \n",
       "1      2                                      Sixteen Steps   \n",
       "2      3                                           The Slip   \n",
       "3      4  The Whale’s Penis and the Woman with Three Occ...   \n",
       "4      5                                     Unblocked Ears   \n",
       "\n",
       "                                                text  \\\n",
       "0  IT WAS A  short one-paragraph item in the morn...   \n",
       "1  I WAITED FOR  the compressed-air hiss of the e...   \n",
       "2  ONCE SHE WAS  gone, I downed another cola, the...   \n",
       "3  TO SLEEP WITH  a woman: it can seem of the utm...   \n",
       "4  “ SEE WHAT I  mean?”  she said. \\n She’d becom...   \n",
       "\n",
       "                                       fstop_indices  \\\n",
       "0  [57, 97, 115, 196, 318, 385, 420, 445, 504, 65...   \n",
       "1  [101, 215, 252, 271, 338, 413, 468, 625, 706, ...   \n",
       "2  [76, 157, 246, 302, 371, 507, 543, 627, 699, 8...   \n",
       "3  [125, 229, 420, 514, 598, 686, 788, 874, 937, ...   \n",
       "4  [30, 84, 129, 178, 243, 314, 382, 481, 541, 56...   \n",
       "\n",
       "                                       split_indices  \\\n",
       "0  [967, 1924, 2998, 3982, 4935, 5975, 6995, 7961...   \n",
       "1  [965, 1976, 2982, 3963, 4966, 5989, 6994, 7905...   \n",
       "2                      [952, 1904, 2975, 3996, 4929]   \n",
       "3  [937, 1988, 2967, 3981, 4994, 5949, 6936, 7995...   \n",
       "4                                              [965]   \n",
       "\n",
       "                                              chunks       translator  \\\n",
       "0  [IT WAS A  short one-paragraph item in the mor...  Alfred Birnbaum   \n",
       "1  [I WAITED FOR  the compressed-air hiss of the ...  Alfred Birnbaum   \n",
       "2  [ONCE SHE WAS  gone, I downed another cola, th...  Alfred Birnbaum   \n",
       "3  [TO SLEEP WITH  a woman: it can seem of the ut...  Alfred Birnbaum   \n",
       "4  [“ SEE WHAT I  mean?”  she said. \\n She’d beco...  Alfred Birnbaum   \n",
       "\n",
       "           book_title  \n",
       "0  A Wild Sheep Chase  \n",
       "1  A Wild Sheep Chase  \n",
       "2  A Wild Sheep Chase  \n",
       "3  A Wild Sheep Chase  \n",
       "4  A Wild Sheep Chase  "
      ]
     },
     "execution_count": 50,
     "metadata": {},
     "output_type": "execute_result"
    }
   ],
   "source": [
    "chapters.head()"
   ]
  },
  {
   "cell_type": "code",
   "execution_count": 51,
   "metadata": {
    "ExecuteTime": {
     "end_time": "2020-05-31T09:56:40.062195Z",
     "start_time": "2020-05-31T09:56:40.051981Z"
    }
   },
   "outputs": [],
   "source": [
    "out_path = '../../../../Documents/murakami/pkl2/'\n",
    "out_name = 'wsc_birnbaum_v01'\n",
    "out_full_path = out_path + out_name + '.pkl'"
   ]
  },
  {
   "cell_type": "code",
   "execution_count": 52,
   "metadata": {
    "ExecuteTime": {
     "end_time": "2020-05-31T09:56:51.414334Z",
     "start_time": "2020-05-31T09:56:51.395064Z"
    }
   },
   "outputs": [],
   "source": [
    "# save pickle\n",
    "with open(out_full_path, 'wb') as fp:\n",
    "    pickle.dump(chapters, fp)\n",
    "\n",
    "\n",
    "# read back pickle\n",
    "with open (out_full_path, 'rb') as fp:\n",
    "    read_wsc = pickle.load(fp)"
   ]
  },
  {
   "cell_type": "code",
   "execution_count": 53,
   "metadata": {
    "ExecuteTime": {
     "end_time": "2020-05-31T09:56:53.185148Z",
     "start_time": "2020-05-31T09:56:53.077160Z"
    }
   },
   "outputs": [
    {
     "data": {
      "text/html": [
       "<div>\n",
       "<style scoped>\n",
       "    .dataframe tbody tr th:only-of-type {\n",
       "        vertical-align: middle;\n",
       "    }\n",
       "\n",
       "    .dataframe tbody tr th {\n",
       "        vertical-align: top;\n",
       "    }\n",
       "\n",
       "    .dataframe thead th {\n",
       "        text-align: right;\n",
       "    }\n",
       "</style>\n",
       "<table border=\"1\" class=\"dataframe\">\n",
       "  <thead>\n",
       "    <tr style=\"text-align: right;\">\n",
       "      <th></th>\n",
       "      <th>number</th>\n",
       "      <th>title</th>\n",
       "      <th>text</th>\n",
       "      <th>fstop_indices</th>\n",
       "      <th>split_indices</th>\n",
       "      <th>chunks</th>\n",
       "      <th>translator</th>\n",
       "      <th>book_title</th>\n",
       "    </tr>\n",
       "  </thead>\n",
       "  <tbody>\n",
       "    <tr>\n",
       "      <th>0</th>\n",
       "      <td>1</td>\n",
       "      <td>Wednesday Afternoon Picnic</td>\n",
       "      <td>IT WAS A  short one-paragraph item in the morn...</td>\n",
       "      <td>[57, 97, 115, 196, 318, 385, 420, 445, 504, 65...</td>\n",
       "      <td>[967, 1924, 2998, 3982, 4935, 5975, 6995, 7961...</td>\n",
       "      <td>[IT WAS A  short one-paragraph item in the mor...</td>\n",
       "      <td>Alfred Birnbaum</td>\n",
       "      <td>A Wild Sheep Chase</td>\n",
       "    </tr>\n",
       "    <tr>\n",
       "      <th>1</th>\n",
       "      <td>2</td>\n",
       "      <td>Sixteen Steps</td>\n",
       "      <td>I WAITED FOR  the compressed-air hiss of the e...</td>\n",
       "      <td>[101, 215, 252, 271, 338, 413, 468, 625, 706, ...</td>\n",
       "      <td>[965, 1976, 2982, 3963, 4966, 5989, 6994, 7905...</td>\n",
       "      <td>[I WAITED FOR  the compressed-air hiss of the ...</td>\n",
       "      <td>Alfred Birnbaum</td>\n",
       "      <td>A Wild Sheep Chase</td>\n",
       "    </tr>\n",
       "    <tr>\n",
       "      <th>2</th>\n",
       "      <td>3</td>\n",
       "      <td>The Slip</td>\n",
       "      <td>ONCE SHE WAS  gone, I downed another cola, the...</td>\n",
       "      <td>[76, 157, 246, 302, 371, 507, 543, 627, 699, 8...</td>\n",
       "      <td>[952, 1904, 2975, 3996, 4929]</td>\n",
       "      <td>[ONCE SHE WAS  gone, I downed another cola, th...</td>\n",
       "      <td>Alfred Birnbaum</td>\n",
       "      <td>A Wild Sheep Chase</td>\n",
       "    </tr>\n",
       "    <tr>\n",
       "      <th>3</th>\n",
       "      <td>4</td>\n",
       "      <td>The Whale’s Penis and the Woman with Three Occ...</td>\n",
       "      <td>TO SLEEP WITH  a woman: it can seem of the utm...</td>\n",
       "      <td>[125, 229, 420, 514, 598, 686, 788, 874, 937, ...</td>\n",
       "      <td>[937, 1988, 2967, 3981, 4994, 5949, 6936, 7995...</td>\n",
       "      <td>[TO SLEEP WITH  a woman: it can seem of the ut...</td>\n",
       "      <td>Alfred Birnbaum</td>\n",
       "      <td>A Wild Sheep Chase</td>\n",
       "    </tr>\n",
       "    <tr>\n",
       "      <th>4</th>\n",
       "      <td>5</td>\n",
       "      <td>Unblocked Ears</td>\n",
       "      <td>“ SEE WHAT I  mean?”  she said. \\n She’d becom...</td>\n",
       "      <td>[30, 84, 129, 178, 243, 314, 382, 481, 541, 56...</td>\n",
       "      <td>[965]</td>\n",
       "      <td>[“ SEE WHAT I  mean?”  she said. \\n She’d beco...</td>\n",
       "      <td>Alfred Birnbaum</td>\n",
       "      <td>A Wild Sheep Chase</td>\n",
       "    </tr>\n",
       "    <tr>\n",
       "      <th>5</th>\n",
       "      <td>6</td>\n",
       "      <td>The Further Adventures of Unblocked Ears</td>\n",
       "      <td>THE MANIFESTATION OF  her full splendor, thoug...</td>\n",
       "      <td>[67, 229, 311, 369, 415, 450, 494, 560, 631, 7...</td>\n",
       "      <td>[978, 1992, 2974, 3965, 4976]</td>\n",
       "      <td>[THE MANIFESTATION OF  her full splendor, thou...</td>\n",
       "      <td>Alfred Birnbaum</td>\n",
       "      <td>A Wild Sheep Chase</td>\n",
       "    </tr>\n",
       "    <tr>\n",
       "      <th>6</th>\n",
       "      <td>7</td>\n",
       "      <td>Before the Strange Man</td>\n",
       "      <td>THERE ARE VARIOUS  reasons why an individual m...</td>\n",
       "      <td>[151, 208, 257, 333, 441, 526, 546, 568, 684, ...</td>\n",
       "      <td>[942, 1963, 2878, 3990, 4981, 5977, 6944, 7951...</td>\n",
       "      <td>[THERE ARE VARIOUS  reasons why an individual ...</td>\n",
       "      <td>Alfred Birnbaum</td>\n",
       "      <td>A Wild Sheep Chase</td>\n",
       "    </tr>\n",
       "    <tr>\n",
       "      <th>7</th>\n",
       "      <td>8</td>\n",
       "      <td>Now the Strange Man</td>\n",
       "      <td>IT WAS ELEVEN  o’clock in the morning when the...</td>\n",
       "      <td>[55, 143, 199, 220, 238, 241, 321, 404, 443, 4...</td>\n",
       "      <td>[924, 1958, 2949, 3961, 4921, 5970, 6975, 7948...</td>\n",
       "      <td>[IT WAS ELEVEN  o’clock in the morning when th...</td>\n",
       "      <td>Alfred Birnbaum</td>\n",
       "      <td>A Wild Sheep Chase</td>\n",
       "    </tr>\n",
       "    <tr>\n",
       "      <th>8</th>\n",
       "      <td>9</td>\n",
       "      <td>“ The Boss ”</td>\n",
       "      <td>“ THAT’S THE SIZE  of it,” said my partner. \\n...</td>\n",
       "      <td>[42, 118, 185, 260, 340, 402, 557, 614, 668, 7...</td>\n",
       "      <td>[942, 1946, 2923, 3917, 4996, 5895, 6959]</td>\n",
       "      <td>[“ THAT’S THE SIZE  of it,” said my partner. \\...</td>\n",
       "      <td>Alfred Birnbaum</td>\n",
       "      <td>A Wild Sheep Chase</td>\n",
       "    </tr>\n",
       "    <tr>\n",
       "      <th>9</th>\n",
       "      <td>10</td>\n",
       "      <td>Counting Sheep</td>\n",
       "      <td>WE CAN, IF  we so choose, wander aimlessly ove...</td>\n",
       "      <td>[78, 154, 245, 317, 509, 612, 738, 763, 828, 8...</td>\n",
       "      <td>[956, 1958, 2971, 3901, 4946]</td>\n",
       "      <td>[WE CAN, IF  we so choose, wander aimlessly ov...</td>\n",
       "      <td>Alfred Birnbaum</td>\n",
       "      <td>A Wild Sheep Chase</td>\n",
       "    </tr>\n",
       "    <tr>\n",
       "      <th>10</th>\n",
       "      <td>11</td>\n",
       "      <td>The Limo and Its Driver</td>\n",
       "      <td>THE CAR CAME  at four, as promised.  Exactly o...</td>\n",
       "      <td>[34, 76, 128, 193, 237, 292, 334, 503, 587, 65...</td>\n",
       "      <td>[945, 1967, 2937, 3911, 4976]</td>\n",
       "      <td>[THE CAR CAME  at four, as promised.  Exactly ...</td>\n",
       "      <td>Alfred Birnbaum</td>\n",
       "      <td>A Wild Sheep Chase</td>\n",
       "    </tr>\n",
       "    <tr>\n",
       "      <th>11</th>\n",
       "      <td>12</td>\n",
       "      <td>Wherefore the Worm Universe</td>\n",
       "      <td>THERE ARE SYMBOLIC  dreams—dreams that symboli...</td>\n",
       "      <td>[61, 130, 215, 307, 351, 382, 460, 530, 652, 7...</td>\n",
       "      <td>[988, 1977, 2978, 3987, 4974, 5937, 6903, 7952]</td>\n",
       "      <td>[THERE ARE SYMBOLIC  dreams—dreams that symbol...</td>\n",
       "      <td>Alfred Birnbaum</td>\n",
       "      <td>A Wild Sheep Chase</td>\n",
       "    </tr>\n",
       "    <tr>\n",
       "      <th>12</th>\n",
       "      <td>13</td>\n",
       "      <td>The Rat’s First Letter</td>\n",
       "      <td>( Postmarked December 21st, One Year Ago ) \\n ...</td>\n",
       "      <td>[118, 212, 321, 480, 546, 639, 687, 802, 813, ...</td>\n",
       "      <td>[988, 1980, 2999, 3905, 4897, 5959, 6963, 7981]</td>\n",
       "      <td>[( Postmarked December 21st, One Year Ago ) \\n...</td>\n",
       "      <td>Alfred Birnbaum</td>\n",
       "      <td>A Wild Sheep Chase</td>\n",
       "    </tr>\n",
       "    <tr>\n",
       "      <th>13</th>\n",
       "      <td>14</td>\n",
       "      <td>The Rat’s Second Letter</td>\n",
       "      <td>( Postmarked May, This Year ) \\n LAST LETTER I...</td>\n",
       "      <td>[84, 133, 162, 228, 253, 280, 343, 396, 467, 5...</td>\n",
       "      <td>[994, 1892, 2981, 3911, 4944, 5982, 6995, 7967...</td>\n",
       "      <td>[( Postmarked May, This Year ) \\n LAST LETTER ...</td>\n",
       "      <td>Alfred Birnbaum</td>\n",
       "      <td>A Wild Sheep Chase</td>\n",
       "    </tr>\n",
       "    <tr>\n",
       "      <th>14</th>\n",
       "      <td>15</td>\n",
       "      <td>The Song Is Over</td>\n",
       "      <td>IT WAS JUNE  before I returned to the town. \\n...</td>\n",
       "      <td>[42, 136, 251, 311, 407, 456, 544, 658, 816, 8...</td>\n",
       "      <td>[997, 1982, 2895, 3892, 4958, 5983, 6967, 7982...</td>\n",
       "      <td>[IT WAS JUNE  before I returned to the town. \\...</td>\n",
       "      <td>Alfred Birnbaum</td>\n",
       "      <td>A Wild Sheep Chase</td>\n",
       "    </tr>\n",
       "    <tr>\n",
       "      <th>15</th>\n",
       "      <td>16</td>\n",
       "      <td>She Drinks Her Salty Dog, Talking about the So...</td>\n",
       "      <td>“ I HAVE A  letter for you,” I said. \\n “For m...</td>\n",
       "      <td>[35, 58, 190, 257, 347, 396, 484, 517, 556, 61...</td>\n",
       "      <td>[969, 1969, 2888, 3994, 4906, 5932, 6968, 7985...</td>\n",
       "      <td>[“ I HAVE A  letter for you,” I said. \\n “For ...</td>\n",
       "      <td>Alfred Birnbaum</td>\n",
       "      <td>A Wild Sheep Chase</td>\n",
       "    </tr>\n",
       "    <tr>\n",
       "      <th>16</th>\n",
       "      <td>17</td>\n",
       "      <td>The Strange Man’s Strange Tale</td>\n",
       "      <td>THE BLACK-SUITED SECRETARY  took his chair and...</td>\n",
       "      <td>[81, 208, 258, 310, 345, 485, 718, 783, 833, 8...</td>\n",
       "      <td>[937, 1987, 2996, 3983, 4999, 5985, 6998, 7917...</td>\n",
       "      <td>[THE BLACK-SUITED SECRETARY  took his chair an...</td>\n",
       "      <td>Alfred Birnbaum</td>\n",
       "      <td>A Wild Sheep Chase</td>\n",
       "    </tr>\n",
       "    <tr>\n",
       "      <th>17</th>\n",
       "      <td>18</td>\n",
       "      <td>The Strange Man’s Strange Tale Goes On</td>\n",
       "      <td>“ JUST A WHILE  ago, I made reference to your ...</td>\n",
       "      <td>[71, 114, 218, 279, 312, 380, 447, 538, 621, 6...</td>\n",
       "      <td>[981, 1973, 2998, 3949, 4912, 5940, 6998, 7939...</td>\n",
       "      <td>[“ JUST A WHILE  ago, I made reference to your...</td>\n",
       "      <td>Alfred Birnbaum</td>\n",
       "      <td>A Wild Sheep Chase</td>\n",
       "    </tr>\n",
       "    <tr>\n",
       "      <th>18</th>\n",
       "      <td>19</td>\n",
       "      <td>The Limo and Its Driver, Again</td>\n",
       "      <td>“ WILL YOU BE  returning to your office?  Or t...</td>\n",
       "      <td>[85, 180, 213, 310, 358, 454, 498, 605, 646, 7...</td>\n",
       "      <td>[960, 1953, 2984, 3906, 4974]</td>\n",
       "      <td>[“ WILL YOU BE  returning to your office?  Or ...</td>\n",
       "      <td>Alfred Birnbaum</td>\n",
       "      <td>A Wild Sheep Chase</td>\n",
       "    </tr>\n",
       "    <tr>\n",
       "      <th>19</th>\n",
       "      <td>20</td>\n",
       "      <td>Summer’s End, Autumn’s Beginning</td>\n",
       "      <td>BY THE TIME  the limousine reached its destina...</td>\n",
       "      <td>[97, 229, 321, 364, 468, 491, 589, 623, 675, 7...</td>\n",
       "      <td>[993, 1949, 2924, 3932, 4983]</td>\n",
       "      <td>[BY THE TIME  the limousine reached its destin...</td>\n",
       "      <td>Alfred Birnbaum</td>\n",
       "      <td>A Wild Sheep Chase</td>\n",
       "    </tr>\n",
       "    <tr>\n",
       "      <th>20</th>\n",
       "      <td>21</td>\n",
       "      <td>One in Five Thousand</td>\n",
       "      <td>RETURNING TO MY  apartment from the hotel bar,...</td>\n",
       "      <td>[121, 263, 329, 354, 413, 500, 563, 578, 622, ...</td>\n",
       "      <td>[986, 1996, 2968, 3976, 4961, 5999, 6905]</td>\n",
       "      <td>[RETURNING TO MY  apartment from the hotel bar...</td>\n",
       "      <td>Alfred Birnbaum</td>\n",
       "      <td>A Wild Sheep Chase</td>\n",
       "    </tr>\n",
       "    <tr>\n",
       "      <th>21</th>\n",
       "      <td>22</td>\n",
       "      <td>Sunday Afternoon Picnic</td>\n",
       "      <td>I WOKE UP  at nine in an empty bed.  No note. ...</td>\n",
       "      <td>[34, 44, 106, 163, 257, 287, 353, 393, 441, 50...</td>\n",
       "      <td>[935, 1945, 2987, 3942, 4978, 5975, 6913, 7937...</td>\n",
       "      <td>[I WOKE UP  at nine in an empty bed.  No note....</td>\n",
       "      <td>Alfred Birnbaum</td>\n",
       "      <td>A Wild Sheep Chase</td>\n",
       "    </tr>\n",
       "    <tr>\n",
       "      <th>22</th>\n",
       "      <td>23</td>\n",
       "      <td>Limited but Tenacious Thinking</td>\n",
       "      <td>AT SIX O’CLOCK , she got dressed, brushed her ...</td>\n",
       "      <td>[104, 168, 296, 326, 387, 411, 476, 536, 597, ...</td>\n",
       "      <td>[994, 1993, 2970, 3980, 4947, 5998, 6984, 7949...</td>\n",
       "      <td>[AT SIX O’CLOCK , she got dressed, brushed her...</td>\n",
       "      <td>Alfred Birnbaum</td>\n",
       "      <td>A Wild Sheep Chase</td>\n",
       "    </tr>\n",
       "    <tr>\n",
       "      <th>23</th>\n",
       "      <td>24</td>\n",
       "      <td>One for the Kipper</td>\n",
       "      <td>AT TEN IN  the morning, that ridiculous submar...</td>\n",
       "      <td>[108, 216, 303, 361, 394, 436, 503, 567, 652, ...</td>\n",
       "      <td>[924, 1998, 2926, 3897, 4998, 5918, 6987, 7963...</td>\n",
       "      <td>[AT TEN IN  the morning, that ridiculous subma...</td>\n",
       "      <td>Alfred Birnbaum</td>\n",
       "      <td>A Wild Sheep Chase</td>\n",
       "    </tr>\n",
       "    <tr>\n",
       "      <th>24</th>\n",
       "      <td>25</td>\n",
       "      <td>Transit Completed at Movie Theater; On to the ...</td>\n",
       "      <td>THE ENTIRE FLIGHT,  she sat by the window and ...</td>\n",
       "      <td>[72, 135, 232, 377, 433, 504, 540, 576, 612, 6...</td>\n",
       "      <td>[934, 1977, 2992, 3945, 4888, 5999, 6996, 7961...</td>\n",
       "      <td>[THE ENTIRE FLIGHT,  she sat by the window and...</td>\n",
       "      <td>Alfred Birnbaum</td>\n",
       "      <td>A Wild Sheep Chase</td>\n",
       "    </tr>\n",
       "    <tr>\n",
       "      <th>25</th>\n",
       "      <td>26</td>\n",
       "      <td>Enter the Sheep Professor</td>\n",
       "      <td>WE WOKE THE  next morning at eight, donned our...</td>\n",
       "      <td>[130, 173, 263, 350, 398, 420, 479, 566, 580, ...</td>\n",
       "      <td>[988, 1915, 2979, 3961, 4938, 5911, 6879, 7997...</td>\n",
       "      <td>[WE WOKE THE  next morning at eight, donned ou...</td>\n",
       "      <td>Alfred Birnbaum</td>\n",
       "      <td>A Wild Sheep Chase</td>\n",
       "    </tr>\n",
       "    <tr>\n",
       "      <th>26</th>\n",
       "      <td>27</td>\n",
       "      <td>The Sheep Professor Eats All, Tells All</td>\n",
       "      <td>ACCORDING TO HIS  Dolphin Hotel-owner son, the...</td>\n",
       "      <td>[95, 194, 259, 278, 352, 425, 501, 607, 632, 7...</td>\n",
       "      <td>[965, 1956, 2936, 3962, 4915, 5952, 6976, 7989...</td>\n",
       "      <td>[ACCORDING TO HIS  Dolphin Hotel-owner son, th...</td>\n",
       "      <td>Alfred Birnbaum</td>\n",
       "      <td>A Wild Sheep Chase</td>\n",
       "    </tr>\n",
       "    <tr>\n",
       "      <th>27</th>\n",
       "      <td>28</td>\n",
       "      <td>Farewell to the Dolphin Hotel</td>\n",
       "      <td>WE TOOK ONE  day to ready for our departure. \\...</td>\n",
       "      <td>[43, 207, 319, 394, 468, 550, 613, 677, 701, 7...</td>\n",
       "      <td>[926, 1925, 2974]</td>\n",
       "      <td>[WE TOOK ONE  day to ready for our departure. ...</td>\n",
       "      <td>Alfred Birnbaum</td>\n",
       "      <td>A Wild Sheep Chase</td>\n",
       "    </tr>\n",
       "    <tr>\n",
       "      <th>28</th>\n",
       "      <td>29</td>\n",
       "      <td>The Birth, Rise, and Fall of Junitaki Township</td>\n",
       "      <td>IT WAS AN  early morning train we took from Sa...</td>\n",
       "      <td>[64, 175, 256, 338, 517, 573, 597, 640, 749, 9...</td>\n",
       "      <td>[905, 1948, 2989, 3986, 4879, 5965, 6894, 7995...</td>\n",
       "      <td>[IT WAS AN  early morning train we took from S...</td>\n",
       "      <td>Alfred Birnbaum</td>\n",
       "      <td>A Wild Sheep Chase</td>\n",
       "    </tr>\n",
       "    <tr>\n",
       "      <th>29</th>\n",
       "      <td>30</td>\n",
       "      <td>The Further Decline of Junitaki and Its Sheep</td>\n",
       "      <td>WE CAUGHT THE  connecting train in Asahikawa a...</td>\n",
       "      <td>[193, 316, 346, 407, 662, 743, 807, 903, 946, ...</td>\n",
       "      <td>[946, 1942, 2938, 3978, 4994, 5939, 6979, 7982...</td>\n",
       "      <td>[WE CAUGHT THE  connecting train in Asahikawa ...</td>\n",
       "      <td>Alfred Birnbaum</td>\n",
       "      <td>A Wild Sheep Chase</td>\n",
       "    </tr>\n",
       "    <tr>\n",
       "      <th>30</th>\n",
       "      <td>31</td>\n",
       "      <td>Night in Junitaki</td>\n",
       "      <td>NEGOTIATIONS WITH THE  caretaker went smoothly...</td>\n",
       "      <td>[86, 207, 286, 308, 362, 481, 534, 566, 592, 6...</td>\n",
       "      <td>[940, 1861]</td>\n",
       "      <td>[NEGOTIATIONS WITH THE  caretaker went smoothl...</td>\n",
       "      <td>Alfred Birnbaum</td>\n",
       "      <td>A Wild Sheep Chase</td>\n",
       "    </tr>\n",
       "    <tr>\n",
       "      <th>31</th>\n",
       "      <td>32</td>\n",
       "      <td>An Unlucky Bend in the Road</td>\n",
       "      <td>THE MORNING WAS  hazy and cool.  I sympathized...</td>\n",
       "      <td>[30, 63, 139, 202, 259, 334, 404, 478, 514, 59...</td>\n",
       "      <td>[971, 1970, 2955, 3949, 4929, 5971, 6974, 7971...</td>\n",
       "      <td>[THE MORNING WAS  hazy and cool.  I sympathize...</td>\n",
       "      <td>Alfred Birnbaum</td>\n",
       "      <td>A Wild Sheep Chase</td>\n",
       "    </tr>\n",
       "    <tr>\n",
       "      <th>32</th>\n",
       "      <td>33</td>\n",
       "      <td>She Leaves the Mountain; Hunger Strikes</td>\n",
       "      <td>THE CLOCK STRUCK  six and I woke up on the sof...</td>\n",
       "      <td>[47, 112, 186, 230, 299, 399, 503, 549, 601, 6...</td>\n",
       "      <td>[900, 1958, 2991, 3946, 4962]</td>\n",
       "      <td>[THE CLOCK STRUCK  six and I woke up on the so...</td>\n",
       "      <td>Alfred Birnbaum</td>\n",
       "      <td>A Wild Sheep Chase</td>\n",
       "    </tr>\n",
       "    <tr>\n",
       "      <th>33</th>\n",
       "      <td>34</td>\n",
       "      <td>A Find in the Garage; Thoughts in the Middle o...</td>\n",
       "      <td>BIRDS OF A  kind I’d never seen before clung l...</td>\n",
       "      <td>[118, 165, 257, 361, 458, 497, 577, 685, 735, ...</td>\n",
       "      <td>[986, 1957, 2960, 3920, 4931]</td>\n",
       "      <td>[BIRDS OF A  kind I’d never seen before clung ...</td>\n",
       "      <td>Alfred Birnbaum</td>\n",
       "      <td>A Wild Sheep Chase</td>\n",
       "    </tr>\n",
       "    <tr>\n",
       "      <th>34</th>\n",
       "      <td>35</td>\n",
       "      <td>The Sheep Man Cometh</td>\n",
       "      <td>AS THE CLOCK  struck two, there came a knockin...</td>\n",
       "      <td>[59, 118, 168, 229, 272, 362, 476, 507, 583, 6...</td>\n",
       "      <td>[852, 1920, 2998, 3963, 4991, 5981, 6980, 7981...</td>\n",
       "      <td>[AS THE CLOCK  struck two, there came a knocki...</td>\n",
       "      <td>Alfred Birnbaum</td>\n",
       "      <td>A Wild Sheep Chase</td>\n",
       "    </tr>\n",
       "    <tr>\n",
       "      <th>35</th>\n",
       "      <td>36</td>\n",
       "      <td>The Winds’ Own Private Thoroughfare</td>\n",
       "      <td>THREE UNEVENTFUL DAYS  passed.  Not one thing ...</td>\n",
       "      <td>[29, 54, 82, 185, 242, 429, 501, 536, 564, 637...</td>\n",
       "      <td>[997, 1997, 2955, 3973, 4952, 5954, 6988, 7904...</td>\n",
       "      <td>[THREE UNEVENTFUL DAYS  passed.  Not one thing...</td>\n",
       "      <td>Alfred Birnbaum</td>\n",
       "      <td>A Wild Sheep Chase</td>\n",
       "    </tr>\n",
       "    <tr>\n",
       "      <th>36</th>\n",
       "      <td>37</td>\n",
       "      <td>Things the Mirror Shows, Things the Mirror Doe...</td>\n",
       "      <td>THE MORNING OF  the tenth day, I decided to fo...</td>\n",
       "      <td>[61, 117, 176, 249, 299, 322, 383, 503, 537, 6...</td>\n",
       "      <td>[985, 1983, 2981, 3990, 4956, 5918, 6978, 7975...</td>\n",
       "      <td>[THE MORNING OF  the tenth day, I decided to f...</td>\n",
       "      <td>Alfred Birnbaum</td>\n",
       "      <td>A Wild Sheep Chase</td>\n",
       "    </tr>\n",
       "    <tr>\n",
       "      <th>37</th>\n",
       "      <td>38</td>\n",
       "      <td>And So Time Passes</td>\n",
       "      <td>DARKNESS CREPT IN  through my ear like oil.  S...</td>\n",
       "      <td>[42, 127, 179, 214, 241, 274, 309, 343, 491, 5...</td>\n",
       "      <td>[944, 1997]</td>\n",
       "      <td>[DARKNESS CREPT IN  through my ear like oil.  ...</td>\n",
       "      <td>Alfred Birnbaum</td>\n",
       "      <td>A Wild Sheep Chase</td>\n",
       "    </tr>\n",
       "    <tr>\n",
       "      <th>38</th>\n",
       "      <td>39</td>\n",
       "      <td>Dwellers in Darkness</td>\n",
       "      <td>“ FINE BY ME ,” said I. \\n “I came an hour ear...</td>\n",
       "      <td>[22, 103, 119, 161, 189, 208, 244, 287, 387, 4...</td>\n",
       "      <td>[942, 1949, 2880, 3901, 4992, 5993]</td>\n",
       "      <td>[“ FINE BY ME ,” said I. \\n “I came an hour ea...</td>\n",
       "      <td>Alfred Birnbaum</td>\n",
       "      <td>A Wild Sheep Chase</td>\n",
       "    </tr>\n",
       "    <tr>\n",
       "      <th>39</th>\n",
       "      <td>40</td>\n",
       "      <td>The Rat Who Wound the Clock</td>\n",
       "      <td>“ I HANGED MYSELF  from a beam in the kitchen,...</td>\n",
       "      <td>[60, 106, 184, 218, 260, 322, 355, 439, 512, 6...</td>\n",
       "      <td>[992, 1979, 2980, 3933, 4988, 5995, 6986, 7994...</td>\n",
       "      <td>[“ I HANGED MYSELF  from a beam in the kitchen...</td>\n",
       "      <td>Alfred Birnbaum</td>\n",
       "      <td>A Wild Sheep Chase</td>\n",
       "    </tr>\n",
       "    <tr>\n",
       "      <th>40</th>\n",
       "      <td>41</td>\n",
       "      <td>Green Cords and Red Cords; Frozen Seagulls</td>\n",
       "      <td>AFTER THE RAT  disappeared, an unbearable cold...</td>\n",
       "      <td>[74, 148, 219, 274, 325, 421, 477, 562, 599, 6...</td>\n",
       "      <td>[984]</td>\n",
       "      <td>[AFTER THE RAT  disappeared, an unbearable col...</td>\n",
       "      <td>Alfred Birnbaum</td>\n",
       "      <td>A Wild Sheep Chase</td>\n",
       "    </tr>\n",
       "    <tr>\n",
       "      <th>41</th>\n",
       "      <td>42</td>\n",
       "      <td>Return Visit to the Unlucky Bend</td>\n",
       "      <td>BIRDS WERE SINGING . \\n Sunlight spilled in st...</td>\n",
       "      <td>[19, 96, 136, 217, 268, 315, 380, 444, 564, 61...</td>\n",
       "      <td>[959, 1998, 2992]</td>\n",
       "      <td>[BIRDS WERE SINGING . \\n Sunlight spilled in s...</td>\n",
       "      <td>Alfred Birnbaum</td>\n",
       "      <td>A Wild Sheep Chase</td>\n",
       "    </tr>\n",
       "    <tr>\n",
       "      <th>42</th>\n",
       "      <td>43</td>\n",
       "      <td>The Twelve-O’clock Rendezvous</td>\n",
       "      <td>“ I HAVE BEEN  waiting for you,” said the man ...</td>\n",
       "      <td>[63, 97, 194, 277, 338, 352, 394, 474, 532, 59...</td>\n",
       "      <td>[987, 1985, 2968, 3987, 4999]</td>\n",
       "      <td>[“ I HAVE BEEN  waiting for you,” said the man...</td>\n",
       "      <td>Alfred Birnbaum</td>\n",
       "      <td>A Wild Sheep Chase</td>\n",
       "    </tr>\n",
       "    <tr>\n",
       "      <th>43</th>\n",
       "      <td>EPILOGUE</td>\n",
       "      <td>“ IT’S ALL OVER ,” said the Sheep Professor, “...</td>\n",
       "      <td>“Over and done.” \\n “I suppose I should thank ...</td>\n",
       "      <td>[14, 48, 95, 153, 177, 202, 289, 418, 492, 534...</td>\n",
       "      <td>[929, 1984, 2996, 3928, 4974, 5948]</td>\n",
       "      <td>[“Over and done.” \\n “I suppose I should thank...</td>\n",
       "      <td>Alfred Birnbaum</td>\n",
       "      <td>A Wild Sheep Chase</td>\n",
       "    </tr>\n",
       "  </tbody>\n",
       "</table>\n",
       "</div>"
      ],
      "text/plain": [
       "      number                                              title  \\\n",
       "0          1                         Wednesday Afternoon Picnic   \n",
       "1          2                                      Sixteen Steps   \n",
       "2          3                                           The Slip   \n",
       "3          4  The Whale’s Penis and the Woman with Three Occ...   \n",
       "4          5                                     Unblocked Ears   \n",
       "5          6           The Further Adventures of Unblocked Ears   \n",
       "6          7                             Before the Strange Man   \n",
       "7          8                                Now the Strange Man   \n",
       "8          9                                       “ The Boss ”   \n",
       "9         10                                     Counting Sheep   \n",
       "10        11                            The Limo and Its Driver   \n",
       "11        12                        Wherefore the Worm Universe   \n",
       "12        13                             The Rat’s First Letter   \n",
       "13        14                            The Rat’s Second Letter   \n",
       "14        15                                   The Song Is Over   \n",
       "15        16  She Drinks Her Salty Dog, Talking about the So...   \n",
       "16        17                     The Strange Man’s Strange Tale   \n",
       "17        18             The Strange Man’s Strange Tale Goes On   \n",
       "18        19                     The Limo and Its Driver, Again   \n",
       "19        20                   Summer’s End, Autumn’s Beginning   \n",
       "20        21                               One in Five Thousand   \n",
       "21        22                            Sunday Afternoon Picnic   \n",
       "22        23                     Limited but Tenacious Thinking   \n",
       "23        24                                 One for the Kipper   \n",
       "24        25  Transit Completed at Movie Theater; On to the ...   \n",
       "25        26                          Enter the Sheep Professor   \n",
       "26        27            The Sheep Professor Eats All, Tells All   \n",
       "27        28                      Farewell to the Dolphin Hotel   \n",
       "28        29     The Birth, Rise, and Fall of Junitaki Township   \n",
       "29        30      The Further Decline of Junitaki and Its Sheep   \n",
       "30        31                                  Night in Junitaki   \n",
       "31        32                        An Unlucky Bend in the Road   \n",
       "32        33            She Leaves the Mountain; Hunger Strikes   \n",
       "33        34  A Find in the Garage; Thoughts in the Middle o...   \n",
       "34        35                               The Sheep Man Cometh   \n",
       "35        36                The Winds’ Own Private Thoroughfare   \n",
       "36        37  Things the Mirror Shows, Things the Mirror Doe...   \n",
       "37        38                                 And So Time Passes   \n",
       "38        39                               Dwellers in Darkness   \n",
       "39        40                        The Rat Who Wound the Clock   \n",
       "40        41         Green Cords and Red Cords; Frozen Seagulls   \n",
       "41        42                   Return Visit to the Unlucky Bend   \n",
       "42        43                      The Twelve-O’clock Rendezvous   \n",
       "43  EPILOGUE  “ IT’S ALL OVER ,” said the Sheep Professor, “...   \n",
       "\n",
       "                                                 text  \\\n",
       "0   IT WAS A  short one-paragraph item in the morn...   \n",
       "1   I WAITED FOR  the compressed-air hiss of the e...   \n",
       "2   ONCE SHE WAS  gone, I downed another cola, the...   \n",
       "3   TO SLEEP WITH  a woman: it can seem of the utm...   \n",
       "4   “ SEE WHAT I  mean?”  she said. \\n She’d becom...   \n",
       "5   THE MANIFESTATION OF  her full splendor, thoug...   \n",
       "6   THERE ARE VARIOUS  reasons why an individual m...   \n",
       "7   IT WAS ELEVEN  o’clock in the morning when the...   \n",
       "8   “ THAT’S THE SIZE  of it,” said my partner. \\n...   \n",
       "9   WE CAN, IF  we so choose, wander aimlessly ove...   \n",
       "10  THE CAR CAME  at four, as promised.  Exactly o...   \n",
       "11  THERE ARE SYMBOLIC  dreams—dreams that symboli...   \n",
       "12  ( Postmarked December 21st, One Year Ago ) \\n ...   \n",
       "13  ( Postmarked May, This Year ) \\n LAST LETTER I...   \n",
       "14  IT WAS JUNE  before I returned to the town. \\n...   \n",
       "15  “ I HAVE A  letter for you,” I said. \\n “For m...   \n",
       "16  THE BLACK-SUITED SECRETARY  took his chair and...   \n",
       "17  “ JUST A WHILE  ago, I made reference to your ...   \n",
       "18  “ WILL YOU BE  returning to your office?  Or t...   \n",
       "19  BY THE TIME  the limousine reached its destina...   \n",
       "20  RETURNING TO MY  apartment from the hotel bar,...   \n",
       "21  I WOKE UP  at nine in an empty bed.  No note. ...   \n",
       "22  AT SIX O’CLOCK , she got dressed, brushed her ...   \n",
       "23  AT TEN IN  the morning, that ridiculous submar...   \n",
       "24  THE ENTIRE FLIGHT,  she sat by the window and ...   \n",
       "25  WE WOKE THE  next morning at eight, donned our...   \n",
       "26  ACCORDING TO HIS  Dolphin Hotel-owner son, the...   \n",
       "27  WE TOOK ONE  day to ready for our departure. \\...   \n",
       "28  IT WAS AN  early morning train we took from Sa...   \n",
       "29  WE CAUGHT THE  connecting train in Asahikawa a...   \n",
       "30  NEGOTIATIONS WITH THE  caretaker went smoothly...   \n",
       "31  THE MORNING WAS  hazy and cool.  I sympathized...   \n",
       "32  THE CLOCK STRUCK  six and I woke up on the sof...   \n",
       "33  BIRDS OF A  kind I’d never seen before clung l...   \n",
       "34  AS THE CLOCK  struck two, there came a knockin...   \n",
       "35  THREE UNEVENTFUL DAYS  passed.  Not one thing ...   \n",
       "36  THE MORNING OF  the tenth day, I decided to fo...   \n",
       "37  DARKNESS CREPT IN  through my ear like oil.  S...   \n",
       "38  “ FINE BY ME ,” said I. \\n “I came an hour ear...   \n",
       "39  “ I HANGED MYSELF  from a beam in the kitchen,...   \n",
       "40  AFTER THE RAT  disappeared, an unbearable cold...   \n",
       "41  BIRDS WERE SINGING . \\n Sunlight spilled in st...   \n",
       "42  “ I HAVE BEEN  waiting for you,” said the man ...   \n",
       "43  “Over and done.” \\n “I suppose I should thank ...   \n",
       "\n",
       "                                        fstop_indices  \\\n",
       "0   [57, 97, 115, 196, 318, 385, 420, 445, 504, 65...   \n",
       "1   [101, 215, 252, 271, 338, 413, 468, 625, 706, ...   \n",
       "2   [76, 157, 246, 302, 371, 507, 543, 627, 699, 8...   \n",
       "3   [125, 229, 420, 514, 598, 686, 788, 874, 937, ...   \n",
       "4   [30, 84, 129, 178, 243, 314, 382, 481, 541, 56...   \n",
       "5   [67, 229, 311, 369, 415, 450, 494, 560, 631, 7...   \n",
       "6   [151, 208, 257, 333, 441, 526, 546, 568, 684, ...   \n",
       "7   [55, 143, 199, 220, 238, 241, 321, 404, 443, 4...   \n",
       "8   [42, 118, 185, 260, 340, 402, 557, 614, 668, 7...   \n",
       "9   [78, 154, 245, 317, 509, 612, 738, 763, 828, 8...   \n",
       "10  [34, 76, 128, 193, 237, 292, 334, 503, 587, 65...   \n",
       "11  [61, 130, 215, 307, 351, 382, 460, 530, 652, 7...   \n",
       "12  [118, 212, 321, 480, 546, 639, 687, 802, 813, ...   \n",
       "13  [84, 133, 162, 228, 253, 280, 343, 396, 467, 5...   \n",
       "14  [42, 136, 251, 311, 407, 456, 544, 658, 816, 8...   \n",
       "15  [35, 58, 190, 257, 347, 396, 484, 517, 556, 61...   \n",
       "16  [81, 208, 258, 310, 345, 485, 718, 783, 833, 8...   \n",
       "17  [71, 114, 218, 279, 312, 380, 447, 538, 621, 6...   \n",
       "18  [85, 180, 213, 310, 358, 454, 498, 605, 646, 7...   \n",
       "19  [97, 229, 321, 364, 468, 491, 589, 623, 675, 7...   \n",
       "20  [121, 263, 329, 354, 413, 500, 563, 578, 622, ...   \n",
       "21  [34, 44, 106, 163, 257, 287, 353, 393, 441, 50...   \n",
       "22  [104, 168, 296, 326, 387, 411, 476, 536, 597, ...   \n",
       "23  [108, 216, 303, 361, 394, 436, 503, 567, 652, ...   \n",
       "24  [72, 135, 232, 377, 433, 504, 540, 576, 612, 6...   \n",
       "25  [130, 173, 263, 350, 398, 420, 479, 566, 580, ...   \n",
       "26  [95, 194, 259, 278, 352, 425, 501, 607, 632, 7...   \n",
       "27  [43, 207, 319, 394, 468, 550, 613, 677, 701, 7...   \n",
       "28  [64, 175, 256, 338, 517, 573, 597, 640, 749, 9...   \n",
       "29  [193, 316, 346, 407, 662, 743, 807, 903, 946, ...   \n",
       "30  [86, 207, 286, 308, 362, 481, 534, 566, 592, 6...   \n",
       "31  [30, 63, 139, 202, 259, 334, 404, 478, 514, 59...   \n",
       "32  [47, 112, 186, 230, 299, 399, 503, 549, 601, 6...   \n",
       "33  [118, 165, 257, 361, 458, 497, 577, 685, 735, ...   \n",
       "34  [59, 118, 168, 229, 272, 362, 476, 507, 583, 6...   \n",
       "35  [29, 54, 82, 185, 242, 429, 501, 536, 564, 637...   \n",
       "36  [61, 117, 176, 249, 299, 322, 383, 503, 537, 6...   \n",
       "37  [42, 127, 179, 214, 241, 274, 309, 343, 491, 5...   \n",
       "38  [22, 103, 119, 161, 189, 208, 244, 287, 387, 4...   \n",
       "39  [60, 106, 184, 218, 260, 322, 355, 439, 512, 6...   \n",
       "40  [74, 148, 219, 274, 325, 421, 477, 562, 599, 6...   \n",
       "41  [19, 96, 136, 217, 268, 315, 380, 444, 564, 61...   \n",
       "42  [63, 97, 194, 277, 338, 352, 394, 474, 532, 59...   \n",
       "43  [14, 48, 95, 153, 177, 202, 289, 418, 492, 534...   \n",
       "\n",
       "                                        split_indices  \\\n",
       "0   [967, 1924, 2998, 3982, 4935, 5975, 6995, 7961...   \n",
       "1   [965, 1976, 2982, 3963, 4966, 5989, 6994, 7905...   \n",
       "2                       [952, 1904, 2975, 3996, 4929]   \n",
       "3   [937, 1988, 2967, 3981, 4994, 5949, 6936, 7995...   \n",
       "4                                               [965]   \n",
       "5                       [978, 1992, 2974, 3965, 4976]   \n",
       "6   [942, 1963, 2878, 3990, 4981, 5977, 6944, 7951...   \n",
       "7   [924, 1958, 2949, 3961, 4921, 5970, 6975, 7948...   \n",
       "8           [942, 1946, 2923, 3917, 4996, 5895, 6959]   \n",
       "9                       [956, 1958, 2971, 3901, 4946]   \n",
       "10                      [945, 1967, 2937, 3911, 4976]   \n",
       "11    [988, 1977, 2978, 3987, 4974, 5937, 6903, 7952]   \n",
       "12    [988, 1980, 2999, 3905, 4897, 5959, 6963, 7981]   \n",
       "13  [994, 1892, 2981, 3911, 4944, 5982, 6995, 7967...   \n",
       "14  [997, 1982, 2895, 3892, 4958, 5983, 6967, 7982...   \n",
       "15  [969, 1969, 2888, 3994, 4906, 5932, 6968, 7985...   \n",
       "16  [937, 1987, 2996, 3983, 4999, 5985, 6998, 7917...   \n",
       "17  [981, 1973, 2998, 3949, 4912, 5940, 6998, 7939...   \n",
       "18                      [960, 1953, 2984, 3906, 4974]   \n",
       "19                      [993, 1949, 2924, 3932, 4983]   \n",
       "20          [986, 1996, 2968, 3976, 4961, 5999, 6905]   \n",
       "21  [935, 1945, 2987, 3942, 4978, 5975, 6913, 7937...   \n",
       "22  [994, 1993, 2970, 3980, 4947, 5998, 6984, 7949...   \n",
       "23  [924, 1998, 2926, 3897, 4998, 5918, 6987, 7963...   \n",
       "24  [934, 1977, 2992, 3945, 4888, 5999, 6996, 7961...   \n",
       "25  [988, 1915, 2979, 3961, 4938, 5911, 6879, 7997...   \n",
       "26  [965, 1956, 2936, 3962, 4915, 5952, 6976, 7989...   \n",
       "27                                  [926, 1925, 2974]   \n",
       "28  [905, 1948, 2989, 3986, 4879, 5965, 6894, 7995...   \n",
       "29  [946, 1942, 2938, 3978, 4994, 5939, 6979, 7982...   \n",
       "30                                        [940, 1861]   \n",
       "31  [971, 1970, 2955, 3949, 4929, 5971, 6974, 7971...   \n",
       "32                      [900, 1958, 2991, 3946, 4962]   \n",
       "33                      [986, 1957, 2960, 3920, 4931]   \n",
       "34  [852, 1920, 2998, 3963, 4991, 5981, 6980, 7981...   \n",
       "35  [997, 1997, 2955, 3973, 4952, 5954, 6988, 7904...   \n",
       "36  [985, 1983, 2981, 3990, 4956, 5918, 6978, 7975...   \n",
       "37                                        [944, 1997]   \n",
       "38                [942, 1949, 2880, 3901, 4992, 5993]   \n",
       "39  [992, 1979, 2980, 3933, 4988, 5995, 6986, 7994...   \n",
       "40                                              [984]   \n",
       "41                                  [959, 1998, 2992]   \n",
       "42                      [987, 1985, 2968, 3987, 4999]   \n",
       "43                [929, 1984, 2996, 3928, 4974, 5948]   \n",
       "\n",
       "                                               chunks       translator  \\\n",
       "0   [IT WAS A  short one-paragraph item in the mor...  Alfred Birnbaum   \n",
       "1   [I WAITED FOR  the compressed-air hiss of the ...  Alfred Birnbaum   \n",
       "2   [ONCE SHE WAS  gone, I downed another cola, th...  Alfred Birnbaum   \n",
       "3   [TO SLEEP WITH  a woman: it can seem of the ut...  Alfred Birnbaum   \n",
       "4   [“ SEE WHAT I  mean?”  she said. \\n She’d beco...  Alfred Birnbaum   \n",
       "5   [THE MANIFESTATION OF  her full splendor, thou...  Alfred Birnbaum   \n",
       "6   [THERE ARE VARIOUS  reasons why an individual ...  Alfred Birnbaum   \n",
       "7   [IT WAS ELEVEN  o’clock in the morning when th...  Alfred Birnbaum   \n",
       "8   [“ THAT’S THE SIZE  of it,” said my partner. \\...  Alfred Birnbaum   \n",
       "9   [WE CAN, IF  we so choose, wander aimlessly ov...  Alfred Birnbaum   \n",
       "10  [THE CAR CAME  at four, as promised.  Exactly ...  Alfred Birnbaum   \n",
       "11  [THERE ARE SYMBOLIC  dreams—dreams that symbol...  Alfred Birnbaum   \n",
       "12  [( Postmarked December 21st, One Year Ago ) \\n...  Alfred Birnbaum   \n",
       "13  [( Postmarked May, This Year ) \\n LAST LETTER ...  Alfred Birnbaum   \n",
       "14  [IT WAS JUNE  before I returned to the town. \\...  Alfred Birnbaum   \n",
       "15  [“ I HAVE A  letter for you,” I said. \\n “For ...  Alfred Birnbaum   \n",
       "16  [THE BLACK-SUITED SECRETARY  took his chair an...  Alfred Birnbaum   \n",
       "17  [“ JUST A WHILE  ago, I made reference to your...  Alfred Birnbaum   \n",
       "18  [“ WILL YOU BE  returning to your office?  Or ...  Alfred Birnbaum   \n",
       "19  [BY THE TIME  the limousine reached its destin...  Alfred Birnbaum   \n",
       "20  [RETURNING TO MY  apartment from the hotel bar...  Alfred Birnbaum   \n",
       "21  [I WOKE UP  at nine in an empty bed.  No note....  Alfred Birnbaum   \n",
       "22  [AT SIX O’CLOCK , she got dressed, brushed her...  Alfred Birnbaum   \n",
       "23  [AT TEN IN  the morning, that ridiculous subma...  Alfred Birnbaum   \n",
       "24  [THE ENTIRE FLIGHT,  she sat by the window and...  Alfred Birnbaum   \n",
       "25  [WE WOKE THE  next morning at eight, donned ou...  Alfred Birnbaum   \n",
       "26  [ACCORDING TO HIS  Dolphin Hotel-owner son, th...  Alfred Birnbaum   \n",
       "27  [WE TOOK ONE  day to ready for our departure. ...  Alfred Birnbaum   \n",
       "28  [IT WAS AN  early morning train we took from S...  Alfred Birnbaum   \n",
       "29  [WE CAUGHT THE  connecting train in Asahikawa ...  Alfred Birnbaum   \n",
       "30  [NEGOTIATIONS WITH THE  caretaker went smoothl...  Alfred Birnbaum   \n",
       "31  [THE MORNING WAS  hazy and cool.  I sympathize...  Alfred Birnbaum   \n",
       "32  [THE CLOCK STRUCK  six and I woke up on the so...  Alfred Birnbaum   \n",
       "33  [BIRDS OF A  kind I’d never seen before clung ...  Alfred Birnbaum   \n",
       "34  [AS THE CLOCK  struck two, there came a knocki...  Alfred Birnbaum   \n",
       "35  [THREE UNEVENTFUL DAYS  passed.  Not one thing...  Alfred Birnbaum   \n",
       "36  [THE MORNING OF  the tenth day, I decided to f...  Alfred Birnbaum   \n",
       "37  [DARKNESS CREPT IN  through my ear like oil.  ...  Alfred Birnbaum   \n",
       "38  [“ FINE BY ME ,” said I. \\n “I came an hour ea...  Alfred Birnbaum   \n",
       "39  [“ I HANGED MYSELF  from a beam in the kitchen...  Alfred Birnbaum   \n",
       "40  [AFTER THE RAT  disappeared, an unbearable col...  Alfred Birnbaum   \n",
       "41  [BIRDS WERE SINGING . \\n Sunlight spilled in s...  Alfred Birnbaum   \n",
       "42  [“ I HAVE BEEN  waiting for you,” said the man...  Alfred Birnbaum   \n",
       "43  [“Over and done.” \\n “I suppose I should thank...  Alfred Birnbaum   \n",
       "\n",
       "            book_title  \n",
       "0   A Wild Sheep Chase  \n",
       "1   A Wild Sheep Chase  \n",
       "2   A Wild Sheep Chase  \n",
       "3   A Wild Sheep Chase  \n",
       "4   A Wild Sheep Chase  \n",
       "5   A Wild Sheep Chase  \n",
       "6   A Wild Sheep Chase  \n",
       "7   A Wild Sheep Chase  \n",
       "8   A Wild Sheep Chase  \n",
       "9   A Wild Sheep Chase  \n",
       "10  A Wild Sheep Chase  \n",
       "11  A Wild Sheep Chase  \n",
       "12  A Wild Sheep Chase  \n",
       "13  A Wild Sheep Chase  \n",
       "14  A Wild Sheep Chase  \n",
       "15  A Wild Sheep Chase  \n",
       "16  A Wild Sheep Chase  \n",
       "17  A Wild Sheep Chase  \n",
       "18  A Wild Sheep Chase  \n",
       "19  A Wild Sheep Chase  \n",
       "20  A Wild Sheep Chase  \n",
       "21  A Wild Sheep Chase  \n",
       "22  A Wild Sheep Chase  \n",
       "23  A Wild Sheep Chase  \n",
       "24  A Wild Sheep Chase  \n",
       "25  A Wild Sheep Chase  \n",
       "26  A Wild Sheep Chase  \n",
       "27  A Wild Sheep Chase  \n",
       "28  A Wild Sheep Chase  \n",
       "29  A Wild Sheep Chase  \n",
       "30  A Wild Sheep Chase  \n",
       "31  A Wild Sheep Chase  \n",
       "32  A Wild Sheep Chase  \n",
       "33  A Wild Sheep Chase  \n",
       "34  A Wild Sheep Chase  \n",
       "35  A Wild Sheep Chase  \n",
       "36  A Wild Sheep Chase  \n",
       "37  A Wild Sheep Chase  \n",
       "38  A Wild Sheep Chase  \n",
       "39  A Wild Sheep Chase  \n",
       "40  A Wild Sheep Chase  \n",
       "41  A Wild Sheep Chase  \n",
       "42  A Wild Sheep Chase  \n",
       "43  A Wild Sheep Chase  "
      ]
     },
     "execution_count": 53,
     "metadata": {},
     "output_type": "execute_result"
    }
   ],
   "source": [
    "read_wsc"
   ]
  },
  {
   "cell_type": "markdown",
   "metadata": {},
   "source": [
    "### Initial cleaning and preparation of 'Dance Dance Dance' Text"
   ]
  },
  {
   "cell_type": "code",
   "execution_count": 54,
   "metadata": {
    "ExecuteTime": {
     "end_time": "2020-05-31T10:01:11.385994Z",
     "start_time": "2020-05-31T10:01:11.382116Z"
    }
   },
   "outputs": [],
   "source": [
    "ddd = books['full_text'].iloc[7]"
   ]
  },
  {
   "cell_type": "code",
   "execution_count": 58,
   "metadata": {
    "ExecuteTime": {
     "end_time": "2020-05-31T10:05:23.396996Z",
     "start_time": "2020-05-31T10:05:23.390445Z"
    }
   },
   "outputs": [
    {
     "data": {
      "text/plain": [
       "56"
      ]
     },
     "execution_count": 58,
     "metadata": {},
     "output_type": "execute_result"
    }
   ],
   "source": [
    "len(ddd)"
   ]
  },
  {
   "cell_type": "markdown",
   "metadata": {},
   "source": [
    "Selecting text from within list by manula check"
   ]
  },
  {
   "cell_type": "code",
   "execution_count": 59,
   "metadata": {
    "ExecuteTime": {
     "end_time": "2020-05-31T10:06:44.121813Z",
     "start_time": "2020-05-31T10:06:44.115717Z"
    }
   },
   "outputs": [
    {
     "data": {
      "text/plain": [
       "'\\n I OFTEN DREAM  about the Dol'"
      ]
     },
     "execution_count": 59,
     "metadata": {},
     "output_type": "execute_result"
    }
   ],
   "source": [
    "ddd[7][:30]"
   ]
  },
  {
   "cell_type": "code",
   "execution_count": 60,
   "metadata": {
    "ExecuteTime": {
     "end_time": "2020-05-31T10:07:06.955666Z",
     "start_time": "2020-05-31T10:07:06.948866Z"
    }
   },
   "outputs": [
    {
     "data": {
      "text/plain": [
       "'ispered.  “It’s morning.” \\n \\n '"
      ]
     },
     "execution_count": 60,
     "metadata": {},
     "output_type": "execute_result"
    }
   ],
   "source": [
    "ddd[50][-30:]"
   ]
  },
  {
   "cell_type": "code",
   "execution_count": 61,
   "metadata": {
    "ExecuteTime": {
     "end_time": "2020-05-31T10:07:16.533597Z",
     "start_time": "2020-05-31T10:07:16.529319Z"
    }
   },
   "outputs": [],
   "source": [
    "ch_texts = ddd[7:51]"
   ]
  },
  {
   "cell_type": "markdown",
   "metadata": {},
   "source": [
    "* No chapter titles available in the actual text so create them using counters\n",
    "* Run similar splitting on full stops and add columnsa as before"
   ]
  },
  {
   "cell_type": "code",
   "execution_count": 80,
   "metadata": {
    "ExecuteTime": {
     "end_time": "2020-05-31T10:15:15.586786Z",
     "start_time": "2020-05-31T10:15:15.398936Z"
    }
   },
   "outputs": [],
   "source": [
    "ch_nos = range(1,45)\n",
    "ch_titles = range(1,45)\n",
    "chapters = pd.DataFrame({'number': ch_nos, 'title': ch_titles, 'text': ch_texts})\n",
    "chapters['fstop_indices'] = chapters['text'].apply(lambda x: fs_indexer(x))\n",
    "chapters['split_indices'] = chapters['text'].apply(lambda x: split_indexer(x))\n",
    "chapters['chunks'] = chapters['text'].apply(lambda x: text_chunker(x))\n",
    "chapters['translator'] = 'Alfred Birnbaum'\n",
    "chapters['book_title'] = 'Dance Dance Dance'"
   ]
  },
  {
   "cell_type": "code",
   "execution_count": 81,
   "metadata": {
    "ExecuteTime": {
     "end_time": "2020-05-31T10:15:16.806942Z",
     "start_time": "2020-05-31T10:15:16.781531Z"
    }
   },
   "outputs": [
    {
     "data": {
      "text/html": [
       "<div>\n",
       "<style scoped>\n",
       "    .dataframe tbody tr th:only-of-type {\n",
       "        vertical-align: middle;\n",
       "    }\n",
       "\n",
       "    .dataframe tbody tr th {\n",
       "        vertical-align: top;\n",
       "    }\n",
       "\n",
       "    .dataframe thead th {\n",
       "        text-align: right;\n",
       "    }\n",
       "</style>\n",
       "<table border=\"1\" class=\"dataframe\">\n",
       "  <thead>\n",
       "    <tr style=\"text-align: right;\">\n",
       "      <th></th>\n",
       "      <th>number</th>\n",
       "      <th>title</th>\n",
       "      <th>text</th>\n",
       "      <th>fstop_indices</th>\n",
       "      <th>split_indices</th>\n",
       "      <th>chunks</th>\n",
       "      <th>translator</th>\n",
       "      <th>book_title</th>\n",
       "    </tr>\n",
       "  </thead>\n",
       "  <tbody>\n",
       "    <tr>\n",
       "      <th>0</th>\n",
       "      <td>1</td>\n",
       "      <td>1</td>\n",
       "      <td>\\n I OFTEN DREAM  about the Dolphin Hotel. \\n ...</td>\n",
       "      <td>[40, 119, 182, 233, 277, 322, 360, 396, 421, 4...</td>\n",
       "      <td>[881, 1974, 2990, 3882, 4988, 5962, 6982, 7990...</td>\n",
       "      <td>[\\n I OFTEN DREAM  about the Dolphin Hotel. \\n...</td>\n",
       "      <td>Alfred Birnbaum</td>\n",
       "      <td>Dance Dance Dance</td>\n",
       "    </tr>\n",
       "    <tr>\n",
       "      <th>1</th>\n",
       "      <td>2</td>\n",
       "      <td>2</td>\n",
       "      <td>\\n I GOT SENT  to Hokkaido on assignment.  As ...</td>\n",
       "      <td>[39, 121, 208, 314, 519, 605, 660, 736, 781, 8...</td>\n",
       "      <td>[995, 1977, 2983, 3986, 4999, 5949, 6950]</td>\n",
       "      <td>[\\n I GOT SENT  to Hokkaido on assignment.  As...</td>\n",
       "      <td>Alfred Birnbaum</td>\n",
       "      <td>Dance Dance Dance</td>\n",
       "    </tr>\n",
       "    <tr>\n",
       "      <th>2</th>\n",
       "      <td>3</td>\n",
       "      <td>3</td>\n",
       "      <td>\\n IT TAKES NO  great effort to find work in t...</td>\n",
       "      <td>[95, 161, 287, 368, 407, 459, 497, 558, 596, 6...</td>\n",
       "      <td>[945, 1969, 2946, 3985, 4976, 5994, 6958, 7840]</td>\n",
       "      <td>[\\n IT TAKES NO  great effort to find work in ...</td>\n",
       "      <td>Alfred Birnbaum</td>\n",
       "      <td>Dance Dance Dance</td>\n",
       "    </tr>\n",
       "    <tr>\n",
       "      <th>3</th>\n",
       "      <td>4</td>\n",
       "      <td>4</td>\n",
       "      <td>\\n I BOOKED A  taxi for two days, and the phot...</td>\n",
       "      <td>[127, 187, 282, 299, 428, 505, 597, 723, 784, ...</td>\n",
       "      <td>[979, 1960, 2993, 3999, 4943, 5959, 6979, 7964...</td>\n",
       "      <td>[\\n I BOOKED A  taxi for two days, and the pho...</td>\n",
       "      <td>Alfred Birnbaum</td>\n",
       "      <td>Dance Dance Dance</td>\n",
       "    </tr>\n",
       "    <tr>\n",
       "      <th>4</th>\n",
       "      <td>5</td>\n",
       "      <td>5</td>\n",
       "      <td>\\n I COULDN’T STAND  around gawking at the faç...</td>\n",
       "      <td>[56, 145, 222, 321, 407, 502, 634, 649, 747, 8...</td>\n",
       "      <td>[877, 1975, 2889, 3971, 4904, 5992, 6983, 7952...</td>\n",
       "      <td>[\\n I COULDN’T STAND  around gawking at the fa...</td>\n",
       "      <td>Alfred Birnbaum</td>\n",
       "      <td>Dance Dance Dance</td>\n",
       "    </tr>\n",
       "  </tbody>\n",
       "</table>\n",
       "</div>"
      ],
      "text/plain": [
       "   number  title                                               text  \\\n",
       "0       1      1  \\n I OFTEN DREAM  about the Dolphin Hotel. \\n ...   \n",
       "1       2      2  \\n I GOT SENT  to Hokkaido on assignment.  As ...   \n",
       "2       3      3  \\n IT TAKES NO  great effort to find work in t...   \n",
       "3       4      4  \\n I BOOKED A  taxi for two days, and the phot...   \n",
       "4       5      5  \\n I COULDN’T STAND  around gawking at the faç...   \n",
       "\n",
       "                                       fstop_indices  \\\n",
       "0  [40, 119, 182, 233, 277, 322, 360, 396, 421, 4...   \n",
       "1  [39, 121, 208, 314, 519, 605, 660, 736, 781, 8...   \n",
       "2  [95, 161, 287, 368, 407, 459, 497, 558, 596, 6...   \n",
       "3  [127, 187, 282, 299, 428, 505, 597, 723, 784, ...   \n",
       "4  [56, 145, 222, 321, 407, 502, 634, 649, 747, 8...   \n",
       "\n",
       "                                       split_indices  \\\n",
       "0  [881, 1974, 2990, 3882, 4988, 5962, 6982, 7990...   \n",
       "1          [995, 1977, 2983, 3986, 4999, 5949, 6950]   \n",
       "2    [945, 1969, 2946, 3985, 4976, 5994, 6958, 7840]   \n",
       "3  [979, 1960, 2993, 3999, 4943, 5959, 6979, 7964...   \n",
       "4  [877, 1975, 2889, 3971, 4904, 5992, 6983, 7952...   \n",
       "\n",
       "                                              chunks       translator  \\\n",
       "0  [\\n I OFTEN DREAM  about the Dolphin Hotel. \\n...  Alfred Birnbaum   \n",
       "1  [\\n I GOT SENT  to Hokkaido on assignment.  As...  Alfred Birnbaum   \n",
       "2  [\\n IT TAKES NO  great effort to find work in ...  Alfred Birnbaum   \n",
       "3  [\\n I BOOKED A  taxi for two days, and the pho...  Alfred Birnbaum   \n",
       "4  [\\n I COULDN’T STAND  around gawking at the fa...  Alfred Birnbaum   \n",
       "\n",
       "          book_title  \n",
       "0  Dance Dance Dance  \n",
       "1  Dance Dance Dance  \n",
       "2  Dance Dance Dance  \n",
       "3  Dance Dance Dance  \n",
       "4  Dance Dance Dance  "
      ]
     },
     "execution_count": 81,
     "metadata": {},
     "output_type": "execute_result"
    }
   ],
   "source": [
    "chapters.head()"
   ]
  },
  {
   "cell_type": "code",
   "execution_count": 82,
   "metadata": {
    "ExecuteTime": {
     "end_time": "2020-05-31T10:15:22.606528Z",
     "start_time": "2020-05-31T10:15:22.312586Z"
    }
   },
   "outputs": [
    {
     "data": {
      "image/png": "[encoded data removed]",
      "text/plain": [
       "<Figure size 432x288 with 1 Axes>"
      ]
     },
     "metadata": {
      "image/png": {
       "height": 256,
       "width": 386
      },
      "needs_background": "light"
     },
     "output_type": "display_data"
    }
   ],
   "source": [
    "lengths = []\n",
    "for chapter in chapters['chunks']:\n",
    "    for chunk in chapter:\n",
    "        lengths.append(len(chunk))\n",
    "plt.hist(lengths, bins=20);"
   ]
  },
  {
   "cell_type": "code",
   "execution_count": 83,
   "metadata": {
    "ExecuteTime": {
     "end_time": "2020-05-31T10:15:54.555769Z",
     "start_time": "2020-05-31T10:15:54.549655Z"
    }
   },
   "outputs": [
    {
     "data": {
      "text/plain": [
       "650"
      ]
     },
     "execution_count": 83,
     "metadata": {},
     "output_type": "execute_result"
    }
   ],
   "source": [
    "len(lengths)"
   ]
  },
  {
   "cell_type": "code",
   "execution_count": 84,
   "metadata": {
    "ExecuteTime": {
     "end_time": "2020-05-31T10:15:55.174449Z",
     "start_time": "2020-05-31T10:15:55.169570Z"
    }
   },
   "outputs": [],
   "source": [
    "out_path = '../../../../Documents/murakami/pkl2/'\n",
    "out_name = 'ddd_birnbaum_v01'\n",
    "out_full_path = out_path + out_name + '.pkl'"
   ]
  },
  {
   "cell_type": "code",
   "execution_count": 85,
   "metadata": {
    "ExecuteTime": {
     "end_time": "2020-05-31T10:15:57.401263Z",
     "start_time": "2020-05-31T10:15:57.389026Z"
    }
   },
   "outputs": [],
   "source": [
    "# save pickle\n",
    "with open(out_full_path, 'wb') as fp:\n",
    "    pickle.dump(chapters, fp)\n",
    "\n",
    "\n",
    "# # read back pickle\n",
    "# with open (out_full_path, 'rb') as fp:\n",
    "#     read_ddd = pickle.load(fp)"
   ]
  },
  {
   "cell_type": "code",
   "execution_count": 86,
   "metadata": {
    "ExecuteTime": {
     "end_time": "2020-05-31T10:15:59.969095Z",
     "start_time": "2020-05-31T10:15:59.965852Z"
    }
   },
   "outputs": [],
   "source": [
    "# read_ddd.head()"
   ]
  },
  {
   "cell_type": "markdown",
   "metadata": {},
   "source": [
    "### Initial cleaning and preparation of 'Kafka On The Shore' Text"
   ]
  },
  {
   "cell_type": "code",
   "execution_count": 116,
   "metadata": {
    "ExecuteTime": {
     "end_time": "2020-05-31T10:28:59.158441Z",
     "start_time": "2020-05-31T10:28:59.153959Z"
    }
   },
   "outputs": [],
   "source": [
    "kots = books['full_text'].iloc[4]"
   ]
  },
  {
   "cell_type": "code",
   "execution_count": 117,
   "metadata": {
    "ExecuteTime": {
     "end_time": "2020-05-31T10:28:59.531031Z",
     "start_time": "2020-05-31T10:28:59.515290Z"
    }
   },
   "outputs": [
    {
     "data": {
      "text/plain": [
       "53"
      ]
     },
     "execution_count": 117,
     "metadata": {},
     "output_type": "execute_result"
    }
   ],
   "source": [
    "len(kots)"
   ]
  },
  {
   "cell_type": "code",
   "execution_count": 118,
   "metadata": {
    "ExecuteTime": {
     "end_time": "2020-05-31T10:28:59.958356Z",
     "start_time": "2020-05-31T10:28:59.951826Z"
    }
   },
   "outputs": [],
   "source": [
    "texts = [ch for i, ch in enumerate(kots) if i not in [0,2]]"
   ]
  },
  {
   "cell_type": "code",
   "execution_count": 119,
   "metadata": {
    "ExecuteTime": {
     "end_time": "2020-05-31T10:29:00.527259Z",
     "start_time": "2020-05-31T10:29:00.488174Z"
    }
   },
   "outputs": [],
   "source": [
    "pattern1 = re.compile(r'\\n ([\\w\\d\\s]+) \\n ([\\w\\W]+)')\n",
    "pattern2 = re.compile(r'\\n [\\w]+ ([\\d]+) \\n [\\w\\W]+')\n",
    "\n",
    "ch_nos = []\n",
    "ch_titles = []\n",
    "ch_texts = []\n",
    "\n",
    "for t in range(0,len(texts)):\n",
    "#     print(t)\n",
    "    out1 = re.findall(pattern1, texts[t])\n",
    "    out2 = re.findall(pattern2, texts[t])\n",
    "#     print(len(out2))\n",
    "    if len(out2) > 0:\n",
    "        ch_nos.append(out2[0])\n",
    "        ch_titles.append(out1[0][0])\n",
    "        ch_texts.append(out1[0][1])\n",
    "    else:\n",
    "        ch_nos.append(None)\n",
    "        ch_titles.append(out1[0][0])\n",
    "        ch_texts.append(out1[0][1])"
   ]
  },
  {
   "cell_type": "code",
   "execution_count": 127,
   "metadata": {
    "ExecuteTime": {
     "end_time": "2020-05-31T10:32:39.492142Z",
     "start_time": "2020-05-31T10:32:39.213714Z"
    }
   },
   "outputs": [
    {
     "data": {
      "text/html": [
       "<div>\n",
       "<style scoped>\n",
       "    .dataframe tbody tr th:only-of-type {\n",
       "        vertical-align: middle;\n",
       "    }\n",
       "\n",
       "    .dataframe tbody tr th {\n",
       "        vertical-align: top;\n",
       "    }\n",
       "\n",
       "    .dataframe thead th {\n",
       "        text-align: right;\n",
       "    }\n",
       "</style>\n",
       "<table border=\"1\" class=\"dataframe\">\n",
       "  <thead>\n",
       "    <tr style=\"text-align: right;\">\n",
       "      <th></th>\n",
       "      <th>number</th>\n",
       "      <th>title</th>\n",
       "      <th>text</th>\n",
       "      <th>fstop_indices</th>\n",
       "      <th>split_indices</th>\n",
       "      <th>chunks</th>\n",
       "      <th>translator</th>\n",
       "      <th>book_title</th>\n",
       "    </tr>\n",
       "  </thead>\n",
       "  <tbody>\n",
       "    <tr>\n",
       "      <th>1</th>\n",
       "      <td>1</td>\n",
       "      <td>Chapter 1</td>\n",
       "      <td>Cash isn't the only thing I take from my fathe...</td>\n",
       "      <td>[73, 186, 247, 304, 368, 418, 490, 564, 675, 7...</td>\n",
       "      <td>[898, 1995, 2985, 3931, 4933, 5923, 6938, 7978...</td>\n",
       "      <td>[Cash isn't the only thing I take from my fath...</td>\n",
       "      <td>Philip Gabriel</td>\n",
       "      <td>Kafka On The Shore</td>\n",
       "    </tr>\n",
       "    <tr>\n",
       "      <th>2</th>\n",
       "      <td>2</td>\n",
       "      <td>Chapter 2</td>\n",
       "      <td>The following document, classified Top Secret ...</td>\n",
       "      <td>[54, 56, 154, 222, 224, 252, 342, 375, 535, 57...</td>\n",
       "      <td>[878, 1901, 2996, 3947, 4936, 5847, 6928, 7936...</td>\n",
       "      <td>[The following document, classified Top Secret...</td>\n",
       "      <td>Philip Gabriel</td>\n",
       "      <td>Kafka On The Shore</td>\n",
       "    </tr>\n",
       "    <tr>\n",
       "      <th>3</th>\n",
       "      <td>3</td>\n",
       "      <td>Chapter 3</td>\n",
       "      <td>It's nearly dawn when I wake up. I draw the cu...</td>\n",
       "      <td>[31, 72, 149, 230, 283, 312, 422, 553, 644, 68...</td>\n",
       "      <td>[982, 1949, 2758, 3877, 4974, 5952, 6982, 7986...</td>\n",
       "      <td>[It's nearly dawn when I wake up. I draw the c...</td>\n",
       "      <td>Philip Gabriel</td>\n",
       "      <td>Kafka On The Shore</td>\n",
       "    </tr>\n",
       "    <tr>\n",
       "      <th>4</th>\n",
       "      <td>4</td>\n",
       "      <td>Chapter 4</td>\n",
       "      <td>U.S. ARMY INTELLIGENCE SECTION (MIS) REPORT \\n...</td>\n",
       "      <td>[1, 3, 322, 422, 461, 576, 664, 754, 784, 786,...</td>\n",
       "      <td>[989, 1967, 2950, 3983, 4907, 5960, 6955, 7944...</td>\n",
       "      <td>[U.S. ARMY INTELLIGENCE SECTION (MIS) REPORT \\...</td>\n",
       "      <td>Philip Gabriel</td>\n",
       "      <td>Kafka On The Shore</td>\n",
       "    </tr>\n",
       "    <tr>\n",
       "      <th>5</th>\n",
       "      <td>5</td>\n",
       "      <td>Chapter 5</td>\n",
       "      <td>I'm asleep when our bus drives across the huge...</td>\n",
       "      <td>[77, 162, 217, 253, 329, 421, 465, 559, 582, 5...</td>\n",
       "      <td>[979, 1980, 2983, 3987, 4922, 5957, 6952, 7958...</td>\n",
       "      <td>[I'm asleep when our bus drives across the hug...</td>\n",
       "      <td>Philip Gabriel</td>\n",
       "      <td>Kafka On The Shore</td>\n",
       "    </tr>\n",
       "    <tr>\n",
       "      <th>6</th>\n",
       "      <td>6</td>\n",
       "      <td>Chapter 6</td>\n",
       "      <td>Hello there,\" the old man called out. \\n The l...</td>\n",
       "      <td>[36, 147, 193, 216, 243, 249, 250, 251, 271, 3...</td>\n",
       "      <td>[971, 1951, 2976, 3923, 4927, 5921, 6963, 7948...</td>\n",
       "      <td>[Hello there,\" the old man called out. \\n The ...</td>\n",
       "      <td>Philip Gabriel</td>\n",
       "      <td>Kafka On The Shore</td>\n",
       "    </tr>\n",
       "    <tr>\n",
       "      <th>7</th>\n",
       "      <td>7</td>\n",
       "      <td>Chapter 7</td>\n",
       "      <td>At seven-fifteen I eat breakfast in the restau...</td>\n",
       "      <td>[98, 165, 228, 298, 320, 378, 415, 511, 582, 6...</td>\n",
       "      <td>[948, 1907, 2982, 3928, 4921, 5973, 6997, 7999...</td>\n",
       "      <td>[At seven-fifteen I eat breakfast in the resta...</td>\n",
       "      <td>Philip Gabriel</td>\n",
       "      <td>Kafka On The Shore</td>\n",
       "    </tr>\n",
       "    <tr>\n",
       "      <th>8</th>\n",
       "      <td>8</td>\n",
       "      <td>\\n Chapter 8</td>\n",
       "      <td>U.S. ARMY INTELLIGENCE SECTION (MIS) REPORT \\n...</td>\n",
       "      <td>[1, 3, 433, 537, 579, 618, 757, 869, 977, 1064...</td>\n",
       "      <td>[977, 1856, 2913, 3948, 4993, 5975, 6993, 7943...</td>\n",
       "      <td>[U.S. ARMY INTELLIGENCE SECTION (MIS) REPORT \\...</td>\n",
       "      <td>Philip Gabriel</td>\n",
       "      <td>Kafka On The Shore</td>\n",
       "    </tr>\n",
       "    <tr>\n",
       "      <th>9</th>\n",
       "      <td>9</td>\n",
       "      <td>Chapter 9</td>\n",
       "      <td>When I come to I'm in thick brush, lying there...</td>\n",
       "      <td>[79, 114, 247, 298, 357, 422, 493, 568, 615, 7...</td>\n",
       "      <td>[937, 1998, 2979, 3968, 4967, 5955, 6955, 7960...</td>\n",
       "      <td>[When I come to I'm in thick brush, lying ther...</td>\n",
       "      <td>Philip Gabriel</td>\n",
       "      <td>Kafka On The Shore</td>\n",
       "    </tr>\n",
       "    <tr>\n",
       "      <th>10</th>\n",
       "      <td>10</td>\n",
       "      <td>Chapter 10</td>\n",
       "      <td>Is it all right, then, if Nakata calls you Kaw...</td>\n",
       "      <td>[178, 302, 356, 444, 486, 532, 597, 632, 666, ...</td>\n",
       "      <td>[954, 1913, 2986, 3937, 4946, 5993, 6978, 7964...</td>\n",
       "      <td>[Is it all right, then, if Nakata calls you Ka...</td>\n",
       "      <td>Philip Gabriel</td>\n",
       "      <td>Kafka On The Shore</td>\n",
       "    </tr>\n",
       "  </tbody>\n",
       "</table>\n",
       "</div>"
      ],
      "text/plain": [
       "   number         title                                               text  \\\n",
       "1       1     Chapter 1  Cash isn't the only thing I take from my fathe...   \n",
       "2       2     Chapter 2  The following document, classified Top Secret ...   \n",
       "3       3     Chapter 3  It's nearly dawn when I wake up. I draw the cu...   \n",
       "4       4     Chapter 4  U.S. ARMY INTELLIGENCE SECTION (MIS) REPORT \\n...   \n",
       "5       5     Chapter 5  I'm asleep when our bus drives across the huge...   \n",
       "6       6     Chapter 6  Hello there,\" the old man called out. \\n The l...   \n",
       "7       7     Chapter 7  At seven-fifteen I eat breakfast in the restau...   \n",
       "8       8  \\n Chapter 8  U.S. ARMY INTELLIGENCE SECTION (MIS) REPORT \\n...   \n",
       "9       9     Chapter 9  When I come to I'm in thick brush, lying there...   \n",
       "10     10    Chapter 10  Is it all right, then, if Nakata calls you Kaw...   \n",
       "\n",
       "                                        fstop_indices  \\\n",
       "1   [73, 186, 247, 304, 368, 418, 490, 564, 675, 7...   \n",
       "2   [54, 56, 154, 222, 224, 252, 342, 375, 535, 57...   \n",
       "3   [31, 72, 149, 230, 283, 312, 422, 553, 644, 68...   \n",
       "4   [1, 3, 322, 422, 461, 576, 664, 754, 784, 786,...   \n",
       "5   [77, 162, 217, 253, 329, 421, 465, 559, 582, 5...   \n",
       "6   [36, 147, 193, 216, 243, 249, 250, 251, 271, 3...   \n",
       "7   [98, 165, 228, 298, 320, 378, 415, 511, 582, 6...   \n",
       "8   [1, 3, 433, 537, 579, 618, 757, 869, 977, 1064...   \n",
       "9   [79, 114, 247, 298, 357, 422, 493, 568, 615, 7...   \n",
       "10  [178, 302, 356, 444, 486, 532, 597, 632, 666, ...   \n",
       "\n",
       "                                        split_indices  \\\n",
       "1   [898, 1995, 2985, 3931, 4933, 5923, 6938, 7978...   \n",
       "2   [878, 1901, 2996, 3947, 4936, 5847, 6928, 7936...   \n",
       "3   [982, 1949, 2758, 3877, 4974, 5952, 6982, 7986...   \n",
       "4   [989, 1967, 2950, 3983, 4907, 5960, 6955, 7944...   \n",
       "5   [979, 1980, 2983, 3987, 4922, 5957, 6952, 7958...   \n",
       "6   [971, 1951, 2976, 3923, 4927, 5921, 6963, 7948...   \n",
       "7   [948, 1907, 2982, 3928, 4921, 5973, 6997, 7999...   \n",
       "8   [977, 1856, 2913, 3948, 4993, 5975, 6993, 7943...   \n",
       "9   [937, 1998, 2979, 3968, 4967, 5955, 6955, 7960...   \n",
       "10  [954, 1913, 2986, 3937, 4946, 5993, 6978, 7964...   \n",
       "\n",
       "                                               chunks      translator  \\\n",
       "1   [Cash isn't the only thing I take from my fath...  Philip Gabriel   \n",
       "2   [The following document, classified Top Secret...  Philip Gabriel   \n",
       "3   [It's nearly dawn when I wake up. I draw the c...  Philip Gabriel   \n",
       "4   [U.S. ARMY INTELLIGENCE SECTION (MIS) REPORT \\...  Philip Gabriel   \n",
       "5   [I'm asleep when our bus drives across the hug...  Philip Gabriel   \n",
       "6   [Hello there,\" the old man called out. \\n The ...  Philip Gabriel   \n",
       "7   [At seven-fifteen I eat breakfast in the resta...  Philip Gabriel   \n",
       "8   [U.S. ARMY INTELLIGENCE SECTION (MIS) REPORT \\...  Philip Gabriel   \n",
       "9   [When I come to I'm in thick brush, lying ther...  Philip Gabriel   \n",
       "10  [Is it all right, then, if Nakata calls you Ka...  Philip Gabriel   \n",
       "\n",
       "            book_title  \n",
       "1   Kafka On The Shore  \n",
       "2   Kafka On The Shore  \n",
       "3   Kafka On The Shore  \n",
       "4   Kafka On The Shore  \n",
       "5   Kafka On The Shore  \n",
       "6   Kafka On The Shore  \n",
       "7   Kafka On The Shore  \n",
       "8   Kafka On The Shore  \n",
       "9   Kafka On The Shore  \n",
       "10  Kafka On The Shore  "
      ]
     },
     "execution_count": 127,
     "metadata": {},
     "output_type": "execute_result"
    }
   ],
   "source": [
    "chapters = pd.DataFrame({'number': ch_nos, 'title': ch_titles, 'text': ch_texts})\n",
    "chapters['fstop_indices'] = chapters['text'].apply(lambda x: fs_indexer(x))\n",
    "chapters.dropna(inplace=True)\n",
    "chapters['split_indices'] = chapters['text'].apply(lambda x: split_indexer(x))\n",
    "chapters.dropna(inplace=True)\n",
    "chapters['chunks'] = chapters['text'].apply(lambda x: text_chunker(x))\n",
    "chapters['translator'] = 'Philip Gabriel'\n",
    "chapters['book_title'] = 'Kafka On The Shore'\n",
    "chapters.head(10)"
   ]
  },
  {
   "cell_type": "code",
   "execution_count": 128,
   "metadata": {
    "ExecuteTime": {
     "end_time": "2020-05-31T10:32:43.642978Z",
     "start_time": "2020-05-31T10:32:43.325467Z"
    }
   },
   "outputs": [
    {
     "data": {
      "image/png": "[encoded data removed]",
      "text/plain": [
       "<Figure size 432x288 with 1 Axes>"
      ]
     },
     "metadata": {
      "image/png": {
       "height": 256,
       "width": 386
      },
      "needs_background": "light"
     },
     "output_type": "display_data"
    }
   ],
   "source": [
    "lengths = []\n",
    "for chapter in chapters['chunks']:\n",
    "    for chunk in chapter:\n",
    "        lengths.append(len(chunk))\n",
    "plt.hist(lengths, bins=20);"
   ]
  },
  {
   "cell_type": "code",
   "execution_count": 129,
   "metadata": {
    "ExecuteTime": {
     "end_time": "2020-05-31T10:32:44.419039Z",
     "start_time": "2020-05-31T10:32:44.412368Z"
    }
   },
   "outputs": [
    {
     "data": {
      "text/plain": [
       "934"
      ]
     },
     "execution_count": 129,
     "metadata": {},
     "output_type": "execute_result"
    }
   ],
   "source": [
    "len(lengths)"
   ]
  },
  {
   "cell_type": "code",
   "execution_count": 130,
   "metadata": {
    "ExecuteTime": {
     "end_time": "2020-05-31T10:32:45.095930Z",
     "start_time": "2020-05-31T10:32:45.091878Z"
    }
   },
   "outputs": [],
   "source": [
    "out_path = '../../../../Documents/murakami/pkl2/'\n",
    "out_name = 'kots_gabriel_v01'\n",
    "out_full_path = out_path + out_name + '.pkl'"
   ]
  },
  {
   "cell_type": "code",
   "execution_count": 133,
   "metadata": {
    "ExecuteTime": {
     "end_time": "2020-05-31T10:32:57.529995Z",
     "start_time": "2020-05-31T10:32:57.521575Z"
    }
   },
   "outputs": [],
   "source": [
    "# save pickle\n",
    "with open(out_full_path, 'wb') as fp:\n",
    "    pickle.dump(chapters, fp)\n",
    "\n",
    "\n",
    "# # read back pickle\n",
    "# with open (out_full_path, 'rb') as fp:\n",
    "#     read_kots = pickle.load(fp)"
   ]
  },
  {
   "cell_type": "code",
   "execution_count": 134,
   "metadata": {
    "ExecuteTime": {
     "end_time": "2020-05-31T10:32:58.145576Z",
     "start_time": "2020-05-31T10:32:58.141943Z"
    }
   },
   "outputs": [],
   "source": [
    "# read_kots"
   ]
  },
  {
   "cell_type": "code",
   "execution_count": null,
   "metadata": {},
   "outputs": [],
   "source": []
  }
 ],
 "metadata": {
  "kernelspec": {
   "display_name": "textacy",
   "language": "python",
   "name": "textacy"
  },
  "language_info": {
   "codemirror_mode": {
    "name": "ipython",
    "version": 3
   },
   "file_extension": ".py",
   "mimetype": "text/x-python",
   "name": "python",
   "nbconvert_exporter": "python",
   "pygments_lexer": "ipython3",
   "version": "3.8.2"
  }
 },
 "nbformat": 4,
 "nbformat_minor": 2
}
