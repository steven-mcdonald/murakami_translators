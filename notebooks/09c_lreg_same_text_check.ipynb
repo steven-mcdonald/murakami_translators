{
 "cells": [
  {
   "cell_type": "markdown",
   "metadata": {},
   "source": [
    "# <span style=\"color:red\"> Logistic Regression: Re-run with new train/test split</span>\n",
    "\n",
    "* As the initial train/test split was performed on a random shuffle of all the chunks of text available there is the risk that the model is learning something of the style of the books themselves rather than the translator's. \n",
    "* The ideal solution would be to have the same text translated by each of the three translators. In the case of Haruki Murakami there is generally only one English language version of each of his novels available.  Fortunately one of his novels, 'Norwegian Wood' was first translated into English by Alfred Birnbaum for the Japanese market before being re-translated by Jay Rubin for the foreign market. I have the complete Rubin version and a few chapters of the Birnbaum version. Also the first chapter of 'A Wind-up Bird Chronicle' which was translated by Jay Rubin is also available as a short story in the collection 'The Elephant Vanishes', this time translated by Alfred Birnbaum.\n",
    "* This notebook will therefore use these texts, which have the same Japanese source and two different translators, as the test set and train the model on the remaining texts. If the model is successful at predicting the translator We should therefore generate a model which is only differentiating on the translators style and not the theme or content of the books which is identical.\n",
    "* Test set 'Norwegian Wood' and 'Wind Up Bird Chronicle Chapter 1'"
   ]
  },
  {
   "cell_type": "code",
   "execution_count": 296,
   "metadata": {
    "ExecuteTime": {
     "end_time": "2020-05-31T09:10:16.225620Z",
     "start_time": "2020-05-31T09:10:16.189877Z"
    }
   },
   "outputs": [],
   "source": [
    "import pandas as pd\n",
    "import numpy as np\n",
    "import matplotlib.pyplot as plt\n",
    "import seaborn as sns\n",
    "import textacy\n",
    "import re\n",
    "import pickle\n",
    "import os\n",
    "\n",
    "from collections import Counter\n",
    "\n",
    "from sklearn.model_selection import train_test_split, cross_val_score, GridSearchCV\n",
    "from sklearn.preprocessing import StandardScaler\n",
    "from sklearn.linear_model import LogisticRegression, LogisticRegressionCV\n",
    "from sklearn.metrics import confusion_matrix, classification_report, average_precision_score, roc_auc_score\n",
    "from sklearn.feature_extraction import DictVectorizer\n",
    "from sklearn.preprocessing import label_binarize\n",
    "\n",
    "import scikitplot as skplt\n",
    "from matplotlib.colors import ListedColormap\n",
    "cmap = ListedColormap(sns.color_palette(\"husl\", 3))\n",
    "\n",
    "from vaderSentiment.vaderSentiment import SentimentIntensityAnalyzer\n",
    "\n",
    "plt.style.use('ggplot')\n",
    "\n",
    "%config InlineBackend.figure_format = 'retina'\n",
    "%matplotlib inline\n",
    "\n",
    "# extend limit of number of rows and columns to display in cell\n",
    "pd.options.display.max_rows = 100\n",
    "pd.options.display.max_columns = 100"
   ]
  },
  {
   "cell_type": "markdown",
   "metadata": {},
   "source": [
    "### Load the dataframe containing text chunks and related variables"
   ]
  },
  {
   "cell_type": "code",
   "execution_count": 297,
   "metadata": {
    "ExecuteTime": {
     "end_time": "2020-05-31T09:10:44.281718Z",
     "start_time": "2020-05-31T09:10:17.341428Z"
    }
   },
   "outputs": [],
   "source": [
    "in_full_path = '../../../Documents/murakami/pkl3/df_all_v02.pkl'\n",
    "# read back pickle\n",
    "with open (in_full_path, 'rb') as fp:\n",
    "    df = pickle.load(fp)"
   ]
  },
  {
   "cell_type": "markdown",
   "metadata": {},
   "source": [
    "### Check the dataframe is as expected"
   ]
  },
  {
   "cell_type": "code",
   "execution_count": 298,
   "metadata": {
    "ExecuteTime": {
     "end_time": "2020-05-31T09:10:44.380700Z",
     "start_time": "2020-05-31T09:10:44.285326Z"
    }
   },
   "outputs": [
    {
     "data": {
      "text/html": [
       "<div>\n",
       "<style scoped>\n",
       "    .dataframe tbody tr th:only-of-type {\n",
       "        vertical-align: middle;\n",
       "    }\n",
       "\n",
       "    .dataframe tbody tr th {\n",
       "        vertical-align: top;\n",
       "    }\n",
       "\n",
       "    .dataframe thead th {\n",
       "        text-align: right;\n",
       "    }\n",
       "</style>\n",
       "<table border=\"1\" class=\"dataframe\">\n",
       "  <thead>\n",
       "    <tr style=\"text-align: right;\">\n",
       "      <th></th>\n",
       "      <th>book_chunk_no</th>\n",
       "      <th>number</th>\n",
       "      <th>title</th>\n",
       "      <th>text</th>\n",
       "      <th>fstop_indices</th>\n",
       "      <th>split_indices</th>\n",
       "      <th>chunks</th>\n",
       "      <th>translator</th>\n",
       "      <th>book_title</th>\n",
       "      <th>parsed</th>\n",
       "      <th>n_sents</th>\n",
       "      <th>n_words</th>\n",
       "      <th>n_chars</th>\n",
       "      <th>n_syllables</th>\n",
       "      <th>n_unique_words</th>\n",
       "      <th>n_long_words</th>\n",
       "      <th>n_monosyllable_words</th>\n",
       "      <th>n_polysyllable_words</th>\n",
       "      <th>trans_code</th>\n",
       "      <th>chunk_length</th>\n",
       "      <th>n_sents_norm</th>\n",
       "      <th>n_words_norm</th>\n",
       "      <th>n_chars_norm</th>\n",
       "      <th>n_syllables_norm</th>\n",
       "      <th>n_unique_words_norm</th>\n",
       "      <th>n_long_words_norm</th>\n",
       "      <th>n_monosyllable_words_norm</th>\n",
       "      <th>n_polysyllable_words_norm</th>\n",
       "      <th>vader_compound</th>\n",
       "      <th>vader_neg</th>\n",
       "      <th>vader_neu</th>\n",
       "      <th>vader_pos</th>\n",
       "      <th>pron_count</th>\n",
       "      <th>verb_count</th>\n",
       "      <th>det_count</th>\n",
       "      <th>adj_count</th>\n",
       "      <th>num_count</th>\n",
       "      <th>punct_count</th>\n",
       "      <th>noun_count</th>\n",
       "      <th>adp_count</th>\n",
       "      <th>cconj_count</th>\n",
       "      <th>sconj_count</th>\n",
       "      <th>adv_count</th>\n",
       "      <th>aux_count</th>\n",
       "      <th>part_count</th>\n",
       "      <th>propn_count</th>\n",
       "      <th>space_count</th>\n",
       "      <th>intj_count</th>\n",
       "      <th>sym_count</th>\n",
       "      <th>x_count</th>\n",
       "      <th>...</th>\n",
       "      <th>even_adv</th>\n",
       "      <th>very_adv</th>\n",
       "      <th>again_adv</th>\n",
       "      <th>maybe_adv</th>\n",
       "      <th>as_adv</th>\n",
       "      <th>there_adv</th>\n",
       "      <th>why_adv</th>\n",
       "      <th>really_adv</th>\n",
       "      <th>now_adv</th>\n",
       "      <th>only_adv</th>\n",
       "      <th>when_adv</th>\n",
       "      <th>too_adv</th>\n",
       "      <th>all_adv</th>\n",
       "      <th>just_adv</th>\n",
       "      <th>here_adv</th>\n",
       "      <th>back_adv</th>\n",
       "      <th>never_adv</th>\n",
       "      <th>more_adv</th>\n",
       "      <th>so_adv</th>\n",
       "      <th>always_adv</th>\n",
       "      <th>then_adv</th>\n",
       "      <th>bad_adj</th>\n",
       "      <th>strange_adj</th>\n",
       "      <th>good_adj</th>\n",
       "      <th>own_adj</th>\n",
       "      <th>hard_adj</th>\n",
       "      <th>new_adj</th>\n",
       "      <th>next_adj</th>\n",
       "      <th>real_adj</th>\n",
       "      <th>small_adj</th>\n",
       "      <th>whole_adj</th>\n",
       "      <th>few_adj</th>\n",
       "      <th>able_adj</th>\n",
       "      <th>young_adj</th>\n",
       "      <th>only_adj</th>\n",
       "      <th>much_adj</th>\n",
       "      <th>same_adj</th>\n",
       "      <th>other_adj</th>\n",
       "      <th>old_adj</th>\n",
       "      <th>little_adj</th>\n",
       "      <th>more_adj</th>\n",
       "      <th>right_adj</th>\n",
       "      <th>long_adj</th>\n",
       "      <th>last_adj</th>\n",
       "      <th>different_adj</th>\n",
       "      <th>deep_adj</th>\n",
       "      <th>first_adj</th>\n",
       "      <th>sure_adj</th>\n",
       "      <th>big_adj</th>\n",
       "      <th>vlong_words_count</th>\n",
       "    </tr>\n",
       "  </thead>\n",
       "  <tbody>\n",
       "    <tr>\n",
       "      <th>0</th>\n",
       "      <td>0</td>\n",
       "      <td>1</td>\n",
       "      <td>Wednesday Afternoon Picnic</td>\n",
       "      <td>IT WAS A  short one-paragraph item in the morn...</td>\n",
       "      <td>[57, 97, 115, 196, 318, 385, 420, 445, 504, 65...</td>\n",
       "      <td>[967, 1924, 2998, 3982, 4935, 5975, 6995, 7961...</td>\n",
       "      <td>IT WAS A short one-paragraph item in the morni...</td>\n",
       "      <td>Alfred Birnbaum</td>\n",
       "      <td>A Wild Sheep Chase</td>\n",
       "      <td>(IT, WAS, A, short, one, -, paragraph, item, i...</td>\n",
       "      <td>15</td>\n",
       "      <td>174</td>\n",
       "      <td>742</td>\n",
       "      <td>240</td>\n",
       "      <td>116</td>\n",
       "      <td>33</td>\n",
       "      <td>128</td>\n",
       "      <td>17</td>\n",
       "      <td>0</td>\n",
       "      <td>944</td>\n",
       "      <td>15.889831</td>\n",
       "      <td>184.322034</td>\n",
       "      <td>786.016949</td>\n",
       "      <td>254.237288</td>\n",
       "      <td>122.881356</td>\n",
       "      <td>34.957627</td>\n",
       "      <td>135.59322</td>\n",
       "      <td>18.008475</td>\n",
       "      <td>-0.4798</td>\n",
       "      <td>0.075</td>\n",
       "      <td>0.862</td>\n",
       "      <td>0.064</td>\n",
       "      <td>18.0</td>\n",
       "      <td>20.0</td>\n",
       "      <td>31.0</td>\n",
       "      <td>9.0</td>\n",
       "      <td>2.0</td>\n",
       "      <td>33.0</td>\n",
       "      <td>51.0</td>\n",
       "      <td>19.0</td>\n",
       "      <td>6.0</td>\n",
       "      <td>3.0</td>\n",
       "      <td>5.0</td>\n",
       "      <td>5.0</td>\n",
       "      <td>3.0</td>\n",
       "      <td>2.0</td>\n",
       "      <td>0.0</td>\n",
       "      <td>0.0</td>\n",
       "      <td>0.0</td>\n",
       "      <td>0.0</td>\n",
       "      <td>...</td>\n",
       "      <td>1</td>\n",
       "      <td>0</td>\n",
       "      <td>0</td>\n",
       "      <td>0</td>\n",
       "      <td>0</td>\n",
       "      <td>0</td>\n",
       "      <td>0</td>\n",
       "      <td>0</td>\n",
       "      <td>0</td>\n",
       "      <td>0</td>\n",
       "      <td>0</td>\n",
       "      <td>0</td>\n",
       "      <td>0</td>\n",
       "      <td>0</td>\n",
       "      <td>0</td>\n",
       "      <td>0</td>\n",
       "      <td>0</td>\n",
       "      <td>0</td>\n",
       "      <td>0</td>\n",
       "      <td>0</td>\n",
       "      <td>0</td>\n",
       "      <td>0</td>\n",
       "      <td>0</td>\n",
       "      <td>0</td>\n",
       "      <td>0</td>\n",
       "      <td>0</td>\n",
       "      <td>0</td>\n",
       "      <td>0</td>\n",
       "      <td>0</td>\n",
       "      <td>0</td>\n",
       "      <td>1</td>\n",
       "      <td>0</td>\n",
       "      <td>0</td>\n",
       "      <td>0</td>\n",
       "      <td>0</td>\n",
       "      <td>0</td>\n",
       "      <td>0</td>\n",
       "      <td>0</td>\n",
       "      <td>1</td>\n",
       "      <td>0</td>\n",
       "      <td>0</td>\n",
       "      <td>0</td>\n",
       "      <td>0</td>\n",
       "      <td>0</td>\n",
       "      <td>0</td>\n",
       "      <td>0</td>\n",
       "      <td>0</td>\n",
       "      <td>0</td>\n",
       "      <td>0</td>\n",
       "      <td>0</td>\n",
       "    </tr>\n",
       "  </tbody>\n",
       "</table>\n",
       "<p>1 rows × 142 columns</p>\n",
       "</div>"
      ],
      "text/plain": [
       "   book_chunk_no number                       title  \\\n",
       "0              0      1  Wednesday Afternoon Picnic   \n",
       "\n",
       "                                                text  \\\n",
       "0  IT WAS A  short one-paragraph item in the morn...   \n",
       "\n",
       "                                       fstop_indices  \\\n",
       "0  [57, 97, 115, 196, 318, 385, 420, 445, 504, 65...   \n",
       "\n",
       "                                       split_indices  \\\n",
       "0  [967, 1924, 2998, 3982, 4935, 5975, 6995, 7961...   \n",
       "\n",
       "                                              chunks       translator  \\\n",
       "0  IT WAS A short one-paragraph item in the morni...  Alfred Birnbaum   \n",
       "\n",
       "           book_title                                             parsed  \\\n",
       "0  A Wild Sheep Chase  (IT, WAS, A, short, one, -, paragraph, item, i...   \n",
       "\n",
       "   n_sents  n_words  n_chars  n_syllables  n_unique_words  n_long_words  \\\n",
       "0       15      174      742          240             116            33   \n",
       "\n",
       "   n_monosyllable_words  n_polysyllable_words  trans_code  chunk_length  \\\n",
       "0                   128                    17           0           944   \n",
       "\n",
       "   n_sents_norm  n_words_norm  n_chars_norm  n_syllables_norm  \\\n",
       "0     15.889831    184.322034    786.016949        254.237288   \n",
       "\n",
       "   n_unique_words_norm  n_long_words_norm  n_monosyllable_words_norm  \\\n",
       "0           122.881356          34.957627                  135.59322   \n",
       "\n",
       "   n_polysyllable_words_norm  vader_compound  vader_neg  vader_neu  vader_pos  \\\n",
       "0                  18.008475         -0.4798      0.075      0.862      0.064   \n",
       "\n",
       "   pron_count  verb_count  det_count  adj_count  num_count  punct_count  \\\n",
       "0        18.0        20.0       31.0        9.0        2.0         33.0   \n",
       "\n",
       "   noun_count  adp_count  cconj_count  sconj_count  adv_count  aux_count  \\\n",
       "0        51.0       19.0          6.0          3.0        5.0        5.0   \n",
       "\n",
       "   part_count  propn_count  space_count  intj_count  sym_count  x_count  ...  \\\n",
       "0         3.0          2.0          0.0         0.0        0.0      0.0  ...   \n",
       "\n",
       "   even_adv  very_adv  again_adv  maybe_adv  as_adv  there_adv  why_adv  \\\n",
       "0         1         0          0          0       0          0        0   \n",
       "\n",
       "   really_adv  now_adv  only_adv  when_adv  too_adv  all_adv  just_adv  \\\n",
       "0           0        0         0         0        0        0         0   \n",
       "\n",
       "   here_adv  back_adv  never_adv  more_adv  so_adv  always_adv  then_adv  \\\n",
       "0         0         0          0         0       0           0         0   \n",
       "\n",
       "   bad_adj  strange_adj  good_adj  own_adj  hard_adj  new_adj  next_adj  \\\n",
       "0        0            0         0        0         0        0         0   \n",
       "\n",
       "   real_adj  small_adj  whole_adj  few_adj  able_adj  young_adj  only_adj  \\\n",
       "0         0          0          1        0         0          0         0   \n",
       "\n",
       "  much_adj same_adj other_adj old_adj  little_adj  more_adj  right_adj  \\\n",
       "0        0        0         0       1           0         0          0   \n",
       "\n",
       "   long_adj  last_adj  different_adj  deep_adj  first_adj  sure_adj  big_adj  \\\n",
       "0         0         0              0         0          0         0        0   \n",
       "\n",
       "   vlong_words_count  \n",
       "0                  0  \n",
       "\n",
       "[1 rows x 142 columns]"
      ]
     },
     "execution_count": 298,
     "metadata": {},
     "output_type": "execute_result"
    }
   ],
   "source": [
    "df.head(1)"
   ]
  },
  {
   "cell_type": "code",
   "execution_count": 299,
   "metadata": {
    "ExecuteTime": {
     "end_time": "2020-05-31T09:10:44.392458Z",
     "start_time": "2020-05-31T09:10:44.385474Z"
    }
   },
   "outputs": [
    {
     "data": {
      "text/plain": [
       "(5212, 142)"
      ]
     },
     "execution_count": 299,
     "metadata": {},
     "output_type": "execute_result"
    }
   ],
   "source": [
    "df.shape"
   ]
  },
  {
   "cell_type": "code",
   "execution_count": 300,
   "metadata": {
    "ExecuteTime": {
     "end_time": "2020-05-31T09:10:44.411387Z",
     "start_time": "2020-05-31T09:10:44.399276Z"
    }
   },
   "outputs": [
    {
     "data": {
      "text/plain": [
       "array(['A Wild Sheep Chase', 'Kafka On The Shore',\n",
       "       'Colorless Tsukuru Tazaki', 'The Elephant Vanishes',\n",
       "       'The Wind Up Bird Chronicle', 'Norwegian Wood',\n",
       "       'Dance Dance Dance'], dtype=object)"
      ]
     },
     "execution_count": 300,
     "metadata": {},
     "output_type": "execute_result"
    }
   ],
   "source": [
    "df.book_title.unique()"
   ]
  },
  {
   "cell_type": "code",
   "execution_count": 301,
   "metadata": {
    "ExecuteTime": {
     "end_time": "2020-05-31T09:10:44.423113Z",
     "start_time": "2020-05-31T09:10:44.416087Z"
    }
   },
   "outputs": [],
   "source": [
    "# df = df[~df['book_title'].isin(['Kafka On The Shore', 'Colorless Tsukuru Tazaki'])]"
   ]
  },
  {
   "cell_type": "code",
   "execution_count": 302,
   "metadata": {
    "ExecuteTime": {
     "end_time": "2020-05-31T09:10:44.438695Z",
     "start_time": "2020-05-31T09:10:44.429041Z"
    }
   },
   "outputs": [
    {
     "data": {
      "text/plain": [
       "array(['A Wild Sheep Chase', 'Kafka On The Shore',\n",
       "       'Colorless Tsukuru Tazaki', 'The Elephant Vanishes',\n",
       "       'The Wind Up Bird Chronicle', 'Norwegian Wood',\n",
       "       'Dance Dance Dance'], dtype=object)"
      ]
     },
     "execution_count": 302,
     "metadata": {},
     "output_type": "execute_result"
    }
   ],
   "source": [
    "df.book_title.unique()"
   ]
  },
  {
   "cell_type": "code",
   "execution_count": 303,
   "metadata": {
    "ExecuteTime": {
     "end_time": "2020-05-31T09:10:48.383903Z",
     "start_time": "2020-05-31T09:10:48.377305Z"
    }
   },
   "outputs": [
    {
     "data": {
      "text/plain": [
       "Index(['book_chunk_no', 'number', 'title', 'text', 'fstop_indices',\n",
       "       'split_indices', 'chunks', 'translator', 'book_title', 'parsed',\n",
       "       ...\n",
       "       'more_adj', 'right_adj', 'long_adj', 'last_adj', 'different_adj',\n",
       "       'deep_adj', 'first_adj', 'sure_adj', 'big_adj', 'vlong_words_count'],\n",
       "      dtype='object', length=142)"
      ]
     },
     "execution_count": 303,
     "metadata": {},
     "output_type": "execute_result"
    }
   ],
   "source": [
    "df.columns"
   ]
  },
  {
   "cell_type": "markdown",
   "metadata": {},
   "source": [
    "### Set initial Predictor Variables\n",
    "* Choose normalised count variables from textacy, ntlk dropping some suspicious ones\n",
    "* not using vader sentiment scores"
   ]
  },
  {
   "cell_type": "markdown",
   "metadata": {},
   "source": [
    "### Choose features to include in modelling"
   ]
  },
  {
   "cell_type": "code",
   "execution_count": 304,
   "metadata": {
    "ExecuteTime": {
     "end_time": "2020-05-31T09:10:50.708402Z",
     "start_time": "2020-05-31T09:10:50.695112Z"
    }
   },
   "outputs": [],
   "source": [
    "def feature_select(basic_counts=True, vader=False, pos_counts=False, \n",
    "                   words=False, adv=False, adj=False):\n",
    "    '''create column list depending on features to include in the modelling'''\n",
    "    columns = []\n",
    "    if basic_counts:\n",
    "        columns += [i for i in df.columns if i.startswith('n_') & i.endswith('_norm')]\n",
    "    if vader:\n",
    "        columns += [i for i in df.columns if i.startswith('vader_')]\n",
    "    if pos_counts:\n",
    "        columns += [i for i in df.columns if i.endswith('_count_norm')]\n",
    "    if words:\n",
    "        columns += [i for i in df.columns if i.endswith('_w')]\n",
    "    if adj:\n",
    "        columns += [i for i in df.columns if i.endswith('_adj')]\n",
    "    if adv:\n",
    "        columns += [i for i in df.columns if i.endswith('_adv')]\n",
    "    return columns"
   ]
  },
  {
   "cell_type": "code",
   "execution_count": 305,
   "metadata": {
    "ExecuteTime": {
     "end_time": "2020-05-31T09:10:51.268208Z",
     "start_time": "2020-05-31T09:10:51.262919Z"
    }
   },
   "outputs": [],
   "source": [
    "predictor_cols = feature_select(basic_counts=True, vader=False, pos_counts=True, \n",
    "                   words=True, adv=True, adj=True)"
   ]
  },
  {
   "cell_type": "markdown",
   "metadata": {},
   "source": [
    "### Drop some columns which may be linked to page formatting"
   ]
  },
  {
   "cell_type": "code",
   "execution_count": 306,
   "metadata": {
    "ExecuteTime": {
     "end_time": "2020-05-31T09:10:52.573567Z",
     "start_time": "2020-05-31T09:10:52.567350Z"
    }
   },
   "outputs": [],
   "source": [
    "cols_to_drop = ['num_count_norm', 'punct_count_norm','space_count_norm', 'sym_count_norm', 'x_count_norm']"
   ]
  },
  {
   "cell_type": "code",
   "execution_count": 307,
   "metadata": {
    "ExecuteTime": {
     "end_time": "2020-05-31T09:10:53.039087Z",
     "start_time": "2020-05-31T09:10:53.033951Z"
    }
   },
   "outputs": [],
   "source": [
    "predictor_cols = [x for x in predictor_cols if x not in cols_to_drop]"
   ]
  },
  {
   "cell_type": "code",
   "execution_count": 308,
   "metadata": {
    "ExecuteTime": {
     "end_time": "2020-05-31T09:10:53.547514Z",
     "start_time": "2020-05-31T09:10:53.544215Z"
    }
   },
   "outputs": [],
   "source": [
    "# predictor_cols"
   ]
  },
  {
   "cell_type": "markdown",
   "metadata": {},
   "source": [
    "### Set Target and Predictor variables"
   ]
  },
  {
   "cell_type": "code",
   "execution_count": 309,
   "metadata": {
    "ExecuteTime": {
     "end_time": "2020-05-31T09:10:55.448545Z",
     "start_time": "2020-05-31T09:10:55.438759Z"
    }
   },
   "outputs": [],
   "source": [
    "X = df[predictor_cols]\n",
    "y = df['trans_code']"
   ]
  },
  {
   "cell_type": "markdown",
   "metadata": {},
   "source": [
    "### Make Train Test Split with Test as both versions of Norwegian Wood and WUBC chapter 1"
   ]
  },
  {
   "cell_type": "code",
   "execution_count": 310,
   "metadata": {
    "ExecuteTime": {
     "end_time": "2020-05-31T09:10:56.353798Z",
     "start_time": "2020-05-31T09:10:56.346858Z"
    }
   },
   "outputs": [
    {
     "data": {
      "text/plain": [
       "array(['A Wild Sheep Chase', 'Kafka On The Shore',\n",
       "       'Colorless Tsukuru Tazaki', 'The Elephant Vanishes',\n",
       "       'The Wind Up Bird Chronicle', 'Norwegian Wood',\n",
       "       'Dance Dance Dance'], dtype=object)"
      ]
     },
     "execution_count": 310,
     "metadata": {},
     "output_type": "execute_result"
    }
   ],
   "source": [
    "df['book_title'].unique()"
   ]
  },
  {
   "cell_type": "code",
   "execution_count": 311,
   "metadata": {
    "ExecuteTime": {
     "end_time": "2020-05-31T09:10:57.181647Z",
     "start_time": "2020-05-31T09:10:57.178525Z"
    }
   },
   "outputs": [],
   "source": [
    "# df[(df['book_title'] == 'Norwegian Wood') & (df['translator'] == 'Jay Rubin')] \\\n",
    "#                 [['number', 'translator']].describe()"
   ]
  },
  {
   "cell_type": "code",
   "execution_count": 312,
   "metadata": {
    "ExecuteTime": {
     "end_time": "2020-05-31T09:10:57.885337Z",
     "start_time": "2020-05-31T09:10:57.881542Z"
    }
   },
   "outputs": [],
   "source": [
    "# df[(df['book_title'] == 'Norwegian Wood') & (df['translator'] == 'Alfred Birnbaum')] \\\n",
    "#                 [['chunks', 'book_chunk_no', 'translator']].head()"
   ]
  },
  {
   "cell_type": "code",
   "execution_count": 313,
   "metadata": {
    "ExecuteTime": {
     "end_time": "2020-05-31T09:10:58.863584Z",
     "start_time": "2020-05-31T09:10:58.851339Z"
    }
   },
   "outputs": [
    {
     "data": {
      "text/plain": [
       "'The scene at dinner was pretty much the same as the evening before-same faces and talk and at\\xadmosphere. Only the menu had changed. The lab\\xadcoated man who had talked about stomach secretions under weightless conditions joined our table and told us about brain size in correlation to its abilities. He told us about the brain capacities of Napoleon and Bismarck while we ate something called soyburger steak. He pushed his plate aside and, pulling out a notepad, began to draw a diagram of the brain in ballpoint. \"No, that’s not quite right,\" he’d say, then start over. When he finally finished the drawing to his satisfaction, he returned the notepad to a pocket of his lab coat and slipped the pen into his breast pocket. That made three ballpoint pens, a pencil, and a ruler in his breast pocket. \"Winter’s great here, I tell you. You simply must come next winter,\" he said as he left, same as yesterday. \"Is he a doctor or a patient?\" was all I could think to ask Reiko.'"
      ]
     },
     "execution_count": 313,
     "metadata": {},
     "output_type": "execute_result"
    }
   ],
   "source": [
    "df[(df['book_title'] == 'Norwegian Wood') & (df['translator'] == 'Alfred Birnbaum')] \\\n",
    "            ['chunks'].iloc[0]"
   ]
  },
  {
   "cell_type": "code",
   "execution_count": 314,
   "metadata": {
    "ExecuteTime": {
     "end_time": "2020-05-31T09:10:59.523568Z",
     "start_time": "2020-05-31T09:10:59.508255Z"
    }
   },
   "outputs": [
    {
     "data": {
      "text/plain": [
       "'\"Tell me all about his, uh, you know, later.\" \"We didn’t do any of that,\" said Naoko, reddening. \"Really?\" Reiko asked me. \"Nothing?\" \"Nothing,\" I said. \"Bo-o-o-ring!\" she said with a bored look on her face. \"True,\" I said, sipping my coffee. The scene in the dining hall was the same as the day before - the mood, the voices, the faces. Only the menu had changed. The balding man in white, who yesterday had been talking about the secretion of gastric juices under weightless conditions, joined the three of us at our table and talked for a long time about the correlation of brain size to intelligence. As we ate our soybean burgers, we heard all about the volume of Bismarck’s brain and Napoleon’s. He pushed his plate aside and used a ballpoint pen and notepaper to draw sketches of brains. He would start to draw, declare \"No, that’s not quite it\", and begin a new one. This happened several times.'"
      ]
     },
     "execution_count": 314,
     "metadata": {},
     "output_type": "execute_result"
    }
   ],
   "source": [
    "def check_word(x):\n",
    "    if 'Napoleon' in x:\n",
    "        return x\n",
    "    \n",
    "df[(df['book_title'] == 'Norwegian Wood') & (df['translator'] == 'Jay Rubin')] \\\n",
    "            ['chunks'].apply(lambda x: check_word(x)).dropna().iloc[0]"
   ]
  },
  {
   "cell_type": "code",
   "execution_count": 315,
   "metadata": {
    "ExecuteTime": {
     "end_time": "2020-05-31T09:11:00.398000Z",
     "start_time": "2020-05-31T09:11:00.376396Z"
    }
   },
   "outputs": [],
   "source": [
    "def check_word(x):\n",
    "    if 'Napoleon' in x:\n",
    "        return True\n",
    "    \n",
    "df_temp = df.copy()\n",
    "df_temp['napoleon'] = df[(df['book_title'] == 'Norwegian Wood') & (df['translator'] == 'Jay Rubin')] \\\n",
    "            ['chunks'].apply(lambda x: check_word(x))"
   ]
  },
  {
   "cell_type": "code",
   "execution_count": 316,
   "metadata": {
    "ExecuteTime": {
     "end_time": "2020-05-31T09:11:01.292747Z",
     "start_time": "2020-05-31T09:11:01.216122Z"
    }
   },
   "outputs": [
    {
     "data": {
      "text/html": [
       "<div>\n",
       "<style scoped>\n",
       "    .dataframe tbody tr th:only-of-type {\n",
       "        vertical-align: middle;\n",
       "    }\n",
       "\n",
       "    .dataframe tbody tr th {\n",
       "        vertical-align: top;\n",
       "    }\n",
       "\n",
       "    .dataframe thead th {\n",
       "        text-align: right;\n",
       "    }\n",
       "</style>\n",
       "<table border=\"1\" class=\"dataframe\">\n",
       "  <thead>\n",
       "    <tr style=\"text-align: right;\">\n",
       "      <th></th>\n",
       "      <th>book_chunk_no</th>\n",
       "      <th>number</th>\n",
       "      <th>title</th>\n",
       "      <th>text</th>\n",
       "      <th>fstop_indices</th>\n",
       "      <th>split_indices</th>\n",
       "      <th>chunks</th>\n",
       "      <th>translator</th>\n",
       "      <th>book_title</th>\n",
       "      <th>parsed</th>\n",
       "      <th>n_sents</th>\n",
       "      <th>n_words</th>\n",
       "      <th>n_chars</th>\n",
       "      <th>n_syllables</th>\n",
       "      <th>n_unique_words</th>\n",
       "      <th>n_long_words</th>\n",
       "      <th>n_monosyllable_words</th>\n",
       "      <th>n_polysyllable_words</th>\n",
       "      <th>trans_code</th>\n",
       "      <th>chunk_length</th>\n",
       "      <th>n_sents_norm</th>\n",
       "      <th>n_words_norm</th>\n",
       "      <th>n_chars_norm</th>\n",
       "      <th>n_syllables_norm</th>\n",
       "      <th>n_unique_words_norm</th>\n",
       "      <th>n_long_words_norm</th>\n",
       "      <th>n_monosyllable_words_norm</th>\n",
       "      <th>n_polysyllable_words_norm</th>\n",
       "      <th>vader_compound</th>\n",
       "      <th>vader_neg</th>\n",
       "      <th>vader_neu</th>\n",
       "      <th>vader_pos</th>\n",
       "      <th>pron_count</th>\n",
       "      <th>verb_count</th>\n",
       "      <th>det_count</th>\n",
       "      <th>adj_count</th>\n",
       "      <th>num_count</th>\n",
       "      <th>punct_count</th>\n",
       "      <th>noun_count</th>\n",
       "      <th>adp_count</th>\n",
       "      <th>cconj_count</th>\n",
       "      <th>sconj_count</th>\n",
       "      <th>adv_count</th>\n",
       "      <th>aux_count</th>\n",
       "      <th>part_count</th>\n",
       "      <th>propn_count</th>\n",
       "      <th>space_count</th>\n",
       "      <th>intj_count</th>\n",
       "      <th>sym_count</th>\n",
       "      <th>x_count</th>\n",
       "      <th>...</th>\n",
       "      <th>very_adv</th>\n",
       "      <th>again_adv</th>\n",
       "      <th>maybe_adv</th>\n",
       "      <th>as_adv</th>\n",
       "      <th>there_adv</th>\n",
       "      <th>why_adv</th>\n",
       "      <th>really_adv</th>\n",
       "      <th>now_adv</th>\n",
       "      <th>only_adv</th>\n",
       "      <th>when_adv</th>\n",
       "      <th>too_adv</th>\n",
       "      <th>all_adv</th>\n",
       "      <th>just_adv</th>\n",
       "      <th>here_adv</th>\n",
       "      <th>back_adv</th>\n",
       "      <th>never_adv</th>\n",
       "      <th>more_adv</th>\n",
       "      <th>so_adv</th>\n",
       "      <th>always_adv</th>\n",
       "      <th>then_adv</th>\n",
       "      <th>bad_adj</th>\n",
       "      <th>strange_adj</th>\n",
       "      <th>good_adj</th>\n",
       "      <th>own_adj</th>\n",
       "      <th>hard_adj</th>\n",
       "      <th>new_adj</th>\n",
       "      <th>next_adj</th>\n",
       "      <th>real_adj</th>\n",
       "      <th>small_adj</th>\n",
       "      <th>whole_adj</th>\n",
       "      <th>few_adj</th>\n",
       "      <th>able_adj</th>\n",
       "      <th>young_adj</th>\n",
       "      <th>only_adj</th>\n",
       "      <th>much_adj</th>\n",
       "      <th>same_adj</th>\n",
       "      <th>other_adj</th>\n",
       "      <th>old_adj</th>\n",
       "      <th>little_adj</th>\n",
       "      <th>more_adj</th>\n",
       "      <th>right_adj</th>\n",
       "      <th>long_adj</th>\n",
       "      <th>last_adj</th>\n",
       "      <th>different_adj</th>\n",
       "      <th>deep_adj</th>\n",
       "      <th>first_adj</th>\n",
       "      <th>sure_adj</th>\n",
       "      <th>big_adj</th>\n",
       "      <th>vlong_words_count</th>\n",
       "      <th>napoleon</th>\n",
       "    </tr>\n",
       "  </thead>\n",
       "  <tbody>\n",
       "    <tr>\n",
       "      <th>3996</th>\n",
       "      <td>321</td>\n",
       "      <td>2</td>\n",
       "      <td>Book 2</td>\n",
       "      <td>m\\n \\nsf Thanks for your letter,\\n wrote Naoko...</td>\n",
       "      <td>[43, 88, 213, 296, 343, 376, 480, 632, 695, 74...</td>\n",
       "      <td>[924, 1926, 2925, 3997, 4861, 5754, 6924, 7914...</td>\n",
       "      <td>\"Tell me all about his, uh, you know, later.\" ...</td>\n",
       "      <td>Jay Rubin</td>\n",
       "      <td>Norwegian Wood</td>\n",
       "      <td>(\", Tell, me, all, about, his, ,, uh, ,, you, ...</td>\n",
       "      <td>18</td>\n",
       "      <td>168</td>\n",
       "      <td>690</td>\n",
       "      <td>212</td>\n",
       "      <td>118</td>\n",
       "      <td>24</td>\n",
       "      <td>135</td>\n",
       "      <td>9</td>\n",
       "      <td>1</td>\n",
       "      <td>903</td>\n",
       "      <td>19.933555</td>\n",
       "      <td>186.046512</td>\n",
       "      <td>764.119601</td>\n",
       "      <td>234.772979</td>\n",
       "      <td>130.675526</td>\n",
       "      <td>26.578073</td>\n",
       "      <td>149.501661</td>\n",
       "      <td>9.966777</td>\n",
       "      <td>0.6654</td>\n",
       "      <td>0.013</td>\n",
       "      <td>0.948</td>\n",
       "      <td>0.039</td>\n",
       "      <td>16.0</td>\n",
       "      <td>25.0</td>\n",
       "      <td>28.0</td>\n",
       "      <td>9.0</td>\n",
       "      <td>2.0</td>\n",
       "      <td>53.0</td>\n",
       "      <td>36.0</td>\n",
       "      <td>20.0</td>\n",
       "      <td>5.0</td>\n",
       "      <td>2.0</td>\n",
       "      <td>6.0</td>\n",
       "      <td>6.0</td>\n",
       "      <td>5.0</td>\n",
       "      <td>5.0</td>\n",
       "      <td>0.0</td>\n",
       "      <td>2.0</td>\n",
       "      <td>0.0</td>\n",
       "      <td>0.0</td>\n",
       "      <td>...</td>\n",
       "      <td>0</td>\n",
       "      <td>0</td>\n",
       "      <td>0</td>\n",
       "      <td>0</td>\n",
       "      <td>0</td>\n",
       "      <td>0</td>\n",
       "      <td>1</td>\n",
       "      <td>0</td>\n",
       "      <td>1</td>\n",
       "      <td>0</td>\n",
       "      <td>0</td>\n",
       "      <td>1</td>\n",
       "      <td>0</td>\n",
       "      <td>0</td>\n",
       "      <td>0</td>\n",
       "      <td>0</td>\n",
       "      <td>0</td>\n",
       "      <td>0</td>\n",
       "      <td>0</td>\n",
       "      <td>0</td>\n",
       "      <td>0</td>\n",
       "      <td>0</td>\n",
       "      <td>0</td>\n",
       "      <td>0</td>\n",
       "      <td>0</td>\n",
       "      <td>1</td>\n",
       "      <td>0</td>\n",
       "      <td>0</td>\n",
       "      <td>0</td>\n",
       "      <td>0</td>\n",
       "      <td>0</td>\n",
       "      <td>0</td>\n",
       "      <td>0</td>\n",
       "      <td>0</td>\n",
       "      <td>0</td>\n",
       "      <td>1</td>\n",
       "      <td>0</td>\n",
       "      <td>0</td>\n",
       "      <td>0</td>\n",
       "      <td>0</td>\n",
       "      <td>0</td>\n",
       "      <td>1</td>\n",
       "      <td>0</td>\n",
       "      <td>0</td>\n",
       "      <td>0</td>\n",
       "      <td>0</td>\n",
       "      <td>0</td>\n",
       "      <td>0</td>\n",
       "      <td>0</td>\n",
       "      <td>True</td>\n",
       "    </tr>\n",
       "  </tbody>\n",
       "</table>\n",
       "<p>1 rows × 143 columns</p>\n",
       "</div>"
      ],
      "text/plain": [
       "      book_chunk_no number   title  \\\n",
       "3996            321      2  Book 2   \n",
       "\n",
       "                                                   text  \\\n",
       "3996  m\\n \\nsf Thanks for your letter,\\n wrote Naoko...   \n",
       "\n",
       "                                          fstop_indices  \\\n",
       "3996  [43, 88, 213, 296, 343, 376, 480, 632, 695, 74...   \n",
       "\n",
       "                                          split_indices  \\\n",
       "3996  [924, 1926, 2925, 3997, 4861, 5754, 6924, 7914...   \n",
       "\n",
       "                                                 chunks translator  \\\n",
       "3996  \"Tell me all about his, uh, you know, later.\" ...  Jay Rubin   \n",
       "\n",
       "          book_title                                             parsed  \\\n",
       "3996  Norwegian Wood  (\", Tell, me, all, about, his, ,, uh, ,, you, ...   \n",
       "\n",
       "      n_sents  n_words  n_chars  n_syllables  n_unique_words  n_long_words  \\\n",
       "3996       18      168      690          212             118            24   \n",
       "\n",
       "      n_monosyllable_words  n_polysyllable_words  trans_code  chunk_length  \\\n",
       "3996                   135                     9           1           903   \n",
       "\n",
       "      n_sents_norm  n_words_norm  n_chars_norm  n_syllables_norm  \\\n",
       "3996     19.933555    186.046512    764.119601        234.772979   \n",
       "\n",
       "      n_unique_words_norm  n_long_words_norm  n_monosyllable_words_norm  \\\n",
       "3996           130.675526          26.578073                 149.501661   \n",
       "\n",
       "      n_polysyllable_words_norm  vader_compound  vader_neg  vader_neu  \\\n",
       "3996                   9.966777          0.6654      0.013      0.948   \n",
       "\n",
       "      vader_pos  pron_count  verb_count  det_count  adj_count  num_count  \\\n",
       "3996      0.039        16.0        25.0       28.0        9.0        2.0   \n",
       "\n",
       "      punct_count  noun_count  adp_count  cconj_count  sconj_count  adv_count  \\\n",
       "3996         53.0        36.0       20.0          5.0          2.0        6.0   \n",
       "\n",
       "      aux_count  part_count  propn_count  space_count  intj_count  sym_count  \\\n",
       "3996        6.0         5.0          5.0          0.0         2.0        0.0   \n",
       "\n",
       "      x_count  ...  very_adv  again_adv  maybe_adv  as_adv  there_adv  \\\n",
       "3996      0.0  ...         0          0          0       0          0   \n",
       "\n",
       "      why_adv  really_adv  now_adv  only_adv  when_adv  too_adv  all_adv  \\\n",
       "3996        0           1        0         1         0        0        1   \n",
       "\n",
       "      just_adv  here_adv  back_adv  never_adv  more_adv  so_adv  always_adv  \\\n",
       "3996         0         0         0          0         0       0           0   \n",
       "\n",
       "      then_adv  bad_adj  strange_adj  good_adj  own_adj  hard_adj  new_adj  \\\n",
       "3996         0        0            0         0        0         0        1   \n",
       "\n",
       "      next_adj  real_adj  small_adj  whole_adj  few_adj  able_adj  young_adj  \\\n",
       "3996         0         0          0          0        0         0          0   \n",
       "\n",
       "      only_adj  much_adj same_adj other_adj old_adj little_adj  more_adj  \\\n",
       "3996         0         0        1         0       0          0         0   \n",
       "\n",
       "      right_adj  long_adj  last_adj  different_adj  deep_adj  first_adj  \\\n",
       "3996          0         1         0              0         0          0   \n",
       "\n",
       "      sure_adj  big_adj  vlong_words_count  napoleon  \n",
       "3996         0        0                  0      True  \n",
       "\n",
       "[1 rows x 143 columns]"
      ]
     },
     "execution_count": 316,
     "metadata": {},
     "output_type": "execute_result"
    }
   ],
   "source": [
    "df_temp[df_temp['napoleon'] == True]"
   ]
  },
  {
   "cell_type": "code",
   "execution_count": 317,
   "metadata": {
    "ExecuteTime": {
     "end_time": "2020-05-31T09:11:02.501053Z",
     "start_time": "2020-05-31T09:11:02.495080Z"
    }
   },
   "outputs": [],
   "source": [
    "df['test_flag'] = 0"
   ]
  },
  {
   "cell_type": "code",
   "execution_count": 318,
   "metadata": {
    "ExecuteTime": {
     "end_time": "2020-05-31T09:11:03.217743Z",
     "start_time": "2020-05-31T09:11:03.006674Z"
    }
   },
   "outputs": [],
   "source": [
    "df['test_flag'] = df.apply(\n",
    "    lambda row: 1 if row['book_title'] == 'Norwegian Wood' \n",
    "                    and row['translator'] == 'Jay Rubin' \n",
    "                    and row['book_chunk_no'] >= 321 \n",
    "                    else row['test_flag'],\n",
    "    axis=1\n",
    ")"
   ]
  },
  {
   "cell_type": "code",
   "execution_count": 319,
   "metadata": {
    "ExecuteTime": {
     "end_time": "2020-05-31T09:11:03.752634Z",
     "start_time": "2020-05-31T09:11:03.550037Z"
    }
   },
   "outputs": [],
   "source": [
    "df['test_flag'] = df.apply(\n",
    "    lambda row: 1 if row['book_title'] == 'Norwegian Wood' \n",
    "                    and row['translator'] == 'Alfred Birnbaum' \n",
    "                    else row['test_flag'],\n",
    "    axis=1\n",
    ")"
   ]
  },
  {
   "cell_type": "code",
   "execution_count": 320,
   "metadata": {
    "ExecuteTime": {
     "end_time": "2020-05-31T09:11:04.362928Z",
     "start_time": "2020-05-31T09:11:04.153520Z"
    }
   },
   "outputs": [],
   "source": [
    "df['test_flag'] = df.apply(\n",
    "    lambda row: 1 if row['book_title'] == 'The Wind Up Bird Chronicle' \n",
    "                    and row['number'] == '1' \n",
    "                    and row['book_chunk_no'] < 60\n",
    "                    else row['test_flag'],\n",
    "    axis=1\n",
    ")"
   ]
  },
  {
   "cell_type": "code",
   "execution_count": 321,
   "metadata": {
    "ExecuteTime": {
     "end_time": "2020-05-31T09:11:04.972446Z",
     "start_time": "2020-05-31T09:11:04.735673Z"
    }
   },
   "outputs": [],
   "source": [
    "df['test_flag'] = df.apply(\n",
    "    lambda row: 1 if row['book_title'] == 'The Elephant Vanishes' \n",
    "                    and row['number'] == 1 \n",
    "                    else row['test_flag'],\n",
    "    axis=1\n",
    ")"
   ]
  },
  {
   "cell_type": "code",
   "execution_count": 322,
   "metadata": {
    "ExecuteTime": {
     "end_time": "2020-05-31T09:11:05.167454Z",
     "start_time": "2020-05-31T09:11:05.157632Z"
    }
   },
   "outputs": [
    {
     "data": {
      "text/plain": [
       "700"
      ]
     },
     "execution_count": 322,
     "metadata": {},
     "output_type": "execute_result"
    }
   ],
   "source": [
    "df['test_flag'].sum()"
   ]
  },
  {
   "cell_type": "code",
   "execution_count": 323,
   "metadata": {
    "ExecuteTime": {
     "end_time": "2020-05-31T09:11:05.831143Z",
     "start_time": "2020-05-31T09:11:05.826888Z"
    }
   },
   "outputs": [],
   "source": [
    "indices = list(df.index)"
   ]
  },
  {
   "cell_type": "code",
   "execution_count": 324,
   "metadata": {
    "ExecuteTime": {
     "end_time": "2020-05-31T09:11:06.517347Z",
     "start_time": "2020-05-31T09:11:06.499180Z"
    }
   },
   "outputs": [],
   "source": [
    "X_train = X[df['test_flag'] == 0]\n",
    "y_train = y[df['test_flag'] == 0]\n",
    "X_test = X[df['test_flag'] == 1]\n",
    "y_test = y[df['test_flag'] == 1]\n",
    "indices_train = [x for x, y in zip(indices, df['test_flag'] == 0) if y]\n",
    "indices_test = [x for x, y in zip(indices, df['test_flag'] == 1) if y]"
   ]
  },
  {
   "cell_type": "code",
   "execution_count": 325,
   "metadata": {
    "ExecuteTime": {
     "end_time": "2020-05-31T09:11:07.240014Z",
     "start_time": "2020-05-31T09:11:07.229118Z"
    }
   },
   "outputs": [
    {
     "data": {
      "text/plain": [
       "0.5042857142857143"
      ]
     },
     "execution_count": 325,
     "metadata": {},
     "output_type": "execute_result"
    }
   ],
   "source": [
    "baseline_acc = y_test.value_counts(normalize=True).max()\n",
    "baseline_acc"
   ]
  },
  {
   "cell_type": "code",
   "execution_count": 326,
   "metadata": {
    "ExecuteTime": {
     "end_time": "2020-05-31T09:11:08.040806Z",
     "start_time": "2020-05-31T09:11:07.992352Z"
    }
   },
   "outputs": [
    {
     "data": {
      "text/html": [
       "<div>\n",
       "<style scoped>\n",
       "    .dataframe tbody tr th:only-of-type {\n",
       "        vertical-align: middle;\n",
       "    }\n",
       "\n",
       "    .dataframe tbody tr th {\n",
       "        vertical-align: top;\n",
       "    }\n",
       "\n",
       "    .dataframe thead th {\n",
       "        text-align: right;\n",
       "    }\n",
       "</style>\n",
       "<table border=\"1\" class=\"dataframe\">\n",
       "  <thead>\n",
       "    <tr style=\"text-align: right;\">\n",
       "      <th></th>\n",
       "      <th>n_sents_norm</th>\n",
       "      <th>n_words_norm</th>\n",
       "      <th>n_chars_norm</th>\n",
       "      <th>n_syllables_norm</th>\n",
       "      <th>n_unique_words_norm</th>\n",
       "      <th>n_long_words_norm</th>\n",
       "      <th>n_monosyllable_words_norm</th>\n",
       "      <th>n_polysyllable_words_norm</th>\n",
       "      <th>pron_count_norm</th>\n",
       "      <th>verb_count_norm</th>\n",
       "      <th>det_count_norm</th>\n",
       "      <th>adj_count_norm</th>\n",
       "      <th>noun_count_norm</th>\n",
       "      <th>adp_count_norm</th>\n",
       "      <th>cconj_count_norm</th>\n",
       "      <th>sconj_count_norm</th>\n",
       "      <th>adv_count_norm</th>\n",
       "      <th>aux_count_norm</th>\n",
       "      <th>part_count_norm</th>\n",
       "      <th>propn_count_norm</th>\n",
       "      <th>intj_count_norm</th>\n",
       "      <th>the_w</th>\n",
       "      <th>to_w</th>\n",
       "      <th>and_w</th>\n",
       "      <th>of_w</th>\n",
       "      <th>you_w</th>\n",
       "      <th>was_w</th>\n",
       "      <th>he_w</th>\n",
       "      <th>she_w</th>\n",
       "      <th>had_w</th>\n",
       "      <th>said_w</th>\n",
       "      <th>like_w</th>\n",
       "      <th>just_w</th>\n",
       "      <th>time_w</th>\n",
       "      <th>know_w</th>\n",
       "      <th>think_w</th>\n",
       "      <th>got_w</th>\n",
       "      <th>right_w</th>\n",
       "      <th>bad_adj</th>\n",
       "      <th>strange_adj</th>\n",
       "      <th>good_adj</th>\n",
       "      <th>own_adj</th>\n",
       "      <th>hard_adj</th>\n",
       "      <th>new_adj</th>\n",
       "      <th>next_adj</th>\n",
       "      <th>real_adj</th>\n",
       "      <th>small_adj</th>\n",
       "      <th>whole_adj</th>\n",
       "      <th>few_adj</th>\n",
       "      <th>able_adj</th>\n",
       "      <th>young_adj</th>\n",
       "      <th>only_adj</th>\n",
       "      <th>much_adj</th>\n",
       "      <th>same_adj</th>\n",
       "      <th>other_adj</th>\n",
       "      <th>old_adj</th>\n",
       "      <th>little_adj</th>\n",
       "      <th>more_adj</th>\n",
       "      <th>right_adj</th>\n",
       "      <th>long_adj</th>\n",
       "      <th>last_adj</th>\n",
       "      <th>different_adj</th>\n",
       "      <th>deep_adj</th>\n",
       "      <th>first_adj</th>\n",
       "      <th>sure_adj</th>\n",
       "      <th>big_adj</th>\n",
       "      <th>how_adv</th>\n",
       "      <th>still_adv</th>\n",
       "      <th>where_adv</th>\n",
       "      <th>even_adv</th>\n",
       "      <th>very_adv</th>\n",
       "      <th>again_adv</th>\n",
       "      <th>maybe_adv</th>\n",
       "      <th>as_adv</th>\n",
       "      <th>there_adv</th>\n",
       "      <th>why_adv</th>\n",
       "      <th>really_adv</th>\n",
       "      <th>now_adv</th>\n",
       "      <th>only_adv</th>\n",
       "      <th>when_adv</th>\n",
       "      <th>too_adv</th>\n",
       "      <th>all_adv</th>\n",
       "      <th>just_adv</th>\n",
       "      <th>here_adv</th>\n",
       "      <th>back_adv</th>\n",
       "      <th>never_adv</th>\n",
       "      <th>more_adv</th>\n",
       "      <th>so_adv</th>\n",
       "      <th>always_adv</th>\n",
       "      <th>then_adv</th>\n",
       "    </tr>\n",
       "  </thead>\n",
       "  <tbody>\n",
       "    <tr>\n",
       "      <th>5248</th>\n",
       "      <td>19.269777</td>\n",
       "      <td>196.754564</td>\n",
       "      <td>758.620690</td>\n",
       "      <td>240.365112</td>\n",
       "      <td>117.647059</td>\n",
       "      <td>25.354970</td>\n",
       "      <td>161.257606</td>\n",
       "      <td>7.099391</td>\n",
       "      <td>25.354970</td>\n",
       "      <td>36.511156</td>\n",
       "      <td>30.425963</td>\n",
       "      <td>10.141988</td>\n",
       "      <td>31.440162</td>\n",
       "      <td>19.269777</td>\n",
       "      <td>5.070994</td>\n",
       "      <td>4.056795</td>\n",
       "      <td>15.212982</td>\n",
       "      <td>5.070994</td>\n",
       "      <td>3.042596</td>\n",
       "      <td>6.085193</td>\n",
       "      <td>2.028398</td>\n",
       "      <td>2</td>\n",
       "      <td>3</td>\n",
       "      <td>4</td>\n",
       "      <td>3</td>\n",
       "      <td>3</td>\n",
       "      <td>1</td>\n",
       "      <td>0</td>\n",
       "      <td>1</td>\n",
       "      <td>0</td>\n",
       "      <td>2</td>\n",
       "      <td>4</td>\n",
       "      <td>2</td>\n",
       "      <td>1</td>\n",
       "      <td>0</td>\n",
       "      <td>0</td>\n",
       "      <td>0</td>\n",
       "      <td>1</td>\n",
       "      <td>0</td>\n",
       "      <td>0</td>\n",
       "      <td>0</td>\n",
       "      <td>0</td>\n",
       "      <td>0</td>\n",
       "      <td>0</td>\n",
       "      <td>0</td>\n",
       "      <td>0</td>\n",
       "      <td>0</td>\n",
       "      <td>0</td>\n",
       "      <td>0</td>\n",
       "      <td>0</td>\n",
       "      <td>0</td>\n",
       "      <td>0</td>\n",
       "      <td>0</td>\n",
       "      <td>0</td>\n",
       "      <td>0</td>\n",
       "      <td>2</td>\n",
       "      <td>0</td>\n",
       "      <td>0</td>\n",
       "      <td>0</td>\n",
       "      <td>0</td>\n",
       "      <td>0</td>\n",
       "      <td>0</td>\n",
       "      <td>0</td>\n",
       "      <td>0</td>\n",
       "      <td>0</td>\n",
       "      <td>0</td>\n",
       "      <td>0</td>\n",
       "      <td>0</td>\n",
       "      <td>0</td>\n",
       "      <td>0</td>\n",
       "      <td>0</td>\n",
       "      <td>0</td>\n",
       "      <td>0</td>\n",
       "      <td>0</td>\n",
       "      <td>1</td>\n",
       "      <td>0</td>\n",
       "      <td>0</td>\n",
       "      <td>0</td>\n",
       "      <td>0</td>\n",
       "      <td>0</td>\n",
       "      <td>0</td>\n",
       "      <td>2</td>\n",
       "      <td>2</td>\n",
       "      <td>0</td>\n",
       "      <td>0</td>\n",
       "      <td>0</td>\n",
       "      <td>0</td>\n",
       "      <td>1</td>\n",
       "      <td>0</td>\n",
       "      <td>2</td>\n",
       "    </tr>\n",
       "    <tr>\n",
       "      <th>5249</th>\n",
       "      <td>32.289628</td>\n",
       "      <td>195.694716</td>\n",
       "      <td>746.575342</td>\n",
       "      <td>234.833659</td>\n",
       "      <td>110.567515</td>\n",
       "      <td>20.547945</td>\n",
       "      <td>163.405088</td>\n",
       "      <td>4.892368</td>\n",
       "      <td>40.117417</td>\n",
       "      <td>46.966732</td>\n",
       "      <td>13.698630</td>\n",
       "      <td>7.827789</td>\n",
       "      <td>14.677104</td>\n",
       "      <td>21.526419</td>\n",
       "      <td>2.935421</td>\n",
       "      <td>1.956947</td>\n",
       "      <td>20.547945</td>\n",
       "      <td>8.806262</td>\n",
       "      <td>6.849315</td>\n",
       "      <td>5.870841</td>\n",
       "      <td>2.935421</td>\n",
       "      <td>2</td>\n",
       "      <td>3</td>\n",
       "      <td>3</td>\n",
       "      <td>1</td>\n",
       "      <td>6</td>\n",
       "      <td>3</td>\n",
       "      <td>0</td>\n",
       "      <td>1</td>\n",
       "      <td>0</td>\n",
       "      <td>5</td>\n",
       "      <td>0</td>\n",
       "      <td>0</td>\n",
       "      <td>0</td>\n",
       "      <td>0</td>\n",
       "      <td>4</td>\n",
       "      <td>1</td>\n",
       "      <td>0</td>\n",
       "      <td>0</td>\n",
       "      <td>0</td>\n",
       "      <td>1</td>\n",
       "      <td>0</td>\n",
       "      <td>0</td>\n",
       "      <td>0</td>\n",
       "      <td>0</td>\n",
       "      <td>0</td>\n",
       "      <td>0</td>\n",
       "      <td>0</td>\n",
       "      <td>0</td>\n",
       "      <td>0</td>\n",
       "      <td>0</td>\n",
       "      <td>0</td>\n",
       "      <td>0</td>\n",
       "      <td>0</td>\n",
       "      <td>0</td>\n",
       "      <td>0</td>\n",
       "      <td>0</td>\n",
       "      <td>0</td>\n",
       "      <td>0</td>\n",
       "      <td>0</td>\n",
       "      <td>0</td>\n",
       "      <td>0</td>\n",
       "      <td>0</td>\n",
       "      <td>0</td>\n",
       "      <td>0</td>\n",
       "      <td>0</td>\n",
       "      <td>1</td>\n",
       "      <td>1</td>\n",
       "      <td>0</td>\n",
       "      <td>0</td>\n",
       "      <td>0</td>\n",
       "      <td>4</td>\n",
       "      <td>0</td>\n",
       "      <td>0</td>\n",
       "      <td>0</td>\n",
       "      <td>2</td>\n",
       "      <td>0</td>\n",
       "      <td>0</td>\n",
       "      <td>0</td>\n",
       "      <td>2</td>\n",
       "      <td>1</td>\n",
       "      <td>0</td>\n",
       "      <td>0</td>\n",
       "      <td>0</td>\n",
       "      <td>0</td>\n",
       "      <td>0</td>\n",
       "      <td>0</td>\n",
       "      <td>1</td>\n",
       "      <td>1</td>\n",
       "      <td>1</td>\n",
       "    </tr>\n",
       "    <tr>\n",
       "      <th>5250</th>\n",
       "      <td>21.671827</td>\n",
       "      <td>191.950464</td>\n",
       "      <td>769.865841</td>\n",
       "      <td>234.262126</td>\n",
       "      <td>127.966976</td>\n",
       "      <td>21.671827</td>\n",
       "      <td>157.894737</td>\n",
       "      <td>8.255934</td>\n",
       "      <td>27.863777</td>\n",
       "      <td>41.279670</td>\n",
       "      <td>18.575851</td>\n",
       "      <td>11.351909</td>\n",
       "      <td>24.767802</td>\n",
       "      <td>21.671827</td>\n",
       "      <td>7.223942</td>\n",
       "      <td>7.223942</td>\n",
       "      <td>16.511868</td>\n",
       "      <td>3.095975</td>\n",
       "      <td>2.063983</td>\n",
       "      <td>5.159959</td>\n",
       "      <td>1.031992</td>\n",
       "      <td>2</td>\n",
       "      <td>2</td>\n",
       "      <td>6</td>\n",
       "      <td>2</td>\n",
       "      <td>1</td>\n",
       "      <td>1</td>\n",
       "      <td>0</td>\n",
       "      <td>3</td>\n",
       "      <td>0</td>\n",
       "      <td>4</td>\n",
       "      <td>1</td>\n",
       "      <td>0</td>\n",
       "      <td>1</td>\n",
       "      <td>0</td>\n",
       "      <td>0</td>\n",
       "      <td>0</td>\n",
       "      <td>0</td>\n",
       "      <td>1</td>\n",
       "      <td>0</td>\n",
       "      <td>1</td>\n",
       "      <td>0</td>\n",
       "      <td>0</td>\n",
       "      <td>0</td>\n",
       "      <td>0</td>\n",
       "      <td>0</td>\n",
       "      <td>0</td>\n",
       "      <td>1</td>\n",
       "      <td>0</td>\n",
       "      <td>0</td>\n",
       "      <td>0</td>\n",
       "      <td>0</td>\n",
       "      <td>0</td>\n",
       "      <td>0</td>\n",
       "      <td>0</td>\n",
       "      <td>0</td>\n",
       "      <td>0</td>\n",
       "      <td>1</td>\n",
       "      <td>0</td>\n",
       "      <td>1</td>\n",
       "      <td>0</td>\n",
       "      <td>0</td>\n",
       "      <td>0</td>\n",
       "      <td>0</td>\n",
       "      <td>0</td>\n",
       "      <td>0</td>\n",
       "      <td>0</td>\n",
       "      <td>0</td>\n",
       "      <td>0</td>\n",
       "      <td>0</td>\n",
       "      <td>0</td>\n",
       "      <td>0</td>\n",
       "      <td>0</td>\n",
       "      <td>1</td>\n",
       "      <td>1</td>\n",
       "      <td>0</td>\n",
       "      <td>0</td>\n",
       "      <td>0</td>\n",
       "      <td>0</td>\n",
       "      <td>1</td>\n",
       "      <td>0</td>\n",
       "      <td>0</td>\n",
       "      <td>0</td>\n",
       "      <td>1</td>\n",
       "      <td>0</td>\n",
       "      <td>0</td>\n",
       "      <td>0</td>\n",
       "      <td>1</td>\n",
       "      <td>0</td>\n",
       "      <td>0</td>\n",
       "    </tr>\n",
       "    <tr>\n",
       "      <th>5251</th>\n",
       "      <td>26.418787</td>\n",
       "      <td>196.673190</td>\n",
       "      <td>763.209393</td>\n",
       "      <td>239.726027</td>\n",
       "      <td>121.330724</td>\n",
       "      <td>22.504892</td>\n",
       "      <td>158.512720</td>\n",
       "      <td>3.913894</td>\n",
       "      <td>36.203523</td>\n",
       "      <td>47.945205</td>\n",
       "      <td>17.612524</td>\n",
       "      <td>8.806262</td>\n",
       "      <td>21.526419</td>\n",
       "      <td>8.806262</td>\n",
       "      <td>5.870841</td>\n",
       "      <td>2.935421</td>\n",
       "      <td>16.634051</td>\n",
       "      <td>8.806262</td>\n",
       "      <td>7.827789</td>\n",
       "      <td>10.763209</td>\n",
       "      <td>1.956947</td>\n",
       "      <td>6</td>\n",
       "      <td>9</td>\n",
       "      <td>5</td>\n",
       "      <td>1</td>\n",
       "      <td>7</td>\n",
       "      <td>0</td>\n",
       "      <td>0</td>\n",
       "      <td>4</td>\n",
       "      <td>0</td>\n",
       "      <td>3</td>\n",
       "      <td>3</td>\n",
       "      <td>0</td>\n",
       "      <td>0</td>\n",
       "      <td>0</td>\n",
       "      <td>2</td>\n",
       "      <td>0</td>\n",
       "      <td>0</td>\n",
       "      <td>1</td>\n",
       "      <td>0</td>\n",
       "      <td>1</td>\n",
       "      <td>0</td>\n",
       "      <td>0</td>\n",
       "      <td>0</td>\n",
       "      <td>0</td>\n",
       "      <td>0</td>\n",
       "      <td>0</td>\n",
       "      <td>0</td>\n",
       "      <td>0</td>\n",
       "      <td>0</td>\n",
       "      <td>0</td>\n",
       "      <td>0</td>\n",
       "      <td>0</td>\n",
       "      <td>1</td>\n",
       "      <td>0</td>\n",
       "      <td>0</td>\n",
       "      <td>0</td>\n",
       "      <td>0</td>\n",
       "      <td>0</td>\n",
       "      <td>0</td>\n",
       "      <td>0</td>\n",
       "      <td>0</td>\n",
       "      <td>0</td>\n",
       "      <td>0</td>\n",
       "      <td>0</td>\n",
       "      <td>0</td>\n",
       "      <td>0</td>\n",
       "      <td>2</td>\n",
       "      <td>0</td>\n",
       "      <td>0</td>\n",
       "      <td>0</td>\n",
       "      <td>0</td>\n",
       "      <td>0</td>\n",
       "      <td>1</td>\n",
       "      <td>2</td>\n",
       "      <td>0</td>\n",
       "      <td>1</td>\n",
       "      <td>0</td>\n",
       "      <td>1</td>\n",
       "      <td>2</td>\n",
       "      <td>1</td>\n",
       "      <td>0</td>\n",
       "      <td>0</td>\n",
       "      <td>0</td>\n",
       "      <td>0</td>\n",
       "      <td>0</td>\n",
       "      <td>0</td>\n",
       "      <td>3</td>\n",
       "      <td>1</td>\n",
       "      <td>0</td>\n",
       "    </tr>\n",
       "    <tr>\n",
       "      <th>5252</th>\n",
       "      <td>29.682702</td>\n",
       "      <td>206.755374</td>\n",
       "      <td>746.161720</td>\n",
       "      <td>242.579324</td>\n",
       "      <td>119.754350</td>\n",
       "      <td>16.376663</td>\n",
       "      <td>176.049130</td>\n",
       "      <td>5.117707</td>\n",
       "      <td>48.106448</td>\n",
       "      <td>40.941658</td>\n",
       "      <td>13.306039</td>\n",
       "      <td>7.164790</td>\n",
       "      <td>16.376663</td>\n",
       "      <td>19.447288</td>\n",
       "      <td>11.258956</td>\n",
       "      <td>2.047083</td>\n",
       "      <td>11.258956</td>\n",
       "      <td>16.376663</td>\n",
       "      <td>9.211873</td>\n",
       "      <td>9.211873</td>\n",
       "      <td>0.000000</td>\n",
       "      <td>6</td>\n",
       "      <td>8</td>\n",
       "      <td>7</td>\n",
       "      <td>4</td>\n",
       "      <td>5</td>\n",
       "      <td>2</td>\n",
       "      <td>0</td>\n",
       "      <td>2</td>\n",
       "      <td>4</td>\n",
       "      <td>4</td>\n",
       "      <td>0</td>\n",
       "      <td>1</td>\n",
       "      <td>0</td>\n",
       "      <td>1</td>\n",
       "      <td>0</td>\n",
       "      <td>0</td>\n",
       "      <td>0</td>\n",
       "      <td>0</td>\n",
       "      <td>0</td>\n",
       "      <td>0</td>\n",
       "      <td>0</td>\n",
       "      <td>0</td>\n",
       "      <td>0</td>\n",
       "      <td>0</td>\n",
       "      <td>0</td>\n",
       "      <td>0</td>\n",
       "      <td>1</td>\n",
       "      <td>0</td>\n",
       "      <td>0</td>\n",
       "      <td>0</td>\n",
       "      <td>0</td>\n",
       "      <td>0</td>\n",
       "      <td>0</td>\n",
       "      <td>1</td>\n",
       "      <td>0</td>\n",
       "      <td>0</td>\n",
       "      <td>1</td>\n",
       "      <td>0</td>\n",
       "      <td>0</td>\n",
       "      <td>0</td>\n",
       "      <td>0</td>\n",
       "      <td>0</td>\n",
       "      <td>0</td>\n",
       "      <td>0</td>\n",
       "      <td>0</td>\n",
       "      <td>0</td>\n",
       "      <td>0</td>\n",
       "      <td>0</td>\n",
       "      <td>0</td>\n",
       "      <td>0</td>\n",
       "      <td>1</td>\n",
       "      <td>0</td>\n",
       "      <td>0</td>\n",
       "      <td>0</td>\n",
       "      <td>0</td>\n",
       "      <td>0</td>\n",
       "      <td>0</td>\n",
       "      <td>1</td>\n",
       "      <td>0</td>\n",
       "      <td>2</td>\n",
       "      <td>0</td>\n",
       "      <td>1</td>\n",
       "      <td>0</td>\n",
       "      <td>0</td>\n",
       "      <td>1</td>\n",
       "      <td>0</td>\n",
       "      <td>0</td>\n",
       "      <td>1</td>\n",
       "      <td>0</td>\n",
       "    </tr>\n",
       "  </tbody>\n",
       "</table>\n",
       "</div>"
      ],
      "text/plain": [
       "      n_sents_norm  n_words_norm  n_chars_norm  n_syllables_norm  \\\n",
       "5248     19.269777    196.754564    758.620690        240.365112   \n",
       "5249     32.289628    195.694716    746.575342        234.833659   \n",
       "5250     21.671827    191.950464    769.865841        234.262126   \n",
       "5251     26.418787    196.673190    763.209393        239.726027   \n",
       "5252     29.682702    206.755374    746.161720        242.579324   \n",
       "\n",
       "      n_unique_words_norm  n_long_words_norm  n_monosyllable_words_norm  \\\n",
       "5248           117.647059          25.354970                 161.257606   \n",
       "5249           110.567515          20.547945                 163.405088   \n",
       "5250           127.966976          21.671827                 157.894737   \n",
       "5251           121.330724          22.504892                 158.512720   \n",
       "5252           119.754350          16.376663                 176.049130   \n",
       "\n",
       "      n_polysyllable_words_norm  pron_count_norm  verb_count_norm  \\\n",
       "5248                   7.099391        25.354970        36.511156   \n",
       "5249                   4.892368        40.117417        46.966732   \n",
       "5250                   8.255934        27.863777        41.279670   \n",
       "5251                   3.913894        36.203523        47.945205   \n",
       "5252                   5.117707        48.106448        40.941658   \n",
       "\n",
       "      det_count_norm  adj_count_norm  noun_count_norm  adp_count_norm  \\\n",
       "5248       30.425963       10.141988        31.440162       19.269777   \n",
       "5249       13.698630        7.827789        14.677104       21.526419   \n",
       "5250       18.575851       11.351909        24.767802       21.671827   \n",
       "5251       17.612524        8.806262        21.526419        8.806262   \n",
       "5252       13.306039        7.164790        16.376663       19.447288   \n",
       "\n",
       "      cconj_count_norm  sconj_count_norm  adv_count_norm  aux_count_norm  \\\n",
       "5248          5.070994          4.056795       15.212982        5.070994   \n",
       "5249          2.935421          1.956947       20.547945        8.806262   \n",
       "5250          7.223942          7.223942       16.511868        3.095975   \n",
       "5251          5.870841          2.935421       16.634051        8.806262   \n",
       "5252         11.258956          2.047083       11.258956       16.376663   \n",
       "\n",
       "      part_count_norm  propn_count_norm  intj_count_norm  the_w  to_w  and_w  \\\n",
       "5248         3.042596          6.085193         2.028398      2     3      4   \n",
       "5249         6.849315          5.870841         2.935421      2     3      3   \n",
       "5250         2.063983          5.159959         1.031992      2     2      6   \n",
       "5251         7.827789         10.763209         1.956947      6     9      5   \n",
       "5252         9.211873          9.211873         0.000000      6     8      7   \n",
       "\n",
       "      of_w  you_w  was_w  he_w  she_w  had_w  said_w  like_w  just_w  time_w  \\\n",
       "5248     3      3      1     0      1      0       2       4       2       1   \n",
       "5249     1      6      3     0      1      0       5       0       0       0   \n",
       "5250     2      1      1     0      3      0       4       1       0       1   \n",
       "5251     1      7      0     0      4      0       3       3       0       0   \n",
       "5252     4      5      2     0      2      4       4       0       1       0   \n",
       "\n",
       "      know_w  think_w  got_w  right_w  bad_adj  strange_adj  good_adj  \\\n",
       "5248       0        0      0        1        0            0         0   \n",
       "5249       0        4      1        0        0            0         1   \n",
       "5250       0        0      0        0        1            0         1   \n",
       "5251       0        2      0        0        1            0         1   \n",
       "5252       1        0      0        0        0            0         0   \n",
       "\n",
       "      own_adj  hard_adj  new_adj  next_adj  real_adj  small_adj  whole_adj  \\\n",
       "5248        0         0        0         0         0          0          0   \n",
       "5249        0         0        0         0         0          0          0   \n",
       "5250        0         0        0         0         0          0          1   \n",
       "5251        0         0        0         0         0          0          0   \n",
       "5252        0         0        0         0         0          0          1   \n",
       "\n",
       "      few_adj  able_adj  young_adj  only_adj  much_adj  same_adj  other_adj  \\\n",
       "5248        0         0          0         0         0         0          0   \n",
       "5249        0         0          0         0         0         0          0   \n",
       "5250        0         0          0         0         0         0          0   \n",
       "5251        0         0          0         0         0         1          0   \n",
       "5252        0         0          0         0         0         0          1   \n",
       "\n",
       "      old_adj  little_adj  more_adj  right_adj  long_adj  last_adj  \\\n",
       "5248        2           0         0          0         0         0   \n",
       "5249        0           0         0          0         0         0   \n",
       "5250        0           0         1          0         1         0   \n",
       "5251        0           0         0          0         0         0   \n",
       "5252        0           0         1          0         0         0   \n",
       "\n",
       "      different_adj  deep_adj  first_adj  sure_adj  big_adj  how_adv  \\\n",
       "5248              0         0          0         0        0        0   \n",
       "5249              0         0          0         0        0        1   \n",
       "5250              0         0          0         0        0        0   \n",
       "5251              0         0          0         0        0        0   \n",
       "5252              0         0          0         0        0        0   \n",
       "\n",
       "      still_adv  where_adv  even_adv  very_adv  again_adv  maybe_adv  as_adv  \\\n",
       "5248          0          0         0         0          0          0       0   \n",
       "5249          1          0         0         0          4          0       0   \n",
       "5250          0          0         0         0          0          0       1   \n",
       "5251          2          0         0         0          0          0       1   \n",
       "5252          0          0         0         0          1          0       0   \n",
       "\n",
       "      there_adv  why_adv  really_adv  now_adv  only_adv  when_adv  too_adv  \\\n",
       "5248          1        0           0        0         0         0        0   \n",
       "5249          0        2           0        0         0         2        1   \n",
       "5250          1        0           0        0         0         1        0   \n",
       "5251          2        0           1        0         1         2        1   \n",
       "5252          0        0           0        0         1         0        2   \n",
       "\n",
       "      all_adv  just_adv  here_adv  back_adv  never_adv  more_adv  so_adv  \\\n",
       "5248        2         2         0         0          0         0       1   \n",
       "5249        0         0         0         0          0         0       1   \n",
       "5250        0         0         1         0          0         0       1   \n",
       "5251        0         0         0         0          0         0       3   \n",
       "5252        0         1         0         0          1         0       0   \n",
       "\n",
       "      always_adv  then_adv  \n",
       "5248           0         2  \n",
       "5249           1         1  \n",
       "5250           0         0  \n",
       "5251           1         0  \n",
       "5252           1         0  "
      ]
     },
     "execution_count": 326,
     "metadata": {},
     "output_type": "execute_result"
    }
   ],
   "source": [
    "X_test.tail()"
   ]
  },
  {
   "cell_type": "code",
   "execution_count": 327,
   "metadata": {
    "ExecuteTime": {
     "end_time": "2020-05-31T09:11:09.794844Z",
     "start_time": "2020-05-31T09:11:09.787190Z"
    }
   },
   "outputs": [
    {
     "data": {
      "text/plain": [
       "5248    0\n",
       "5249    0\n",
       "5250    0\n",
       "5251    0\n",
       "5252    0\n",
       "Name: trans_code, dtype: int64"
      ]
     },
     "execution_count": 327,
     "metadata": {},
     "output_type": "execute_result"
    }
   ],
   "source": [
    "y_test.tail()"
   ]
  },
  {
   "cell_type": "code",
   "execution_count": 328,
   "metadata": {
    "ExecuteTime": {
     "end_time": "2020-05-31T09:11:10.564405Z",
     "start_time": "2020-05-31T09:11:10.561352Z"
    }
   },
   "outputs": [],
   "source": [
    "# X_train = X_train.sample(frac=1, random_state=1)\n",
    "# y_train = y_train.sample(frac=1, random_state=1)"
   ]
  },
  {
   "cell_type": "markdown",
   "metadata": {},
   "source": [
    "### Standardise the predictor variables"
   ]
  },
  {
   "cell_type": "code",
   "execution_count": 329,
   "metadata": {
    "ExecuteTime": {
     "end_time": "2020-05-31T09:11:11.458791Z",
     "start_time": "2020-05-31T09:11:11.431443Z"
    }
   },
   "outputs": [],
   "source": [
    "scaler = StandardScaler()\n",
    "X_train = pd.DataFrame(scaler.fit_transform(X_train), columns=X.columns)\n",
    "X_test = pd.DataFrame(scaler.transform(X_test), columns=X.columns)"
   ]
  },
  {
   "cell_type": "markdown",
   "metadata": {},
   "source": [
    "###  Gridsearch Logistic Regression "
   ]
  },
  {
   "cell_type": "code",
   "execution_count": 330,
   "metadata": {
    "ExecuteTime": {
     "end_time": "2020-05-31T09:11:12.499777Z",
     "start_time": "2020-05-31T09:11:12.494333Z"
    }
   },
   "outputs": [],
   "source": [
    "def lr_mc_gridsearch(X_train, y_train):\n",
    "    # set model\n",
    "    model = LogisticRegression(solver='liblinear', multi_class='ovr', max_iter=1000)\n",
    "    # set typical grid search parameters\n",
    "#     params = {'C': np.logspace(-4, 4, 10),\n",
    "#           'penalty': ['l1', 'l2'],\n",
    "#           'fit_intercept': [True, False]}\n",
    "    params = {'C': [0.01, 0.1, 1, 10, 100],\n",
    "              'penalty': ['l1', 'l2']}\n",
    "\n",
    "    # instantiate model\n",
    "    model_gs = GridSearchCV(estimator=model,\n",
    "                  param_grid=params,\n",
    "                  cv=5,\n",
    "                  scoring='accuracy',\n",
    "                  return_train_score=True)\n",
    "    # fit the model\n",
    "    model_gs.fit(X_train, y_train)\n",
    "    return model_gs"
   ]
  },
  {
   "cell_type": "code",
   "execution_count": 331,
   "metadata": {
    "ExecuteTime": {
     "end_time": "2020-05-31T09:11:13.215417Z",
     "start_time": "2020-05-31T09:11:13.205837Z"
    }
   },
   "outputs": [],
   "source": [
    "def lr_gridsearch_score(model, X_train, y_train, X_test, y_test):\n",
    "    \n",
    "    # print the grid search results\n",
    "    results_dict = {}\n",
    "    print('Best Parameters:')\n",
    "    print(model.best_params_)\n",
    "    print('Best estimator mean cross validated training score:')\n",
    "    print(model.best_score_)\n",
    "    print('Best estimator score on the full training set:')\n",
    "    print(model.score(X_train, y_train))\n",
    "    print('Best estimator score on the test set:')\n",
    "    print(model.score(X_test, y_test))\n",
    "#     print('ROC-AUC score on the test set:')\n",
    "    \n",
    "#     # store the grid search results as a dictionary\n",
    "#     y_bin = label_binarize(y_test, model.classes_)\n",
    "#     for i, class_ in enumerate(model.classes_):\n",
    "#         print('Class {}:'.format(class_), round(roc_auc_score(y_bin[:,i],model.predict_proba(X_test)[:,i]),2))\n",
    "    results_dict['Best_Parameters'] = model.best_params_\n",
    "    results_dict['Best_CV_Score'] = model.best_score_\n",
    "    results_dict['Best_Train_Score'] = model.score(X_train, y_train)\n",
    "    results_dict['Best_Test_Score'] = model.score(X_test, y_test)\n",
    "#     results_dict['AUC_Class_0'] = roc_auc_score(y_bin[:,0],model.predict_proba(X_test)[:,0])\n",
    "#     results_dict['AUC_Class_1'] = roc_auc_score(y_bin[:,1],model.predict_proba(X_test)[:,1])\n",
    "#     results_dict['AUC_Class_2'] = roc_auc_score(y_bin[:,2],model.predict_proba(X_test)[:,2])\n",
    "    predictions = model.predict(X_test)\n",
    "    results_dict['conmat'] = confusion_matrix(\n",
    "        y_test, predictions, labels=[0, 1, 2])\n",
    "\n",
    "    return results_dict"
   ]
  },
  {
   "cell_type": "code",
   "execution_count": 332,
   "metadata": {
    "ExecuteTime": {
     "end_time": "2020-05-31T09:12:07.984637Z",
     "start_time": "2020-05-31T09:11:15.210224Z"
    }
   },
   "outputs": [],
   "source": [
    "lreg_gs_01 = lr_mc_gridsearch(X_train, y_train)"
   ]
  },
  {
   "cell_type": "code",
   "execution_count": 333,
   "metadata": {
    "ExecuteTime": {
     "end_time": "2020-05-31T09:12:08.012981Z",
     "start_time": "2020-05-31T09:12:07.987132Z"
    }
   },
   "outputs": [
    {
     "name": "stdout",
     "output_type": "stream",
     "text": [
      "Best Parameters:\n",
      "{'C': 0.1, 'penalty': 'l2'}\n",
      "Best estimator mean cross validated training score:\n",
      "0.6529361355226357\n",
      "Best estimator score on the full training set:\n",
      "0.7154255319148937\n",
      "Best estimator score on the test set:\n",
      "0.58\n"
     ]
    }
   ],
   "source": [
    "lreg_gs_01_results = lr_gridsearch_score(lreg_gs_01, X_train, y_train, X_test, y_test)"
   ]
  },
  {
   "cell_type": "code",
   "execution_count": 334,
   "metadata": {
    "ExecuteTime": {
     "end_time": "2020-05-31T09:12:08.025834Z",
     "start_time": "2020-05-31T09:12:08.017154Z"
    }
   },
   "outputs": [
    {
     "data": {
      "text/plain": [
       "{'Best_Parameters': {'C': 0.1, 'penalty': 'l2'},\n",
       " 'Best_CV_Score': 0.6529361355226357,\n",
       " 'Best_Train_Score': 0.7154255319148937,\n",
       " 'Best_Test_Score': 0.58,\n",
       " 'conmat': array([[192,  83,  72],\n",
       "        [ 94, 214,  45],\n",
       "        [  0,   0,   0]])}"
      ]
     },
     "execution_count": 334,
     "metadata": {},
     "output_type": "execute_result"
    }
   ],
   "source": [
    "lreg_gs_01_results"
   ]
  },
  {
   "cell_type": "code",
   "execution_count": 225,
   "metadata": {
    "ExecuteTime": {
     "end_time": "2020-05-31T08:51:06.238027Z",
     "start_time": "2020-05-31T08:51:06.234801Z"
    }
   },
   "outputs": [],
   "source": [
    "# y_test.value_counts(normalize=True)"
   ]
  },
  {
   "cell_type": "code",
   "execution_count": 335,
   "metadata": {
    "ExecuteTime": {
     "end_time": "2020-05-31T09:12:19.799875Z",
     "start_time": "2020-05-31T09:12:19.792526Z"
    }
   },
   "outputs": [
    {
     "data": {
      "text/plain": [
       "0.5042857142857143"
      ]
     },
     "execution_count": 335,
     "metadata": {},
     "output_type": "execute_result"
    }
   ],
   "source": [
    "baseline_acc = y_test.value_counts(normalize=True).max()\n",
    "baseline_acc"
   ]
  },
  {
   "cell_type": "code",
   "execution_count": 336,
   "metadata": {
    "ExecuteTime": {
     "end_time": "2020-05-31T09:12:20.458702Z",
     "start_time": "2020-05-31T09:12:20.444982Z"
    }
   },
   "outputs": [
    {
     "name": "stdout",
     "output_type": "stream",
     "text": [
      "                 predicted birnbaum  predicted rubin  predicted gabriel\n",
      "actual birnbaum                 192               83                 72\n",
      "actual rubin                     94              214                 45\n",
      "actual gabriel                    0                0                  0\n"
     ]
    }
   ],
   "source": [
    "predictions = lreg_gs_01.predict(X_test)\n",
    "conmat = confusion_matrix(\n",
    "        y_test, predictions, labels=[0, 1, 2])\n",
    "print(pd.DataFrame(conmat, index=['actual birnbaum', 'actual rubin', 'actual gabriel'],\n",
    "                             columns=['predicted birnbaum', 'predicted rubin', 'predicted gabriel']))"
   ]
  },
  {
   "cell_type": "code",
   "execution_count": 337,
   "metadata": {
    "ExecuteTime": {
     "end_time": "2020-05-31T09:12:27.648498Z",
     "start_time": "2020-05-31T09:12:27.631750Z"
    }
   },
   "outputs": [
    {
     "name": "stdout",
     "output_type": "stream",
     "text": [
      "              precision    recall  f1-score   support\n",
      "\n",
      "           0       0.67      0.55      0.61       347\n",
      "           1       0.72      0.61      0.66       353\n",
      "           2       0.00      0.00      0.00         0\n",
      "\n",
      "    accuracy                           0.58       700\n",
      "   macro avg       0.46      0.39      0.42       700\n",
      "weighted avg       0.70      0.58      0.63       700\n",
      "\n"
     ]
    },
    {
     "name": "stderr",
     "output_type": "stream",
     "text": [
      "/Users/Steven/opt/anaconda3/envs/textacy/lib/python3.8/site-packages/sklearn/metrics/_classification.py:1272: UndefinedMetricWarning: Recall and F-score are ill-defined and being set to 0.0 in labels with no true samples. Use `zero_division` parameter to control this behavior.\n",
      "  _warn_prf(average, modifier, msg_start, len(result))\n"
     ]
    }
   ],
   "source": [
    "print(classification_report(y_test, predictions))"
   ]
  },
  {
   "cell_type": "markdown",
   "metadata": {},
   "source": [
    "#### There is a very slight improvement over the basic logistic regression - optimizing parameters with gridsearch does not improve accuracy significantly"
   ]
  },
  {
   "cell_type": "markdown",
   "metadata": {},
   "source": [
    "### Save the model"
   ]
  },
  {
   "cell_type": "code",
   "execution_count": 25,
   "metadata": {
    "ExecuteTime": {
     "end_time": "2020-05-15T16:24:57.211308Z",
     "start_time": "2020-05-15T16:24:57.206104Z"
    }
   },
   "outputs": [],
   "source": [
    "# # set the output path and name\n",
    "# out_path = '../../../Documents/murakami/pkl_models/'\n",
    "# out_name = 'lreg_gs_01_ns'\n",
    "# out_full_path = out_path + out_name + '.pkl'\n",
    "\n",
    "# # save pickle\n",
    "# with open(out_full_path, 'wb') as fp:\n",
    "#     pickle.dump(lreg_gs_01, fp)"
   ]
  },
  {
   "cell_type": "markdown",
   "metadata": {},
   "source": [
    "## Review most confidently predicted texts per translator"
   ]
  },
  {
   "cell_type": "code",
   "execution_count": 338,
   "metadata": {
    "ExecuteTime": {
     "end_time": "2020-05-31T09:13:06.403592Z",
     "start_time": "2020-05-31T09:13:06.383819Z"
    }
   },
   "outputs": [
    {
     "data": {
      "text/html": [
       "<div>\n",
       "<style scoped>\n",
       "    .dataframe tbody tr th:only-of-type {\n",
       "        vertical-align: middle;\n",
       "    }\n",
       "\n",
       "    .dataframe tbody tr th {\n",
       "        vertical-align: top;\n",
       "    }\n",
       "\n",
       "    .dataframe thead th {\n",
       "        text-align: right;\n",
       "    }\n",
       "</style>\n",
       "<table border=\"1\" class=\"dataframe\">\n",
       "  <thead>\n",
       "    <tr style=\"text-align: right;\">\n",
       "      <th></th>\n",
       "      <th>trans_0_pp</th>\n",
       "      <th>trans_1_pp</th>\n",
       "      <th>trans_2_pp</th>\n",
       "      <th>original_index</th>\n",
       "    </tr>\n",
       "  </thead>\n",
       "  <tbody>\n",
       "    <tr>\n",
       "      <th>0</th>\n",
       "      <td>0.113802</td>\n",
       "      <td>0.197982</td>\n",
       "      <td>0.688216</td>\n",
       "      <td>1878</td>\n",
       "    </tr>\n",
       "    <tr>\n",
       "      <th>1</th>\n",
       "      <td>0.295786</td>\n",
       "      <td>0.168162</td>\n",
       "      <td>0.536052</td>\n",
       "      <td>1879</td>\n",
       "    </tr>\n",
       "    <tr>\n",
       "      <th>2</th>\n",
       "      <td>0.525187</td>\n",
       "      <td>0.195341</td>\n",
       "      <td>0.279472</td>\n",
       "      <td>1880</td>\n",
       "    </tr>\n",
       "    <tr>\n",
       "      <th>3</th>\n",
       "      <td>0.780780</td>\n",
       "      <td>0.204005</td>\n",
       "      <td>0.015215</td>\n",
       "      <td>1881</td>\n",
       "    </tr>\n",
       "    <tr>\n",
       "      <th>4</th>\n",
       "      <td>0.508686</td>\n",
       "      <td>0.402482</td>\n",
       "      <td>0.088833</td>\n",
       "      <td>1882</td>\n",
       "    </tr>\n",
       "  </tbody>\n",
       "</table>\n",
       "</div>"
      ],
      "text/plain": [
       "   trans_0_pp  trans_1_pp  trans_2_pp  original_index\n",
       "0    0.113802    0.197982    0.688216            1878\n",
       "1    0.295786    0.168162    0.536052            1879\n",
       "2    0.525187    0.195341    0.279472            1880\n",
       "3    0.780780    0.204005    0.015215            1881\n",
       "4    0.508686    0.402482    0.088833            1882"
      ]
     },
     "execution_count": 338,
     "metadata": {},
     "output_type": "execute_result"
    }
   ],
   "source": [
    "# Get the predicted probabilities and explicitly name the columns:\n",
    "Y_pp = pd.DataFrame(lreg_gs_01.predict_proba(X_test), \n",
    "             columns=['trans_0_pp', 'trans_1_pp', 'trans_2_pp'])\n",
    "# add the original indices from before the train test shuffle\n",
    "Y_pp['original_index'] = indices_test\n",
    "Y_pp.head()"
   ]
  },
  {
   "cell_type": "code",
   "execution_count": 229,
   "metadata": {
    "ExecuteTime": {
     "end_time": "2020-05-31T08:51:39.707528Z",
     "start_time": "2020-05-31T08:51:39.697205Z"
    }
   },
   "outputs": [],
   "source": [
    "# Y_pp_merged = Y_pp.join(df, how='left')"
   ]
  },
  {
   "cell_type": "code",
   "execution_count": 339,
   "metadata": {
    "ExecuteTime": {
     "end_time": "2020-05-31T09:13:14.895110Z",
     "start_time": "2020-05-31T09:13:14.882144Z"
    }
   },
   "outputs": [],
   "source": [
    "Y_pp_merged = Y_pp.merge(df, how='left', left_on='original_index', right_index=True)\n",
    "# Y_pp_merged = Y_pp.merge(df, how='left', left_index=True, right_index=True)"
   ]
  },
  {
   "cell_type": "code",
   "execution_count": 340,
   "metadata": {
    "ExecuteTime": {
     "end_time": "2020-05-31T09:13:15.428821Z",
     "start_time": "2020-05-31T09:13:15.422342Z"
    }
   },
   "outputs": [
    {
     "data": {
      "text/plain": [
       "700"
      ]
     },
     "execution_count": 340,
     "metadata": {},
     "output_type": "execute_result"
    }
   ],
   "source": [
    "len(Y_pp_merged)"
   ]
  },
  {
   "cell_type": "code",
   "execution_count": 341,
   "metadata": {
    "ExecuteTime": {
     "end_time": "2020-05-31T09:13:16.275972Z",
     "start_time": "2020-05-31T09:13:16.184215Z"
    }
   },
   "outputs": [
    {
     "data": {
      "text/html": [
       "<div>\n",
       "<style scoped>\n",
       "    .dataframe tbody tr th:only-of-type {\n",
       "        vertical-align: middle;\n",
       "    }\n",
       "\n",
       "    .dataframe tbody tr th {\n",
       "        vertical-align: top;\n",
       "    }\n",
       "\n",
       "    .dataframe thead th {\n",
       "        text-align: right;\n",
       "    }\n",
       "</style>\n",
       "<table border=\"1\" class=\"dataframe\">\n",
       "  <thead>\n",
       "    <tr style=\"text-align: right;\">\n",
       "      <th></th>\n",
       "      <th>trans_0_pp</th>\n",
       "      <th>trans_1_pp</th>\n",
       "      <th>trans_2_pp</th>\n",
       "      <th>original_index</th>\n",
       "      <th>book_chunk_no</th>\n",
       "      <th>number</th>\n",
       "      <th>title</th>\n",
       "      <th>text</th>\n",
       "      <th>fstop_indices</th>\n",
       "      <th>split_indices</th>\n",
       "      <th>chunks</th>\n",
       "      <th>translator</th>\n",
       "      <th>book_title</th>\n",
       "      <th>parsed</th>\n",
       "      <th>n_sents</th>\n",
       "      <th>n_words</th>\n",
       "      <th>n_chars</th>\n",
       "      <th>n_syllables</th>\n",
       "      <th>n_unique_words</th>\n",
       "      <th>n_long_words</th>\n",
       "      <th>n_monosyllable_words</th>\n",
       "      <th>n_polysyllable_words</th>\n",
       "      <th>trans_code</th>\n",
       "      <th>chunk_length</th>\n",
       "      <th>n_sents_norm</th>\n",
       "      <th>n_words_norm</th>\n",
       "      <th>n_chars_norm</th>\n",
       "      <th>n_syllables_norm</th>\n",
       "      <th>n_unique_words_norm</th>\n",
       "      <th>n_long_words_norm</th>\n",
       "      <th>n_monosyllable_words_norm</th>\n",
       "      <th>n_polysyllable_words_norm</th>\n",
       "      <th>vader_compound</th>\n",
       "      <th>vader_neg</th>\n",
       "      <th>vader_neu</th>\n",
       "      <th>vader_pos</th>\n",
       "      <th>pron_count</th>\n",
       "      <th>verb_count</th>\n",
       "      <th>det_count</th>\n",
       "      <th>adj_count</th>\n",
       "      <th>num_count</th>\n",
       "      <th>punct_count</th>\n",
       "      <th>noun_count</th>\n",
       "      <th>adp_count</th>\n",
       "      <th>cconj_count</th>\n",
       "      <th>sconj_count</th>\n",
       "      <th>adv_count</th>\n",
       "      <th>aux_count</th>\n",
       "      <th>part_count</th>\n",
       "      <th>propn_count</th>\n",
       "      <th>...</th>\n",
       "      <th>very_adv</th>\n",
       "      <th>again_adv</th>\n",
       "      <th>maybe_adv</th>\n",
       "      <th>as_adv</th>\n",
       "      <th>there_adv</th>\n",
       "      <th>why_adv</th>\n",
       "      <th>really_adv</th>\n",
       "      <th>now_adv</th>\n",
       "      <th>only_adv</th>\n",
       "      <th>when_adv</th>\n",
       "      <th>too_adv</th>\n",
       "      <th>all_adv</th>\n",
       "      <th>just_adv</th>\n",
       "      <th>here_adv</th>\n",
       "      <th>back_adv</th>\n",
       "      <th>never_adv</th>\n",
       "      <th>more_adv</th>\n",
       "      <th>so_adv</th>\n",
       "      <th>always_adv</th>\n",
       "      <th>then_adv</th>\n",
       "      <th>bad_adj</th>\n",
       "      <th>strange_adj</th>\n",
       "      <th>good_adj</th>\n",
       "      <th>own_adj</th>\n",
       "      <th>hard_adj</th>\n",
       "      <th>new_adj</th>\n",
       "      <th>next_adj</th>\n",
       "      <th>real_adj</th>\n",
       "      <th>small_adj</th>\n",
       "      <th>whole_adj</th>\n",
       "      <th>few_adj</th>\n",
       "      <th>able_adj</th>\n",
       "      <th>young_adj</th>\n",
       "      <th>only_adj</th>\n",
       "      <th>much_adj</th>\n",
       "      <th>same_adj</th>\n",
       "      <th>other_adj</th>\n",
       "      <th>old_adj</th>\n",
       "      <th>little_adj</th>\n",
       "      <th>more_adj</th>\n",
       "      <th>right_adj</th>\n",
       "      <th>long_adj</th>\n",
       "      <th>last_adj</th>\n",
       "      <th>different_adj</th>\n",
       "      <th>deep_adj</th>\n",
       "      <th>first_adj</th>\n",
       "      <th>sure_adj</th>\n",
       "      <th>big_adj</th>\n",
       "      <th>vlong_words_count</th>\n",
       "      <th>test_flag</th>\n",
       "    </tr>\n",
       "  </thead>\n",
       "  <tbody>\n",
       "    <tr>\n",
       "      <th>0</th>\n",
       "      <td>0.113802</td>\n",
       "      <td>0.197982</td>\n",
       "      <td>0.688216</td>\n",
       "      <td>1878</td>\n",
       "      <td>0</td>\n",
       "      <td>1</td>\n",
       "      <td>1</td>\n",
       "      <td>I’M IN THE kitchen cooking spaghetti when the ...</td>\n",
       "      <td>[57, 188, 221, 275, 309, 416, 571, 643, 717, 7...</td>\n",
       "      <td>[932, 1991, 2929, 3948, 4981, 5988, 6998, 7953...</td>\n",
       "      <td>I’M IN THEkitchen cooking spaghetti when the w...</td>\n",
       "      <td>Alfred Birnbaum</td>\n",
       "      <td>The Elephant Vanishes</td>\n",
       "      <td>(I’M, IN, THEkitchen, cooking, spaghetti, when...</td>\n",
       "      <td>14</td>\n",
       "      <td>166</td>\n",
       "      <td>731</td>\n",
       "      <td>230</td>\n",
       "      <td>109</td>\n",
       "      <td>33</td>\n",
       "      <td>112</td>\n",
       "      <td>8</td>\n",
       "      <td>0</td>\n",
       "      <td>929</td>\n",
       "      <td>15.069968</td>\n",
       "      <td>178.686760</td>\n",
       "      <td>786.867600</td>\n",
       "      <td>247.578041</td>\n",
       "      <td>117.330463</td>\n",
       "      <td>35.522067</td>\n",
       "      <td>120.559742</td>\n",
       "      <td>8.611410</td>\n",
       "      <td>0.8903</td>\n",
       "      <td>0.037</td>\n",
       "      <td>0.862</td>\n",
       "      <td>0.102</td>\n",
       "      <td>16.0</td>\n",
       "      <td>32.0</td>\n",
       "      <td>24.0</td>\n",
       "      <td>3.0</td>\n",
       "      <td>2.0</td>\n",
       "      <td>38.0</td>\n",
       "      <td>34.0</td>\n",
       "      <td>18.0</td>\n",
       "      <td>4.0</td>\n",
       "      <td>1.0</td>\n",
       "      <td>15.0</td>\n",
       "      <td>5.0</td>\n",
       "      <td>2.0</td>\n",
       "      <td>10.0</td>\n",
       "      <td>...</td>\n",
       "      <td>0</td>\n",
       "      <td>1</td>\n",
       "      <td>0</td>\n",
       "      <td>1</td>\n",
       "      <td>1</td>\n",
       "      <td>0</td>\n",
       "      <td>0</td>\n",
       "      <td>0</td>\n",
       "      <td>0</td>\n",
       "      <td>1</td>\n",
       "      <td>0</td>\n",
       "      <td>0</td>\n",
       "      <td>1</td>\n",
       "      <td>0</td>\n",
       "      <td>1</td>\n",
       "      <td>0</td>\n",
       "      <td>0</td>\n",
       "      <td>0</td>\n",
       "      <td>0</td>\n",
       "      <td>0</td>\n",
       "      <td>0</td>\n",
       "      <td>0</td>\n",
       "      <td>0</td>\n",
       "      <td>0</td>\n",
       "      <td>0</td>\n",
       "      <td>1</td>\n",
       "      <td>0</td>\n",
       "      <td>0</td>\n",
       "      <td>0</td>\n",
       "      <td>0</td>\n",
       "      <td>0</td>\n",
       "      <td>0</td>\n",
       "      <td>0</td>\n",
       "      <td>0</td>\n",
       "      <td>0</td>\n",
       "      <td>0</td>\n",
       "      <td>0</td>\n",
       "      <td>0</td>\n",
       "      <td>0</td>\n",
       "      <td>0</td>\n",
       "      <td>0</td>\n",
       "      <td>0</td>\n",
       "      <td>0</td>\n",
       "      <td>0</td>\n",
       "      <td>0</td>\n",
       "      <td>0</td>\n",
       "      <td>0</td>\n",
       "      <td>0</td>\n",
       "      <td>1</td>\n",
       "      <td>1</td>\n",
       "    </tr>\n",
       "    <tr>\n",
       "      <th>1</th>\n",
       "      <td>0.295786</td>\n",
       "      <td>0.168162</td>\n",
       "      <td>0.536052</td>\n",
       "      <td>1879</td>\n",
       "      <td>1</td>\n",
       "      <td>1</td>\n",
       "      <td>1</td>\n",
       "      <td>I’M IN THE kitchen cooking spaghetti when the ...</td>\n",
       "      <td>[57, 188, 221, 275, 309, 416, 571, 643, 717, 7...</td>\n",
       "      <td>[932, 1991, 2929, 3948, 4981, 5988, 6998, 7953...</td>\n",
       "      <td>And I pride myself on a near-perfect ear for v...</td>\n",
       "      <td>Alfred Birnbaum</td>\n",
       "      <td>The Elephant Vanishes</td>\n",
       "      <td>(And, I, pride, myself, on, a, near, -, perfec...</td>\n",
       "      <td>25</td>\n",
       "      <td>206</td>\n",
       "      <td>814</td>\n",
       "      <td>262</td>\n",
       "      <td>123</td>\n",
       "      <td>30</td>\n",
       "      <td>161</td>\n",
       "      <td>9</td>\n",
       "      <td>0</td>\n",
       "      <td>1057</td>\n",
       "      <td>23.651845</td>\n",
       "      <td>194.891202</td>\n",
       "      <td>770.104068</td>\n",
       "      <td>247.871334</td>\n",
       "      <td>116.367077</td>\n",
       "      <td>28.382214</td>\n",
       "      <td>152.317881</td>\n",
       "      <td>8.514664</td>\n",
       "      <td>0.7800</td>\n",
       "      <td>0.040</td>\n",
       "      <td>0.872</td>\n",
       "      <td>0.088</td>\n",
       "      <td>27.0</td>\n",
       "      <td>36.0</td>\n",
       "      <td>25.0</td>\n",
       "      <td>14.0</td>\n",
       "      <td>7.0</td>\n",
       "      <td>53.0</td>\n",
       "      <td>35.0</td>\n",
       "      <td>22.0</td>\n",
       "      <td>7.0</td>\n",
       "      <td>2.0</td>\n",
       "      <td>13.0</td>\n",
       "      <td>11.0</td>\n",
       "      <td>6.0</td>\n",
       "      <td>1.0</td>\n",
       "      <td>...</td>\n",
       "      <td>0</td>\n",
       "      <td>0</td>\n",
       "      <td>0</td>\n",
       "      <td>0</td>\n",
       "      <td>0</td>\n",
       "      <td>0</td>\n",
       "      <td>0</td>\n",
       "      <td>1</td>\n",
       "      <td>1</td>\n",
       "      <td>0</td>\n",
       "      <td>0</td>\n",
       "      <td>1</td>\n",
       "      <td>0</td>\n",
       "      <td>0</td>\n",
       "      <td>1</td>\n",
       "      <td>0</td>\n",
       "      <td>0</td>\n",
       "      <td>1</td>\n",
       "      <td>0</td>\n",
       "      <td>0</td>\n",
       "      <td>0</td>\n",
       "      <td>2</td>\n",
       "      <td>0</td>\n",
       "      <td>0</td>\n",
       "      <td>0</td>\n",
       "      <td>0</td>\n",
       "      <td>0</td>\n",
       "      <td>0</td>\n",
       "      <td>0</td>\n",
       "      <td>0</td>\n",
       "      <td>0</td>\n",
       "      <td>0</td>\n",
       "      <td>0</td>\n",
       "      <td>0</td>\n",
       "      <td>0</td>\n",
       "      <td>0</td>\n",
       "      <td>0</td>\n",
       "      <td>0</td>\n",
       "      <td>0</td>\n",
       "      <td>0</td>\n",
       "      <td>1</td>\n",
       "      <td>0</td>\n",
       "      <td>0</td>\n",
       "      <td>0</td>\n",
       "      <td>0</td>\n",
       "      <td>0</td>\n",
       "      <td>1</td>\n",
       "      <td>0</td>\n",
       "      <td>0</td>\n",
       "      <td>1</td>\n",
       "    </tr>\n",
       "    <tr>\n",
       "      <th>2</th>\n",
       "      <td>0.525187</td>\n",
       "      <td>0.195341</td>\n",
       "      <td>0.279472</td>\n",
       "      <td>1880</td>\n",
       "      <td>2</td>\n",
       "      <td>1</td>\n",
       "      <td>1</td>\n",
       "      <td>I’M IN THE kitchen cooking spaghetti when the ...</td>\n",
       "      <td>[57, 188, 221, 275, 309, 416, 571, 643, 717, 7...</td>\n",
       "      <td>[932, 1991, 2929, 3948, 4981, 5988, 6998, 7953...</td>\n",
       "      <td>“I hardly had any breakfast, so I was getting ...</td>\n",
       "      <td>Alfred Birnbaum</td>\n",
       "      <td>The Elephant Vanishes</td>\n",
       "      <td>(“, I, hardly, had, any, breakfast, ,, so, I, ...</td>\n",
       "      <td>20</td>\n",
       "      <td>178</td>\n",
       "      <td>711</td>\n",
       "      <td>224</td>\n",
       "      <td>117</td>\n",
       "      <td>29</td>\n",
       "      <td>142</td>\n",
       "      <td>10</td>\n",
       "      <td>0</td>\n",
       "      <td>936</td>\n",
       "      <td>21.367521</td>\n",
       "      <td>190.170940</td>\n",
       "      <td>759.615385</td>\n",
       "      <td>239.316239</td>\n",
       "      <td>125.000000</td>\n",
       "      <td>30.982906</td>\n",
       "      <td>151.709402</td>\n",
       "      <td>10.683761</td>\n",
       "      <td>-0.8738</td>\n",
       "      <td>0.073</td>\n",
       "      <td>0.909</td>\n",
       "      <td>0.018</td>\n",
       "      <td>28.0</td>\n",
       "      <td>36.0</td>\n",
       "      <td>22.0</td>\n",
       "      <td>11.0</td>\n",
       "      <td>1.0</td>\n",
       "      <td>56.0</td>\n",
       "      <td>20.0</td>\n",
       "      <td>15.0</td>\n",
       "      <td>5.0</td>\n",
       "      <td>3.0</td>\n",
       "      <td>20.0</td>\n",
       "      <td>9.0</td>\n",
       "      <td>5.0</td>\n",
       "      <td>0.0</td>\n",
       "      <td>...</td>\n",
       "      <td>0</td>\n",
       "      <td>0</td>\n",
       "      <td>0</td>\n",
       "      <td>1</td>\n",
       "      <td>0</td>\n",
       "      <td>0</td>\n",
       "      <td>0</td>\n",
       "      <td>3</td>\n",
       "      <td>0</td>\n",
       "      <td>2</td>\n",
       "      <td>1</td>\n",
       "      <td>0</td>\n",
       "      <td>1</td>\n",
       "      <td>0</td>\n",
       "      <td>0</td>\n",
       "      <td>0</td>\n",
       "      <td>0</td>\n",
       "      <td>3</td>\n",
       "      <td>0</td>\n",
       "      <td>1</td>\n",
       "      <td>0</td>\n",
       "      <td>0</td>\n",
       "      <td>0</td>\n",
       "      <td>1</td>\n",
       "      <td>0</td>\n",
       "      <td>0</td>\n",
       "      <td>0</td>\n",
       "      <td>0</td>\n",
       "      <td>0</td>\n",
       "      <td>0</td>\n",
       "      <td>0</td>\n",
       "      <td>0</td>\n",
       "      <td>0</td>\n",
       "      <td>0</td>\n",
       "      <td>0</td>\n",
       "      <td>0</td>\n",
       "      <td>0</td>\n",
       "      <td>0</td>\n",
       "      <td>0</td>\n",
       "      <td>0</td>\n",
       "      <td>0</td>\n",
       "      <td>0</td>\n",
       "      <td>0</td>\n",
       "      <td>0</td>\n",
       "      <td>0</td>\n",
       "      <td>0</td>\n",
       "      <td>0</td>\n",
       "      <td>0</td>\n",
       "      <td>0</td>\n",
       "      <td>1</td>\n",
       "    </tr>\n",
       "    <tr>\n",
       "      <th>3</th>\n",
       "      <td>0.780780</td>\n",
       "      <td>0.204005</td>\n",
       "      <td>0.015215</td>\n",
       "      <td>1881</td>\n",
       "      <td>3</td>\n",
       "      <td>1</td>\n",
       "      <td>1</td>\n",
       "      <td>I’M IN THE kitchen cooking spaghetti when the ...</td>\n",
       "      <td>[57, 188, 221, 275, 309, 416, 571, 643, 717, 7...</td>\n",
       "      <td>[932, 1991, 2929, 3948, 4981, 5988, 6998, 7953...</td>\n",
       "      <td>I stare blankly at the receiver in my hand and...</td>\n",
       "      <td>Alfred Birnbaum</td>\n",
       "      <td>The Elephant Vanishes</td>\n",
       "      <td>(I, stare, blankly, at, the, receiver, in, my,...</td>\n",
       "      <td>13</td>\n",
       "      <td>197</td>\n",
       "      <td>803</td>\n",
       "      <td>254</td>\n",
       "      <td>129</td>\n",
       "      <td>30</td>\n",
       "      <td>149</td>\n",
       "      <td>7</td>\n",
       "      <td>0</td>\n",
       "      <td>1018</td>\n",
       "      <td>12.770138</td>\n",
       "      <td>193.516699</td>\n",
       "      <td>788.801572</td>\n",
       "      <td>249.508841</td>\n",
       "      <td>126.719057</td>\n",
       "      <td>29.469548</td>\n",
       "      <td>146.365422</td>\n",
       "      <td>6.876228</td>\n",
       "      <td>0.9094</td>\n",
       "      <td>0.014</td>\n",
       "      <td>0.909</td>\n",
       "      <td>0.077</td>\n",
       "      <td>22.0</td>\n",
       "      <td>33.0</td>\n",
       "      <td>27.0</td>\n",
       "      <td>6.0</td>\n",
       "      <td>3.0</td>\n",
       "      <td>26.0</td>\n",
       "      <td>45.0</td>\n",
       "      <td>28.0</td>\n",
       "      <td>7.0</td>\n",
       "      <td>4.0</td>\n",
       "      <td>12.0</td>\n",
       "      <td>7.0</td>\n",
       "      <td>3.0</td>\n",
       "      <td>0.0</td>\n",
       "      <td>...</td>\n",
       "      <td>0</td>\n",
       "      <td>0</td>\n",
       "      <td>0</td>\n",
       "      <td>0</td>\n",
       "      <td>0</td>\n",
       "      <td>0</td>\n",
       "      <td>0</td>\n",
       "      <td>0</td>\n",
       "      <td>1</td>\n",
       "      <td>0</td>\n",
       "      <td>1</td>\n",
       "      <td>0</td>\n",
       "      <td>0</td>\n",
       "      <td>0</td>\n",
       "      <td>0</td>\n",
       "      <td>0</td>\n",
       "      <td>0</td>\n",
       "      <td>1</td>\n",
       "      <td>0</td>\n",
       "      <td>3</td>\n",
       "      <td>0</td>\n",
       "      <td>0</td>\n",
       "      <td>0</td>\n",
       "      <td>0</td>\n",
       "      <td>0</td>\n",
       "      <td>0</td>\n",
       "      <td>0</td>\n",
       "      <td>0</td>\n",
       "      <td>0</td>\n",
       "      <td>1</td>\n",
       "      <td>0</td>\n",
       "      <td>0</td>\n",
       "      <td>0</td>\n",
       "      <td>0</td>\n",
       "      <td>0</td>\n",
       "      <td>0</td>\n",
       "      <td>0</td>\n",
       "      <td>0</td>\n",
       "      <td>0</td>\n",
       "      <td>0</td>\n",
       "      <td>0</td>\n",
       "      <td>0</td>\n",
       "      <td>1</td>\n",
       "      <td>0</td>\n",
       "      <td>0</td>\n",
       "      <td>0</td>\n",
       "      <td>0</td>\n",
       "      <td>0</td>\n",
       "      <td>0</td>\n",
       "      <td>1</td>\n",
       "    </tr>\n",
       "    <tr>\n",
       "      <th>4</th>\n",
       "      <td>0.508686</td>\n",
       "      <td>0.402482</td>\n",
       "      <td>0.088833</td>\n",
       "      <td>1882</td>\n",
       "      <td>4</td>\n",
       "      <td>1</td>\n",
       "      <td>1</td>\n",
       "      <td>I’M IN THE kitchen cooking spaghetti when the ...</td>\n",
       "      <td>[57, 188, 221, 275, 309, 416, 571, 643, 717, 7...</td>\n",
       "      <td>[932, 1991, 2929, 3948, 4981, 5988, 6998, 7953...</td>\n",
       "      <td>What the hell, I tell myself, what do I care a...</td>\n",
       "      <td>Alfred Birnbaum</td>\n",
       "      <td>The Elephant Vanishes</td>\n",
       "      <td>(What, the, hell, ,, I, tell, myself, ,, what,...</td>\n",
       "      <td>15</td>\n",
       "      <td>193</td>\n",
       "      <td>812</td>\n",
       "      <td>250</td>\n",
       "      <td>123</td>\n",
       "      <td>28</td>\n",
       "      <td>152</td>\n",
       "      <td>11</td>\n",
       "      <td>0</td>\n",
       "      <td>1028</td>\n",
       "      <td>14.591440</td>\n",
       "      <td>187.743191</td>\n",
       "      <td>789.883268</td>\n",
       "      <td>243.190661</td>\n",
       "      <td>119.649805</td>\n",
       "      <td>27.237354</td>\n",
       "      <td>147.859922</td>\n",
       "      <td>10.700389</td>\n",
       "      <td>0.7617</td>\n",
       "      <td>0.044</td>\n",
       "      <td>0.872</td>\n",
       "      <td>0.085</td>\n",
       "      <td>19.0</td>\n",
       "      <td>28.0</td>\n",
       "      <td>27.0</td>\n",
       "      <td>11.0</td>\n",
       "      <td>6.0</td>\n",
       "      <td>25.0</td>\n",
       "      <td>37.0</td>\n",
       "      <td>22.0</td>\n",
       "      <td>2.0</td>\n",
       "      <td>7.0</td>\n",
       "      <td>17.0</td>\n",
       "      <td>7.0</td>\n",
       "      <td>5.0</td>\n",
       "      <td>5.0</td>\n",
       "      <td>...</td>\n",
       "      <td>0</td>\n",
       "      <td>0</td>\n",
       "      <td>1</td>\n",
       "      <td>0</td>\n",
       "      <td>0</td>\n",
       "      <td>0</td>\n",
       "      <td>1</td>\n",
       "      <td>1</td>\n",
       "      <td>0</td>\n",
       "      <td>0</td>\n",
       "      <td>2</td>\n",
       "      <td>0</td>\n",
       "      <td>2</td>\n",
       "      <td>0</td>\n",
       "      <td>0</td>\n",
       "      <td>0</td>\n",
       "      <td>0</td>\n",
       "      <td>1</td>\n",
       "      <td>1</td>\n",
       "      <td>1</td>\n",
       "      <td>0</td>\n",
       "      <td>1</td>\n",
       "      <td>1</td>\n",
       "      <td>0</td>\n",
       "      <td>0</td>\n",
       "      <td>1</td>\n",
       "      <td>0</td>\n",
       "      <td>0</td>\n",
       "      <td>0</td>\n",
       "      <td>0</td>\n",
       "      <td>1</td>\n",
       "      <td>0</td>\n",
       "      <td>0</td>\n",
       "      <td>0</td>\n",
       "      <td>0</td>\n",
       "      <td>0</td>\n",
       "      <td>0</td>\n",
       "      <td>0</td>\n",
       "      <td>0</td>\n",
       "      <td>0</td>\n",
       "      <td>1</td>\n",
       "      <td>0</td>\n",
       "      <td>0</td>\n",
       "      <td>0</td>\n",
       "      <td>0</td>\n",
       "      <td>0</td>\n",
       "      <td>0</td>\n",
       "      <td>0</td>\n",
       "      <td>2</td>\n",
       "      <td>1</td>\n",
       "    </tr>\n",
       "  </tbody>\n",
       "</table>\n",
       "<p>5 rows × 147 columns</p>\n",
       "</div>"
      ],
      "text/plain": [
       "   trans_0_pp  trans_1_pp  trans_2_pp  original_index  book_chunk_no number  \\\n",
       "0    0.113802    0.197982    0.688216            1878              0      1   \n",
       "1    0.295786    0.168162    0.536052            1879              1      1   \n",
       "2    0.525187    0.195341    0.279472            1880              2      1   \n",
       "3    0.780780    0.204005    0.015215            1881              3      1   \n",
       "4    0.508686    0.402482    0.088833            1882              4      1   \n",
       "\n",
       "  title                                               text  \\\n",
       "0     1  I’M IN THE kitchen cooking spaghetti when the ...   \n",
       "1     1  I’M IN THE kitchen cooking spaghetti when the ...   \n",
       "2     1  I’M IN THE kitchen cooking spaghetti when the ...   \n",
       "3     1  I’M IN THE kitchen cooking spaghetti when the ...   \n",
       "4     1  I’M IN THE kitchen cooking spaghetti when the ...   \n",
       "\n",
       "                                       fstop_indices  \\\n",
       "0  [57, 188, 221, 275, 309, 416, 571, 643, 717, 7...   \n",
       "1  [57, 188, 221, 275, 309, 416, 571, 643, 717, 7...   \n",
       "2  [57, 188, 221, 275, 309, 416, 571, 643, 717, 7...   \n",
       "3  [57, 188, 221, 275, 309, 416, 571, 643, 717, 7...   \n",
       "4  [57, 188, 221, 275, 309, 416, 571, 643, 717, 7...   \n",
       "\n",
       "                                       split_indices  \\\n",
       "0  [932, 1991, 2929, 3948, 4981, 5988, 6998, 7953...   \n",
       "1  [932, 1991, 2929, 3948, 4981, 5988, 6998, 7953...   \n",
       "2  [932, 1991, 2929, 3948, 4981, 5988, 6998, 7953...   \n",
       "3  [932, 1991, 2929, 3948, 4981, 5988, 6998, 7953...   \n",
       "4  [932, 1991, 2929, 3948, 4981, 5988, 6998, 7953...   \n",
       "\n",
       "                                              chunks       translator  \\\n",
       "0  I’M IN THEkitchen cooking spaghetti when the w...  Alfred Birnbaum   \n",
       "1  And I pride myself on a near-perfect ear for v...  Alfred Birnbaum   \n",
       "2  “I hardly had any breakfast, so I was getting ...  Alfred Birnbaum   \n",
       "3  I stare blankly at the receiver in my hand and...  Alfred Birnbaum   \n",
       "4  What the hell, I tell myself, what do I care a...  Alfred Birnbaum   \n",
       "\n",
       "              book_title                                             parsed  \\\n",
       "0  The Elephant Vanishes  (I’M, IN, THEkitchen, cooking, spaghetti, when...   \n",
       "1  The Elephant Vanishes  (And, I, pride, myself, on, a, near, -, perfec...   \n",
       "2  The Elephant Vanishes  (“, I, hardly, had, any, breakfast, ,, so, I, ...   \n",
       "3  The Elephant Vanishes  (I, stare, blankly, at, the, receiver, in, my,...   \n",
       "4  The Elephant Vanishes  (What, the, hell, ,, I, tell, myself, ,, what,...   \n",
       "\n",
       "   n_sents  n_words  n_chars  n_syllables  n_unique_words  n_long_words  \\\n",
       "0       14      166      731          230             109            33   \n",
       "1       25      206      814          262             123            30   \n",
       "2       20      178      711          224             117            29   \n",
       "3       13      197      803          254             129            30   \n",
       "4       15      193      812          250             123            28   \n",
       "\n",
       "   n_monosyllable_words  n_polysyllable_words  trans_code  chunk_length  \\\n",
       "0                   112                     8           0           929   \n",
       "1                   161                     9           0          1057   \n",
       "2                   142                    10           0           936   \n",
       "3                   149                     7           0          1018   \n",
       "4                   152                    11           0          1028   \n",
       "\n",
       "   n_sents_norm  n_words_norm  n_chars_norm  n_syllables_norm  \\\n",
       "0     15.069968    178.686760    786.867600        247.578041   \n",
       "1     23.651845    194.891202    770.104068        247.871334   \n",
       "2     21.367521    190.170940    759.615385        239.316239   \n",
       "3     12.770138    193.516699    788.801572        249.508841   \n",
       "4     14.591440    187.743191    789.883268        243.190661   \n",
       "\n",
       "   n_unique_words_norm  n_long_words_norm  n_monosyllable_words_norm  \\\n",
       "0           117.330463          35.522067                 120.559742   \n",
       "1           116.367077          28.382214                 152.317881   \n",
       "2           125.000000          30.982906                 151.709402   \n",
       "3           126.719057          29.469548                 146.365422   \n",
       "4           119.649805          27.237354                 147.859922   \n",
       "\n",
       "   n_polysyllable_words_norm  vader_compound  vader_neg  vader_neu  vader_pos  \\\n",
       "0                   8.611410          0.8903      0.037      0.862      0.102   \n",
       "1                   8.514664          0.7800      0.040      0.872      0.088   \n",
       "2                  10.683761         -0.8738      0.073      0.909      0.018   \n",
       "3                   6.876228          0.9094      0.014      0.909      0.077   \n",
       "4                  10.700389          0.7617      0.044      0.872      0.085   \n",
       "\n",
       "   pron_count  verb_count  det_count  adj_count  num_count  punct_count  \\\n",
       "0        16.0        32.0       24.0        3.0        2.0         38.0   \n",
       "1        27.0        36.0       25.0       14.0        7.0         53.0   \n",
       "2        28.0        36.0       22.0       11.0        1.0         56.0   \n",
       "3        22.0        33.0       27.0        6.0        3.0         26.0   \n",
       "4        19.0        28.0       27.0       11.0        6.0         25.0   \n",
       "\n",
       "   noun_count  adp_count  cconj_count  sconj_count  adv_count  aux_count  \\\n",
       "0        34.0       18.0          4.0          1.0       15.0        5.0   \n",
       "1        35.0       22.0          7.0          2.0       13.0       11.0   \n",
       "2        20.0       15.0          5.0          3.0       20.0        9.0   \n",
       "3        45.0       28.0          7.0          4.0       12.0        7.0   \n",
       "4        37.0       22.0          2.0          7.0       17.0        7.0   \n",
       "\n",
       "   part_count  propn_count  ...  very_adv  again_adv  maybe_adv  as_adv  \\\n",
       "0         2.0         10.0  ...         0          1          0       1   \n",
       "1         6.0          1.0  ...         0          0          0       0   \n",
       "2         5.0          0.0  ...         0          0          0       1   \n",
       "3         3.0          0.0  ...         0          0          0       0   \n",
       "4         5.0          5.0  ...         0          0          1       0   \n",
       "\n",
       "   there_adv  why_adv  really_adv  now_adv  only_adv  when_adv  too_adv  \\\n",
       "0          1        0           0        0         0         1        0   \n",
       "1          0        0           0        1         1         0        0   \n",
       "2          0        0           0        3         0         2        1   \n",
       "3          0        0           0        0         1         0        1   \n",
       "4          0        0           1        1         0         0        2   \n",
       "\n",
       "   all_adv  just_adv  here_adv  back_adv  never_adv  more_adv  so_adv  \\\n",
       "0        0         1         0         1          0         0       0   \n",
       "1        1         0         0         1          0         0       1   \n",
       "2        0         1         0         0          0         0       3   \n",
       "3        0         0         0         0          0         0       1   \n",
       "4        0         2         0         0          0         0       1   \n",
       "\n",
       "   always_adv  then_adv  bad_adj  strange_adj  good_adj  own_adj  hard_adj  \\\n",
       "0           0         0        0            0         0        0         0   \n",
       "1           0         0        0            2         0        0         0   \n",
       "2           0         1        0            0         0        1         0   \n",
       "3           0         3        0            0         0        0         0   \n",
       "4           1         1        0            1         1        0         0   \n",
       "\n",
       "   new_adj  next_adj  real_adj  small_adj  whole_adj  few_adj  able_adj  \\\n",
       "0        1         0         0          0          0        0         0   \n",
       "1        0         0         0          0          0        0         0   \n",
       "2        0         0         0          0          0        0         0   \n",
       "3        0         0         0          0          1        0         0   \n",
       "4        1         0         0          0          0        1         0   \n",
       "\n",
       "   young_adj  only_adj  much_adj  same_adj  other_adj  old_adj  little_adj  \\\n",
       "0          0         0         0         0          0        0           0   \n",
       "1          0         0         0         0          0        0           0   \n",
       "2          0         0         0         0          0        0           0   \n",
       "3          0         0         0         0          0        0           0   \n",
       "4          0         0         0         0          0        0           0   \n",
       "\n",
       "  more_adj right_adj long_adj last_adj  different_adj  deep_adj  first_adj  \\\n",
       "0        0         0        0        0              0         0          0   \n",
       "1        0         1        0        0              0         0          0   \n",
       "2        0         0        0        0              0         0          0   \n",
       "3        0         0        0        1              0         0          0   \n",
       "4        0         1        0        0              0         0          0   \n",
       "\n",
       "   sure_adj  big_adj  vlong_words_count  test_flag  \n",
       "0         0        0                  1          1  \n",
       "1         1        0                  0          1  \n",
       "2         0        0                  0          1  \n",
       "3         0        0                  0          1  \n",
       "4         0        0                  2          1  \n",
       "\n",
       "[5 rows x 147 columns]"
      ]
     },
     "execution_count": 341,
     "metadata": {},
     "output_type": "execute_result"
    }
   ],
   "source": [
    "Y_pp_merged.head()"
   ]
  },
  {
   "cell_type": "code",
   "execution_count": 343,
   "metadata": {
    "ExecuteTime": {
     "end_time": "2020-05-31T09:13:32.122664Z",
     "start_time": "2020-05-31T09:13:32.101258Z"
    }
   },
   "outputs": [
    {
     "data": {
      "text/html": [
       "<div>\n",
       "<style scoped>\n",
       "    .dataframe tbody tr th:only-of-type {\n",
       "        vertical-align: middle;\n",
       "    }\n",
       "\n",
       "    .dataframe tbody tr th {\n",
       "        vertical-align: top;\n",
       "    }\n",
       "\n",
       "    .dataframe thead th {\n",
       "        text-align: right;\n",
       "    }\n",
       "</style>\n",
       "<table border=\"1\" class=\"dataframe\">\n",
       "  <thead>\n",
       "    <tr style=\"text-align: right;\">\n",
       "      <th></th>\n",
       "      <th>trans_0_pp</th>\n",
       "      <th>trans_1_pp</th>\n",
       "      <th>trans_2_pp</th>\n",
       "      <th>chunks</th>\n",
       "      <th>translator</th>\n",
       "      <th>book_title</th>\n",
       "      <th>book_chunk_no</th>\n",
       "      <th>number</th>\n",
       "    </tr>\n",
       "  </thead>\n",
       "  <tbody>\n",
       "    <tr>\n",
       "      <th>555</th>\n",
       "      <td>0.891758</td>\n",
       "      <td>0.098252</td>\n",
       "      <td>0.009990</td>\n",
       "      <td>They buy the sake, order the sushi, do the con...</td>\n",
       "      <td>Alfred Birnbaum</td>\n",
       "      <td>Norwegian Wood</td>\n",
       "      <td>151</td>\n",
       "      <td>9</td>\n",
       "    </tr>\n",
       "    <tr>\n",
       "      <th>58</th>\n",
       "      <td>0.881250</td>\n",
       "      <td>0.062562</td>\n",
       "      <td>0.056188</td>\n",
       "      <td>Had the women of the world chosen today to su...</td>\n",
       "      <td>Jay Rubin</td>\n",
       "      <td>The Wind Up Bird Chronicle</td>\n",
       "      <td>6</td>\n",
       "      <td>1</td>\n",
       "    </tr>\n",
       "    <tr>\n",
       "      <th>64</th>\n",
       "      <td>0.877488</td>\n",
       "      <td>0.110920</td>\n",
       "      <td>0.011592</td>\n",
       "      <td>“Are you sure you know me?” “Of course I do. ...</td>\n",
       "      <td>Jay Rubin</td>\n",
       "      <td>The Wind Up Bird Chronicle</td>\n",
       "      <td>12</td>\n",
       "      <td>1</td>\n",
       "    </tr>\n",
       "    <tr>\n",
       "      <th>40</th>\n",
       "      <td>0.875933</td>\n",
       "      <td>0.065962</td>\n",
       "      <td>0.058105</td>\n",
       "      <td>“Even if there’s the possibility of passing i...</td>\n",
       "      <td>Alfred Birnbaum</td>\n",
       "      <td>The Elephant Vanishes</td>\n",
       "      <td>41</td>\n",
       "      <td>1</td>\n",
       "    </tr>\n",
       "    <tr>\n",
       "      <th>548</th>\n",
       "      <td>0.875102</td>\n",
       "      <td>0.105540</td>\n",
       "      <td>0.019358</td>\n",
       "      <td>\"Are you really so stuck on Nagasawa?\" \"I real...</td>\n",
       "      <td>Alfred Birnbaum</td>\n",
       "      <td>Norwegian Wood</td>\n",
       "      <td>144</td>\n",
       "      <td>8</td>\n",
       "    </tr>\n",
       "  </tbody>\n",
       "</table>\n",
       "</div>"
      ],
      "text/plain": [
       "     trans_0_pp  trans_1_pp  trans_2_pp  \\\n",
       "555    0.891758    0.098252    0.009990   \n",
       "58     0.881250    0.062562    0.056188   \n",
       "64     0.877488    0.110920    0.011592   \n",
       "40     0.875933    0.065962    0.058105   \n",
       "548    0.875102    0.105540    0.019358   \n",
       "\n",
       "                                                chunks       translator  \\\n",
       "555  They buy the sake, order the sushi, do the con...  Alfred Birnbaum   \n",
       "58    Had the women of the world chosen today to su...        Jay Rubin   \n",
       "64    “Are you sure you know me?” “Of course I do. ...        Jay Rubin   \n",
       "40    “Even if there’s the possibility of passing i...  Alfred Birnbaum   \n",
       "548  \"Are you really so stuck on Nagasawa?\" \"I real...  Alfred Birnbaum   \n",
       "\n",
       "                     book_title  book_chunk_no number  \n",
       "555              Norwegian Wood            151      9  \n",
       "58   The Wind Up Bird Chronicle              6      1  \n",
       "64   The Wind Up Bird Chronicle             12      1  \n",
       "40        The Elephant Vanishes             41      1  \n",
       "548              Norwegian Wood            144      8  "
      ]
     },
     "execution_count": 343,
     "metadata": {},
     "output_type": "execute_result"
    }
   ],
   "source": [
    "Y_pp_merged[['trans_0_pp', 'trans_1_pp', 'trans_2_pp', 'chunks', 'translator', 'book_title', 'book_chunk_no', 'number']] \\\n",
    "                                  .sort_values('trans_0_pp', ascending=False).head(5)"
   ]
  },
  {
   "cell_type": "code",
   "execution_count": 344,
   "metadata": {
    "ExecuteTime": {
     "end_time": "2020-05-31T09:14:02.641597Z",
     "start_time": "2020-05-31T09:14:02.621350Z"
    }
   },
   "outputs": [
    {
     "data": {
      "text/html": [
       "<div>\n",
       "<style scoped>\n",
       "    .dataframe tbody tr th:only-of-type {\n",
       "        vertical-align: middle;\n",
       "    }\n",
       "\n",
       "    .dataframe tbody tr th {\n",
       "        vertical-align: top;\n",
       "    }\n",
       "\n",
       "    .dataframe thead th {\n",
       "        text-align: right;\n",
       "    }\n",
       "</style>\n",
       "<table border=\"1\" class=\"dataframe\">\n",
       "  <thead>\n",
       "    <tr style=\"text-align: right;\">\n",
       "      <th></th>\n",
       "      <th>trans_0_pp</th>\n",
       "      <th>trans_1_pp</th>\n",
       "      <th>trans_2_pp</th>\n",
       "      <th>chunks</th>\n",
       "      <th>translator</th>\n",
       "      <th>book_title</th>\n",
       "      <th>book_chunk_no</th>\n",
       "      <th>number</th>\n",
       "    </tr>\n",
       "  </thead>\n",
       "  <tbody>\n",
       "    <tr>\n",
       "      <th>121</th>\n",
       "      <td>0.008673</td>\n",
       "      <td>0.989478</td>\n",
       "      <td>0.001849</td>\n",
       "      <td>They said that I had snipped the clothes off m...</td>\n",
       "      <td>Jay Rubin</td>\n",
       "      <td>Norwegian Wood</td>\n",
       "      <td>348</td>\n",
       "      <td>2</td>\n",
       "    </tr>\n",
       "    <tr>\n",
       "      <th>349</th>\n",
       "      <td>0.017321</td>\n",
       "      <td>0.980136</td>\n",
       "      <td>0.002543</td>\n",
       "      <td>After saying goodbye to Midori, I bought a new...</td>\n",
       "      <td>Jay Rubin</td>\n",
       "      <td>Norwegian Wood</td>\n",
       "      <td>576</td>\n",
       "      <td>2</td>\n",
       "    </tr>\n",
       "    <tr>\n",
       "      <th>385</th>\n",
       "      <td>0.003921</td>\n",
       "      <td>0.978964</td>\n",
       "      <td>0.017116</td>\n",
       "      <td>Oh, Reiko, it was so wonderful! Now it felt as...</td>\n",
       "      <td>Jay Rubin</td>\n",
       "      <td>Norwegian Wood</td>\n",
       "      <td>612</td>\n",
       "      <td>2</td>\n",
       "    </tr>\n",
       "    <tr>\n",
       "      <th>72</th>\n",
       "      <td>0.011389</td>\n",
       "      <td>0.968339</td>\n",
       "      <td>0.020271</td>\n",
       "      <td>The screen of the kennel door bulged outward,...</td>\n",
       "      <td>Jay Rubin</td>\n",
       "      <td>The Wind Up Bird Chronicle</td>\n",
       "      <td>20</td>\n",
       "      <td>1</td>\n",
       "    </tr>\n",
       "    <tr>\n",
       "      <th>308</th>\n",
       "      <td>0.021081</td>\n",
       "      <td>0.962914</td>\n",
       "      <td>0.016005</td>\n",
       "      <td>I did my laundry for the first time in weeks, ...</td>\n",
       "      <td>Jay Rubin</td>\n",
       "      <td>Norwegian Wood</td>\n",
       "      <td>535</td>\n",
       "      <td>2</td>\n",
       "    </tr>\n",
       "  </tbody>\n",
       "</table>\n",
       "</div>"
      ],
      "text/plain": [
       "     trans_0_pp  trans_1_pp  trans_2_pp  \\\n",
       "121    0.008673    0.989478    0.001849   \n",
       "349    0.017321    0.980136    0.002543   \n",
       "385    0.003921    0.978964    0.017116   \n",
       "72     0.011389    0.968339    0.020271   \n",
       "308    0.021081    0.962914    0.016005   \n",
       "\n",
       "                                                chunks translator  \\\n",
       "121  They said that I had snipped the clothes off m...  Jay Rubin   \n",
       "349  After saying goodbye to Midori, I bought a new...  Jay Rubin   \n",
       "385  Oh, Reiko, it was so wonderful! Now it felt as...  Jay Rubin   \n",
       "72    The screen of the kennel door bulged outward,...  Jay Rubin   \n",
       "308  I did my laundry for the first time in weeks, ...  Jay Rubin   \n",
       "\n",
       "                     book_title  book_chunk_no number  \n",
       "121              Norwegian Wood            348      2  \n",
       "349              Norwegian Wood            576      2  \n",
       "385              Norwegian Wood            612      2  \n",
       "72   The Wind Up Bird Chronicle             20      1  \n",
       "308              Norwegian Wood            535      2  "
      ]
     },
     "execution_count": 344,
     "metadata": {},
     "output_type": "execute_result"
    }
   ],
   "source": [
    "Y_pp_merged[['trans_0_pp', 'trans_1_pp', 'trans_2_pp', 'chunks', 'translator', 'book_title', 'book_chunk_no', 'number']] \\\n",
    "                                  .sort_values('trans_1_pp', ascending=False).head(5)"
   ]
  },
  {
   "cell_type": "code",
   "execution_count": 345,
   "metadata": {
    "ExecuteTime": {
     "end_time": "2020-05-31T09:14:20.246314Z",
     "start_time": "2020-05-31T09:14:20.224496Z"
    }
   },
   "outputs": [
    {
     "data": {
      "text/html": [
       "<div>\n",
       "<style scoped>\n",
       "    .dataframe tbody tr th:only-of-type {\n",
       "        vertical-align: middle;\n",
       "    }\n",
       "\n",
       "    .dataframe tbody tr th {\n",
       "        vertical-align: top;\n",
       "    }\n",
       "\n",
       "    .dataframe thead th {\n",
       "        text-align: right;\n",
       "    }\n",
       "</style>\n",
       "<table border=\"1\" class=\"dataframe\">\n",
       "  <thead>\n",
       "    <tr style=\"text-align: right;\">\n",
       "      <th></th>\n",
       "      <th>trans_0_pp</th>\n",
       "      <th>trans_1_pp</th>\n",
       "      <th>trans_2_pp</th>\n",
       "      <th>chunks</th>\n",
       "      <th>translator</th>\n",
       "      <th>book_title</th>\n",
       "      <th>book_chunk_no</th>\n",
       "      <th>number</th>\n",
       "    </tr>\n",
       "  </thead>\n",
       "  <tbody>\n",
       "    <tr>\n",
       "      <th>520</th>\n",
       "      <td>0.051152</td>\n",
       "      <td>0.017353</td>\n",
       "      <td>0.931495</td>\n",
       "      <td>How come these simpletons don’t make an effort...</td>\n",
       "      <td>Alfred Birnbaum</td>\n",
       "      <td>Norwegian Wood</td>\n",
       "      <td>115</td>\n",
       "      <td>8</td>\n",
       "    </tr>\n",
       "    <tr>\n",
       "      <th>338</th>\n",
       "      <td>0.023803</td>\n",
       "      <td>0.081820</td>\n",
       "      <td>0.894377</td>\n",
       "      <td>\"How can you be such an idiot? Of course I wa...</td>\n",
       "      <td>Jay Rubin</td>\n",
       "      <td>Norwegian Wood</td>\n",
       "      <td>565</td>\n",
       "      <td>2</td>\n",
       "    </tr>\n",
       "    <tr>\n",
       "      <th>240</th>\n",
       "      <td>0.024707</td>\n",
       "      <td>0.097960</td>\n",
       "      <td>0.877334</td>\n",
       "      <td>You seem like someone who could be happy with ...</td>\n",
       "      <td>Jay Rubin</td>\n",
       "      <td>Norwegian Wood</td>\n",
       "      <td>467</td>\n",
       "      <td>2</td>\n",
       "    </tr>\n",
       "    <tr>\n",
       "      <th>689</th>\n",
       "      <td>0.045532</td>\n",
       "      <td>0.083115</td>\n",
       "      <td>0.871353</td>\n",
       "      <td>After all, you’d already made your decision be...</td>\n",
       "      <td>Alfred Birnbaum</td>\n",
       "      <td>Norwegian Wood</td>\n",
       "      <td>285</td>\n",
       "      <td>11</td>\n",
       "    </tr>\n",
       "    <tr>\n",
       "      <th>213</th>\n",
       "      <td>0.087056</td>\n",
       "      <td>0.046956</td>\n",
       "      <td>0.865988</td>\n",
       "      <td>They’re working their fingers to the bone. Or ...</td>\n",
       "      <td>Jay Rubin</td>\n",
       "      <td>Norwegian Wood</td>\n",
       "      <td>440</td>\n",
       "      <td>2</td>\n",
       "    </tr>\n",
       "  </tbody>\n",
       "</table>\n",
       "</div>"
      ],
      "text/plain": [
       "     trans_0_pp  trans_1_pp  trans_2_pp  \\\n",
       "520    0.051152    0.017353    0.931495   \n",
       "338    0.023803    0.081820    0.894377   \n",
       "240    0.024707    0.097960    0.877334   \n",
       "689    0.045532    0.083115    0.871353   \n",
       "213    0.087056    0.046956    0.865988   \n",
       "\n",
       "                                                chunks       translator  \\\n",
       "520  How come these simpletons don’t make an effort...  Alfred Birnbaum   \n",
       "338   \"How can you be such an idiot? Of course I wa...        Jay Rubin   \n",
       "240  You seem like someone who could be happy with ...        Jay Rubin   \n",
       "689  After all, you’d already made your decision be...  Alfred Birnbaum   \n",
       "213  They’re working their fingers to the bone. Or ...        Jay Rubin   \n",
       "\n",
       "         book_title  book_chunk_no number  \n",
       "520  Norwegian Wood            115      8  \n",
       "338  Norwegian Wood            565      2  \n",
       "240  Norwegian Wood            467      2  \n",
       "689  Norwegian Wood            285     11  \n",
       "213  Norwegian Wood            440      2  "
      ]
     },
     "execution_count": 345,
     "metadata": {},
     "output_type": "execute_result"
    }
   ],
   "source": [
    "Y_pp_merged[['trans_0_pp', 'trans_1_pp', 'trans_2_pp', 'chunks', 'translator', 'book_title', 'book_chunk_no', 'number']] \\\n",
    "                                  .sort_values('trans_2_pp', ascending=False).head(5)"
   ]
  },
  {
   "cell_type": "markdown",
   "metadata": {},
   "source": [
    "## Most confident for translator 0: \n",
    "* better now without 'A wild sheep chase' with the strange dialogue!"
   ]
  },
  {
   "cell_type": "code",
   "execution_count": 346,
   "metadata": {
    "ExecuteTime": {
     "end_time": "2020-05-31T09:14:32.376103Z",
     "start_time": "2020-05-31T09:14:32.348605Z"
    }
   },
   "outputs": [
    {
     "data": {
      "text/plain": [
       "'They buy the sake, order the sushi, do the consoling and the crying, raise a fuss, divvy up the keepsakes. It’s easy. A picnic compared to visiting the hospital day in and day out, a real picnic. We were so exhausted, my sister and me, no tears would even come. Honest. It was enough to make others see us as cold. Still, we refused to cry, out of spite almost. Sure, we could have cried false tears, but no way were we about to put on a show for anyone. Everyone expecting us to cry only made us want to do the opposite. My sister and I are alike in that way, though otherwise we’re totally different.\" Midori’s bracelets rattled as she summoned a waiter to order another Tom Collins and pis\\xadtachios. \"Once everyone had gone home, we stayed up drinking sake until dawn, a whole big bottle of it. We bad-mouthed the lot of them, the funeral crowd. So-and-so was a real idiot, this guy a jerk. Mangy dogs, pigs, hypocrites, common crooks. The whole night through. We got it out of our systems and felt loads better for it.\" \"I bet.'"
      ]
     },
     "execution_count": 346,
     "metadata": {},
     "output_type": "execute_result"
    }
   ],
   "source": [
    "Y_pp_merged[['trans_0_pp', 'trans_1_pp', 'trans_2_pp', 'chunks', 'translator', 'book_title']] \\\n",
    "                                  .sort_values('trans_0_pp', ascending=False).iloc[0,3]"
   ]
  },
  {
   "cell_type": "code",
   "execution_count": 347,
   "metadata": {
    "ExecuteTime": {
     "end_time": "2020-05-31T09:14:33.724999Z",
     "start_time": "2020-05-31T09:14:33.664300Z"
    }
   },
   "outputs": [
    {
     "data": {
      "text/plain": [
       "' Had the women of the world chosen today to surprise me on the telephone? “My benefit’s going to run out sooner or later. I can’t keep hanging around forever.” “True, but with my raise and occasional jobs on the side and our savings, we can get by OK if we’re careful. There’s no real emergency. Do you hate staying at home like this and doing housework? I mean, is this life so wrong for you?” “I don’t know,” I answered honestly. I really didn’t know. “Well, take your time and have a think,” she said. “Anyhow, has the cat come back?” The cat. I hadn’t thought about the cat all morning. “No,” I said. “Not yet.” “Can you please have a look around the neighbourhood? It’s been gone over a week now.” I gave a noncommittal grunt and shifted the receiver back to my left hand. She went on: “I’m almost certain it’s hanging around the empty house at the other end of the alley. The one with the bird statue in the yard. I have often seen it there.” “The alley? Since when have you been going to the alley? You’ve never said anything –” “Oops! Got to run. Lots of work to do.'"
      ]
     },
     "execution_count": 347,
     "metadata": {},
     "output_type": "execute_result"
    }
   ],
   "source": [
    "Y_pp_merged[['trans_0_pp', 'trans_1_pp', 'trans_2_pp', 'chunks', 'translator', 'book_title']] \\\n",
    "                                  .sort_values('trans_0_pp', ascending=False).iloc[1,3]"
   ]
  },
  {
   "cell_type": "code",
   "execution_count": 348,
   "metadata": {
    "ExecuteTime": {
     "end_time": "2020-05-31T09:14:38.234399Z",
     "start_time": "2020-05-31T09:14:38.224580Z"
    }
   },
   "outputs": [
    {
     "data": {
      "text/plain": [
       "' “Are you sure you know me?” “Of course I do. We’ve met hundreds of times.” “Where? When?” “Somewhere, sometime,” she said. “But if I went into that, ten minutes would never be enough. What’s important is the time we have now. The present. Don’t you agree?” “Maybe. But I’d like some proof that you know me.” “What kind of proof?” “My age, say?” “Thirty,” she answered at once. “Thirty and two months. Good enough?” That shut me up. Obviously she did know me, but her voice meant nothing to me at all. “Now it’s your turn,” she said, her voice seductive. “Try picturing me. From my voice. Imagine what I’m like. My age. Where I am. How I’m dressed. Go ahead.” “I have no idea,” I said. “Oh, come on,” she said. “Try.” I looked at my watch. Only a minute and five seconds gone. “I have no idea,” I said again. “Then let me help you,” she said. “I’m in bed. I’ve just come out of the shower, and I’m not wearing a thing.” Oh, great. Telephone sex.'"
      ]
     },
     "execution_count": 348,
     "metadata": {},
     "output_type": "execute_result"
    }
   ],
   "source": [
    "Y_pp_merged[['trans_0_pp', 'trans_1_pp', 'trans_2_pp', 'chunks', 'translator', 'book_title']] \\\n",
    "                                  .sort_values('trans_0_pp', ascending=False).iloc[2,3]"
   ]
  },
  {
   "cell_type": "markdown",
   "metadata": {},
   "source": [
    "## Most confident for translator 1"
   ]
  },
  {
   "cell_type": "code",
   "execution_count": 349,
   "metadata": {
    "ExecuteTime": {
     "end_time": "2020-05-31T09:14:51.812210Z",
     "start_time": "2020-05-31T09:14:51.801272Z"
    }
   },
   "outputs": [
    {
     "data": {
      "text/plain": [
       "'They said that I had snipped the clothes off my piano pupil and tried to do things to her and when she had resisted I had slapped her so hard her face swelled up. They had turned the story on its head, of course, which was bad enough, but what really shocked me was that people knew I had been hospitalized. \"My friend said she was telling everyone that she had known me for ever and that I was not like that, but the girl’s parents believed her version and were spreading it around the neighbourhood. In addition, they had investigated my background and found that I had a history of mental problems. \"The way my friend heard it, the girl had come home from her lesson one day - that day, of course - with her face all bloated, her lip split and bloody, buttons missing from her blouse, and even her underwear tom. Can you believe it? She had done all this to back up her story, of course, which her mother had to drag out of her.'"
      ]
     },
     "execution_count": 349,
     "metadata": {},
     "output_type": "execute_result"
    }
   ],
   "source": [
    "Y_pp_merged[['trans_0_pp', 'trans_1_pp', 'trans_2_pp', 'chunks', 'translator', 'book_title']] \\\n",
    "                                  .sort_values('trans_1_pp', ascending=False).iloc[0,3]"
   ]
  },
  {
   "cell_type": "code",
   "execution_count": 350,
   "metadata": {
    "ExecuteTime": {
     "end_time": "2020-05-31T09:14:52.437403Z",
     "start_time": "2020-05-31T09:14:52.434308Z"
    }
   },
   "outputs": [],
   "source": [
    "# import re\n",
    "# test_txt_2 = re.sub(\"\\'\",\"’\",test_txt)\n",
    "# test_txt_2\n"
   ]
  },
  {
   "cell_type": "code",
   "execution_count": 351,
   "metadata": {
    "ExecuteTime": {
     "end_time": "2020-05-31T09:14:52.898024Z",
     "start_time": "2020-05-31T09:14:52.885502Z"
    }
   },
   "outputs": [
    {
     "data": {
      "text/plain": [
       "'After saying goodbye to Midori, I bought a newspaper at the station, but when I opened it on the train, I realized I had absolutely no desire to read a paper and in fact couldn’t understand what it said. All I could do was glare at the incomprehensible page of print and wonder what was going to happen to me from now on, and how the things around me would be changing. I felt as if the world was pulsating every now and then. I sighed deeply and closed my eyes. As regards what I had done that day, I felt not the slightest regret; I knew for certain that if I had to do it all over again, I would live this day in exactly the same way. I would hold Midori tight on the roof in the rain; I would get soaking wet with her; and I would let her fingers bring me to climax in her bed. I had no doubts about those things. I loved Midori, and I was happy that she had come back to me. The two of us could make it, that was certain. As Midori herself had said, she was a real, live girl with blood in her veins, and she was putting her warm body in my arms.'"
      ]
     },
     "execution_count": 351,
     "metadata": {},
     "output_type": "execute_result"
    }
   ],
   "source": [
    "Y_pp_merged[['trans_0_pp', 'trans_1_pp', 'trans_2_pp', 'chunks', 'translator', 'book_title']] \\\n",
    "                                  .sort_values('trans_1_pp', ascending=False).iloc[1,3]"
   ]
  },
  {
   "cell_type": "code",
   "execution_count": 352,
   "metadata": {
    "ExecuteTime": {
     "end_time": "2020-05-31T09:14:53.649525Z",
     "start_time": "2020-05-31T09:14:53.638762Z"
    }
   },
   "outputs": [
    {
     "data": {
      "text/plain": [
       "'Oh, Reiko, it was so wonderful! Now it felt as if my brain was just going to melt away. I wanted to stay like that forever, to stay in his arms for the rest of my life. That’s how great it was.’ \"So I said to her, \"If it was so great, why didn’t you just stay with Watanabe and keep doing it every day?’ But she said, \"No. Reiko, I knew it would never happen again. I knew this was something that would come to me once, and leave, and never come back. This would be a once-in-a-lifetime thing. I had never felt anything like it before, and I’ve never felt anything like it since. I’ve never felt that I wanted to do it again, and I’ve never grown wet like that again.’ \"Of course, I explained to her that this was something that often happened to young women and that, in most cases, it cures itself with age. And, after all, it had worked that one time: there was no need to worry it wouldn’t happen again. I myself had had all kinds of trouble when I was first married. \"But she said. \"No, that’s not it, Reiko. I’m not worried about that at all.'"
      ]
     },
     "execution_count": 352,
     "metadata": {},
     "output_type": "execute_result"
    }
   ],
   "source": [
    "Y_pp_merged[['trans_0_pp', 'trans_1_pp', 'trans_2_pp', 'chunks', 'translator', 'book_title']] \\\n",
    "                                  .sort_values('trans_1_pp', ascending=False).iloc[2,3]"
   ]
  },
  {
   "cell_type": "markdown",
   "metadata": {
    "ExecuteTime": {
     "end_time": "2020-05-15T14:04:56.367145Z",
     "start_time": "2020-05-15T14:04:56.364061Z"
    }
   },
   "source": [
    "## Most confident for translator 2"
   ]
  },
  {
   "cell_type": "code",
   "execution_count": 353,
   "metadata": {
    "ExecuteTime": {
     "end_time": "2020-05-31T09:14:54.564591Z",
     "start_time": "2020-05-31T09:14:54.547971Z"
    }
   },
   "outputs": [
    {
     "data": {
      "text/plain": [
       "'How come these simpletons don’t make an effort? They don’t make an effort and they complain that things are unfair!\" I shot Nagasawa a surprised look. \"Correct me if I’m wrong, but from where I sit I sure get the impres\\xadsion that people are grinding away like mad. Am I wrong?\" \"That’s not effort, that’s just labor,\" Nagasawa spat out. \"Not the effort I’m talking about. The ef\\xadfort I’m talking about is to go about things with will and purpose.\" \"Like taking up Spanish once you’ve landed a job, when everybody else would just lie back?\" \"Precisely. I’m going to master Spanish by spring. To add to my English and German and French, plus passable Italian. Can you get this far without making an effort?\" He took a drag on his cigarette and I thought of 103 Midori’s father. I don’t think he would even think of studying Spanish from TV. A difference between effort and labor? He’d probably been too busy to even consider that. Busy with work, busy bringing his daughter back from Fukushima.'"
      ]
     },
     "execution_count": 353,
     "metadata": {},
     "output_type": "execute_result"
    }
   ],
   "source": [
    "Y_pp_merged[['trans_0_pp', 'trans_1_pp', 'trans_2_pp', 'chunks', 'translator', 'book_title']] \\\n",
    "                                  .sort_values('trans_2_pp', ascending=False).iloc[0,3]"
   ]
  },
  {
   "cell_type": "code",
   "execution_count": 354,
   "metadata": {
    "ExecuteTime": {
     "end_time": "2020-05-31T09:14:55.048894Z",
     "start_time": "2020-05-31T09:14:55.034426Z"
    }
   },
   "outputs": [
    {
     "data": {
      "text/plain": [
       "' \"How can you be such an idiot? Of course I wanted to see you! I told you how much I like you! When I like somebody I really like them. It doesn’t turn on and off for me just like that. Don’t you realize at least that much about me?\" \"Well, sure, but - \" \"That’s why I was so mad at you! I wanted to give you a good kick up the arse. I mean, we hadn’t seen each other that whole time, and you were so spaced out thinking about this other girl you didn’t even look at me! How could I not get angry at you? But apart from all that, I had been feeling for a long time that it would be better for me if I kept away from you for a while. To get things clear in my head.\" \"What kind of things?\" \"Our relationship, of course. It was getting to the point where I enjoyed being with you far more than being with him, I mean, don’t you think there’s something weird about that? And difficult? Of course I still like him. He’s a little self-centred and narrow-minded and kind of a fascist, but he’s got a lot of good points, and he’s the first man I ever felt serious about.'"
      ]
     },
     "execution_count": 354,
     "metadata": {},
     "output_type": "execute_result"
    }
   ],
   "source": [
    "Y_pp_merged[['trans_0_pp', 'trans_1_pp', 'trans_2_pp', 'chunks', 'translator', 'book_title']] \\\n",
    "                                  .sort_values('trans_2_pp', ascending=False).iloc[1,3]"
   ]
  },
  {
   "cell_type": "code",
   "execution_count": 355,
   "metadata": {
    "ExecuteTime": {
     "end_time": "2020-05-31T09:14:55.566593Z",
     "start_time": "2020-05-31T09:14:55.554854Z"
    }
   },
   "outputs": [
    {
     "data": {
      "text/plain": [
       "'You seem like someone who could be happy with just about anybody, so how did you end up with Nagasawa of all people?\" \"Things like that just happen. There’s probably not much you can do about them. It’s certainly true in my case. Of course, Nagasawa would say it’s my responsibility, not his.’ \"I’m sure he would.\" \"But anyway, Tom, I’m not the smartest girl in the world. If anything. I’m sort of on the stupid side, and old-fashioned. I couldn’t care less about \"systems’ and \"responsibility’. All I want is to get married and have a man I love hold me in his arms every night and make babies. That’s plenty for me. It’s all I want out of life.\" \"And what Nagasawa wants out of life has nothing to do with that.\" \"People change, though, don’t you think?\" Hatsumi asked. \"You mean, like, they go out into society and get a kick up the arse and grow up?\" \"Yeah. And if he’s away from me for a long time, his feelings for me could change, don’t you think?\" \"Maybe, if he were an ordinary guy,\" I said. \"But he’s different. He’s incredibly strong-willed - stronger than you or I can imagine.'"
      ]
     },
     "execution_count": 355,
     "metadata": {},
     "output_type": "execute_result"
    }
   ],
   "source": [
    "Y_pp_merged[['trans_0_pp', 'trans_1_pp', 'trans_2_pp', 'chunks', 'translator', 'book_title']] \\\n",
    "                                  .sort_values('trans_2_pp', ascending=False).iloc[2,3]"
   ]
  },
  {
   "cell_type": "markdown",
   "metadata": {},
   "source": [
    "## Precision-Recall Plot"
   ]
  },
  {
   "cell_type": "code",
   "execution_count": 357,
   "metadata": {
    "ExecuteTime": {
     "end_time": "2020-05-31T09:15:04.116477Z",
     "start_time": "2020-05-31T09:15:04.110375Z"
    }
   },
   "outputs": [],
   "source": [
    "probabilities = lreg_gs_01.predict_proba(X_test)"
   ]
  },
  {
   "cell_type": "code",
   "execution_count": 358,
   "metadata": {
    "ExecuteTime": {
     "end_time": "2020-05-31T09:15:08.091112Z",
     "start_time": "2020-05-31T09:15:08.076307Z"
    }
   },
   "outputs": [],
   "source": [
    "def plot_f1_lines(figsize=(8,6),fontsize=16):\n",
    "    '''Create f1-score level lines to be added to the precison-recall plot'''\n",
    "\n",
    "    fig, ax = plt.subplots(figsize=figsize)\n",
    "    \n",
    "    # add lines of constant F1 scores\n",
    "    \n",
    "    for const in np.linspace(0.2,0.9,8):\n",
    "        x_vals = np.linspace(0.001, 0.999, 100)\n",
    "        y_vals = 1./(2./const-1./x_vals)\n",
    "        ax.plot(x_vals[y_vals > 0], y_vals[y_vals > 0],\n",
    "                 color='lightblue', ls='--', alpha=0.9)\n",
    "        ax.set_ylim([0, 1])\n",
    "        ax.annotate('f1={0:0.1f}'.format(const),\n",
    "                     xy=(x_vals[-10], y_vals[-2]+0.0), fontsize=fontsize)\n",
    "\n",
    "    return fig, ax"
   ]
  },
  {
   "cell_type": "code",
   "execution_count": 359,
   "metadata": {
    "ExecuteTime": {
     "end_time": "2020-05-31T09:15:14.851880Z",
     "start_time": "2020-05-31T09:15:14.447300Z"
    }
   },
   "outputs": [
    {
     "ename": "ValueError",
     "evalue": "Found input variables with inconsistent numbers of samples: [1400, 2100]",
     "output_type": "error",
     "traceback": [
      "\u001b[0;31m---------------------------------------------------------------------------\u001b[0m",
      "\u001b[0;31mValueError\u001b[0m                                Traceback (most recent call last)",
      "\u001b[0;32m<ipython-input-359-6cce088d5fd3>\u001b[0m in \u001b[0;36m<module>\u001b[0;34m\u001b[0m\n\u001b[1;32m      1\u001b[0m \u001b[0mfig\u001b[0m\u001b[0;34m,\u001b[0m \u001b[0max\u001b[0m \u001b[0;34m=\u001b[0m \u001b[0mplot_f1_lines\u001b[0m\u001b[0;34m(\u001b[0m\u001b[0;34m)\u001b[0m\u001b[0;34m\u001b[0m\u001b[0;34m\u001b[0m\u001b[0m\n\u001b[0;32m----> 2\u001b[0;31m skplt.metrics.plot_precision_recall(y_test, probabilities, \n\u001b[0m\u001b[1;32m      3\u001b[0m                        \u001b[0mplot_micro\u001b[0m\u001b[0;34m=\u001b[0m\u001b[0;32mTrue\u001b[0m\u001b[0;34m,\u001b[0m\u001b[0;34m\u001b[0m\u001b[0;34m\u001b[0m\u001b[0m\n\u001b[1;32m      4\u001b[0m                        title_fontsize=20, text_fontsize=16, cmap=cmap, ax=ax)\n\u001b[1;32m      5\u001b[0m \u001b[0max\u001b[0m\u001b[0;34m.\u001b[0m\u001b[0mlegend\u001b[0m\u001b[0;34m(\u001b[0m\u001b[0mloc\u001b[0m\u001b[0;34m=\u001b[0m\u001b[0;34m[\u001b[0m\u001b[0;36m1.1\u001b[0m\u001b[0;34m,\u001b[0m\u001b[0;36m0\u001b[0m\u001b[0;34m]\u001b[0m\u001b[0;34m)\u001b[0m\u001b[0;34m\u001b[0m\u001b[0;34m\u001b[0m\u001b[0m\n",
      "\u001b[0;32m~/opt/anaconda3/envs/textacy/lib/python3.8/site-packages/scikitplot/metrics.py\u001b[0m in \u001b[0;36mplot_precision_recall\u001b[0;34m(y_true, y_probas, title, plot_micro, classes_to_plot, ax, figsize, cmap, title_fontsize, text_fontsize)\u001b[0m\n\u001b[1;32m    772\u001b[0m \u001b[0;34m\u001b[0m\u001b[0m\n\u001b[1;32m    773\u001b[0m     \u001b[0;32mif\u001b[0m \u001b[0mplot_micro\u001b[0m\u001b[0;34m:\u001b[0m\u001b[0;34m\u001b[0m\u001b[0;34m\u001b[0m\u001b[0m\n\u001b[0;32m--> 774\u001b[0;31m         precision, recall, _ = precision_recall_curve(\n\u001b[0m\u001b[1;32m    775\u001b[0m             binarized_y_true.ravel(), probas.ravel())\n\u001b[1;32m    776\u001b[0m         average_precision = average_precision_score(binarized_y_true,\n",
      "\u001b[0;32m~/opt/anaconda3/envs/textacy/lib/python3.8/site-packages/sklearn/metrics/_ranking.py\u001b[0m in \u001b[0;36mprecision_recall_curve\u001b[0;34m(y_true, probas_pred, pos_label, sample_weight)\u001b[0m\n\u001b[1;32m    669\u001b[0m \u001b[0;34m\u001b[0m\u001b[0m\n\u001b[1;32m    670\u001b[0m     \"\"\"\n\u001b[0;32m--> 671\u001b[0;31m     fps, tps, thresholds = _binary_clf_curve(y_true, probas_pred,\n\u001b[0m\u001b[1;32m    672\u001b[0m                                              \u001b[0mpos_label\u001b[0m\u001b[0;34m=\u001b[0m\u001b[0mpos_label\u001b[0m\u001b[0;34m,\u001b[0m\u001b[0;34m\u001b[0m\u001b[0;34m\u001b[0m\u001b[0m\n\u001b[1;32m    673\u001b[0m                                              sample_weight=sample_weight)\n",
      "\u001b[0;32m~/opt/anaconda3/envs/textacy/lib/python3.8/site-packages/sklearn/metrics/_ranking.py\u001b[0m in \u001b[0;36m_binary_clf_curve\u001b[0;34m(y_true, y_score, pos_label, sample_weight)\u001b[0m\n\u001b[1;32m    536\u001b[0m         \u001b[0;32mraise\u001b[0m \u001b[0mValueError\u001b[0m\u001b[0;34m(\u001b[0m\u001b[0;34m\"{0} format is not supported\"\u001b[0m\u001b[0;34m.\u001b[0m\u001b[0mformat\u001b[0m\u001b[0;34m(\u001b[0m\u001b[0my_type\u001b[0m\u001b[0;34m)\u001b[0m\u001b[0;34m)\u001b[0m\u001b[0;34m\u001b[0m\u001b[0;34m\u001b[0m\u001b[0m\n\u001b[1;32m    537\u001b[0m \u001b[0;34m\u001b[0m\u001b[0m\n\u001b[0;32m--> 538\u001b[0;31m     \u001b[0mcheck_consistent_length\u001b[0m\u001b[0;34m(\u001b[0m\u001b[0my_true\u001b[0m\u001b[0;34m,\u001b[0m \u001b[0my_score\u001b[0m\u001b[0;34m,\u001b[0m \u001b[0msample_weight\u001b[0m\u001b[0;34m)\u001b[0m\u001b[0;34m\u001b[0m\u001b[0;34m\u001b[0m\u001b[0m\n\u001b[0m\u001b[1;32m    539\u001b[0m     \u001b[0my_true\u001b[0m \u001b[0;34m=\u001b[0m \u001b[0mcolumn_or_1d\u001b[0m\u001b[0;34m(\u001b[0m\u001b[0my_true\u001b[0m\u001b[0;34m)\u001b[0m\u001b[0;34m\u001b[0m\u001b[0;34m\u001b[0m\u001b[0m\n\u001b[1;32m    540\u001b[0m     \u001b[0my_score\u001b[0m \u001b[0;34m=\u001b[0m \u001b[0mcolumn_or_1d\u001b[0m\u001b[0;34m(\u001b[0m\u001b[0my_score\u001b[0m\u001b[0;34m)\u001b[0m\u001b[0;34m\u001b[0m\u001b[0;34m\u001b[0m\u001b[0m\n",
      "\u001b[0;32m~/opt/anaconda3/envs/textacy/lib/python3.8/site-packages/sklearn/utils/validation.py\u001b[0m in \u001b[0;36mcheck_consistent_length\u001b[0;34m(*arrays)\u001b[0m\n\u001b[1;32m    209\u001b[0m     \u001b[0muniques\u001b[0m \u001b[0;34m=\u001b[0m \u001b[0mnp\u001b[0m\u001b[0;34m.\u001b[0m\u001b[0munique\u001b[0m\u001b[0;34m(\u001b[0m\u001b[0mlengths\u001b[0m\u001b[0;34m)\u001b[0m\u001b[0;34m\u001b[0m\u001b[0;34m\u001b[0m\u001b[0m\n\u001b[1;32m    210\u001b[0m     \u001b[0;32mif\u001b[0m \u001b[0mlen\u001b[0m\u001b[0;34m(\u001b[0m\u001b[0muniques\u001b[0m\u001b[0;34m)\u001b[0m \u001b[0;34m>\u001b[0m \u001b[0;36m1\u001b[0m\u001b[0;34m:\u001b[0m\u001b[0;34m\u001b[0m\u001b[0;34m\u001b[0m\u001b[0m\n\u001b[0;32m--> 211\u001b[0;31m         raise ValueError(\"Found input variables with inconsistent numbers of\"\n\u001b[0m\u001b[1;32m    212\u001b[0m                          \" samples: %r\" % [int(l) for l in lengths])\n\u001b[1;32m    213\u001b[0m \u001b[0;34m\u001b[0m\u001b[0m\n",
      "\u001b[0;31mValueError\u001b[0m: Found input variables with inconsistent numbers of samples: [1400, 2100]"
     ]
    },
    {
     "data": {
      "image/png": "[encoded data removed]",
      "text/plain": [
       "<Figure size 576x432 with 1 Axes>"
      ]
     },
     "metadata": {
      "image/png": {
       "height": 378,
       "width": 483
      },
      "needs_background": "light"
     },
     "output_type": "display_data"
    }
   ],
   "source": [
    "fig, ax = plot_f1_lines()\n",
    "skplt.metrics.plot_precision_recall(y_test, probabilities, \n",
    "                       plot_micro=True, \n",
    "                       title_fontsize=20, text_fontsize=16, cmap=cmap, ax=ax)\n",
    "ax.legend(loc=[1.1,0])\n",
    "plt.show()"
   ]
  },
  {
   "cell_type": "code",
   "execution_count": 213,
   "metadata": {
    "ExecuteTime": {
     "end_time": "2020-05-15T15:38:38.987366Z",
     "start_time": "2020-05-15T15:38:38.980301Z"
    }
   },
   "outputs": [],
   "source": [
    "# label binarizer - not sure if needed?\n",
    "y_bin = label_binarize(y_test, lreg_final.classes_)"
   ]
  },
  {
   "cell_type": "code",
   "execution_count": 214,
   "metadata": {
    "ExecuteTime": {
     "end_time": "2020-05-15T15:38:39.610079Z",
     "start_time": "2020-05-15T15:38:39.592419Z"
    }
   },
   "outputs": [
    {
     "name": "stdout",
     "output_type": "stream",
     "text": [
      "Area under precision-recall curve:\n",
      "Class 0: 0.7305\n",
      "Class 1: 0.7964\n",
      "Class 2: 0.6898\n"
     ]
    }
   ],
   "source": [
    "print('Area under precision-recall curve:')\n",
    "for i, class_ in enumerate(lreg_final.classes_):\n",
    "    print('Class {}:'.format(class_), round(average_precision_score(y_bin[:,i],lreg_final.predict_proba(X_test)[:,i]),4))"
   ]
  },
  {
   "cell_type": "markdown",
   "metadata": {},
   "source": [
    "## ROC Plot"
   ]
  },
  {
   "cell_type": "code",
   "execution_count": 215,
   "metadata": {
    "ExecuteTime": {
     "end_time": "2020-05-15T15:38:41.248082Z",
     "start_time": "2020-05-15T15:38:40.872000Z"
    }
   },
   "outputs": [
    {
     "data": {
      "image/png": "[encoded data removed]",
      "text/plain": [
       "<Figure size 576x576 with 1 Axes>"
      ]
     },
     "metadata": {
      "image/png": {
       "height": 512,
       "width": 525
      },
      "needs_background": "light"
     },
     "output_type": "display_data"
    }
   ],
   "source": [
    "skplt.metrics.plot_roc(y_test, probabilities, plot_micro=True, plot_macro=True, \n",
    "                       title_fontsize=20, text_fontsize=16, figsize=(8,8), cmap=cmap)\n",
    "plt.show()"
   ]
  },
  {
   "cell_type": "code",
   "execution_count": 216,
   "metadata": {
    "ExecuteTime": {
     "end_time": "2020-05-15T15:38:42.508906Z",
     "start_time": "2020-05-15T15:38:42.487059Z"
    }
   },
   "outputs": [
    {
     "name": "stdout",
     "output_type": "stream",
     "text": [
      "Area under ROC curve (ROC-AUC):\n",
      "Class 0: 0.84\n",
      "Class 1: 0.85\n",
      "Class 2: 0.85\n"
     ]
    }
   ],
   "source": [
    "print('Area under ROC curve (ROC-AUC):')\n",
    "for i, class_ in enumerate(lreg_final.classes_):\n",
    "    print('Class {}:'.format(class_), round(roc_auc_score(y_bin[:,i],lreg_final.predict_proba(X_test)[:,i]),2))"
   ]
  },
  {
   "cell_type": "code",
   "execution_count": 217,
   "metadata": {
    "ExecuteTime": {
     "end_time": "2020-05-15T15:38:43.593160Z",
     "start_time": "2020-05-15T15:38:43.571281Z"
    }
   },
   "outputs": [
    {
     "data": {
      "text/plain": [
       "(array([0.        , 0.        , 0.        , 0.00143062, 0.00143062,\n",
       "        0.00286123, 0.00286123, 0.00572246, 0.00572246, 0.00715308,\n",
       "        0.00715308, 0.00858369, 0.00858369, 0.01144492, 0.01144492,\n",
       "        0.01287554, 0.01287554, 0.01430615, 0.01430615, 0.01573677,\n",
       "        0.01573677, 0.01716738, 0.01716738, 0.02002861, 0.02002861,\n",
       "        0.02145923, 0.02145923, 0.02288984, 0.02288984, 0.02432046,\n",
       "        0.02432046, 0.02575107, 0.02575107, 0.02718169, 0.02718169,\n",
       "        0.03433476, 0.03433476, 0.03576538, 0.03576538, 0.03719599,\n",
       "        0.03719599, 0.03862661, 0.03862661, 0.04005722, 0.04005722,\n",
       "        0.04148784, 0.04148784, 0.0472103 , 0.0472103 , 0.04864092,\n",
       "        0.04864092, 0.05007153, 0.05007153, 0.05293276, 0.05293276,\n",
       "        0.05436338, 0.05436338, 0.05579399, 0.05579399, 0.05722461,\n",
       "        0.05722461, 0.05865522, 0.05865522, 0.06008584, 0.06008584,\n",
       "        0.06151645, 0.06151645, 0.06294707, 0.06294707, 0.06437768,\n",
       "        0.06437768, 0.0658083 , 0.0658083 , 0.06723891, 0.06723891,\n",
       "        0.07153076, 0.07153076, 0.07296137, 0.07296137, 0.07725322,\n",
       "        0.07725322, 0.07868383, 0.07868383, 0.08011445, 0.08011445,\n",
       "        0.08154506, 0.08154506, 0.08297568, 0.08297568, 0.08726753,\n",
       "        0.08726753, 0.08869814, 0.08869814, 0.09012876, 0.09012876,\n",
       "        0.09155937, 0.09155937, 0.09298999, 0.09298999, 0.0944206 ,\n",
       "        0.0944206 , 0.09728183, 0.09728183, 0.09871245, 0.09871245,\n",
       "        0.10157368, 0.10157368, 0.10300429, 0.10300429, 0.10586552,\n",
       "        0.10586552, 0.10729614, 0.10729614, 0.10872675, 0.10872675,\n",
       "        0.1130186 , 0.1130186 , 0.11444921, 0.11444921, 0.11874106,\n",
       "        0.11874106, 0.12017167, 0.12017167, 0.12160229, 0.12160229,\n",
       "        0.1230329 , 0.1230329 , 0.12446352, 0.12446352, 0.13018598,\n",
       "        0.13018598, 0.13304721, 0.13304721, 0.13447783, 0.13447783,\n",
       "        0.13590844, 0.13590844, 0.13876967, 0.13876967, 0.14306152,\n",
       "        0.14306152, 0.14592275, 0.14592275, 0.14878398, 0.14878398,\n",
       "        0.15450644, 0.15450644, 0.16309013, 0.16309013, 0.16595136,\n",
       "        0.16595136, 0.16738197, 0.16738197, 0.17310443, 0.17310443,\n",
       "        0.17453505, 0.17453505, 0.18741059, 0.18741059, 0.19027182,\n",
       "        0.19027182, 0.20028612, 0.20028612, 0.20171674, 0.20171674,\n",
       "        0.2074392 , 0.2074392 , 0.21030043, 0.21030043, 0.21316166,\n",
       "        0.21316166, 0.21745351, 0.21745351, 0.21888412, 0.21888412,\n",
       "        0.22317597, 0.22317597, 0.23891273, 0.23891273, 0.24177396,\n",
       "        0.24177396, 0.24749642, 0.24749642, 0.25321888, 0.25321888,\n",
       "        0.25608011, 0.25608011, 0.26323319, 0.26323319, 0.26609442,\n",
       "        0.26609442, 0.27038627, 0.27038627, 0.2732475 , 0.2732475 ,\n",
       "        0.27610873, 0.27610873, 0.27896996, 0.27896996, 0.28755365,\n",
       "        0.28755365, 0.29327611, 0.29327611, 0.29613734, 0.29613734,\n",
       "        0.29899857, 0.29899857, 0.30329041, 0.30329041, 0.31044349,\n",
       "        0.31044349, 0.31330472, 0.31330472, 0.31473534, 0.31473534,\n",
       "        0.31616595, 0.31616595, 0.31902718, 0.31902718, 0.3204578 ,\n",
       "        0.3204578 , 0.32188841, 0.32188841, 0.32761087, 0.32761087,\n",
       "        0.33905579, 0.33905579, 0.34191702, 0.34191702, 0.34334764,\n",
       "        0.34334764, 0.3490701 , 0.3490701 , 0.35050072, 0.35050072,\n",
       "        0.36051502, 0.36051502, 0.37195994, 0.37195994, 0.39055794,\n",
       "        0.39055794, 0.39341917, 0.39341917, 0.3962804 , 0.3962804 ,\n",
       "        0.39771102, 0.39771102, 0.40057225, 0.40057225, 0.41344778,\n",
       "        0.41344778, 0.41773963, 0.41773963, 0.43633763, 0.43633763,\n",
       "        0.43919886, 0.43919886, 0.44062947, 0.44062947, 0.45779685,\n",
       "        0.45779685, 0.45922747, 0.45922747, 0.46494993, 0.46494993,\n",
       "        0.46638054, 0.46638054, 0.47496423, 0.47496423, 0.48211731,\n",
       "        0.48211731, 0.50357654, 0.50357654, 0.51072961, 0.51072961,\n",
       "        0.51502146, 0.51502146, 0.51645207, 0.51645207, 0.527897  ,\n",
       "        0.527897  , 0.54506438, 0.54506438, 0.5565093 , 0.5565093 ,\n",
       "        0.58655222, 0.58655222, 0.59656652, 0.59656652, 0.60944206,\n",
       "        0.60944206, 0.61945637, 0.61945637, 0.62804006, 0.62804006,\n",
       "        0.64663805, 0.64663805, 0.67811159, 0.67811159, 0.68097282,\n",
       "        0.68097282, 0.68240343, 0.68240343, 0.69670959, 0.69670959,\n",
       "        0.73533619, 0.73533619, 0.82260372, 0.82260372, 0.84692418,\n",
       "        0.84692418, 0.86552217, 0.86552217, 0.8769671 , 0.8769671 ,\n",
       "        0.95851216, 0.95851216, 0.96280401, 0.96280401, 0.98998569,\n",
       "        0.98998569, 1.        ]),\n",
       " array([0.        , 0.00284091, 0.01704545, 0.01704545, 0.07102273,\n",
       "        0.07102273, 0.11363636, 0.11363636, 0.15625   , 0.15625   ,\n",
       "        0.16761364, 0.16761364, 0.17045455, 0.17045455, 0.18181818,\n",
       "        0.18181818, 0.19034091, 0.19034091, 0.19318182, 0.19318182,\n",
       "        0.19886364, 0.19886364, 0.20170455, 0.20170455, 0.21590909,\n",
       "        0.21590909, 0.22443182, 0.22443182, 0.22727273, 0.22727273,\n",
       "        0.23863636, 0.23863636, 0.25284091, 0.25284091, 0.28409091,\n",
       "        0.28409091, 0.28977273, 0.28977273, 0.29261364, 0.29261364,\n",
       "        0.29545455, 0.29545455, 0.30397727, 0.30397727, 0.30681818,\n",
       "        0.30681818, 0.30965909, 0.30965909, 0.3125    , 0.3125    ,\n",
       "        0.32954545, 0.32954545, 0.34375   , 0.34375   , 0.36363636,\n",
       "        0.36363636, 0.37784091, 0.37784091, 0.38352273, 0.38352273,\n",
       "        0.40056818, 0.40056818, 0.40340909, 0.40340909, 0.40909091,\n",
       "        0.40909091, 0.41193182, 0.41193182, 0.42329545, 0.42329545,\n",
       "        0.43181818, 0.43181818, 0.43465909, 0.43465909, 0.44034091,\n",
       "        0.44034091, 0.44886364, 0.44886364, 0.46022727, 0.46022727,\n",
       "        0.46590909, 0.46590909, 0.46875   , 0.46875   , 0.50568182,\n",
       "        0.50568182, 0.50852273, 0.50852273, 0.51704545, 0.51704545,\n",
       "        0.52272727, 0.52272727, 0.53125   , 0.53125   , 0.53693182,\n",
       "        0.53693182, 0.53977273, 0.53977273, 0.54545455, 0.54545455,\n",
       "        0.54829545, 0.54829545, 0.55113636, 0.55113636, 0.55397727,\n",
       "        0.55397727, 0.56534091, 0.56534091, 0.56818182, 0.56818182,\n",
       "        0.57670455, 0.57670455, 0.58522727, 0.58522727, 0.58806818,\n",
       "        0.58806818, 0.59090909, 0.59090909, 0.59375   , 0.59375   ,\n",
       "        0.59659091, 0.59659091, 0.61079545, 0.61079545, 0.61647727,\n",
       "        0.61647727, 0.62215909, 0.62215909, 0.625     , 0.625     ,\n",
       "        0.63920455, 0.63920455, 0.64204545, 0.64204545, 0.64772727,\n",
       "        0.64772727, 0.65056818, 0.65056818, 0.65909091, 0.65909091,\n",
       "        0.66193182, 0.66193182, 0.66761364, 0.66761364, 0.67329545,\n",
       "        0.67329545, 0.67897727, 0.67897727, 0.68181818, 0.68181818,\n",
       "        0.71022727, 0.71022727, 0.71875   , 0.71875   , 0.72443182,\n",
       "        0.72443182, 0.72727273, 0.72727273, 0.73011364, 0.73011364,\n",
       "        0.73295455, 0.73295455, 0.73579545, 0.73579545, 0.73863636,\n",
       "        0.73863636, 0.74147727, 0.74147727, 0.74431818, 0.74431818,\n",
       "        0.74715909, 0.74715909, 0.75284091, 0.75284091, 0.75568182,\n",
       "        0.75568182, 0.76136364, 0.76136364, 0.76704545, 0.76704545,\n",
       "        0.77272727, 0.77272727, 0.78125   , 0.78125   , 0.78409091,\n",
       "        0.78409091, 0.78977273, 0.78977273, 0.79261364, 0.79261364,\n",
       "        0.79545455, 0.79545455, 0.80113636, 0.80113636, 0.80681818,\n",
       "        0.80681818, 0.80965909, 0.80965909, 0.8125    , 0.8125    ,\n",
       "        0.81534091, 0.81534091, 0.81818182, 0.81818182, 0.82102273,\n",
       "        0.82102273, 0.82386364, 0.82386364, 0.82670455, 0.82670455,\n",
       "        0.82954545, 0.82954545, 0.83238636, 0.83238636, 0.83522727,\n",
       "        0.83522727, 0.83806818, 0.83806818, 0.84090909, 0.84090909,\n",
       "        0.84375   , 0.84375   , 0.84659091, 0.84659091, 0.84943182,\n",
       "        0.84943182, 0.85227273, 0.85227273, 0.85511364, 0.85511364,\n",
       "        0.85795455, 0.85795455, 0.86079545, 0.86079545, 0.86363636,\n",
       "        0.86363636, 0.86647727, 0.86647727, 0.87215909, 0.87215909,\n",
       "        0.875     , 0.875     , 0.87784091, 0.87784091, 0.88068182,\n",
       "        0.88068182, 0.88352273, 0.88352273, 0.88636364, 0.88636364,\n",
       "        0.88920455, 0.88920455, 0.89772727, 0.89772727, 0.90056818,\n",
       "        0.90056818, 0.90340909, 0.90340909, 0.90625   , 0.90625   ,\n",
       "        0.90909091, 0.90909091, 0.91193182, 0.91193182, 0.91477273,\n",
       "        0.91477273, 0.91761364, 0.91761364, 0.92045455, 0.92045455,\n",
       "        0.92329545, 0.92329545, 0.92613636, 0.92613636, 0.92897727,\n",
       "        0.92897727, 0.93181818, 0.93181818, 0.93465909, 0.93465909,\n",
       "        0.9375    , 0.9375    , 0.94034091, 0.94034091, 0.94318182,\n",
       "        0.94318182, 0.94602273, 0.94602273, 0.94886364, 0.94886364,\n",
       "        0.95170455, 0.95170455, 0.95738636, 0.95738636, 0.96306818,\n",
       "        0.96306818, 0.96590909, 0.96590909, 0.96875   , 0.96875   ,\n",
       "        0.97159091, 0.97159091, 0.97443182, 0.97443182, 0.97727273,\n",
       "        0.97727273, 0.98011364, 0.98011364, 0.98295455, 0.98295455,\n",
       "        0.98579545, 0.98579545, 0.98863636, 0.98863636, 0.99147727,\n",
       "        0.99147727, 0.99431818, 0.99431818, 0.99715909, 0.99715909,\n",
       "        1.        , 1.        ]),\n",
       " array([1.97341075e+00, 9.73410753e-01, 9.43449565e-01, 9.21509833e-01,\n",
       "        8.59654416e-01, 8.59502884e-01, 8.33499840e-01, 8.31938524e-01,\n",
       "        8.04834446e-01, 8.03421288e-01, 7.96496918e-01, 7.93626278e-01,\n",
       "        7.93514198e-01, 7.92774141e-01, 7.89048316e-01, 7.88011540e-01,\n",
       "        7.84030324e-01, 7.83403622e-01, 7.80102064e-01, 7.78083177e-01,\n",
       "        7.76950708e-01, 7.75644320e-01, 7.74786231e-01, 7.73519686e-01,\n",
       "        7.66298810e-01, 7.64291299e-01, 7.58795952e-01, 7.55539271e-01,\n",
       "        7.55046622e-01, 7.54711740e-01, 7.47642427e-01, 7.47419359e-01,\n",
       "        7.40401936e-01, 7.39143535e-01, 7.18659099e-01, 7.13076921e-01,\n",
       "        7.10993060e-01, 7.10155032e-01, 7.09960718e-01, 7.07990144e-01,\n",
       "        7.07105299e-01, 7.06472321e-01, 7.02092058e-01, 7.01045145e-01,\n",
       "        6.98821739e-01, 6.96792377e-01, 6.94479153e-01, 6.93314869e-01,\n",
       "        6.91401661e-01, 6.89849089e-01, 6.86365576e-01, 6.85926151e-01,\n",
       "        6.79122160e-01, 6.77501270e-01, 6.62564665e-01, 6.61964101e-01,\n",
       "        6.59307379e-01, 6.57647461e-01, 6.55738860e-01, 6.55540791e-01,\n",
       "        6.44837300e-01, 6.43960647e-01, 6.43767857e-01, 6.43313306e-01,\n",
       "        6.42953885e-01, 6.41809864e-01, 6.39517525e-01, 6.38966299e-01,\n",
       "        6.35664515e-01, 6.33910771e-01, 6.28746046e-01, 6.27238498e-01,\n",
       "        6.26961415e-01, 6.25998153e-01, 6.19858958e-01, 6.16157006e-01,\n",
       "        6.13394552e-01, 6.11720546e-01, 6.04457177e-01, 6.00026557e-01,\n",
       "        5.97982923e-01, 5.97701500e-01, 5.97467986e-01, 5.92108882e-01,\n",
       "        5.72421029e-01, 5.72079075e-01, 5.70907287e-01, 5.70538229e-01,\n",
       "        5.67738911e-01, 5.62720967e-01, 5.61704129e-01, 5.60784825e-01,\n",
       "        5.59805263e-01, 5.58901090e-01, 5.57490466e-01, 5.57190822e-01,\n",
       "        5.56710326e-01, 5.56530999e-01, 5.56203433e-01, 5.54460302e-01,\n",
       "        5.52669041e-01, 5.49391750e-01, 5.47233368e-01, 5.45292730e-01,\n",
       "        5.43230364e-01, 5.39660424e-01, 5.33903820e-01, 5.32585667e-01,\n",
       "        5.31424867e-01, 5.31330686e-01, 5.28259924e-01, 5.26368232e-01,\n",
       "        5.24263439e-01, 5.21597271e-01, 5.20205268e-01, 5.18748174e-01,\n",
       "        5.18210552e-01, 5.17524708e-01, 5.17297736e-01, 5.15887783e-01,\n",
       "        5.15751363e-01, 5.15522507e-01, 5.07205697e-01, 5.06691610e-01,\n",
       "        5.04575082e-01, 5.03341238e-01, 5.02800289e-01, 4.98633705e-01,\n",
       "        4.98395531e-01, 4.96855983e-01, 4.91373030e-01, 4.85581973e-01,\n",
       "        4.85455982e-01, 4.85009494e-01, 4.82956003e-01, 4.81514520e-01,\n",
       "        4.81439748e-01, 4.80445890e-01, 4.78954466e-01, 4.77184640e-01,\n",
       "        4.75927570e-01, 4.74089051e-01, 4.72136259e-01, 4.71183813e-01,\n",
       "        4.70435490e-01, 4.62096522e-01, 4.58119188e-01, 4.54318169e-01,\n",
       "        4.54004758e-01, 4.52130772e-01, 4.45273874e-01, 4.42474949e-01,\n",
       "        4.34447460e-01, 4.30612458e-01, 4.26988815e-01, 4.25322290e-01,\n",
       "        4.24903324e-01, 4.03125112e-01, 4.03117488e-01, 4.01895083e-01,\n",
       "        4.00671536e-01, 3.97266450e-01, 3.96484109e-01, 3.96397142e-01,\n",
       "        3.96158336e-01, 3.93326493e-01, 3.91950858e-01, 3.88765311e-01,\n",
       "        3.88359795e-01, 3.86792768e-01, 3.86080484e-01, 3.78610317e-01,\n",
       "        3.76288232e-01, 3.76169852e-01, 3.75897456e-01, 3.73874641e-01,\n",
       "        3.73412186e-01, 3.61168708e-01, 3.60308713e-01, 3.57155641e-01,\n",
       "        3.55636163e-01, 3.50590476e-01, 3.47186644e-01, 3.46086146e-01,\n",
       "        3.45658670e-01, 3.44958622e-01, 3.44737754e-01, 3.42758899e-01,\n",
       "        3.41767883e-01, 3.40988548e-01, 3.39662043e-01, 3.37585680e-01,\n",
       "        3.34433128e-01, 3.34183269e-01, 3.32999910e-01, 3.27709662e-01,\n",
       "        3.26292467e-01, 3.25949153e-01, 3.24079505e-01, 3.18399212e-01,\n",
       "        3.17026219e-01, 3.14779611e-01, 3.13250747e-01, 3.13072849e-01,\n",
       "        3.11864267e-01, 3.09970507e-01, 3.09396863e-01, 3.08109718e-01,\n",
       "        3.07974211e-01, 3.03933525e-01, 3.03421637e-01, 3.01465224e-01,\n",
       "        3.00918238e-01, 3.00197988e-01, 2.99410748e-01, 2.97851223e-01,\n",
       "        2.96804529e-01, 2.93354161e-01, 2.92755099e-01, 2.92625899e-01,\n",
       "        2.92268140e-01, 2.91798834e-01, 2.91150373e-01, 2.84397809e-01,\n",
       "        2.84077534e-01, 2.77905363e-01, 2.77293942e-01, 2.73570690e-01,\n",
       "        2.73256024e-01, 2.72750837e-01, 2.71598269e-01, 2.67223787e-01,\n",
       "        2.65961335e-01, 2.65395004e-01, 2.64927609e-01, 2.59965819e-01,\n",
       "        2.59950349e-01, 2.52532498e-01, 2.50456262e-01, 2.34345309e-01,\n",
       "        2.33384590e-01, 2.31668194e-01, 2.31351265e-01, 2.30274289e-01,\n",
       "        2.28867041e-01, 2.28763816e-01, 2.28659646e-01, 2.27432974e-01,\n",
       "        2.26923129e-01, 2.20873738e-01, 2.19545655e-01, 2.15358112e-01,\n",
       "        2.14165312e-01, 2.05018345e-01, 2.04372732e-01, 2.03517961e-01,\n",
       "        2.02583049e-01, 2.01084492e-01, 2.00990867e-01, 1.91427580e-01,\n",
       "        1.89806163e-01, 1.89469929e-01, 1.88459558e-01, 1.87049355e-01,\n",
       "        1.86321764e-01, 1.85776894e-01, 1.84094310e-01, 1.81713072e-01,\n",
       "        1.81521600e-01, 1.78466114e-01, 1.78167581e-01, 1.60281843e-01,\n",
       "        1.59738756e-01, 1.54817351e-01, 1.54710303e-01, 1.51412819e-01,\n",
       "        1.50288692e-01, 1.50255800e-01, 1.49947231e-01, 1.47854777e-01,\n",
       "        1.46722182e-01, 1.41361636e-01, 1.40685287e-01, 1.32896004e-01,\n",
       "        1.32657880e-01, 1.22279149e-01, 1.21931029e-01, 1.18331191e-01,\n",
       "        1.17851175e-01, 1.08390950e-01, 1.07031932e-01, 1.03709808e-01,\n",
       "        1.03003987e-01, 9.99538641e-02, 9.91987296e-02, 9.09213502e-02,\n",
       "        9.05177372e-02, 7.93286407e-02, 7.86325522e-02, 7.80265256e-02,\n",
       "        7.79796943e-02, 7.76744344e-02, 7.72681684e-02, 7.46302581e-02,\n",
       "        7.36743379e-02, 6.09918208e-02, 6.08381161e-02, 3.70168298e-02,\n",
       "        3.68796449e-02, 3.06702046e-02, 3.06070960e-02, 2.66964063e-02,\n",
       "        2.59571628e-02, 2.40470187e-02, 2.39874264e-02, 8.94971618e-03,\n",
       "        8.74460292e-03, 8.25893968e-03, 8.04607062e-03, 3.31907472e-03,\n",
       "        3.17462781e-03, 1.95568049e-04]))"
      ]
     },
     "execution_count": 217,
     "metadata": {},
     "output_type": "execute_result"
    }
   ],
   "source": [
    "skplt.metrics.roc_curve(y_test==0, probabilities[:,0])"
   ]
  },
  {
   "cell_type": "code",
   "execution_count": null,
   "metadata": {},
   "outputs": [],
   "source": []
  }
 ],
 "metadata": {
  "kernelspec": {
   "display_name": "textacy",
   "language": "python",
   "name": "textacy"
  },
  "language_info": {
   "codemirror_mode": {
    "name": "ipython",
    "version": 3
   },
   "file_extension": ".py",
   "mimetype": "text/x-python",
   "name": "python",
   "nbconvert_exporter": "python",
   "pygments_lexer": "ipython3",
   "version": "3.8.2"
  }
 },
 "nbformat": 4,
 "nbformat_minor": 2
}
